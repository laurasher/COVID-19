{
 "cells": [
  {
   "cell_type": "code",
   "execution_count": 8,
   "metadata": {},
   "outputs": [
    {
     "data": {
      "text/html": [
       "        <script type=\"text/javascript\">\n",
       "        window.PlotlyConfig = {MathJaxConfig: 'local'};\n",
       "        if (window.MathJax) {MathJax.Hub.Config({SVG: {font: \"STIX-Web\"}});}\n",
       "        if (typeof require !== 'undefined') {\n",
       "        require.undef(\"plotly\");\n",
       "        requirejs.config({\n",
       "            paths: {\n",
       "                'plotly': ['https://cdn.plot.ly/plotly-latest.min']\n",
       "            }\n",
       "        });\n",
       "        require(['plotly'], function(Plotly) {\n",
       "            window._Plotly = Plotly;\n",
       "        });\n",
       "        }\n",
       "        </script>\n",
       "        "
      ]
     },
     "metadata": {},
     "output_type": "display_data"
    }
   ],
   "source": [
    "import pandas as pd\n",
    "import numpy as np\n",
    "import datetime\n",
    "import reverse_geocode\n",
    "import plotly\n",
    "import plotly.graph_objs as go\n",
    "\n",
    "pd.set_option('display.max_columns', 500)\n",
    "plotly.offline.init_notebook_mode(connected=True)"
   ]
  },
  {
   "cell_type": "code",
   "execution_count": 9,
   "metadata": {},
   "outputs": [],
   "source": [
    "# Load data\n",
    "df_confirmed = pd.read_csv('https://raw.githubusercontent.com/CSSEGISandData/COVID-19/master/csse_covid_19_data/csse_covid_19_time_series/time_series_covid19_confirmed_global.csv')\n",
    "df_deaths = pd.read_csv('https://raw.githubusercontent.com/CSSEGISandData/COVID-19/master/csse_covid_19_data/csse_covid_19_time_series/time_series_covid19_deaths_global.csv')"
   ]
  },
  {
   "cell_type": "code",
   "execution_count": 10,
   "metadata": {},
   "outputs": [],
   "source": [
    "# Convert table\n",
    "def converttable(df):\n",
    "    cols=df.columns.tolist()\n",
    "    pd_list=[]\n",
    "    for i in range(5,df.shape[1]):\n",
    "        temp_cols=cols[:4]\n",
    "        temp_cols.append(cols[i])\n",
    "    # print(temp_cols)\n",
    "        temp_pd=df[temp_cols].copy()\n",
    "        temp_pd['dt']=cols[i]\n",
    "        temp_pd.rename(columns={cols[i]:'value'},inplace=True)\n",
    "        pd_list.append(temp_pd)\n",
    "    df_new=pd.concat(pd_list,axis=0,ignore_index=True)\n",
    "    return df_new\n",
    "\n",
    "df_confirmed_new = converttable(df_confirmed)\n",
    "df_deaths_new = converttable(df_deaths)"
   ]
  },
  {
   "cell_type": "code",
   "execution_count": 11,
   "metadata": {},
   "outputs": [],
   "source": [
    "# Change dates format\n",
    "df_confirmed_new['dt']=pd.to_datetime(df_confirmed_new['dt'])\n",
    "df_deaths_new['dt']=pd.to_datetime(df_deaths_new['dt'])"
   ]
  },
  {
   "cell_type": "code",
   "execution_count": 12,
   "metadata": {},
   "outputs": [],
   "source": [
    "# Rename cols\n",
    "df_confirmed_new.rename(columns = {'value': 'confirmed'}, inplace = True)\n",
    "df_deaths_new.rename(columns = {'value': 'deaths'}, inplace = True)"
   ]
  },
  {
   "cell_type": "code",
   "execution_count": 13,
   "metadata": {},
   "outputs": [],
   "source": [
    "# Merge two tables\n",
    "df_merged = df_confirmed_new.merge(df_deaths_new[['Province/State', 'Country/Region', 'dt', 'deaths']], \n",
    "                                   on = ['Province/State', 'Country/Region', 'dt'], \n",
    "                                   how = 'inner')\n",
    "df_merged = df_merged[['Province/State', 'Country/Region', 'Lat', 'Long', 'dt', 'confirmed', 'deaths']]\n",
    "#df_merged.head()"
   ]
  },
  {
   "cell_type": "code",
   "execution_count": 14,
   "metadata": {},
   "outputs": [],
   "source": [
    "# Extract and aggregate data for countries with provinces\n",
    "\n",
    "# US\n",
    "#df_us = df_merged[df_merged['Country/Region'] == 'US'].copy()\n",
    "#df_merged.drop(index = df_us.index, inplace = True)\n",
    "#us_agg = df_us.groupby(by = 'dt').sum().copy()\n",
    "#us_agg.reset_index(inplace = True)\n",
    "#us_agg['Lat'] = 37.0902\n",
    "#us_agg['Long'] = -95.7129\n",
    "#us_agg['Province/State'] = np.nan\n",
    "#us_agg['Country/Region'] = 'US'\n",
    "#df_merged = pd.concat([df_merged, us_agg], sort = False, ignore_index = True)\n",
    "\n",
    "# China\n",
    "df_china = df_merged[df_merged['Country/Region'] == 'China'].copy()\n",
    "df_merged.drop(index = df_china.index, inplace = True)\n",
    "china_agg = df_china.groupby(by = 'dt').sum()\n",
    "china_agg.reset_index(inplace = True)\n",
    "china_agg['Lat'] = 35.8617\n",
    "china_agg['Long'] = 104.1954\n",
    "china_agg['Province/State'] = np.nan\n",
    "china_agg['Country/Region'] = 'China'\n",
    "df_merged = pd.concat([df_merged, china_agg], sort = False, ignore_index = True)\n",
    "\n",
    "# Canada\n",
    "df_canada = df_merged[df_merged['Country/Region'] == 'Canada'].copy()\n",
    "df_merged.drop(index = df_canada.index, inplace = True)\n",
    "canada_agg = df_canada.groupby(by = 'dt').sum()\n",
    "canada_agg.reset_index(inplace = True)\n",
    "canada_agg['Lat'] = 56.1304\n",
    "canada_agg['Long'] = -106.3468\n",
    "canada_agg['Province/State'] = np.nan\n",
    "canada_agg['Country/Region'] = 'Canada'\n",
    "df_merged = pd.concat([df_merged, canada_agg], sort = False, ignore_index = True)\n",
    "\n",
    "# Australia\n",
    "df_aus = df_merged[df_merged['Country/Region'] == 'Australia'].copy()\n",
    "df_merged.drop(index = df_aus.index, inplace = True)\n",
    "aus_agg = df_aus.groupby(by = 'dt').sum()\n",
    "aus_agg.reset_index(inplace = True)\n",
    "aus_agg['Lat'] = -25.2744\n",
    "aus_agg['Long'] = 133.7751\n",
    "aus_agg['Province/State'] = np.nan\n",
    "aus_agg['Country/Region'] = 'Australia'\n",
    "df_merged = pd.concat([df_merged, aus_agg], sort = False, ignore_index = True)\n",
    "\n",
    "# France\n",
    "df_fra = df_merged[df_merged['Country/Region'] == 'France'].copy()\n",
    "df_merged.drop(index = df_fra.index, inplace = True)\n",
    "fra_agg = df_fra.groupby(by = 'dt').sum()\n",
    "fra_agg.reset_index(inplace = True)\n",
    "fra_agg['Lat'] = 46.2276\n",
    "fra_agg['Long'] = 2.2137\n",
    "fra_agg['Province/State'] = np.nan\n",
    "fra_agg['Country/Region'] = 'France'\n",
    "df_merged = pd.concat([df_merged, fra_agg], sort = False, ignore_index = True)\n",
    "\n",
    "# Denmark\n",
    "df_den = df_merged[df_merged['Country/Region'] == 'Denmark'].copy()\n",
    "df_merged.drop(index = df_den.index, inplace = True)\n",
    "den_agg = df_den.groupby(by = 'dt').sum()\n",
    "den_agg.reset_index(inplace = True)\n",
    "den_agg['Lat'] = 56.2639\n",
    "den_agg['Long'] = 9.5018\n",
    "den_agg['Province/State'] = np.nan\n",
    "den_agg['Country/Region'] = 'Denmark'\n",
    "df_merged = pd.concat([df_merged, den_agg], sort = False, ignore_index = True)\n",
    "\n",
    "# United Kingdom\n",
    "df_uk = df_merged[df_merged['Country/Region'] == 'United Kingdom'].copy()\n",
    "df_merged.drop(index = df_uk.index, inplace = True)\n",
    "uk_agg = df_uk.groupby(by = 'dt').sum()\n",
    "uk_agg.reset_index(inplace = True)\n",
    "uk_agg['Lat'] = 56.2639\n",
    "uk_agg['Long'] = 9.5018\n",
    "uk_agg['Province/State'] = np.nan\n",
    "uk_agg['Country/Region'] = 'United Kingdom'\n",
    "df_merged = pd.concat([df_merged, uk_agg], sort = False, ignore_index = True)\n",
    "\n",
    "# Netherlands\n",
    "df_net = df_merged[df_merged['Country/Region'] == 'Netherlands'].copy()\n",
    "df_merged.drop(index = df_net.index, inplace = True)\n",
    "net_agg = df_net.groupby(by = 'dt').sum()\n",
    "net_agg.reset_index(inplace = True)\n",
    "net_agg['Lat'] = 52.1326\n",
    "net_agg['Long'] = 5.2913\n",
    "net_agg['Province/State'] = np.nan\n",
    "net_agg['Country/Region'] = 'Netherlands'\n",
    "df_merged = pd.concat([df_merged, net_agg], sort = False, ignore_index = True)\n",
    "\n",
    "# Drop column province\n",
    "df_merged.drop(columns = ['Province/State'], inplace = True)"
   ]
  },
  {
   "cell_type": "code",
   "execution_count": 15,
   "metadata": {},
   "outputs": [],
   "source": [
    "# Days since\n",
    "\n",
    "# Sort dataset by date ascending\n",
    "df_merged.sort_values(by = 'dt', ascending = True, inplace = True)\n",
    "\n",
    "# List of countries\n",
    "country_list = df_merged['Country/Region'].unique().tolist()\n",
    "\n",
    "# Locate day first case for each country\n",
    "first_confirmed = []\n",
    "first_50confirmed = []\n",
    "first_10deaths = []\n",
    "    \n",
    "for c in country_list:\n",
    "    tmp = df_merged[df_merged['Country/Region'] == c].copy()\n",
    "    if (c == 'China'):\n",
    "        first_confirmed.append(pd.to_datetime('2019/12/31'))\n",
    "    else:\n",
    "        first_confirmed.append(tmp.loc[tmp.confirmed.ne(0).idxmax(), 'dt'])\n",
    "        \n",
    "    first_50confirmed.append(tmp.loc[(tmp.confirmed >= 50).idxmax(), 'dt'])\n",
    "    first_10deaths.append(tmp.loc[(tmp.deaths >= 10).idxmax(), 'dt'])\n",
    "        \n",
    "\n",
    "df_first = pd.DataFrame(data = {'Country/Region': country_list, \n",
    "                                'first_confirmed': first_confirmed,\n",
    "                                'first_50confirmed': first_50confirmed,\n",
    "                                'first_10deaths': first_10deaths,\n",
    "                               } \n",
    "                       )\n",
    "\n",
    "# Convert to datetime\n",
    "df_first['first_confirmed'] = pd.to_datetime(df_first['first_confirmed'])\n",
    "df_first['first_50confirmed'] = pd.to_datetime(df_first['first_50confirmed'])\n",
    "df_first['first_10deaths'] = pd.to_datetime(df_first['first_10deaths'])\n",
    "#df_first.head()\n",
    "\n",
    "# Merge firsts with main table\n",
    "df_merged = df_merged.merge(df_first, on = 'Country/Region', how = 'left')\n",
    "\n",
    "# Convert data type\n",
    "df_merged['dt'] = pd.to_datetime(df_merged['dt'])\n",
    "\n",
    "# Calculate days since\n",
    "df_merged['days_since_1st_conf'] = df_merged['dt'] - df_merged['first_confirmed']\n",
    "df_merged['days_since_50th_conf'] = df_merged['dt'] - df_merged['first_50confirmed']\n",
    "df_merged['days_since_10th_deaths'] = df_merged['dt'] - df_merged['first_10deaths']\n",
    "\n",
    "# Transform date units\n",
    "df_merged['days_since_1st_conf'] = df_merged['days_since_1st_conf'].dt.days\n",
    "df_merged['days_since_50th_conf'] = df_merged['days_since_50th_conf'].dt.days\n",
    "df_merged['days_since_10th_deaths'] = df_merged['days_since_10th_deaths'].dt.days\n",
    "\n",
    "# Drop intermediate columns\n",
    "#df_merged.drop(columns = ['first_confirmed', 'first_50confirmed', 'first_10deaths'], inplace = True)\n",
    "\n",
    "# Check\n",
    "#df_merged[df_merged['Country/Region'] == 'Germany'][['dt', 'confirmed', 'deaths', 'days_since_1st_conf',\n",
    "#                                                     'days_since_50th_conf', 'days_since_10th_deaths']]"
   ]
  },
  {
   "cell_type": "code",
   "execution_count": 16,
   "metadata": {},
   "outputs": [],
   "source": [
    "# Daily new cases (confirmed and deaths)\n",
    "\n",
    "# Sort values\n",
    "df_merged.sort_values(by = ['Country/Region', 'dt'], ascending = True, inplace = True)\n",
    "# Differences\n",
    "df_merged['confirmed_newcases'] = df_merged.groupby(by = ['Country/Region']).confirmed.diff()\n",
    "df_merged['deaths_newcases'] = df_merged.groupby(by = ['Country/Region']).deaths.diff()\n",
    "#df_merged[df_merged['Country/Region'] == 'Germany'][['dt', 'confirmed', 'confirmed_diff']]\n",
    "\n",
    "# Moving average\n",
    "\n",
    "# Create columns\n",
    "df_merged['confirmed_newcases_movavg'] = np.nan\n",
    "df_merged['deaths_newcases_movavg'] = np.nan\n",
    "# Number of days\n",
    "days_num = df_merged['dt'].unique().shape[0]\n",
    "\n",
    "for c in country_list:\n",
    "    \n",
    "    tmp = df_merged[df_merged['Country/Region'] == c].copy()\n",
    "    tmp = tmp.sort_values(by = 'dt').reset_index()\n",
    "    \n",
    "    for i in range(1, days_num-1):\n",
    "        \n",
    "        df_merged.loc[tmp.loc[i,'index'], 'confirmed_newcases_movavg'] = ((\n",
    "            tmp.loc[i-1, 'confirmed_newcases'] +\n",
    "            tmp.loc[i, 'confirmed_newcases'] +\n",
    "            tmp.loc[i+1, 'confirmed_newcases'] )/3) \n",
    "        \n",
    "        df_merged.loc[tmp.loc[i,'index'], 'deaths_newcases_movavg'] = ((\n",
    "            tmp.loc[i-1, 'deaths_newcases'] +\n",
    "            tmp.loc[i, 'deaths_newcases'] +\n",
    "            tmp.loc[i+1, 'deaths_newcases'] )/3)    \n",
    "        \n",
    "\n",
    "# Check\n",
    "#df_merged[df_merged['Country/Region'] == 'Germany'][['dt', 'confirmed', 'confirmed_newcases', \n",
    "#                                                     'confirmed_newcases_growth', \n",
    "#                                                     'confirmed_newcases_growth_movavg']]"
   ]
  },
  {
   "cell_type": "code",
   "execution_count": 17,
   "metadata": {},
   "outputs": [],
   "source": [
    "# New cases growth (new cases today divided by new cases yesterday)\n",
    "\n",
    "# Create columns\n",
    "df_merged['confirmed_newcases_growth'] = np.nan\n",
    "df_merged['deaths_newcases_growth'] = np.nan\n",
    "\n",
    "for c in country_list:\n",
    "    \n",
    "    tmp = df_merged[df_merged['Country/Region'] == c]\n",
    "    tmp = tmp.sort_values(by = 'dt').reset_index()\n",
    "    \n",
    "    for i in range(1, days_num):\n",
    "        if (tmp.loc[i-1, 'confirmed_newcases'] != 0):\n",
    "            df_merged.loc[tmp.loc[i,'index'] , 'confirmed_newcases_growth'] = (\n",
    "                tmp.loc[i, 'confirmed_newcases']/tmp.loc[i-1, 'confirmed_newcases'])\n",
    "        else:\n",
    "            df_merged.loc[tmp.loc[i,'index'] , 'confirmed_newcases_growth'] = np.nan\n",
    "        if (tmp.loc[i-1, 'deaths_newcases'] != 0):\n",
    "            df_merged.loc[tmp.loc[i,'index'] , 'deaths_newcases_growth'] = (\n",
    "                tmp.loc[i, 'deaths_newcases']/tmp.loc[i-1, 'deaths_newcases'])\n",
    "        else:\n",
    "            df_merged.loc[tmp.loc[i,'index'] , 'deaths_newcases_growth'] = np.nan\n",
    "        \n",
    "#df_merged[df_merged['Country/Region'] == 'Germany'][['dt', 'confirmed', 'confirmed_newcases', \n",
    "#                                                     'confirmed_newcases_growth']]\n",
    "\n",
    "# New cases growth moving average\n",
    "\n",
    "df_merged['confirmed_newcases_growth_movavg'] = np.nan\n",
    "#df_merged['deaths_newcases_growth_movavg'] = np.nan\n",
    "\n",
    "for c in country_list:\n",
    "    \n",
    "    tmp = df_merged[df_merged['Country/Region'] == c].copy()\n",
    "    tmp = tmp.sort_values(by = 'dt').reset_index()\n",
    "    \n",
    "    for i in range(2, days_num-2):\n",
    "        \n",
    "        df_merged.loc[tmp.loc[i,'index'], 'confirmed_newcases_growth_movavg'] = ((\n",
    "            tmp.loc[i-2, 'confirmed_newcases_growth'] +\n",
    "            tmp.loc[i-1, 'confirmed_newcases_growth'] +\n",
    "            tmp.loc[i, 'confirmed_newcases_growth'] +\n",
    "            tmp.loc[i+1, 'confirmed_newcases_growth'] +\n",
    "            tmp.loc[i+2, 'confirmed_newcases_growth'] )/5) \n",
    "        \n",
    "        #df_merged.loc[tmp.loc[i,'index'], 'deaths_newcases_growth_movavg'] = ((\n",
    "        #    tmp.loc[i-1, 'deaths_newcases_growth'] +\n",
    "        #    tmp.loc[i, 'deaths_newcases_growth'] +\n",
    "        #    tmp.loc[i+1, 'deaths_newcases_growth'] )/3)    \n",
    "        \n",
    "\n",
    "# Check\n",
    "#df_merged[df_merged['Country/Region'] == 'Germany'][['dt', 'confirmed', 'confirmed_newcases', \n",
    "#                                                     'confirmed_newcases_growth', \n",
    "#                                                     'confirmed_newcases_growth_movavg']]"
   ]
  },
  {
   "cell_type": "code",
   "execution_count": 18,
   "metadata": {},
   "outputs": [],
   "source": [
    "# Open population table\n",
    "df_pop = pd.read_csv('../data_tables/world_pop_by_country.csv')\n",
    "df_pop.rename(columns = {'Country Name': 'Country/Region', '2018': 'population_2018'}, inplace = True)\n",
    "\n",
    "# Merge population table\n",
    "df_merged = df_merged.merge(df_pop, on = 'Country/Region', how = 'left')\n",
    "\n",
    "#df_merged.sort_values('dt').head()"
   ]
  },
  {
   "cell_type": "code",
   "execution_count": 19,
   "metadata": {},
   "outputs": [],
   "source": [
    "# Cases by 100.000 hab.\n",
    "df_merged['confirmed_by100000pop'] = df_merged['confirmed']*100000/df_merged['population_2018']\n",
    "df_merged['deaths_by100000pop'] = df_merged['deaths']*100000/df_merged['population_2018']\n",
    "\n",
    "# Drop intermediate columns\n",
    "#df_merged.drop(columns = ['Country Code', 'population_2018'], inplace = True)\n",
    "df_merged.drop(columns = ['Country Code'], inplace = True)"
   ]
  },
  {
   "cell_type": "code",
   "execution_count": 20,
   "metadata": {},
   "outputs": [],
   "source": [
    "# Mortality rate\n",
    "df_merged['MortalityRate'] = df_merged['deaths']/df_merged['confirmed']"
   ]
  },
  {
   "cell_type": "code",
   "execution_count": 21,
   "metadata": {},
   "outputs": [],
   "source": [
    "# New cases by population\n",
    "\n",
    "# Sort values\n",
    "df_merged.sort_values(by = ['Country/Region', 'dt'], ascending = True, inplace = True)\n",
    "\n",
    "# Differences\n",
    "df_merged['confirmed_newcases_by100000pop'] = df_merged.groupby(by = ['Country/Region']).confirmed_by100000pop.diff()\n",
    "\n",
    "# Moving average\n",
    "# New cases moving average\n",
    "df_merged['confirmed_newcases_by100000pop_movavg'] = np.nan\n",
    "\n",
    "for c in country_list:\n",
    "    \n",
    "    tmp = df_merged[df_merged['Country/Region'] == c].copy()\n",
    "    tmp = tmp.sort_values(by = 'dt').reset_index()\n",
    "    \n",
    "    for i in range(1, days_num-1):\n",
    "        \n",
    "        df_merged.loc[tmp.loc[i,'index'], 'confirmed_newcases_by100000pop_movavg'] = ((\n",
    "            tmp.loc[i-1, 'confirmed_newcases_by100000pop'] +\n",
    "            tmp.loc[i, 'confirmed_newcases_by100000pop'] +\n",
    "            tmp.loc[i+1, 'confirmed_newcases_by100000pop'] )/3) "
   ]
  },
  {
   "cell_type": "code",
   "execution_count": 22,
   "metadata": {},
   "outputs": [],
   "source": [
    "# Plotting colors\n",
    "top10_col = ['#719949', '#FF6900', '#E8927C', '#A6192E', '#51284F', \n",
    "             '#A192B2', '#418FDE', '#86C8BC', '#286140', '#F1C400']\n",
    "\n",
    "title_col = '#002D72'\n",
    "subtitle_col = 'grey'\n",
    "label_col = 'dimgray'\n",
    "two_color_a = '#002D72'\n",
    "two_color_b = '#009B77'\n",
    "\n",
    "# Plotting fonts & sizes\n",
    "title_font = 'Gentona, Tahoma, sans-serif'\n",
    "subtitle_font = 'Gentona, Tahoma, sans-serif'\n",
    "label_font = 'Gentona, Tahoma, sans-serif'\n",
    "title_size = 24\n",
    "subtitle_size = 18\n",
    "label_size = 12\n",
    "label_size_small = 8\n",
    "\n",
    "# Graph sizes\n",
    "width_px = 720\n",
    "height_px = 450\n",
    "wide_px_small = 360\n",
    "height_px_small = 275\n",
    "\n",
    "# Line size\n",
    "line_width = 2 \n",
    "\n",
    "# Margins\n",
    "margin_t = 20\n",
    "margin_b = 150\n",
    "margin_r = 20\n",
    "margin_l = 50\n",
    "\n",
    "# Ticks\n",
    "tick_lenght = 12\n",
    "tick_col = '#eee'"
   ]
  },
  {
   "cell_type": "markdown",
   "metadata": {},
   "source": [
    "## <span style=\"color:orange\">New cases</span>\n",
    "<hr style=\"border: 1px solid #D3D3D3\" >"
   ]
  },
  {
   "cell_type": "code",
   "execution_count": 23,
   "metadata": {},
   "outputs": [],
   "source": [
    "# Select data for plotting\n",
    "\n",
    "# Data for the top 10 countries in number of confirmed cases\n",
    "last_date = df_merged['dt'].max()\n",
    "top10 = df_merged[df_merged['dt'] == last_date].sort_values(by = 'deaths', ascending = False).iloc[0:10, :] \n",
    "top10_country = top10['Country/Region'].values"
   ]
  },
  {
   "cell_type": "code",
   "execution_count": 24,
   "metadata": {},
   "outputs": [
    {
     "data": {
      "application/vnd.plotly.v1+json": {
       "config": {
        "linkText": "Export to plot.ly",
        "plotlyServerURL": "https://plot.ly",
        "showLink": false
       },
       "data": [
        {
         "hoverinfo": "text",
         "hoverlabel": {
          "bgcolor": "white",
          "bordercolor": "#719949",
          "font": {
           "color": "#719949"
          }
         },
         "hovertext": [
          "Italy:<br>nan",
          "Italy:<br>nan",
          "Italy:<br>0",
          "Italy:<br>0",
          "Italy:<br>0",
          "Italy:<br>0",
          "Italy:<br>0",
          "Italy:<br>1",
          "Italy:<br>1",
          "Italy:<br>1",
          "Italy:<br>0",
          "Italy:<br>0",
          "Italy:<br>0",
          "Italy:<br>0",
          "Italy:<br>0",
          "Italy:<br>0",
          "Italy:<br>0",
          "Italy:<br>0",
          "Italy:<br>0",
          "Italy:<br>0",
          "Italy:<br>0",
          "Italy:<br>0",
          "Italy:<br>0",
          "Italy:<br>0",
          "Italy:<br>0",
          "Italy:<br>0",
          "Italy:<br>0",
          "Italy:<br>0",
          "Italy:<br>6",
          "Italy:<br>20",
          "Italy:<br>51",
          "Italy:<br>70",
          "Italy:<br>87",
          "Italy:<br>99",
          "Italy:<br>142",
          "Italy:<br>189",
          "Italy:<br>225",
          "Italy:<br>346",
          "Italy:<br>383",
          "Italy:<br>458",
          "Italy:<br>465",
          "Italy:<br>607",
          "Italy:<br>711",
          "Italy:<br>931",
          "Italy:<br>1172",
          "Italy:<br>1512",
          "Italy:<br>1422",
          "Italy:<br>1696",
          "Italy:<br>1097",
          "Italy:<br>2504",
          "Italy:<br>2898",
          "Italy:<br>4095",
          "Italy:<br>3440",
          "Italy:<br>3450",
          "Italy:<br>3655",
          "Italy:<br>4352",
          "Italy:<br>5172",
          "Italy:<br>5955",
          "Italy:<br>6034",
          "Italy:<br>5635",
          "Italy:<br>5199",
          "Italy:<br>5083",
          "Italy:<br>5554",
          "Italy:<br>5774",
          "Italy:<br>6029",
          "Italy:<br>5700",
          "Italy:<br>5080",
          "Italy:<br>4440",
          "Italy:<br>4295",
          "Italy:<br>4501",
          "Italy:<br>nan"
         ],
         "line": {
          "width": 2
         },
         "marker": {
          "color": "#719949"
         },
         "name": "Italy  ",
         "showlegend": true,
         "type": "scatter",
         "x": [
          "2020-01-23T00:00:00",
          "2020-01-24T00:00:00",
          "2020-01-25T00:00:00",
          "2020-01-26T00:00:00",
          "2020-01-27T00:00:00",
          "2020-01-28T00:00:00",
          "2020-01-29T00:00:00",
          "2020-01-30T00:00:00",
          "2020-01-31T00:00:00",
          "2020-02-01T00:00:00",
          "2020-02-02T00:00:00",
          "2020-02-03T00:00:00",
          "2020-02-04T00:00:00",
          "2020-02-05T00:00:00",
          "2020-02-06T00:00:00",
          "2020-02-07T00:00:00",
          "2020-02-08T00:00:00",
          "2020-02-09T00:00:00",
          "2020-02-10T00:00:00",
          "2020-02-11T00:00:00",
          "2020-02-12T00:00:00",
          "2020-02-13T00:00:00",
          "2020-02-14T00:00:00",
          "2020-02-15T00:00:00",
          "2020-02-16T00:00:00",
          "2020-02-17T00:00:00",
          "2020-02-18T00:00:00",
          "2020-02-19T00:00:00",
          "2020-02-20T00:00:00",
          "2020-02-21T00:00:00",
          "2020-02-22T00:00:00",
          "2020-02-23T00:00:00",
          "2020-02-24T00:00:00",
          "2020-02-25T00:00:00",
          "2020-02-26T00:00:00",
          "2020-02-27T00:00:00",
          "2020-02-28T00:00:00",
          "2020-02-29T00:00:00",
          "2020-03-01T00:00:00",
          "2020-03-02T00:00:00",
          "2020-03-03T00:00:00",
          "2020-03-04T00:00:00",
          "2020-03-05T00:00:00",
          "2020-03-06T00:00:00",
          "2020-03-07T00:00:00",
          "2020-03-08T00:00:00",
          "2020-03-09T00:00:00",
          "2020-03-10T00:00:00",
          "2020-03-11T00:00:00",
          "2020-03-12T00:00:00",
          "2020-03-13T00:00:00",
          "2020-03-14T00:00:00",
          "2020-03-15T00:00:00",
          "2020-03-16T00:00:00",
          "2020-03-17T00:00:00",
          "2020-03-18T00:00:00",
          "2020-03-19T00:00:00",
          "2020-03-20T00:00:00",
          "2020-03-21T00:00:00",
          "2020-03-22T00:00:00",
          "2020-03-23T00:00:00",
          "2020-03-24T00:00:00",
          "2020-03-25T00:00:00",
          "2020-03-26T00:00:00",
          "2020-03-27T00:00:00",
          "2020-03-28T00:00:00",
          "2020-03-29T00:00:00",
          "2020-03-30T00:00:00",
          "2020-03-31T00:00:00",
          "2020-04-01T00:00:00",
          "2020-04-02T00:00:00"
         ],
         "y": [
          null,
          null,
          0,
          0,
          0,
          0,
          0,
          0.6666666666666666,
          0.6666666666666666,
          0.6666666666666666,
          0,
          0,
          0,
          0,
          0.3333333333333333,
          0.3333333333333333,
          0.3333333333333333,
          0,
          0,
          0,
          0,
          0,
          0,
          0,
          0,
          0,
          0,
          0,
          5.666666666666667,
          19.666666666666668,
          50.666666666666664,
          69.66666666666667,
          86.66666666666667,
          99.33333333333333,
          142,
          188.66666666666666,
          225,
          346.3333333333333,
          382.6666666666667,
          458,
          465,
          607.3333333333334,
          711.3333333333334,
          931.3333333333334,
          1172.3333333333333,
          1512,
          1422,
          1695.6666666666667,
          1096.6666666666667,
          2503.6666666666665,
          2898.3333333333335,
          4095,
          3440,
          3449.6666666666665,
          3655.3333333333335,
          4351.666666666667,
          5171.666666666667,
          5955,
          6034.333333333333,
          5635.333333333333,
          5199.333333333333,
          5082.666666666667,
          5554,
          5774,
          6028.666666666667,
          5700,
          5080.333333333333,
          4440,
          4295,
          4501,
          null
         ]
        },
        {
         "hoverinfo": "text",
         "hoverlabel": {
          "bgcolor": "white",
          "bordercolor": "#FF6900",
          "font": {
           "color": "#FF6900"
          }
         },
         "hovertext": [
          "Spain:<br>nan",
          "Spain:<br>nan",
          "Spain:<br>0",
          "Spain:<br>0",
          "Spain:<br>0",
          "Spain:<br>0",
          "Spain:<br>0",
          "Spain:<br>0",
          "Spain:<br>0",
          "Spain:<br>0",
          "Spain:<br>0",
          "Spain:<br>0",
          "Spain:<br>0",
          "Spain:<br>0",
          "Spain:<br>0",
          "Spain:<br>0",
          "Spain:<br>0",
          "Spain:<br>0",
          "Spain:<br>0",
          "Spain:<br>0",
          "Spain:<br>0",
          "Spain:<br>0",
          "Spain:<br>0",
          "Spain:<br>0",
          "Spain:<br>0",
          "Spain:<br>0",
          "Spain:<br>0",
          "Spain:<br>0",
          "Spain:<br>0",
          "Spain:<br>0",
          "Spain:<br>0",
          "Spain:<br>0",
          "Spain:<br>1",
          "Spain:<br>4",
          "Spain:<br>4",
          "Spain:<br>9",
          "Spain:<br>11",
          "Spain:<br>23",
          "Spain:<br>29",
          "Spain:<br>40",
          "Spain:<br>46",
          "Spain:<br>46",
          "Spain:<br>78",
          "Spain:<br>93",
          "Spain:<br>138",
          "Spain:<br>224",
          "Spain:<br>398",
          "Spain:<br>535",
          "Spain:<br>401",
          "Spain:<br>1179",
          "Spain:<br>1371",
          "Spain:<br>1840",
          "Spain:<br>1570",
          "Spain:<br>1786",
          "Spain:<br>2037",
          "Spain:<br>2674",
          "Spain:<br>2887",
          "Spain:<br>3821",
          "Spain:<br>3602",
          "Spain:<br>4909",
          "Spain:<br>4837",
          "Spain:<br>6916",
          "Spain:<br>7550",
          "Spain:<br>8611",
          "Spain:<br>7907",
          "Spain:<br>7441",
          "Spain:<br>7412",
          "Spain:<br>7563",
          "Spain:<br>8003",
          "Spain:<br>8036",
          "Spain:<br>nan"
         ],
         "line": {
          "width": 2
         },
         "marker": {
          "color": "#FF6900"
         },
         "name": "Spain  ",
         "showlegend": true,
         "type": "scatter",
         "x": [
          "2020-01-23T00:00:00",
          "2020-01-24T00:00:00",
          "2020-01-25T00:00:00",
          "2020-01-26T00:00:00",
          "2020-01-27T00:00:00",
          "2020-01-28T00:00:00",
          "2020-01-29T00:00:00",
          "2020-01-30T00:00:00",
          "2020-01-31T00:00:00",
          "2020-02-01T00:00:00",
          "2020-02-02T00:00:00",
          "2020-02-03T00:00:00",
          "2020-02-04T00:00:00",
          "2020-02-05T00:00:00",
          "2020-02-06T00:00:00",
          "2020-02-07T00:00:00",
          "2020-02-08T00:00:00",
          "2020-02-09T00:00:00",
          "2020-02-10T00:00:00",
          "2020-02-11T00:00:00",
          "2020-02-12T00:00:00",
          "2020-02-13T00:00:00",
          "2020-02-14T00:00:00",
          "2020-02-15T00:00:00",
          "2020-02-16T00:00:00",
          "2020-02-17T00:00:00",
          "2020-02-18T00:00:00",
          "2020-02-19T00:00:00",
          "2020-02-20T00:00:00",
          "2020-02-21T00:00:00",
          "2020-02-22T00:00:00",
          "2020-02-23T00:00:00",
          "2020-02-24T00:00:00",
          "2020-02-25T00:00:00",
          "2020-02-26T00:00:00",
          "2020-02-27T00:00:00",
          "2020-02-28T00:00:00",
          "2020-02-29T00:00:00",
          "2020-03-01T00:00:00",
          "2020-03-02T00:00:00",
          "2020-03-03T00:00:00",
          "2020-03-04T00:00:00",
          "2020-03-05T00:00:00",
          "2020-03-06T00:00:00",
          "2020-03-07T00:00:00",
          "2020-03-08T00:00:00",
          "2020-03-09T00:00:00",
          "2020-03-10T00:00:00",
          "2020-03-11T00:00:00",
          "2020-03-12T00:00:00",
          "2020-03-13T00:00:00",
          "2020-03-14T00:00:00",
          "2020-03-15T00:00:00",
          "2020-03-16T00:00:00",
          "2020-03-17T00:00:00",
          "2020-03-18T00:00:00",
          "2020-03-19T00:00:00",
          "2020-03-20T00:00:00",
          "2020-03-21T00:00:00",
          "2020-03-22T00:00:00",
          "2020-03-23T00:00:00",
          "2020-03-24T00:00:00",
          "2020-03-25T00:00:00",
          "2020-03-26T00:00:00",
          "2020-03-27T00:00:00",
          "2020-03-28T00:00:00",
          "2020-03-29T00:00:00",
          "2020-03-30T00:00:00",
          "2020-03-31T00:00:00",
          "2020-04-01T00:00:00",
          "2020-04-02T00:00:00"
         ],
         "y": [
          null,
          null,
          0,
          0,
          0,
          0,
          0,
          0,
          0.3333333333333333,
          0.3333333333333333,
          0.3333333333333333,
          0,
          0,
          0,
          0,
          0,
          0.3333333333333333,
          0.3333333333333333,
          0.3333333333333333,
          0,
          0,
          0,
          0,
          0,
          0,
          0,
          0,
          0,
          0,
          0,
          0,
          0,
          1.3333333333333333,
          3.6666666666666665,
          4.333333333333333,
          8.666666666666666,
          10.666666666666666,
          23,
          29.333333333333332,
          40,
          46,
          46.333333333333336,
          78.33333333333333,
          92.66666666666667,
          138,
          224.33333333333334,
          398.3333333333333,
          534.6666666666666,
          401.3333333333333,
          1179,
          1371.3333333333333,
          1840.3333333333333,
          1570,
          1785.6666666666667,
          2037.3333333333333,
          2673.6666666666665,
          2887.3333333333335,
          3821.3333333333335,
          3601.6666666666665,
          4908.666666666667,
          4837,
          6915.666666666667,
          7550,
          8611.333333333334,
          7906.666666666667,
          7441.333333333333,
          7412.333333333333,
          7562.666666666667,
          8002.666666666667,
          8036.333333333333,
          null
         ]
        },
        {
         "hoverinfo": "text",
         "hoverlabel": {
          "bgcolor": "white",
          "bordercolor": "#E8927C",
          "font": {
           "color": "#E8927C"
          }
         },
         "hovertext": [
          "US:<br>nan",
          "US:<br>nan",
          "US:<br>1",
          "US:<br>1",
          "US:<br>1",
          "US:<br>0",
          "US:<br>0",
          "US:<br>1",
          "US:<br>1",
          "US:<br>1",
          "US:<br>1",
          "US:<br>1",
          "US:<br>1",
          "US:<br>0",
          "US:<br>0",
          "US:<br>0",
          "US:<br>0",
          "US:<br>0",
          "US:<br>0",
          "US:<br>0",
          "US:<br>1",
          "US:<br>0",
          "US:<br>0",
          "US:<br>0",
          "US:<br>0",
          "US:<br>0",
          "US:<br>0",
          "US:<br>0",
          "US:<br>1",
          "US:<br>1",
          "US:<br>1",
          "US:<br>12",
          "US:<br>12",
          "US:<br>14",
          "US:<br>2",
          "US:<br>3",
          "US:<br>4",
          "US:<br>5",
          "US:<br>13",
          "US:<br>17",
          "US:<br>25",
          "US:<br>40",
          "US:<br>48",
          "US:<br>84",
          "US:<br>100",
          "US:<br>107",
          "US:<br>186",
          "US:<br>254",
          "US:<br>360",
          "US:<br>407",
          "US:<br>482",
          "US:<br>612",
          "US:<br>818",
          "US:<br>1231",
          "US:<br>1428",
          "US:<br>3015",
          "US:<br>4226",
          "US:<br>5902",
          "US:<br>6533",
          "US:<br>8249",
          "US:<br>9417",
          "US:<br>10834",
          "US:<br>13330",
          "US:<br>15972",
          "US:<br>18567",
          "US:<br>19017",
          "US:<br>20050",
          "US:<br>22231",
          "US:<br>24162",
          "US:<br>27215",
          "US:<br>nan"
         ],
         "line": {
          "width": 2
         },
         "marker": {
          "color": "#E8927C"
         },
         "name": "US  ",
         "showlegend": true,
         "type": "scatter",
         "x": [
          "2020-01-23T00:00:00",
          "2020-01-24T00:00:00",
          "2020-01-25T00:00:00",
          "2020-01-26T00:00:00",
          "2020-01-27T00:00:00",
          "2020-01-28T00:00:00",
          "2020-01-29T00:00:00",
          "2020-01-30T00:00:00",
          "2020-01-31T00:00:00",
          "2020-02-01T00:00:00",
          "2020-02-02T00:00:00",
          "2020-02-03T00:00:00",
          "2020-02-04T00:00:00",
          "2020-02-05T00:00:00",
          "2020-02-06T00:00:00",
          "2020-02-07T00:00:00",
          "2020-02-08T00:00:00",
          "2020-02-09T00:00:00",
          "2020-02-10T00:00:00",
          "2020-02-11T00:00:00",
          "2020-02-12T00:00:00",
          "2020-02-13T00:00:00",
          "2020-02-14T00:00:00",
          "2020-02-15T00:00:00",
          "2020-02-16T00:00:00",
          "2020-02-17T00:00:00",
          "2020-02-18T00:00:00",
          "2020-02-19T00:00:00",
          "2020-02-20T00:00:00",
          "2020-02-21T00:00:00",
          "2020-02-22T00:00:00",
          "2020-02-23T00:00:00",
          "2020-02-24T00:00:00",
          "2020-02-25T00:00:00",
          "2020-02-26T00:00:00",
          "2020-02-27T00:00:00",
          "2020-02-28T00:00:00",
          "2020-02-29T00:00:00",
          "2020-03-01T00:00:00",
          "2020-03-02T00:00:00",
          "2020-03-03T00:00:00",
          "2020-03-04T00:00:00",
          "2020-03-05T00:00:00",
          "2020-03-06T00:00:00",
          "2020-03-07T00:00:00",
          "2020-03-08T00:00:00",
          "2020-03-09T00:00:00",
          "2020-03-10T00:00:00",
          "2020-03-11T00:00:00",
          "2020-03-12T00:00:00",
          "2020-03-13T00:00:00",
          "2020-03-14T00:00:00",
          "2020-03-15T00:00:00",
          "2020-03-16T00:00:00",
          "2020-03-17T00:00:00",
          "2020-03-18T00:00:00",
          "2020-03-19T00:00:00",
          "2020-03-20T00:00:00",
          "2020-03-21T00:00:00",
          "2020-03-22T00:00:00",
          "2020-03-23T00:00:00",
          "2020-03-24T00:00:00",
          "2020-03-25T00:00:00",
          "2020-03-26T00:00:00",
          "2020-03-27T00:00:00",
          "2020-03-28T00:00:00",
          "2020-03-29T00:00:00",
          "2020-03-30T00:00:00",
          "2020-03-31T00:00:00",
          "2020-04-01T00:00:00",
          "2020-04-02T00:00:00"
         ],
         "y": [
          null,
          null,
          1.3333333333333333,
          1,
          1,
          0,
          0,
          0.6666666666666666,
          1,
          1,
          1.3333333333333333,
          1,
          1,
          0,
          0,
          0,
          0,
          0,
          0.3333333333333333,
          0.3333333333333333,
          0.6666666666666666,
          0.3333333333333333,
          0.3333333333333333,
          0,
          0,
          0,
          0,
          0,
          0.6666666666666666,
          0.6666666666666666,
          0.6666666666666666,
          12,
          12,
          14,
          2.3333333333333335,
          3,
          3.6666666666666665,
          5.333333333333333,
          12.666666666666666,
          16.666666666666668,
          25,
          39.666666666666664,
          48,
          84.33333333333333,
          100.33333333333333,
          107,
          185.66666666666666,
          254.33333333333334,
          360,
          406.6666666666667,
          482,
          612,
          817.6666666666666,
          1231.3333333333333,
          1428,
          3015,
          4226.333333333333,
          5902,
          6533,
          8249,
          9417,
          10834,
          13329.666666666666,
          15972.333333333334,
          18566.666666666668,
          19016.666666666668,
          20050,
          22231.333333333332,
          24162,
          27215.333333333332,
          null
         ]
        },
        {
         "hoverinfo": "text",
         "hoverlabel": {
          "bgcolor": "white",
          "bordercolor": "#A6192E",
          "font": {
           "color": "#A6192E"
          }
         },
         "hovertext": [
          "France:<br>nan",
          "France:<br>nan",
          "France:<br>1",
          "France:<br>0",
          "France:<br>0",
          "France:<br>1",
          "France:<br>1",
          "France:<br>0",
          "France:<br>0",
          "France:<br>0",
          "France:<br>0",
          "France:<br>0",
          "France:<br>0",
          "France:<br>0",
          "France:<br>0",
          "France:<br>2",
          "France:<br>2",
          "France:<br>2",
          "France:<br>0",
          "France:<br>0",
          "France:<br>0",
          "France:<br>0",
          "France:<br>0",
          "France:<br>0",
          "France:<br>0",
          "France:<br>0",
          "France:<br>0",
          "France:<br>0",
          "France:<br>0",
          "France:<br>0",
          "France:<br>0",
          "France:<br>0",
          "France:<br>1",
          "France:<br>2",
          "France:<br>9",
          "France:<br>14",
          "France:<br>27",
          "France:<br>31",
          "France:<br>45",
          "France:<br>35",
          "France:<br>53",
          "France:<br>63",
          "France:<br>151",
          "France:<br>224",
          "France:<br>252",
          "France:<br>188",
          "France:<br>278",
          "France:<br>386",
          "France:<br>358",
          "France:<br>629",
          "France:<br>734",
          "France:<br>746",
          "France:<br>1001",
          "France:<br>1073",
          "France:<br>1531",
          "France:<br>1429",
          "France:<br>1681",
          "France:<br>1780",
          "France:<br>1758",
          "France:<br>2455",
          "France:<br>2720",
          "France:<br>3119",
          "France:<br>3143",
          "France:<br>3593",
          "France:<br>4168",
          "France:<br>3719",
          "France:<br>3923",
          "France:<br>4907",
          "France:<br>5680",
          "France:<br>4920",
          "France:<br>nan"
         ],
         "line": {
          "width": 2
         },
         "marker": {
          "color": "#A6192E"
         },
         "name": "France  ",
         "showlegend": true,
         "type": "scatter",
         "x": [
          "2020-01-23T00:00:00",
          "2020-01-24T00:00:00",
          "2020-01-25T00:00:00",
          "2020-01-26T00:00:00",
          "2020-01-27T00:00:00",
          "2020-01-28T00:00:00",
          "2020-01-29T00:00:00",
          "2020-01-30T00:00:00",
          "2020-01-31T00:00:00",
          "2020-02-01T00:00:00",
          "2020-02-02T00:00:00",
          "2020-02-03T00:00:00",
          "2020-02-04T00:00:00",
          "2020-02-05T00:00:00",
          "2020-02-06T00:00:00",
          "2020-02-07T00:00:00",
          "2020-02-08T00:00:00",
          "2020-02-09T00:00:00",
          "2020-02-10T00:00:00",
          "2020-02-11T00:00:00",
          "2020-02-12T00:00:00",
          "2020-02-13T00:00:00",
          "2020-02-14T00:00:00",
          "2020-02-15T00:00:00",
          "2020-02-16T00:00:00",
          "2020-02-17T00:00:00",
          "2020-02-18T00:00:00",
          "2020-02-19T00:00:00",
          "2020-02-20T00:00:00",
          "2020-02-21T00:00:00",
          "2020-02-22T00:00:00",
          "2020-02-23T00:00:00",
          "2020-02-24T00:00:00",
          "2020-02-25T00:00:00",
          "2020-02-26T00:00:00",
          "2020-02-27T00:00:00",
          "2020-02-28T00:00:00",
          "2020-02-29T00:00:00",
          "2020-03-01T00:00:00",
          "2020-03-02T00:00:00",
          "2020-03-03T00:00:00",
          "2020-03-04T00:00:00",
          "2020-03-05T00:00:00",
          "2020-03-06T00:00:00",
          "2020-03-07T00:00:00",
          "2020-03-08T00:00:00",
          "2020-03-09T00:00:00",
          "2020-03-10T00:00:00",
          "2020-03-11T00:00:00",
          "2020-03-12T00:00:00",
          "2020-03-13T00:00:00",
          "2020-03-14T00:00:00",
          "2020-03-15T00:00:00",
          "2020-03-16T00:00:00",
          "2020-03-17T00:00:00",
          "2020-03-18T00:00:00",
          "2020-03-19T00:00:00",
          "2020-03-20T00:00:00",
          "2020-03-21T00:00:00",
          "2020-03-22T00:00:00",
          "2020-03-23T00:00:00",
          "2020-03-24T00:00:00",
          "2020-03-25T00:00:00",
          "2020-03-26T00:00:00",
          "2020-03-27T00:00:00",
          "2020-03-28T00:00:00",
          "2020-03-29T00:00:00",
          "2020-03-30T00:00:00",
          "2020-03-31T00:00:00",
          "2020-04-01T00:00:00",
          "2020-04-02T00:00:00"
         ],
         "y": [
          null,
          null,
          1,
          0.3333333333333333,
          0.3333333333333333,
          0.6666666666666666,
          0.6666666666666666,
          0.3333333333333333,
          0.3333333333333333,
          0.3333333333333333,
          0.3333333333333333,
          0,
          0,
          0,
          0,
          1.6666666666666667,
          1.6666666666666667,
          1.6666666666666667,
          0,
          0,
          0,
          0,
          0.3333333333333333,
          0.3333333333333333,
          0.3333333333333333,
          0,
          0,
          0,
          0,
          0,
          0,
          0,
          0.6666666666666666,
          2,
          8.666666666666666,
          14.333333333333334,
          27.333333333333332,
          30.666666666666668,
          44.666666666666664,
          34.666666666666664,
          52.666666666666664,
          63,
          150.66666666666666,
          223.66666666666666,
          252,
          187.66666666666666,
          278.3333333333333,
          385.6666666666667,
          358,
          629,
          734.3333333333334,
          746.3333333333334,
          1000.6666666666666,
          1073,
          1530.6666666666667,
          1429,
          1681,
          1779.6666666666667,
          1757.6666666666667,
          2455,
          2719.6666666666665,
          3119,
          3142.6666666666665,
          3593.3333333333335,
          4168.333333333333,
          3719,
          3922.6666666666665,
          4907.333333333333,
          5680.333333333333,
          4919.666666666667,
          null
         ]
        },
        {
         "hoverinfo": "text",
         "hoverlabel": {
          "bgcolor": "white",
          "bordercolor": "#51284F",
          "font": {
           "color": "#51284F"
          }
         },
         "hovertext": [
          "China:<br>nan",
          "China:<br>nan",
          "China:<br>477",
          "China:<br>652",
          "China:<br>1368",
          "China:<br>1337",
          "China:<br>1755",
          "China:<br>1431",
          "China:<br>1935",
          "China:<br>2830",
          "China:<br>3305",
          "China:<br>3939",
          "China:<br>3603",
          "China:<br>3624",
          "China:<br>3468",
          "China:<br>3125",
          "China:<br>3081",
          "China:<br>2748",
          "China:<br>2524",
          "China:<br>1643",
          "China:<br>5847",
          "China:<br>7324",
          "China:<br>7885",
          "China:<br>3539",
          "China:<br>2025",
          "China:<br>1933",
          "China:<br>1369",
          "China:<br>881",
          "China:<br>446",
          "China:<br>794",
          "China:<br>648",
          "China:<br>564",
          "China:<br>251",
          "China:<br>381",
          "China:<br>453",
          "China:<br>391",
          "China:<br>397",
          "China:<br>444",
          "China:<br>403",
          "China:<br>302",
          "China:<br>151",
          "China:<br>134",
          "China:<br>143",
          "China:<br>128",
          "China:<br>95",
          "China:<br>57",
          "China:<br>39",
          "China:<br>33",
          "China:<br>24",
          "China:<br>19",
          "China:<br>19",
          "China:<br>24",
          "China:<br>29",
          "China:<br>27",
          "China:<br>33",
          "China:<br>41",
          "China:<br>64",
          "China:<br>68",
          "China:<br>93",
          "China:<br>83",
          "China:<br>95",
          "China:<br>75",
          "China:<br>95",
          "China:<br>102",
          "China:<br>113",
          "China:<br>113",
          "China:<br>100",
          "China:<br>93",
          "China:<br>80",
          "China:<br>78",
          "China:<br>nan"
         ],
         "line": {
          "width": 2
         },
         "marker": {
          "color": "#51284F"
         },
         "name": "China  ",
         "showlegend": true,
         "type": "scatter",
         "x": [
          "2020-01-23T00:00:00",
          "2020-01-24T00:00:00",
          "2020-01-25T00:00:00",
          "2020-01-26T00:00:00",
          "2020-01-27T00:00:00",
          "2020-01-28T00:00:00",
          "2020-01-29T00:00:00",
          "2020-01-30T00:00:00",
          "2020-01-31T00:00:00",
          "2020-02-01T00:00:00",
          "2020-02-02T00:00:00",
          "2020-02-03T00:00:00",
          "2020-02-04T00:00:00",
          "2020-02-05T00:00:00",
          "2020-02-06T00:00:00",
          "2020-02-07T00:00:00",
          "2020-02-08T00:00:00",
          "2020-02-09T00:00:00",
          "2020-02-10T00:00:00",
          "2020-02-11T00:00:00",
          "2020-02-12T00:00:00",
          "2020-02-13T00:00:00",
          "2020-02-14T00:00:00",
          "2020-02-15T00:00:00",
          "2020-02-16T00:00:00",
          "2020-02-17T00:00:00",
          "2020-02-18T00:00:00",
          "2020-02-19T00:00:00",
          "2020-02-20T00:00:00",
          "2020-02-21T00:00:00",
          "2020-02-22T00:00:00",
          "2020-02-23T00:00:00",
          "2020-02-24T00:00:00",
          "2020-02-25T00:00:00",
          "2020-02-26T00:00:00",
          "2020-02-27T00:00:00",
          "2020-02-28T00:00:00",
          "2020-02-29T00:00:00",
          "2020-03-01T00:00:00",
          "2020-03-02T00:00:00",
          "2020-03-03T00:00:00",
          "2020-03-04T00:00:00",
          "2020-03-05T00:00:00",
          "2020-03-06T00:00:00",
          "2020-03-07T00:00:00",
          "2020-03-08T00:00:00",
          "2020-03-09T00:00:00",
          "2020-03-10T00:00:00",
          "2020-03-11T00:00:00",
          "2020-03-12T00:00:00",
          "2020-03-13T00:00:00",
          "2020-03-14T00:00:00",
          "2020-03-15T00:00:00",
          "2020-03-16T00:00:00",
          "2020-03-17T00:00:00",
          "2020-03-18T00:00:00",
          "2020-03-19T00:00:00",
          "2020-03-20T00:00:00",
          "2020-03-21T00:00:00",
          "2020-03-22T00:00:00",
          "2020-03-23T00:00:00",
          "2020-03-24T00:00:00",
          "2020-03-25T00:00:00",
          "2020-03-26T00:00:00",
          "2020-03-27T00:00:00",
          "2020-03-28T00:00:00",
          "2020-03-29T00:00:00",
          "2020-03-30T00:00:00",
          "2020-03-31T00:00:00",
          "2020-04-01T00:00:00",
          "2020-04-02T00:00:00"
         ],
         "y": [
          null,
          null,
          477.3333333333333,
          652.3333333333334,
          1367.6666666666667,
          1337.3333333333333,
          1754.6666666666667,
          1431,
          1934.6666666666667,
          2829.6666666666665,
          3304.6666666666665,
          3938.6666666666665,
          3603.3333333333335,
          3623.6666666666665,
          3467.6666666666665,
          3124.6666666666665,
          3080.6666666666665,
          2748,
          2524,
          1643.3333333333333,
          5847,
          7324,
          7884.666666666667,
          3539.3333333333335,
          2025.3333333333333,
          1932.6666666666667,
          1368.6666666666667,
          881,
          446.3333333333333,
          794,
          648.3333333333334,
          563.6666666666666,
          251,
          381.3333333333333,
          453,
          391.3333333333333,
          396.6666666666667,
          444,
          402.6666666666667,
          301.6666666666667,
          151.33333333333334,
          133.66666666666666,
          143,
          128,
          95.33333333333333,
          56.666666666666664,
          39,
          32.666666666666664,
          24,
          19.333333333333332,
          18.666666666666668,
          23.666666666666668,
          29.333333333333332,
          27,
          33,
          41,
          64,
          67.66666666666667,
          93,
          82.66666666666667,
          95.33333333333333,
          75.33333333333333,
          94.66666666666667,
          102,
          112.66666666666667,
          113.33333333333333,
          100.33333333333333,
          93.33333333333333,
          79.66666666666667,
          78,
          null
         ]
        },
        {
         "hoverinfo": "text",
         "hoverlabel": {
          "bgcolor": "white",
          "bordercolor": "#A192B2",
          "font": {
           "color": "#A192B2"
          }
         },
         "hovertext": [
          "Iran:<br>nan",
          "Iran:<br>nan",
          "Iran:<br>0",
          "Iran:<br>0",
          "Iran:<br>0",
          "Iran:<br>0",
          "Iran:<br>0",
          "Iran:<br>0",
          "Iran:<br>0",
          "Iran:<br>0",
          "Iran:<br>0",
          "Iran:<br>0",
          "Iran:<br>0",
          "Iran:<br>0",
          "Iran:<br>0",
          "Iran:<br>0",
          "Iran:<br>0",
          "Iran:<br>0",
          "Iran:<br>0",
          "Iran:<br>0",
          "Iran:<br>0",
          "Iran:<br>0",
          "Iran:<br>0",
          "Iran:<br>0",
          "Iran:<br>0",
          "Iran:<br>0",
          "Iran:<br>1",
          "Iran:<br>2",
          "Iran:<br>6",
          "Iran:<br>9",
          "Iran:<br>13",
          "Iran:<br>14",
          "Iran:<br>22",
          "Iran:<br>32",
          "Iran:<br>61",
          "Iran:<br>98",
          "Iran:<br>151",
          "Iran:<br>244",
          "Iran:<br>371",
          "Iran:<br>581",
          "Iran:<br>648",
          "Iran:<br>671",
          "Iran:<br>804",
          "Iran:<br>967",
          "Iran:<br>1018",
          "Iran:<br>805",
          "Iran:<br>740",
          "Iran:<br>811",
          "Iran:<br>971",
          "Iran:<br>1107",
          "Iran:<br>1243",
          "Iran:<br>1288",
          "Iran:<br>1209",
          "Iran:<br>1147",
          "Iran:<br>1141",
          "Iran:<br>1139",
          "Iran:<br>1158",
          "Iran:<br>1083",
          "Iran:<br>1077",
          "Iran:<br>1135",
          "Iran:<br>1400",
          "Iran:<br>1793",
          "Iran:<br>2119",
          "Iran:<br>2507",
          "Iran:<br>2797",
          "Iran:<br>2968",
          "Iran:<br>3054",
          "Iran:<br>3066",
          "Iran:<br>3095",
          "Iran:<br>2991",
          "Iran:<br>nan"
         ],
         "line": {
          "width": 2
         },
         "marker": {
          "color": "#A192B2"
         },
         "name": "Iran  ",
         "showlegend": true,
         "type": "scatter",
         "x": [
          "2020-01-23T00:00:00",
          "2020-01-24T00:00:00",
          "2020-01-25T00:00:00",
          "2020-01-26T00:00:00",
          "2020-01-27T00:00:00",
          "2020-01-28T00:00:00",
          "2020-01-29T00:00:00",
          "2020-01-30T00:00:00",
          "2020-01-31T00:00:00",
          "2020-02-01T00:00:00",
          "2020-02-02T00:00:00",
          "2020-02-03T00:00:00",
          "2020-02-04T00:00:00",
          "2020-02-05T00:00:00",
          "2020-02-06T00:00:00",
          "2020-02-07T00:00:00",
          "2020-02-08T00:00:00",
          "2020-02-09T00:00:00",
          "2020-02-10T00:00:00",
          "2020-02-11T00:00:00",
          "2020-02-12T00:00:00",
          "2020-02-13T00:00:00",
          "2020-02-14T00:00:00",
          "2020-02-15T00:00:00",
          "2020-02-16T00:00:00",
          "2020-02-17T00:00:00",
          "2020-02-18T00:00:00",
          "2020-02-19T00:00:00",
          "2020-02-20T00:00:00",
          "2020-02-21T00:00:00",
          "2020-02-22T00:00:00",
          "2020-02-23T00:00:00",
          "2020-02-24T00:00:00",
          "2020-02-25T00:00:00",
          "2020-02-26T00:00:00",
          "2020-02-27T00:00:00",
          "2020-02-28T00:00:00",
          "2020-02-29T00:00:00",
          "2020-03-01T00:00:00",
          "2020-03-02T00:00:00",
          "2020-03-03T00:00:00",
          "2020-03-04T00:00:00",
          "2020-03-05T00:00:00",
          "2020-03-06T00:00:00",
          "2020-03-07T00:00:00",
          "2020-03-08T00:00:00",
          "2020-03-09T00:00:00",
          "2020-03-10T00:00:00",
          "2020-03-11T00:00:00",
          "2020-03-12T00:00:00",
          "2020-03-13T00:00:00",
          "2020-03-14T00:00:00",
          "2020-03-15T00:00:00",
          "2020-03-16T00:00:00",
          "2020-03-17T00:00:00",
          "2020-03-18T00:00:00",
          "2020-03-19T00:00:00",
          "2020-03-20T00:00:00",
          "2020-03-21T00:00:00",
          "2020-03-22T00:00:00",
          "2020-03-23T00:00:00",
          "2020-03-24T00:00:00",
          "2020-03-25T00:00:00",
          "2020-03-26T00:00:00",
          "2020-03-27T00:00:00",
          "2020-03-28T00:00:00",
          "2020-03-29T00:00:00",
          "2020-03-30T00:00:00",
          "2020-03-31T00:00:00",
          "2020-04-01T00:00:00",
          "2020-04-02T00:00:00"
         ],
         "y": [
          null,
          null,
          0,
          0,
          0,
          0,
          0,
          0,
          0,
          0,
          0,
          0,
          0,
          0,
          0,
          0,
          0,
          0,
          0,
          0,
          0,
          0,
          0,
          0,
          0,
          0,
          0.6666666666666666,
          1.6666666666666667,
          6,
          8.666666666666666,
          12.666666666666666,
          14.333333333333334,
          22.333333333333332,
          32,
          61.333333333333336,
          97.66666666666667,
          151.33333333333334,
          244.33333333333334,
          371,
          581,
          648,
          670.6666666666666,
          803.6666666666666,
          967,
          1017.6666666666666,
          804.6666666666666,
          739.6666666666666,
          811.3333333333334,
          971.3333333333334,
          1107.3333333333333,
          1243,
          1287.6666666666667,
          1209,
          1146.6666666666667,
          1141,
          1138.6666666666667,
          1158.3333333333333,
          1083,
          1077,
          1135,
          1400.3333333333333,
          1793,
          2119,
          2507,
          2797,
          2967.6666666666665,
          3054.3333333333335,
          3065.6666666666665,
          3094.6666666666665,
          2991,
          null
         ]
        },
        {
         "hoverinfo": "text",
         "hoverlabel": {
          "bgcolor": "white",
          "bordercolor": "#418FDE",
          "font": {
           "color": "#418FDE"
          }
         },
         "hovertext": [
          "United Kingdom:<br>nan",
          "United Kingdom:<br>nan",
          "United Kingdom:<br>0",
          "United Kingdom:<br>0",
          "United Kingdom:<br>0",
          "United Kingdom:<br>0",
          "United Kingdom:<br>0",
          "United Kingdom:<br>1",
          "United Kingdom:<br>1",
          "United Kingdom:<br>1",
          "United Kingdom:<br>0",
          "United Kingdom:<br>0",
          "United Kingdom:<br>0",
          "United Kingdom:<br>0",
          "United Kingdom:<br>0",
          "United Kingdom:<br>0",
          "United Kingdom:<br>0",
          "United Kingdom:<br>2",
          "United Kingdom:<br>2",
          "United Kingdom:<br>2",
          "United Kingdom:<br>0",
          "United Kingdom:<br>0",
          "United Kingdom:<br>0",
          "United Kingdom:<br>0",
          "United Kingdom:<br>0",
          "United Kingdom:<br>0",
          "United Kingdom:<br>0",
          "United Kingdom:<br>0",
          "United Kingdom:<br>0",
          "United Kingdom:<br>0",
          "United Kingdom:<br>0",
          "United Kingdom:<br>1",
          "United Kingdom:<br>1",
          "United Kingdom:<br>1",
          "United Kingdom:<br>1",
          "United Kingdom:<br>2",
          "United Kingdom:<br>3",
          "United Kingdom:<br>7",
          "United Kingdom:<br>7",
          "United Kingdom:<br>9",
          "United Kingdom:<br>17",
          "United Kingdom:<br>25",
          "United Kingdom:<br>38",
          "United Kingdom:<br>40",
          "United Kingdom:<br>53",
          "United Kingdom:<br>53",
          "United Kingdom:<br>59",
          "United Kingdom:<br>62",
          "United Kingdom:<br>46",
          "United Kingdom:<br>139",
          "United Kingdom:<br>228",
          "United Kingdom:<br>229",
          "United Kingdom:<br>250",
          "United Kingdom:<br>272",
          "United Kingdom:<br>499",
          "United Kingdom:<br>388",
          "United Kingdom:<br>685",
          "United Kingdom:<br>808",
          "United Kingdom:<br>1010",
          "United Kingdom:<br>904",
          "United Kingdom:<br>1032",
          "United Kingdom:<br>1298",
          "United Kingdom:<br>1695",
          "United Kingdom:<br>2194",
          "United Kingdom:<br>2557",
          "United Kingdom:<br>2656",
          "United Kingdom:<br>2569",
          "United Kingdom:<br>2723",
          "United Kingdom:<br>3362",
          "United Kingdom:<br>3907",
          "United Kingdom:<br>nan"
         ],
         "line": {
          "width": 2
         },
         "marker": {
          "color": "#418FDE"
         },
         "name": "United Kingdom  ",
         "showlegend": true,
         "type": "scatter",
         "x": [
          "2020-01-23T00:00:00",
          "2020-01-24T00:00:00",
          "2020-01-25T00:00:00",
          "2020-01-26T00:00:00",
          "2020-01-27T00:00:00",
          "2020-01-28T00:00:00",
          "2020-01-29T00:00:00",
          "2020-01-30T00:00:00",
          "2020-01-31T00:00:00",
          "2020-02-01T00:00:00",
          "2020-02-02T00:00:00",
          "2020-02-03T00:00:00",
          "2020-02-04T00:00:00",
          "2020-02-05T00:00:00",
          "2020-02-06T00:00:00",
          "2020-02-07T00:00:00",
          "2020-02-08T00:00:00",
          "2020-02-09T00:00:00",
          "2020-02-10T00:00:00",
          "2020-02-11T00:00:00",
          "2020-02-12T00:00:00",
          "2020-02-13T00:00:00",
          "2020-02-14T00:00:00",
          "2020-02-15T00:00:00",
          "2020-02-16T00:00:00",
          "2020-02-17T00:00:00",
          "2020-02-18T00:00:00",
          "2020-02-19T00:00:00",
          "2020-02-20T00:00:00",
          "2020-02-21T00:00:00",
          "2020-02-22T00:00:00",
          "2020-02-23T00:00:00",
          "2020-02-24T00:00:00",
          "2020-02-25T00:00:00",
          "2020-02-26T00:00:00",
          "2020-02-27T00:00:00",
          "2020-02-28T00:00:00",
          "2020-02-29T00:00:00",
          "2020-03-01T00:00:00",
          "2020-03-02T00:00:00",
          "2020-03-03T00:00:00",
          "2020-03-04T00:00:00",
          "2020-03-05T00:00:00",
          "2020-03-06T00:00:00",
          "2020-03-07T00:00:00",
          "2020-03-08T00:00:00",
          "2020-03-09T00:00:00",
          "2020-03-10T00:00:00",
          "2020-03-11T00:00:00",
          "2020-03-12T00:00:00",
          "2020-03-13T00:00:00",
          "2020-03-14T00:00:00",
          "2020-03-15T00:00:00",
          "2020-03-16T00:00:00",
          "2020-03-17T00:00:00",
          "2020-03-18T00:00:00",
          "2020-03-19T00:00:00",
          "2020-03-20T00:00:00",
          "2020-03-21T00:00:00",
          "2020-03-22T00:00:00",
          "2020-03-23T00:00:00",
          "2020-03-24T00:00:00",
          "2020-03-25T00:00:00",
          "2020-03-26T00:00:00",
          "2020-03-27T00:00:00",
          "2020-03-28T00:00:00",
          "2020-03-29T00:00:00",
          "2020-03-30T00:00:00",
          "2020-03-31T00:00:00",
          "2020-04-01T00:00:00",
          "2020-04-02T00:00:00"
         ],
         "y": [
          null,
          null,
          0,
          0,
          0,
          0,
          0,
          0.6666666666666666,
          0.6666666666666666,
          0.6666666666666666,
          0,
          0,
          0,
          0,
          0.3333333333333333,
          0.3333333333333333,
          0.3333333333333333,
          1.6666666666666667,
          1.6666666666666667,
          2,
          0.3333333333333333,
          0.3333333333333333,
          0,
          0,
          0,
          0,
          0,
          0,
          0,
          0,
          0,
          1.3333333333333333,
          1.3333333333333333,
          1.3333333333333333,
          0.6666666666666666,
          2.3333333333333335,
          3.3333333333333335,
          7,
          6.666666666666667,
          9.333333333333334,
          16.666666666666668,
          25.333333333333332,
          37.666666666666664,
          40.333333333333336,
          52.666666666666664,
          52.666666666666664,
          59,
          61.666666666666664,
          45.666666666666664,
          139.33333333333334,
          228.33333333333334,
          228.66666666666666,
          249.66666666666666,
          272,
          499,
          388.3333333333333,
          684.6666666666666,
          808.3333333333334,
          1009.6666666666666,
          904,
          1032.3333333333333,
          1298.3333333333333,
          1695.3333333333333,
          2193.6666666666665,
          2557.3333333333335,
          2656,
          2569.3333333333335,
          2723,
          3361.6666666666665,
          3906.6666666666665,
          null
         ]
        },
        {
         "hoverinfo": "text",
         "hoverlabel": {
          "bgcolor": "white",
          "bordercolor": "#86C8BC",
          "font": {
           "color": "#86C8BC"
          }
         },
         "hovertext": [
          "Netherlands:<br>nan",
          "Netherlands:<br>nan",
          "Netherlands:<br>0",
          "Netherlands:<br>0",
          "Netherlands:<br>0",
          "Netherlands:<br>0",
          "Netherlands:<br>0",
          "Netherlands:<br>0",
          "Netherlands:<br>0",
          "Netherlands:<br>0",
          "Netherlands:<br>0",
          "Netherlands:<br>0",
          "Netherlands:<br>0",
          "Netherlands:<br>0",
          "Netherlands:<br>0",
          "Netherlands:<br>0",
          "Netherlands:<br>0",
          "Netherlands:<br>0",
          "Netherlands:<br>0",
          "Netherlands:<br>0",
          "Netherlands:<br>0",
          "Netherlands:<br>0",
          "Netherlands:<br>0",
          "Netherlands:<br>0",
          "Netherlands:<br>0",
          "Netherlands:<br>0",
          "Netherlands:<br>0",
          "Netherlands:<br>0",
          "Netherlands:<br>0",
          "Netherlands:<br>0",
          "Netherlands:<br>0",
          "Netherlands:<br>0",
          "Netherlands:<br>0",
          "Netherlands:<br>0",
          "Netherlands:<br>0",
          "Netherlands:<br>0",
          "Netherlands:<br>2",
          "Netherlands:<br>3",
          "Netherlands:<br>6",
          "Netherlands:<br>6",
          "Netherlands:<br>9",
          "Netherlands:<br>21",
          "Netherlands:<br>35",
          "Netherlands:<br>50",
          "Netherlands:<br>61",
          "Netherlands:<br>64",
          "Netherlands:<br>65",
          "Netherlands:<br>79",
          "Netherlands:<br>61",
          "Netherlands:<br>141",
          "Netherlands:<br>153",
          "Netherlands:<br>212",
          "Netherlands:<br>203",
          "Netherlands:<br>250",
          "Netherlands:<br>307",
          "Netherlands:<br>350",
          "Netherlands:<br>431",
          "Netherlands:<br>527",
          "Netherlands:<br>583",
          "Netherlands:<br>587",
          "Netherlands:<br>647",
          "Netherlands:<br>740",
          "Netherlands:<br>901",
          "Netherlands:<br>1022",
          "Netherlands:<br>1127",
          "Netherlands:<br>1154",
          "Netherlands:<br>1057",
          "Netherlands:<br>949",
          "Netherlands:<br>922",
          "Netherlands:<br>990",
          "Netherlands:<br>nan"
         ],
         "line": {
          "width": 2
         },
         "marker": {
          "color": "#86C8BC"
         },
         "name": "Netherlands  ",
         "showlegend": true,
         "type": "scatter",
         "x": [
          "2020-01-23T00:00:00",
          "2020-01-24T00:00:00",
          "2020-01-25T00:00:00",
          "2020-01-26T00:00:00",
          "2020-01-27T00:00:00",
          "2020-01-28T00:00:00",
          "2020-01-29T00:00:00",
          "2020-01-30T00:00:00",
          "2020-01-31T00:00:00",
          "2020-02-01T00:00:00",
          "2020-02-02T00:00:00",
          "2020-02-03T00:00:00",
          "2020-02-04T00:00:00",
          "2020-02-05T00:00:00",
          "2020-02-06T00:00:00",
          "2020-02-07T00:00:00",
          "2020-02-08T00:00:00",
          "2020-02-09T00:00:00",
          "2020-02-10T00:00:00",
          "2020-02-11T00:00:00",
          "2020-02-12T00:00:00",
          "2020-02-13T00:00:00",
          "2020-02-14T00:00:00",
          "2020-02-15T00:00:00",
          "2020-02-16T00:00:00",
          "2020-02-17T00:00:00",
          "2020-02-18T00:00:00",
          "2020-02-19T00:00:00",
          "2020-02-20T00:00:00",
          "2020-02-21T00:00:00",
          "2020-02-22T00:00:00",
          "2020-02-23T00:00:00",
          "2020-02-24T00:00:00",
          "2020-02-25T00:00:00",
          "2020-02-26T00:00:00",
          "2020-02-27T00:00:00",
          "2020-02-28T00:00:00",
          "2020-02-29T00:00:00",
          "2020-03-01T00:00:00",
          "2020-03-02T00:00:00",
          "2020-03-03T00:00:00",
          "2020-03-04T00:00:00",
          "2020-03-05T00:00:00",
          "2020-03-06T00:00:00",
          "2020-03-07T00:00:00",
          "2020-03-08T00:00:00",
          "2020-03-09T00:00:00",
          "2020-03-10T00:00:00",
          "2020-03-11T00:00:00",
          "2020-03-12T00:00:00",
          "2020-03-13T00:00:00",
          "2020-03-14T00:00:00",
          "2020-03-15T00:00:00",
          "2020-03-16T00:00:00",
          "2020-03-17T00:00:00",
          "2020-03-18T00:00:00",
          "2020-03-19T00:00:00",
          "2020-03-20T00:00:00",
          "2020-03-21T00:00:00",
          "2020-03-22T00:00:00",
          "2020-03-23T00:00:00",
          "2020-03-24T00:00:00",
          "2020-03-25T00:00:00",
          "2020-03-26T00:00:00",
          "2020-03-27T00:00:00",
          "2020-03-28T00:00:00",
          "2020-03-29T00:00:00",
          "2020-03-30T00:00:00",
          "2020-03-31T00:00:00",
          "2020-04-01T00:00:00",
          "2020-04-02T00:00:00"
         ],
         "y": [
          null,
          null,
          0,
          0,
          0,
          0,
          0,
          0,
          0,
          0,
          0,
          0,
          0,
          0,
          0,
          0,
          0,
          0,
          0,
          0,
          0,
          0,
          0,
          0,
          0,
          0,
          0,
          0,
          0,
          0,
          0,
          0,
          0,
          0,
          0.3333333333333333,
          0.3333333333333333,
          2,
          3,
          5.666666666666667,
          6,
          9.333333333333334,
          21.333333333333332,
          34.666666666666664,
          50,
          61,
          64.33333333333333,
          64.66666666666667,
          79.33333333333333,
          60.666666666666664,
          141.33333333333334,
          153,
          211.66666666666666,
          203.33333333333334,
          249.66666666666666,
          306.6666666666667,
          350.3333333333333,
          430.6666666666667,
          527.3333333333334,
          583.3333333333334,
          587,
          646.6666666666666,
          740.3333333333334,
          901.3333333333334,
          1022.3333333333334,
          1127,
          1154,
          1056.6666666666667,
          949.3333333333334,
          922,
          990.3333333333334,
          null
         ]
        },
        {
         "hoverinfo": "text",
         "hoverlabel": {
          "bgcolor": "white",
          "bordercolor": "#286140",
          "font": {
           "color": "#286140"
          }
         },
         "hovertext": [
          "Germany:<br>nan",
          "Germany:<br>nan",
          "Germany:<br>0",
          "Germany:<br>0",
          "Germany:<br>1",
          "Germany:<br>1",
          "Germany:<br>1",
          "Germany:<br>0",
          "Germany:<br>1",
          "Germany:<br>2",
          "Germany:<br>2",
          "Germany:<br>1",
          "Germany:<br>1",
          "Germany:<br>0",
          "Germany:<br>0",
          "Germany:<br>0",
          "Germany:<br>1",
          "Germany:<br>0",
          "Germany:<br>1",
          "Germany:<br>1",
          "Germany:<br>1",
          "Germany:<br>0",
          "Germany:<br>0",
          "Germany:<br>0",
          "Germany:<br>0",
          "Germany:<br>0",
          "Germany:<br>0",
          "Germany:<br>0",
          "Germany:<br>0",
          "Germany:<br>0",
          "Germany:<br>0",
          "Germany:<br>0",
          "Germany:<br>0",
          "Germany:<br>4",
          "Germany:<br>10",
          "Germany:<br>10",
          "Germany:<br>17",
          "Germany:<br>28",
          "Germany:<br>37",
          "Germany:<br>39",
          "Germany:<br>44",
          "Germany:<br>108",
          "Germany:<br>158",
          "Germany:<br>179",
          "Germany:<br>186",
          "Germany:<br>169",
          "Germany:<br>219",
          "Germany:<br>289",
          "Germany:<br>301",
          "Germany:<br>739",
          "Germany:<br>892",
          "Germany:<br>1239",
          "Germany:<br>1199",
          "Germany:<br>1557",
          "Germany:<br>2177",
          "Germany:<br>2683",
          "Germany:<br>3530",
          "Germany:<br>3295",
          "Germany:<br>3184",
          "Germany:<br>3069",
          "Germany:<br>3591",
          "Germany:<br>4150",
          "Germany:<br>4961",
          "Germany:<br>5962",
          "Germany:<br>6791",
          "Germany:<br>6052",
          "Germany:<br>5338",
          "Germany:<br>4704",
          "Germany:<br>5259",
          "Germany:<br>5970",
          "Germany:<br>nan"
         ],
         "line": {
          "width": 2
         },
         "marker": {
          "color": "#286140"
         },
         "name": "Germany  ",
         "showlegend": true,
         "type": "scatter",
         "x": [
          "2020-01-23T00:00:00",
          "2020-01-24T00:00:00",
          "2020-01-25T00:00:00",
          "2020-01-26T00:00:00",
          "2020-01-27T00:00:00",
          "2020-01-28T00:00:00",
          "2020-01-29T00:00:00",
          "2020-01-30T00:00:00",
          "2020-01-31T00:00:00",
          "2020-02-01T00:00:00",
          "2020-02-02T00:00:00",
          "2020-02-03T00:00:00",
          "2020-02-04T00:00:00",
          "2020-02-05T00:00:00",
          "2020-02-06T00:00:00",
          "2020-02-07T00:00:00",
          "2020-02-08T00:00:00",
          "2020-02-09T00:00:00",
          "2020-02-10T00:00:00",
          "2020-02-11T00:00:00",
          "2020-02-12T00:00:00",
          "2020-02-13T00:00:00",
          "2020-02-14T00:00:00",
          "2020-02-15T00:00:00",
          "2020-02-16T00:00:00",
          "2020-02-17T00:00:00",
          "2020-02-18T00:00:00",
          "2020-02-19T00:00:00",
          "2020-02-20T00:00:00",
          "2020-02-21T00:00:00",
          "2020-02-22T00:00:00",
          "2020-02-23T00:00:00",
          "2020-02-24T00:00:00",
          "2020-02-25T00:00:00",
          "2020-02-26T00:00:00",
          "2020-02-27T00:00:00",
          "2020-02-28T00:00:00",
          "2020-02-29T00:00:00",
          "2020-03-01T00:00:00",
          "2020-03-02T00:00:00",
          "2020-03-03T00:00:00",
          "2020-03-04T00:00:00",
          "2020-03-05T00:00:00",
          "2020-03-06T00:00:00",
          "2020-03-07T00:00:00",
          "2020-03-08T00:00:00",
          "2020-03-09T00:00:00",
          "2020-03-10T00:00:00",
          "2020-03-11T00:00:00",
          "2020-03-12T00:00:00",
          "2020-03-13T00:00:00",
          "2020-03-14T00:00:00",
          "2020-03-15T00:00:00",
          "2020-03-16T00:00:00",
          "2020-03-17T00:00:00",
          "2020-03-18T00:00:00",
          "2020-03-19T00:00:00",
          "2020-03-20T00:00:00",
          "2020-03-21T00:00:00",
          "2020-03-22T00:00:00",
          "2020-03-23T00:00:00",
          "2020-03-24T00:00:00",
          "2020-03-25T00:00:00",
          "2020-03-26T00:00:00",
          "2020-03-27T00:00:00",
          "2020-03-28T00:00:00",
          "2020-03-29T00:00:00",
          "2020-03-30T00:00:00",
          "2020-03-31T00:00:00",
          "2020-04-01T00:00:00",
          "2020-04-02T00:00:00"
         ],
         "y": [
          null,
          null,
          0,
          0.3333333333333333,
          1.3333333333333333,
          1.3333333333333333,
          1,
          0.3333333333333333,
          1.3333333333333333,
          2,
          2.3333333333333335,
          1.3333333333333333,
          0.6666666666666666,
          0,
          0.3333333333333333,
          0.3333333333333333,
          0.6666666666666666,
          0.3333333333333333,
          1,
          0.6666666666666666,
          0.6666666666666666,
          0,
          0,
          0,
          0,
          0,
          0,
          0,
          0,
          0,
          0,
          0,
          0.3333333333333333,
          3.6666666666666665,
          10,
          10.333333333333334,
          17.333333333333332,
          28,
          37,
          39,
          44,
          107.66666666666667,
          158,
          179,
          186,
          168.66666666666666,
          219.33333333333334,
          289.3333333333333,
          300.6666666666667,
          739.3333333333334,
          892.3333333333334,
          1239,
          1199,
          1557.3333333333333,
          2177.3333333333335,
          2682.6666666666665,
          3530.3333333333335,
          3295.3333333333335,
          3184.3333333333335,
          3069.3333333333335,
          3591,
          4150,
          4960.666666666667,
          5961.666666666667,
          6790.666666666667,
          6052.333333333333,
          5338,
          4704.333333333333,
          5259,
          5969.666666666667,
          null
         ]
        },
        {
         "hoverinfo": "text",
         "hoverlabel": {
          "bgcolor": "white",
          "bordercolor": "#F1C400",
          "font": {
           "color": "#F1C400"
          }
         },
         "hovertext": [
          "Belgium:<br>nan",
          "Belgium:<br>nan",
          "Belgium:<br>0",
          "Belgium:<br>0",
          "Belgium:<br>0",
          "Belgium:<br>0",
          "Belgium:<br>0",
          "Belgium:<br>0",
          "Belgium:<br>0",
          "Belgium:<br>0",
          "Belgium:<br>0",
          "Belgium:<br>0",
          "Belgium:<br>0",
          "Belgium:<br>0",
          "Belgium:<br>0",
          "Belgium:<br>0",
          "Belgium:<br>0",
          "Belgium:<br>0",
          "Belgium:<br>0",
          "Belgium:<br>0",
          "Belgium:<br>0",
          "Belgium:<br>0",
          "Belgium:<br>0",
          "Belgium:<br>0",
          "Belgium:<br>0",
          "Belgium:<br>0",
          "Belgium:<br>0",
          "Belgium:<br>0",
          "Belgium:<br>0",
          "Belgium:<br>0",
          "Belgium:<br>0",
          "Belgium:<br>0",
          "Belgium:<br>0",
          "Belgium:<br>0",
          "Belgium:<br>0",
          "Belgium:<br>0",
          "Belgium:<br>0",
          "Belgium:<br>0",
          "Belgium:<br>2",
          "Belgium:<br>4",
          "Belgium:<br>7",
          "Belgium:<br>14",
          "Belgium:<br>32",
          "Belgium:<br>49",
          "Belgium:<br>50",
          "Belgium:<br>43",
          "Belgium:<br>33",
          "Belgium:<br>38",
          "Belgium:<br>25",
          "Belgium:<br>97",
          "Belgium:<br>125",
          "Belgium:<br>191",
          "Belgium:<br>166",
          "Belgium:<br>185",
          "Belgium:<br>200",
          "Belgium:<br>246",
          "Belgium:<br>338",
          "Belgium:<br>443",
          "Belgium:<br>535",
          "Belgium:<br>495",
          "Belgium:<br>485",
          "Belgium:<br>512",
          "Belgium:<br>831",
          "Belgium:<br>1005",
          "Belgium:<br>1399",
          "Belgium:<br>1534",
          "Belgium:<br>1538",
          "Belgium:<br>1214",
          "Belgium:<br>1043",
          "Belgium:<br>1150",
          "Belgium:<br>nan"
         ],
         "line": {
          "width": 2
         },
         "marker": {
          "color": "#F1C400"
         },
         "name": "Belgium  ",
         "showlegend": true,
         "type": "scatter",
         "x": [
          "2020-01-23T00:00:00",
          "2020-01-24T00:00:00",
          "2020-01-25T00:00:00",
          "2020-01-26T00:00:00",
          "2020-01-27T00:00:00",
          "2020-01-28T00:00:00",
          "2020-01-29T00:00:00",
          "2020-01-30T00:00:00",
          "2020-01-31T00:00:00",
          "2020-02-01T00:00:00",
          "2020-02-02T00:00:00",
          "2020-02-03T00:00:00",
          "2020-02-04T00:00:00",
          "2020-02-05T00:00:00",
          "2020-02-06T00:00:00",
          "2020-02-07T00:00:00",
          "2020-02-08T00:00:00",
          "2020-02-09T00:00:00",
          "2020-02-10T00:00:00",
          "2020-02-11T00:00:00",
          "2020-02-12T00:00:00",
          "2020-02-13T00:00:00",
          "2020-02-14T00:00:00",
          "2020-02-15T00:00:00",
          "2020-02-16T00:00:00",
          "2020-02-17T00:00:00",
          "2020-02-18T00:00:00",
          "2020-02-19T00:00:00",
          "2020-02-20T00:00:00",
          "2020-02-21T00:00:00",
          "2020-02-22T00:00:00",
          "2020-02-23T00:00:00",
          "2020-02-24T00:00:00",
          "2020-02-25T00:00:00",
          "2020-02-26T00:00:00",
          "2020-02-27T00:00:00",
          "2020-02-28T00:00:00",
          "2020-02-29T00:00:00",
          "2020-03-01T00:00:00",
          "2020-03-02T00:00:00",
          "2020-03-03T00:00:00",
          "2020-03-04T00:00:00",
          "2020-03-05T00:00:00",
          "2020-03-06T00:00:00",
          "2020-03-07T00:00:00",
          "2020-03-08T00:00:00",
          "2020-03-09T00:00:00",
          "2020-03-10T00:00:00",
          "2020-03-11T00:00:00",
          "2020-03-12T00:00:00",
          "2020-03-13T00:00:00",
          "2020-03-14T00:00:00",
          "2020-03-15T00:00:00",
          "2020-03-16T00:00:00",
          "2020-03-17T00:00:00",
          "2020-03-18T00:00:00",
          "2020-03-19T00:00:00",
          "2020-03-20T00:00:00",
          "2020-03-21T00:00:00",
          "2020-03-22T00:00:00",
          "2020-03-23T00:00:00",
          "2020-03-24T00:00:00",
          "2020-03-25T00:00:00",
          "2020-03-26T00:00:00",
          "2020-03-27T00:00:00",
          "2020-03-28T00:00:00",
          "2020-03-29T00:00:00",
          "2020-03-30T00:00:00",
          "2020-03-31T00:00:00",
          "2020-04-01T00:00:00",
          "2020-04-02T00:00:00"
         ],
         "y": [
          null,
          null,
          0,
          0,
          0,
          0,
          0,
          0,
          0,
          0,
          0,
          0.3333333333333333,
          0.3333333333333333,
          0.3333333333333333,
          0,
          0,
          0,
          0,
          0,
          0,
          0,
          0,
          0,
          0,
          0,
          0,
          0,
          0,
          0,
          0,
          0,
          0,
          0,
          0,
          0,
          0,
          0,
          0.3333333333333333,
          2.3333333333333335,
          4,
          7,
          14,
          32,
          48.666666666666664,
          50,
          43.333333333333336,
          32.666666666666664,
          38,
          25,
          97.33333333333333,
          125,
          190.66666666666666,
          166.33333333333334,
          184.66666666666666,
          200,
          245.66666666666666,
          338,
          443,
          535.3333333333334,
          495.3333333333333,
          484.6666666666667,
          512,
          830.6666666666666,
          1005,
          1399,
          1533.6666666666667,
          1538.3333333333333,
          1213.6666666666667,
          1042.6666666666667,
          1149.6666666666667,
          null
         ]
        }
       ],
       "layout": {
        "annotations": [
         {
          "font": {
           "color": "silver",
           "family": "Gentona, Tahoma, sans-serif",
           "size": 12
          },
          "showarrow": false,
          "text": "Click any country below to hide/show from the graph:",
          "x": 0,
          "xref": "paper",
          "y": -0.2,
          "yref": "paper"
         }
        ],
        "font": {
         "color": "dimgray",
         "family": "Gentona, Tahoma, sans-serif",
         "size": 12
        },
        "height": 450,
        "hovermode": "closest",
        "legend": {
         "orientation": "h",
         "x": 0,
         "y": -0.2
        },
        "margin": {
         "b": 150,
         "l": 50,
         "pad": 0,
         "r": 20,
         "t": 20
        },
        "template": {
         "data": {
          "bar": [
           {
            "error_x": {
             "color": "#2a3f5f"
            },
            "error_y": {
             "color": "#2a3f5f"
            },
            "marker": {
             "line": {
              "color": "#E5ECF6",
              "width": 0.5
             }
            },
            "type": "bar"
           }
          ],
          "barpolar": [
           {
            "marker": {
             "line": {
              "color": "#E5ECF6",
              "width": 0.5
             }
            },
            "type": "barpolar"
           }
          ],
          "carpet": [
           {
            "aaxis": {
             "endlinecolor": "#2a3f5f",
             "gridcolor": "white",
             "linecolor": "white",
             "minorgridcolor": "white",
             "startlinecolor": "#2a3f5f"
            },
            "baxis": {
             "endlinecolor": "#2a3f5f",
             "gridcolor": "white",
             "linecolor": "white",
             "minorgridcolor": "white",
             "startlinecolor": "#2a3f5f"
            },
            "type": "carpet"
           }
          ],
          "choropleth": [
           {
            "colorbar": {
             "outlinewidth": 0,
             "ticks": ""
            },
            "type": "choropleth"
           }
          ],
          "contour": [
           {
            "colorbar": {
             "outlinewidth": 0,
             "ticks": ""
            },
            "colorscale": [
             [
              0,
              "#0d0887"
             ],
             [
              0.1111111111111111,
              "#46039f"
             ],
             [
              0.2222222222222222,
              "#7201a8"
             ],
             [
              0.3333333333333333,
              "#9c179e"
             ],
             [
              0.4444444444444444,
              "#bd3786"
             ],
             [
              0.5555555555555556,
              "#d8576b"
             ],
             [
              0.6666666666666666,
              "#ed7953"
             ],
             [
              0.7777777777777778,
              "#fb9f3a"
             ],
             [
              0.8888888888888888,
              "#fdca26"
             ],
             [
              1,
              "#f0f921"
             ]
            ],
            "type": "contour"
           }
          ],
          "contourcarpet": [
           {
            "colorbar": {
             "outlinewidth": 0,
             "ticks": ""
            },
            "type": "contourcarpet"
           }
          ],
          "heatmap": [
           {
            "colorbar": {
             "outlinewidth": 0,
             "ticks": ""
            },
            "colorscale": [
             [
              0,
              "#0d0887"
             ],
             [
              0.1111111111111111,
              "#46039f"
             ],
             [
              0.2222222222222222,
              "#7201a8"
             ],
             [
              0.3333333333333333,
              "#9c179e"
             ],
             [
              0.4444444444444444,
              "#bd3786"
             ],
             [
              0.5555555555555556,
              "#d8576b"
             ],
             [
              0.6666666666666666,
              "#ed7953"
             ],
             [
              0.7777777777777778,
              "#fb9f3a"
             ],
             [
              0.8888888888888888,
              "#fdca26"
             ],
             [
              1,
              "#f0f921"
             ]
            ],
            "type": "heatmap"
           }
          ],
          "heatmapgl": [
           {
            "colorbar": {
             "outlinewidth": 0,
             "ticks": ""
            },
            "colorscale": [
             [
              0,
              "#0d0887"
             ],
             [
              0.1111111111111111,
              "#46039f"
             ],
             [
              0.2222222222222222,
              "#7201a8"
             ],
             [
              0.3333333333333333,
              "#9c179e"
             ],
             [
              0.4444444444444444,
              "#bd3786"
             ],
             [
              0.5555555555555556,
              "#d8576b"
             ],
             [
              0.6666666666666666,
              "#ed7953"
             ],
             [
              0.7777777777777778,
              "#fb9f3a"
             ],
             [
              0.8888888888888888,
              "#fdca26"
             ],
             [
              1,
              "#f0f921"
             ]
            ],
            "type": "heatmapgl"
           }
          ],
          "histogram": [
           {
            "marker": {
             "colorbar": {
              "outlinewidth": 0,
              "ticks": ""
             }
            },
            "type": "histogram"
           }
          ],
          "histogram2d": [
           {
            "colorbar": {
             "outlinewidth": 0,
             "ticks": ""
            },
            "colorscale": [
             [
              0,
              "#0d0887"
             ],
             [
              0.1111111111111111,
              "#46039f"
             ],
             [
              0.2222222222222222,
              "#7201a8"
             ],
             [
              0.3333333333333333,
              "#9c179e"
             ],
             [
              0.4444444444444444,
              "#bd3786"
             ],
             [
              0.5555555555555556,
              "#d8576b"
             ],
             [
              0.6666666666666666,
              "#ed7953"
             ],
             [
              0.7777777777777778,
              "#fb9f3a"
             ],
             [
              0.8888888888888888,
              "#fdca26"
             ],
             [
              1,
              "#f0f921"
             ]
            ],
            "type": "histogram2d"
           }
          ],
          "histogram2dcontour": [
           {
            "colorbar": {
             "outlinewidth": 0,
             "ticks": ""
            },
            "colorscale": [
             [
              0,
              "#0d0887"
             ],
             [
              0.1111111111111111,
              "#46039f"
             ],
             [
              0.2222222222222222,
              "#7201a8"
             ],
             [
              0.3333333333333333,
              "#9c179e"
             ],
             [
              0.4444444444444444,
              "#bd3786"
             ],
             [
              0.5555555555555556,
              "#d8576b"
             ],
             [
              0.6666666666666666,
              "#ed7953"
             ],
             [
              0.7777777777777778,
              "#fb9f3a"
             ],
             [
              0.8888888888888888,
              "#fdca26"
             ],
             [
              1,
              "#f0f921"
             ]
            ],
            "type": "histogram2dcontour"
           }
          ],
          "mesh3d": [
           {
            "colorbar": {
             "outlinewidth": 0,
             "ticks": ""
            },
            "type": "mesh3d"
           }
          ],
          "parcoords": [
           {
            "line": {
             "colorbar": {
              "outlinewidth": 0,
              "ticks": ""
             }
            },
            "type": "parcoords"
           }
          ],
          "pie": [
           {
            "automargin": true,
            "type": "pie"
           }
          ],
          "scatter": [
           {
            "marker": {
             "colorbar": {
              "outlinewidth": 0,
              "ticks": ""
             }
            },
            "type": "scatter"
           }
          ],
          "scatter3d": [
           {
            "line": {
             "colorbar": {
              "outlinewidth": 0,
              "ticks": ""
             }
            },
            "marker": {
             "colorbar": {
              "outlinewidth": 0,
              "ticks": ""
             }
            },
            "type": "scatter3d"
           }
          ],
          "scattercarpet": [
           {
            "marker": {
             "colorbar": {
              "outlinewidth": 0,
              "ticks": ""
             }
            },
            "type": "scattercarpet"
           }
          ],
          "scattergeo": [
           {
            "marker": {
             "colorbar": {
              "outlinewidth": 0,
              "ticks": ""
             }
            },
            "type": "scattergeo"
           }
          ],
          "scattergl": [
           {
            "marker": {
             "colorbar": {
              "outlinewidth": 0,
              "ticks": ""
             }
            },
            "type": "scattergl"
           }
          ],
          "scattermapbox": [
           {
            "marker": {
             "colorbar": {
              "outlinewidth": 0,
              "ticks": ""
             }
            },
            "type": "scattermapbox"
           }
          ],
          "scatterpolar": [
           {
            "marker": {
             "colorbar": {
              "outlinewidth": 0,
              "ticks": ""
             }
            },
            "type": "scatterpolar"
           }
          ],
          "scatterpolargl": [
           {
            "marker": {
             "colorbar": {
              "outlinewidth": 0,
              "ticks": ""
             }
            },
            "type": "scatterpolargl"
           }
          ],
          "scatterternary": [
           {
            "marker": {
             "colorbar": {
              "outlinewidth": 0,
              "ticks": ""
             }
            },
            "type": "scatterternary"
           }
          ],
          "surface": [
           {
            "colorbar": {
             "outlinewidth": 0,
             "ticks": ""
            },
            "colorscale": [
             [
              0,
              "#0d0887"
             ],
             [
              0.1111111111111111,
              "#46039f"
             ],
             [
              0.2222222222222222,
              "#7201a8"
             ],
             [
              0.3333333333333333,
              "#9c179e"
             ],
             [
              0.4444444444444444,
              "#bd3786"
             ],
             [
              0.5555555555555556,
              "#d8576b"
             ],
             [
              0.6666666666666666,
              "#ed7953"
             ],
             [
              0.7777777777777778,
              "#fb9f3a"
             ],
             [
              0.8888888888888888,
              "#fdca26"
             ],
             [
              1,
              "#f0f921"
             ]
            ],
            "type": "surface"
           }
          ],
          "table": [
           {
            "cells": {
             "fill": {
              "color": "#EBF0F8"
             },
             "line": {
              "color": "white"
             }
            },
            "header": {
             "fill": {
              "color": "#C8D4E3"
             },
             "line": {
              "color": "white"
             }
            },
            "type": "table"
           }
          ]
         },
         "layout": {
          "annotationdefaults": {
           "arrowcolor": "#2a3f5f",
           "arrowhead": 0,
           "arrowwidth": 1
          },
          "coloraxis": {
           "colorbar": {
            "outlinewidth": 0,
            "ticks": ""
           }
          },
          "colorscale": {
           "diverging": [
            [
             0,
             "#8e0152"
            ],
            [
             0.1,
             "#c51b7d"
            ],
            [
             0.2,
             "#de77ae"
            ],
            [
             0.3,
             "#f1b6da"
            ],
            [
             0.4,
             "#fde0ef"
            ],
            [
             0.5,
             "#f7f7f7"
            ],
            [
             0.6,
             "#e6f5d0"
            ],
            [
             0.7,
             "#b8e186"
            ],
            [
             0.8,
             "#7fbc41"
            ],
            [
             0.9,
             "#4d9221"
            ],
            [
             1,
             "#276419"
            ]
           ],
           "sequential": [
            [
             0,
             "#0d0887"
            ],
            [
             0.1111111111111111,
             "#46039f"
            ],
            [
             0.2222222222222222,
             "#7201a8"
            ],
            [
             0.3333333333333333,
             "#9c179e"
            ],
            [
             0.4444444444444444,
             "#bd3786"
            ],
            [
             0.5555555555555556,
             "#d8576b"
            ],
            [
             0.6666666666666666,
             "#ed7953"
            ],
            [
             0.7777777777777778,
             "#fb9f3a"
            ],
            [
             0.8888888888888888,
             "#fdca26"
            ],
            [
             1,
             "#f0f921"
            ]
           ],
           "sequentialminus": [
            [
             0,
             "#0d0887"
            ],
            [
             0.1111111111111111,
             "#46039f"
            ],
            [
             0.2222222222222222,
             "#7201a8"
            ],
            [
             0.3333333333333333,
             "#9c179e"
            ],
            [
             0.4444444444444444,
             "#bd3786"
            ],
            [
             0.5555555555555556,
             "#d8576b"
            ],
            [
             0.6666666666666666,
             "#ed7953"
            ],
            [
             0.7777777777777778,
             "#fb9f3a"
            ],
            [
             0.8888888888888888,
             "#fdca26"
            ],
            [
             1,
             "#f0f921"
            ]
           ]
          },
          "colorway": [
           "#636efa",
           "#EF553B",
           "#00cc96",
           "#ab63fa",
           "#FFA15A",
           "#19d3f3",
           "#FF6692",
           "#B6E880",
           "#FF97FF",
           "#FECB52"
          ],
          "font": {
           "color": "#2a3f5f"
          },
          "geo": {
           "bgcolor": "white",
           "lakecolor": "white",
           "landcolor": "#E5ECF6",
           "showlakes": true,
           "showland": true,
           "subunitcolor": "white"
          },
          "hoverlabel": {
           "align": "left"
          },
          "hovermode": "closest",
          "mapbox": {
           "style": "light"
          },
          "paper_bgcolor": "white",
          "plot_bgcolor": "#E5ECF6",
          "polar": {
           "angularaxis": {
            "gridcolor": "white",
            "linecolor": "white",
            "ticks": ""
           },
           "bgcolor": "#E5ECF6",
           "radialaxis": {
            "gridcolor": "white",
            "linecolor": "white",
            "ticks": ""
           }
          },
          "scene": {
           "xaxis": {
            "backgroundcolor": "#E5ECF6",
            "gridcolor": "white",
            "gridwidth": 2,
            "linecolor": "white",
            "showbackground": true,
            "ticks": "",
            "zerolinecolor": "white"
           },
           "yaxis": {
            "backgroundcolor": "#E5ECF6",
            "gridcolor": "white",
            "gridwidth": 2,
            "linecolor": "white",
            "showbackground": true,
            "ticks": "",
            "zerolinecolor": "white"
           },
           "zaxis": {
            "backgroundcolor": "#E5ECF6",
            "gridcolor": "white",
            "gridwidth": 2,
            "linecolor": "white",
            "showbackground": true,
            "ticks": "",
            "zerolinecolor": "white"
           }
          },
          "shapedefaults": {
           "line": {
            "color": "#2a3f5f"
           }
          },
          "ternary": {
           "aaxis": {
            "gridcolor": "white",
            "linecolor": "white",
            "ticks": ""
           },
           "baxis": {
            "gridcolor": "white",
            "linecolor": "white",
            "ticks": ""
           },
           "bgcolor": "#E5ECF6",
           "caxis": {
            "gridcolor": "white",
            "linecolor": "white",
            "ticks": ""
           }
          },
          "title": {
           "x": 0.05
          },
          "xaxis": {
           "automargin": true,
           "gridcolor": "white",
           "linecolor": "white",
           "ticks": "",
           "title": {
            "standoff": 15
           },
           "zerolinecolor": "white",
           "zerolinewidth": 2
          },
          "yaxis": {
           "automargin": true,
           "gridcolor": "white",
           "linecolor": "white",
           "ticks": "",
           "title": {
            "standoff": 15
           },
           "zerolinecolor": "white",
           "zerolinewidth": 2
          }
         }
        },
        "width": 720,
        "xaxis": {
         "rangemode": "nonnegative",
         "showgrid": false,
         "tickcolor": "#eee",
         "ticklen": 12,
         "ticks": "inside",
         "zeroline": false
        },
        "yaxis": {
         "title": {
          "text": "Confirmed new cases"
         },
         "type": "linear"
        }
       }
      },
      "text/html": [
       "<div>\n",
       "        \n",
       "        \n",
       "            <div id=\"9b53f6e4-c6f5-44ef-896e-c60f3759317e\" class=\"plotly-graph-div\" style=\"height:450px; width:720px;\"></div>\n",
       "            <script type=\"text/javascript\">\n",
       "                require([\"plotly\"], function(Plotly) {\n",
       "                    window.PLOTLYENV=window.PLOTLYENV || {};\n",
       "                    \n",
       "                if (document.getElementById(\"9b53f6e4-c6f5-44ef-896e-c60f3759317e\")) {\n",
       "                    Plotly.newPlot(\n",
       "                        '9b53f6e4-c6f5-44ef-896e-c60f3759317e',\n",
       "                        [{\"hoverinfo\": \"text\", \"hoverlabel\": {\"bgcolor\": \"white\", \"bordercolor\": \"#719949\", \"font\": {\"color\": \"#719949\"}}, \"hovertext\": [\"Italy:<br>nan\", \"Italy:<br>nan\", \"Italy:<br>0\", \"Italy:<br>0\", \"Italy:<br>0\", \"Italy:<br>0\", \"Italy:<br>0\", \"Italy:<br>1\", \"Italy:<br>1\", \"Italy:<br>1\", \"Italy:<br>0\", \"Italy:<br>0\", \"Italy:<br>0\", \"Italy:<br>0\", \"Italy:<br>0\", \"Italy:<br>0\", \"Italy:<br>0\", \"Italy:<br>0\", \"Italy:<br>0\", \"Italy:<br>0\", \"Italy:<br>0\", \"Italy:<br>0\", \"Italy:<br>0\", \"Italy:<br>0\", \"Italy:<br>0\", \"Italy:<br>0\", \"Italy:<br>0\", \"Italy:<br>0\", \"Italy:<br>6\", \"Italy:<br>20\", \"Italy:<br>51\", \"Italy:<br>70\", \"Italy:<br>87\", \"Italy:<br>99\", \"Italy:<br>142\", \"Italy:<br>189\", \"Italy:<br>225\", \"Italy:<br>346\", \"Italy:<br>383\", \"Italy:<br>458\", \"Italy:<br>465\", \"Italy:<br>607\", \"Italy:<br>711\", \"Italy:<br>931\", \"Italy:<br>1172\", \"Italy:<br>1512\", \"Italy:<br>1422\", \"Italy:<br>1696\", \"Italy:<br>1097\", \"Italy:<br>2504\", \"Italy:<br>2898\", \"Italy:<br>4095\", \"Italy:<br>3440\", \"Italy:<br>3450\", \"Italy:<br>3655\", \"Italy:<br>4352\", \"Italy:<br>5172\", \"Italy:<br>5955\", \"Italy:<br>6034\", \"Italy:<br>5635\", \"Italy:<br>5199\", \"Italy:<br>5083\", \"Italy:<br>5554\", \"Italy:<br>5774\", \"Italy:<br>6029\", \"Italy:<br>5700\", \"Italy:<br>5080\", \"Italy:<br>4440\", \"Italy:<br>4295\", \"Italy:<br>4501\", \"Italy:<br>nan\"], \"line\": {\"width\": 2}, \"marker\": {\"color\": \"#719949\"}, \"name\": \"Italy  \", \"showlegend\": true, \"type\": \"scatter\", \"x\": [\"2020-01-23T00:00:00\", \"2020-01-24T00:00:00\", \"2020-01-25T00:00:00\", \"2020-01-26T00:00:00\", \"2020-01-27T00:00:00\", \"2020-01-28T00:00:00\", \"2020-01-29T00:00:00\", \"2020-01-30T00:00:00\", \"2020-01-31T00:00:00\", \"2020-02-01T00:00:00\", \"2020-02-02T00:00:00\", \"2020-02-03T00:00:00\", \"2020-02-04T00:00:00\", \"2020-02-05T00:00:00\", \"2020-02-06T00:00:00\", \"2020-02-07T00:00:00\", \"2020-02-08T00:00:00\", \"2020-02-09T00:00:00\", \"2020-02-10T00:00:00\", \"2020-02-11T00:00:00\", \"2020-02-12T00:00:00\", \"2020-02-13T00:00:00\", \"2020-02-14T00:00:00\", \"2020-02-15T00:00:00\", \"2020-02-16T00:00:00\", \"2020-02-17T00:00:00\", \"2020-02-18T00:00:00\", \"2020-02-19T00:00:00\", \"2020-02-20T00:00:00\", \"2020-02-21T00:00:00\", \"2020-02-22T00:00:00\", \"2020-02-23T00:00:00\", \"2020-02-24T00:00:00\", \"2020-02-25T00:00:00\", \"2020-02-26T00:00:00\", \"2020-02-27T00:00:00\", \"2020-02-28T00:00:00\", \"2020-02-29T00:00:00\", \"2020-03-01T00:00:00\", \"2020-03-02T00:00:00\", \"2020-03-03T00:00:00\", \"2020-03-04T00:00:00\", \"2020-03-05T00:00:00\", \"2020-03-06T00:00:00\", \"2020-03-07T00:00:00\", \"2020-03-08T00:00:00\", \"2020-03-09T00:00:00\", \"2020-03-10T00:00:00\", \"2020-03-11T00:00:00\", \"2020-03-12T00:00:00\", \"2020-03-13T00:00:00\", \"2020-03-14T00:00:00\", \"2020-03-15T00:00:00\", \"2020-03-16T00:00:00\", \"2020-03-17T00:00:00\", \"2020-03-18T00:00:00\", \"2020-03-19T00:00:00\", \"2020-03-20T00:00:00\", \"2020-03-21T00:00:00\", \"2020-03-22T00:00:00\", \"2020-03-23T00:00:00\", \"2020-03-24T00:00:00\", \"2020-03-25T00:00:00\", \"2020-03-26T00:00:00\", \"2020-03-27T00:00:00\", \"2020-03-28T00:00:00\", \"2020-03-29T00:00:00\", \"2020-03-30T00:00:00\", \"2020-03-31T00:00:00\", \"2020-04-01T00:00:00\", \"2020-04-02T00:00:00\"], \"y\": [null, null, 0.0, 0.0, 0.0, 0.0, 0.0, 0.6666666666666666, 0.6666666666666666, 0.6666666666666666, 0.0, 0.0, 0.0, 0.0, 0.3333333333333333, 0.3333333333333333, 0.3333333333333333, 0.0, 0.0, 0.0, 0.0, 0.0, 0.0, 0.0, 0.0, 0.0, 0.0, 0.0, 5.666666666666667, 19.666666666666668, 50.666666666666664, 69.66666666666667, 86.66666666666667, 99.33333333333333, 142.0, 188.66666666666666, 225.0, 346.3333333333333, 382.6666666666667, 458.0, 465.0, 607.3333333333334, 711.3333333333334, 931.3333333333334, 1172.3333333333333, 1512.0, 1422.0, 1695.6666666666667, 1096.6666666666667, 2503.6666666666665, 2898.3333333333335, 4095.0, 3440.0, 3449.6666666666665, 3655.3333333333335, 4351.666666666667, 5171.666666666667, 5955.0, 6034.333333333333, 5635.333333333333, 5199.333333333333, 5082.666666666667, 5554.0, 5774.0, 6028.666666666667, 5700.0, 5080.333333333333, 4440.0, 4295.0, 4501.0, null]}, {\"hoverinfo\": \"text\", \"hoverlabel\": {\"bgcolor\": \"white\", \"bordercolor\": \"#FF6900\", \"font\": {\"color\": \"#FF6900\"}}, \"hovertext\": [\"Spain:<br>nan\", \"Spain:<br>nan\", \"Spain:<br>0\", \"Spain:<br>0\", \"Spain:<br>0\", \"Spain:<br>0\", \"Spain:<br>0\", \"Spain:<br>0\", \"Spain:<br>0\", \"Spain:<br>0\", \"Spain:<br>0\", \"Spain:<br>0\", \"Spain:<br>0\", \"Spain:<br>0\", \"Spain:<br>0\", \"Spain:<br>0\", \"Spain:<br>0\", \"Spain:<br>0\", \"Spain:<br>0\", \"Spain:<br>0\", \"Spain:<br>0\", \"Spain:<br>0\", \"Spain:<br>0\", \"Spain:<br>0\", \"Spain:<br>0\", \"Spain:<br>0\", \"Spain:<br>0\", \"Spain:<br>0\", \"Spain:<br>0\", \"Spain:<br>0\", \"Spain:<br>0\", \"Spain:<br>0\", \"Spain:<br>1\", \"Spain:<br>4\", \"Spain:<br>4\", \"Spain:<br>9\", \"Spain:<br>11\", \"Spain:<br>23\", \"Spain:<br>29\", \"Spain:<br>40\", \"Spain:<br>46\", \"Spain:<br>46\", \"Spain:<br>78\", \"Spain:<br>93\", \"Spain:<br>138\", \"Spain:<br>224\", \"Spain:<br>398\", \"Spain:<br>535\", \"Spain:<br>401\", \"Spain:<br>1179\", \"Spain:<br>1371\", \"Spain:<br>1840\", \"Spain:<br>1570\", \"Spain:<br>1786\", \"Spain:<br>2037\", \"Spain:<br>2674\", \"Spain:<br>2887\", \"Spain:<br>3821\", \"Spain:<br>3602\", \"Spain:<br>4909\", \"Spain:<br>4837\", \"Spain:<br>6916\", \"Spain:<br>7550\", \"Spain:<br>8611\", \"Spain:<br>7907\", \"Spain:<br>7441\", \"Spain:<br>7412\", \"Spain:<br>7563\", \"Spain:<br>8003\", \"Spain:<br>8036\", \"Spain:<br>nan\"], \"line\": {\"width\": 2}, \"marker\": {\"color\": \"#FF6900\"}, \"name\": \"Spain  \", \"showlegend\": true, \"type\": \"scatter\", \"x\": [\"2020-01-23T00:00:00\", \"2020-01-24T00:00:00\", \"2020-01-25T00:00:00\", \"2020-01-26T00:00:00\", \"2020-01-27T00:00:00\", \"2020-01-28T00:00:00\", \"2020-01-29T00:00:00\", \"2020-01-30T00:00:00\", \"2020-01-31T00:00:00\", \"2020-02-01T00:00:00\", \"2020-02-02T00:00:00\", \"2020-02-03T00:00:00\", \"2020-02-04T00:00:00\", \"2020-02-05T00:00:00\", \"2020-02-06T00:00:00\", \"2020-02-07T00:00:00\", \"2020-02-08T00:00:00\", \"2020-02-09T00:00:00\", \"2020-02-10T00:00:00\", \"2020-02-11T00:00:00\", \"2020-02-12T00:00:00\", \"2020-02-13T00:00:00\", \"2020-02-14T00:00:00\", \"2020-02-15T00:00:00\", \"2020-02-16T00:00:00\", \"2020-02-17T00:00:00\", \"2020-02-18T00:00:00\", \"2020-02-19T00:00:00\", \"2020-02-20T00:00:00\", \"2020-02-21T00:00:00\", \"2020-02-22T00:00:00\", \"2020-02-23T00:00:00\", \"2020-02-24T00:00:00\", \"2020-02-25T00:00:00\", \"2020-02-26T00:00:00\", \"2020-02-27T00:00:00\", \"2020-02-28T00:00:00\", \"2020-02-29T00:00:00\", \"2020-03-01T00:00:00\", \"2020-03-02T00:00:00\", \"2020-03-03T00:00:00\", \"2020-03-04T00:00:00\", \"2020-03-05T00:00:00\", \"2020-03-06T00:00:00\", \"2020-03-07T00:00:00\", \"2020-03-08T00:00:00\", \"2020-03-09T00:00:00\", \"2020-03-10T00:00:00\", \"2020-03-11T00:00:00\", \"2020-03-12T00:00:00\", \"2020-03-13T00:00:00\", \"2020-03-14T00:00:00\", \"2020-03-15T00:00:00\", \"2020-03-16T00:00:00\", \"2020-03-17T00:00:00\", \"2020-03-18T00:00:00\", \"2020-03-19T00:00:00\", \"2020-03-20T00:00:00\", \"2020-03-21T00:00:00\", \"2020-03-22T00:00:00\", \"2020-03-23T00:00:00\", \"2020-03-24T00:00:00\", \"2020-03-25T00:00:00\", \"2020-03-26T00:00:00\", \"2020-03-27T00:00:00\", \"2020-03-28T00:00:00\", \"2020-03-29T00:00:00\", \"2020-03-30T00:00:00\", \"2020-03-31T00:00:00\", \"2020-04-01T00:00:00\", \"2020-04-02T00:00:00\"], \"y\": [null, null, 0.0, 0.0, 0.0, 0.0, 0.0, 0.0, 0.3333333333333333, 0.3333333333333333, 0.3333333333333333, 0.0, 0.0, 0.0, 0.0, 0.0, 0.3333333333333333, 0.3333333333333333, 0.3333333333333333, 0.0, 0.0, 0.0, 0.0, 0.0, 0.0, 0.0, 0.0, 0.0, 0.0, 0.0, 0.0, 0.0, 1.3333333333333333, 3.6666666666666665, 4.333333333333333, 8.666666666666666, 10.666666666666666, 23.0, 29.333333333333332, 40.0, 46.0, 46.333333333333336, 78.33333333333333, 92.66666666666667, 138.0, 224.33333333333334, 398.3333333333333, 534.6666666666666, 401.3333333333333, 1179.0, 1371.3333333333333, 1840.3333333333333, 1570.0, 1785.6666666666667, 2037.3333333333333, 2673.6666666666665, 2887.3333333333335, 3821.3333333333335, 3601.6666666666665, 4908.666666666667, 4837.0, 6915.666666666667, 7550.0, 8611.333333333334, 7906.666666666667, 7441.333333333333, 7412.333333333333, 7562.666666666667, 8002.666666666667, 8036.333333333333, null]}, {\"hoverinfo\": \"text\", \"hoverlabel\": {\"bgcolor\": \"white\", \"bordercolor\": \"#E8927C\", \"font\": {\"color\": \"#E8927C\"}}, \"hovertext\": [\"US:<br>nan\", \"US:<br>nan\", \"US:<br>1\", \"US:<br>1\", \"US:<br>1\", \"US:<br>0\", \"US:<br>0\", \"US:<br>1\", \"US:<br>1\", \"US:<br>1\", \"US:<br>1\", \"US:<br>1\", \"US:<br>1\", \"US:<br>0\", \"US:<br>0\", \"US:<br>0\", \"US:<br>0\", \"US:<br>0\", \"US:<br>0\", \"US:<br>0\", \"US:<br>1\", \"US:<br>0\", \"US:<br>0\", \"US:<br>0\", \"US:<br>0\", \"US:<br>0\", \"US:<br>0\", \"US:<br>0\", \"US:<br>1\", \"US:<br>1\", \"US:<br>1\", \"US:<br>12\", \"US:<br>12\", \"US:<br>14\", \"US:<br>2\", \"US:<br>3\", \"US:<br>4\", \"US:<br>5\", \"US:<br>13\", \"US:<br>17\", \"US:<br>25\", \"US:<br>40\", \"US:<br>48\", \"US:<br>84\", \"US:<br>100\", \"US:<br>107\", \"US:<br>186\", \"US:<br>254\", \"US:<br>360\", \"US:<br>407\", \"US:<br>482\", \"US:<br>612\", \"US:<br>818\", \"US:<br>1231\", \"US:<br>1428\", \"US:<br>3015\", \"US:<br>4226\", \"US:<br>5902\", \"US:<br>6533\", \"US:<br>8249\", \"US:<br>9417\", \"US:<br>10834\", \"US:<br>13330\", \"US:<br>15972\", \"US:<br>18567\", \"US:<br>19017\", \"US:<br>20050\", \"US:<br>22231\", \"US:<br>24162\", \"US:<br>27215\", \"US:<br>nan\"], \"line\": {\"width\": 2}, \"marker\": {\"color\": \"#E8927C\"}, \"name\": \"US  \", \"showlegend\": true, \"type\": \"scatter\", \"x\": [\"2020-01-23T00:00:00\", \"2020-01-24T00:00:00\", \"2020-01-25T00:00:00\", \"2020-01-26T00:00:00\", \"2020-01-27T00:00:00\", \"2020-01-28T00:00:00\", \"2020-01-29T00:00:00\", \"2020-01-30T00:00:00\", \"2020-01-31T00:00:00\", \"2020-02-01T00:00:00\", \"2020-02-02T00:00:00\", \"2020-02-03T00:00:00\", \"2020-02-04T00:00:00\", \"2020-02-05T00:00:00\", \"2020-02-06T00:00:00\", \"2020-02-07T00:00:00\", \"2020-02-08T00:00:00\", \"2020-02-09T00:00:00\", \"2020-02-10T00:00:00\", \"2020-02-11T00:00:00\", \"2020-02-12T00:00:00\", \"2020-02-13T00:00:00\", \"2020-02-14T00:00:00\", \"2020-02-15T00:00:00\", \"2020-02-16T00:00:00\", \"2020-02-17T00:00:00\", \"2020-02-18T00:00:00\", \"2020-02-19T00:00:00\", \"2020-02-20T00:00:00\", \"2020-02-21T00:00:00\", \"2020-02-22T00:00:00\", \"2020-02-23T00:00:00\", \"2020-02-24T00:00:00\", \"2020-02-25T00:00:00\", \"2020-02-26T00:00:00\", \"2020-02-27T00:00:00\", \"2020-02-28T00:00:00\", \"2020-02-29T00:00:00\", \"2020-03-01T00:00:00\", \"2020-03-02T00:00:00\", \"2020-03-03T00:00:00\", \"2020-03-04T00:00:00\", \"2020-03-05T00:00:00\", \"2020-03-06T00:00:00\", \"2020-03-07T00:00:00\", \"2020-03-08T00:00:00\", \"2020-03-09T00:00:00\", \"2020-03-10T00:00:00\", \"2020-03-11T00:00:00\", \"2020-03-12T00:00:00\", \"2020-03-13T00:00:00\", \"2020-03-14T00:00:00\", \"2020-03-15T00:00:00\", \"2020-03-16T00:00:00\", \"2020-03-17T00:00:00\", \"2020-03-18T00:00:00\", \"2020-03-19T00:00:00\", \"2020-03-20T00:00:00\", \"2020-03-21T00:00:00\", \"2020-03-22T00:00:00\", \"2020-03-23T00:00:00\", \"2020-03-24T00:00:00\", \"2020-03-25T00:00:00\", \"2020-03-26T00:00:00\", \"2020-03-27T00:00:00\", \"2020-03-28T00:00:00\", \"2020-03-29T00:00:00\", \"2020-03-30T00:00:00\", \"2020-03-31T00:00:00\", \"2020-04-01T00:00:00\", \"2020-04-02T00:00:00\"], \"y\": [null, null, 1.3333333333333333, 1.0, 1.0, 0.0, 0.0, 0.6666666666666666, 1.0, 1.0, 1.3333333333333333, 1.0, 1.0, 0.0, 0.0, 0.0, 0.0, 0.0, 0.3333333333333333, 0.3333333333333333, 0.6666666666666666, 0.3333333333333333, 0.3333333333333333, 0.0, 0.0, 0.0, 0.0, 0.0, 0.6666666666666666, 0.6666666666666666, 0.6666666666666666, 12.0, 12.0, 14.0, 2.3333333333333335, 3.0, 3.6666666666666665, 5.333333333333333, 12.666666666666666, 16.666666666666668, 25.0, 39.666666666666664, 48.0, 84.33333333333333, 100.33333333333333, 107.0, 185.66666666666666, 254.33333333333334, 360.0, 406.6666666666667, 482.0, 612.0, 817.6666666666666, 1231.3333333333333, 1428.0, 3015.0, 4226.333333333333, 5902.0, 6533.0, 8249.0, 9417.0, 10834.0, 13329.666666666666, 15972.333333333334, 18566.666666666668, 19016.666666666668, 20050.0, 22231.333333333332, 24162.0, 27215.333333333332, null]}, {\"hoverinfo\": \"text\", \"hoverlabel\": {\"bgcolor\": \"white\", \"bordercolor\": \"#A6192E\", \"font\": {\"color\": \"#A6192E\"}}, \"hovertext\": [\"France:<br>nan\", \"France:<br>nan\", \"France:<br>1\", \"France:<br>0\", \"France:<br>0\", \"France:<br>1\", \"France:<br>1\", \"France:<br>0\", \"France:<br>0\", \"France:<br>0\", \"France:<br>0\", \"France:<br>0\", \"France:<br>0\", \"France:<br>0\", \"France:<br>0\", \"France:<br>2\", \"France:<br>2\", \"France:<br>2\", \"France:<br>0\", \"France:<br>0\", \"France:<br>0\", \"France:<br>0\", \"France:<br>0\", \"France:<br>0\", \"France:<br>0\", \"France:<br>0\", \"France:<br>0\", \"France:<br>0\", \"France:<br>0\", \"France:<br>0\", \"France:<br>0\", \"France:<br>0\", \"France:<br>1\", \"France:<br>2\", \"France:<br>9\", \"France:<br>14\", \"France:<br>27\", \"France:<br>31\", \"France:<br>45\", \"France:<br>35\", \"France:<br>53\", \"France:<br>63\", \"France:<br>151\", \"France:<br>224\", \"France:<br>252\", \"France:<br>188\", \"France:<br>278\", \"France:<br>386\", \"France:<br>358\", \"France:<br>629\", \"France:<br>734\", \"France:<br>746\", \"France:<br>1001\", \"France:<br>1073\", \"France:<br>1531\", \"France:<br>1429\", \"France:<br>1681\", \"France:<br>1780\", \"France:<br>1758\", \"France:<br>2455\", \"France:<br>2720\", \"France:<br>3119\", \"France:<br>3143\", \"France:<br>3593\", \"France:<br>4168\", \"France:<br>3719\", \"France:<br>3923\", \"France:<br>4907\", \"France:<br>5680\", \"France:<br>4920\", \"France:<br>nan\"], \"line\": {\"width\": 2}, \"marker\": {\"color\": \"#A6192E\"}, \"name\": \"France  \", \"showlegend\": true, \"type\": \"scatter\", \"x\": [\"2020-01-23T00:00:00\", \"2020-01-24T00:00:00\", \"2020-01-25T00:00:00\", \"2020-01-26T00:00:00\", \"2020-01-27T00:00:00\", \"2020-01-28T00:00:00\", \"2020-01-29T00:00:00\", \"2020-01-30T00:00:00\", \"2020-01-31T00:00:00\", \"2020-02-01T00:00:00\", \"2020-02-02T00:00:00\", \"2020-02-03T00:00:00\", \"2020-02-04T00:00:00\", \"2020-02-05T00:00:00\", \"2020-02-06T00:00:00\", \"2020-02-07T00:00:00\", \"2020-02-08T00:00:00\", \"2020-02-09T00:00:00\", \"2020-02-10T00:00:00\", \"2020-02-11T00:00:00\", \"2020-02-12T00:00:00\", \"2020-02-13T00:00:00\", \"2020-02-14T00:00:00\", \"2020-02-15T00:00:00\", \"2020-02-16T00:00:00\", \"2020-02-17T00:00:00\", \"2020-02-18T00:00:00\", \"2020-02-19T00:00:00\", \"2020-02-20T00:00:00\", \"2020-02-21T00:00:00\", \"2020-02-22T00:00:00\", \"2020-02-23T00:00:00\", \"2020-02-24T00:00:00\", \"2020-02-25T00:00:00\", \"2020-02-26T00:00:00\", \"2020-02-27T00:00:00\", \"2020-02-28T00:00:00\", \"2020-02-29T00:00:00\", \"2020-03-01T00:00:00\", \"2020-03-02T00:00:00\", \"2020-03-03T00:00:00\", \"2020-03-04T00:00:00\", \"2020-03-05T00:00:00\", \"2020-03-06T00:00:00\", \"2020-03-07T00:00:00\", \"2020-03-08T00:00:00\", \"2020-03-09T00:00:00\", \"2020-03-10T00:00:00\", \"2020-03-11T00:00:00\", \"2020-03-12T00:00:00\", \"2020-03-13T00:00:00\", \"2020-03-14T00:00:00\", \"2020-03-15T00:00:00\", \"2020-03-16T00:00:00\", \"2020-03-17T00:00:00\", \"2020-03-18T00:00:00\", \"2020-03-19T00:00:00\", \"2020-03-20T00:00:00\", \"2020-03-21T00:00:00\", \"2020-03-22T00:00:00\", \"2020-03-23T00:00:00\", \"2020-03-24T00:00:00\", \"2020-03-25T00:00:00\", \"2020-03-26T00:00:00\", \"2020-03-27T00:00:00\", \"2020-03-28T00:00:00\", \"2020-03-29T00:00:00\", \"2020-03-30T00:00:00\", \"2020-03-31T00:00:00\", \"2020-04-01T00:00:00\", \"2020-04-02T00:00:00\"], \"y\": [null, null, 1.0, 0.3333333333333333, 0.3333333333333333, 0.6666666666666666, 0.6666666666666666, 0.3333333333333333, 0.3333333333333333, 0.3333333333333333, 0.3333333333333333, 0.0, 0.0, 0.0, 0.0, 1.6666666666666667, 1.6666666666666667, 1.6666666666666667, 0.0, 0.0, 0.0, 0.0, 0.3333333333333333, 0.3333333333333333, 0.3333333333333333, 0.0, 0.0, 0.0, 0.0, 0.0, 0.0, 0.0, 0.6666666666666666, 2.0, 8.666666666666666, 14.333333333333334, 27.333333333333332, 30.666666666666668, 44.666666666666664, 34.666666666666664, 52.666666666666664, 63.0, 150.66666666666666, 223.66666666666666, 252.0, 187.66666666666666, 278.3333333333333, 385.6666666666667, 358.0, 629.0, 734.3333333333334, 746.3333333333334, 1000.6666666666666, 1073.0, 1530.6666666666667, 1429.0, 1681.0, 1779.6666666666667, 1757.6666666666667, 2455.0, 2719.6666666666665, 3119.0, 3142.6666666666665, 3593.3333333333335, 4168.333333333333, 3719.0, 3922.6666666666665, 4907.333333333333, 5680.333333333333, 4919.666666666667, null]}, {\"hoverinfo\": \"text\", \"hoverlabel\": {\"bgcolor\": \"white\", \"bordercolor\": \"#51284F\", \"font\": {\"color\": \"#51284F\"}}, \"hovertext\": [\"China:<br>nan\", \"China:<br>nan\", \"China:<br>477\", \"China:<br>652\", \"China:<br>1368\", \"China:<br>1337\", \"China:<br>1755\", \"China:<br>1431\", \"China:<br>1935\", \"China:<br>2830\", \"China:<br>3305\", \"China:<br>3939\", \"China:<br>3603\", \"China:<br>3624\", \"China:<br>3468\", \"China:<br>3125\", \"China:<br>3081\", \"China:<br>2748\", \"China:<br>2524\", \"China:<br>1643\", \"China:<br>5847\", \"China:<br>7324\", \"China:<br>7885\", \"China:<br>3539\", \"China:<br>2025\", \"China:<br>1933\", \"China:<br>1369\", \"China:<br>881\", \"China:<br>446\", \"China:<br>794\", \"China:<br>648\", \"China:<br>564\", \"China:<br>251\", \"China:<br>381\", \"China:<br>453\", \"China:<br>391\", \"China:<br>397\", \"China:<br>444\", \"China:<br>403\", \"China:<br>302\", \"China:<br>151\", \"China:<br>134\", \"China:<br>143\", \"China:<br>128\", \"China:<br>95\", \"China:<br>57\", \"China:<br>39\", \"China:<br>33\", \"China:<br>24\", \"China:<br>19\", \"China:<br>19\", \"China:<br>24\", \"China:<br>29\", \"China:<br>27\", \"China:<br>33\", \"China:<br>41\", \"China:<br>64\", \"China:<br>68\", \"China:<br>93\", \"China:<br>83\", \"China:<br>95\", \"China:<br>75\", \"China:<br>95\", \"China:<br>102\", \"China:<br>113\", \"China:<br>113\", \"China:<br>100\", \"China:<br>93\", \"China:<br>80\", \"China:<br>78\", \"China:<br>nan\"], \"line\": {\"width\": 2}, \"marker\": {\"color\": \"#51284F\"}, \"name\": \"China  \", \"showlegend\": true, \"type\": \"scatter\", \"x\": [\"2020-01-23T00:00:00\", \"2020-01-24T00:00:00\", \"2020-01-25T00:00:00\", \"2020-01-26T00:00:00\", \"2020-01-27T00:00:00\", \"2020-01-28T00:00:00\", \"2020-01-29T00:00:00\", \"2020-01-30T00:00:00\", \"2020-01-31T00:00:00\", \"2020-02-01T00:00:00\", \"2020-02-02T00:00:00\", \"2020-02-03T00:00:00\", \"2020-02-04T00:00:00\", \"2020-02-05T00:00:00\", \"2020-02-06T00:00:00\", \"2020-02-07T00:00:00\", \"2020-02-08T00:00:00\", \"2020-02-09T00:00:00\", \"2020-02-10T00:00:00\", \"2020-02-11T00:00:00\", \"2020-02-12T00:00:00\", \"2020-02-13T00:00:00\", \"2020-02-14T00:00:00\", \"2020-02-15T00:00:00\", \"2020-02-16T00:00:00\", \"2020-02-17T00:00:00\", \"2020-02-18T00:00:00\", \"2020-02-19T00:00:00\", \"2020-02-20T00:00:00\", \"2020-02-21T00:00:00\", \"2020-02-22T00:00:00\", \"2020-02-23T00:00:00\", \"2020-02-24T00:00:00\", \"2020-02-25T00:00:00\", \"2020-02-26T00:00:00\", \"2020-02-27T00:00:00\", \"2020-02-28T00:00:00\", \"2020-02-29T00:00:00\", \"2020-03-01T00:00:00\", \"2020-03-02T00:00:00\", \"2020-03-03T00:00:00\", \"2020-03-04T00:00:00\", \"2020-03-05T00:00:00\", \"2020-03-06T00:00:00\", \"2020-03-07T00:00:00\", \"2020-03-08T00:00:00\", \"2020-03-09T00:00:00\", \"2020-03-10T00:00:00\", \"2020-03-11T00:00:00\", \"2020-03-12T00:00:00\", \"2020-03-13T00:00:00\", \"2020-03-14T00:00:00\", \"2020-03-15T00:00:00\", \"2020-03-16T00:00:00\", \"2020-03-17T00:00:00\", \"2020-03-18T00:00:00\", \"2020-03-19T00:00:00\", \"2020-03-20T00:00:00\", \"2020-03-21T00:00:00\", \"2020-03-22T00:00:00\", \"2020-03-23T00:00:00\", \"2020-03-24T00:00:00\", \"2020-03-25T00:00:00\", \"2020-03-26T00:00:00\", \"2020-03-27T00:00:00\", \"2020-03-28T00:00:00\", \"2020-03-29T00:00:00\", \"2020-03-30T00:00:00\", \"2020-03-31T00:00:00\", \"2020-04-01T00:00:00\", \"2020-04-02T00:00:00\"], \"y\": [null, null, 477.3333333333333, 652.3333333333334, 1367.6666666666667, 1337.3333333333333, 1754.6666666666667, 1431.0, 1934.6666666666667, 2829.6666666666665, 3304.6666666666665, 3938.6666666666665, 3603.3333333333335, 3623.6666666666665, 3467.6666666666665, 3124.6666666666665, 3080.6666666666665, 2748.0, 2524.0, 1643.3333333333333, 5847.0, 7324.0, 7884.666666666667, 3539.3333333333335, 2025.3333333333333, 1932.6666666666667, 1368.6666666666667, 881.0, 446.3333333333333, 794.0, 648.3333333333334, 563.6666666666666, 251.0, 381.3333333333333, 453.0, 391.3333333333333, 396.6666666666667, 444.0, 402.6666666666667, 301.6666666666667, 151.33333333333334, 133.66666666666666, 143.0, 128.0, 95.33333333333333, 56.666666666666664, 39.0, 32.666666666666664, 24.0, 19.333333333333332, 18.666666666666668, 23.666666666666668, 29.333333333333332, 27.0, 33.0, 41.0, 64.0, 67.66666666666667, 93.0, 82.66666666666667, 95.33333333333333, 75.33333333333333, 94.66666666666667, 102.0, 112.66666666666667, 113.33333333333333, 100.33333333333333, 93.33333333333333, 79.66666666666667, 78.0, null]}, {\"hoverinfo\": \"text\", \"hoverlabel\": {\"bgcolor\": \"white\", \"bordercolor\": \"#A192B2\", \"font\": {\"color\": \"#A192B2\"}}, \"hovertext\": [\"Iran:<br>nan\", \"Iran:<br>nan\", \"Iran:<br>0\", \"Iran:<br>0\", \"Iran:<br>0\", \"Iran:<br>0\", \"Iran:<br>0\", \"Iran:<br>0\", \"Iran:<br>0\", \"Iran:<br>0\", \"Iran:<br>0\", \"Iran:<br>0\", \"Iran:<br>0\", \"Iran:<br>0\", \"Iran:<br>0\", \"Iran:<br>0\", \"Iran:<br>0\", \"Iran:<br>0\", \"Iran:<br>0\", \"Iran:<br>0\", \"Iran:<br>0\", \"Iran:<br>0\", \"Iran:<br>0\", \"Iran:<br>0\", \"Iran:<br>0\", \"Iran:<br>0\", \"Iran:<br>1\", \"Iran:<br>2\", \"Iran:<br>6\", \"Iran:<br>9\", \"Iran:<br>13\", \"Iran:<br>14\", \"Iran:<br>22\", \"Iran:<br>32\", \"Iran:<br>61\", \"Iran:<br>98\", \"Iran:<br>151\", \"Iran:<br>244\", \"Iran:<br>371\", \"Iran:<br>581\", \"Iran:<br>648\", \"Iran:<br>671\", \"Iran:<br>804\", \"Iran:<br>967\", \"Iran:<br>1018\", \"Iran:<br>805\", \"Iran:<br>740\", \"Iran:<br>811\", \"Iran:<br>971\", \"Iran:<br>1107\", \"Iran:<br>1243\", \"Iran:<br>1288\", \"Iran:<br>1209\", \"Iran:<br>1147\", \"Iran:<br>1141\", \"Iran:<br>1139\", \"Iran:<br>1158\", \"Iran:<br>1083\", \"Iran:<br>1077\", \"Iran:<br>1135\", \"Iran:<br>1400\", \"Iran:<br>1793\", \"Iran:<br>2119\", \"Iran:<br>2507\", \"Iran:<br>2797\", \"Iran:<br>2968\", \"Iran:<br>3054\", \"Iran:<br>3066\", \"Iran:<br>3095\", \"Iran:<br>2991\", \"Iran:<br>nan\"], \"line\": {\"width\": 2}, \"marker\": {\"color\": \"#A192B2\"}, \"name\": \"Iran  \", \"showlegend\": true, \"type\": \"scatter\", \"x\": [\"2020-01-23T00:00:00\", \"2020-01-24T00:00:00\", \"2020-01-25T00:00:00\", \"2020-01-26T00:00:00\", \"2020-01-27T00:00:00\", \"2020-01-28T00:00:00\", \"2020-01-29T00:00:00\", \"2020-01-30T00:00:00\", \"2020-01-31T00:00:00\", \"2020-02-01T00:00:00\", \"2020-02-02T00:00:00\", \"2020-02-03T00:00:00\", \"2020-02-04T00:00:00\", \"2020-02-05T00:00:00\", \"2020-02-06T00:00:00\", \"2020-02-07T00:00:00\", \"2020-02-08T00:00:00\", \"2020-02-09T00:00:00\", \"2020-02-10T00:00:00\", \"2020-02-11T00:00:00\", \"2020-02-12T00:00:00\", \"2020-02-13T00:00:00\", \"2020-02-14T00:00:00\", \"2020-02-15T00:00:00\", \"2020-02-16T00:00:00\", \"2020-02-17T00:00:00\", \"2020-02-18T00:00:00\", \"2020-02-19T00:00:00\", \"2020-02-20T00:00:00\", \"2020-02-21T00:00:00\", \"2020-02-22T00:00:00\", \"2020-02-23T00:00:00\", \"2020-02-24T00:00:00\", \"2020-02-25T00:00:00\", \"2020-02-26T00:00:00\", \"2020-02-27T00:00:00\", \"2020-02-28T00:00:00\", \"2020-02-29T00:00:00\", \"2020-03-01T00:00:00\", \"2020-03-02T00:00:00\", \"2020-03-03T00:00:00\", \"2020-03-04T00:00:00\", \"2020-03-05T00:00:00\", \"2020-03-06T00:00:00\", \"2020-03-07T00:00:00\", \"2020-03-08T00:00:00\", \"2020-03-09T00:00:00\", \"2020-03-10T00:00:00\", \"2020-03-11T00:00:00\", \"2020-03-12T00:00:00\", \"2020-03-13T00:00:00\", \"2020-03-14T00:00:00\", \"2020-03-15T00:00:00\", \"2020-03-16T00:00:00\", \"2020-03-17T00:00:00\", \"2020-03-18T00:00:00\", \"2020-03-19T00:00:00\", \"2020-03-20T00:00:00\", \"2020-03-21T00:00:00\", \"2020-03-22T00:00:00\", \"2020-03-23T00:00:00\", \"2020-03-24T00:00:00\", \"2020-03-25T00:00:00\", \"2020-03-26T00:00:00\", \"2020-03-27T00:00:00\", \"2020-03-28T00:00:00\", \"2020-03-29T00:00:00\", \"2020-03-30T00:00:00\", \"2020-03-31T00:00:00\", \"2020-04-01T00:00:00\", \"2020-04-02T00:00:00\"], \"y\": [null, null, 0.0, 0.0, 0.0, 0.0, 0.0, 0.0, 0.0, 0.0, 0.0, 0.0, 0.0, 0.0, 0.0, 0.0, 0.0, 0.0, 0.0, 0.0, 0.0, 0.0, 0.0, 0.0, 0.0, 0.0, 0.6666666666666666, 1.6666666666666667, 6.0, 8.666666666666666, 12.666666666666666, 14.333333333333334, 22.333333333333332, 32.0, 61.333333333333336, 97.66666666666667, 151.33333333333334, 244.33333333333334, 371.0, 581.0, 648.0, 670.6666666666666, 803.6666666666666, 967.0, 1017.6666666666666, 804.6666666666666, 739.6666666666666, 811.3333333333334, 971.3333333333334, 1107.3333333333333, 1243.0, 1287.6666666666667, 1209.0, 1146.6666666666667, 1141.0, 1138.6666666666667, 1158.3333333333333, 1083.0, 1077.0, 1135.0, 1400.3333333333333, 1793.0, 2119.0, 2507.0, 2797.0, 2967.6666666666665, 3054.3333333333335, 3065.6666666666665, 3094.6666666666665, 2991.0, null]}, {\"hoverinfo\": \"text\", \"hoverlabel\": {\"bgcolor\": \"white\", \"bordercolor\": \"#418FDE\", \"font\": {\"color\": \"#418FDE\"}}, \"hovertext\": [\"United Kingdom:<br>nan\", \"United Kingdom:<br>nan\", \"United Kingdom:<br>0\", \"United Kingdom:<br>0\", \"United Kingdom:<br>0\", \"United Kingdom:<br>0\", \"United Kingdom:<br>0\", \"United Kingdom:<br>1\", \"United Kingdom:<br>1\", \"United Kingdom:<br>1\", \"United Kingdom:<br>0\", \"United Kingdom:<br>0\", \"United Kingdom:<br>0\", \"United Kingdom:<br>0\", \"United Kingdom:<br>0\", \"United Kingdom:<br>0\", \"United Kingdom:<br>0\", \"United Kingdom:<br>2\", \"United Kingdom:<br>2\", \"United Kingdom:<br>2\", \"United Kingdom:<br>0\", \"United Kingdom:<br>0\", \"United Kingdom:<br>0\", \"United Kingdom:<br>0\", \"United Kingdom:<br>0\", \"United Kingdom:<br>0\", \"United Kingdom:<br>0\", \"United Kingdom:<br>0\", \"United Kingdom:<br>0\", \"United Kingdom:<br>0\", \"United Kingdom:<br>0\", \"United Kingdom:<br>1\", \"United Kingdom:<br>1\", \"United Kingdom:<br>1\", \"United Kingdom:<br>1\", \"United Kingdom:<br>2\", \"United Kingdom:<br>3\", \"United Kingdom:<br>7\", \"United Kingdom:<br>7\", \"United Kingdom:<br>9\", \"United Kingdom:<br>17\", \"United Kingdom:<br>25\", \"United Kingdom:<br>38\", \"United Kingdom:<br>40\", \"United Kingdom:<br>53\", \"United Kingdom:<br>53\", \"United Kingdom:<br>59\", \"United Kingdom:<br>62\", \"United Kingdom:<br>46\", \"United Kingdom:<br>139\", \"United Kingdom:<br>228\", \"United Kingdom:<br>229\", \"United Kingdom:<br>250\", \"United Kingdom:<br>272\", \"United Kingdom:<br>499\", \"United Kingdom:<br>388\", \"United Kingdom:<br>685\", \"United Kingdom:<br>808\", \"United Kingdom:<br>1010\", \"United Kingdom:<br>904\", \"United Kingdom:<br>1032\", \"United Kingdom:<br>1298\", \"United Kingdom:<br>1695\", \"United Kingdom:<br>2194\", \"United Kingdom:<br>2557\", \"United Kingdom:<br>2656\", \"United Kingdom:<br>2569\", \"United Kingdom:<br>2723\", \"United Kingdom:<br>3362\", \"United Kingdom:<br>3907\", \"United Kingdom:<br>nan\"], \"line\": {\"width\": 2}, \"marker\": {\"color\": \"#418FDE\"}, \"name\": \"United Kingdom  \", \"showlegend\": true, \"type\": \"scatter\", \"x\": [\"2020-01-23T00:00:00\", \"2020-01-24T00:00:00\", \"2020-01-25T00:00:00\", \"2020-01-26T00:00:00\", \"2020-01-27T00:00:00\", \"2020-01-28T00:00:00\", \"2020-01-29T00:00:00\", \"2020-01-30T00:00:00\", \"2020-01-31T00:00:00\", \"2020-02-01T00:00:00\", \"2020-02-02T00:00:00\", \"2020-02-03T00:00:00\", \"2020-02-04T00:00:00\", \"2020-02-05T00:00:00\", \"2020-02-06T00:00:00\", \"2020-02-07T00:00:00\", \"2020-02-08T00:00:00\", \"2020-02-09T00:00:00\", \"2020-02-10T00:00:00\", \"2020-02-11T00:00:00\", \"2020-02-12T00:00:00\", \"2020-02-13T00:00:00\", \"2020-02-14T00:00:00\", \"2020-02-15T00:00:00\", \"2020-02-16T00:00:00\", \"2020-02-17T00:00:00\", \"2020-02-18T00:00:00\", \"2020-02-19T00:00:00\", \"2020-02-20T00:00:00\", \"2020-02-21T00:00:00\", \"2020-02-22T00:00:00\", \"2020-02-23T00:00:00\", \"2020-02-24T00:00:00\", \"2020-02-25T00:00:00\", \"2020-02-26T00:00:00\", \"2020-02-27T00:00:00\", \"2020-02-28T00:00:00\", \"2020-02-29T00:00:00\", \"2020-03-01T00:00:00\", \"2020-03-02T00:00:00\", \"2020-03-03T00:00:00\", \"2020-03-04T00:00:00\", \"2020-03-05T00:00:00\", \"2020-03-06T00:00:00\", \"2020-03-07T00:00:00\", \"2020-03-08T00:00:00\", \"2020-03-09T00:00:00\", \"2020-03-10T00:00:00\", \"2020-03-11T00:00:00\", \"2020-03-12T00:00:00\", \"2020-03-13T00:00:00\", \"2020-03-14T00:00:00\", \"2020-03-15T00:00:00\", \"2020-03-16T00:00:00\", \"2020-03-17T00:00:00\", \"2020-03-18T00:00:00\", \"2020-03-19T00:00:00\", \"2020-03-20T00:00:00\", \"2020-03-21T00:00:00\", \"2020-03-22T00:00:00\", \"2020-03-23T00:00:00\", \"2020-03-24T00:00:00\", \"2020-03-25T00:00:00\", \"2020-03-26T00:00:00\", \"2020-03-27T00:00:00\", \"2020-03-28T00:00:00\", \"2020-03-29T00:00:00\", \"2020-03-30T00:00:00\", \"2020-03-31T00:00:00\", \"2020-04-01T00:00:00\", \"2020-04-02T00:00:00\"], \"y\": [null, null, 0.0, 0.0, 0.0, 0.0, 0.0, 0.6666666666666666, 0.6666666666666666, 0.6666666666666666, 0.0, 0.0, 0.0, 0.0, 0.3333333333333333, 0.3333333333333333, 0.3333333333333333, 1.6666666666666667, 1.6666666666666667, 2.0, 0.3333333333333333, 0.3333333333333333, 0.0, 0.0, 0.0, 0.0, 0.0, 0.0, 0.0, 0.0, 0.0, 1.3333333333333333, 1.3333333333333333, 1.3333333333333333, 0.6666666666666666, 2.3333333333333335, 3.3333333333333335, 7.0, 6.666666666666667, 9.333333333333334, 16.666666666666668, 25.333333333333332, 37.666666666666664, 40.333333333333336, 52.666666666666664, 52.666666666666664, 59.0, 61.666666666666664, 45.666666666666664, 139.33333333333334, 228.33333333333334, 228.66666666666666, 249.66666666666666, 272.0, 499.0, 388.3333333333333, 684.6666666666666, 808.3333333333334, 1009.6666666666666, 904.0, 1032.3333333333333, 1298.3333333333333, 1695.3333333333333, 2193.6666666666665, 2557.3333333333335, 2656.0, 2569.3333333333335, 2723.0, 3361.6666666666665, 3906.6666666666665, null]}, {\"hoverinfo\": \"text\", \"hoverlabel\": {\"bgcolor\": \"white\", \"bordercolor\": \"#86C8BC\", \"font\": {\"color\": \"#86C8BC\"}}, \"hovertext\": [\"Netherlands:<br>nan\", \"Netherlands:<br>nan\", \"Netherlands:<br>0\", \"Netherlands:<br>0\", \"Netherlands:<br>0\", \"Netherlands:<br>0\", \"Netherlands:<br>0\", \"Netherlands:<br>0\", \"Netherlands:<br>0\", \"Netherlands:<br>0\", \"Netherlands:<br>0\", \"Netherlands:<br>0\", \"Netherlands:<br>0\", \"Netherlands:<br>0\", \"Netherlands:<br>0\", \"Netherlands:<br>0\", \"Netherlands:<br>0\", \"Netherlands:<br>0\", \"Netherlands:<br>0\", \"Netherlands:<br>0\", \"Netherlands:<br>0\", \"Netherlands:<br>0\", \"Netherlands:<br>0\", \"Netherlands:<br>0\", \"Netherlands:<br>0\", \"Netherlands:<br>0\", \"Netherlands:<br>0\", \"Netherlands:<br>0\", \"Netherlands:<br>0\", \"Netherlands:<br>0\", \"Netherlands:<br>0\", \"Netherlands:<br>0\", \"Netherlands:<br>0\", \"Netherlands:<br>0\", \"Netherlands:<br>0\", \"Netherlands:<br>0\", \"Netherlands:<br>2\", \"Netherlands:<br>3\", \"Netherlands:<br>6\", \"Netherlands:<br>6\", \"Netherlands:<br>9\", \"Netherlands:<br>21\", \"Netherlands:<br>35\", \"Netherlands:<br>50\", \"Netherlands:<br>61\", \"Netherlands:<br>64\", \"Netherlands:<br>65\", \"Netherlands:<br>79\", \"Netherlands:<br>61\", \"Netherlands:<br>141\", \"Netherlands:<br>153\", \"Netherlands:<br>212\", \"Netherlands:<br>203\", \"Netherlands:<br>250\", \"Netherlands:<br>307\", \"Netherlands:<br>350\", \"Netherlands:<br>431\", \"Netherlands:<br>527\", \"Netherlands:<br>583\", \"Netherlands:<br>587\", \"Netherlands:<br>647\", \"Netherlands:<br>740\", \"Netherlands:<br>901\", \"Netherlands:<br>1022\", \"Netherlands:<br>1127\", \"Netherlands:<br>1154\", \"Netherlands:<br>1057\", \"Netherlands:<br>949\", \"Netherlands:<br>922\", \"Netherlands:<br>990\", \"Netherlands:<br>nan\"], \"line\": {\"width\": 2}, \"marker\": {\"color\": \"#86C8BC\"}, \"name\": \"Netherlands  \", \"showlegend\": true, \"type\": \"scatter\", \"x\": [\"2020-01-23T00:00:00\", \"2020-01-24T00:00:00\", \"2020-01-25T00:00:00\", \"2020-01-26T00:00:00\", \"2020-01-27T00:00:00\", \"2020-01-28T00:00:00\", \"2020-01-29T00:00:00\", \"2020-01-30T00:00:00\", \"2020-01-31T00:00:00\", \"2020-02-01T00:00:00\", \"2020-02-02T00:00:00\", \"2020-02-03T00:00:00\", \"2020-02-04T00:00:00\", \"2020-02-05T00:00:00\", \"2020-02-06T00:00:00\", \"2020-02-07T00:00:00\", \"2020-02-08T00:00:00\", \"2020-02-09T00:00:00\", \"2020-02-10T00:00:00\", \"2020-02-11T00:00:00\", \"2020-02-12T00:00:00\", \"2020-02-13T00:00:00\", \"2020-02-14T00:00:00\", \"2020-02-15T00:00:00\", \"2020-02-16T00:00:00\", \"2020-02-17T00:00:00\", \"2020-02-18T00:00:00\", \"2020-02-19T00:00:00\", \"2020-02-20T00:00:00\", \"2020-02-21T00:00:00\", \"2020-02-22T00:00:00\", \"2020-02-23T00:00:00\", \"2020-02-24T00:00:00\", \"2020-02-25T00:00:00\", \"2020-02-26T00:00:00\", \"2020-02-27T00:00:00\", \"2020-02-28T00:00:00\", \"2020-02-29T00:00:00\", \"2020-03-01T00:00:00\", \"2020-03-02T00:00:00\", \"2020-03-03T00:00:00\", \"2020-03-04T00:00:00\", \"2020-03-05T00:00:00\", \"2020-03-06T00:00:00\", \"2020-03-07T00:00:00\", \"2020-03-08T00:00:00\", \"2020-03-09T00:00:00\", \"2020-03-10T00:00:00\", \"2020-03-11T00:00:00\", \"2020-03-12T00:00:00\", \"2020-03-13T00:00:00\", \"2020-03-14T00:00:00\", \"2020-03-15T00:00:00\", \"2020-03-16T00:00:00\", \"2020-03-17T00:00:00\", \"2020-03-18T00:00:00\", \"2020-03-19T00:00:00\", \"2020-03-20T00:00:00\", \"2020-03-21T00:00:00\", \"2020-03-22T00:00:00\", \"2020-03-23T00:00:00\", \"2020-03-24T00:00:00\", \"2020-03-25T00:00:00\", \"2020-03-26T00:00:00\", \"2020-03-27T00:00:00\", \"2020-03-28T00:00:00\", \"2020-03-29T00:00:00\", \"2020-03-30T00:00:00\", \"2020-03-31T00:00:00\", \"2020-04-01T00:00:00\", \"2020-04-02T00:00:00\"], \"y\": [null, null, 0.0, 0.0, 0.0, 0.0, 0.0, 0.0, 0.0, 0.0, 0.0, 0.0, 0.0, 0.0, 0.0, 0.0, 0.0, 0.0, 0.0, 0.0, 0.0, 0.0, 0.0, 0.0, 0.0, 0.0, 0.0, 0.0, 0.0, 0.0, 0.0, 0.0, 0.0, 0.0, 0.3333333333333333, 0.3333333333333333, 2.0, 3.0, 5.666666666666667, 6.0, 9.333333333333334, 21.333333333333332, 34.666666666666664, 50.0, 61.0, 64.33333333333333, 64.66666666666667, 79.33333333333333, 60.666666666666664, 141.33333333333334, 153.0, 211.66666666666666, 203.33333333333334, 249.66666666666666, 306.6666666666667, 350.3333333333333, 430.6666666666667, 527.3333333333334, 583.3333333333334, 587.0, 646.6666666666666, 740.3333333333334, 901.3333333333334, 1022.3333333333334, 1127.0, 1154.0, 1056.6666666666667, 949.3333333333334, 922.0, 990.3333333333334, null]}, {\"hoverinfo\": \"text\", \"hoverlabel\": {\"bgcolor\": \"white\", \"bordercolor\": \"#286140\", \"font\": {\"color\": \"#286140\"}}, \"hovertext\": [\"Germany:<br>nan\", \"Germany:<br>nan\", \"Germany:<br>0\", \"Germany:<br>0\", \"Germany:<br>1\", \"Germany:<br>1\", \"Germany:<br>1\", \"Germany:<br>0\", \"Germany:<br>1\", \"Germany:<br>2\", \"Germany:<br>2\", \"Germany:<br>1\", \"Germany:<br>1\", \"Germany:<br>0\", \"Germany:<br>0\", \"Germany:<br>0\", \"Germany:<br>1\", \"Germany:<br>0\", \"Germany:<br>1\", \"Germany:<br>1\", \"Germany:<br>1\", \"Germany:<br>0\", \"Germany:<br>0\", \"Germany:<br>0\", \"Germany:<br>0\", \"Germany:<br>0\", \"Germany:<br>0\", \"Germany:<br>0\", \"Germany:<br>0\", \"Germany:<br>0\", \"Germany:<br>0\", \"Germany:<br>0\", \"Germany:<br>0\", \"Germany:<br>4\", \"Germany:<br>10\", \"Germany:<br>10\", \"Germany:<br>17\", \"Germany:<br>28\", \"Germany:<br>37\", \"Germany:<br>39\", \"Germany:<br>44\", \"Germany:<br>108\", \"Germany:<br>158\", \"Germany:<br>179\", \"Germany:<br>186\", \"Germany:<br>169\", \"Germany:<br>219\", \"Germany:<br>289\", \"Germany:<br>301\", \"Germany:<br>739\", \"Germany:<br>892\", \"Germany:<br>1239\", \"Germany:<br>1199\", \"Germany:<br>1557\", \"Germany:<br>2177\", \"Germany:<br>2683\", \"Germany:<br>3530\", \"Germany:<br>3295\", \"Germany:<br>3184\", \"Germany:<br>3069\", \"Germany:<br>3591\", \"Germany:<br>4150\", \"Germany:<br>4961\", \"Germany:<br>5962\", \"Germany:<br>6791\", \"Germany:<br>6052\", \"Germany:<br>5338\", \"Germany:<br>4704\", \"Germany:<br>5259\", \"Germany:<br>5970\", \"Germany:<br>nan\"], \"line\": {\"width\": 2}, \"marker\": {\"color\": \"#286140\"}, \"name\": \"Germany  \", \"showlegend\": true, \"type\": \"scatter\", \"x\": [\"2020-01-23T00:00:00\", \"2020-01-24T00:00:00\", \"2020-01-25T00:00:00\", \"2020-01-26T00:00:00\", \"2020-01-27T00:00:00\", \"2020-01-28T00:00:00\", \"2020-01-29T00:00:00\", \"2020-01-30T00:00:00\", \"2020-01-31T00:00:00\", \"2020-02-01T00:00:00\", \"2020-02-02T00:00:00\", \"2020-02-03T00:00:00\", \"2020-02-04T00:00:00\", \"2020-02-05T00:00:00\", \"2020-02-06T00:00:00\", \"2020-02-07T00:00:00\", \"2020-02-08T00:00:00\", \"2020-02-09T00:00:00\", \"2020-02-10T00:00:00\", \"2020-02-11T00:00:00\", \"2020-02-12T00:00:00\", \"2020-02-13T00:00:00\", \"2020-02-14T00:00:00\", \"2020-02-15T00:00:00\", \"2020-02-16T00:00:00\", \"2020-02-17T00:00:00\", \"2020-02-18T00:00:00\", \"2020-02-19T00:00:00\", \"2020-02-20T00:00:00\", \"2020-02-21T00:00:00\", \"2020-02-22T00:00:00\", \"2020-02-23T00:00:00\", \"2020-02-24T00:00:00\", \"2020-02-25T00:00:00\", \"2020-02-26T00:00:00\", \"2020-02-27T00:00:00\", \"2020-02-28T00:00:00\", \"2020-02-29T00:00:00\", \"2020-03-01T00:00:00\", \"2020-03-02T00:00:00\", \"2020-03-03T00:00:00\", \"2020-03-04T00:00:00\", \"2020-03-05T00:00:00\", \"2020-03-06T00:00:00\", \"2020-03-07T00:00:00\", \"2020-03-08T00:00:00\", \"2020-03-09T00:00:00\", \"2020-03-10T00:00:00\", \"2020-03-11T00:00:00\", \"2020-03-12T00:00:00\", \"2020-03-13T00:00:00\", \"2020-03-14T00:00:00\", \"2020-03-15T00:00:00\", \"2020-03-16T00:00:00\", \"2020-03-17T00:00:00\", \"2020-03-18T00:00:00\", \"2020-03-19T00:00:00\", \"2020-03-20T00:00:00\", \"2020-03-21T00:00:00\", \"2020-03-22T00:00:00\", \"2020-03-23T00:00:00\", \"2020-03-24T00:00:00\", \"2020-03-25T00:00:00\", \"2020-03-26T00:00:00\", \"2020-03-27T00:00:00\", \"2020-03-28T00:00:00\", \"2020-03-29T00:00:00\", \"2020-03-30T00:00:00\", \"2020-03-31T00:00:00\", \"2020-04-01T00:00:00\", \"2020-04-02T00:00:00\"], \"y\": [null, null, 0.0, 0.3333333333333333, 1.3333333333333333, 1.3333333333333333, 1.0, 0.3333333333333333, 1.3333333333333333, 2.0, 2.3333333333333335, 1.3333333333333333, 0.6666666666666666, 0.0, 0.3333333333333333, 0.3333333333333333, 0.6666666666666666, 0.3333333333333333, 1.0, 0.6666666666666666, 0.6666666666666666, 0.0, 0.0, 0.0, 0.0, 0.0, 0.0, 0.0, 0.0, 0.0, 0.0, 0.0, 0.3333333333333333, 3.6666666666666665, 10.0, 10.333333333333334, 17.333333333333332, 28.0, 37.0, 39.0, 44.0, 107.66666666666667, 158.0, 179.0, 186.0, 168.66666666666666, 219.33333333333334, 289.3333333333333, 300.6666666666667, 739.3333333333334, 892.3333333333334, 1239.0, 1199.0, 1557.3333333333333, 2177.3333333333335, 2682.6666666666665, 3530.3333333333335, 3295.3333333333335, 3184.3333333333335, 3069.3333333333335, 3591.0, 4150.0, 4960.666666666667, 5961.666666666667, 6790.666666666667, 6052.333333333333, 5338.0, 4704.333333333333, 5259.0, 5969.666666666667, null]}, {\"hoverinfo\": \"text\", \"hoverlabel\": {\"bgcolor\": \"white\", \"bordercolor\": \"#F1C400\", \"font\": {\"color\": \"#F1C400\"}}, \"hovertext\": [\"Belgium:<br>nan\", \"Belgium:<br>nan\", \"Belgium:<br>0\", \"Belgium:<br>0\", \"Belgium:<br>0\", \"Belgium:<br>0\", \"Belgium:<br>0\", \"Belgium:<br>0\", \"Belgium:<br>0\", \"Belgium:<br>0\", \"Belgium:<br>0\", \"Belgium:<br>0\", \"Belgium:<br>0\", \"Belgium:<br>0\", \"Belgium:<br>0\", \"Belgium:<br>0\", \"Belgium:<br>0\", \"Belgium:<br>0\", \"Belgium:<br>0\", \"Belgium:<br>0\", \"Belgium:<br>0\", \"Belgium:<br>0\", \"Belgium:<br>0\", \"Belgium:<br>0\", \"Belgium:<br>0\", \"Belgium:<br>0\", \"Belgium:<br>0\", \"Belgium:<br>0\", \"Belgium:<br>0\", \"Belgium:<br>0\", \"Belgium:<br>0\", \"Belgium:<br>0\", \"Belgium:<br>0\", \"Belgium:<br>0\", \"Belgium:<br>0\", \"Belgium:<br>0\", \"Belgium:<br>0\", \"Belgium:<br>0\", \"Belgium:<br>2\", \"Belgium:<br>4\", \"Belgium:<br>7\", \"Belgium:<br>14\", \"Belgium:<br>32\", \"Belgium:<br>49\", \"Belgium:<br>50\", \"Belgium:<br>43\", \"Belgium:<br>33\", \"Belgium:<br>38\", \"Belgium:<br>25\", \"Belgium:<br>97\", \"Belgium:<br>125\", \"Belgium:<br>191\", \"Belgium:<br>166\", \"Belgium:<br>185\", \"Belgium:<br>200\", \"Belgium:<br>246\", \"Belgium:<br>338\", \"Belgium:<br>443\", \"Belgium:<br>535\", \"Belgium:<br>495\", \"Belgium:<br>485\", \"Belgium:<br>512\", \"Belgium:<br>831\", \"Belgium:<br>1005\", \"Belgium:<br>1399\", \"Belgium:<br>1534\", \"Belgium:<br>1538\", \"Belgium:<br>1214\", \"Belgium:<br>1043\", \"Belgium:<br>1150\", \"Belgium:<br>nan\"], \"line\": {\"width\": 2}, \"marker\": {\"color\": \"#F1C400\"}, \"name\": \"Belgium  \", \"showlegend\": true, \"type\": \"scatter\", \"x\": [\"2020-01-23T00:00:00\", \"2020-01-24T00:00:00\", \"2020-01-25T00:00:00\", \"2020-01-26T00:00:00\", \"2020-01-27T00:00:00\", \"2020-01-28T00:00:00\", \"2020-01-29T00:00:00\", \"2020-01-30T00:00:00\", \"2020-01-31T00:00:00\", \"2020-02-01T00:00:00\", \"2020-02-02T00:00:00\", \"2020-02-03T00:00:00\", \"2020-02-04T00:00:00\", \"2020-02-05T00:00:00\", \"2020-02-06T00:00:00\", \"2020-02-07T00:00:00\", \"2020-02-08T00:00:00\", \"2020-02-09T00:00:00\", \"2020-02-10T00:00:00\", \"2020-02-11T00:00:00\", \"2020-02-12T00:00:00\", \"2020-02-13T00:00:00\", \"2020-02-14T00:00:00\", \"2020-02-15T00:00:00\", \"2020-02-16T00:00:00\", \"2020-02-17T00:00:00\", \"2020-02-18T00:00:00\", \"2020-02-19T00:00:00\", \"2020-02-20T00:00:00\", \"2020-02-21T00:00:00\", \"2020-02-22T00:00:00\", \"2020-02-23T00:00:00\", \"2020-02-24T00:00:00\", \"2020-02-25T00:00:00\", \"2020-02-26T00:00:00\", \"2020-02-27T00:00:00\", \"2020-02-28T00:00:00\", \"2020-02-29T00:00:00\", \"2020-03-01T00:00:00\", \"2020-03-02T00:00:00\", \"2020-03-03T00:00:00\", \"2020-03-04T00:00:00\", \"2020-03-05T00:00:00\", \"2020-03-06T00:00:00\", \"2020-03-07T00:00:00\", \"2020-03-08T00:00:00\", \"2020-03-09T00:00:00\", \"2020-03-10T00:00:00\", \"2020-03-11T00:00:00\", \"2020-03-12T00:00:00\", \"2020-03-13T00:00:00\", \"2020-03-14T00:00:00\", \"2020-03-15T00:00:00\", \"2020-03-16T00:00:00\", \"2020-03-17T00:00:00\", \"2020-03-18T00:00:00\", \"2020-03-19T00:00:00\", \"2020-03-20T00:00:00\", \"2020-03-21T00:00:00\", \"2020-03-22T00:00:00\", \"2020-03-23T00:00:00\", \"2020-03-24T00:00:00\", \"2020-03-25T00:00:00\", \"2020-03-26T00:00:00\", \"2020-03-27T00:00:00\", \"2020-03-28T00:00:00\", \"2020-03-29T00:00:00\", \"2020-03-30T00:00:00\", \"2020-03-31T00:00:00\", \"2020-04-01T00:00:00\", \"2020-04-02T00:00:00\"], \"y\": [null, null, 0.0, 0.0, 0.0, 0.0, 0.0, 0.0, 0.0, 0.0, 0.0, 0.3333333333333333, 0.3333333333333333, 0.3333333333333333, 0.0, 0.0, 0.0, 0.0, 0.0, 0.0, 0.0, 0.0, 0.0, 0.0, 0.0, 0.0, 0.0, 0.0, 0.0, 0.0, 0.0, 0.0, 0.0, 0.0, 0.0, 0.0, 0.0, 0.3333333333333333, 2.3333333333333335, 4.0, 7.0, 14.0, 32.0, 48.666666666666664, 50.0, 43.333333333333336, 32.666666666666664, 38.0, 25.0, 97.33333333333333, 125.0, 190.66666666666666, 166.33333333333334, 184.66666666666666, 200.0, 245.66666666666666, 338.0, 443.0, 535.3333333333334, 495.3333333333333, 484.6666666666667, 512.0, 830.6666666666666, 1005.0, 1399.0, 1533.6666666666667, 1538.3333333333333, 1213.6666666666667, 1042.6666666666667, 1149.6666666666667, null]}],\n",
       "                        {\"annotations\": [{\"font\": {\"color\": \"silver\", \"family\": \"Gentona, Tahoma, sans-serif\", \"size\": 12}, \"showarrow\": false, \"text\": \"Click any country below to hide/show from the graph:\", \"x\": 0.0, \"xref\": \"paper\", \"y\": -0.2, \"yref\": \"paper\"}], \"font\": {\"color\": \"dimgray\", \"family\": \"Gentona, Tahoma, sans-serif\", \"size\": 12}, \"height\": 450, \"hovermode\": \"closest\", \"legend\": {\"orientation\": \"h\", \"x\": 0.0, \"y\": -0.2}, \"margin\": {\"b\": 150, \"l\": 50, \"pad\": 0, \"r\": 20, \"t\": 20}, \"template\": {\"data\": {\"bar\": [{\"error_x\": {\"color\": \"#2a3f5f\"}, \"error_y\": {\"color\": \"#2a3f5f\"}, \"marker\": {\"line\": {\"color\": \"#E5ECF6\", \"width\": 0.5}}, \"type\": \"bar\"}], \"barpolar\": [{\"marker\": {\"line\": {\"color\": \"#E5ECF6\", \"width\": 0.5}}, \"type\": \"barpolar\"}], \"carpet\": [{\"aaxis\": {\"endlinecolor\": \"#2a3f5f\", \"gridcolor\": \"white\", \"linecolor\": \"white\", \"minorgridcolor\": \"white\", \"startlinecolor\": \"#2a3f5f\"}, \"baxis\": {\"endlinecolor\": \"#2a3f5f\", \"gridcolor\": \"white\", \"linecolor\": \"white\", \"minorgridcolor\": \"white\", \"startlinecolor\": \"#2a3f5f\"}, \"type\": \"carpet\"}], \"choropleth\": [{\"colorbar\": {\"outlinewidth\": 0, \"ticks\": \"\"}, \"type\": \"choropleth\"}], \"contour\": [{\"colorbar\": {\"outlinewidth\": 0, \"ticks\": \"\"}, \"colorscale\": [[0.0, \"#0d0887\"], [0.1111111111111111, \"#46039f\"], [0.2222222222222222, \"#7201a8\"], [0.3333333333333333, \"#9c179e\"], [0.4444444444444444, \"#bd3786\"], [0.5555555555555556, \"#d8576b\"], [0.6666666666666666, \"#ed7953\"], [0.7777777777777778, \"#fb9f3a\"], [0.8888888888888888, \"#fdca26\"], [1.0, \"#f0f921\"]], \"type\": \"contour\"}], \"contourcarpet\": [{\"colorbar\": {\"outlinewidth\": 0, \"ticks\": \"\"}, \"type\": \"contourcarpet\"}], \"heatmap\": [{\"colorbar\": {\"outlinewidth\": 0, \"ticks\": \"\"}, \"colorscale\": [[0.0, \"#0d0887\"], [0.1111111111111111, \"#46039f\"], [0.2222222222222222, \"#7201a8\"], [0.3333333333333333, \"#9c179e\"], [0.4444444444444444, \"#bd3786\"], [0.5555555555555556, \"#d8576b\"], [0.6666666666666666, \"#ed7953\"], [0.7777777777777778, \"#fb9f3a\"], [0.8888888888888888, \"#fdca26\"], [1.0, \"#f0f921\"]], \"type\": \"heatmap\"}], \"heatmapgl\": [{\"colorbar\": {\"outlinewidth\": 0, \"ticks\": \"\"}, \"colorscale\": [[0.0, \"#0d0887\"], [0.1111111111111111, \"#46039f\"], [0.2222222222222222, \"#7201a8\"], [0.3333333333333333, \"#9c179e\"], [0.4444444444444444, \"#bd3786\"], [0.5555555555555556, \"#d8576b\"], [0.6666666666666666, \"#ed7953\"], [0.7777777777777778, \"#fb9f3a\"], [0.8888888888888888, \"#fdca26\"], [1.0, \"#f0f921\"]], \"type\": \"heatmapgl\"}], \"histogram\": [{\"marker\": {\"colorbar\": {\"outlinewidth\": 0, \"ticks\": \"\"}}, \"type\": \"histogram\"}], \"histogram2d\": [{\"colorbar\": {\"outlinewidth\": 0, \"ticks\": \"\"}, \"colorscale\": [[0.0, \"#0d0887\"], [0.1111111111111111, \"#46039f\"], [0.2222222222222222, \"#7201a8\"], [0.3333333333333333, \"#9c179e\"], [0.4444444444444444, \"#bd3786\"], [0.5555555555555556, \"#d8576b\"], [0.6666666666666666, \"#ed7953\"], [0.7777777777777778, \"#fb9f3a\"], [0.8888888888888888, \"#fdca26\"], [1.0, \"#f0f921\"]], \"type\": \"histogram2d\"}], \"histogram2dcontour\": [{\"colorbar\": {\"outlinewidth\": 0, \"ticks\": \"\"}, \"colorscale\": [[0.0, \"#0d0887\"], [0.1111111111111111, \"#46039f\"], [0.2222222222222222, \"#7201a8\"], [0.3333333333333333, \"#9c179e\"], [0.4444444444444444, \"#bd3786\"], [0.5555555555555556, \"#d8576b\"], [0.6666666666666666, \"#ed7953\"], [0.7777777777777778, \"#fb9f3a\"], [0.8888888888888888, \"#fdca26\"], [1.0, \"#f0f921\"]], \"type\": \"histogram2dcontour\"}], \"mesh3d\": [{\"colorbar\": {\"outlinewidth\": 0, \"ticks\": \"\"}, \"type\": \"mesh3d\"}], \"parcoords\": [{\"line\": {\"colorbar\": {\"outlinewidth\": 0, \"ticks\": \"\"}}, \"type\": \"parcoords\"}], \"pie\": [{\"automargin\": true, \"type\": \"pie\"}], \"scatter\": [{\"marker\": {\"colorbar\": {\"outlinewidth\": 0, \"ticks\": \"\"}}, \"type\": \"scatter\"}], \"scatter3d\": [{\"line\": {\"colorbar\": {\"outlinewidth\": 0, \"ticks\": \"\"}}, \"marker\": {\"colorbar\": {\"outlinewidth\": 0, \"ticks\": \"\"}}, \"type\": \"scatter3d\"}], \"scattercarpet\": [{\"marker\": {\"colorbar\": {\"outlinewidth\": 0, \"ticks\": \"\"}}, \"type\": \"scattercarpet\"}], \"scattergeo\": [{\"marker\": {\"colorbar\": {\"outlinewidth\": 0, \"ticks\": \"\"}}, \"type\": \"scattergeo\"}], \"scattergl\": [{\"marker\": {\"colorbar\": {\"outlinewidth\": 0, \"ticks\": \"\"}}, \"type\": \"scattergl\"}], \"scattermapbox\": [{\"marker\": {\"colorbar\": {\"outlinewidth\": 0, \"ticks\": \"\"}}, \"type\": \"scattermapbox\"}], \"scatterpolar\": [{\"marker\": {\"colorbar\": {\"outlinewidth\": 0, \"ticks\": \"\"}}, \"type\": \"scatterpolar\"}], \"scatterpolargl\": [{\"marker\": {\"colorbar\": {\"outlinewidth\": 0, \"ticks\": \"\"}}, \"type\": \"scatterpolargl\"}], \"scatterternary\": [{\"marker\": {\"colorbar\": {\"outlinewidth\": 0, \"ticks\": \"\"}}, \"type\": \"scatterternary\"}], \"surface\": [{\"colorbar\": {\"outlinewidth\": 0, \"ticks\": \"\"}, \"colorscale\": [[0.0, \"#0d0887\"], [0.1111111111111111, \"#46039f\"], [0.2222222222222222, \"#7201a8\"], [0.3333333333333333, \"#9c179e\"], [0.4444444444444444, \"#bd3786\"], [0.5555555555555556, \"#d8576b\"], [0.6666666666666666, \"#ed7953\"], [0.7777777777777778, \"#fb9f3a\"], [0.8888888888888888, \"#fdca26\"], [1.0, \"#f0f921\"]], \"type\": \"surface\"}], \"table\": [{\"cells\": {\"fill\": {\"color\": \"#EBF0F8\"}, \"line\": {\"color\": \"white\"}}, \"header\": {\"fill\": {\"color\": \"#C8D4E3\"}, \"line\": {\"color\": \"white\"}}, \"type\": \"table\"}]}, \"layout\": {\"annotationdefaults\": {\"arrowcolor\": \"#2a3f5f\", \"arrowhead\": 0, \"arrowwidth\": 1}, \"coloraxis\": {\"colorbar\": {\"outlinewidth\": 0, \"ticks\": \"\"}}, \"colorscale\": {\"diverging\": [[0, \"#8e0152\"], [0.1, \"#c51b7d\"], [0.2, \"#de77ae\"], [0.3, \"#f1b6da\"], [0.4, \"#fde0ef\"], [0.5, \"#f7f7f7\"], [0.6, \"#e6f5d0\"], [0.7, \"#b8e186\"], [0.8, \"#7fbc41\"], [0.9, \"#4d9221\"], [1, \"#276419\"]], \"sequential\": [[0.0, \"#0d0887\"], [0.1111111111111111, \"#46039f\"], [0.2222222222222222, \"#7201a8\"], [0.3333333333333333, \"#9c179e\"], [0.4444444444444444, \"#bd3786\"], [0.5555555555555556, \"#d8576b\"], [0.6666666666666666, \"#ed7953\"], [0.7777777777777778, \"#fb9f3a\"], [0.8888888888888888, \"#fdca26\"], [1.0, \"#f0f921\"]], \"sequentialminus\": [[0.0, \"#0d0887\"], [0.1111111111111111, \"#46039f\"], [0.2222222222222222, \"#7201a8\"], [0.3333333333333333, \"#9c179e\"], [0.4444444444444444, \"#bd3786\"], [0.5555555555555556, \"#d8576b\"], [0.6666666666666666, \"#ed7953\"], [0.7777777777777778, \"#fb9f3a\"], [0.8888888888888888, \"#fdca26\"], [1.0, \"#f0f921\"]]}, \"colorway\": [\"#636efa\", \"#EF553B\", \"#00cc96\", \"#ab63fa\", \"#FFA15A\", \"#19d3f3\", \"#FF6692\", \"#B6E880\", \"#FF97FF\", \"#FECB52\"], \"font\": {\"color\": \"#2a3f5f\"}, \"geo\": {\"bgcolor\": \"white\", \"lakecolor\": \"white\", \"landcolor\": \"#E5ECF6\", \"showlakes\": true, \"showland\": true, \"subunitcolor\": \"white\"}, \"hoverlabel\": {\"align\": \"left\"}, \"hovermode\": \"closest\", \"mapbox\": {\"style\": \"light\"}, \"paper_bgcolor\": \"white\", \"plot_bgcolor\": \"#E5ECF6\", \"polar\": {\"angularaxis\": {\"gridcolor\": \"white\", \"linecolor\": \"white\", \"ticks\": \"\"}, \"bgcolor\": \"#E5ECF6\", \"radialaxis\": {\"gridcolor\": \"white\", \"linecolor\": \"white\", \"ticks\": \"\"}}, \"scene\": {\"xaxis\": {\"backgroundcolor\": \"#E5ECF6\", \"gridcolor\": \"white\", \"gridwidth\": 2, \"linecolor\": \"white\", \"showbackground\": true, \"ticks\": \"\", \"zerolinecolor\": \"white\"}, \"yaxis\": {\"backgroundcolor\": \"#E5ECF6\", \"gridcolor\": \"white\", \"gridwidth\": 2, \"linecolor\": \"white\", \"showbackground\": true, \"ticks\": \"\", \"zerolinecolor\": \"white\"}, \"zaxis\": {\"backgroundcolor\": \"#E5ECF6\", \"gridcolor\": \"white\", \"gridwidth\": 2, \"linecolor\": \"white\", \"showbackground\": true, \"ticks\": \"\", \"zerolinecolor\": \"white\"}}, \"shapedefaults\": {\"line\": {\"color\": \"#2a3f5f\"}}, \"ternary\": {\"aaxis\": {\"gridcolor\": \"white\", \"linecolor\": \"white\", \"ticks\": \"\"}, \"baxis\": {\"gridcolor\": \"white\", \"linecolor\": \"white\", \"ticks\": \"\"}, \"bgcolor\": \"#E5ECF6\", \"caxis\": {\"gridcolor\": \"white\", \"linecolor\": \"white\", \"ticks\": \"\"}}, \"title\": {\"x\": 0.05}, \"xaxis\": {\"automargin\": true, \"gridcolor\": \"white\", \"linecolor\": \"white\", \"ticks\": \"\", \"title\": {\"standoff\": 15}, \"zerolinecolor\": \"white\", \"zerolinewidth\": 2}, \"yaxis\": {\"automargin\": true, \"gridcolor\": \"white\", \"linecolor\": \"white\", \"ticks\": \"\", \"title\": {\"standoff\": 15}, \"zerolinecolor\": \"white\", \"zerolinewidth\": 2}}}, \"width\": 720, \"xaxis\": {\"rangemode\": \"nonnegative\", \"showgrid\": false, \"tickcolor\": \"#eee\", \"ticklen\": 12, \"ticks\": \"inside\", \"zeroline\": false}, \"yaxis\": {\"title\": {\"text\": \"Confirmed new cases\"}, \"type\": \"linear\"}},\n",
       "                        {\"responsive\": true}\n",
       "                    ).then(function(){\n",
       "                            \n",
       "var gd = document.getElementById('9b53f6e4-c6f5-44ef-896e-c60f3759317e');\n",
       "var x = new MutationObserver(function (mutations, observer) {{\n",
       "        var display = window.getComputedStyle(gd).display;\n",
       "        if (!display || display === 'none') {{\n",
       "            console.log([gd, 'removed!']);\n",
       "            Plotly.purge(gd);\n",
       "            observer.disconnect();\n",
       "        }}\n",
       "}});\n",
       "\n",
       "// Listen for the removal of the full notebook cells\n",
       "var notebookContainer = gd.closest('#notebook-container');\n",
       "if (notebookContainer) {{\n",
       "    x.observe(notebookContainer, {childList: true});\n",
       "}}\n",
       "\n",
       "// Listen for the clearing of the current output cell\n",
       "var outputEl = gd.closest('.output');\n",
       "if (outputEl) {{\n",
       "    x.observe(outputEl, {childList: true});\n",
       "}}\n",
       "\n",
       "                        })\n",
       "                };\n",
       "                });\n",
       "            </script>\n",
       "        </div>"
      ]
     },
     "metadata": {},
     "output_type": "display_data"
    }
   ],
   "source": [
    "# Plot new cases top 10 countries\n",
    "data = []\n",
    "\n",
    "for i, c in enumerate(top10_country):\n",
    "    nc = df_merged[df_merged['Country/Region'] == c].confirmed_newcases_movavg\n",
    "    data.append(go.Scatter(x = df_merged[df_merged['Country/Region'] == c].dt,\n",
    "                           y = nc,\n",
    "                           name = c+'  ',\n",
    "                           marker = dict(color = top10_col[i]),\n",
    "                           line = dict(width = line_width),\n",
    "                           hoverinfo = 'text',\n",
    "                           hovertext = [c+':<br>{:.0f}'.format(i) for i in nc],\n",
    "                           hoverlabel = dict(bordercolor = top10_col[i], \n",
    "                                             bgcolor = 'white',\n",
    "                                             font = dict(color = top10_col[i])),\n",
    "                           showlegend = True\n",
    "                          )\n",
    "               )\n",
    "    \n",
    "    \n",
    "lay = go.Layout(width = width_px, \n",
    "                height = height_px, \n",
    "                xaxis = dict(ticks = 'inside',\n",
    "                             ticklen = tick_lenght,\n",
    "                             tickcolor = tick_col,\n",
    "                             rangemode = 'nonnegative',\n",
    "                             zeroline = False,\n",
    "                             showgrid = False,\n",
    "                            ),\n",
    "                yaxis = dict(title='Confirmed new cases',\n",
    "                             type = 'linear',\n",
    "                            ),\n",
    "                hovermode = 'closest',\n",
    "                font = dict(size = label_size,\n",
    "                            family = label_font,\n",
    "                            color = label_col,\n",
    "                           ),\n",
    "                legend = dict(x = 0.0, \n",
    "                              y = -0.20,\n",
    "                              orientation = 'h',\n",
    "                             ),\n",
    "                margin=dict(l = margin_l, r = margin_r, b = margin_b, t = margin_t, pad=0),\n",
    "                annotations=[dict(x = 0.0,\n",
    "                                  y = -0.20,\n",
    "                                  showarrow = False,\n",
    "                                  text = 'Click any country below to hide/show from the graph:',\n",
    "                                  xref = 'paper',\n",
    "                                  yref = 'paper',\n",
    "                                  font=dict(\n",
    "                                      family = label_font,\n",
    "                                      size = label_size,\n",
    "                                      color = 'silver',),\n",
    "                                 ),\n",
    "                            ],\n",
    "               )\n",
    "\n",
    "fig = dict(data=data, layout=lay)\n",
    "plotly.offline.iplot(fig)\n",
    "\n",
    "# Save JS\n",
    "plot = plotly.offline.plot({'data':data,\n",
    "                            'layout':lay},\n",
    "                           include_plotlyjs = False,\n",
    "                           output_type = 'div',\n",
    "                           config = dict(showLink = False,\n",
    "                                         modeBarButtonsToRemove = ['sendDataToCloud'],\n",
    "                                         displaylogo = False,\n",
    "                                         responsive = True)\n",
    "                          )\n",
    "path = '../visuals/new_cases/'\n",
    "out_file = open(path+'timeline_newcases_date_all_720.html', 'w')\n",
    "out_file.write('<!DOCTYPE html><html><head><script src=\"https://cdn.plot.ly/plotly-latest.min.js\"></script></head><body>')\n",
    "out_file.write(plot)\n",
    "out_file.write('</body><html>')\n",
    "out_file.close()"
   ]
  },
  {
   "cell_type": "code",
   "execution_count": 25,
   "metadata": {},
   "outputs": [
    {
     "data": {
      "application/vnd.plotly.v1+json": {
       "config": {
        "linkText": "Export to plot.ly",
        "plotlyServerURL": "https://plot.ly",
        "showLink": false
       },
       "data": [
        {
         "hoverinfo": "text",
         "hoverlabel": {
          "bgcolor": "white",
          "bordercolor": "#719949",
          "font": {
           "color": "#719949"
          }
         },
         "hovertext": [
          "Italy:<br>nan",
          "Italy:<br>nan",
          "Italy:<br>0",
          "Italy:<br>0",
          "Italy:<br>0",
          "Italy:<br>0",
          "Italy:<br>0",
          "Italy:<br>1",
          "Italy:<br>1",
          "Italy:<br>1",
          "Italy:<br>0",
          "Italy:<br>0",
          "Italy:<br>0",
          "Italy:<br>0",
          "Italy:<br>0",
          "Italy:<br>0",
          "Italy:<br>0",
          "Italy:<br>0",
          "Italy:<br>0",
          "Italy:<br>0",
          "Italy:<br>0",
          "Italy:<br>0",
          "Italy:<br>0",
          "Italy:<br>0",
          "Italy:<br>0",
          "Italy:<br>0",
          "Italy:<br>0",
          "Italy:<br>0",
          "Italy:<br>6",
          "Italy:<br>20",
          "Italy:<br>51",
          "Italy:<br>70",
          "Italy:<br>87",
          "Italy:<br>99",
          "Italy:<br>142",
          "Italy:<br>189",
          "Italy:<br>225",
          "Italy:<br>346",
          "Italy:<br>383",
          "Italy:<br>458",
          "Italy:<br>465",
          "Italy:<br>607",
          "Italy:<br>711",
          "Italy:<br>931",
          "Italy:<br>1172",
          "Italy:<br>1512",
          "Italy:<br>1422",
          "Italy:<br>1696",
          "Italy:<br>1097",
          "Italy:<br>2504",
          "Italy:<br>2898",
          "Italy:<br>4095",
          "Italy:<br>3440",
          "Italy:<br>3450",
          "Italy:<br>3655",
          "Italy:<br>4352",
          "Italy:<br>5172",
          "Italy:<br>5955",
          "Italy:<br>6034",
          "Italy:<br>5635",
          "Italy:<br>5199",
          "Italy:<br>5083",
          "Italy:<br>5554",
          "Italy:<br>5774",
          "Italy:<br>6029",
          "Italy:<br>5700",
          "Italy:<br>5080",
          "Italy:<br>4440",
          "Italy:<br>4295",
          "Italy:<br>4501",
          "Italy:<br>nan"
         ],
         "line": {
          "width": 1.5
         },
         "marker": {
          "color": "#719949"
         },
         "name": "Italy  ",
         "showlegend": true,
         "type": "scatter",
         "x": [
          "2020-01-23T00:00:00",
          "2020-01-24T00:00:00",
          "2020-01-25T00:00:00",
          "2020-01-26T00:00:00",
          "2020-01-27T00:00:00",
          "2020-01-28T00:00:00",
          "2020-01-29T00:00:00",
          "2020-01-30T00:00:00",
          "2020-01-31T00:00:00",
          "2020-02-01T00:00:00",
          "2020-02-02T00:00:00",
          "2020-02-03T00:00:00",
          "2020-02-04T00:00:00",
          "2020-02-05T00:00:00",
          "2020-02-06T00:00:00",
          "2020-02-07T00:00:00",
          "2020-02-08T00:00:00",
          "2020-02-09T00:00:00",
          "2020-02-10T00:00:00",
          "2020-02-11T00:00:00",
          "2020-02-12T00:00:00",
          "2020-02-13T00:00:00",
          "2020-02-14T00:00:00",
          "2020-02-15T00:00:00",
          "2020-02-16T00:00:00",
          "2020-02-17T00:00:00",
          "2020-02-18T00:00:00",
          "2020-02-19T00:00:00",
          "2020-02-20T00:00:00",
          "2020-02-21T00:00:00",
          "2020-02-22T00:00:00",
          "2020-02-23T00:00:00",
          "2020-02-24T00:00:00",
          "2020-02-25T00:00:00",
          "2020-02-26T00:00:00",
          "2020-02-27T00:00:00",
          "2020-02-28T00:00:00",
          "2020-02-29T00:00:00",
          "2020-03-01T00:00:00",
          "2020-03-02T00:00:00",
          "2020-03-03T00:00:00",
          "2020-03-04T00:00:00",
          "2020-03-05T00:00:00",
          "2020-03-06T00:00:00",
          "2020-03-07T00:00:00",
          "2020-03-08T00:00:00",
          "2020-03-09T00:00:00",
          "2020-03-10T00:00:00",
          "2020-03-11T00:00:00",
          "2020-03-12T00:00:00",
          "2020-03-13T00:00:00",
          "2020-03-14T00:00:00",
          "2020-03-15T00:00:00",
          "2020-03-16T00:00:00",
          "2020-03-17T00:00:00",
          "2020-03-18T00:00:00",
          "2020-03-19T00:00:00",
          "2020-03-20T00:00:00",
          "2020-03-21T00:00:00",
          "2020-03-22T00:00:00",
          "2020-03-23T00:00:00",
          "2020-03-24T00:00:00",
          "2020-03-25T00:00:00",
          "2020-03-26T00:00:00",
          "2020-03-27T00:00:00",
          "2020-03-28T00:00:00",
          "2020-03-29T00:00:00",
          "2020-03-30T00:00:00",
          "2020-03-31T00:00:00",
          "2020-04-01T00:00:00",
          "2020-04-02T00:00:00"
         ],
         "y": [
          null,
          null,
          0,
          0,
          0,
          0,
          0,
          0.6666666666666666,
          0.6666666666666666,
          0.6666666666666666,
          0,
          0,
          0,
          0,
          0.3333333333333333,
          0.3333333333333333,
          0.3333333333333333,
          0,
          0,
          0,
          0,
          0,
          0,
          0,
          0,
          0,
          0,
          0,
          5.666666666666667,
          19.666666666666668,
          50.666666666666664,
          69.66666666666667,
          86.66666666666667,
          99.33333333333333,
          142,
          188.66666666666666,
          225,
          346.3333333333333,
          382.6666666666667,
          458,
          465,
          607.3333333333334,
          711.3333333333334,
          931.3333333333334,
          1172.3333333333333,
          1512,
          1422,
          1695.6666666666667,
          1096.6666666666667,
          2503.6666666666665,
          2898.3333333333335,
          4095,
          3440,
          3449.6666666666665,
          3655.3333333333335,
          4351.666666666667,
          5171.666666666667,
          5955,
          6034.333333333333,
          5635.333333333333,
          5199.333333333333,
          5082.666666666667,
          5554,
          5774,
          6028.666666666667,
          5700,
          5080.333333333333,
          4440,
          4295,
          4501,
          null
         ]
        },
        {
         "hoverinfo": "text",
         "hoverlabel": {
          "bgcolor": "white",
          "bordercolor": "#FF6900",
          "font": {
           "color": "#FF6900"
          }
         },
         "hovertext": [
          "Spain:<br>nan",
          "Spain:<br>nan",
          "Spain:<br>0",
          "Spain:<br>0",
          "Spain:<br>0",
          "Spain:<br>0",
          "Spain:<br>0",
          "Spain:<br>0",
          "Spain:<br>0",
          "Spain:<br>0",
          "Spain:<br>0",
          "Spain:<br>0",
          "Spain:<br>0",
          "Spain:<br>0",
          "Spain:<br>0",
          "Spain:<br>0",
          "Spain:<br>0",
          "Spain:<br>0",
          "Spain:<br>0",
          "Spain:<br>0",
          "Spain:<br>0",
          "Spain:<br>0",
          "Spain:<br>0",
          "Spain:<br>0",
          "Spain:<br>0",
          "Spain:<br>0",
          "Spain:<br>0",
          "Spain:<br>0",
          "Spain:<br>0",
          "Spain:<br>0",
          "Spain:<br>0",
          "Spain:<br>0",
          "Spain:<br>1",
          "Spain:<br>4",
          "Spain:<br>4",
          "Spain:<br>9",
          "Spain:<br>11",
          "Spain:<br>23",
          "Spain:<br>29",
          "Spain:<br>40",
          "Spain:<br>46",
          "Spain:<br>46",
          "Spain:<br>78",
          "Spain:<br>93",
          "Spain:<br>138",
          "Spain:<br>224",
          "Spain:<br>398",
          "Spain:<br>535",
          "Spain:<br>401",
          "Spain:<br>1179",
          "Spain:<br>1371",
          "Spain:<br>1840",
          "Spain:<br>1570",
          "Spain:<br>1786",
          "Spain:<br>2037",
          "Spain:<br>2674",
          "Spain:<br>2887",
          "Spain:<br>3821",
          "Spain:<br>3602",
          "Spain:<br>4909",
          "Spain:<br>4837",
          "Spain:<br>6916",
          "Spain:<br>7550",
          "Spain:<br>8611",
          "Spain:<br>7907",
          "Spain:<br>7441",
          "Spain:<br>7412",
          "Spain:<br>7563",
          "Spain:<br>8003",
          "Spain:<br>8036",
          "Spain:<br>nan"
         ],
         "line": {
          "width": 1.5
         },
         "marker": {
          "color": "#FF6900"
         },
         "name": "Spain  ",
         "showlegend": true,
         "type": "scatter",
         "x": [
          "2020-01-23T00:00:00",
          "2020-01-24T00:00:00",
          "2020-01-25T00:00:00",
          "2020-01-26T00:00:00",
          "2020-01-27T00:00:00",
          "2020-01-28T00:00:00",
          "2020-01-29T00:00:00",
          "2020-01-30T00:00:00",
          "2020-01-31T00:00:00",
          "2020-02-01T00:00:00",
          "2020-02-02T00:00:00",
          "2020-02-03T00:00:00",
          "2020-02-04T00:00:00",
          "2020-02-05T00:00:00",
          "2020-02-06T00:00:00",
          "2020-02-07T00:00:00",
          "2020-02-08T00:00:00",
          "2020-02-09T00:00:00",
          "2020-02-10T00:00:00",
          "2020-02-11T00:00:00",
          "2020-02-12T00:00:00",
          "2020-02-13T00:00:00",
          "2020-02-14T00:00:00",
          "2020-02-15T00:00:00",
          "2020-02-16T00:00:00",
          "2020-02-17T00:00:00",
          "2020-02-18T00:00:00",
          "2020-02-19T00:00:00",
          "2020-02-20T00:00:00",
          "2020-02-21T00:00:00",
          "2020-02-22T00:00:00",
          "2020-02-23T00:00:00",
          "2020-02-24T00:00:00",
          "2020-02-25T00:00:00",
          "2020-02-26T00:00:00",
          "2020-02-27T00:00:00",
          "2020-02-28T00:00:00",
          "2020-02-29T00:00:00",
          "2020-03-01T00:00:00",
          "2020-03-02T00:00:00",
          "2020-03-03T00:00:00",
          "2020-03-04T00:00:00",
          "2020-03-05T00:00:00",
          "2020-03-06T00:00:00",
          "2020-03-07T00:00:00",
          "2020-03-08T00:00:00",
          "2020-03-09T00:00:00",
          "2020-03-10T00:00:00",
          "2020-03-11T00:00:00",
          "2020-03-12T00:00:00",
          "2020-03-13T00:00:00",
          "2020-03-14T00:00:00",
          "2020-03-15T00:00:00",
          "2020-03-16T00:00:00",
          "2020-03-17T00:00:00",
          "2020-03-18T00:00:00",
          "2020-03-19T00:00:00",
          "2020-03-20T00:00:00",
          "2020-03-21T00:00:00",
          "2020-03-22T00:00:00",
          "2020-03-23T00:00:00",
          "2020-03-24T00:00:00",
          "2020-03-25T00:00:00",
          "2020-03-26T00:00:00",
          "2020-03-27T00:00:00",
          "2020-03-28T00:00:00",
          "2020-03-29T00:00:00",
          "2020-03-30T00:00:00",
          "2020-03-31T00:00:00",
          "2020-04-01T00:00:00",
          "2020-04-02T00:00:00"
         ],
         "y": [
          null,
          null,
          0,
          0,
          0,
          0,
          0,
          0,
          0.3333333333333333,
          0.3333333333333333,
          0.3333333333333333,
          0,
          0,
          0,
          0,
          0,
          0.3333333333333333,
          0.3333333333333333,
          0.3333333333333333,
          0,
          0,
          0,
          0,
          0,
          0,
          0,
          0,
          0,
          0,
          0,
          0,
          0,
          1.3333333333333333,
          3.6666666666666665,
          4.333333333333333,
          8.666666666666666,
          10.666666666666666,
          23,
          29.333333333333332,
          40,
          46,
          46.333333333333336,
          78.33333333333333,
          92.66666666666667,
          138,
          224.33333333333334,
          398.3333333333333,
          534.6666666666666,
          401.3333333333333,
          1179,
          1371.3333333333333,
          1840.3333333333333,
          1570,
          1785.6666666666667,
          2037.3333333333333,
          2673.6666666666665,
          2887.3333333333335,
          3821.3333333333335,
          3601.6666666666665,
          4908.666666666667,
          4837,
          6915.666666666667,
          7550,
          8611.333333333334,
          7906.666666666667,
          7441.333333333333,
          7412.333333333333,
          7562.666666666667,
          8002.666666666667,
          8036.333333333333,
          null
         ]
        },
        {
         "hoverinfo": "text",
         "hoverlabel": {
          "bgcolor": "white",
          "bordercolor": "#E8927C",
          "font": {
           "color": "#E8927C"
          }
         },
         "hovertext": [
          "US:<br>nan",
          "US:<br>nan",
          "US:<br>1",
          "US:<br>1",
          "US:<br>1",
          "US:<br>0",
          "US:<br>0",
          "US:<br>1",
          "US:<br>1",
          "US:<br>1",
          "US:<br>1",
          "US:<br>1",
          "US:<br>1",
          "US:<br>0",
          "US:<br>0",
          "US:<br>0",
          "US:<br>0",
          "US:<br>0",
          "US:<br>0",
          "US:<br>0",
          "US:<br>1",
          "US:<br>0",
          "US:<br>0",
          "US:<br>0",
          "US:<br>0",
          "US:<br>0",
          "US:<br>0",
          "US:<br>0",
          "US:<br>1",
          "US:<br>1",
          "US:<br>1",
          "US:<br>12",
          "US:<br>12",
          "US:<br>14",
          "US:<br>2",
          "US:<br>3",
          "US:<br>4",
          "US:<br>5",
          "US:<br>13",
          "US:<br>17",
          "US:<br>25",
          "US:<br>40",
          "US:<br>48",
          "US:<br>84",
          "US:<br>100",
          "US:<br>107",
          "US:<br>186",
          "US:<br>254",
          "US:<br>360",
          "US:<br>407",
          "US:<br>482",
          "US:<br>612",
          "US:<br>818",
          "US:<br>1231",
          "US:<br>1428",
          "US:<br>3015",
          "US:<br>4226",
          "US:<br>5902",
          "US:<br>6533",
          "US:<br>8249",
          "US:<br>9417",
          "US:<br>10834",
          "US:<br>13330",
          "US:<br>15972",
          "US:<br>18567",
          "US:<br>19017",
          "US:<br>20050",
          "US:<br>22231",
          "US:<br>24162",
          "US:<br>27215",
          "US:<br>nan"
         ],
         "line": {
          "width": 1.5
         },
         "marker": {
          "color": "#E8927C"
         },
         "name": "US  ",
         "showlegend": true,
         "type": "scatter",
         "x": [
          "2020-01-23T00:00:00",
          "2020-01-24T00:00:00",
          "2020-01-25T00:00:00",
          "2020-01-26T00:00:00",
          "2020-01-27T00:00:00",
          "2020-01-28T00:00:00",
          "2020-01-29T00:00:00",
          "2020-01-30T00:00:00",
          "2020-01-31T00:00:00",
          "2020-02-01T00:00:00",
          "2020-02-02T00:00:00",
          "2020-02-03T00:00:00",
          "2020-02-04T00:00:00",
          "2020-02-05T00:00:00",
          "2020-02-06T00:00:00",
          "2020-02-07T00:00:00",
          "2020-02-08T00:00:00",
          "2020-02-09T00:00:00",
          "2020-02-10T00:00:00",
          "2020-02-11T00:00:00",
          "2020-02-12T00:00:00",
          "2020-02-13T00:00:00",
          "2020-02-14T00:00:00",
          "2020-02-15T00:00:00",
          "2020-02-16T00:00:00",
          "2020-02-17T00:00:00",
          "2020-02-18T00:00:00",
          "2020-02-19T00:00:00",
          "2020-02-20T00:00:00",
          "2020-02-21T00:00:00",
          "2020-02-22T00:00:00",
          "2020-02-23T00:00:00",
          "2020-02-24T00:00:00",
          "2020-02-25T00:00:00",
          "2020-02-26T00:00:00",
          "2020-02-27T00:00:00",
          "2020-02-28T00:00:00",
          "2020-02-29T00:00:00",
          "2020-03-01T00:00:00",
          "2020-03-02T00:00:00",
          "2020-03-03T00:00:00",
          "2020-03-04T00:00:00",
          "2020-03-05T00:00:00",
          "2020-03-06T00:00:00",
          "2020-03-07T00:00:00",
          "2020-03-08T00:00:00",
          "2020-03-09T00:00:00",
          "2020-03-10T00:00:00",
          "2020-03-11T00:00:00",
          "2020-03-12T00:00:00",
          "2020-03-13T00:00:00",
          "2020-03-14T00:00:00",
          "2020-03-15T00:00:00",
          "2020-03-16T00:00:00",
          "2020-03-17T00:00:00",
          "2020-03-18T00:00:00",
          "2020-03-19T00:00:00",
          "2020-03-20T00:00:00",
          "2020-03-21T00:00:00",
          "2020-03-22T00:00:00",
          "2020-03-23T00:00:00",
          "2020-03-24T00:00:00",
          "2020-03-25T00:00:00",
          "2020-03-26T00:00:00",
          "2020-03-27T00:00:00",
          "2020-03-28T00:00:00",
          "2020-03-29T00:00:00",
          "2020-03-30T00:00:00",
          "2020-03-31T00:00:00",
          "2020-04-01T00:00:00",
          "2020-04-02T00:00:00"
         ],
         "y": [
          null,
          null,
          1.3333333333333333,
          1,
          1,
          0,
          0,
          0.6666666666666666,
          1,
          1,
          1.3333333333333333,
          1,
          1,
          0,
          0,
          0,
          0,
          0,
          0.3333333333333333,
          0.3333333333333333,
          0.6666666666666666,
          0.3333333333333333,
          0.3333333333333333,
          0,
          0,
          0,
          0,
          0,
          0.6666666666666666,
          0.6666666666666666,
          0.6666666666666666,
          12,
          12,
          14,
          2.3333333333333335,
          3,
          3.6666666666666665,
          5.333333333333333,
          12.666666666666666,
          16.666666666666668,
          25,
          39.666666666666664,
          48,
          84.33333333333333,
          100.33333333333333,
          107,
          185.66666666666666,
          254.33333333333334,
          360,
          406.6666666666667,
          482,
          612,
          817.6666666666666,
          1231.3333333333333,
          1428,
          3015,
          4226.333333333333,
          5902,
          6533,
          8249,
          9417,
          10834,
          13329.666666666666,
          15972.333333333334,
          18566.666666666668,
          19016.666666666668,
          20050,
          22231.333333333332,
          24162,
          27215.333333333332,
          null
         ]
        },
        {
         "hoverinfo": "text",
         "hoverlabel": {
          "bgcolor": "white",
          "bordercolor": "#A6192E",
          "font": {
           "color": "#A6192E"
          }
         },
         "hovertext": [
          "France:<br>nan",
          "France:<br>nan",
          "France:<br>1",
          "France:<br>0",
          "France:<br>0",
          "France:<br>1",
          "France:<br>1",
          "France:<br>0",
          "France:<br>0",
          "France:<br>0",
          "France:<br>0",
          "France:<br>0",
          "France:<br>0",
          "France:<br>0",
          "France:<br>0",
          "France:<br>2",
          "France:<br>2",
          "France:<br>2",
          "France:<br>0",
          "France:<br>0",
          "France:<br>0",
          "France:<br>0",
          "France:<br>0",
          "France:<br>0",
          "France:<br>0",
          "France:<br>0",
          "France:<br>0",
          "France:<br>0",
          "France:<br>0",
          "France:<br>0",
          "France:<br>0",
          "France:<br>0",
          "France:<br>1",
          "France:<br>2",
          "France:<br>9",
          "France:<br>14",
          "France:<br>27",
          "France:<br>31",
          "France:<br>45",
          "France:<br>35",
          "France:<br>53",
          "France:<br>63",
          "France:<br>151",
          "France:<br>224",
          "France:<br>252",
          "France:<br>188",
          "France:<br>278",
          "France:<br>386",
          "France:<br>358",
          "France:<br>629",
          "France:<br>734",
          "France:<br>746",
          "France:<br>1001",
          "France:<br>1073",
          "France:<br>1531",
          "France:<br>1429",
          "France:<br>1681",
          "France:<br>1780",
          "France:<br>1758",
          "France:<br>2455",
          "France:<br>2720",
          "France:<br>3119",
          "France:<br>3143",
          "France:<br>3593",
          "France:<br>4168",
          "France:<br>3719",
          "France:<br>3923",
          "France:<br>4907",
          "France:<br>5680",
          "France:<br>4920",
          "France:<br>nan"
         ],
         "line": {
          "width": 1.5
         },
         "marker": {
          "color": "#A6192E"
         },
         "name": "France  ",
         "showlegend": true,
         "type": "scatter",
         "x": [
          "2020-01-23T00:00:00",
          "2020-01-24T00:00:00",
          "2020-01-25T00:00:00",
          "2020-01-26T00:00:00",
          "2020-01-27T00:00:00",
          "2020-01-28T00:00:00",
          "2020-01-29T00:00:00",
          "2020-01-30T00:00:00",
          "2020-01-31T00:00:00",
          "2020-02-01T00:00:00",
          "2020-02-02T00:00:00",
          "2020-02-03T00:00:00",
          "2020-02-04T00:00:00",
          "2020-02-05T00:00:00",
          "2020-02-06T00:00:00",
          "2020-02-07T00:00:00",
          "2020-02-08T00:00:00",
          "2020-02-09T00:00:00",
          "2020-02-10T00:00:00",
          "2020-02-11T00:00:00",
          "2020-02-12T00:00:00",
          "2020-02-13T00:00:00",
          "2020-02-14T00:00:00",
          "2020-02-15T00:00:00",
          "2020-02-16T00:00:00",
          "2020-02-17T00:00:00",
          "2020-02-18T00:00:00",
          "2020-02-19T00:00:00",
          "2020-02-20T00:00:00",
          "2020-02-21T00:00:00",
          "2020-02-22T00:00:00",
          "2020-02-23T00:00:00",
          "2020-02-24T00:00:00",
          "2020-02-25T00:00:00",
          "2020-02-26T00:00:00",
          "2020-02-27T00:00:00",
          "2020-02-28T00:00:00",
          "2020-02-29T00:00:00",
          "2020-03-01T00:00:00",
          "2020-03-02T00:00:00",
          "2020-03-03T00:00:00",
          "2020-03-04T00:00:00",
          "2020-03-05T00:00:00",
          "2020-03-06T00:00:00",
          "2020-03-07T00:00:00",
          "2020-03-08T00:00:00",
          "2020-03-09T00:00:00",
          "2020-03-10T00:00:00",
          "2020-03-11T00:00:00",
          "2020-03-12T00:00:00",
          "2020-03-13T00:00:00",
          "2020-03-14T00:00:00",
          "2020-03-15T00:00:00",
          "2020-03-16T00:00:00",
          "2020-03-17T00:00:00",
          "2020-03-18T00:00:00",
          "2020-03-19T00:00:00",
          "2020-03-20T00:00:00",
          "2020-03-21T00:00:00",
          "2020-03-22T00:00:00",
          "2020-03-23T00:00:00",
          "2020-03-24T00:00:00",
          "2020-03-25T00:00:00",
          "2020-03-26T00:00:00",
          "2020-03-27T00:00:00",
          "2020-03-28T00:00:00",
          "2020-03-29T00:00:00",
          "2020-03-30T00:00:00",
          "2020-03-31T00:00:00",
          "2020-04-01T00:00:00",
          "2020-04-02T00:00:00"
         ],
         "y": [
          null,
          null,
          1,
          0.3333333333333333,
          0.3333333333333333,
          0.6666666666666666,
          0.6666666666666666,
          0.3333333333333333,
          0.3333333333333333,
          0.3333333333333333,
          0.3333333333333333,
          0,
          0,
          0,
          0,
          1.6666666666666667,
          1.6666666666666667,
          1.6666666666666667,
          0,
          0,
          0,
          0,
          0.3333333333333333,
          0.3333333333333333,
          0.3333333333333333,
          0,
          0,
          0,
          0,
          0,
          0,
          0,
          0.6666666666666666,
          2,
          8.666666666666666,
          14.333333333333334,
          27.333333333333332,
          30.666666666666668,
          44.666666666666664,
          34.666666666666664,
          52.666666666666664,
          63,
          150.66666666666666,
          223.66666666666666,
          252,
          187.66666666666666,
          278.3333333333333,
          385.6666666666667,
          358,
          629,
          734.3333333333334,
          746.3333333333334,
          1000.6666666666666,
          1073,
          1530.6666666666667,
          1429,
          1681,
          1779.6666666666667,
          1757.6666666666667,
          2455,
          2719.6666666666665,
          3119,
          3142.6666666666665,
          3593.3333333333335,
          4168.333333333333,
          3719,
          3922.6666666666665,
          4907.333333333333,
          5680.333333333333,
          4919.666666666667,
          null
         ]
        },
        {
         "hoverinfo": "text",
         "hoverlabel": {
          "bgcolor": "white",
          "bordercolor": "#51284F",
          "font": {
           "color": "#51284F"
          }
         },
         "hovertext": [
          "China:<br>nan",
          "China:<br>nan",
          "China:<br>477",
          "China:<br>652",
          "China:<br>1368",
          "China:<br>1337",
          "China:<br>1755",
          "China:<br>1431",
          "China:<br>1935",
          "China:<br>2830",
          "China:<br>3305",
          "China:<br>3939",
          "China:<br>3603",
          "China:<br>3624",
          "China:<br>3468",
          "China:<br>3125",
          "China:<br>3081",
          "China:<br>2748",
          "China:<br>2524",
          "China:<br>1643",
          "China:<br>5847",
          "China:<br>7324",
          "China:<br>7885",
          "China:<br>3539",
          "China:<br>2025",
          "China:<br>1933",
          "China:<br>1369",
          "China:<br>881",
          "China:<br>446",
          "China:<br>794",
          "China:<br>648",
          "China:<br>564",
          "China:<br>251",
          "China:<br>381",
          "China:<br>453",
          "China:<br>391",
          "China:<br>397",
          "China:<br>444",
          "China:<br>403",
          "China:<br>302",
          "China:<br>151",
          "China:<br>134",
          "China:<br>143",
          "China:<br>128",
          "China:<br>95",
          "China:<br>57",
          "China:<br>39",
          "China:<br>33",
          "China:<br>24",
          "China:<br>19",
          "China:<br>19",
          "China:<br>24",
          "China:<br>29",
          "China:<br>27",
          "China:<br>33",
          "China:<br>41",
          "China:<br>64",
          "China:<br>68",
          "China:<br>93",
          "China:<br>83",
          "China:<br>95",
          "China:<br>75",
          "China:<br>95",
          "China:<br>102",
          "China:<br>113",
          "China:<br>113",
          "China:<br>100",
          "China:<br>93",
          "China:<br>80",
          "China:<br>78",
          "China:<br>nan"
         ],
         "line": {
          "width": 1.5
         },
         "marker": {
          "color": "#51284F"
         },
         "name": "China  ",
         "showlegend": true,
         "type": "scatter",
         "x": [
          "2020-01-23T00:00:00",
          "2020-01-24T00:00:00",
          "2020-01-25T00:00:00",
          "2020-01-26T00:00:00",
          "2020-01-27T00:00:00",
          "2020-01-28T00:00:00",
          "2020-01-29T00:00:00",
          "2020-01-30T00:00:00",
          "2020-01-31T00:00:00",
          "2020-02-01T00:00:00",
          "2020-02-02T00:00:00",
          "2020-02-03T00:00:00",
          "2020-02-04T00:00:00",
          "2020-02-05T00:00:00",
          "2020-02-06T00:00:00",
          "2020-02-07T00:00:00",
          "2020-02-08T00:00:00",
          "2020-02-09T00:00:00",
          "2020-02-10T00:00:00",
          "2020-02-11T00:00:00",
          "2020-02-12T00:00:00",
          "2020-02-13T00:00:00",
          "2020-02-14T00:00:00",
          "2020-02-15T00:00:00",
          "2020-02-16T00:00:00",
          "2020-02-17T00:00:00",
          "2020-02-18T00:00:00",
          "2020-02-19T00:00:00",
          "2020-02-20T00:00:00",
          "2020-02-21T00:00:00",
          "2020-02-22T00:00:00",
          "2020-02-23T00:00:00",
          "2020-02-24T00:00:00",
          "2020-02-25T00:00:00",
          "2020-02-26T00:00:00",
          "2020-02-27T00:00:00",
          "2020-02-28T00:00:00",
          "2020-02-29T00:00:00",
          "2020-03-01T00:00:00",
          "2020-03-02T00:00:00",
          "2020-03-03T00:00:00",
          "2020-03-04T00:00:00",
          "2020-03-05T00:00:00",
          "2020-03-06T00:00:00",
          "2020-03-07T00:00:00",
          "2020-03-08T00:00:00",
          "2020-03-09T00:00:00",
          "2020-03-10T00:00:00",
          "2020-03-11T00:00:00",
          "2020-03-12T00:00:00",
          "2020-03-13T00:00:00",
          "2020-03-14T00:00:00",
          "2020-03-15T00:00:00",
          "2020-03-16T00:00:00",
          "2020-03-17T00:00:00",
          "2020-03-18T00:00:00",
          "2020-03-19T00:00:00",
          "2020-03-20T00:00:00",
          "2020-03-21T00:00:00",
          "2020-03-22T00:00:00",
          "2020-03-23T00:00:00",
          "2020-03-24T00:00:00",
          "2020-03-25T00:00:00",
          "2020-03-26T00:00:00",
          "2020-03-27T00:00:00",
          "2020-03-28T00:00:00",
          "2020-03-29T00:00:00",
          "2020-03-30T00:00:00",
          "2020-03-31T00:00:00",
          "2020-04-01T00:00:00",
          "2020-04-02T00:00:00"
         ],
         "y": [
          null,
          null,
          477.3333333333333,
          652.3333333333334,
          1367.6666666666667,
          1337.3333333333333,
          1754.6666666666667,
          1431,
          1934.6666666666667,
          2829.6666666666665,
          3304.6666666666665,
          3938.6666666666665,
          3603.3333333333335,
          3623.6666666666665,
          3467.6666666666665,
          3124.6666666666665,
          3080.6666666666665,
          2748,
          2524,
          1643.3333333333333,
          5847,
          7324,
          7884.666666666667,
          3539.3333333333335,
          2025.3333333333333,
          1932.6666666666667,
          1368.6666666666667,
          881,
          446.3333333333333,
          794,
          648.3333333333334,
          563.6666666666666,
          251,
          381.3333333333333,
          453,
          391.3333333333333,
          396.6666666666667,
          444,
          402.6666666666667,
          301.6666666666667,
          151.33333333333334,
          133.66666666666666,
          143,
          128,
          95.33333333333333,
          56.666666666666664,
          39,
          32.666666666666664,
          24,
          19.333333333333332,
          18.666666666666668,
          23.666666666666668,
          29.333333333333332,
          27,
          33,
          41,
          64,
          67.66666666666667,
          93,
          82.66666666666667,
          95.33333333333333,
          75.33333333333333,
          94.66666666666667,
          102,
          112.66666666666667,
          113.33333333333333,
          100.33333333333333,
          93.33333333333333,
          79.66666666666667,
          78,
          null
         ]
        },
        {
         "hoverinfo": "text",
         "hoverlabel": {
          "bgcolor": "white",
          "bordercolor": "#A192B2",
          "font": {
           "color": "#A192B2"
          }
         },
         "hovertext": [
          "Iran:<br>nan",
          "Iran:<br>nan",
          "Iran:<br>0",
          "Iran:<br>0",
          "Iran:<br>0",
          "Iran:<br>0",
          "Iran:<br>0",
          "Iran:<br>0",
          "Iran:<br>0",
          "Iran:<br>0",
          "Iran:<br>0",
          "Iran:<br>0",
          "Iran:<br>0",
          "Iran:<br>0",
          "Iran:<br>0",
          "Iran:<br>0",
          "Iran:<br>0",
          "Iran:<br>0",
          "Iran:<br>0",
          "Iran:<br>0",
          "Iran:<br>0",
          "Iran:<br>0",
          "Iran:<br>0",
          "Iran:<br>0",
          "Iran:<br>0",
          "Iran:<br>0",
          "Iran:<br>1",
          "Iran:<br>2",
          "Iran:<br>6",
          "Iran:<br>9",
          "Iran:<br>13",
          "Iran:<br>14",
          "Iran:<br>22",
          "Iran:<br>32",
          "Iran:<br>61",
          "Iran:<br>98",
          "Iran:<br>151",
          "Iran:<br>244",
          "Iran:<br>371",
          "Iran:<br>581",
          "Iran:<br>648",
          "Iran:<br>671",
          "Iran:<br>804",
          "Iran:<br>967",
          "Iran:<br>1018",
          "Iran:<br>805",
          "Iran:<br>740",
          "Iran:<br>811",
          "Iran:<br>971",
          "Iran:<br>1107",
          "Iran:<br>1243",
          "Iran:<br>1288",
          "Iran:<br>1209",
          "Iran:<br>1147",
          "Iran:<br>1141",
          "Iran:<br>1139",
          "Iran:<br>1158",
          "Iran:<br>1083",
          "Iran:<br>1077",
          "Iran:<br>1135",
          "Iran:<br>1400",
          "Iran:<br>1793",
          "Iran:<br>2119",
          "Iran:<br>2507",
          "Iran:<br>2797",
          "Iran:<br>2968",
          "Iran:<br>3054",
          "Iran:<br>3066",
          "Iran:<br>3095",
          "Iran:<br>2991",
          "Iran:<br>nan"
         ],
         "line": {
          "width": 1.5
         },
         "marker": {
          "color": "#A192B2"
         },
         "name": "Iran  ",
         "showlegend": true,
         "type": "scatter",
         "x": [
          "2020-01-23T00:00:00",
          "2020-01-24T00:00:00",
          "2020-01-25T00:00:00",
          "2020-01-26T00:00:00",
          "2020-01-27T00:00:00",
          "2020-01-28T00:00:00",
          "2020-01-29T00:00:00",
          "2020-01-30T00:00:00",
          "2020-01-31T00:00:00",
          "2020-02-01T00:00:00",
          "2020-02-02T00:00:00",
          "2020-02-03T00:00:00",
          "2020-02-04T00:00:00",
          "2020-02-05T00:00:00",
          "2020-02-06T00:00:00",
          "2020-02-07T00:00:00",
          "2020-02-08T00:00:00",
          "2020-02-09T00:00:00",
          "2020-02-10T00:00:00",
          "2020-02-11T00:00:00",
          "2020-02-12T00:00:00",
          "2020-02-13T00:00:00",
          "2020-02-14T00:00:00",
          "2020-02-15T00:00:00",
          "2020-02-16T00:00:00",
          "2020-02-17T00:00:00",
          "2020-02-18T00:00:00",
          "2020-02-19T00:00:00",
          "2020-02-20T00:00:00",
          "2020-02-21T00:00:00",
          "2020-02-22T00:00:00",
          "2020-02-23T00:00:00",
          "2020-02-24T00:00:00",
          "2020-02-25T00:00:00",
          "2020-02-26T00:00:00",
          "2020-02-27T00:00:00",
          "2020-02-28T00:00:00",
          "2020-02-29T00:00:00",
          "2020-03-01T00:00:00",
          "2020-03-02T00:00:00",
          "2020-03-03T00:00:00",
          "2020-03-04T00:00:00",
          "2020-03-05T00:00:00",
          "2020-03-06T00:00:00",
          "2020-03-07T00:00:00",
          "2020-03-08T00:00:00",
          "2020-03-09T00:00:00",
          "2020-03-10T00:00:00",
          "2020-03-11T00:00:00",
          "2020-03-12T00:00:00",
          "2020-03-13T00:00:00",
          "2020-03-14T00:00:00",
          "2020-03-15T00:00:00",
          "2020-03-16T00:00:00",
          "2020-03-17T00:00:00",
          "2020-03-18T00:00:00",
          "2020-03-19T00:00:00",
          "2020-03-20T00:00:00",
          "2020-03-21T00:00:00",
          "2020-03-22T00:00:00",
          "2020-03-23T00:00:00",
          "2020-03-24T00:00:00",
          "2020-03-25T00:00:00",
          "2020-03-26T00:00:00",
          "2020-03-27T00:00:00",
          "2020-03-28T00:00:00",
          "2020-03-29T00:00:00",
          "2020-03-30T00:00:00",
          "2020-03-31T00:00:00",
          "2020-04-01T00:00:00",
          "2020-04-02T00:00:00"
         ],
         "y": [
          null,
          null,
          0,
          0,
          0,
          0,
          0,
          0,
          0,
          0,
          0,
          0,
          0,
          0,
          0,
          0,
          0,
          0,
          0,
          0,
          0,
          0,
          0,
          0,
          0,
          0,
          0.6666666666666666,
          1.6666666666666667,
          6,
          8.666666666666666,
          12.666666666666666,
          14.333333333333334,
          22.333333333333332,
          32,
          61.333333333333336,
          97.66666666666667,
          151.33333333333334,
          244.33333333333334,
          371,
          581,
          648,
          670.6666666666666,
          803.6666666666666,
          967,
          1017.6666666666666,
          804.6666666666666,
          739.6666666666666,
          811.3333333333334,
          971.3333333333334,
          1107.3333333333333,
          1243,
          1287.6666666666667,
          1209,
          1146.6666666666667,
          1141,
          1138.6666666666667,
          1158.3333333333333,
          1083,
          1077,
          1135,
          1400.3333333333333,
          1793,
          2119,
          2507,
          2797,
          2967.6666666666665,
          3054.3333333333335,
          3065.6666666666665,
          3094.6666666666665,
          2991,
          null
         ]
        },
        {
         "hoverinfo": "text",
         "hoverlabel": {
          "bgcolor": "white",
          "bordercolor": "#418FDE",
          "font": {
           "color": "#418FDE"
          }
         },
         "hovertext": [
          "United Kingdom:<br>nan",
          "United Kingdom:<br>nan",
          "United Kingdom:<br>0",
          "United Kingdom:<br>0",
          "United Kingdom:<br>0",
          "United Kingdom:<br>0",
          "United Kingdom:<br>0",
          "United Kingdom:<br>1",
          "United Kingdom:<br>1",
          "United Kingdom:<br>1",
          "United Kingdom:<br>0",
          "United Kingdom:<br>0",
          "United Kingdom:<br>0",
          "United Kingdom:<br>0",
          "United Kingdom:<br>0",
          "United Kingdom:<br>0",
          "United Kingdom:<br>0",
          "United Kingdom:<br>2",
          "United Kingdom:<br>2",
          "United Kingdom:<br>2",
          "United Kingdom:<br>0",
          "United Kingdom:<br>0",
          "United Kingdom:<br>0",
          "United Kingdom:<br>0",
          "United Kingdom:<br>0",
          "United Kingdom:<br>0",
          "United Kingdom:<br>0",
          "United Kingdom:<br>0",
          "United Kingdom:<br>0",
          "United Kingdom:<br>0",
          "United Kingdom:<br>0",
          "United Kingdom:<br>1",
          "United Kingdom:<br>1",
          "United Kingdom:<br>1",
          "United Kingdom:<br>1",
          "United Kingdom:<br>2",
          "United Kingdom:<br>3",
          "United Kingdom:<br>7",
          "United Kingdom:<br>7",
          "United Kingdom:<br>9",
          "United Kingdom:<br>17",
          "United Kingdom:<br>25",
          "United Kingdom:<br>38",
          "United Kingdom:<br>40",
          "United Kingdom:<br>53",
          "United Kingdom:<br>53",
          "United Kingdom:<br>59",
          "United Kingdom:<br>62",
          "United Kingdom:<br>46",
          "United Kingdom:<br>139",
          "United Kingdom:<br>228",
          "United Kingdom:<br>229",
          "United Kingdom:<br>250",
          "United Kingdom:<br>272",
          "United Kingdom:<br>499",
          "United Kingdom:<br>388",
          "United Kingdom:<br>685",
          "United Kingdom:<br>808",
          "United Kingdom:<br>1010",
          "United Kingdom:<br>904",
          "United Kingdom:<br>1032",
          "United Kingdom:<br>1298",
          "United Kingdom:<br>1695",
          "United Kingdom:<br>2194",
          "United Kingdom:<br>2557",
          "United Kingdom:<br>2656",
          "United Kingdom:<br>2569",
          "United Kingdom:<br>2723",
          "United Kingdom:<br>3362",
          "United Kingdom:<br>3907",
          "United Kingdom:<br>nan"
         ],
         "line": {
          "width": 1.5
         },
         "marker": {
          "color": "#418FDE"
         },
         "name": "United Kingdom  ",
         "showlegend": true,
         "type": "scatter",
         "x": [
          "2020-01-23T00:00:00",
          "2020-01-24T00:00:00",
          "2020-01-25T00:00:00",
          "2020-01-26T00:00:00",
          "2020-01-27T00:00:00",
          "2020-01-28T00:00:00",
          "2020-01-29T00:00:00",
          "2020-01-30T00:00:00",
          "2020-01-31T00:00:00",
          "2020-02-01T00:00:00",
          "2020-02-02T00:00:00",
          "2020-02-03T00:00:00",
          "2020-02-04T00:00:00",
          "2020-02-05T00:00:00",
          "2020-02-06T00:00:00",
          "2020-02-07T00:00:00",
          "2020-02-08T00:00:00",
          "2020-02-09T00:00:00",
          "2020-02-10T00:00:00",
          "2020-02-11T00:00:00",
          "2020-02-12T00:00:00",
          "2020-02-13T00:00:00",
          "2020-02-14T00:00:00",
          "2020-02-15T00:00:00",
          "2020-02-16T00:00:00",
          "2020-02-17T00:00:00",
          "2020-02-18T00:00:00",
          "2020-02-19T00:00:00",
          "2020-02-20T00:00:00",
          "2020-02-21T00:00:00",
          "2020-02-22T00:00:00",
          "2020-02-23T00:00:00",
          "2020-02-24T00:00:00",
          "2020-02-25T00:00:00",
          "2020-02-26T00:00:00",
          "2020-02-27T00:00:00",
          "2020-02-28T00:00:00",
          "2020-02-29T00:00:00",
          "2020-03-01T00:00:00",
          "2020-03-02T00:00:00",
          "2020-03-03T00:00:00",
          "2020-03-04T00:00:00",
          "2020-03-05T00:00:00",
          "2020-03-06T00:00:00",
          "2020-03-07T00:00:00",
          "2020-03-08T00:00:00",
          "2020-03-09T00:00:00",
          "2020-03-10T00:00:00",
          "2020-03-11T00:00:00",
          "2020-03-12T00:00:00",
          "2020-03-13T00:00:00",
          "2020-03-14T00:00:00",
          "2020-03-15T00:00:00",
          "2020-03-16T00:00:00",
          "2020-03-17T00:00:00",
          "2020-03-18T00:00:00",
          "2020-03-19T00:00:00",
          "2020-03-20T00:00:00",
          "2020-03-21T00:00:00",
          "2020-03-22T00:00:00",
          "2020-03-23T00:00:00",
          "2020-03-24T00:00:00",
          "2020-03-25T00:00:00",
          "2020-03-26T00:00:00",
          "2020-03-27T00:00:00",
          "2020-03-28T00:00:00",
          "2020-03-29T00:00:00",
          "2020-03-30T00:00:00",
          "2020-03-31T00:00:00",
          "2020-04-01T00:00:00",
          "2020-04-02T00:00:00"
         ],
         "y": [
          null,
          null,
          0,
          0,
          0,
          0,
          0,
          0.6666666666666666,
          0.6666666666666666,
          0.6666666666666666,
          0,
          0,
          0,
          0,
          0.3333333333333333,
          0.3333333333333333,
          0.3333333333333333,
          1.6666666666666667,
          1.6666666666666667,
          2,
          0.3333333333333333,
          0.3333333333333333,
          0,
          0,
          0,
          0,
          0,
          0,
          0,
          0,
          0,
          1.3333333333333333,
          1.3333333333333333,
          1.3333333333333333,
          0.6666666666666666,
          2.3333333333333335,
          3.3333333333333335,
          7,
          6.666666666666667,
          9.333333333333334,
          16.666666666666668,
          25.333333333333332,
          37.666666666666664,
          40.333333333333336,
          52.666666666666664,
          52.666666666666664,
          59,
          61.666666666666664,
          45.666666666666664,
          139.33333333333334,
          228.33333333333334,
          228.66666666666666,
          249.66666666666666,
          272,
          499,
          388.3333333333333,
          684.6666666666666,
          808.3333333333334,
          1009.6666666666666,
          904,
          1032.3333333333333,
          1298.3333333333333,
          1695.3333333333333,
          2193.6666666666665,
          2557.3333333333335,
          2656,
          2569.3333333333335,
          2723,
          3361.6666666666665,
          3906.6666666666665,
          null
         ]
        },
        {
         "hoverinfo": "text",
         "hoverlabel": {
          "bgcolor": "white",
          "bordercolor": "#86C8BC",
          "font": {
           "color": "#86C8BC"
          }
         },
         "hovertext": [
          "Netherlands:<br>nan",
          "Netherlands:<br>nan",
          "Netherlands:<br>0",
          "Netherlands:<br>0",
          "Netherlands:<br>0",
          "Netherlands:<br>0",
          "Netherlands:<br>0",
          "Netherlands:<br>0",
          "Netherlands:<br>0",
          "Netherlands:<br>0",
          "Netherlands:<br>0",
          "Netherlands:<br>0",
          "Netherlands:<br>0",
          "Netherlands:<br>0",
          "Netherlands:<br>0",
          "Netherlands:<br>0",
          "Netherlands:<br>0",
          "Netherlands:<br>0",
          "Netherlands:<br>0",
          "Netherlands:<br>0",
          "Netherlands:<br>0",
          "Netherlands:<br>0",
          "Netherlands:<br>0",
          "Netherlands:<br>0",
          "Netherlands:<br>0",
          "Netherlands:<br>0",
          "Netherlands:<br>0",
          "Netherlands:<br>0",
          "Netherlands:<br>0",
          "Netherlands:<br>0",
          "Netherlands:<br>0",
          "Netherlands:<br>0",
          "Netherlands:<br>0",
          "Netherlands:<br>0",
          "Netherlands:<br>0",
          "Netherlands:<br>0",
          "Netherlands:<br>2",
          "Netherlands:<br>3",
          "Netherlands:<br>6",
          "Netherlands:<br>6",
          "Netherlands:<br>9",
          "Netherlands:<br>21",
          "Netherlands:<br>35",
          "Netherlands:<br>50",
          "Netherlands:<br>61",
          "Netherlands:<br>64",
          "Netherlands:<br>65",
          "Netherlands:<br>79",
          "Netherlands:<br>61",
          "Netherlands:<br>141",
          "Netherlands:<br>153",
          "Netherlands:<br>212",
          "Netherlands:<br>203",
          "Netherlands:<br>250",
          "Netherlands:<br>307",
          "Netherlands:<br>350",
          "Netherlands:<br>431",
          "Netherlands:<br>527",
          "Netherlands:<br>583",
          "Netherlands:<br>587",
          "Netherlands:<br>647",
          "Netherlands:<br>740",
          "Netherlands:<br>901",
          "Netherlands:<br>1022",
          "Netherlands:<br>1127",
          "Netherlands:<br>1154",
          "Netherlands:<br>1057",
          "Netherlands:<br>949",
          "Netherlands:<br>922",
          "Netherlands:<br>990",
          "Netherlands:<br>nan"
         ],
         "line": {
          "width": 1.5
         },
         "marker": {
          "color": "#86C8BC"
         },
         "name": "Netherlands  ",
         "showlegend": true,
         "type": "scatter",
         "x": [
          "2020-01-23T00:00:00",
          "2020-01-24T00:00:00",
          "2020-01-25T00:00:00",
          "2020-01-26T00:00:00",
          "2020-01-27T00:00:00",
          "2020-01-28T00:00:00",
          "2020-01-29T00:00:00",
          "2020-01-30T00:00:00",
          "2020-01-31T00:00:00",
          "2020-02-01T00:00:00",
          "2020-02-02T00:00:00",
          "2020-02-03T00:00:00",
          "2020-02-04T00:00:00",
          "2020-02-05T00:00:00",
          "2020-02-06T00:00:00",
          "2020-02-07T00:00:00",
          "2020-02-08T00:00:00",
          "2020-02-09T00:00:00",
          "2020-02-10T00:00:00",
          "2020-02-11T00:00:00",
          "2020-02-12T00:00:00",
          "2020-02-13T00:00:00",
          "2020-02-14T00:00:00",
          "2020-02-15T00:00:00",
          "2020-02-16T00:00:00",
          "2020-02-17T00:00:00",
          "2020-02-18T00:00:00",
          "2020-02-19T00:00:00",
          "2020-02-20T00:00:00",
          "2020-02-21T00:00:00",
          "2020-02-22T00:00:00",
          "2020-02-23T00:00:00",
          "2020-02-24T00:00:00",
          "2020-02-25T00:00:00",
          "2020-02-26T00:00:00",
          "2020-02-27T00:00:00",
          "2020-02-28T00:00:00",
          "2020-02-29T00:00:00",
          "2020-03-01T00:00:00",
          "2020-03-02T00:00:00",
          "2020-03-03T00:00:00",
          "2020-03-04T00:00:00",
          "2020-03-05T00:00:00",
          "2020-03-06T00:00:00",
          "2020-03-07T00:00:00",
          "2020-03-08T00:00:00",
          "2020-03-09T00:00:00",
          "2020-03-10T00:00:00",
          "2020-03-11T00:00:00",
          "2020-03-12T00:00:00",
          "2020-03-13T00:00:00",
          "2020-03-14T00:00:00",
          "2020-03-15T00:00:00",
          "2020-03-16T00:00:00",
          "2020-03-17T00:00:00",
          "2020-03-18T00:00:00",
          "2020-03-19T00:00:00",
          "2020-03-20T00:00:00",
          "2020-03-21T00:00:00",
          "2020-03-22T00:00:00",
          "2020-03-23T00:00:00",
          "2020-03-24T00:00:00",
          "2020-03-25T00:00:00",
          "2020-03-26T00:00:00",
          "2020-03-27T00:00:00",
          "2020-03-28T00:00:00",
          "2020-03-29T00:00:00",
          "2020-03-30T00:00:00",
          "2020-03-31T00:00:00",
          "2020-04-01T00:00:00",
          "2020-04-02T00:00:00"
         ],
         "y": [
          null,
          null,
          0,
          0,
          0,
          0,
          0,
          0,
          0,
          0,
          0,
          0,
          0,
          0,
          0,
          0,
          0,
          0,
          0,
          0,
          0,
          0,
          0,
          0,
          0,
          0,
          0,
          0,
          0,
          0,
          0,
          0,
          0,
          0,
          0.3333333333333333,
          0.3333333333333333,
          2,
          3,
          5.666666666666667,
          6,
          9.333333333333334,
          21.333333333333332,
          34.666666666666664,
          50,
          61,
          64.33333333333333,
          64.66666666666667,
          79.33333333333333,
          60.666666666666664,
          141.33333333333334,
          153,
          211.66666666666666,
          203.33333333333334,
          249.66666666666666,
          306.6666666666667,
          350.3333333333333,
          430.6666666666667,
          527.3333333333334,
          583.3333333333334,
          587,
          646.6666666666666,
          740.3333333333334,
          901.3333333333334,
          1022.3333333333334,
          1127,
          1154,
          1056.6666666666667,
          949.3333333333334,
          922,
          990.3333333333334,
          null
         ]
        },
        {
         "hoverinfo": "text",
         "hoverlabel": {
          "bgcolor": "white",
          "bordercolor": "#286140",
          "font": {
           "color": "#286140"
          }
         },
         "hovertext": [
          "Germany:<br>nan",
          "Germany:<br>nan",
          "Germany:<br>0",
          "Germany:<br>0",
          "Germany:<br>1",
          "Germany:<br>1",
          "Germany:<br>1",
          "Germany:<br>0",
          "Germany:<br>1",
          "Germany:<br>2",
          "Germany:<br>2",
          "Germany:<br>1",
          "Germany:<br>1",
          "Germany:<br>0",
          "Germany:<br>0",
          "Germany:<br>0",
          "Germany:<br>1",
          "Germany:<br>0",
          "Germany:<br>1",
          "Germany:<br>1",
          "Germany:<br>1",
          "Germany:<br>0",
          "Germany:<br>0",
          "Germany:<br>0",
          "Germany:<br>0",
          "Germany:<br>0",
          "Germany:<br>0",
          "Germany:<br>0",
          "Germany:<br>0",
          "Germany:<br>0",
          "Germany:<br>0",
          "Germany:<br>0",
          "Germany:<br>0",
          "Germany:<br>4",
          "Germany:<br>10",
          "Germany:<br>10",
          "Germany:<br>17",
          "Germany:<br>28",
          "Germany:<br>37",
          "Germany:<br>39",
          "Germany:<br>44",
          "Germany:<br>108",
          "Germany:<br>158",
          "Germany:<br>179",
          "Germany:<br>186",
          "Germany:<br>169",
          "Germany:<br>219",
          "Germany:<br>289",
          "Germany:<br>301",
          "Germany:<br>739",
          "Germany:<br>892",
          "Germany:<br>1239",
          "Germany:<br>1199",
          "Germany:<br>1557",
          "Germany:<br>2177",
          "Germany:<br>2683",
          "Germany:<br>3530",
          "Germany:<br>3295",
          "Germany:<br>3184",
          "Germany:<br>3069",
          "Germany:<br>3591",
          "Germany:<br>4150",
          "Germany:<br>4961",
          "Germany:<br>5962",
          "Germany:<br>6791",
          "Germany:<br>6052",
          "Germany:<br>5338",
          "Germany:<br>4704",
          "Germany:<br>5259",
          "Germany:<br>5970",
          "Germany:<br>nan"
         ],
         "line": {
          "width": 1.5
         },
         "marker": {
          "color": "#286140"
         },
         "name": "Germany  ",
         "showlegend": true,
         "type": "scatter",
         "x": [
          "2020-01-23T00:00:00",
          "2020-01-24T00:00:00",
          "2020-01-25T00:00:00",
          "2020-01-26T00:00:00",
          "2020-01-27T00:00:00",
          "2020-01-28T00:00:00",
          "2020-01-29T00:00:00",
          "2020-01-30T00:00:00",
          "2020-01-31T00:00:00",
          "2020-02-01T00:00:00",
          "2020-02-02T00:00:00",
          "2020-02-03T00:00:00",
          "2020-02-04T00:00:00",
          "2020-02-05T00:00:00",
          "2020-02-06T00:00:00",
          "2020-02-07T00:00:00",
          "2020-02-08T00:00:00",
          "2020-02-09T00:00:00",
          "2020-02-10T00:00:00",
          "2020-02-11T00:00:00",
          "2020-02-12T00:00:00",
          "2020-02-13T00:00:00",
          "2020-02-14T00:00:00",
          "2020-02-15T00:00:00",
          "2020-02-16T00:00:00",
          "2020-02-17T00:00:00",
          "2020-02-18T00:00:00",
          "2020-02-19T00:00:00",
          "2020-02-20T00:00:00",
          "2020-02-21T00:00:00",
          "2020-02-22T00:00:00",
          "2020-02-23T00:00:00",
          "2020-02-24T00:00:00",
          "2020-02-25T00:00:00",
          "2020-02-26T00:00:00",
          "2020-02-27T00:00:00",
          "2020-02-28T00:00:00",
          "2020-02-29T00:00:00",
          "2020-03-01T00:00:00",
          "2020-03-02T00:00:00",
          "2020-03-03T00:00:00",
          "2020-03-04T00:00:00",
          "2020-03-05T00:00:00",
          "2020-03-06T00:00:00",
          "2020-03-07T00:00:00",
          "2020-03-08T00:00:00",
          "2020-03-09T00:00:00",
          "2020-03-10T00:00:00",
          "2020-03-11T00:00:00",
          "2020-03-12T00:00:00",
          "2020-03-13T00:00:00",
          "2020-03-14T00:00:00",
          "2020-03-15T00:00:00",
          "2020-03-16T00:00:00",
          "2020-03-17T00:00:00",
          "2020-03-18T00:00:00",
          "2020-03-19T00:00:00",
          "2020-03-20T00:00:00",
          "2020-03-21T00:00:00",
          "2020-03-22T00:00:00",
          "2020-03-23T00:00:00",
          "2020-03-24T00:00:00",
          "2020-03-25T00:00:00",
          "2020-03-26T00:00:00",
          "2020-03-27T00:00:00",
          "2020-03-28T00:00:00",
          "2020-03-29T00:00:00",
          "2020-03-30T00:00:00",
          "2020-03-31T00:00:00",
          "2020-04-01T00:00:00",
          "2020-04-02T00:00:00"
         ],
         "y": [
          null,
          null,
          0,
          0.3333333333333333,
          1.3333333333333333,
          1.3333333333333333,
          1,
          0.3333333333333333,
          1.3333333333333333,
          2,
          2.3333333333333335,
          1.3333333333333333,
          0.6666666666666666,
          0,
          0.3333333333333333,
          0.3333333333333333,
          0.6666666666666666,
          0.3333333333333333,
          1,
          0.6666666666666666,
          0.6666666666666666,
          0,
          0,
          0,
          0,
          0,
          0,
          0,
          0,
          0,
          0,
          0,
          0.3333333333333333,
          3.6666666666666665,
          10,
          10.333333333333334,
          17.333333333333332,
          28,
          37,
          39,
          44,
          107.66666666666667,
          158,
          179,
          186,
          168.66666666666666,
          219.33333333333334,
          289.3333333333333,
          300.6666666666667,
          739.3333333333334,
          892.3333333333334,
          1239,
          1199,
          1557.3333333333333,
          2177.3333333333335,
          2682.6666666666665,
          3530.3333333333335,
          3295.3333333333335,
          3184.3333333333335,
          3069.3333333333335,
          3591,
          4150,
          4960.666666666667,
          5961.666666666667,
          6790.666666666667,
          6052.333333333333,
          5338,
          4704.333333333333,
          5259,
          5969.666666666667,
          null
         ]
        },
        {
         "hoverinfo": "text",
         "hoverlabel": {
          "bgcolor": "white",
          "bordercolor": "#F1C400",
          "font": {
           "color": "#F1C400"
          }
         },
         "hovertext": [
          "Belgium:<br>nan",
          "Belgium:<br>nan",
          "Belgium:<br>0",
          "Belgium:<br>0",
          "Belgium:<br>0",
          "Belgium:<br>0",
          "Belgium:<br>0",
          "Belgium:<br>0",
          "Belgium:<br>0",
          "Belgium:<br>0",
          "Belgium:<br>0",
          "Belgium:<br>0",
          "Belgium:<br>0",
          "Belgium:<br>0",
          "Belgium:<br>0",
          "Belgium:<br>0",
          "Belgium:<br>0",
          "Belgium:<br>0",
          "Belgium:<br>0",
          "Belgium:<br>0",
          "Belgium:<br>0",
          "Belgium:<br>0",
          "Belgium:<br>0",
          "Belgium:<br>0",
          "Belgium:<br>0",
          "Belgium:<br>0",
          "Belgium:<br>0",
          "Belgium:<br>0",
          "Belgium:<br>0",
          "Belgium:<br>0",
          "Belgium:<br>0",
          "Belgium:<br>0",
          "Belgium:<br>0",
          "Belgium:<br>0",
          "Belgium:<br>0",
          "Belgium:<br>0",
          "Belgium:<br>0",
          "Belgium:<br>0",
          "Belgium:<br>2",
          "Belgium:<br>4",
          "Belgium:<br>7",
          "Belgium:<br>14",
          "Belgium:<br>32",
          "Belgium:<br>49",
          "Belgium:<br>50",
          "Belgium:<br>43",
          "Belgium:<br>33",
          "Belgium:<br>38",
          "Belgium:<br>25",
          "Belgium:<br>97",
          "Belgium:<br>125",
          "Belgium:<br>191",
          "Belgium:<br>166",
          "Belgium:<br>185",
          "Belgium:<br>200",
          "Belgium:<br>246",
          "Belgium:<br>338",
          "Belgium:<br>443",
          "Belgium:<br>535",
          "Belgium:<br>495",
          "Belgium:<br>485",
          "Belgium:<br>512",
          "Belgium:<br>831",
          "Belgium:<br>1005",
          "Belgium:<br>1399",
          "Belgium:<br>1534",
          "Belgium:<br>1538",
          "Belgium:<br>1214",
          "Belgium:<br>1043",
          "Belgium:<br>1150",
          "Belgium:<br>nan"
         ],
         "line": {
          "width": 1.5
         },
         "marker": {
          "color": "#F1C400"
         },
         "name": "Belgium  ",
         "showlegend": true,
         "type": "scatter",
         "x": [
          "2020-01-23T00:00:00",
          "2020-01-24T00:00:00",
          "2020-01-25T00:00:00",
          "2020-01-26T00:00:00",
          "2020-01-27T00:00:00",
          "2020-01-28T00:00:00",
          "2020-01-29T00:00:00",
          "2020-01-30T00:00:00",
          "2020-01-31T00:00:00",
          "2020-02-01T00:00:00",
          "2020-02-02T00:00:00",
          "2020-02-03T00:00:00",
          "2020-02-04T00:00:00",
          "2020-02-05T00:00:00",
          "2020-02-06T00:00:00",
          "2020-02-07T00:00:00",
          "2020-02-08T00:00:00",
          "2020-02-09T00:00:00",
          "2020-02-10T00:00:00",
          "2020-02-11T00:00:00",
          "2020-02-12T00:00:00",
          "2020-02-13T00:00:00",
          "2020-02-14T00:00:00",
          "2020-02-15T00:00:00",
          "2020-02-16T00:00:00",
          "2020-02-17T00:00:00",
          "2020-02-18T00:00:00",
          "2020-02-19T00:00:00",
          "2020-02-20T00:00:00",
          "2020-02-21T00:00:00",
          "2020-02-22T00:00:00",
          "2020-02-23T00:00:00",
          "2020-02-24T00:00:00",
          "2020-02-25T00:00:00",
          "2020-02-26T00:00:00",
          "2020-02-27T00:00:00",
          "2020-02-28T00:00:00",
          "2020-02-29T00:00:00",
          "2020-03-01T00:00:00",
          "2020-03-02T00:00:00",
          "2020-03-03T00:00:00",
          "2020-03-04T00:00:00",
          "2020-03-05T00:00:00",
          "2020-03-06T00:00:00",
          "2020-03-07T00:00:00",
          "2020-03-08T00:00:00",
          "2020-03-09T00:00:00",
          "2020-03-10T00:00:00",
          "2020-03-11T00:00:00",
          "2020-03-12T00:00:00",
          "2020-03-13T00:00:00",
          "2020-03-14T00:00:00",
          "2020-03-15T00:00:00",
          "2020-03-16T00:00:00",
          "2020-03-17T00:00:00",
          "2020-03-18T00:00:00",
          "2020-03-19T00:00:00",
          "2020-03-20T00:00:00",
          "2020-03-21T00:00:00",
          "2020-03-22T00:00:00",
          "2020-03-23T00:00:00",
          "2020-03-24T00:00:00",
          "2020-03-25T00:00:00",
          "2020-03-26T00:00:00",
          "2020-03-27T00:00:00",
          "2020-03-28T00:00:00",
          "2020-03-29T00:00:00",
          "2020-03-30T00:00:00",
          "2020-03-31T00:00:00",
          "2020-04-01T00:00:00",
          "2020-04-02T00:00:00"
         ],
         "y": [
          null,
          null,
          0,
          0,
          0,
          0,
          0,
          0,
          0,
          0,
          0,
          0.3333333333333333,
          0.3333333333333333,
          0.3333333333333333,
          0,
          0,
          0,
          0,
          0,
          0,
          0,
          0,
          0,
          0,
          0,
          0,
          0,
          0,
          0,
          0,
          0,
          0,
          0,
          0,
          0,
          0,
          0,
          0.3333333333333333,
          2.3333333333333335,
          4,
          7,
          14,
          32,
          48.666666666666664,
          50,
          43.333333333333336,
          32.666666666666664,
          38,
          25,
          97.33333333333333,
          125,
          190.66666666666666,
          166.33333333333334,
          184.66666666666666,
          200,
          245.66666666666666,
          338,
          443,
          535.3333333333334,
          495.3333333333333,
          484.6666666666667,
          512,
          830.6666666666666,
          1005,
          1399,
          1533.6666666666667,
          1538.3333333333333,
          1213.6666666666667,
          1042.6666666666667,
          1149.6666666666667,
          null
         ]
        }
       ],
       "layout": {
        "annotations": [
         {
          "font": {
           "color": "silver",
           "family": "Gentona, Tahoma, sans-serif",
           "size": 8
          },
          "showarrow": false,
          "text": "Click any country below to hide/show from the graph:",
          "x": -0.03,
          "xref": "paper",
          "y": -0.25,
          "yref": "paper"
         }
        ],
        "font": {
         "color": "dimgray",
         "family": "Gentona, Tahoma, sans-serif",
         "size": 8
        },
        "height": 275,
        "hovermode": "closest",
        "legend": {
         "orientation": "h",
         "x": -0.05,
         "y": -0.22
        },
        "margin": {
         "b": 0,
         "l": 30,
         "pad": 0,
         "r": 10,
         "t": 10
        },
        "template": {
         "data": {
          "bar": [
           {
            "error_x": {
             "color": "#2a3f5f"
            },
            "error_y": {
             "color": "#2a3f5f"
            },
            "marker": {
             "line": {
              "color": "#E5ECF6",
              "width": 0.5
             }
            },
            "type": "bar"
           }
          ],
          "barpolar": [
           {
            "marker": {
             "line": {
              "color": "#E5ECF6",
              "width": 0.5
             }
            },
            "type": "barpolar"
           }
          ],
          "carpet": [
           {
            "aaxis": {
             "endlinecolor": "#2a3f5f",
             "gridcolor": "white",
             "linecolor": "white",
             "minorgridcolor": "white",
             "startlinecolor": "#2a3f5f"
            },
            "baxis": {
             "endlinecolor": "#2a3f5f",
             "gridcolor": "white",
             "linecolor": "white",
             "minorgridcolor": "white",
             "startlinecolor": "#2a3f5f"
            },
            "type": "carpet"
           }
          ],
          "choropleth": [
           {
            "colorbar": {
             "outlinewidth": 0,
             "ticks": ""
            },
            "type": "choropleth"
           }
          ],
          "contour": [
           {
            "colorbar": {
             "outlinewidth": 0,
             "ticks": ""
            },
            "colorscale": [
             [
              0,
              "#0d0887"
             ],
             [
              0.1111111111111111,
              "#46039f"
             ],
             [
              0.2222222222222222,
              "#7201a8"
             ],
             [
              0.3333333333333333,
              "#9c179e"
             ],
             [
              0.4444444444444444,
              "#bd3786"
             ],
             [
              0.5555555555555556,
              "#d8576b"
             ],
             [
              0.6666666666666666,
              "#ed7953"
             ],
             [
              0.7777777777777778,
              "#fb9f3a"
             ],
             [
              0.8888888888888888,
              "#fdca26"
             ],
             [
              1,
              "#f0f921"
             ]
            ],
            "type": "contour"
           }
          ],
          "contourcarpet": [
           {
            "colorbar": {
             "outlinewidth": 0,
             "ticks": ""
            },
            "type": "contourcarpet"
           }
          ],
          "heatmap": [
           {
            "colorbar": {
             "outlinewidth": 0,
             "ticks": ""
            },
            "colorscale": [
             [
              0,
              "#0d0887"
             ],
             [
              0.1111111111111111,
              "#46039f"
             ],
             [
              0.2222222222222222,
              "#7201a8"
             ],
             [
              0.3333333333333333,
              "#9c179e"
             ],
             [
              0.4444444444444444,
              "#bd3786"
             ],
             [
              0.5555555555555556,
              "#d8576b"
             ],
             [
              0.6666666666666666,
              "#ed7953"
             ],
             [
              0.7777777777777778,
              "#fb9f3a"
             ],
             [
              0.8888888888888888,
              "#fdca26"
             ],
             [
              1,
              "#f0f921"
             ]
            ],
            "type": "heatmap"
           }
          ],
          "heatmapgl": [
           {
            "colorbar": {
             "outlinewidth": 0,
             "ticks": ""
            },
            "colorscale": [
             [
              0,
              "#0d0887"
             ],
             [
              0.1111111111111111,
              "#46039f"
             ],
             [
              0.2222222222222222,
              "#7201a8"
             ],
             [
              0.3333333333333333,
              "#9c179e"
             ],
             [
              0.4444444444444444,
              "#bd3786"
             ],
             [
              0.5555555555555556,
              "#d8576b"
             ],
             [
              0.6666666666666666,
              "#ed7953"
             ],
             [
              0.7777777777777778,
              "#fb9f3a"
             ],
             [
              0.8888888888888888,
              "#fdca26"
             ],
             [
              1,
              "#f0f921"
             ]
            ],
            "type": "heatmapgl"
           }
          ],
          "histogram": [
           {
            "marker": {
             "colorbar": {
              "outlinewidth": 0,
              "ticks": ""
             }
            },
            "type": "histogram"
           }
          ],
          "histogram2d": [
           {
            "colorbar": {
             "outlinewidth": 0,
             "ticks": ""
            },
            "colorscale": [
             [
              0,
              "#0d0887"
             ],
             [
              0.1111111111111111,
              "#46039f"
             ],
             [
              0.2222222222222222,
              "#7201a8"
             ],
             [
              0.3333333333333333,
              "#9c179e"
             ],
             [
              0.4444444444444444,
              "#bd3786"
             ],
             [
              0.5555555555555556,
              "#d8576b"
             ],
             [
              0.6666666666666666,
              "#ed7953"
             ],
             [
              0.7777777777777778,
              "#fb9f3a"
             ],
             [
              0.8888888888888888,
              "#fdca26"
             ],
             [
              1,
              "#f0f921"
             ]
            ],
            "type": "histogram2d"
           }
          ],
          "histogram2dcontour": [
           {
            "colorbar": {
             "outlinewidth": 0,
             "ticks": ""
            },
            "colorscale": [
             [
              0,
              "#0d0887"
             ],
             [
              0.1111111111111111,
              "#46039f"
             ],
             [
              0.2222222222222222,
              "#7201a8"
             ],
             [
              0.3333333333333333,
              "#9c179e"
             ],
             [
              0.4444444444444444,
              "#bd3786"
             ],
             [
              0.5555555555555556,
              "#d8576b"
             ],
             [
              0.6666666666666666,
              "#ed7953"
             ],
             [
              0.7777777777777778,
              "#fb9f3a"
             ],
             [
              0.8888888888888888,
              "#fdca26"
             ],
             [
              1,
              "#f0f921"
             ]
            ],
            "type": "histogram2dcontour"
           }
          ],
          "mesh3d": [
           {
            "colorbar": {
             "outlinewidth": 0,
             "ticks": ""
            },
            "type": "mesh3d"
           }
          ],
          "parcoords": [
           {
            "line": {
             "colorbar": {
              "outlinewidth": 0,
              "ticks": ""
             }
            },
            "type": "parcoords"
           }
          ],
          "pie": [
           {
            "automargin": true,
            "type": "pie"
           }
          ],
          "scatter": [
           {
            "marker": {
             "colorbar": {
              "outlinewidth": 0,
              "ticks": ""
             }
            },
            "type": "scatter"
           }
          ],
          "scatter3d": [
           {
            "line": {
             "colorbar": {
              "outlinewidth": 0,
              "ticks": ""
             }
            },
            "marker": {
             "colorbar": {
              "outlinewidth": 0,
              "ticks": ""
             }
            },
            "type": "scatter3d"
           }
          ],
          "scattercarpet": [
           {
            "marker": {
             "colorbar": {
              "outlinewidth": 0,
              "ticks": ""
             }
            },
            "type": "scattercarpet"
           }
          ],
          "scattergeo": [
           {
            "marker": {
             "colorbar": {
              "outlinewidth": 0,
              "ticks": ""
             }
            },
            "type": "scattergeo"
           }
          ],
          "scattergl": [
           {
            "marker": {
             "colorbar": {
              "outlinewidth": 0,
              "ticks": ""
             }
            },
            "type": "scattergl"
           }
          ],
          "scattermapbox": [
           {
            "marker": {
             "colorbar": {
              "outlinewidth": 0,
              "ticks": ""
             }
            },
            "type": "scattermapbox"
           }
          ],
          "scatterpolar": [
           {
            "marker": {
             "colorbar": {
              "outlinewidth": 0,
              "ticks": ""
             }
            },
            "type": "scatterpolar"
           }
          ],
          "scatterpolargl": [
           {
            "marker": {
             "colorbar": {
              "outlinewidth": 0,
              "ticks": ""
             }
            },
            "type": "scatterpolargl"
           }
          ],
          "scatterternary": [
           {
            "marker": {
             "colorbar": {
              "outlinewidth": 0,
              "ticks": ""
             }
            },
            "type": "scatterternary"
           }
          ],
          "surface": [
           {
            "colorbar": {
             "outlinewidth": 0,
             "ticks": ""
            },
            "colorscale": [
             [
              0,
              "#0d0887"
             ],
             [
              0.1111111111111111,
              "#46039f"
             ],
             [
              0.2222222222222222,
              "#7201a8"
             ],
             [
              0.3333333333333333,
              "#9c179e"
             ],
             [
              0.4444444444444444,
              "#bd3786"
             ],
             [
              0.5555555555555556,
              "#d8576b"
             ],
             [
              0.6666666666666666,
              "#ed7953"
             ],
             [
              0.7777777777777778,
              "#fb9f3a"
             ],
             [
              0.8888888888888888,
              "#fdca26"
             ],
             [
              1,
              "#f0f921"
             ]
            ],
            "type": "surface"
           }
          ],
          "table": [
           {
            "cells": {
             "fill": {
              "color": "#EBF0F8"
             },
             "line": {
              "color": "white"
             }
            },
            "header": {
             "fill": {
              "color": "#C8D4E3"
             },
             "line": {
              "color": "white"
             }
            },
            "type": "table"
           }
          ]
         },
         "layout": {
          "annotationdefaults": {
           "arrowcolor": "#2a3f5f",
           "arrowhead": 0,
           "arrowwidth": 1
          },
          "coloraxis": {
           "colorbar": {
            "outlinewidth": 0,
            "ticks": ""
           }
          },
          "colorscale": {
           "diverging": [
            [
             0,
             "#8e0152"
            ],
            [
             0.1,
             "#c51b7d"
            ],
            [
             0.2,
             "#de77ae"
            ],
            [
             0.3,
             "#f1b6da"
            ],
            [
             0.4,
             "#fde0ef"
            ],
            [
             0.5,
             "#f7f7f7"
            ],
            [
             0.6,
             "#e6f5d0"
            ],
            [
             0.7,
             "#b8e186"
            ],
            [
             0.8,
             "#7fbc41"
            ],
            [
             0.9,
             "#4d9221"
            ],
            [
             1,
             "#276419"
            ]
           ],
           "sequential": [
            [
             0,
             "#0d0887"
            ],
            [
             0.1111111111111111,
             "#46039f"
            ],
            [
             0.2222222222222222,
             "#7201a8"
            ],
            [
             0.3333333333333333,
             "#9c179e"
            ],
            [
             0.4444444444444444,
             "#bd3786"
            ],
            [
             0.5555555555555556,
             "#d8576b"
            ],
            [
             0.6666666666666666,
             "#ed7953"
            ],
            [
             0.7777777777777778,
             "#fb9f3a"
            ],
            [
             0.8888888888888888,
             "#fdca26"
            ],
            [
             1,
             "#f0f921"
            ]
           ],
           "sequentialminus": [
            [
             0,
             "#0d0887"
            ],
            [
             0.1111111111111111,
             "#46039f"
            ],
            [
             0.2222222222222222,
             "#7201a8"
            ],
            [
             0.3333333333333333,
             "#9c179e"
            ],
            [
             0.4444444444444444,
             "#bd3786"
            ],
            [
             0.5555555555555556,
             "#d8576b"
            ],
            [
             0.6666666666666666,
             "#ed7953"
            ],
            [
             0.7777777777777778,
             "#fb9f3a"
            ],
            [
             0.8888888888888888,
             "#fdca26"
            ],
            [
             1,
             "#f0f921"
            ]
           ]
          },
          "colorway": [
           "#636efa",
           "#EF553B",
           "#00cc96",
           "#ab63fa",
           "#FFA15A",
           "#19d3f3",
           "#FF6692",
           "#B6E880",
           "#FF97FF",
           "#FECB52"
          ],
          "font": {
           "color": "#2a3f5f"
          },
          "geo": {
           "bgcolor": "white",
           "lakecolor": "white",
           "landcolor": "#E5ECF6",
           "showlakes": true,
           "showland": true,
           "subunitcolor": "white"
          },
          "hoverlabel": {
           "align": "left"
          },
          "hovermode": "closest",
          "mapbox": {
           "style": "light"
          },
          "paper_bgcolor": "white",
          "plot_bgcolor": "#E5ECF6",
          "polar": {
           "angularaxis": {
            "gridcolor": "white",
            "linecolor": "white",
            "ticks": ""
           },
           "bgcolor": "#E5ECF6",
           "radialaxis": {
            "gridcolor": "white",
            "linecolor": "white",
            "ticks": ""
           }
          },
          "scene": {
           "xaxis": {
            "backgroundcolor": "#E5ECF6",
            "gridcolor": "white",
            "gridwidth": 2,
            "linecolor": "white",
            "showbackground": true,
            "ticks": "",
            "zerolinecolor": "white"
           },
           "yaxis": {
            "backgroundcolor": "#E5ECF6",
            "gridcolor": "white",
            "gridwidth": 2,
            "linecolor": "white",
            "showbackground": true,
            "ticks": "",
            "zerolinecolor": "white"
           },
           "zaxis": {
            "backgroundcolor": "#E5ECF6",
            "gridcolor": "white",
            "gridwidth": 2,
            "linecolor": "white",
            "showbackground": true,
            "ticks": "",
            "zerolinecolor": "white"
           }
          },
          "shapedefaults": {
           "line": {
            "color": "#2a3f5f"
           }
          },
          "ternary": {
           "aaxis": {
            "gridcolor": "white",
            "linecolor": "white",
            "ticks": ""
           },
           "baxis": {
            "gridcolor": "white",
            "linecolor": "white",
            "ticks": ""
           },
           "bgcolor": "#E5ECF6",
           "caxis": {
            "gridcolor": "white",
            "linecolor": "white",
            "ticks": ""
           }
          },
          "title": {
           "x": 0.05
          },
          "xaxis": {
           "automargin": true,
           "gridcolor": "white",
           "linecolor": "white",
           "ticks": "",
           "title": {
            "standoff": 15
           },
           "zerolinecolor": "white",
           "zerolinewidth": 2
          },
          "yaxis": {
           "automargin": true,
           "gridcolor": "white",
           "linecolor": "white",
           "ticks": "",
           "title": {
            "standoff": 15
           },
           "zerolinecolor": "white",
           "zerolinewidth": 2
          }
         }
        },
        "width": 360,
        "xaxis": {
         "rangemode": "nonnegative",
         "showgrid": false,
         "tickcolor": "#eee",
         "ticklen": 6,
         "ticks": "inside",
         "zeroline": false
        },
        "yaxis": {
         "title": {
          "text": "Confirmed new cases"
         },
         "type": "linear"
        }
       }
      },
      "text/html": [
       "<div>\n",
       "        \n",
       "        \n",
       "            <div id=\"2463380b-515d-41f9-8ae6-3bf0382665a3\" class=\"plotly-graph-div\" style=\"height:275px; width:360px;\"></div>\n",
       "            <script type=\"text/javascript\">\n",
       "                require([\"plotly\"], function(Plotly) {\n",
       "                    window.PLOTLYENV=window.PLOTLYENV || {};\n",
       "                    \n",
       "                if (document.getElementById(\"2463380b-515d-41f9-8ae6-3bf0382665a3\")) {\n",
       "                    Plotly.newPlot(\n",
       "                        '2463380b-515d-41f9-8ae6-3bf0382665a3',\n",
       "                        [{\"hoverinfo\": \"text\", \"hoverlabel\": {\"bgcolor\": \"white\", \"bordercolor\": \"#719949\", \"font\": {\"color\": \"#719949\"}}, \"hovertext\": [\"Italy:<br>nan\", \"Italy:<br>nan\", \"Italy:<br>0\", \"Italy:<br>0\", \"Italy:<br>0\", \"Italy:<br>0\", \"Italy:<br>0\", \"Italy:<br>1\", \"Italy:<br>1\", \"Italy:<br>1\", \"Italy:<br>0\", \"Italy:<br>0\", \"Italy:<br>0\", \"Italy:<br>0\", \"Italy:<br>0\", \"Italy:<br>0\", \"Italy:<br>0\", \"Italy:<br>0\", \"Italy:<br>0\", \"Italy:<br>0\", \"Italy:<br>0\", \"Italy:<br>0\", \"Italy:<br>0\", \"Italy:<br>0\", \"Italy:<br>0\", \"Italy:<br>0\", \"Italy:<br>0\", \"Italy:<br>0\", \"Italy:<br>6\", \"Italy:<br>20\", \"Italy:<br>51\", \"Italy:<br>70\", \"Italy:<br>87\", \"Italy:<br>99\", \"Italy:<br>142\", \"Italy:<br>189\", \"Italy:<br>225\", \"Italy:<br>346\", \"Italy:<br>383\", \"Italy:<br>458\", \"Italy:<br>465\", \"Italy:<br>607\", \"Italy:<br>711\", \"Italy:<br>931\", \"Italy:<br>1172\", \"Italy:<br>1512\", \"Italy:<br>1422\", \"Italy:<br>1696\", \"Italy:<br>1097\", \"Italy:<br>2504\", \"Italy:<br>2898\", \"Italy:<br>4095\", \"Italy:<br>3440\", \"Italy:<br>3450\", \"Italy:<br>3655\", \"Italy:<br>4352\", \"Italy:<br>5172\", \"Italy:<br>5955\", \"Italy:<br>6034\", \"Italy:<br>5635\", \"Italy:<br>5199\", \"Italy:<br>5083\", \"Italy:<br>5554\", \"Italy:<br>5774\", \"Italy:<br>6029\", \"Italy:<br>5700\", \"Italy:<br>5080\", \"Italy:<br>4440\", \"Italy:<br>4295\", \"Italy:<br>4501\", \"Italy:<br>nan\"], \"line\": {\"width\": 1.5}, \"marker\": {\"color\": \"#719949\"}, \"name\": \"Italy  \", \"showlegend\": true, \"type\": \"scatter\", \"x\": [\"2020-01-23T00:00:00\", \"2020-01-24T00:00:00\", \"2020-01-25T00:00:00\", \"2020-01-26T00:00:00\", \"2020-01-27T00:00:00\", \"2020-01-28T00:00:00\", \"2020-01-29T00:00:00\", \"2020-01-30T00:00:00\", \"2020-01-31T00:00:00\", \"2020-02-01T00:00:00\", \"2020-02-02T00:00:00\", \"2020-02-03T00:00:00\", \"2020-02-04T00:00:00\", \"2020-02-05T00:00:00\", \"2020-02-06T00:00:00\", \"2020-02-07T00:00:00\", \"2020-02-08T00:00:00\", \"2020-02-09T00:00:00\", \"2020-02-10T00:00:00\", \"2020-02-11T00:00:00\", \"2020-02-12T00:00:00\", \"2020-02-13T00:00:00\", \"2020-02-14T00:00:00\", \"2020-02-15T00:00:00\", \"2020-02-16T00:00:00\", \"2020-02-17T00:00:00\", \"2020-02-18T00:00:00\", \"2020-02-19T00:00:00\", \"2020-02-20T00:00:00\", \"2020-02-21T00:00:00\", \"2020-02-22T00:00:00\", \"2020-02-23T00:00:00\", \"2020-02-24T00:00:00\", \"2020-02-25T00:00:00\", \"2020-02-26T00:00:00\", \"2020-02-27T00:00:00\", \"2020-02-28T00:00:00\", \"2020-02-29T00:00:00\", \"2020-03-01T00:00:00\", \"2020-03-02T00:00:00\", \"2020-03-03T00:00:00\", \"2020-03-04T00:00:00\", \"2020-03-05T00:00:00\", \"2020-03-06T00:00:00\", \"2020-03-07T00:00:00\", \"2020-03-08T00:00:00\", \"2020-03-09T00:00:00\", \"2020-03-10T00:00:00\", \"2020-03-11T00:00:00\", \"2020-03-12T00:00:00\", \"2020-03-13T00:00:00\", \"2020-03-14T00:00:00\", \"2020-03-15T00:00:00\", \"2020-03-16T00:00:00\", \"2020-03-17T00:00:00\", \"2020-03-18T00:00:00\", \"2020-03-19T00:00:00\", \"2020-03-20T00:00:00\", \"2020-03-21T00:00:00\", \"2020-03-22T00:00:00\", \"2020-03-23T00:00:00\", \"2020-03-24T00:00:00\", \"2020-03-25T00:00:00\", \"2020-03-26T00:00:00\", \"2020-03-27T00:00:00\", \"2020-03-28T00:00:00\", \"2020-03-29T00:00:00\", \"2020-03-30T00:00:00\", \"2020-03-31T00:00:00\", \"2020-04-01T00:00:00\", \"2020-04-02T00:00:00\"], \"y\": [null, null, 0.0, 0.0, 0.0, 0.0, 0.0, 0.6666666666666666, 0.6666666666666666, 0.6666666666666666, 0.0, 0.0, 0.0, 0.0, 0.3333333333333333, 0.3333333333333333, 0.3333333333333333, 0.0, 0.0, 0.0, 0.0, 0.0, 0.0, 0.0, 0.0, 0.0, 0.0, 0.0, 5.666666666666667, 19.666666666666668, 50.666666666666664, 69.66666666666667, 86.66666666666667, 99.33333333333333, 142.0, 188.66666666666666, 225.0, 346.3333333333333, 382.6666666666667, 458.0, 465.0, 607.3333333333334, 711.3333333333334, 931.3333333333334, 1172.3333333333333, 1512.0, 1422.0, 1695.6666666666667, 1096.6666666666667, 2503.6666666666665, 2898.3333333333335, 4095.0, 3440.0, 3449.6666666666665, 3655.3333333333335, 4351.666666666667, 5171.666666666667, 5955.0, 6034.333333333333, 5635.333333333333, 5199.333333333333, 5082.666666666667, 5554.0, 5774.0, 6028.666666666667, 5700.0, 5080.333333333333, 4440.0, 4295.0, 4501.0, null]}, {\"hoverinfo\": \"text\", \"hoverlabel\": {\"bgcolor\": \"white\", \"bordercolor\": \"#FF6900\", \"font\": {\"color\": \"#FF6900\"}}, \"hovertext\": [\"Spain:<br>nan\", \"Spain:<br>nan\", \"Spain:<br>0\", \"Spain:<br>0\", \"Spain:<br>0\", \"Spain:<br>0\", \"Spain:<br>0\", \"Spain:<br>0\", \"Spain:<br>0\", \"Spain:<br>0\", \"Spain:<br>0\", \"Spain:<br>0\", \"Spain:<br>0\", \"Spain:<br>0\", \"Spain:<br>0\", \"Spain:<br>0\", \"Spain:<br>0\", \"Spain:<br>0\", \"Spain:<br>0\", \"Spain:<br>0\", \"Spain:<br>0\", \"Spain:<br>0\", \"Spain:<br>0\", \"Spain:<br>0\", \"Spain:<br>0\", \"Spain:<br>0\", \"Spain:<br>0\", \"Spain:<br>0\", \"Spain:<br>0\", \"Spain:<br>0\", \"Spain:<br>0\", \"Spain:<br>0\", \"Spain:<br>1\", \"Spain:<br>4\", \"Spain:<br>4\", \"Spain:<br>9\", \"Spain:<br>11\", \"Spain:<br>23\", \"Spain:<br>29\", \"Spain:<br>40\", \"Spain:<br>46\", \"Spain:<br>46\", \"Spain:<br>78\", \"Spain:<br>93\", \"Spain:<br>138\", \"Spain:<br>224\", \"Spain:<br>398\", \"Spain:<br>535\", \"Spain:<br>401\", \"Spain:<br>1179\", \"Spain:<br>1371\", \"Spain:<br>1840\", \"Spain:<br>1570\", \"Spain:<br>1786\", \"Spain:<br>2037\", \"Spain:<br>2674\", \"Spain:<br>2887\", \"Spain:<br>3821\", \"Spain:<br>3602\", \"Spain:<br>4909\", \"Spain:<br>4837\", \"Spain:<br>6916\", \"Spain:<br>7550\", \"Spain:<br>8611\", \"Spain:<br>7907\", \"Spain:<br>7441\", \"Spain:<br>7412\", \"Spain:<br>7563\", \"Spain:<br>8003\", \"Spain:<br>8036\", \"Spain:<br>nan\"], \"line\": {\"width\": 1.5}, \"marker\": {\"color\": \"#FF6900\"}, \"name\": \"Spain  \", \"showlegend\": true, \"type\": \"scatter\", \"x\": [\"2020-01-23T00:00:00\", \"2020-01-24T00:00:00\", \"2020-01-25T00:00:00\", \"2020-01-26T00:00:00\", \"2020-01-27T00:00:00\", \"2020-01-28T00:00:00\", \"2020-01-29T00:00:00\", \"2020-01-30T00:00:00\", \"2020-01-31T00:00:00\", \"2020-02-01T00:00:00\", \"2020-02-02T00:00:00\", \"2020-02-03T00:00:00\", \"2020-02-04T00:00:00\", \"2020-02-05T00:00:00\", \"2020-02-06T00:00:00\", \"2020-02-07T00:00:00\", \"2020-02-08T00:00:00\", \"2020-02-09T00:00:00\", \"2020-02-10T00:00:00\", \"2020-02-11T00:00:00\", \"2020-02-12T00:00:00\", \"2020-02-13T00:00:00\", \"2020-02-14T00:00:00\", \"2020-02-15T00:00:00\", \"2020-02-16T00:00:00\", \"2020-02-17T00:00:00\", \"2020-02-18T00:00:00\", \"2020-02-19T00:00:00\", \"2020-02-20T00:00:00\", \"2020-02-21T00:00:00\", \"2020-02-22T00:00:00\", \"2020-02-23T00:00:00\", \"2020-02-24T00:00:00\", \"2020-02-25T00:00:00\", \"2020-02-26T00:00:00\", \"2020-02-27T00:00:00\", \"2020-02-28T00:00:00\", \"2020-02-29T00:00:00\", \"2020-03-01T00:00:00\", \"2020-03-02T00:00:00\", \"2020-03-03T00:00:00\", \"2020-03-04T00:00:00\", \"2020-03-05T00:00:00\", \"2020-03-06T00:00:00\", \"2020-03-07T00:00:00\", \"2020-03-08T00:00:00\", \"2020-03-09T00:00:00\", \"2020-03-10T00:00:00\", \"2020-03-11T00:00:00\", \"2020-03-12T00:00:00\", \"2020-03-13T00:00:00\", \"2020-03-14T00:00:00\", \"2020-03-15T00:00:00\", \"2020-03-16T00:00:00\", \"2020-03-17T00:00:00\", \"2020-03-18T00:00:00\", \"2020-03-19T00:00:00\", \"2020-03-20T00:00:00\", \"2020-03-21T00:00:00\", \"2020-03-22T00:00:00\", \"2020-03-23T00:00:00\", \"2020-03-24T00:00:00\", \"2020-03-25T00:00:00\", \"2020-03-26T00:00:00\", \"2020-03-27T00:00:00\", \"2020-03-28T00:00:00\", \"2020-03-29T00:00:00\", \"2020-03-30T00:00:00\", \"2020-03-31T00:00:00\", \"2020-04-01T00:00:00\", \"2020-04-02T00:00:00\"], \"y\": [null, null, 0.0, 0.0, 0.0, 0.0, 0.0, 0.0, 0.3333333333333333, 0.3333333333333333, 0.3333333333333333, 0.0, 0.0, 0.0, 0.0, 0.0, 0.3333333333333333, 0.3333333333333333, 0.3333333333333333, 0.0, 0.0, 0.0, 0.0, 0.0, 0.0, 0.0, 0.0, 0.0, 0.0, 0.0, 0.0, 0.0, 1.3333333333333333, 3.6666666666666665, 4.333333333333333, 8.666666666666666, 10.666666666666666, 23.0, 29.333333333333332, 40.0, 46.0, 46.333333333333336, 78.33333333333333, 92.66666666666667, 138.0, 224.33333333333334, 398.3333333333333, 534.6666666666666, 401.3333333333333, 1179.0, 1371.3333333333333, 1840.3333333333333, 1570.0, 1785.6666666666667, 2037.3333333333333, 2673.6666666666665, 2887.3333333333335, 3821.3333333333335, 3601.6666666666665, 4908.666666666667, 4837.0, 6915.666666666667, 7550.0, 8611.333333333334, 7906.666666666667, 7441.333333333333, 7412.333333333333, 7562.666666666667, 8002.666666666667, 8036.333333333333, null]}, {\"hoverinfo\": \"text\", \"hoverlabel\": {\"bgcolor\": \"white\", \"bordercolor\": \"#E8927C\", \"font\": {\"color\": \"#E8927C\"}}, \"hovertext\": [\"US:<br>nan\", \"US:<br>nan\", \"US:<br>1\", \"US:<br>1\", \"US:<br>1\", \"US:<br>0\", \"US:<br>0\", \"US:<br>1\", \"US:<br>1\", \"US:<br>1\", \"US:<br>1\", \"US:<br>1\", \"US:<br>1\", \"US:<br>0\", \"US:<br>0\", \"US:<br>0\", \"US:<br>0\", \"US:<br>0\", \"US:<br>0\", \"US:<br>0\", \"US:<br>1\", \"US:<br>0\", \"US:<br>0\", \"US:<br>0\", \"US:<br>0\", \"US:<br>0\", \"US:<br>0\", \"US:<br>0\", \"US:<br>1\", \"US:<br>1\", \"US:<br>1\", \"US:<br>12\", \"US:<br>12\", \"US:<br>14\", \"US:<br>2\", \"US:<br>3\", \"US:<br>4\", \"US:<br>5\", \"US:<br>13\", \"US:<br>17\", \"US:<br>25\", \"US:<br>40\", \"US:<br>48\", \"US:<br>84\", \"US:<br>100\", \"US:<br>107\", \"US:<br>186\", \"US:<br>254\", \"US:<br>360\", \"US:<br>407\", \"US:<br>482\", \"US:<br>612\", \"US:<br>818\", \"US:<br>1231\", \"US:<br>1428\", \"US:<br>3015\", \"US:<br>4226\", \"US:<br>5902\", \"US:<br>6533\", \"US:<br>8249\", \"US:<br>9417\", \"US:<br>10834\", \"US:<br>13330\", \"US:<br>15972\", \"US:<br>18567\", \"US:<br>19017\", \"US:<br>20050\", \"US:<br>22231\", \"US:<br>24162\", \"US:<br>27215\", \"US:<br>nan\"], \"line\": {\"width\": 1.5}, \"marker\": {\"color\": \"#E8927C\"}, \"name\": \"US  \", \"showlegend\": true, \"type\": \"scatter\", \"x\": [\"2020-01-23T00:00:00\", \"2020-01-24T00:00:00\", \"2020-01-25T00:00:00\", \"2020-01-26T00:00:00\", \"2020-01-27T00:00:00\", \"2020-01-28T00:00:00\", \"2020-01-29T00:00:00\", \"2020-01-30T00:00:00\", \"2020-01-31T00:00:00\", \"2020-02-01T00:00:00\", \"2020-02-02T00:00:00\", \"2020-02-03T00:00:00\", \"2020-02-04T00:00:00\", \"2020-02-05T00:00:00\", \"2020-02-06T00:00:00\", \"2020-02-07T00:00:00\", \"2020-02-08T00:00:00\", \"2020-02-09T00:00:00\", \"2020-02-10T00:00:00\", \"2020-02-11T00:00:00\", \"2020-02-12T00:00:00\", \"2020-02-13T00:00:00\", \"2020-02-14T00:00:00\", \"2020-02-15T00:00:00\", \"2020-02-16T00:00:00\", \"2020-02-17T00:00:00\", \"2020-02-18T00:00:00\", \"2020-02-19T00:00:00\", \"2020-02-20T00:00:00\", \"2020-02-21T00:00:00\", \"2020-02-22T00:00:00\", \"2020-02-23T00:00:00\", \"2020-02-24T00:00:00\", \"2020-02-25T00:00:00\", \"2020-02-26T00:00:00\", \"2020-02-27T00:00:00\", \"2020-02-28T00:00:00\", \"2020-02-29T00:00:00\", \"2020-03-01T00:00:00\", \"2020-03-02T00:00:00\", \"2020-03-03T00:00:00\", \"2020-03-04T00:00:00\", \"2020-03-05T00:00:00\", \"2020-03-06T00:00:00\", \"2020-03-07T00:00:00\", \"2020-03-08T00:00:00\", \"2020-03-09T00:00:00\", \"2020-03-10T00:00:00\", \"2020-03-11T00:00:00\", \"2020-03-12T00:00:00\", \"2020-03-13T00:00:00\", \"2020-03-14T00:00:00\", \"2020-03-15T00:00:00\", \"2020-03-16T00:00:00\", \"2020-03-17T00:00:00\", \"2020-03-18T00:00:00\", \"2020-03-19T00:00:00\", \"2020-03-20T00:00:00\", \"2020-03-21T00:00:00\", \"2020-03-22T00:00:00\", \"2020-03-23T00:00:00\", \"2020-03-24T00:00:00\", \"2020-03-25T00:00:00\", \"2020-03-26T00:00:00\", \"2020-03-27T00:00:00\", \"2020-03-28T00:00:00\", \"2020-03-29T00:00:00\", \"2020-03-30T00:00:00\", \"2020-03-31T00:00:00\", \"2020-04-01T00:00:00\", \"2020-04-02T00:00:00\"], \"y\": [null, null, 1.3333333333333333, 1.0, 1.0, 0.0, 0.0, 0.6666666666666666, 1.0, 1.0, 1.3333333333333333, 1.0, 1.0, 0.0, 0.0, 0.0, 0.0, 0.0, 0.3333333333333333, 0.3333333333333333, 0.6666666666666666, 0.3333333333333333, 0.3333333333333333, 0.0, 0.0, 0.0, 0.0, 0.0, 0.6666666666666666, 0.6666666666666666, 0.6666666666666666, 12.0, 12.0, 14.0, 2.3333333333333335, 3.0, 3.6666666666666665, 5.333333333333333, 12.666666666666666, 16.666666666666668, 25.0, 39.666666666666664, 48.0, 84.33333333333333, 100.33333333333333, 107.0, 185.66666666666666, 254.33333333333334, 360.0, 406.6666666666667, 482.0, 612.0, 817.6666666666666, 1231.3333333333333, 1428.0, 3015.0, 4226.333333333333, 5902.0, 6533.0, 8249.0, 9417.0, 10834.0, 13329.666666666666, 15972.333333333334, 18566.666666666668, 19016.666666666668, 20050.0, 22231.333333333332, 24162.0, 27215.333333333332, null]}, {\"hoverinfo\": \"text\", \"hoverlabel\": {\"bgcolor\": \"white\", \"bordercolor\": \"#A6192E\", \"font\": {\"color\": \"#A6192E\"}}, \"hovertext\": [\"France:<br>nan\", \"France:<br>nan\", \"France:<br>1\", \"France:<br>0\", \"France:<br>0\", \"France:<br>1\", \"France:<br>1\", \"France:<br>0\", \"France:<br>0\", \"France:<br>0\", \"France:<br>0\", \"France:<br>0\", \"France:<br>0\", \"France:<br>0\", \"France:<br>0\", \"France:<br>2\", \"France:<br>2\", \"France:<br>2\", \"France:<br>0\", \"France:<br>0\", \"France:<br>0\", \"France:<br>0\", \"France:<br>0\", \"France:<br>0\", \"France:<br>0\", \"France:<br>0\", \"France:<br>0\", \"France:<br>0\", \"France:<br>0\", \"France:<br>0\", \"France:<br>0\", \"France:<br>0\", \"France:<br>1\", \"France:<br>2\", \"France:<br>9\", \"France:<br>14\", \"France:<br>27\", \"France:<br>31\", \"France:<br>45\", \"France:<br>35\", \"France:<br>53\", \"France:<br>63\", \"France:<br>151\", \"France:<br>224\", \"France:<br>252\", \"France:<br>188\", \"France:<br>278\", \"France:<br>386\", \"France:<br>358\", \"France:<br>629\", \"France:<br>734\", \"France:<br>746\", \"France:<br>1001\", \"France:<br>1073\", \"France:<br>1531\", \"France:<br>1429\", \"France:<br>1681\", \"France:<br>1780\", \"France:<br>1758\", \"France:<br>2455\", \"France:<br>2720\", \"France:<br>3119\", \"France:<br>3143\", \"France:<br>3593\", \"France:<br>4168\", \"France:<br>3719\", \"France:<br>3923\", \"France:<br>4907\", \"France:<br>5680\", \"France:<br>4920\", \"France:<br>nan\"], \"line\": {\"width\": 1.5}, \"marker\": {\"color\": \"#A6192E\"}, \"name\": \"France  \", \"showlegend\": true, \"type\": \"scatter\", \"x\": [\"2020-01-23T00:00:00\", \"2020-01-24T00:00:00\", \"2020-01-25T00:00:00\", \"2020-01-26T00:00:00\", \"2020-01-27T00:00:00\", \"2020-01-28T00:00:00\", \"2020-01-29T00:00:00\", \"2020-01-30T00:00:00\", \"2020-01-31T00:00:00\", \"2020-02-01T00:00:00\", \"2020-02-02T00:00:00\", \"2020-02-03T00:00:00\", \"2020-02-04T00:00:00\", \"2020-02-05T00:00:00\", \"2020-02-06T00:00:00\", \"2020-02-07T00:00:00\", \"2020-02-08T00:00:00\", \"2020-02-09T00:00:00\", \"2020-02-10T00:00:00\", \"2020-02-11T00:00:00\", \"2020-02-12T00:00:00\", \"2020-02-13T00:00:00\", \"2020-02-14T00:00:00\", \"2020-02-15T00:00:00\", \"2020-02-16T00:00:00\", \"2020-02-17T00:00:00\", \"2020-02-18T00:00:00\", \"2020-02-19T00:00:00\", \"2020-02-20T00:00:00\", \"2020-02-21T00:00:00\", \"2020-02-22T00:00:00\", \"2020-02-23T00:00:00\", \"2020-02-24T00:00:00\", \"2020-02-25T00:00:00\", \"2020-02-26T00:00:00\", \"2020-02-27T00:00:00\", \"2020-02-28T00:00:00\", \"2020-02-29T00:00:00\", \"2020-03-01T00:00:00\", \"2020-03-02T00:00:00\", \"2020-03-03T00:00:00\", \"2020-03-04T00:00:00\", \"2020-03-05T00:00:00\", \"2020-03-06T00:00:00\", \"2020-03-07T00:00:00\", \"2020-03-08T00:00:00\", \"2020-03-09T00:00:00\", \"2020-03-10T00:00:00\", \"2020-03-11T00:00:00\", \"2020-03-12T00:00:00\", \"2020-03-13T00:00:00\", \"2020-03-14T00:00:00\", \"2020-03-15T00:00:00\", \"2020-03-16T00:00:00\", \"2020-03-17T00:00:00\", \"2020-03-18T00:00:00\", \"2020-03-19T00:00:00\", \"2020-03-20T00:00:00\", \"2020-03-21T00:00:00\", \"2020-03-22T00:00:00\", \"2020-03-23T00:00:00\", \"2020-03-24T00:00:00\", \"2020-03-25T00:00:00\", \"2020-03-26T00:00:00\", \"2020-03-27T00:00:00\", \"2020-03-28T00:00:00\", \"2020-03-29T00:00:00\", \"2020-03-30T00:00:00\", \"2020-03-31T00:00:00\", \"2020-04-01T00:00:00\", \"2020-04-02T00:00:00\"], \"y\": [null, null, 1.0, 0.3333333333333333, 0.3333333333333333, 0.6666666666666666, 0.6666666666666666, 0.3333333333333333, 0.3333333333333333, 0.3333333333333333, 0.3333333333333333, 0.0, 0.0, 0.0, 0.0, 1.6666666666666667, 1.6666666666666667, 1.6666666666666667, 0.0, 0.0, 0.0, 0.0, 0.3333333333333333, 0.3333333333333333, 0.3333333333333333, 0.0, 0.0, 0.0, 0.0, 0.0, 0.0, 0.0, 0.6666666666666666, 2.0, 8.666666666666666, 14.333333333333334, 27.333333333333332, 30.666666666666668, 44.666666666666664, 34.666666666666664, 52.666666666666664, 63.0, 150.66666666666666, 223.66666666666666, 252.0, 187.66666666666666, 278.3333333333333, 385.6666666666667, 358.0, 629.0, 734.3333333333334, 746.3333333333334, 1000.6666666666666, 1073.0, 1530.6666666666667, 1429.0, 1681.0, 1779.6666666666667, 1757.6666666666667, 2455.0, 2719.6666666666665, 3119.0, 3142.6666666666665, 3593.3333333333335, 4168.333333333333, 3719.0, 3922.6666666666665, 4907.333333333333, 5680.333333333333, 4919.666666666667, null]}, {\"hoverinfo\": \"text\", \"hoverlabel\": {\"bgcolor\": \"white\", \"bordercolor\": \"#51284F\", \"font\": {\"color\": \"#51284F\"}}, \"hovertext\": [\"China:<br>nan\", \"China:<br>nan\", \"China:<br>477\", \"China:<br>652\", \"China:<br>1368\", \"China:<br>1337\", \"China:<br>1755\", \"China:<br>1431\", \"China:<br>1935\", \"China:<br>2830\", \"China:<br>3305\", \"China:<br>3939\", \"China:<br>3603\", \"China:<br>3624\", \"China:<br>3468\", \"China:<br>3125\", \"China:<br>3081\", \"China:<br>2748\", \"China:<br>2524\", \"China:<br>1643\", \"China:<br>5847\", \"China:<br>7324\", \"China:<br>7885\", \"China:<br>3539\", \"China:<br>2025\", \"China:<br>1933\", \"China:<br>1369\", \"China:<br>881\", \"China:<br>446\", \"China:<br>794\", \"China:<br>648\", \"China:<br>564\", \"China:<br>251\", \"China:<br>381\", \"China:<br>453\", \"China:<br>391\", \"China:<br>397\", \"China:<br>444\", \"China:<br>403\", \"China:<br>302\", \"China:<br>151\", \"China:<br>134\", \"China:<br>143\", \"China:<br>128\", \"China:<br>95\", \"China:<br>57\", \"China:<br>39\", \"China:<br>33\", \"China:<br>24\", \"China:<br>19\", \"China:<br>19\", \"China:<br>24\", \"China:<br>29\", \"China:<br>27\", \"China:<br>33\", \"China:<br>41\", \"China:<br>64\", \"China:<br>68\", \"China:<br>93\", \"China:<br>83\", \"China:<br>95\", \"China:<br>75\", \"China:<br>95\", \"China:<br>102\", \"China:<br>113\", \"China:<br>113\", \"China:<br>100\", \"China:<br>93\", \"China:<br>80\", \"China:<br>78\", \"China:<br>nan\"], \"line\": {\"width\": 1.5}, \"marker\": {\"color\": \"#51284F\"}, \"name\": \"China  \", \"showlegend\": true, \"type\": \"scatter\", \"x\": [\"2020-01-23T00:00:00\", \"2020-01-24T00:00:00\", \"2020-01-25T00:00:00\", \"2020-01-26T00:00:00\", \"2020-01-27T00:00:00\", \"2020-01-28T00:00:00\", \"2020-01-29T00:00:00\", \"2020-01-30T00:00:00\", \"2020-01-31T00:00:00\", \"2020-02-01T00:00:00\", \"2020-02-02T00:00:00\", \"2020-02-03T00:00:00\", \"2020-02-04T00:00:00\", \"2020-02-05T00:00:00\", \"2020-02-06T00:00:00\", \"2020-02-07T00:00:00\", \"2020-02-08T00:00:00\", \"2020-02-09T00:00:00\", \"2020-02-10T00:00:00\", \"2020-02-11T00:00:00\", \"2020-02-12T00:00:00\", \"2020-02-13T00:00:00\", \"2020-02-14T00:00:00\", \"2020-02-15T00:00:00\", \"2020-02-16T00:00:00\", \"2020-02-17T00:00:00\", \"2020-02-18T00:00:00\", \"2020-02-19T00:00:00\", \"2020-02-20T00:00:00\", \"2020-02-21T00:00:00\", \"2020-02-22T00:00:00\", \"2020-02-23T00:00:00\", \"2020-02-24T00:00:00\", \"2020-02-25T00:00:00\", \"2020-02-26T00:00:00\", \"2020-02-27T00:00:00\", \"2020-02-28T00:00:00\", \"2020-02-29T00:00:00\", \"2020-03-01T00:00:00\", \"2020-03-02T00:00:00\", \"2020-03-03T00:00:00\", \"2020-03-04T00:00:00\", \"2020-03-05T00:00:00\", \"2020-03-06T00:00:00\", \"2020-03-07T00:00:00\", \"2020-03-08T00:00:00\", \"2020-03-09T00:00:00\", \"2020-03-10T00:00:00\", \"2020-03-11T00:00:00\", \"2020-03-12T00:00:00\", \"2020-03-13T00:00:00\", \"2020-03-14T00:00:00\", \"2020-03-15T00:00:00\", \"2020-03-16T00:00:00\", \"2020-03-17T00:00:00\", \"2020-03-18T00:00:00\", \"2020-03-19T00:00:00\", \"2020-03-20T00:00:00\", \"2020-03-21T00:00:00\", \"2020-03-22T00:00:00\", \"2020-03-23T00:00:00\", \"2020-03-24T00:00:00\", \"2020-03-25T00:00:00\", \"2020-03-26T00:00:00\", \"2020-03-27T00:00:00\", \"2020-03-28T00:00:00\", \"2020-03-29T00:00:00\", \"2020-03-30T00:00:00\", \"2020-03-31T00:00:00\", \"2020-04-01T00:00:00\", \"2020-04-02T00:00:00\"], \"y\": [null, null, 477.3333333333333, 652.3333333333334, 1367.6666666666667, 1337.3333333333333, 1754.6666666666667, 1431.0, 1934.6666666666667, 2829.6666666666665, 3304.6666666666665, 3938.6666666666665, 3603.3333333333335, 3623.6666666666665, 3467.6666666666665, 3124.6666666666665, 3080.6666666666665, 2748.0, 2524.0, 1643.3333333333333, 5847.0, 7324.0, 7884.666666666667, 3539.3333333333335, 2025.3333333333333, 1932.6666666666667, 1368.6666666666667, 881.0, 446.3333333333333, 794.0, 648.3333333333334, 563.6666666666666, 251.0, 381.3333333333333, 453.0, 391.3333333333333, 396.6666666666667, 444.0, 402.6666666666667, 301.6666666666667, 151.33333333333334, 133.66666666666666, 143.0, 128.0, 95.33333333333333, 56.666666666666664, 39.0, 32.666666666666664, 24.0, 19.333333333333332, 18.666666666666668, 23.666666666666668, 29.333333333333332, 27.0, 33.0, 41.0, 64.0, 67.66666666666667, 93.0, 82.66666666666667, 95.33333333333333, 75.33333333333333, 94.66666666666667, 102.0, 112.66666666666667, 113.33333333333333, 100.33333333333333, 93.33333333333333, 79.66666666666667, 78.0, null]}, {\"hoverinfo\": \"text\", \"hoverlabel\": {\"bgcolor\": \"white\", \"bordercolor\": \"#A192B2\", \"font\": {\"color\": \"#A192B2\"}}, \"hovertext\": [\"Iran:<br>nan\", \"Iran:<br>nan\", \"Iran:<br>0\", \"Iran:<br>0\", \"Iran:<br>0\", \"Iran:<br>0\", \"Iran:<br>0\", \"Iran:<br>0\", \"Iran:<br>0\", \"Iran:<br>0\", \"Iran:<br>0\", \"Iran:<br>0\", \"Iran:<br>0\", \"Iran:<br>0\", \"Iran:<br>0\", \"Iran:<br>0\", \"Iran:<br>0\", \"Iran:<br>0\", \"Iran:<br>0\", \"Iran:<br>0\", \"Iran:<br>0\", \"Iran:<br>0\", \"Iran:<br>0\", \"Iran:<br>0\", \"Iran:<br>0\", \"Iran:<br>0\", \"Iran:<br>1\", \"Iran:<br>2\", \"Iran:<br>6\", \"Iran:<br>9\", \"Iran:<br>13\", \"Iran:<br>14\", \"Iran:<br>22\", \"Iran:<br>32\", \"Iran:<br>61\", \"Iran:<br>98\", \"Iran:<br>151\", \"Iran:<br>244\", \"Iran:<br>371\", \"Iran:<br>581\", \"Iran:<br>648\", \"Iran:<br>671\", \"Iran:<br>804\", \"Iran:<br>967\", \"Iran:<br>1018\", \"Iran:<br>805\", \"Iran:<br>740\", \"Iran:<br>811\", \"Iran:<br>971\", \"Iran:<br>1107\", \"Iran:<br>1243\", \"Iran:<br>1288\", \"Iran:<br>1209\", \"Iran:<br>1147\", \"Iran:<br>1141\", \"Iran:<br>1139\", \"Iran:<br>1158\", \"Iran:<br>1083\", \"Iran:<br>1077\", \"Iran:<br>1135\", \"Iran:<br>1400\", \"Iran:<br>1793\", \"Iran:<br>2119\", \"Iran:<br>2507\", \"Iran:<br>2797\", \"Iran:<br>2968\", \"Iran:<br>3054\", \"Iran:<br>3066\", \"Iran:<br>3095\", \"Iran:<br>2991\", \"Iran:<br>nan\"], \"line\": {\"width\": 1.5}, \"marker\": {\"color\": \"#A192B2\"}, \"name\": \"Iran  \", \"showlegend\": true, \"type\": \"scatter\", \"x\": [\"2020-01-23T00:00:00\", \"2020-01-24T00:00:00\", \"2020-01-25T00:00:00\", \"2020-01-26T00:00:00\", \"2020-01-27T00:00:00\", \"2020-01-28T00:00:00\", \"2020-01-29T00:00:00\", \"2020-01-30T00:00:00\", \"2020-01-31T00:00:00\", \"2020-02-01T00:00:00\", \"2020-02-02T00:00:00\", \"2020-02-03T00:00:00\", \"2020-02-04T00:00:00\", \"2020-02-05T00:00:00\", \"2020-02-06T00:00:00\", \"2020-02-07T00:00:00\", \"2020-02-08T00:00:00\", \"2020-02-09T00:00:00\", \"2020-02-10T00:00:00\", \"2020-02-11T00:00:00\", \"2020-02-12T00:00:00\", \"2020-02-13T00:00:00\", \"2020-02-14T00:00:00\", \"2020-02-15T00:00:00\", \"2020-02-16T00:00:00\", \"2020-02-17T00:00:00\", \"2020-02-18T00:00:00\", \"2020-02-19T00:00:00\", \"2020-02-20T00:00:00\", \"2020-02-21T00:00:00\", \"2020-02-22T00:00:00\", \"2020-02-23T00:00:00\", \"2020-02-24T00:00:00\", \"2020-02-25T00:00:00\", \"2020-02-26T00:00:00\", \"2020-02-27T00:00:00\", \"2020-02-28T00:00:00\", \"2020-02-29T00:00:00\", \"2020-03-01T00:00:00\", \"2020-03-02T00:00:00\", \"2020-03-03T00:00:00\", \"2020-03-04T00:00:00\", \"2020-03-05T00:00:00\", \"2020-03-06T00:00:00\", \"2020-03-07T00:00:00\", \"2020-03-08T00:00:00\", \"2020-03-09T00:00:00\", \"2020-03-10T00:00:00\", \"2020-03-11T00:00:00\", \"2020-03-12T00:00:00\", \"2020-03-13T00:00:00\", \"2020-03-14T00:00:00\", \"2020-03-15T00:00:00\", \"2020-03-16T00:00:00\", \"2020-03-17T00:00:00\", \"2020-03-18T00:00:00\", \"2020-03-19T00:00:00\", \"2020-03-20T00:00:00\", \"2020-03-21T00:00:00\", \"2020-03-22T00:00:00\", \"2020-03-23T00:00:00\", \"2020-03-24T00:00:00\", \"2020-03-25T00:00:00\", \"2020-03-26T00:00:00\", \"2020-03-27T00:00:00\", \"2020-03-28T00:00:00\", \"2020-03-29T00:00:00\", \"2020-03-30T00:00:00\", \"2020-03-31T00:00:00\", \"2020-04-01T00:00:00\", \"2020-04-02T00:00:00\"], \"y\": [null, null, 0.0, 0.0, 0.0, 0.0, 0.0, 0.0, 0.0, 0.0, 0.0, 0.0, 0.0, 0.0, 0.0, 0.0, 0.0, 0.0, 0.0, 0.0, 0.0, 0.0, 0.0, 0.0, 0.0, 0.0, 0.6666666666666666, 1.6666666666666667, 6.0, 8.666666666666666, 12.666666666666666, 14.333333333333334, 22.333333333333332, 32.0, 61.333333333333336, 97.66666666666667, 151.33333333333334, 244.33333333333334, 371.0, 581.0, 648.0, 670.6666666666666, 803.6666666666666, 967.0, 1017.6666666666666, 804.6666666666666, 739.6666666666666, 811.3333333333334, 971.3333333333334, 1107.3333333333333, 1243.0, 1287.6666666666667, 1209.0, 1146.6666666666667, 1141.0, 1138.6666666666667, 1158.3333333333333, 1083.0, 1077.0, 1135.0, 1400.3333333333333, 1793.0, 2119.0, 2507.0, 2797.0, 2967.6666666666665, 3054.3333333333335, 3065.6666666666665, 3094.6666666666665, 2991.0, null]}, {\"hoverinfo\": \"text\", \"hoverlabel\": {\"bgcolor\": \"white\", \"bordercolor\": \"#418FDE\", \"font\": {\"color\": \"#418FDE\"}}, \"hovertext\": [\"United Kingdom:<br>nan\", \"United Kingdom:<br>nan\", \"United Kingdom:<br>0\", \"United Kingdom:<br>0\", \"United Kingdom:<br>0\", \"United Kingdom:<br>0\", \"United Kingdom:<br>0\", \"United Kingdom:<br>1\", \"United Kingdom:<br>1\", \"United Kingdom:<br>1\", \"United Kingdom:<br>0\", \"United Kingdom:<br>0\", \"United Kingdom:<br>0\", \"United Kingdom:<br>0\", \"United Kingdom:<br>0\", \"United Kingdom:<br>0\", \"United Kingdom:<br>0\", \"United Kingdom:<br>2\", \"United Kingdom:<br>2\", \"United Kingdom:<br>2\", \"United Kingdom:<br>0\", \"United Kingdom:<br>0\", \"United Kingdom:<br>0\", \"United Kingdom:<br>0\", \"United Kingdom:<br>0\", \"United Kingdom:<br>0\", \"United Kingdom:<br>0\", \"United Kingdom:<br>0\", \"United Kingdom:<br>0\", \"United Kingdom:<br>0\", \"United Kingdom:<br>0\", \"United Kingdom:<br>1\", \"United Kingdom:<br>1\", \"United Kingdom:<br>1\", \"United Kingdom:<br>1\", \"United Kingdom:<br>2\", \"United Kingdom:<br>3\", \"United Kingdom:<br>7\", \"United Kingdom:<br>7\", \"United Kingdom:<br>9\", \"United Kingdom:<br>17\", \"United Kingdom:<br>25\", \"United Kingdom:<br>38\", \"United Kingdom:<br>40\", \"United Kingdom:<br>53\", \"United Kingdom:<br>53\", \"United Kingdom:<br>59\", \"United Kingdom:<br>62\", \"United Kingdom:<br>46\", \"United Kingdom:<br>139\", \"United Kingdom:<br>228\", \"United Kingdom:<br>229\", \"United Kingdom:<br>250\", \"United Kingdom:<br>272\", \"United Kingdom:<br>499\", \"United Kingdom:<br>388\", \"United Kingdom:<br>685\", \"United Kingdom:<br>808\", \"United Kingdom:<br>1010\", \"United Kingdom:<br>904\", \"United Kingdom:<br>1032\", \"United Kingdom:<br>1298\", \"United Kingdom:<br>1695\", \"United Kingdom:<br>2194\", \"United Kingdom:<br>2557\", \"United Kingdom:<br>2656\", \"United Kingdom:<br>2569\", \"United Kingdom:<br>2723\", \"United Kingdom:<br>3362\", \"United Kingdom:<br>3907\", \"United Kingdom:<br>nan\"], \"line\": {\"width\": 1.5}, \"marker\": {\"color\": \"#418FDE\"}, \"name\": \"United Kingdom  \", \"showlegend\": true, \"type\": \"scatter\", \"x\": [\"2020-01-23T00:00:00\", \"2020-01-24T00:00:00\", \"2020-01-25T00:00:00\", \"2020-01-26T00:00:00\", \"2020-01-27T00:00:00\", \"2020-01-28T00:00:00\", \"2020-01-29T00:00:00\", \"2020-01-30T00:00:00\", \"2020-01-31T00:00:00\", \"2020-02-01T00:00:00\", \"2020-02-02T00:00:00\", \"2020-02-03T00:00:00\", \"2020-02-04T00:00:00\", \"2020-02-05T00:00:00\", \"2020-02-06T00:00:00\", \"2020-02-07T00:00:00\", \"2020-02-08T00:00:00\", \"2020-02-09T00:00:00\", \"2020-02-10T00:00:00\", \"2020-02-11T00:00:00\", \"2020-02-12T00:00:00\", \"2020-02-13T00:00:00\", \"2020-02-14T00:00:00\", \"2020-02-15T00:00:00\", \"2020-02-16T00:00:00\", \"2020-02-17T00:00:00\", \"2020-02-18T00:00:00\", \"2020-02-19T00:00:00\", \"2020-02-20T00:00:00\", \"2020-02-21T00:00:00\", \"2020-02-22T00:00:00\", \"2020-02-23T00:00:00\", \"2020-02-24T00:00:00\", \"2020-02-25T00:00:00\", \"2020-02-26T00:00:00\", \"2020-02-27T00:00:00\", \"2020-02-28T00:00:00\", \"2020-02-29T00:00:00\", \"2020-03-01T00:00:00\", \"2020-03-02T00:00:00\", \"2020-03-03T00:00:00\", \"2020-03-04T00:00:00\", \"2020-03-05T00:00:00\", \"2020-03-06T00:00:00\", \"2020-03-07T00:00:00\", \"2020-03-08T00:00:00\", \"2020-03-09T00:00:00\", \"2020-03-10T00:00:00\", \"2020-03-11T00:00:00\", \"2020-03-12T00:00:00\", \"2020-03-13T00:00:00\", \"2020-03-14T00:00:00\", \"2020-03-15T00:00:00\", \"2020-03-16T00:00:00\", \"2020-03-17T00:00:00\", \"2020-03-18T00:00:00\", \"2020-03-19T00:00:00\", \"2020-03-20T00:00:00\", \"2020-03-21T00:00:00\", \"2020-03-22T00:00:00\", \"2020-03-23T00:00:00\", \"2020-03-24T00:00:00\", \"2020-03-25T00:00:00\", \"2020-03-26T00:00:00\", \"2020-03-27T00:00:00\", \"2020-03-28T00:00:00\", \"2020-03-29T00:00:00\", \"2020-03-30T00:00:00\", \"2020-03-31T00:00:00\", \"2020-04-01T00:00:00\", \"2020-04-02T00:00:00\"], \"y\": [null, null, 0.0, 0.0, 0.0, 0.0, 0.0, 0.6666666666666666, 0.6666666666666666, 0.6666666666666666, 0.0, 0.0, 0.0, 0.0, 0.3333333333333333, 0.3333333333333333, 0.3333333333333333, 1.6666666666666667, 1.6666666666666667, 2.0, 0.3333333333333333, 0.3333333333333333, 0.0, 0.0, 0.0, 0.0, 0.0, 0.0, 0.0, 0.0, 0.0, 1.3333333333333333, 1.3333333333333333, 1.3333333333333333, 0.6666666666666666, 2.3333333333333335, 3.3333333333333335, 7.0, 6.666666666666667, 9.333333333333334, 16.666666666666668, 25.333333333333332, 37.666666666666664, 40.333333333333336, 52.666666666666664, 52.666666666666664, 59.0, 61.666666666666664, 45.666666666666664, 139.33333333333334, 228.33333333333334, 228.66666666666666, 249.66666666666666, 272.0, 499.0, 388.3333333333333, 684.6666666666666, 808.3333333333334, 1009.6666666666666, 904.0, 1032.3333333333333, 1298.3333333333333, 1695.3333333333333, 2193.6666666666665, 2557.3333333333335, 2656.0, 2569.3333333333335, 2723.0, 3361.6666666666665, 3906.6666666666665, null]}, {\"hoverinfo\": \"text\", \"hoverlabel\": {\"bgcolor\": \"white\", \"bordercolor\": \"#86C8BC\", \"font\": {\"color\": \"#86C8BC\"}}, \"hovertext\": [\"Netherlands:<br>nan\", \"Netherlands:<br>nan\", \"Netherlands:<br>0\", \"Netherlands:<br>0\", \"Netherlands:<br>0\", \"Netherlands:<br>0\", \"Netherlands:<br>0\", \"Netherlands:<br>0\", \"Netherlands:<br>0\", \"Netherlands:<br>0\", \"Netherlands:<br>0\", \"Netherlands:<br>0\", \"Netherlands:<br>0\", \"Netherlands:<br>0\", \"Netherlands:<br>0\", \"Netherlands:<br>0\", \"Netherlands:<br>0\", \"Netherlands:<br>0\", \"Netherlands:<br>0\", \"Netherlands:<br>0\", \"Netherlands:<br>0\", \"Netherlands:<br>0\", \"Netherlands:<br>0\", \"Netherlands:<br>0\", \"Netherlands:<br>0\", \"Netherlands:<br>0\", \"Netherlands:<br>0\", \"Netherlands:<br>0\", \"Netherlands:<br>0\", \"Netherlands:<br>0\", \"Netherlands:<br>0\", \"Netherlands:<br>0\", \"Netherlands:<br>0\", \"Netherlands:<br>0\", \"Netherlands:<br>0\", \"Netherlands:<br>0\", \"Netherlands:<br>2\", \"Netherlands:<br>3\", \"Netherlands:<br>6\", \"Netherlands:<br>6\", \"Netherlands:<br>9\", \"Netherlands:<br>21\", \"Netherlands:<br>35\", \"Netherlands:<br>50\", \"Netherlands:<br>61\", \"Netherlands:<br>64\", \"Netherlands:<br>65\", \"Netherlands:<br>79\", \"Netherlands:<br>61\", \"Netherlands:<br>141\", \"Netherlands:<br>153\", \"Netherlands:<br>212\", \"Netherlands:<br>203\", \"Netherlands:<br>250\", \"Netherlands:<br>307\", \"Netherlands:<br>350\", \"Netherlands:<br>431\", \"Netherlands:<br>527\", \"Netherlands:<br>583\", \"Netherlands:<br>587\", \"Netherlands:<br>647\", \"Netherlands:<br>740\", \"Netherlands:<br>901\", \"Netherlands:<br>1022\", \"Netherlands:<br>1127\", \"Netherlands:<br>1154\", \"Netherlands:<br>1057\", \"Netherlands:<br>949\", \"Netherlands:<br>922\", \"Netherlands:<br>990\", \"Netherlands:<br>nan\"], \"line\": {\"width\": 1.5}, \"marker\": {\"color\": \"#86C8BC\"}, \"name\": \"Netherlands  \", \"showlegend\": true, \"type\": \"scatter\", \"x\": [\"2020-01-23T00:00:00\", \"2020-01-24T00:00:00\", \"2020-01-25T00:00:00\", \"2020-01-26T00:00:00\", \"2020-01-27T00:00:00\", \"2020-01-28T00:00:00\", \"2020-01-29T00:00:00\", \"2020-01-30T00:00:00\", \"2020-01-31T00:00:00\", \"2020-02-01T00:00:00\", \"2020-02-02T00:00:00\", \"2020-02-03T00:00:00\", \"2020-02-04T00:00:00\", \"2020-02-05T00:00:00\", \"2020-02-06T00:00:00\", \"2020-02-07T00:00:00\", \"2020-02-08T00:00:00\", \"2020-02-09T00:00:00\", \"2020-02-10T00:00:00\", \"2020-02-11T00:00:00\", \"2020-02-12T00:00:00\", \"2020-02-13T00:00:00\", \"2020-02-14T00:00:00\", \"2020-02-15T00:00:00\", \"2020-02-16T00:00:00\", \"2020-02-17T00:00:00\", \"2020-02-18T00:00:00\", \"2020-02-19T00:00:00\", \"2020-02-20T00:00:00\", \"2020-02-21T00:00:00\", \"2020-02-22T00:00:00\", \"2020-02-23T00:00:00\", \"2020-02-24T00:00:00\", \"2020-02-25T00:00:00\", \"2020-02-26T00:00:00\", \"2020-02-27T00:00:00\", \"2020-02-28T00:00:00\", \"2020-02-29T00:00:00\", \"2020-03-01T00:00:00\", \"2020-03-02T00:00:00\", \"2020-03-03T00:00:00\", \"2020-03-04T00:00:00\", \"2020-03-05T00:00:00\", \"2020-03-06T00:00:00\", \"2020-03-07T00:00:00\", \"2020-03-08T00:00:00\", \"2020-03-09T00:00:00\", \"2020-03-10T00:00:00\", \"2020-03-11T00:00:00\", \"2020-03-12T00:00:00\", \"2020-03-13T00:00:00\", \"2020-03-14T00:00:00\", \"2020-03-15T00:00:00\", \"2020-03-16T00:00:00\", \"2020-03-17T00:00:00\", \"2020-03-18T00:00:00\", \"2020-03-19T00:00:00\", \"2020-03-20T00:00:00\", \"2020-03-21T00:00:00\", \"2020-03-22T00:00:00\", \"2020-03-23T00:00:00\", \"2020-03-24T00:00:00\", \"2020-03-25T00:00:00\", \"2020-03-26T00:00:00\", \"2020-03-27T00:00:00\", \"2020-03-28T00:00:00\", \"2020-03-29T00:00:00\", \"2020-03-30T00:00:00\", \"2020-03-31T00:00:00\", \"2020-04-01T00:00:00\", \"2020-04-02T00:00:00\"], \"y\": [null, null, 0.0, 0.0, 0.0, 0.0, 0.0, 0.0, 0.0, 0.0, 0.0, 0.0, 0.0, 0.0, 0.0, 0.0, 0.0, 0.0, 0.0, 0.0, 0.0, 0.0, 0.0, 0.0, 0.0, 0.0, 0.0, 0.0, 0.0, 0.0, 0.0, 0.0, 0.0, 0.0, 0.3333333333333333, 0.3333333333333333, 2.0, 3.0, 5.666666666666667, 6.0, 9.333333333333334, 21.333333333333332, 34.666666666666664, 50.0, 61.0, 64.33333333333333, 64.66666666666667, 79.33333333333333, 60.666666666666664, 141.33333333333334, 153.0, 211.66666666666666, 203.33333333333334, 249.66666666666666, 306.6666666666667, 350.3333333333333, 430.6666666666667, 527.3333333333334, 583.3333333333334, 587.0, 646.6666666666666, 740.3333333333334, 901.3333333333334, 1022.3333333333334, 1127.0, 1154.0, 1056.6666666666667, 949.3333333333334, 922.0, 990.3333333333334, null]}, {\"hoverinfo\": \"text\", \"hoverlabel\": {\"bgcolor\": \"white\", \"bordercolor\": \"#286140\", \"font\": {\"color\": \"#286140\"}}, \"hovertext\": [\"Germany:<br>nan\", \"Germany:<br>nan\", \"Germany:<br>0\", \"Germany:<br>0\", \"Germany:<br>1\", \"Germany:<br>1\", \"Germany:<br>1\", \"Germany:<br>0\", \"Germany:<br>1\", \"Germany:<br>2\", \"Germany:<br>2\", \"Germany:<br>1\", \"Germany:<br>1\", \"Germany:<br>0\", \"Germany:<br>0\", \"Germany:<br>0\", \"Germany:<br>1\", \"Germany:<br>0\", \"Germany:<br>1\", \"Germany:<br>1\", \"Germany:<br>1\", \"Germany:<br>0\", \"Germany:<br>0\", \"Germany:<br>0\", \"Germany:<br>0\", \"Germany:<br>0\", \"Germany:<br>0\", \"Germany:<br>0\", \"Germany:<br>0\", \"Germany:<br>0\", \"Germany:<br>0\", \"Germany:<br>0\", \"Germany:<br>0\", \"Germany:<br>4\", \"Germany:<br>10\", \"Germany:<br>10\", \"Germany:<br>17\", \"Germany:<br>28\", \"Germany:<br>37\", \"Germany:<br>39\", \"Germany:<br>44\", \"Germany:<br>108\", \"Germany:<br>158\", \"Germany:<br>179\", \"Germany:<br>186\", \"Germany:<br>169\", \"Germany:<br>219\", \"Germany:<br>289\", \"Germany:<br>301\", \"Germany:<br>739\", \"Germany:<br>892\", \"Germany:<br>1239\", \"Germany:<br>1199\", \"Germany:<br>1557\", \"Germany:<br>2177\", \"Germany:<br>2683\", \"Germany:<br>3530\", \"Germany:<br>3295\", \"Germany:<br>3184\", \"Germany:<br>3069\", \"Germany:<br>3591\", \"Germany:<br>4150\", \"Germany:<br>4961\", \"Germany:<br>5962\", \"Germany:<br>6791\", \"Germany:<br>6052\", \"Germany:<br>5338\", \"Germany:<br>4704\", \"Germany:<br>5259\", \"Germany:<br>5970\", \"Germany:<br>nan\"], \"line\": {\"width\": 1.5}, \"marker\": {\"color\": \"#286140\"}, \"name\": \"Germany  \", \"showlegend\": true, \"type\": \"scatter\", \"x\": [\"2020-01-23T00:00:00\", \"2020-01-24T00:00:00\", \"2020-01-25T00:00:00\", \"2020-01-26T00:00:00\", \"2020-01-27T00:00:00\", \"2020-01-28T00:00:00\", \"2020-01-29T00:00:00\", \"2020-01-30T00:00:00\", \"2020-01-31T00:00:00\", \"2020-02-01T00:00:00\", \"2020-02-02T00:00:00\", \"2020-02-03T00:00:00\", \"2020-02-04T00:00:00\", \"2020-02-05T00:00:00\", \"2020-02-06T00:00:00\", \"2020-02-07T00:00:00\", \"2020-02-08T00:00:00\", \"2020-02-09T00:00:00\", \"2020-02-10T00:00:00\", \"2020-02-11T00:00:00\", \"2020-02-12T00:00:00\", \"2020-02-13T00:00:00\", \"2020-02-14T00:00:00\", \"2020-02-15T00:00:00\", \"2020-02-16T00:00:00\", \"2020-02-17T00:00:00\", \"2020-02-18T00:00:00\", \"2020-02-19T00:00:00\", \"2020-02-20T00:00:00\", \"2020-02-21T00:00:00\", \"2020-02-22T00:00:00\", \"2020-02-23T00:00:00\", \"2020-02-24T00:00:00\", \"2020-02-25T00:00:00\", \"2020-02-26T00:00:00\", \"2020-02-27T00:00:00\", \"2020-02-28T00:00:00\", \"2020-02-29T00:00:00\", \"2020-03-01T00:00:00\", \"2020-03-02T00:00:00\", \"2020-03-03T00:00:00\", \"2020-03-04T00:00:00\", \"2020-03-05T00:00:00\", \"2020-03-06T00:00:00\", \"2020-03-07T00:00:00\", \"2020-03-08T00:00:00\", \"2020-03-09T00:00:00\", \"2020-03-10T00:00:00\", \"2020-03-11T00:00:00\", \"2020-03-12T00:00:00\", \"2020-03-13T00:00:00\", \"2020-03-14T00:00:00\", \"2020-03-15T00:00:00\", \"2020-03-16T00:00:00\", \"2020-03-17T00:00:00\", \"2020-03-18T00:00:00\", \"2020-03-19T00:00:00\", \"2020-03-20T00:00:00\", \"2020-03-21T00:00:00\", \"2020-03-22T00:00:00\", \"2020-03-23T00:00:00\", \"2020-03-24T00:00:00\", \"2020-03-25T00:00:00\", \"2020-03-26T00:00:00\", \"2020-03-27T00:00:00\", \"2020-03-28T00:00:00\", \"2020-03-29T00:00:00\", \"2020-03-30T00:00:00\", \"2020-03-31T00:00:00\", \"2020-04-01T00:00:00\", \"2020-04-02T00:00:00\"], \"y\": [null, null, 0.0, 0.3333333333333333, 1.3333333333333333, 1.3333333333333333, 1.0, 0.3333333333333333, 1.3333333333333333, 2.0, 2.3333333333333335, 1.3333333333333333, 0.6666666666666666, 0.0, 0.3333333333333333, 0.3333333333333333, 0.6666666666666666, 0.3333333333333333, 1.0, 0.6666666666666666, 0.6666666666666666, 0.0, 0.0, 0.0, 0.0, 0.0, 0.0, 0.0, 0.0, 0.0, 0.0, 0.0, 0.3333333333333333, 3.6666666666666665, 10.0, 10.333333333333334, 17.333333333333332, 28.0, 37.0, 39.0, 44.0, 107.66666666666667, 158.0, 179.0, 186.0, 168.66666666666666, 219.33333333333334, 289.3333333333333, 300.6666666666667, 739.3333333333334, 892.3333333333334, 1239.0, 1199.0, 1557.3333333333333, 2177.3333333333335, 2682.6666666666665, 3530.3333333333335, 3295.3333333333335, 3184.3333333333335, 3069.3333333333335, 3591.0, 4150.0, 4960.666666666667, 5961.666666666667, 6790.666666666667, 6052.333333333333, 5338.0, 4704.333333333333, 5259.0, 5969.666666666667, null]}, {\"hoverinfo\": \"text\", \"hoverlabel\": {\"bgcolor\": \"white\", \"bordercolor\": \"#F1C400\", \"font\": {\"color\": \"#F1C400\"}}, \"hovertext\": [\"Belgium:<br>nan\", \"Belgium:<br>nan\", \"Belgium:<br>0\", \"Belgium:<br>0\", \"Belgium:<br>0\", \"Belgium:<br>0\", \"Belgium:<br>0\", \"Belgium:<br>0\", \"Belgium:<br>0\", \"Belgium:<br>0\", \"Belgium:<br>0\", \"Belgium:<br>0\", \"Belgium:<br>0\", \"Belgium:<br>0\", \"Belgium:<br>0\", \"Belgium:<br>0\", \"Belgium:<br>0\", \"Belgium:<br>0\", \"Belgium:<br>0\", \"Belgium:<br>0\", \"Belgium:<br>0\", \"Belgium:<br>0\", \"Belgium:<br>0\", \"Belgium:<br>0\", \"Belgium:<br>0\", \"Belgium:<br>0\", \"Belgium:<br>0\", \"Belgium:<br>0\", \"Belgium:<br>0\", \"Belgium:<br>0\", \"Belgium:<br>0\", \"Belgium:<br>0\", \"Belgium:<br>0\", \"Belgium:<br>0\", \"Belgium:<br>0\", \"Belgium:<br>0\", \"Belgium:<br>0\", \"Belgium:<br>0\", \"Belgium:<br>2\", \"Belgium:<br>4\", \"Belgium:<br>7\", \"Belgium:<br>14\", \"Belgium:<br>32\", \"Belgium:<br>49\", \"Belgium:<br>50\", \"Belgium:<br>43\", \"Belgium:<br>33\", \"Belgium:<br>38\", \"Belgium:<br>25\", \"Belgium:<br>97\", \"Belgium:<br>125\", \"Belgium:<br>191\", \"Belgium:<br>166\", \"Belgium:<br>185\", \"Belgium:<br>200\", \"Belgium:<br>246\", \"Belgium:<br>338\", \"Belgium:<br>443\", \"Belgium:<br>535\", \"Belgium:<br>495\", \"Belgium:<br>485\", \"Belgium:<br>512\", \"Belgium:<br>831\", \"Belgium:<br>1005\", \"Belgium:<br>1399\", \"Belgium:<br>1534\", \"Belgium:<br>1538\", \"Belgium:<br>1214\", \"Belgium:<br>1043\", \"Belgium:<br>1150\", \"Belgium:<br>nan\"], \"line\": {\"width\": 1.5}, \"marker\": {\"color\": \"#F1C400\"}, \"name\": \"Belgium  \", \"showlegend\": true, \"type\": \"scatter\", \"x\": [\"2020-01-23T00:00:00\", \"2020-01-24T00:00:00\", \"2020-01-25T00:00:00\", \"2020-01-26T00:00:00\", \"2020-01-27T00:00:00\", \"2020-01-28T00:00:00\", \"2020-01-29T00:00:00\", \"2020-01-30T00:00:00\", \"2020-01-31T00:00:00\", \"2020-02-01T00:00:00\", \"2020-02-02T00:00:00\", \"2020-02-03T00:00:00\", \"2020-02-04T00:00:00\", \"2020-02-05T00:00:00\", \"2020-02-06T00:00:00\", \"2020-02-07T00:00:00\", \"2020-02-08T00:00:00\", \"2020-02-09T00:00:00\", \"2020-02-10T00:00:00\", \"2020-02-11T00:00:00\", \"2020-02-12T00:00:00\", \"2020-02-13T00:00:00\", \"2020-02-14T00:00:00\", \"2020-02-15T00:00:00\", \"2020-02-16T00:00:00\", \"2020-02-17T00:00:00\", \"2020-02-18T00:00:00\", \"2020-02-19T00:00:00\", \"2020-02-20T00:00:00\", \"2020-02-21T00:00:00\", \"2020-02-22T00:00:00\", \"2020-02-23T00:00:00\", \"2020-02-24T00:00:00\", \"2020-02-25T00:00:00\", \"2020-02-26T00:00:00\", \"2020-02-27T00:00:00\", \"2020-02-28T00:00:00\", \"2020-02-29T00:00:00\", \"2020-03-01T00:00:00\", \"2020-03-02T00:00:00\", \"2020-03-03T00:00:00\", \"2020-03-04T00:00:00\", \"2020-03-05T00:00:00\", \"2020-03-06T00:00:00\", \"2020-03-07T00:00:00\", \"2020-03-08T00:00:00\", \"2020-03-09T00:00:00\", \"2020-03-10T00:00:00\", \"2020-03-11T00:00:00\", \"2020-03-12T00:00:00\", \"2020-03-13T00:00:00\", \"2020-03-14T00:00:00\", \"2020-03-15T00:00:00\", \"2020-03-16T00:00:00\", \"2020-03-17T00:00:00\", \"2020-03-18T00:00:00\", \"2020-03-19T00:00:00\", \"2020-03-20T00:00:00\", \"2020-03-21T00:00:00\", \"2020-03-22T00:00:00\", \"2020-03-23T00:00:00\", \"2020-03-24T00:00:00\", \"2020-03-25T00:00:00\", \"2020-03-26T00:00:00\", \"2020-03-27T00:00:00\", \"2020-03-28T00:00:00\", \"2020-03-29T00:00:00\", \"2020-03-30T00:00:00\", \"2020-03-31T00:00:00\", \"2020-04-01T00:00:00\", \"2020-04-02T00:00:00\"], \"y\": [null, null, 0.0, 0.0, 0.0, 0.0, 0.0, 0.0, 0.0, 0.0, 0.0, 0.3333333333333333, 0.3333333333333333, 0.3333333333333333, 0.0, 0.0, 0.0, 0.0, 0.0, 0.0, 0.0, 0.0, 0.0, 0.0, 0.0, 0.0, 0.0, 0.0, 0.0, 0.0, 0.0, 0.0, 0.0, 0.0, 0.0, 0.0, 0.0, 0.3333333333333333, 2.3333333333333335, 4.0, 7.0, 14.0, 32.0, 48.666666666666664, 50.0, 43.333333333333336, 32.666666666666664, 38.0, 25.0, 97.33333333333333, 125.0, 190.66666666666666, 166.33333333333334, 184.66666666666666, 200.0, 245.66666666666666, 338.0, 443.0, 535.3333333333334, 495.3333333333333, 484.6666666666667, 512.0, 830.6666666666666, 1005.0, 1399.0, 1533.6666666666667, 1538.3333333333333, 1213.6666666666667, 1042.6666666666667, 1149.6666666666667, null]}],\n",
       "                        {\"annotations\": [{\"font\": {\"color\": \"silver\", \"family\": \"Gentona, Tahoma, sans-serif\", \"size\": 8}, \"showarrow\": false, \"text\": \"Click any country below to hide/show from the graph:\", \"x\": -0.03, \"xref\": \"paper\", \"y\": -0.25, \"yref\": \"paper\"}], \"font\": {\"color\": \"dimgray\", \"family\": \"Gentona, Tahoma, sans-serif\", \"size\": 8}, \"height\": 275, \"hovermode\": \"closest\", \"legend\": {\"orientation\": \"h\", \"x\": -0.05, \"y\": -0.22}, \"margin\": {\"b\": 0, \"l\": 30, \"pad\": 0, \"r\": 10, \"t\": 10}, \"template\": {\"data\": {\"bar\": [{\"error_x\": {\"color\": \"#2a3f5f\"}, \"error_y\": {\"color\": \"#2a3f5f\"}, \"marker\": {\"line\": {\"color\": \"#E5ECF6\", \"width\": 0.5}}, \"type\": \"bar\"}], \"barpolar\": [{\"marker\": {\"line\": {\"color\": \"#E5ECF6\", \"width\": 0.5}}, \"type\": \"barpolar\"}], \"carpet\": [{\"aaxis\": {\"endlinecolor\": \"#2a3f5f\", \"gridcolor\": \"white\", \"linecolor\": \"white\", \"minorgridcolor\": \"white\", \"startlinecolor\": \"#2a3f5f\"}, \"baxis\": {\"endlinecolor\": \"#2a3f5f\", \"gridcolor\": \"white\", \"linecolor\": \"white\", \"minorgridcolor\": \"white\", \"startlinecolor\": \"#2a3f5f\"}, \"type\": \"carpet\"}], \"choropleth\": [{\"colorbar\": {\"outlinewidth\": 0, \"ticks\": \"\"}, \"type\": \"choropleth\"}], \"contour\": [{\"colorbar\": {\"outlinewidth\": 0, \"ticks\": \"\"}, \"colorscale\": [[0.0, \"#0d0887\"], [0.1111111111111111, \"#46039f\"], [0.2222222222222222, \"#7201a8\"], [0.3333333333333333, \"#9c179e\"], [0.4444444444444444, \"#bd3786\"], [0.5555555555555556, \"#d8576b\"], [0.6666666666666666, \"#ed7953\"], [0.7777777777777778, \"#fb9f3a\"], [0.8888888888888888, \"#fdca26\"], [1.0, \"#f0f921\"]], \"type\": \"contour\"}], \"contourcarpet\": [{\"colorbar\": {\"outlinewidth\": 0, \"ticks\": \"\"}, \"type\": \"contourcarpet\"}], \"heatmap\": [{\"colorbar\": {\"outlinewidth\": 0, \"ticks\": \"\"}, \"colorscale\": [[0.0, \"#0d0887\"], [0.1111111111111111, \"#46039f\"], [0.2222222222222222, \"#7201a8\"], [0.3333333333333333, \"#9c179e\"], [0.4444444444444444, \"#bd3786\"], [0.5555555555555556, \"#d8576b\"], [0.6666666666666666, \"#ed7953\"], [0.7777777777777778, \"#fb9f3a\"], [0.8888888888888888, \"#fdca26\"], [1.0, \"#f0f921\"]], \"type\": \"heatmap\"}], \"heatmapgl\": [{\"colorbar\": {\"outlinewidth\": 0, \"ticks\": \"\"}, \"colorscale\": [[0.0, \"#0d0887\"], [0.1111111111111111, \"#46039f\"], [0.2222222222222222, \"#7201a8\"], [0.3333333333333333, \"#9c179e\"], [0.4444444444444444, \"#bd3786\"], [0.5555555555555556, \"#d8576b\"], [0.6666666666666666, \"#ed7953\"], [0.7777777777777778, \"#fb9f3a\"], [0.8888888888888888, \"#fdca26\"], [1.0, \"#f0f921\"]], \"type\": \"heatmapgl\"}], \"histogram\": [{\"marker\": {\"colorbar\": {\"outlinewidth\": 0, \"ticks\": \"\"}}, \"type\": \"histogram\"}], \"histogram2d\": [{\"colorbar\": {\"outlinewidth\": 0, \"ticks\": \"\"}, \"colorscale\": [[0.0, \"#0d0887\"], [0.1111111111111111, \"#46039f\"], [0.2222222222222222, \"#7201a8\"], [0.3333333333333333, \"#9c179e\"], [0.4444444444444444, \"#bd3786\"], [0.5555555555555556, \"#d8576b\"], [0.6666666666666666, \"#ed7953\"], [0.7777777777777778, \"#fb9f3a\"], [0.8888888888888888, \"#fdca26\"], [1.0, \"#f0f921\"]], \"type\": \"histogram2d\"}], \"histogram2dcontour\": [{\"colorbar\": {\"outlinewidth\": 0, \"ticks\": \"\"}, \"colorscale\": [[0.0, \"#0d0887\"], [0.1111111111111111, \"#46039f\"], [0.2222222222222222, \"#7201a8\"], [0.3333333333333333, \"#9c179e\"], [0.4444444444444444, \"#bd3786\"], [0.5555555555555556, \"#d8576b\"], [0.6666666666666666, \"#ed7953\"], [0.7777777777777778, \"#fb9f3a\"], [0.8888888888888888, \"#fdca26\"], [1.0, \"#f0f921\"]], \"type\": \"histogram2dcontour\"}], \"mesh3d\": [{\"colorbar\": {\"outlinewidth\": 0, \"ticks\": \"\"}, \"type\": \"mesh3d\"}], \"parcoords\": [{\"line\": {\"colorbar\": {\"outlinewidth\": 0, \"ticks\": \"\"}}, \"type\": \"parcoords\"}], \"pie\": [{\"automargin\": true, \"type\": \"pie\"}], \"scatter\": [{\"marker\": {\"colorbar\": {\"outlinewidth\": 0, \"ticks\": \"\"}}, \"type\": \"scatter\"}], \"scatter3d\": [{\"line\": {\"colorbar\": {\"outlinewidth\": 0, \"ticks\": \"\"}}, \"marker\": {\"colorbar\": {\"outlinewidth\": 0, \"ticks\": \"\"}}, \"type\": \"scatter3d\"}], \"scattercarpet\": [{\"marker\": {\"colorbar\": {\"outlinewidth\": 0, \"ticks\": \"\"}}, \"type\": \"scattercarpet\"}], \"scattergeo\": [{\"marker\": {\"colorbar\": {\"outlinewidth\": 0, \"ticks\": \"\"}}, \"type\": \"scattergeo\"}], \"scattergl\": [{\"marker\": {\"colorbar\": {\"outlinewidth\": 0, \"ticks\": \"\"}}, \"type\": \"scattergl\"}], \"scattermapbox\": [{\"marker\": {\"colorbar\": {\"outlinewidth\": 0, \"ticks\": \"\"}}, \"type\": \"scattermapbox\"}], \"scatterpolar\": [{\"marker\": {\"colorbar\": {\"outlinewidth\": 0, \"ticks\": \"\"}}, \"type\": \"scatterpolar\"}], \"scatterpolargl\": [{\"marker\": {\"colorbar\": {\"outlinewidth\": 0, \"ticks\": \"\"}}, \"type\": \"scatterpolargl\"}], \"scatterternary\": [{\"marker\": {\"colorbar\": {\"outlinewidth\": 0, \"ticks\": \"\"}}, \"type\": \"scatterternary\"}], \"surface\": [{\"colorbar\": {\"outlinewidth\": 0, \"ticks\": \"\"}, \"colorscale\": [[0.0, \"#0d0887\"], [0.1111111111111111, \"#46039f\"], [0.2222222222222222, \"#7201a8\"], [0.3333333333333333, \"#9c179e\"], [0.4444444444444444, \"#bd3786\"], [0.5555555555555556, \"#d8576b\"], [0.6666666666666666, \"#ed7953\"], [0.7777777777777778, \"#fb9f3a\"], [0.8888888888888888, \"#fdca26\"], [1.0, \"#f0f921\"]], \"type\": \"surface\"}], \"table\": [{\"cells\": {\"fill\": {\"color\": \"#EBF0F8\"}, \"line\": {\"color\": \"white\"}}, \"header\": {\"fill\": {\"color\": \"#C8D4E3\"}, \"line\": {\"color\": \"white\"}}, \"type\": \"table\"}]}, \"layout\": {\"annotationdefaults\": {\"arrowcolor\": \"#2a3f5f\", \"arrowhead\": 0, \"arrowwidth\": 1}, \"coloraxis\": {\"colorbar\": {\"outlinewidth\": 0, \"ticks\": \"\"}}, \"colorscale\": {\"diverging\": [[0, \"#8e0152\"], [0.1, \"#c51b7d\"], [0.2, \"#de77ae\"], [0.3, \"#f1b6da\"], [0.4, \"#fde0ef\"], [0.5, \"#f7f7f7\"], [0.6, \"#e6f5d0\"], [0.7, \"#b8e186\"], [0.8, \"#7fbc41\"], [0.9, \"#4d9221\"], [1, \"#276419\"]], \"sequential\": [[0.0, \"#0d0887\"], [0.1111111111111111, \"#46039f\"], [0.2222222222222222, \"#7201a8\"], [0.3333333333333333, \"#9c179e\"], [0.4444444444444444, \"#bd3786\"], [0.5555555555555556, \"#d8576b\"], [0.6666666666666666, \"#ed7953\"], [0.7777777777777778, \"#fb9f3a\"], [0.8888888888888888, \"#fdca26\"], [1.0, \"#f0f921\"]], \"sequentialminus\": [[0.0, \"#0d0887\"], [0.1111111111111111, \"#46039f\"], [0.2222222222222222, \"#7201a8\"], [0.3333333333333333, \"#9c179e\"], [0.4444444444444444, \"#bd3786\"], [0.5555555555555556, \"#d8576b\"], [0.6666666666666666, \"#ed7953\"], [0.7777777777777778, \"#fb9f3a\"], [0.8888888888888888, \"#fdca26\"], [1.0, \"#f0f921\"]]}, \"colorway\": [\"#636efa\", \"#EF553B\", \"#00cc96\", \"#ab63fa\", \"#FFA15A\", \"#19d3f3\", \"#FF6692\", \"#B6E880\", \"#FF97FF\", \"#FECB52\"], \"font\": {\"color\": \"#2a3f5f\"}, \"geo\": {\"bgcolor\": \"white\", \"lakecolor\": \"white\", \"landcolor\": \"#E5ECF6\", \"showlakes\": true, \"showland\": true, \"subunitcolor\": \"white\"}, \"hoverlabel\": {\"align\": \"left\"}, \"hovermode\": \"closest\", \"mapbox\": {\"style\": \"light\"}, \"paper_bgcolor\": \"white\", \"plot_bgcolor\": \"#E5ECF6\", \"polar\": {\"angularaxis\": {\"gridcolor\": \"white\", \"linecolor\": \"white\", \"ticks\": \"\"}, \"bgcolor\": \"#E5ECF6\", \"radialaxis\": {\"gridcolor\": \"white\", \"linecolor\": \"white\", \"ticks\": \"\"}}, \"scene\": {\"xaxis\": {\"backgroundcolor\": \"#E5ECF6\", \"gridcolor\": \"white\", \"gridwidth\": 2, \"linecolor\": \"white\", \"showbackground\": true, \"ticks\": \"\", \"zerolinecolor\": \"white\"}, \"yaxis\": {\"backgroundcolor\": \"#E5ECF6\", \"gridcolor\": \"white\", \"gridwidth\": 2, \"linecolor\": \"white\", \"showbackground\": true, \"ticks\": \"\", \"zerolinecolor\": \"white\"}, \"zaxis\": {\"backgroundcolor\": \"#E5ECF6\", \"gridcolor\": \"white\", \"gridwidth\": 2, \"linecolor\": \"white\", \"showbackground\": true, \"ticks\": \"\", \"zerolinecolor\": \"white\"}}, \"shapedefaults\": {\"line\": {\"color\": \"#2a3f5f\"}}, \"ternary\": {\"aaxis\": {\"gridcolor\": \"white\", \"linecolor\": \"white\", \"ticks\": \"\"}, \"baxis\": {\"gridcolor\": \"white\", \"linecolor\": \"white\", \"ticks\": \"\"}, \"bgcolor\": \"#E5ECF6\", \"caxis\": {\"gridcolor\": \"white\", \"linecolor\": \"white\", \"ticks\": \"\"}}, \"title\": {\"x\": 0.05}, \"xaxis\": {\"automargin\": true, \"gridcolor\": \"white\", \"linecolor\": \"white\", \"ticks\": \"\", \"title\": {\"standoff\": 15}, \"zerolinecolor\": \"white\", \"zerolinewidth\": 2}, \"yaxis\": {\"automargin\": true, \"gridcolor\": \"white\", \"linecolor\": \"white\", \"ticks\": \"\", \"title\": {\"standoff\": 15}, \"zerolinecolor\": \"white\", \"zerolinewidth\": 2}}}, \"width\": 360, \"xaxis\": {\"rangemode\": \"nonnegative\", \"showgrid\": false, \"tickcolor\": \"#eee\", \"ticklen\": 6, \"ticks\": \"inside\", \"zeroline\": false}, \"yaxis\": {\"title\": {\"text\": \"Confirmed new cases\"}, \"type\": \"linear\"}},\n",
       "                        {\"responsive\": true}\n",
       "                    ).then(function(){\n",
       "                            \n",
       "var gd = document.getElementById('2463380b-515d-41f9-8ae6-3bf0382665a3');\n",
       "var x = new MutationObserver(function (mutations, observer) {{\n",
       "        var display = window.getComputedStyle(gd).display;\n",
       "        if (!display || display === 'none') {{\n",
       "            console.log([gd, 'removed!']);\n",
       "            Plotly.purge(gd);\n",
       "            observer.disconnect();\n",
       "        }}\n",
       "}});\n",
       "\n",
       "// Listen for the removal of the full notebook cells\n",
       "var notebookContainer = gd.closest('#notebook-container');\n",
       "if (notebookContainer) {{\n",
       "    x.observe(notebookContainer, {childList: true});\n",
       "}}\n",
       "\n",
       "// Listen for the clearing of the current output cell\n",
       "var outputEl = gd.closest('.output');\n",
       "if (outputEl) {{\n",
       "    x.observe(outputEl, {childList: true});\n",
       "}}\n",
       "\n",
       "                        })\n",
       "                };\n",
       "                });\n",
       "            </script>\n",
       "        </div>"
      ]
     },
     "metadata": {},
     "output_type": "display_data"
    }
   ],
   "source": [
    "# Plot new cases top 10 countries 360px\n",
    "data = []\n",
    "\n",
    "for i, c in enumerate(top10_country):\n",
    "    nc = df_merged[df_merged['Country/Region'] == c].confirmed_newcases_movavg\n",
    "    data.append(go.Scatter(x = df_merged[df_merged['Country/Region'] == c].dt,\n",
    "                           y = nc,\n",
    "                           name = c+'  ',\n",
    "                           marker = dict(color = top10_col[i]),\n",
    "                           line = dict(width = 1.5),\n",
    "                           hoverinfo = 'text',\n",
    "                           hovertext = [c+':<br>{:.0f}'.format(i) for i in nc],\n",
    "                           hoverlabel = dict(bordercolor = top10_col[i], \n",
    "                                             bgcolor = 'white',\n",
    "                                             font = dict(color = top10_col[i])),\n",
    "                           showlegend = True\n",
    "                          )\n",
    "               )\n",
    "    \n",
    "    \n",
    "lay = go.Layout(width = 360, \n",
    "                height = 275, \n",
    "                #bargap = 0.2,\n",
    "                xaxis = dict(#nticks = 10,\n",
    "                             ticks = 'inside',\n",
    "                             ticklen = 6,\n",
    "                             tickcolor = '#eee',\n",
    "                             rangemode = 'nonnegative',\n",
    "                             zeroline = False,\n",
    "                             showgrid = False,\n",
    "                            ),\n",
    "                yaxis = dict(title='Confirmed new cases',\n",
    "                             type = 'linear',\n",
    "                            ),\n",
    "                hovermode = 'closest',\n",
    "                font = dict(size = label_size_small,\n",
    "                            family = label_font,\n",
    "                            color = label_col,\n",
    "                           ),\n",
    "                legend = dict(x = -0.05, \n",
    "                              y = -0.22,\n",
    "                              orientation = 'h',\n",
    "                             ),\n",
    "                margin=dict(l=30, r=10, b=0, t=10, pad=0),\n",
    "                annotations=[dict(x = -0.03,\n",
    "                                  y = -0.25,\n",
    "                                  showarrow = False,\n",
    "                                  text = 'Click any country below to hide/show from the graph:',\n",
    "                                  xref = 'paper',\n",
    "                                  yref = 'paper',\n",
    "                                  font=dict(\n",
    "                                      family = label_font,\n",
    "                                      size = label_size_small,\n",
    "                                      color = 'silver',),\n",
    "                                 ),\n",
    "                            ],\n",
    "               )\n",
    "\n",
    "fig = dict(data=data, layout=lay)\n",
    "plotly.offline.iplot(fig)\n",
    "\n",
    "# Save JS\n",
    "plot = plotly.offline.plot({'data':data,\n",
    "                            'layout':lay},\n",
    "                           include_plotlyjs = False,\n",
    "                           output_type = 'div',\n",
    "                           config = dict(showLink = False,\n",
    "                                         modeBarButtonsToRemove = ['sendDataToCloud'],\n",
    "                                         displaylogo = False,\n",
    "                                         responsive = True)\n",
    "                          )\n",
    "path = '../visuals/new_cases/'\n",
    "out_file = open(path+'timeline_newcases_date_all_360.html', 'w')\n",
    "out_file.write('<!DOCTYPE html><html><head><script src=\"https://cdn.plot.ly/plotly-latest.min.js\"></script></head><body>')\n",
    "out_file.write(plot)\n",
    "out_file.write('</body><html>')\n",
    "out_file.close()"
   ]
  },
  {
   "cell_type": "code",
   "execution_count": 26,
   "metadata": {},
   "outputs": [
    {
     "data": {
      "application/vnd.plotly.v1+json": {
       "config": {
        "linkText": "Export to plot.ly",
        "plotlyServerURL": "https://plot.ly",
        "showLink": false
       },
       "data": [
        {
         "hoverinfo": "skip",
         "hoverlabel": {
          "bgcolor": "white",
          "bordercolor": "gray",
          "font": {
           "color": "gray"
          }
         },
         "hovertext": [
          "nan",
          "nan",
          "0",
          "0",
          "0",
          "0",
          "0",
          "0",
          "0",
          "0",
          "0",
          "0",
          "0",
          "0",
          "0",
          "0",
          "0",
          "0",
          "0",
          "0",
          "0",
          "0",
          "0",
          "0",
          "0",
          "0",
          "0",
          "0",
          "0",
          "0",
          "0",
          "0",
          "0",
          "0",
          "0",
          "0",
          "0",
          "0",
          "2",
          "4",
          "7",
          "14",
          "32",
          "49",
          "50",
          "43",
          "33",
          "38",
          "25",
          "97",
          "125",
          "191",
          "166",
          "185",
          "200",
          "246",
          "338",
          "443",
          "535",
          "495",
          "485",
          "512",
          "831",
          "1005",
          "1399",
          "1534",
          "1538",
          "1214",
          "1043",
          "1150",
          "nan"
         ],
         "marker": {
          "color": "#FF9E1B"
         },
         "name": "5-day moving average",
         "type": "scatter",
         "x": [
          "2020-01-23T00:00:00",
          "2020-01-24T00:00:00",
          "2020-01-25T00:00:00",
          "2020-01-26T00:00:00",
          "2020-01-27T00:00:00",
          "2020-01-28T00:00:00",
          "2020-01-29T00:00:00",
          "2020-01-30T00:00:00",
          "2020-01-31T00:00:00",
          "2020-02-01T00:00:00",
          "2020-02-02T00:00:00",
          "2020-02-03T00:00:00",
          "2020-02-04T00:00:00",
          "2020-02-05T00:00:00",
          "2020-02-06T00:00:00",
          "2020-02-07T00:00:00",
          "2020-02-08T00:00:00",
          "2020-02-09T00:00:00",
          "2020-02-10T00:00:00",
          "2020-02-11T00:00:00",
          "2020-02-12T00:00:00",
          "2020-02-13T00:00:00",
          "2020-02-14T00:00:00",
          "2020-02-15T00:00:00",
          "2020-02-16T00:00:00",
          "2020-02-17T00:00:00",
          "2020-02-18T00:00:00",
          "2020-02-19T00:00:00",
          "2020-02-20T00:00:00",
          "2020-02-21T00:00:00",
          "2020-02-22T00:00:00",
          "2020-02-23T00:00:00",
          "2020-02-24T00:00:00",
          "2020-02-25T00:00:00",
          "2020-02-26T00:00:00",
          "2020-02-27T00:00:00",
          "2020-02-28T00:00:00",
          "2020-02-29T00:00:00",
          "2020-03-01T00:00:00",
          "2020-03-02T00:00:00",
          "2020-03-03T00:00:00",
          "2020-03-04T00:00:00",
          "2020-03-05T00:00:00",
          "2020-03-06T00:00:00",
          "2020-03-07T00:00:00",
          "2020-03-08T00:00:00",
          "2020-03-09T00:00:00",
          "2020-03-10T00:00:00",
          "2020-03-11T00:00:00",
          "2020-03-12T00:00:00",
          "2020-03-13T00:00:00",
          "2020-03-14T00:00:00",
          "2020-03-15T00:00:00",
          "2020-03-16T00:00:00",
          "2020-03-17T00:00:00",
          "2020-03-18T00:00:00",
          "2020-03-19T00:00:00",
          "2020-03-20T00:00:00",
          "2020-03-21T00:00:00",
          "2020-03-22T00:00:00",
          "2020-03-23T00:00:00",
          "2020-03-24T00:00:00",
          "2020-03-25T00:00:00",
          "2020-03-26T00:00:00",
          "2020-03-27T00:00:00",
          "2020-03-28T00:00:00",
          "2020-03-29T00:00:00",
          "2020-03-30T00:00:00",
          "2020-03-31T00:00:00",
          "2020-04-01T00:00:00",
          "2020-04-02T00:00:00"
         ],
         "y": [
          null,
          null,
          0,
          0,
          0,
          0,
          0,
          0,
          0,
          0,
          0,
          0.3333333333333333,
          0.3333333333333333,
          0.3333333333333333,
          0,
          0,
          0,
          0,
          0,
          0,
          0,
          0,
          0,
          0,
          0,
          0,
          0,
          0,
          0,
          0,
          0,
          0,
          0,
          0,
          0,
          0,
          0,
          0.3333333333333333,
          2.3333333333333335,
          4,
          7,
          14,
          32,
          48.666666666666664,
          50,
          43.333333333333336,
          32.666666666666664,
          38,
          25,
          97.33333333333333,
          125,
          190.66666666666666,
          166.33333333333334,
          184.66666666666666,
          200,
          245.66666666666666,
          338,
          443,
          535.3333333333334,
          495.3333333333333,
          484.6666666666667,
          512,
          830.6666666666666,
          1005,
          1399,
          1533.6666666666667,
          1538.3333333333333,
          1213.6666666666667,
          1042.6666666666667,
          1149.6666666666667,
          null
         ]
        },
        {
         "hoverinfo": "y",
         "hoverlabel": {
          "bgcolor": "white",
          "bordercolor": "gray",
          "font": {
           "color": "gray"
          }
         },
         "hovertext": "Belgium",
         "marker": {
          "color": "#FF9E1B"
         },
         "name": "Actual data",
         "opacity": 0.3,
         "type": "bar",
         "x": [
          "2020-01-23T00:00:00",
          "2020-01-24T00:00:00",
          "2020-01-25T00:00:00",
          "2020-01-26T00:00:00",
          "2020-01-27T00:00:00",
          "2020-01-28T00:00:00",
          "2020-01-29T00:00:00",
          "2020-01-30T00:00:00",
          "2020-01-31T00:00:00",
          "2020-02-01T00:00:00",
          "2020-02-02T00:00:00",
          "2020-02-03T00:00:00",
          "2020-02-04T00:00:00",
          "2020-02-05T00:00:00",
          "2020-02-06T00:00:00",
          "2020-02-07T00:00:00",
          "2020-02-08T00:00:00",
          "2020-02-09T00:00:00",
          "2020-02-10T00:00:00",
          "2020-02-11T00:00:00",
          "2020-02-12T00:00:00",
          "2020-02-13T00:00:00",
          "2020-02-14T00:00:00",
          "2020-02-15T00:00:00",
          "2020-02-16T00:00:00",
          "2020-02-17T00:00:00",
          "2020-02-18T00:00:00",
          "2020-02-19T00:00:00",
          "2020-02-20T00:00:00",
          "2020-02-21T00:00:00",
          "2020-02-22T00:00:00",
          "2020-02-23T00:00:00",
          "2020-02-24T00:00:00",
          "2020-02-25T00:00:00",
          "2020-02-26T00:00:00",
          "2020-02-27T00:00:00",
          "2020-02-28T00:00:00",
          "2020-02-29T00:00:00",
          "2020-03-01T00:00:00",
          "2020-03-02T00:00:00",
          "2020-03-03T00:00:00",
          "2020-03-04T00:00:00",
          "2020-03-05T00:00:00",
          "2020-03-06T00:00:00",
          "2020-03-07T00:00:00",
          "2020-03-08T00:00:00",
          "2020-03-09T00:00:00",
          "2020-03-10T00:00:00",
          "2020-03-11T00:00:00",
          "2020-03-12T00:00:00",
          "2020-03-13T00:00:00",
          "2020-03-14T00:00:00",
          "2020-03-15T00:00:00",
          "2020-03-16T00:00:00",
          "2020-03-17T00:00:00",
          "2020-03-18T00:00:00",
          "2020-03-19T00:00:00",
          "2020-03-20T00:00:00",
          "2020-03-21T00:00:00",
          "2020-03-22T00:00:00",
          "2020-03-23T00:00:00",
          "2020-03-24T00:00:00",
          "2020-03-25T00:00:00",
          "2020-03-26T00:00:00",
          "2020-03-27T00:00:00",
          "2020-03-28T00:00:00",
          "2020-03-29T00:00:00",
          "2020-03-30T00:00:00",
          "2020-03-31T00:00:00",
          "2020-04-01T00:00:00",
          "2020-04-02T00:00:00"
         ],
         "y": [
          null,
          0,
          0,
          0,
          0,
          0,
          0,
          0,
          0,
          0,
          0,
          0,
          1,
          0,
          0,
          0,
          0,
          0,
          0,
          0,
          0,
          0,
          0,
          0,
          0,
          0,
          0,
          0,
          0,
          0,
          0,
          0,
          0,
          0,
          0,
          0,
          0,
          0,
          1,
          6,
          5,
          10,
          27,
          59,
          60,
          31,
          39,
          28,
          47,
          0,
          245,
          130,
          197,
          172,
          185,
          243,
          309,
          462,
          558,
          586,
          342,
          526,
          668,
          1298,
          1049,
          1850,
          1702,
          1063,
          876,
          1189,
          1384
         ]
        }
       ],
       "layout": {
        "font": {
         "color": "dimgray",
         "family": "Gentona, Tahoma, sans-serif",
         "size": 12
        },
        "height": 500,
        "hovermode": "closest",
        "legend": {
         "orientation": "h",
         "x": 0,
         "y": -0.1
        },
        "margin": {
         "b": 100,
         "l": 50,
         "pad": 0,
         "r": 20,
         "t": 30
        },
        "showlegend": true,
        "template": {
         "data": {
          "bar": [
           {
            "error_x": {
             "color": "#2a3f5f"
            },
            "error_y": {
             "color": "#2a3f5f"
            },
            "marker": {
             "line": {
              "color": "#E5ECF6",
              "width": 0.5
             }
            },
            "type": "bar"
           }
          ],
          "barpolar": [
           {
            "marker": {
             "line": {
              "color": "#E5ECF6",
              "width": 0.5
             }
            },
            "type": "barpolar"
           }
          ],
          "carpet": [
           {
            "aaxis": {
             "endlinecolor": "#2a3f5f",
             "gridcolor": "white",
             "linecolor": "white",
             "minorgridcolor": "white",
             "startlinecolor": "#2a3f5f"
            },
            "baxis": {
             "endlinecolor": "#2a3f5f",
             "gridcolor": "white",
             "linecolor": "white",
             "minorgridcolor": "white",
             "startlinecolor": "#2a3f5f"
            },
            "type": "carpet"
           }
          ],
          "choropleth": [
           {
            "colorbar": {
             "outlinewidth": 0,
             "ticks": ""
            },
            "type": "choropleth"
           }
          ],
          "contour": [
           {
            "colorbar": {
             "outlinewidth": 0,
             "ticks": ""
            },
            "colorscale": [
             [
              0,
              "#0d0887"
             ],
             [
              0.1111111111111111,
              "#46039f"
             ],
             [
              0.2222222222222222,
              "#7201a8"
             ],
             [
              0.3333333333333333,
              "#9c179e"
             ],
             [
              0.4444444444444444,
              "#bd3786"
             ],
             [
              0.5555555555555556,
              "#d8576b"
             ],
             [
              0.6666666666666666,
              "#ed7953"
             ],
             [
              0.7777777777777778,
              "#fb9f3a"
             ],
             [
              0.8888888888888888,
              "#fdca26"
             ],
             [
              1,
              "#f0f921"
             ]
            ],
            "type": "contour"
           }
          ],
          "contourcarpet": [
           {
            "colorbar": {
             "outlinewidth": 0,
             "ticks": ""
            },
            "type": "contourcarpet"
           }
          ],
          "heatmap": [
           {
            "colorbar": {
             "outlinewidth": 0,
             "ticks": ""
            },
            "colorscale": [
             [
              0,
              "#0d0887"
             ],
             [
              0.1111111111111111,
              "#46039f"
             ],
             [
              0.2222222222222222,
              "#7201a8"
             ],
             [
              0.3333333333333333,
              "#9c179e"
             ],
             [
              0.4444444444444444,
              "#bd3786"
             ],
             [
              0.5555555555555556,
              "#d8576b"
             ],
             [
              0.6666666666666666,
              "#ed7953"
             ],
             [
              0.7777777777777778,
              "#fb9f3a"
             ],
             [
              0.8888888888888888,
              "#fdca26"
             ],
             [
              1,
              "#f0f921"
             ]
            ],
            "type": "heatmap"
           }
          ],
          "heatmapgl": [
           {
            "colorbar": {
             "outlinewidth": 0,
             "ticks": ""
            },
            "colorscale": [
             [
              0,
              "#0d0887"
             ],
             [
              0.1111111111111111,
              "#46039f"
             ],
             [
              0.2222222222222222,
              "#7201a8"
             ],
             [
              0.3333333333333333,
              "#9c179e"
             ],
             [
              0.4444444444444444,
              "#bd3786"
             ],
             [
              0.5555555555555556,
              "#d8576b"
             ],
             [
              0.6666666666666666,
              "#ed7953"
             ],
             [
              0.7777777777777778,
              "#fb9f3a"
             ],
             [
              0.8888888888888888,
              "#fdca26"
             ],
             [
              1,
              "#f0f921"
             ]
            ],
            "type": "heatmapgl"
           }
          ],
          "histogram": [
           {
            "marker": {
             "colorbar": {
              "outlinewidth": 0,
              "ticks": ""
             }
            },
            "type": "histogram"
           }
          ],
          "histogram2d": [
           {
            "colorbar": {
             "outlinewidth": 0,
             "ticks": ""
            },
            "colorscale": [
             [
              0,
              "#0d0887"
             ],
             [
              0.1111111111111111,
              "#46039f"
             ],
             [
              0.2222222222222222,
              "#7201a8"
             ],
             [
              0.3333333333333333,
              "#9c179e"
             ],
             [
              0.4444444444444444,
              "#bd3786"
             ],
             [
              0.5555555555555556,
              "#d8576b"
             ],
             [
              0.6666666666666666,
              "#ed7953"
             ],
             [
              0.7777777777777778,
              "#fb9f3a"
             ],
             [
              0.8888888888888888,
              "#fdca26"
             ],
             [
              1,
              "#f0f921"
             ]
            ],
            "type": "histogram2d"
           }
          ],
          "histogram2dcontour": [
           {
            "colorbar": {
             "outlinewidth": 0,
             "ticks": ""
            },
            "colorscale": [
             [
              0,
              "#0d0887"
             ],
             [
              0.1111111111111111,
              "#46039f"
             ],
             [
              0.2222222222222222,
              "#7201a8"
             ],
             [
              0.3333333333333333,
              "#9c179e"
             ],
             [
              0.4444444444444444,
              "#bd3786"
             ],
             [
              0.5555555555555556,
              "#d8576b"
             ],
             [
              0.6666666666666666,
              "#ed7953"
             ],
             [
              0.7777777777777778,
              "#fb9f3a"
             ],
             [
              0.8888888888888888,
              "#fdca26"
             ],
             [
              1,
              "#f0f921"
             ]
            ],
            "type": "histogram2dcontour"
           }
          ],
          "mesh3d": [
           {
            "colorbar": {
             "outlinewidth": 0,
             "ticks": ""
            },
            "type": "mesh3d"
           }
          ],
          "parcoords": [
           {
            "line": {
             "colorbar": {
              "outlinewidth": 0,
              "ticks": ""
             }
            },
            "type": "parcoords"
           }
          ],
          "pie": [
           {
            "automargin": true,
            "type": "pie"
           }
          ],
          "scatter": [
           {
            "marker": {
             "colorbar": {
              "outlinewidth": 0,
              "ticks": ""
             }
            },
            "type": "scatter"
           }
          ],
          "scatter3d": [
           {
            "line": {
             "colorbar": {
              "outlinewidth": 0,
              "ticks": ""
             }
            },
            "marker": {
             "colorbar": {
              "outlinewidth": 0,
              "ticks": ""
             }
            },
            "type": "scatter3d"
           }
          ],
          "scattercarpet": [
           {
            "marker": {
             "colorbar": {
              "outlinewidth": 0,
              "ticks": ""
             }
            },
            "type": "scattercarpet"
           }
          ],
          "scattergeo": [
           {
            "marker": {
             "colorbar": {
              "outlinewidth": 0,
              "ticks": ""
             }
            },
            "type": "scattergeo"
           }
          ],
          "scattergl": [
           {
            "marker": {
             "colorbar": {
              "outlinewidth": 0,
              "ticks": ""
             }
            },
            "type": "scattergl"
           }
          ],
          "scattermapbox": [
           {
            "marker": {
             "colorbar": {
              "outlinewidth": 0,
              "ticks": ""
             }
            },
            "type": "scattermapbox"
           }
          ],
          "scatterpolar": [
           {
            "marker": {
             "colorbar": {
              "outlinewidth": 0,
              "ticks": ""
             }
            },
            "type": "scatterpolar"
           }
          ],
          "scatterpolargl": [
           {
            "marker": {
             "colorbar": {
              "outlinewidth": 0,
              "ticks": ""
             }
            },
            "type": "scatterpolargl"
           }
          ],
          "scatterternary": [
           {
            "marker": {
             "colorbar": {
              "outlinewidth": 0,
              "ticks": ""
             }
            },
            "type": "scatterternary"
           }
          ],
          "surface": [
           {
            "colorbar": {
             "outlinewidth": 0,
             "ticks": ""
            },
            "colorscale": [
             [
              0,
              "#0d0887"
             ],
             [
              0.1111111111111111,
              "#46039f"
             ],
             [
              0.2222222222222222,
              "#7201a8"
             ],
             [
              0.3333333333333333,
              "#9c179e"
             ],
             [
              0.4444444444444444,
              "#bd3786"
             ],
             [
              0.5555555555555556,
              "#d8576b"
             ],
             [
              0.6666666666666666,
              "#ed7953"
             ],
             [
              0.7777777777777778,
              "#fb9f3a"
             ],
             [
              0.8888888888888888,
              "#fdca26"
             ],
             [
              1,
              "#f0f921"
             ]
            ],
            "type": "surface"
           }
          ],
          "table": [
           {
            "cells": {
             "fill": {
              "color": "#EBF0F8"
             },
             "line": {
              "color": "white"
             }
            },
            "header": {
             "fill": {
              "color": "#C8D4E3"
             },
             "line": {
              "color": "white"
             }
            },
            "type": "table"
           }
          ]
         },
         "layout": {
          "annotationdefaults": {
           "arrowcolor": "#2a3f5f",
           "arrowhead": 0,
           "arrowwidth": 1
          },
          "coloraxis": {
           "colorbar": {
            "outlinewidth": 0,
            "ticks": ""
           }
          },
          "colorscale": {
           "diverging": [
            [
             0,
             "#8e0152"
            ],
            [
             0.1,
             "#c51b7d"
            ],
            [
             0.2,
             "#de77ae"
            ],
            [
             0.3,
             "#f1b6da"
            ],
            [
             0.4,
             "#fde0ef"
            ],
            [
             0.5,
             "#f7f7f7"
            ],
            [
             0.6,
             "#e6f5d0"
            ],
            [
             0.7,
             "#b8e186"
            ],
            [
             0.8,
             "#7fbc41"
            ],
            [
             0.9,
             "#4d9221"
            ],
            [
             1,
             "#276419"
            ]
           ],
           "sequential": [
            [
             0,
             "#0d0887"
            ],
            [
             0.1111111111111111,
             "#46039f"
            ],
            [
             0.2222222222222222,
             "#7201a8"
            ],
            [
             0.3333333333333333,
             "#9c179e"
            ],
            [
             0.4444444444444444,
             "#bd3786"
            ],
            [
             0.5555555555555556,
             "#d8576b"
            ],
            [
             0.6666666666666666,
             "#ed7953"
            ],
            [
             0.7777777777777778,
             "#fb9f3a"
            ],
            [
             0.8888888888888888,
             "#fdca26"
            ],
            [
             1,
             "#f0f921"
            ]
           ],
           "sequentialminus": [
            [
             0,
             "#0d0887"
            ],
            [
             0.1111111111111111,
             "#46039f"
            ],
            [
             0.2222222222222222,
             "#7201a8"
            ],
            [
             0.3333333333333333,
             "#9c179e"
            ],
            [
             0.4444444444444444,
             "#bd3786"
            ],
            [
             0.5555555555555556,
             "#d8576b"
            ],
            [
             0.6666666666666666,
             "#ed7953"
            ],
            [
             0.7777777777777778,
             "#fb9f3a"
            ],
            [
             0.8888888888888888,
             "#fdca26"
            ],
            [
             1,
             "#f0f921"
            ]
           ]
          },
          "colorway": [
           "#636efa",
           "#EF553B",
           "#00cc96",
           "#ab63fa",
           "#FFA15A",
           "#19d3f3",
           "#FF6692",
           "#B6E880",
           "#FF97FF",
           "#FECB52"
          ],
          "font": {
           "color": "#2a3f5f"
          },
          "geo": {
           "bgcolor": "white",
           "lakecolor": "white",
           "landcolor": "#E5ECF6",
           "showlakes": true,
           "showland": true,
           "subunitcolor": "white"
          },
          "hoverlabel": {
           "align": "left"
          },
          "hovermode": "closest",
          "mapbox": {
           "style": "light"
          },
          "paper_bgcolor": "white",
          "plot_bgcolor": "#E5ECF6",
          "polar": {
           "angularaxis": {
            "gridcolor": "white",
            "linecolor": "white",
            "ticks": ""
           },
           "bgcolor": "#E5ECF6",
           "radialaxis": {
            "gridcolor": "white",
            "linecolor": "white",
            "ticks": ""
           }
          },
          "scene": {
           "xaxis": {
            "backgroundcolor": "#E5ECF6",
            "gridcolor": "white",
            "gridwidth": 2,
            "linecolor": "white",
            "showbackground": true,
            "ticks": "",
            "zerolinecolor": "white"
           },
           "yaxis": {
            "backgroundcolor": "#E5ECF6",
            "gridcolor": "white",
            "gridwidth": 2,
            "linecolor": "white",
            "showbackground": true,
            "ticks": "",
            "zerolinecolor": "white"
           },
           "zaxis": {
            "backgroundcolor": "#E5ECF6",
            "gridcolor": "white",
            "gridwidth": 2,
            "linecolor": "white",
            "showbackground": true,
            "ticks": "",
            "zerolinecolor": "white"
           }
          },
          "shapedefaults": {
           "line": {
            "color": "#2a3f5f"
           }
          },
          "ternary": {
           "aaxis": {
            "gridcolor": "white",
            "linecolor": "white",
            "ticks": ""
           },
           "baxis": {
            "gridcolor": "white",
            "linecolor": "white",
            "ticks": ""
           },
           "bgcolor": "#E5ECF6",
           "caxis": {
            "gridcolor": "white",
            "linecolor": "white",
            "ticks": ""
           }
          },
          "title": {
           "x": 0.05
          },
          "xaxis": {
           "automargin": true,
           "gridcolor": "white",
           "linecolor": "white",
           "ticks": "",
           "title": {
            "standoff": 15
           },
           "zerolinecolor": "white",
           "zerolinewidth": 2
          },
          "yaxis": {
           "automargin": true,
           "gridcolor": "white",
           "linecolor": "white",
           "ticks": "",
           "title": {
            "standoff": 15
           },
           "zerolinecolor": "white",
           "zerolinewidth": 2
          }
         }
        },
        "width": 600,
        "xaxis": {
         "rangemode": "nonnegative",
         "showgrid": false,
         "tickcolor": "#eee",
         "ticklen": 12,
         "ticks": "inside",
         "zeroline": false
        },
        "yaxis": {
         "showgrid": true,
         "title": {
          "text": "Confirmed new cases"
         },
         "type": "linear"
        }
       }
      },
      "text/html": [
       "<div>\n",
       "        \n",
       "        \n",
       "            <div id=\"db5c8903-d88e-4aa8-bb88-9e5659af9673\" class=\"plotly-graph-div\" style=\"height:500px; width:600px;\"></div>\n",
       "            <script type=\"text/javascript\">\n",
       "                require([\"plotly\"], function(Plotly) {\n",
       "                    window.PLOTLYENV=window.PLOTLYENV || {};\n",
       "                    \n",
       "                if (document.getElementById(\"db5c8903-d88e-4aa8-bb88-9e5659af9673\")) {\n",
       "                    Plotly.newPlot(\n",
       "                        'db5c8903-d88e-4aa8-bb88-9e5659af9673',\n",
       "                        [{\"hoverinfo\": \"skip\", \"hoverlabel\": {\"bgcolor\": \"white\", \"bordercolor\": \"gray\", \"font\": {\"color\": \"gray\"}}, \"hovertext\": [\"nan\", \"nan\", \"0\", \"0\", \"0\", \"0\", \"0\", \"0\", \"0\", \"0\", \"0\", \"0\", \"0\", \"0\", \"0\", \"0\", \"0\", \"0\", \"0\", \"0\", \"0\", \"0\", \"0\", \"0\", \"0\", \"0\", \"0\", \"0\", \"0\", \"0\", \"0\", \"0\", \"0\", \"0\", \"0\", \"0\", \"0\", \"0\", \"2\", \"4\", \"7\", \"14\", \"32\", \"49\", \"50\", \"43\", \"33\", \"38\", \"25\", \"97\", \"125\", \"191\", \"166\", \"185\", \"200\", \"246\", \"338\", \"443\", \"535\", \"495\", \"485\", \"512\", \"831\", \"1005\", \"1399\", \"1534\", \"1538\", \"1214\", \"1043\", \"1150\", \"nan\"], \"marker\": {\"color\": \"#FF9E1B\"}, \"name\": \"5-day moving average\", \"type\": \"scatter\", \"x\": [\"2020-01-23T00:00:00\", \"2020-01-24T00:00:00\", \"2020-01-25T00:00:00\", \"2020-01-26T00:00:00\", \"2020-01-27T00:00:00\", \"2020-01-28T00:00:00\", \"2020-01-29T00:00:00\", \"2020-01-30T00:00:00\", \"2020-01-31T00:00:00\", \"2020-02-01T00:00:00\", \"2020-02-02T00:00:00\", \"2020-02-03T00:00:00\", \"2020-02-04T00:00:00\", \"2020-02-05T00:00:00\", \"2020-02-06T00:00:00\", \"2020-02-07T00:00:00\", \"2020-02-08T00:00:00\", \"2020-02-09T00:00:00\", \"2020-02-10T00:00:00\", \"2020-02-11T00:00:00\", \"2020-02-12T00:00:00\", \"2020-02-13T00:00:00\", \"2020-02-14T00:00:00\", \"2020-02-15T00:00:00\", \"2020-02-16T00:00:00\", \"2020-02-17T00:00:00\", \"2020-02-18T00:00:00\", \"2020-02-19T00:00:00\", \"2020-02-20T00:00:00\", \"2020-02-21T00:00:00\", \"2020-02-22T00:00:00\", \"2020-02-23T00:00:00\", \"2020-02-24T00:00:00\", \"2020-02-25T00:00:00\", \"2020-02-26T00:00:00\", \"2020-02-27T00:00:00\", \"2020-02-28T00:00:00\", \"2020-02-29T00:00:00\", \"2020-03-01T00:00:00\", \"2020-03-02T00:00:00\", \"2020-03-03T00:00:00\", \"2020-03-04T00:00:00\", \"2020-03-05T00:00:00\", \"2020-03-06T00:00:00\", \"2020-03-07T00:00:00\", \"2020-03-08T00:00:00\", \"2020-03-09T00:00:00\", \"2020-03-10T00:00:00\", \"2020-03-11T00:00:00\", \"2020-03-12T00:00:00\", \"2020-03-13T00:00:00\", \"2020-03-14T00:00:00\", \"2020-03-15T00:00:00\", \"2020-03-16T00:00:00\", \"2020-03-17T00:00:00\", \"2020-03-18T00:00:00\", \"2020-03-19T00:00:00\", \"2020-03-20T00:00:00\", \"2020-03-21T00:00:00\", \"2020-03-22T00:00:00\", \"2020-03-23T00:00:00\", \"2020-03-24T00:00:00\", \"2020-03-25T00:00:00\", \"2020-03-26T00:00:00\", \"2020-03-27T00:00:00\", \"2020-03-28T00:00:00\", \"2020-03-29T00:00:00\", \"2020-03-30T00:00:00\", \"2020-03-31T00:00:00\", \"2020-04-01T00:00:00\", \"2020-04-02T00:00:00\"], \"y\": [null, null, 0.0, 0.0, 0.0, 0.0, 0.0, 0.0, 0.0, 0.0, 0.0, 0.3333333333333333, 0.3333333333333333, 0.3333333333333333, 0.0, 0.0, 0.0, 0.0, 0.0, 0.0, 0.0, 0.0, 0.0, 0.0, 0.0, 0.0, 0.0, 0.0, 0.0, 0.0, 0.0, 0.0, 0.0, 0.0, 0.0, 0.0, 0.0, 0.3333333333333333, 2.3333333333333335, 4.0, 7.0, 14.0, 32.0, 48.666666666666664, 50.0, 43.333333333333336, 32.666666666666664, 38.0, 25.0, 97.33333333333333, 125.0, 190.66666666666666, 166.33333333333334, 184.66666666666666, 200.0, 245.66666666666666, 338.0, 443.0, 535.3333333333334, 495.3333333333333, 484.6666666666667, 512.0, 830.6666666666666, 1005.0, 1399.0, 1533.6666666666667, 1538.3333333333333, 1213.6666666666667, 1042.6666666666667, 1149.6666666666667, null]}, {\"hoverinfo\": \"y\", \"hoverlabel\": {\"bgcolor\": \"white\", \"bordercolor\": \"gray\", \"font\": {\"color\": \"gray\"}}, \"hovertext\": \"Belgium\", \"marker\": {\"color\": \"#FF9E1B\"}, \"name\": \"Actual data\", \"opacity\": 0.3, \"type\": \"bar\", \"x\": [\"2020-01-23T00:00:00\", \"2020-01-24T00:00:00\", \"2020-01-25T00:00:00\", \"2020-01-26T00:00:00\", \"2020-01-27T00:00:00\", \"2020-01-28T00:00:00\", \"2020-01-29T00:00:00\", \"2020-01-30T00:00:00\", \"2020-01-31T00:00:00\", \"2020-02-01T00:00:00\", \"2020-02-02T00:00:00\", \"2020-02-03T00:00:00\", \"2020-02-04T00:00:00\", \"2020-02-05T00:00:00\", \"2020-02-06T00:00:00\", \"2020-02-07T00:00:00\", \"2020-02-08T00:00:00\", \"2020-02-09T00:00:00\", \"2020-02-10T00:00:00\", \"2020-02-11T00:00:00\", \"2020-02-12T00:00:00\", \"2020-02-13T00:00:00\", \"2020-02-14T00:00:00\", \"2020-02-15T00:00:00\", \"2020-02-16T00:00:00\", \"2020-02-17T00:00:00\", \"2020-02-18T00:00:00\", \"2020-02-19T00:00:00\", \"2020-02-20T00:00:00\", \"2020-02-21T00:00:00\", \"2020-02-22T00:00:00\", \"2020-02-23T00:00:00\", \"2020-02-24T00:00:00\", \"2020-02-25T00:00:00\", \"2020-02-26T00:00:00\", \"2020-02-27T00:00:00\", \"2020-02-28T00:00:00\", \"2020-02-29T00:00:00\", \"2020-03-01T00:00:00\", \"2020-03-02T00:00:00\", \"2020-03-03T00:00:00\", \"2020-03-04T00:00:00\", \"2020-03-05T00:00:00\", \"2020-03-06T00:00:00\", \"2020-03-07T00:00:00\", \"2020-03-08T00:00:00\", \"2020-03-09T00:00:00\", \"2020-03-10T00:00:00\", \"2020-03-11T00:00:00\", \"2020-03-12T00:00:00\", \"2020-03-13T00:00:00\", \"2020-03-14T00:00:00\", \"2020-03-15T00:00:00\", \"2020-03-16T00:00:00\", \"2020-03-17T00:00:00\", \"2020-03-18T00:00:00\", \"2020-03-19T00:00:00\", \"2020-03-20T00:00:00\", \"2020-03-21T00:00:00\", \"2020-03-22T00:00:00\", \"2020-03-23T00:00:00\", \"2020-03-24T00:00:00\", \"2020-03-25T00:00:00\", \"2020-03-26T00:00:00\", \"2020-03-27T00:00:00\", \"2020-03-28T00:00:00\", \"2020-03-29T00:00:00\", \"2020-03-30T00:00:00\", \"2020-03-31T00:00:00\", \"2020-04-01T00:00:00\", \"2020-04-02T00:00:00\"], \"y\": [null, 0.0, 0.0, 0.0, 0.0, 0.0, 0.0, 0.0, 0.0, 0.0, 0.0, 0.0, 1.0, 0.0, 0.0, 0.0, 0.0, 0.0, 0.0, 0.0, 0.0, 0.0, 0.0, 0.0, 0.0, 0.0, 0.0, 0.0, 0.0, 0.0, 0.0, 0.0, 0.0, 0.0, 0.0, 0.0, 0.0, 0.0, 1.0, 6.0, 5.0, 10.0, 27.0, 59.0, 60.0, 31.0, 39.0, 28.0, 47.0, 0.0, 245.0, 130.0, 197.0, 172.0, 185.0, 243.0, 309.0, 462.0, 558.0, 586.0, 342.0, 526.0, 668.0, 1298.0, 1049.0, 1850.0, 1702.0, 1063.0, 876.0, 1189.0, 1384.0]}],\n",
       "                        {\"font\": {\"color\": \"dimgray\", \"family\": \"Gentona, Tahoma, sans-serif\", \"size\": 12}, \"height\": 500, \"hovermode\": \"closest\", \"legend\": {\"orientation\": \"h\", \"x\": 0.0, \"y\": -0.1}, \"margin\": {\"b\": 100, \"l\": 50, \"pad\": 0, \"r\": 20, \"t\": 30}, \"showlegend\": true, \"template\": {\"data\": {\"bar\": [{\"error_x\": {\"color\": \"#2a3f5f\"}, \"error_y\": {\"color\": \"#2a3f5f\"}, \"marker\": {\"line\": {\"color\": \"#E5ECF6\", \"width\": 0.5}}, \"type\": \"bar\"}], \"barpolar\": [{\"marker\": {\"line\": {\"color\": \"#E5ECF6\", \"width\": 0.5}}, \"type\": \"barpolar\"}], \"carpet\": [{\"aaxis\": {\"endlinecolor\": \"#2a3f5f\", \"gridcolor\": \"white\", \"linecolor\": \"white\", \"minorgridcolor\": \"white\", \"startlinecolor\": \"#2a3f5f\"}, \"baxis\": {\"endlinecolor\": \"#2a3f5f\", \"gridcolor\": \"white\", \"linecolor\": \"white\", \"minorgridcolor\": \"white\", \"startlinecolor\": \"#2a3f5f\"}, \"type\": \"carpet\"}], \"choropleth\": [{\"colorbar\": {\"outlinewidth\": 0, \"ticks\": \"\"}, \"type\": \"choropleth\"}], \"contour\": [{\"colorbar\": {\"outlinewidth\": 0, \"ticks\": \"\"}, \"colorscale\": [[0.0, \"#0d0887\"], [0.1111111111111111, \"#46039f\"], [0.2222222222222222, \"#7201a8\"], [0.3333333333333333, \"#9c179e\"], [0.4444444444444444, \"#bd3786\"], [0.5555555555555556, \"#d8576b\"], [0.6666666666666666, \"#ed7953\"], [0.7777777777777778, \"#fb9f3a\"], [0.8888888888888888, \"#fdca26\"], [1.0, \"#f0f921\"]], \"type\": \"contour\"}], \"contourcarpet\": [{\"colorbar\": {\"outlinewidth\": 0, \"ticks\": \"\"}, \"type\": \"contourcarpet\"}], \"heatmap\": [{\"colorbar\": {\"outlinewidth\": 0, \"ticks\": \"\"}, \"colorscale\": [[0.0, \"#0d0887\"], [0.1111111111111111, \"#46039f\"], [0.2222222222222222, \"#7201a8\"], [0.3333333333333333, \"#9c179e\"], [0.4444444444444444, \"#bd3786\"], [0.5555555555555556, \"#d8576b\"], [0.6666666666666666, \"#ed7953\"], [0.7777777777777778, \"#fb9f3a\"], [0.8888888888888888, \"#fdca26\"], [1.0, \"#f0f921\"]], \"type\": \"heatmap\"}], \"heatmapgl\": [{\"colorbar\": {\"outlinewidth\": 0, \"ticks\": \"\"}, \"colorscale\": [[0.0, \"#0d0887\"], [0.1111111111111111, \"#46039f\"], [0.2222222222222222, \"#7201a8\"], [0.3333333333333333, \"#9c179e\"], [0.4444444444444444, \"#bd3786\"], [0.5555555555555556, \"#d8576b\"], [0.6666666666666666, \"#ed7953\"], [0.7777777777777778, \"#fb9f3a\"], [0.8888888888888888, \"#fdca26\"], [1.0, \"#f0f921\"]], \"type\": \"heatmapgl\"}], \"histogram\": [{\"marker\": {\"colorbar\": {\"outlinewidth\": 0, \"ticks\": \"\"}}, \"type\": \"histogram\"}], \"histogram2d\": [{\"colorbar\": {\"outlinewidth\": 0, \"ticks\": \"\"}, \"colorscale\": [[0.0, \"#0d0887\"], [0.1111111111111111, \"#46039f\"], [0.2222222222222222, \"#7201a8\"], [0.3333333333333333, \"#9c179e\"], [0.4444444444444444, \"#bd3786\"], [0.5555555555555556, \"#d8576b\"], [0.6666666666666666, \"#ed7953\"], [0.7777777777777778, \"#fb9f3a\"], [0.8888888888888888, \"#fdca26\"], [1.0, \"#f0f921\"]], \"type\": \"histogram2d\"}], \"histogram2dcontour\": [{\"colorbar\": {\"outlinewidth\": 0, \"ticks\": \"\"}, \"colorscale\": [[0.0, \"#0d0887\"], [0.1111111111111111, \"#46039f\"], [0.2222222222222222, \"#7201a8\"], [0.3333333333333333, \"#9c179e\"], [0.4444444444444444, \"#bd3786\"], [0.5555555555555556, \"#d8576b\"], [0.6666666666666666, \"#ed7953\"], [0.7777777777777778, \"#fb9f3a\"], [0.8888888888888888, \"#fdca26\"], [1.0, \"#f0f921\"]], \"type\": \"histogram2dcontour\"}], \"mesh3d\": [{\"colorbar\": {\"outlinewidth\": 0, \"ticks\": \"\"}, \"type\": \"mesh3d\"}], \"parcoords\": [{\"line\": {\"colorbar\": {\"outlinewidth\": 0, \"ticks\": \"\"}}, \"type\": \"parcoords\"}], \"pie\": [{\"automargin\": true, \"type\": \"pie\"}], \"scatter\": [{\"marker\": {\"colorbar\": {\"outlinewidth\": 0, \"ticks\": \"\"}}, \"type\": \"scatter\"}], \"scatter3d\": [{\"line\": {\"colorbar\": {\"outlinewidth\": 0, \"ticks\": \"\"}}, \"marker\": {\"colorbar\": {\"outlinewidth\": 0, \"ticks\": \"\"}}, \"type\": \"scatter3d\"}], \"scattercarpet\": [{\"marker\": {\"colorbar\": {\"outlinewidth\": 0, \"ticks\": \"\"}}, \"type\": \"scattercarpet\"}], \"scattergeo\": [{\"marker\": {\"colorbar\": {\"outlinewidth\": 0, \"ticks\": \"\"}}, \"type\": \"scattergeo\"}], \"scattergl\": [{\"marker\": {\"colorbar\": {\"outlinewidth\": 0, \"ticks\": \"\"}}, \"type\": \"scattergl\"}], \"scattermapbox\": [{\"marker\": {\"colorbar\": {\"outlinewidth\": 0, \"ticks\": \"\"}}, \"type\": \"scattermapbox\"}], \"scatterpolar\": [{\"marker\": {\"colorbar\": {\"outlinewidth\": 0, \"ticks\": \"\"}}, \"type\": \"scatterpolar\"}], \"scatterpolargl\": [{\"marker\": {\"colorbar\": {\"outlinewidth\": 0, \"ticks\": \"\"}}, \"type\": \"scatterpolargl\"}], \"scatterternary\": [{\"marker\": {\"colorbar\": {\"outlinewidth\": 0, \"ticks\": \"\"}}, \"type\": \"scatterternary\"}], \"surface\": [{\"colorbar\": {\"outlinewidth\": 0, \"ticks\": \"\"}, \"colorscale\": [[0.0, \"#0d0887\"], [0.1111111111111111, \"#46039f\"], [0.2222222222222222, \"#7201a8\"], [0.3333333333333333, \"#9c179e\"], [0.4444444444444444, \"#bd3786\"], [0.5555555555555556, \"#d8576b\"], [0.6666666666666666, \"#ed7953\"], [0.7777777777777778, \"#fb9f3a\"], [0.8888888888888888, \"#fdca26\"], [1.0, \"#f0f921\"]], \"type\": \"surface\"}], \"table\": [{\"cells\": {\"fill\": {\"color\": \"#EBF0F8\"}, \"line\": {\"color\": \"white\"}}, \"header\": {\"fill\": {\"color\": \"#C8D4E3\"}, \"line\": {\"color\": \"white\"}}, \"type\": \"table\"}]}, \"layout\": {\"annotationdefaults\": {\"arrowcolor\": \"#2a3f5f\", \"arrowhead\": 0, \"arrowwidth\": 1}, \"coloraxis\": {\"colorbar\": {\"outlinewidth\": 0, \"ticks\": \"\"}}, \"colorscale\": {\"diverging\": [[0, \"#8e0152\"], [0.1, \"#c51b7d\"], [0.2, \"#de77ae\"], [0.3, \"#f1b6da\"], [0.4, \"#fde0ef\"], [0.5, \"#f7f7f7\"], [0.6, \"#e6f5d0\"], [0.7, \"#b8e186\"], [0.8, \"#7fbc41\"], [0.9, \"#4d9221\"], [1, \"#276419\"]], \"sequential\": [[0.0, \"#0d0887\"], [0.1111111111111111, \"#46039f\"], [0.2222222222222222, \"#7201a8\"], [0.3333333333333333, \"#9c179e\"], [0.4444444444444444, \"#bd3786\"], [0.5555555555555556, \"#d8576b\"], [0.6666666666666666, \"#ed7953\"], [0.7777777777777778, \"#fb9f3a\"], [0.8888888888888888, \"#fdca26\"], [1.0, \"#f0f921\"]], \"sequentialminus\": [[0.0, \"#0d0887\"], [0.1111111111111111, \"#46039f\"], [0.2222222222222222, \"#7201a8\"], [0.3333333333333333, \"#9c179e\"], [0.4444444444444444, \"#bd3786\"], [0.5555555555555556, \"#d8576b\"], [0.6666666666666666, \"#ed7953\"], [0.7777777777777778, \"#fb9f3a\"], [0.8888888888888888, \"#fdca26\"], [1.0, \"#f0f921\"]]}, \"colorway\": [\"#636efa\", \"#EF553B\", \"#00cc96\", \"#ab63fa\", \"#FFA15A\", \"#19d3f3\", \"#FF6692\", \"#B6E880\", \"#FF97FF\", \"#FECB52\"], \"font\": {\"color\": \"#2a3f5f\"}, \"geo\": {\"bgcolor\": \"white\", \"lakecolor\": \"white\", \"landcolor\": \"#E5ECF6\", \"showlakes\": true, \"showland\": true, \"subunitcolor\": \"white\"}, \"hoverlabel\": {\"align\": \"left\"}, \"hovermode\": \"closest\", \"mapbox\": {\"style\": \"light\"}, \"paper_bgcolor\": \"white\", \"plot_bgcolor\": \"#E5ECF6\", \"polar\": {\"angularaxis\": {\"gridcolor\": \"white\", \"linecolor\": \"white\", \"ticks\": \"\"}, \"bgcolor\": \"#E5ECF6\", \"radialaxis\": {\"gridcolor\": \"white\", \"linecolor\": \"white\", \"ticks\": \"\"}}, \"scene\": {\"xaxis\": {\"backgroundcolor\": \"#E5ECF6\", \"gridcolor\": \"white\", \"gridwidth\": 2, \"linecolor\": \"white\", \"showbackground\": true, \"ticks\": \"\", \"zerolinecolor\": \"white\"}, \"yaxis\": {\"backgroundcolor\": \"#E5ECF6\", \"gridcolor\": \"white\", \"gridwidth\": 2, \"linecolor\": \"white\", \"showbackground\": true, \"ticks\": \"\", \"zerolinecolor\": \"white\"}, \"zaxis\": {\"backgroundcolor\": \"#E5ECF6\", \"gridcolor\": \"white\", \"gridwidth\": 2, \"linecolor\": \"white\", \"showbackground\": true, \"ticks\": \"\", \"zerolinecolor\": \"white\"}}, \"shapedefaults\": {\"line\": {\"color\": \"#2a3f5f\"}}, \"ternary\": {\"aaxis\": {\"gridcolor\": \"white\", \"linecolor\": \"white\", \"ticks\": \"\"}, \"baxis\": {\"gridcolor\": \"white\", \"linecolor\": \"white\", \"ticks\": \"\"}, \"bgcolor\": \"#E5ECF6\", \"caxis\": {\"gridcolor\": \"white\", \"linecolor\": \"white\", \"ticks\": \"\"}}, \"title\": {\"x\": 0.05}, \"xaxis\": {\"automargin\": true, \"gridcolor\": \"white\", \"linecolor\": \"white\", \"ticks\": \"\", \"title\": {\"standoff\": 15}, \"zerolinecolor\": \"white\", \"zerolinewidth\": 2}, \"yaxis\": {\"automargin\": true, \"gridcolor\": \"white\", \"linecolor\": \"white\", \"ticks\": \"\", \"title\": {\"standoff\": 15}, \"zerolinecolor\": \"white\", \"zerolinewidth\": 2}}}, \"width\": 600, \"xaxis\": {\"rangemode\": \"nonnegative\", \"showgrid\": false, \"tickcolor\": \"#eee\", \"ticklen\": 12, \"ticks\": \"inside\", \"zeroline\": false}, \"yaxis\": {\"showgrid\": true, \"title\": {\"text\": \"Confirmed new cases\"}, \"type\": \"linear\"}},\n",
       "                        {\"responsive\": true}\n",
       "                    ).then(function(){\n",
       "                            \n",
       "var gd = document.getElementById('db5c8903-d88e-4aa8-bb88-9e5659af9673');\n",
       "var x = new MutationObserver(function (mutations, observer) {{\n",
       "        var display = window.getComputedStyle(gd).display;\n",
       "        if (!display || display === 'none') {{\n",
       "            console.log([gd, 'removed!']);\n",
       "            Plotly.purge(gd);\n",
       "            observer.disconnect();\n",
       "        }}\n",
       "}});\n",
       "\n",
       "// Listen for the removal of the full notebook cells\n",
       "var notebookContainer = gd.closest('#notebook-container');\n",
       "if (notebookContainer) {{\n",
       "    x.observe(notebookContainer, {childList: true});\n",
       "}}\n",
       "\n",
       "// Listen for the clearing of the current output cell\n",
       "var outputEl = gd.closest('.output');\n",
       "if (outputEl) {{\n",
       "    x.observe(outputEl, {childList: true});\n",
       "}}\n",
       "\n",
       "                        })\n",
       "                };\n",
       "                });\n",
       "            </script>\n",
       "        </div>"
      ]
     },
     "metadata": {},
     "output_type": "display_data"
    }
   ],
   "source": [
    "# Plot\n",
    "\n",
    "for i, c in enumerate(top10_country):\n",
    "    data = []\n",
    "    nc = df_merged[df_merged['Country/Region'] == c].confirmed_newcases_movavg\n",
    "    ncp = df_merged[df_merged['Country/Region'] == c].confirmed_newcases_by100000pop_movavg\n",
    "    \n",
    "    data.append(go.Scatter(x = df_merged[df_merged['Country/Region'] == c].dt,\n",
    "                           y = nc,\n",
    "                           name = '5-day moving average',\n",
    "                           marker = dict(color = '#FF9E1B'),\n",
    "                           hoverinfo = 'skip',\n",
    "                           hovertext = ['{:.0f}'.format(i) for i in nc],\n",
    "                           hoverlabel = dict(bordercolor = 'gray',\n",
    "                                             bgcolor = 'white',\n",
    "                                             font = dict(color = 'gray'),\n",
    "                                             )\n",
    "                           )\n",
    "                ),\n",
    "    data.append(go.Bar(x = df_merged[df_merged['Country/Region'] == c].dt,\n",
    "                       y = df_merged[df_merged['Country/Region'] == c].confirmed_newcases,\n",
    "                       name = 'Actual data',\n",
    "                       opacity = 0.3,\n",
    "                       marker = dict(color = '#FF9E1B'),\n",
    "                       hoverinfo = 'y',\n",
    "                       hovertext = c,\n",
    "                       hoverlabel = dict(bordercolor = 'gray',\n",
    "                                         bgcolor = 'white',\n",
    "                                         font = dict(color = 'gray'),\n",
    "                                         ),\n",
    "                       )\n",
    "                )\n",
    "    \n",
    "    lay = go.Layout(width = 600,\n",
    "                    height = 500,\n",
    "                    xaxis = dict(#nticks = 10,\n",
    "                                 ticks = 'inside',\n",
    "                                 ticklen = 12,\n",
    "                                 tickcolor = '#eee',\n",
    "                                 rangemode = 'nonnegative',\n",
    "                                 zeroline = False,\n",
    "                                 showgrid = False,\n",
    "                                 ),\n",
    "                    yaxis = dict(title='Confirmed new cases',\n",
    "                                 type = 'linear',\n",
    "                                 showgrid = True,\n",
    "                                 ),\n",
    "                    hovermode = 'closest',\n",
    "                    font = dict(size = label_size,\n",
    "                                family = label_font,\n",
    "                                color = label_col,\n",
    "                                ),\n",
    "                    showlegend = True,\n",
    "                    legend = dict(x = 0.0, \n",
    "                                  y = -0.1,\n",
    "                                  orientation = 'h'\n",
    "                                 ),\n",
    "                    margin=dict(l=50, r=20, b=100, t=30, pad=0),\n",
    "               )\n",
    "          \n",
    "                \n",
    "    fig = dict(data=data, layout=lay)\n",
    "    plot = plotly.offline.plot({'data':data,\n",
    "                               'layout':lay},\n",
    "                               include_plotlyjs = False,\n",
    "                               output_type = 'div',\n",
    "                               config = dict(showLink = False,\n",
    "                                             modeBarButtonsToRemove = ['sendDataToCloud'],\n",
    "                                             displaylogo = False,\n",
    "                                             responsive = True)\n",
    "                               )\n",
    "    # Save JS\n",
    "    path = '../visuals/new_cases/'\n",
    "    out_file = open(path+'timeline_newcases_date_'+str(i)+'.html', 'w')\n",
    "    out_file.write('<!DOCTYPE html><html><head><script src=\"https://cdn.plot.ly/plotly-latest.min.js\"></script></head><body>')\n",
    "    out_file.write(plot)\n",
    "    out_file.write('</body><html>')\n",
    "    out_file.close()\n",
    "    \n",
    "plotly.offline.iplot(fig)\n"
   ]
  },
  {
   "cell_type": "code",
   "execution_count": 27,
   "metadata": {},
   "outputs": [
    {
     "data": {
      "text/html": [
       "<div>\n",
       "<style scoped>\n",
       "    .dataframe tbody tr th:only-of-type {\n",
       "        vertical-align: middle;\n",
       "    }\n",
       "\n",
       "    .dataframe tbody tr th {\n",
       "        vertical-align: top;\n",
       "    }\n",
       "\n",
       "    .dataframe thead th {\n",
       "        text-align: right;\n",
       "    }\n",
       "</style>\n",
       "<table border=\"1\" class=\"dataframe\">\n",
       "  <thead>\n",
       "    <tr style=\"text-align: right;\">\n",
       "      <th></th>\n",
       "      <th>days_since_1st_conf</th>\n",
       "      <th>date_first_confirmed</th>\n",
       "      <th>confirmed</th>\n",
       "      <th>deaths</th>\n",
       "      <th>trend</th>\n",
       "      <th>graph_number</th>\n",
       "      <th>last_update</th>\n",
       "    </tr>\n",
       "    <tr>\n",
       "      <th>Country/Region</th>\n",
       "      <th></th>\n",
       "      <th></th>\n",
       "      <th></th>\n",
       "      <th></th>\n",
       "      <th></th>\n",
       "      <th></th>\n",
       "      <th></th>\n",
       "    </tr>\n",
       "  </thead>\n",
       "  <tbody>\n",
       "    <tr>\n",
       "      <th>Italy</th>\n",
       "      <td>62</td>\n",
       "      <td>2020-01-31</td>\n",
       "      <td>115242</td>\n",
       "      <td>13915</td>\n",
       "      <td>down</td>\n",
       "      <td>0</td>\n",
       "      <td>2020-04-02 21:29:39.362939-04:00</td>\n",
       "    </tr>\n",
       "    <tr>\n",
       "      <th>Spain</th>\n",
       "      <td>61</td>\n",
       "      <td>2020-02-01</td>\n",
       "      <td>112065</td>\n",
       "      <td>10348</td>\n",
       "      <td>up</td>\n",
       "      <td>1</td>\n",
       "      <td>2020-04-02 21:29:39.362939-04:00</td>\n",
       "    </tr>\n",
       "    <tr>\n",
       "      <th>US</th>\n",
       "      <td>70</td>\n",
       "      <td>2020-01-23</td>\n",
       "      <td>243453</td>\n",
       "      <td>5926</td>\n",
       "      <td>up</td>\n",
       "      <td>2</td>\n",
       "      <td>2020-04-02 21:29:39.362939-04:00</td>\n",
       "    </tr>\n",
       "    <tr>\n",
       "      <th>France</th>\n",
       "      <td>69</td>\n",
       "      <td>2020-01-24</td>\n",
       "      <td>59929</td>\n",
       "      <td>5398</td>\n",
       "      <td>up</td>\n",
       "      <td>3</td>\n",
       "      <td>2020-04-02 21:29:39.362939-04:00</td>\n",
       "    </tr>\n",
       "    <tr>\n",
       "      <th>China</th>\n",
       "      <td>93</td>\n",
       "      <td>2019-12-31</td>\n",
       "      <td>82432</td>\n",
       "      <td>3322</td>\n",
       "      <td>down</td>\n",
       "      <td>4</td>\n",
       "      <td>2020-04-02 21:29:39.362939-04:00</td>\n",
       "    </tr>\n",
       "    <tr>\n",
       "      <th>Iran</th>\n",
       "      <td>43</td>\n",
       "      <td>2020-02-19</td>\n",
       "      <td>50468</td>\n",
       "      <td>3160</td>\n",
       "      <td>down</td>\n",
       "      <td>5</td>\n",
       "      <td>2020-04-02 21:29:39.362939-04:00</td>\n",
       "    </tr>\n",
       "    <tr>\n",
       "      <th>United Kingdom</th>\n",
       "      <td>62</td>\n",
       "      <td>2020-01-31</td>\n",
       "      <td>34173</td>\n",
       "      <td>2926</td>\n",
       "      <td>up</td>\n",
       "      <td>6</td>\n",
       "      <td>2020-04-02 21:29:39.362939-04:00</td>\n",
       "    </tr>\n",
       "    <tr>\n",
       "      <th>Netherlands</th>\n",
       "      <td>35</td>\n",
       "      <td>2020-02-27</td>\n",
       "      <td>14788</td>\n",
       "      <td>1341</td>\n",
       "      <td>down</td>\n",
       "      <td>7</td>\n",
       "      <td>2020-04-02 21:29:39.362939-04:00</td>\n",
       "    </tr>\n",
       "    <tr>\n",
       "      <th>Germany</th>\n",
       "      <td>66</td>\n",
       "      <td>2020-01-27</td>\n",
       "      <td>84794</td>\n",
       "      <td>1107</td>\n",
       "      <td>up</td>\n",
       "      <td>8</td>\n",
       "      <td>2020-04-02 21:29:39.362939-04:00</td>\n",
       "    </tr>\n",
       "    <tr>\n",
       "      <th>Belgium</th>\n",
       "      <td>58</td>\n",
       "      <td>2020-02-04</td>\n",
       "      <td>15348</td>\n",
       "      <td>1011</td>\n",
       "      <td>down</td>\n",
       "      <td>9</td>\n",
       "      <td>2020-04-02 21:29:39.362939-04:00</td>\n",
       "    </tr>\n",
       "  </tbody>\n",
       "</table>\n",
       "</div>"
      ],
      "text/plain": [
       "                days_since_1st_conf date_first_confirmed  confirmed  deaths  \\\n",
       "Country/Region                                                                \n",
       "Italy                            62           2020-01-31     115242   13915   \n",
       "Spain                            61           2020-02-01     112065   10348   \n",
       "US                               70           2020-01-23     243453    5926   \n",
       "France                           69           2020-01-24      59929    5398   \n",
       "China                            93           2019-12-31      82432    3322   \n",
       "Iran                             43           2020-02-19      50468    3160   \n",
       "United Kingdom                   62           2020-01-31      34173    2926   \n",
       "Netherlands                      35           2020-02-27      14788    1341   \n",
       "Germany                          66           2020-01-27      84794    1107   \n",
       "Belgium                          58           2020-02-04      15348    1011   \n",
       "\n",
       "               trend  graph_number                      last_update  \n",
       "Country/Region                                                       \n",
       "Italy           down             0 2020-04-02 21:29:39.362939-04:00  \n",
       "Spain             up             1 2020-04-02 21:29:39.362939-04:00  \n",
       "US                up             2 2020-04-02 21:29:39.362939-04:00  \n",
       "France            up             3 2020-04-02 21:29:39.362939-04:00  \n",
       "China           down             4 2020-04-02 21:29:39.362939-04:00  \n",
       "Iran            down             5 2020-04-02 21:29:39.362939-04:00  \n",
       "United Kingdom    up             6 2020-04-02 21:29:39.362939-04:00  \n",
       "Netherlands     down             7 2020-04-02 21:29:39.362939-04:00  \n",
       "Germany           up             8 2020-04-02 21:29:39.362939-04:00  \n",
       "Belgium         down             9 2020-04-02 21:29:39.362939-04:00  "
      ]
     },
     "execution_count": 27,
     "metadata": {},
     "output_type": "execute_result"
    }
   ],
   "source": [
    "# Data to JSON\n",
    "most_recent_day = df_merged.sort_values('dt').dt.unique()[-3]\n",
    "tmp = df_merged[ (df_merged['dt'] == most_recent_day) & (df_merged['Country/Region'].isin(top10_country))].copy()\n",
    "\n",
    "def up_or_down(x):\n",
    "    if (x>=1):\n",
    "        return 'up'\n",
    "    else:\n",
    "        return 'down'\n",
    "\n",
    "tmp['trend'] = tmp.apply(lambda x: up_or_down(x['confirmed_newcases_growth_movavg']), axis=1)\n",
    "trend = tmp[['Country/Region', 'trend']].copy()\n",
    "\n",
    "most_recent_day = df_merged.sort_values('dt').dt.unique()[-1]\n",
    "tmp = df_merged[ (df_merged['dt'] == most_recent_day) & (df_merged['Country/Region'].isin(top10_country))].copy()\n",
    "tmp.sort_values(by = 'deaths', ascending = False, inplace = True)\n",
    "tmp = tmp[['Country/Region', 'days_since_1st_conf', 'first_confirmed', \n",
    "           'confirmed', 'deaths']]\n",
    "tmp = tmp.merge(trend, on = 'Country/Region')\n",
    "tmp['graph_number'] = np.arange(10)\n",
    "tmp['last_update'] = pd.Timestamp.now(tz='US/Eastern')\n",
    "tmp.set_index('Country/Region', inplace = True)\n",
    "tmp.rename(columns={'Country/Region': 'country',\n",
    "                    'first_confirmed': 'date_first_confirmed',\n",
    "                   }, inplace = True)\n",
    "path = '../visuals/new_cases/'\n",
    "tmp.to_json(path+'country_info.json', orient = 'columns')\n",
    "\n",
    "tmp\n"
   ]
  },
  {
   "cell_type": "markdown",
   "metadata": {},
   "source": [
    "## <span style=\"color:orange\">Mortality rates</span>\n",
    "<hr style=\"border: 1px solid #D3D3D3\" >\n",
    "\n"
   ]
  },
  {
   "cell_type": "code",
   "execution_count": 48,
   "metadata": {},
   "outputs": [
    {
     "data": {
      "application/vnd.plotly.v1+json": {
       "config": {
        "linkText": "Export to plot.ly",
        "plotlyServerURL": "https://plot.ly",
        "showLink": false
       },
       "data": [
        {
         "hoverinfo": "skip",
         "hoverlabel": {
          "bgcolor": "white",
          "bordercolor": [
           "#286140",
           "#E8927C",
           "#51284F",
           "#A192B2",
           "#F1C400",
           "#418FDE",
           "#A6192E",
           "#86C8BC",
           "#FF6900",
           "#719949"
          ],
          "font": {
           "color": [
            "#286140",
            "#E8927C",
            "#51284F",
            "#A192B2",
            "#F1C400",
            "#418FDE",
            "#A6192E",
            "#86C8BC",
            "#FF6900",
            "#719949"
           ]
          }
         },
         "hovertext": [
          "Mortality:<br>{:.2f}%",
          "Mortality:<br>{:.2f}%",
          "Mortality:<br>{:.2f}%",
          "Mortality:<br>{:.2f}%",
          "Mortality:<br>{:.2f}%",
          "Mortality:<br>{:.2f}%",
          "Mortality:<br>{:.2f}%",
          "Mortality:<br>{:.2f}%",
          "Mortality:<br>{:.2f}%",
          "Mortality:<br>{:.2f}%"
         ],
         "marker": {
          "color": "#FF9E1B"
         },
         "name": "mort_conf",
         "opacity": 0.6,
         "orientation": "h",
         "text": [
          "0.01%",
          "0.02%",
          "0.04%",
          "0.06%",
          "0.07%",
          "0.09%",
          "0.09%",
          "0.09%",
          "0.09%",
          "Mortality: 0.12%"
         ],
         "textfont": {
          "color": "black"
         },
         "textposition": "auto",
         "type": "bar",
         "width": 0.6,
         "x": [
          1.305516899780645,
          2.4341453997280786,
          4.029988354037267,
          6.2613933581675525,
          6.587177482408131,
          8.562315278143563,
          9.007325334979727,
          9.068163375710036,
          9.233926738946147,
          12.074590860970828
         ],
         "y": [
          "Germany",
          "US",
          "China",
          "Iran",
          "Belgium",
          "United Kingdom",
          "France",
          "Netherlands",
          "Spain",
          "Italy"
         ]
        },
        {
         "hoverinfo": "skip",
         "hoverlabel": {
          "bgcolor": "white",
          "bordercolor": [
           "#51284F",
           "#286140",
           "#E8927C",
           "#A192B2",
           "#418FDE",
           "#86C8BC",
           "#A6192E",
           "#F1C400",
           "#FF6900",
           "#719949"
          ],
          "font": {
           "color": [
            "#51284F",
            "#286140",
            "#E8927C",
            "#A192B2",
            "#418FDE",
            "#86C8BC",
            "#A6192E",
            "#F1C400",
            "#FF6900",
            "#719949"
           ]
          }
         },
         "hovertext": [
          "Mortality:<br>0.24",
          "Mortality:<br>1.33",
          "Mortality:<br>1.81",
          "Mortality:<br>3.86",
          "Mortality:<br>4.40",
          "Mortality:<br>7.78",
          "Mortality:<br>8.06",
          "Mortality:<br>8.85",
          "Mortality:<br>22.15",
          "Mortality:<br>23.03"
         ],
         "marker": {
          "color": "#FF9E1B"
         },
         "name": "mort_pop",
         "opacity": 0.6,
         "orientation": "h",
         "text": [
          "0.24",
          "1.33",
          "1.81",
          "3.86",
          "4.40",
          "7.78",
          "8.06",
          "8.85",
          "22.15",
          "Mortality: 23.03"
         ],
         "textfont": {
          "color": "black"
         },
         "textposition": "auto",
         "type": "bar",
         "visible": false,
         "width": 0.6,
         "x": [
          0.23852433709333468,
          1.3348941747268188,
          1.8113049723647006,
          3.863067980864464,
          4.4007285356458485,
          7.782477377858776,
          8.058250612609172,
          8.851286824767634,
          22.147195423038507,
          23.026153523829702
         ],
         "y": [
          "China",
          "Germany",
          "US",
          "Iran",
          "United Kingdom",
          "Netherlands",
          "France",
          "Belgium",
          "Spain",
          "Italy"
         ]
        }
       ],
       "layout": {
        "annotations": [
         {
          "font": {
           "color": "#002D72",
           "family": "Gentona, Tahoma, sans-serif",
           "size": 24
          },
          "showarrow": false,
          "text": "",
          "x": 0.02,
          "xref": "paper",
          "y": 1.2,
          "yref": "paper"
         },
         {
          "font": {
           "color": "grey",
           "family": "Gentona, Tahoma, sans-serif",
           "size": 18
          },
          "showarrow": false,
          "text": "",
          "x": 0.02,
          "xref": "paper",
          "y": 1.1,
          "yref": "paper"
         },
         {
          "font": {
           "color": "dimgray",
           "family": "Gentona, Tahoma, sans-serif",
           "size": 12
          },
          "showarrow": false,
          "text": "",
          "x": 1.4,
          "xref": "paper",
          "y": 0.95,
          "yref": "paper"
         }
        ],
        "font": {
         "color": "dimgray",
         "family": "Gentona, Tahoma, sans-serif",
         "size": 12
        },
        "height": 500,
        "hovermode": "closest",
        "legend": {
         "x": 1.03,
         "y": 0.7
        },
        "margin": {
         "b": 100,
         "l": 120,
         "pad": 4,
         "r": 50,
         "t": 100
        },
        "plot_bgcolor": "white",
        "template": {
         "data": {
          "bar": [
           {
            "error_x": {
             "color": "#2a3f5f"
            },
            "error_y": {
             "color": "#2a3f5f"
            },
            "marker": {
             "line": {
              "color": "#E5ECF6",
              "width": 0.5
             }
            },
            "type": "bar"
           }
          ],
          "barpolar": [
           {
            "marker": {
             "line": {
              "color": "#E5ECF6",
              "width": 0.5
             }
            },
            "type": "barpolar"
           }
          ],
          "carpet": [
           {
            "aaxis": {
             "endlinecolor": "#2a3f5f",
             "gridcolor": "white",
             "linecolor": "white",
             "minorgridcolor": "white",
             "startlinecolor": "#2a3f5f"
            },
            "baxis": {
             "endlinecolor": "#2a3f5f",
             "gridcolor": "white",
             "linecolor": "white",
             "minorgridcolor": "white",
             "startlinecolor": "#2a3f5f"
            },
            "type": "carpet"
           }
          ],
          "choropleth": [
           {
            "colorbar": {
             "outlinewidth": 0,
             "ticks": ""
            },
            "type": "choropleth"
           }
          ],
          "contour": [
           {
            "colorbar": {
             "outlinewidth": 0,
             "ticks": ""
            },
            "colorscale": [
             [
              0,
              "#0d0887"
             ],
             [
              0.1111111111111111,
              "#46039f"
             ],
             [
              0.2222222222222222,
              "#7201a8"
             ],
             [
              0.3333333333333333,
              "#9c179e"
             ],
             [
              0.4444444444444444,
              "#bd3786"
             ],
             [
              0.5555555555555556,
              "#d8576b"
             ],
             [
              0.6666666666666666,
              "#ed7953"
             ],
             [
              0.7777777777777778,
              "#fb9f3a"
             ],
             [
              0.8888888888888888,
              "#fdca26"
             ],
             [
              1,
              "#f0f921"
             ]
            ],
            "type": "contour"
           }
          ],
          "contourcarpet": [
           {
            "colorbar": {
             "outlinewidth": 0,
             "ticks": ""
            },
            "type": "contourcarpet"
           }
          ],
          "heatmap": [
           {
            "colorbar": {
             "outlinewidth": 0,
             "ticks": ""
            },
            "colorscale": [
             [
              0,
              "#0d0887"
             ],
             [
              0.1111111111111111,
              "#46039f"
             ],
             [
              0.2222222222222222,
              "#7201a8"
             ],
             [
              0.3333333333333333,
              "#9c179e"
             ],
             [
              0.4444444444444444,
              "#bd3786"
             ],
             [
              0.5555555555555556,
              "#d8576b"
             ],
             [
              0.6666666666666666,
              "#ed7953"
             ],
             [
              0.7777777777777778,
              "#fb9f3a"
             ],
             [
              0.8888888888888888,
              "#fdca26"
             ],
             [
              1,
              "#f0f921"
             ]
            ],
            "type": "heatmap"
           }
          ],
          "heatmapgl": [
           {
            "colorbar": {
             "outlinewidth": 0,
             "ticks": ""
            },
            "colorscale": [
             [
              0,
              "#0d0887"
             ],
             [
              0.1111111111111111,
              "#46039f"
             ],
             [
              0.2222222222222222,
              "#7201a8"
             ],
             [
              0.3333333333333333,
              "#9c179e"
             ],
             [
              0.4444444444444444,
              "#bd3786"
             ],
             [
              0.5555555555555556,
              "#d8576b"
             ],
             [
              0.6666666666666666,
              "#ed7953"
             ],
             [
              0.7777777777777778,
              "#fb9f3a"
             ],
             [
              0.8888888888888888,
              "#fdca26"
             ],
             [
              1,
              "#f0f921"
             ]
            ],
            "type": "heatmapgl"
           }
          ],
          "histogram": [
           {
            "marker": {
             "colorbar": {
              "outlinewidth": 0,
              "ticks": ""
             }
            },
            "type": "histogram"
           }
          ],
          "histogram2d": [
           {
            "colorbar": {
             "outlinewidth": 0,
             "ticks": ""
            },
            "colorscale": [
             [
              0,
              "#0d0887"
             ],
             [
              0.1111111111111111,
              "#46039f"
             ],
             [
              0.2222222222222222,
              "#7201a8"
             ],
             [
              0.3333333333333333,
              "#9c179e"
             ],
             [
              0.4444444444444444,
              "#bd3786"
             ],
             [
              0.5555555555555556,
              "#d8576b"
             ],
             [
              0.6666666666666666,
              "#ed7953"
             ],
             [
              0.7777777777777778,
              "#fb9f3a"
             ],
             [
              0.8888888888888888,
              "#fdca26"
             ],
             [
              1,
              "#f0f921"
             ]
            ],
            "type": "histogram2d"
           }
          ],
          "histogram2dcontour": [
           {
            "colorbar": {
             "outlinewidth": 0,
             "ticks": ""
            },
            "colorscale": [
             [
              0,
              "#0d0887"
             ],
             [
              0.1111111111111111,
              "#46039f"
             ],
             [
              0.2222222222222222,
              "#7201a8"
             ],
             [
              0.3333333333333333,
              "#9c179e"
             ],
             [
              0.4444444444444444,
              "#bd3786"
             ],
             [
              0.5555555555555556,
              "#d8576b"
             ],
             [
              0.6666666666666666,
              "#ed7953"
             ],
             [
              0.7777777777777778,
              "#fb9f3a"
             ],
             [
              0.8888888888888888,
              "#fdca26"
             ],
             [
              1,
              "#f0f921"
             ]
            ],
            "type": "histogram2dcontour"
           }
          ],
          "mesh3d": [
           {
            "colorbar": {
             "outlinewidth": 0,
             "ticks": ""
            },
            "type": "mesh3d"
           }
          ],
          "parcoords": [
           {
            "line": {
             "colorbar": {
              "outlinewidth": 0,
              "ticks": ""
             }
            },
            "type": "parcoords"
           }
          ],
          "pie": [
           {
            "automargin": true,
            "type": "pie"
           }
          ],
          "scatter": [
           {
            "marker": {
             "colorbar": {
              "outlinewidth": 0,
              "ticks": ""
             }
            },
            "type": "scatter"
           }
          ],
          "scatter3d": [
           {
            "line": {
             "colorbar": {
              "outlinewidth": 0,
              "ticks": ""
             }
            },
            "marker": {
             "colorbar": {
              "outlinewidth": 0,
              "ticks": ""
             }
            },
            "type": "scatter3d"
           }
          ],
          "scattercarpet": [
           {
            "marker": {
             "colorbar": {
              "outlinewidth": 0,
              "ticks": ""
             }
            },
            "type": "scattercarpet"
           }
          ],
          "scattergeo": [
           {
            "marker": {
             "colorbar": {
              "outlinewidth": 0,
              "ticks": ""
             }
            },
            "type": "scattergeo"
           }
          ],
          "scattergl": [
           {
            "marker": {
             "colorbar": {
              "outlinewidth": 0,
              "ticks": ""
             }
            },
            "type": "scattergl"
           }
          ],
          "scattermapbox": [
           {
            "marker": {
             "colorbar": {
              "outlinewidth": 0,
              "ticks": ""
             }
            },
            "type": "scattermapbox"
           }
          ],
          "scatterpolar": [
           {
            "marker": {
             "colorbar": {
              "outlinewidth": 0,
              "ticks": ""
             }
            },
            "type": "scatterpolar"
           }
          ],
          "scatterpolargl": [
           {
            "marker": {
             "colorbar": {
              "outlinewidth": 0,
              "ticks": ""
             }
            },
            "type": "scatterpolargl"
           }
          ],
          "scatterternary": [
           {
            "marker": {
             "colorbar": {
              "outlinewidth": 0,
              "ticks": ""
             }
            },
            "type": "scatterternary"
           }
          ],
          "surface": [
           {
            "colorbar": {
             "outlinewidth": 0,
             "ticks": ""
            },
            "colorscale": [
             [
              0,
              "#0d0887"
             ],
             [
              0.1111111111111111,
              "#46039f"
             ],
             [
              0.2222222222222222,
              "#7201a8"
             ],
             [
              0.3333333333333333,
              "#9c179e"
             ],
             [
              0.4444444444444444,
              "#bd3786"
             ],
             [
              0.5555555555555556,
              "#d8576b"
             ],
             [
              0.6666666666666666,
              "#ed7953"
             ],
             [
              0.7777777777777778,
              "#fb9f3a"
             ],
             [
              0.8888888888888888,
              "#fdca26"
             ],
             [
              1,
              "#f0f921"
             ]
            ],
            "type": "surface"
           }
          ],
          "table": [
           {
            "cells": {
             "fill": {
              "color": "#EBF0F8"
             },
             "line": {
              "color": "white"
             }
            },
            "header": {
             "fill": {
              "color": "#C8D4E3"
             },
             "line": {
              "color": "white"
             }
            },
            "type": "table"
           }
          ]
         },
         "layout": {
          "annotationdefaults": {
           "arrowcolor": "#2a3f5f",
           "arrowhead": 0,
           "arrowwidth": 1
          },
          "coloraxis": {
           "colorbar": {
            "outlinewidth": 0,
            "ticks": ""
           }
          },
          "colorscale": {
           "diverging": [
            [
             0,
             "#8e0152"
            ],
            [
             0.1,
             "#c51b7d"
            ],
            [
             0.2,
             "#de77ae"
            ],
            [
             0.3,
             "#f1b6da"
            ],
            [
             0.4,
             "#fde0ef"
            ],
            [
             0.5,
             "#f7f7f7"
            ],
            [
             0.6,
             "#e6f5d0"
            ],
            [
             0.7,
             "#b8e186"
            ],
            [
             0.8,
             "#7fbc41"
            ],
            [
             0.9,
             "#4d9221"
            ],
            [
             1,
             "#276419"
            ]
           ],
           "sequential": [
            [
             0,
             "#0d0887"
            ],
            [
             0.1111111111111111,
             "#46039f"
            ],
            [
             0.2222222222222222,
             "#7201a8"
            ],
            [
             0.3333333333333333,
             "#9c179e"
            ],
            [
             0.4444444444444444,
             "#bd3786"
            ],
            [
             0.5555555555555556,
             "#d8576b"
            ],
            [
             0.6666666666666666,
             "#ed7953"
            ],
            [
             0.7777777777777778,
             "#fb9f3a"
            ],
            [
             0.8888888888888888,
             "#fdca26"
            ],
            [
             1,
             "#f0f921"
            ]
           ],
           "sequentialminus": [
            [
             0,
             "#0d0887"
            ],
            [
             0.1111111111111111,
             "#46039f"
            ],
            [
             0.2222222222222222,
             "#7201a8"
            ],
            [
             0.3333333333333333,
             "#9c179e"
            ],
            [
             0.4444444444444444,
             "#bd3786"
            ],
            [
             0.5555555555555556,
             "#d8576b"
            ],
            [
             0.6666666666666666,
             "#ed7953"
            ],
            [
             0.7777777777777778,
             "#fb9f3a"
            ],
            [
             0.8888888888888888,
             "#fdca26"
            ],
            [
             1,
             "#f0f921"
            ]
           ]
          },
          "colorway": [
           "#636efa",
           "#EF553B",
           "#00cc96",
           "#ab63fa",
           "#FFA15A",
           "#19d3f3",
           "#FF6692",
           "#B6E880",
           "#FF97FF",
           "#FECB52"
          ],
          "font": {
           "color": "#2a3f5f"
          },
          "geo": {
           "bgcolor": "white",
           "lakecolor": "white",
           "landcolor": "#E5ECF6",
           "showlakes": true,
           "showland": true,
           "subunitcolor": "white"
          },
          "hoverlabel": {
           "align": "left"
          },
          "hovermode": "closest",
          "mapbox": {
           "style": "light"
          },
          "paper_bgcolor": "white",
          "plot_bgcolor": "#E5ECF6",
          "polar": {
           "angularaxis": {
            "gridcolor": "white",
            "linecolor": "white",
            "ticks": ""
           },
           "bgcolor": "#E5ECF6",
           "radialaxis": {
            "gridcolor": "white",
            "linecolor": "white",
            "ticks": ""
           }
          },
          "scene": {
           "xaxis": {
            "backgroundcolor": "#E5ECF6",
            "gridcolor": "white",
            "gridwidth": 2,
            "linecolor": "white",
            "showbackground": true,
            "ticks": "",
            "zerolinecolor": "white"
           },
           "yaxis": {
            "backgroundcolor": "#E5ECF6",
            "gridcolor": "white",
            "gridwidth": 2,
            "linecolor": "white",
            "showbackground": true,
            "ticks": "",
            "zerolinecolor": "white"
           },
           "zaxis": {
            "backgroundcolor": "#E5ECF6",
            "gridcolor": "white",
            "gridwidth": 2,
            "linecolor": "white",
            "showbackground": true,
            "ticks": "",
            "zerolinecolor": "white"
           }
          },
          "shapedefaults": {
           "line": {
            "color": "#2a3f5f"
           }
          },
          "ternary": {
           "aaxis": {
            "gridcolor": "white",
            "linecolor": "white",
            "ticks": ""
           },
           "baxis": {
            "gridcolor": "white",
            "linecolor": "white",
            "ticks": ""
           },
           "bgcolor": "#E5ECF6",
           "caxis": {
            "gridcolor": "white",
            "linecolor": "white",
            "ticks": ""
           }
          },
          "title": {
           "x": 0.05
          },
          "xaxis": {
           "automargin": true,
           "gridcolor": "white",
           "linecolor": "white",
           "ticks": "",
           "title": {
            "standoff": 15
           },
           "zerolinecolor": "white",
           "zerolinewidth": 2
          },
          "yaxis": {
           "automargin": true,
           "gridcolor": "white",
           "linecolor": "white",
           "ticks": "",
           "title": {
            "standoff": 15
           },
           "zerolinecolor": "white",
           "zerolinewidth": 2
          }
         }
        },
        "updatemenus": [
         {
          "buttons": [
           {
            "args": [
             {
              "visible": [
               true,
               false
              ]
             },
             {
              "xaxis": {
               "gridcolor": "lightgray",
               "nticks": 10,
               "rangemode": "nonnegative",
               "showgrid": true,
               "ticksuffix": "%",
               "title": "Mortality: Observed case-fatality ratio",
               "zeroline": false
              }
             }
            ],
            "label": "Observed case-fatality ratio",
            "method": "update"
           },
           {
            "args": [
             {
              "visible": [
               false,
               true
              ]
             },
             {
              "xaxis": {
               "gridcolor": "lightgray",
               "nticks": 10,
               "rangemode": "nonnegative",
               "showgrid": true,
               "ticksuffix": "",
               "title": "Mortality: Deaths per 100,000 population",
               "zeroline": false
              }
             }
            ],
            "label": "Deaths per 100,000 population",
            "method": "update"
           }
          ],
          "direction": "left",
          "pad": {
           "r": 10,
           "t": 10
          },
          "showactive": true,
          "type": "buttons",
          "x": 0,
          "xanchor": "left",
          "y": 1.2,
          "yanchor": "top"
         }
        ],
        "width": 800,
        "xaxis": {
         "gridcolor": "lightgray",
         "nticks": 10,
         "rangemode": "nonnegative",
         "showgrid": true,
         "ticksuffix": "%",
         "title": {
          "text": "Mortality: Observed case-fatality ratio"
         },
         "zeroline": false
        },
        "yaxis": {
         "showgrid": false,
         "title": {
          "text": ""
         }
        }
       }
      },
      "text/html": [
       "<div>\n",
       "        \n",
       "        \n",
       "            <div id=\"a6382ab4-5015-4816-9bd7-465bb00ba34b\" class=\"plotly-graph-div\" style=\"height:500px; width:800px;\"></div>\n",
       "            <script type=\"text/javascript\">\n",
       "                require([\"plotly\"], function(Plotly) {\n",
       "                    window.PLOTLYENV=window.PLOTLYENV || {};\n",
       "                    \n",
       "                if (document.getElementById(\"a6382ab4-5015-4816-9bd7-465bb00ba34b\")) {\n",
       "                    Plotly.newPlot(\n",
       "                        'a6382ab4-5015-4816-9bd7-465bb00ba34b',\n",
       "                        [{\"hoverinfo\": \"skip\", \"hoverlabel\": {\"bgcolor\": \"white\", \"bordercolor\": [\"#286140\", \"#E8927C\", \"#51284F\", \"#A192B2\", \"#F1C400\", \"#418FDE\", \"#A6192E\", \"#86C8BC\", \"#FF6900\", \"#719949\"], \"font\": {\"color\": [\"#286140\", \"#E8927C\", \"#51284F\", \"#A192B2\", \"#F1C400\", \"#418FDE\", \"#A6192E\", \"#86C8BC\", \"#FF6900\", \"#719949\"]}}, \"hovertext\": [\"Mortality:<br>{:.2f}%\", \"Mortality:<br>{:.2f}%\", \"Mortality:<br>{:.2f}%\", \"Mortality:<br>{:.2f}%\", \"Mortality:<br>{:.2f}%\", \"Mortality:<br>{:.2f}%\", \"Mortality:<br>{:.2f}%\", \"Mortality:<br>{:.2f}%\", \"Mortality:<br>{:.2f}%\", \"Mortality:<br>{:.2f}%\"], \"marker\": {\"color\": \"#FF9E1B\"}, \"name\": \"mort_conf\", \"opacity\": 0.6, \"orientation\": \"h\", \"text\": [\"0.01%\", \"0.02%\", \"0.04%\", \"0.06%\", \"0.07%\", \"0.09%\", \"0.09%\", \"0.09%\", \"0.09%\", \"Mortality: 0.12%\"], \"textfont\": {\"color\": \"black\"}, \"textposition\": \"auto\", \"type\": \"bar\", \"width\": 0.6, \"x\": [1.305516899780645, 2.4341453997280786, 4.029988354037267, 6.2613933581675525, 6.587177482408131, 8.562315278143563, 9.007325334979727, 9.068163375710036, 9.233926738946147, 12.074590860970828], \"y\": [\"Germany\", \"US\", \"China\", \"Iran\", \"Belgium\", \"United Kingdom\", \"France\", \"Netherlands\", \"Spain\", \"Italy\"]}, {\"hoverinfo\": \"skip\", \"hoverlabel\": {\"bgcolor\": \"white\", \"bordercolor\": [\"#51284F\", \"#286140\", \"#E8927C\", \"#A192B2\", \"#418FDE\", \"#86C8BC\", \"#A6192E\", \"#F1C400\", \"#FF6900\", \"#719949\"], \"font\": {\"color\": [\"#51284F\", \"#286140\", \"#E8927C\", \"#A192B2\", \"#418FDE\", \"#86C8BC\", \"#A6192E\", \"#F1C400\", \"#FF6900\", \"#719949\"]}}, \"hovertext\": [\"Mortality:<br>0.24\", \"Mortality:<br>1.33\", \"Mortality:<br>1.81\", \"Mortality:<br>3.86\", \"Mortality:<br>4.40\", \"Mortality:<br>7.78\", \"Mortality:<br>8.06\", \"Mortality:<br>8.85\", \"Mortality:<br>22.15\", \"Mortality:<br>23.03\"], \"marker\": {\"color\": \"#FF9E1B\"}, \"name\": \"mort_pop\", \"opacity\": 0.6, \"orientation\": \"h\", \"text\": [\"0.24\", \"1.33\", \"1.81\", \"3.86\", \"4.40\", \"7.78\", \"8.06\", \"8.85\", \"22.15\", \"Mortality: 23.03\"], \"textfont\": {\"color\": \"black\"}, \"textposition\": \"auto\", \"type\": \"bar\", \"visible\": false, \"width\": 0.6, \"x\": [0.23852433709333468, 1.3348941747268188, 1.8113049723647006, 3.863067980864464, 4.4007285356458485, 7.782477377858776, 8.058250612609172, 8.851286824767634, 22.147195423038507, 23.026153523829702], \"y\": [\"China\", \"Germany\", \"US\", \"Iran\", \"United Kingdom\", \"Netherlands\", \"France\", \"Belgium\", \"Spain\", \"Italy\"]}],\n",
       "                        {\"annotations\": [{\"font\": {\"color\": \"#002D72\", \"family\": \"Gentona, Tahoma, sans-serif\", \"size\": 24}, \"showarrow\": false, \"text\": \"\", \"x\": 0.02, \"xref\": \"paper\", \"y\": 1.2, \"yref\": \"paper\"}, {\"font\": {\"color\": \"grey\", \"family\": \"Gentona, Tahoma, sans-serif\", \"size\": 18}, \"showarrow\": false, \"text\": \"\", \"x\": 0.02, \"xref\": \"paper\", \"y\": 1.1, \"yref\": \"paper\"}, {\"font\": {\"color\": \"dimgray\", \"family\": \"Gentona, Tahoma, sans-serif\", \"size\": 12}, \"showarrow\": false, \"text\": \"\", \"x\": 1.4, \"xref\": \"paper\", \"y\": 0.95, \"yref\": \"paper\"}], \"font\": {\"color\": \"dimgray\", \"family\": \"Gentona, Tahoma, sans-serif\", \"size\": 12}, \"height\": 500, \"hovermode\": \"closest\", \"legend\": {\"x\": 1.03, \"y\": 0.7}, \"margin\": {\"b\": 100, \"l\": 120, \"pad\": 4, \"r\": 50, \"t\": 100}, \"plot_bgcolor\": \"white\", \"template\": {\"data\": {\"bar\": [{\"error_x\": {\"color\": \"#2a3f5f\"}, \"error_y\": {\"color\": \"#2a3f5f\"}, \"marker\": {\"line\": {\"color\": \"#E5ECF6\", \"width\": 0.5}}, \"type\": \"bar\"}], \"barpolar\": [{\"marker\": {\"line\": {\"color\": \"#E5ECF6\", \"width\": 0.5}}, \"type\": \"barpolar\"}], \"carpet\": [{\"aaxis\": {\"endlinecolor\": \"#2a3f5f\", \"gridcolor\": \"white\", \"linecolor\": \"white\", \"minorgridcolor\": \"white\", \"startlinecolor\": \"#2a3f5f\"}, \"baxis\": {\"endlinecolor\": \"#2a3f5f\", \"gridcolor\": \"white\", \"linecolor\": \"white\", \"minorgridcolor\": \"white\", \"startlinecolor\": \"#2a3f5f\"}, \"type\": \"carpet\"}], \"choropleth\": [{\"colorbar\": {\"outlinewidth\": 0, \"ticks\": \"\"}, \"type\": \"choropleth\"}], \"contour\": [{\"colorbar\": {\"outlinewidth\": 0, \"ticks\": \"\"}, \"colorscale\": [[0.0, \"#0d0887\"], [0.1111111111111111, \"#46039f\"], [0.2222222222222222, \"#7201a8\"], [0.3333333333333333, \"#9c179e\"], [0.4444444444444444, \"#bd3786\"], [0.5555555555555556, \"#d8576b\"], [0.6666666666666666, \"#ed7953\"], [0.7777777777777778, \"#fb9f3a\"], [0.8888888888888888, \"#fdca26\"], [1.0, \"#f0f921\"]], \"type\": \"contour\"}], \"contourcarpet\": [{\"colorbar\": {\"outlinewidth\": 0, \"ticks\": \"\"}, \"type\": \"contourcarpet\"}], \"heatmap\": [{\"colorbar\": {\"outlinewidth\": 0, \"ticks\": \"\"}, \"colorscale\": [[0.0, \"#0d0887\"], [0.1111111111111111, \"#46039f\"], [0.2222222222222222, \"#7201a8\"], [0.3333333333333333, \"#9c179e\"], [0.4444444444444444, \"#bd3786\"], [0.5555555555555556, \"#d8576b\"], [0.6666666666666666, \"#ed7953\"], [0.7777777777777778, \"#fb9f3a\"], [0.8888888888888888, \"#fdca26\"], [1.0, \"#f0f921\"]], \"type\": \"heatmap\"}], \"heatmapgl\": [{\"colorbar\": {\"outlinewidth\": 0, \"ticks\": \"\"}, \"colorscale\": [[0.0, \"#0d0887\"], [0.1111111111111111, \"#46039f\"], [0.2222222222222222, \"#7201a8\"], [0.3333333333333333, \"#9c179e\"], [0.4444444444444444, \"#bd3786\"], [0.5555555555555556, \"#d8576b\"], [0.6666666666666666, \"#ed7953\"], [0.7777777777777778, \"#fb9f3a\"], [0.8888888888888888, \"#fdca26\"], [1.0, \"#f0f921\"]], \"type\": \"heatmapgl\"}], \"histogram\": [{\"marker\": {\"colorbar\": {\"outlinewidth\": 0, \"ticks\": \"\"}}, \"type\": \"histogram\"}], \"histogram2d\": [{\"colorbar\": {\"outlinewidth\": 0, \"ticks\": \"\"}, \"colorscale\": [[0.0, \"#0d0887\"], [0.1111111111111111, \"#46039f\"], [0.2222222222222222, \"#7201a8\"], [0.3333333333333333, \"#9c179e\"], [0.4444444444444444, \"#bd3786\"], [0.5555555555555556, \"#d8576b\"], [0.6666666666666666, \"#ed7953\"], [0.7777777777777778, \"#fb9f3a\"], [0.8888888888888888, \"#fdca26\"], [1.0, \"#f0f921\"]], \"type\": \"histogram2d\"}], \"histogram2dcontour\": [{\"colorbar\": {\"outlinewidth\": 0, \"ticks\": \"\"}, \"colorscale\": [[0.0, \"#0d0887\"], [0.1111111111111111, \"#46039f\"], [0.2222222222222222, \"#7201a8\"], [0.3333333333333333, \"#9c179e\"], [0.4444444444444444, \"#bd3786\"], [0.5555555555555556, \"#d8576b\"], [0.6666666666666666, \"#ed7953\"], [0.7777777777777778, \"#fb9f3a\"], [0.8888888888888888, \"#fdca26\"], [1.0, \"#f0f921\"]], \"type\": \"histogram2dcontour\"}], \"mesh3d\": [{\"colorbar\": {\"outlinewidth\": 0, \"ticks\": \"\"}, \"type\": \"mesh3d\"}], \"parcoords\": [{\"line\": {\"colorbar\": {\"outlinewidth\": 0, \"ticks\": \"\"}}, \"type\": \"parcoords\"}], \"pie\": [{\"automargin\": true, \"type\": \"pie\"}], \"scatter\": [{\"marker\": {\"colorbar\": {\"outlinewidth\": 0, \"ticks\": \"\"}}, \"type\": \"scatter\"}], \"scatter3d\": [{\"line\": {\"colorbar\": {\"outlinewidth\": 0, \"ticks\": \"\"}}, \"marker\": {\"colorbar\": {\"outlinewidth\": 0, \"ticks\": \"\"}}, \"type\": \"scatter3d\"}], \"scattercarpet\": [{\"marker\": {\"colorbar\": {\"outlinewidth\": 0, \"ticks\": \"\"}}, \"type\": \"scattercarpet\"}], \"scattergeo\": [{\"marker\": {\"colorbar\": {\"outlinewidth\": 0, \"ticks\": \"\"}}, \"type\": \"scattergeo\"}], \"scattergl\": [{\"marker\": {\"colorbar\": {\"outlinewidth\": 0, \"ticks\": \"\"}}, \"type\": \"scattergl\"}], \"scattermapbox\": [{\"marker\": {\"colorbar\": {\"outlinewidth\": 0, \"ticks\": \"\"}}, \"type\": \"scattermapbox\"}], \"scatterpolar\": [{\"marker\": {\"colorbar\": {\"outlinewidth\": 0, \"ticks\": \"\"}}, \"type\": \"scatterpolar\"}], \"scatterpolargl\": [{\"marker\": {\"colorbar\": {\"outlinewidth\": 0, \"ticks\": \"\"}}, \"type\": \"scatterpolargl\"}], \"scatterternary\": [{\"marker\": {\"colorbar\": {\"outlinewidth\": 0, \"ticks\": \"\"}}, \"type\": \"scatterternary\"}], \"surface\": [{\"colorbar\": {\"outlinewidth\": 0, \"ticks\": \"\"}, \"colorscale\": [[0.0, \"#0d0887\"], [0.1111111111111111, \"#46039f\"], [0.2222222222222222, \"#7201a8\"], [0.3333333333333333, \"#9c179e\"], [0.4444444444444444, \"#bd3786\"], [0.5555555555555556, \"#d8576b\"], [0.6666666666666666, \"#ed7953\"], [0.7777777777777778, \"#fb9f3a\"], [0.8888888888888888, \"#fdca26\"], [1.0, \"#f0f921\"]], \"type\": \"surface\"}], \"table\": [{\"cells\": {\"fill\": {\"color\": \"#EBF0F8\"}, \"line\": {\"color\": \"white\"}}, \"header\": {\"fill\": {\"color\": \"#C8D4E3\"}, \"line\": {\"color\": \"white\"}}, \"type\": \"table\"}]}, \"layout\": {\"annotationdefaults\": {\"arrowcolor\": \"#2a3f5f\", \"arrowhead\": 0, \"arrowwidth\": 1}, \"coloraxis\": {\"colorbar\": {\"outlinewidth\": 0, \"ticks\": \"\"}}, \"colorscale\": {\"diverging\": [[0, \"#8e0152\"], [0.1, \"#c51b7d\"], [0.2, \"#de77ae\"], [0.3, \"#f1b6da\"], [0.4, \"#fde0ef\"], [0.5, \"#f7f7f7\"], [0.6, \"#e6f5d0\"], [0.7, \"#b8e186\"], [0.8, \"#7fbc41\"], [0.9, \"#4d9221\"], [1, \"#276419\"]], \"sequential\": [[0.0, \"#0d0887\"], [0.1111111111111111, \"#46039f\"], [0.2222222222222222, \"#7201a8\"], [0.3333333333333333, \"#9c179e\"], [0.4444444444444444, \"#bd3786\"], [0.5555555555555556, \"#d8576b\"], [0.6666666666666666, \"#ed7953\"], [0.7777777777777778, \"#fb9f3a\"], [0.8888888888888888, \"#fdca26\"], [1.0, \"#f0f921\"]], \"sequentialminus\": [[0.0, \"#0d0887\"], [0.1111111111111111, \"#46039f\"], [0.2222222222222222, \"#7201a8\"], [0.3333333333333333, \"#9c179e\"], [0.4444444444444444, \"#bd3786\"], [0.5555555555555556, \"#d8576b\"], [0.6666666666666666, \"#ed7953\"], [0.7777777777777778, \"#fb9f3a\"], [0.8888888888888888, \"#fdca26\"], [1.0, \"#f0f921\"]]}, \"colorway\": [\"#636efa\", \"#EF553B\", \"#00cc96\", \"#ab63fa\", \"#FFA15A\", \"#19d3f3\", \"#FF6692\", \"#B6E880\", \"#FF97FF\", \"#FECB52\"], \"font\": {\"color\": \"#2a3f5f\"}, \"geo\": {\"bgcolor\": \"white\", \"lakecolor\": \"white\", \"landcolor\": \"#E5ECF6\", \"showlakes\": true, \"showland\": true, \"subunitcolor\": \"white\"}, \"hoverlabel\": {\"align\": \"left\"}, \"hovermode\": \"closest\", \"mapbox\": {\"style\": \"light\"}, \"paper_bgcolor\": \"white\", \"plot_bgcolor\": \"#E5ECF6\", \"polar\": {\"angularaxis\": {\"gridcolor\": \"white\", \"linecolor\": \"white\", \"ticks\": \"\"}, \"bgcolor\": \"#E5ECF6\", \"radialaxis\": {\"gridcolor\": \"white\", \"linecolor\": \"white\", \"ticks\": \"\"}}, \"scene\": {\"xaxis\": {\"backgroundcolor\": \"#E5ECF6\", \"gridcolor\": \"white\", \"gridwidth\": 2, \"linecolor\": \"white\", \"showbackground\": true, \"ticks\": \"\", \"zerolinecolor\": \"white\"}, \"yaxis\": {\"backgroundcolor\": \"#E5ECF6\", \"gridcolor\": \"white\", \"gridwidth\": 2, \"linecolor\": \"white\", \"showbackground\": true, \"ticks\": \"\", \"zerolinecolor\": \"white\"}, \"zaxis\": {\"backgroundcolor\": \"#E5ECF6\", \"gridcolor\": \"white\", \"gridwidth\": 2, \"linecolor\": \"white\", \"showbackground\": true, \"ticks\": \"\", \"zerolinecolor\": \"white\"}}, \"shapedefaults\": {\"line\": {\"color\": \"#2a3f5f\"}}, \"ternary\": {\"aaxis\": {\"gridcolor\": \"white\", \"linecolor\": \"white\", \"ticks\": \"\"}, \"baxis\": {\"gridcolor\": \"white\", \"linecolor\": \"white\", \"ticks\": \"\"}, \"bgcolor\": \"#E5ECF6\", \"caxis\": {\"gridcolor\": \"white\", \"linecolor\": \"white\", \"ticks\": \"\"}}, \"title\": {\"x\": 0.05}, \"xaxis\": {\"automargin\": true, \"gridcolor\": \"white\", \"linecolor\": \"white\", \"ticks\": \"\", \"title\": {\"standoff\": 15}, \"zerolinecolor\": \"white\", \"zerolinewidth\": 2}, \"yaxis\": {\"automargin\": true, \"gridcolor\": \"white\", \"linecolor\": \"white\", \"ticks\": \"\", \"title\": {\"standoff\": 15}, \"zerolinecolor\": \"white\", \"zerolinewidth\": 2}}}, \"updatemenus\": [{\"buttons\": [{\"args\": [{\"visible\": [true, false]}, {\"xaxis\": {\"gridcolor\": \"lightgray\", \"nticks\": 10, \"rangemode\": \"nonnegative\", \"showgrid\": true, \"ticksuffix\": \"%\", \"title\": \"Mortality: Observed case-fatality ratio\", \"zeroline\": false}}], \"label\": \"Observed case-fatality ratio\", \"method\": \"update\"}, {\"args\": [{\"visible\": [false, true]}, {\"xaxis\": {\"gridcolor\": \"lightgray\", \"nticks\": 10, \"rangemode\": \"nonnegative\", \"showgrid\": true, \"ticksuffix\": \"\", \"title\": \"Mortality: Deaths per 100,000 population\", \"zeroline\": false}}], \"label\": \"Deaths per 100,000 population\", \"method\": \"update\"}], \"direction\": \"left\", \"pad\": {\"r\": 10, \"t\": 10}, \"showactive\": true, \"type\": \"buttons\", \"x\": 0, \"xanchor\": \"left\", \"y\": 1.2, \"yanchor\": \"top\"}], \"width\": 800, \"xaxis\": {\"gridcolor\": \"lightgray\", \"nticks\": 10, \"rangemode\": \"nonnegative\", \"showgrid\": true, \"ticksuffix\": \"%\", \"title\": {\"text\": \"Mortality: Observed case-fatality ratio\"}, \"zeroline\": false}, \"yaxis\": {\"showgrid\": false, \"title\": {\"text\": \"\"}}},\n",
       "                        {\"responsive\": true}\n",
       "                    ).then(function(){\n",
       "                            \n",
       "var gd = document.getElementById('a6382ab4-5015-4816-9bd7-465bb00ba34b');\n",
       "var x = new MutationObserver(function (mutations, observer) {{\n",
       "        var display = window.getComputedStyle(gd).display;\n",
       "        if (!display || display === 'none') {{\n",
       "            console.log([gd, 'removed!']);\n",
       "            Plotly.purge(gd);\n",
       "            observer.disconnect();\n",
       "        }}\n",
       "}});\n",
       "\n",
       "// Listen for the removal of the full notebook cells\n",
       "var notebookContainer = gd.closest('#notebook-container');\n",
       "if (notebookContainer) {{\n",
       "    x.observe(notebookContainer, {childList: true});\n",
       "}}\n",
       "\n",
       "// Listen for the clearing of the current output cell\n",
       "var outputEl = gd.closest('.output');\n",
       "if (outputEl) {{\n",
       "    x.observe(outputEl, {childList: true});\n",
       "}}\n",
       "\n",
       "                        })\n",
       "                };\n",
       "                });\n",
       "            </script>\n",
       "        </div>"
      ]
     },
     "metadata": {},
     "output_type": "display_data"
    }
   ],
   "source": [
    "# Plot mortality ratio\n",
    "\n",
    "# Assign color to top10\n",
    "top10['color'] = top10_col\n",
    "bar_width = 0.6\n",
    "bar_opacity = 0.6\n",
    "\n",
    "# Plot\n",
    "\n",
    "text_a = ['{:.2f}'.format(x)+'%' for x in top10.sort_values(by = 'MortalityRate')['MortalityRate']]\n",
    "text_b = ['{:.2f}'.format(x) for x in top10.sort_values(by = 'deaths_by100000pop')['deaths_by100000pop']]\n",
    "text_a[-1] = f'Mortality: {text_a[-1]}'\n",
    "text_b[-1] = f'Mortality: {text_b[-1]}'\n",
    "\n",
    "data = [go.Bar(x = top10.sort_values(by = 'MortalityRate')['MortalityRate']*100,\n",
    "               y = top10.sort_values(by = 'MortalityRate')['Country/Region'],\n",
    "               orientation = 'h',\n",
    "               name = 'mort_conf',\n",
    "               opacity = bar_opacity,\n",
    "               marker = dict(color = '#FF9E1B'),\n",
    "               hoverinfo = 'skip',\n",
    "               hovertext = ['Mortality:<br>'+'{:.2f}'+'%'.format(x) for x in top10.sort_values(by = 'MortalityRate')['MortalityRate']],\n",
    "               hoverlabel = dict(bordercolor = top10.sort_values(by = 'MortalityRate')['color'], \n",
    "                                 bgcolor = 'white', \n",
    "                                 font = dict(color = top10.sort_values(by = 'MortalityRate')['color'])),\n",
    "               text = text_a,\n",
    "               textfont=dict(\n",
    "                    color='black'\n",
    "               ),\n",
    "               textposition = 'auto',\n",
    "               width = bar_width\n",
    "              ),\n",
    "        go.Bar(x = top10.sort_values(by = 'deaths_by100000pop')['deaths_by100000pop'],\n",
    "               y = top10.sort_values(by = 'deaths_by100000pop')['Country/Region'],\n",
    "               orientation = 'h',\n",
    "               name = 'mort_pop',\n",
    "               opacity = bar_opacity,\n",
    "               marker = dict(color = '#FF9E1B'),\n",
    "               hoverinfo = 'skip',\n",
    "               hovertext = ['Mortality:<br>'+'{:.2f}'.format(x) for x in top10.sort_values(by = 'deaths_by100000pop')['deaths_by100000pop']],\n",
    "               hoverlabel = dict(bordercolor = top10.sort_values(by = 'deaths_by100000pop')['color'], \n",
    "                                 bgcolor = 'white', \n",
    "                                 font = dict(color = top10.sort_values(by = 'deaths_by100000pop')['color'])),\n",
    "               text = text_b,\n",
    "               textfont=dict(\n",
    "                    color='black'\n",
    "               ),\n",
    "               textposition = 'auto',\n",
    "               width = bar_width,\n",
    "               visible = False,\n",
    "              )\n",
    "       ]\n",
    "\n",
    "lay = go.Layout(width = 800, \n",
    "                height = 500,\n",
    "                margin=dict(l=120, r=50, b=100, t=100, pad=4),\n",
    "                plot_bgcolor='white',\n",
    "                #bargap = 0.2,\n",
    "                xaxis = dict(title='Mortality: Observed case-fatality ratio',\n",
    "                             nticks = 10,\n",
    "                             rangemode = 'nonnegative',\n",
    "                             zeroline = False,\n",
    "                             showgrid = True,\n",
    "                             gridcolor = 'lightgray',\n",
    "                             ticksuffix=\"%\",\n",
    "                            ),\n",
    "                yaxis = dict(title='',\n",
    "                             showgrid = False,\n",
    "                            ),\n",
    "                hovermode = 'closest',\n",
    "                font = dict(size = label_size,\n",
    "                            family = label_font,\n",
    "                            color = label_col,\n",
    "                           ),\n",
    "                legend = dict(x = 1.03, \n",
    "                              y = 0.7),\n",
    "                annotations=[dict(x = 0.02,\n",
    "                                  y = 1.2,\n",
    "                                  showarrow = False,\n",
    "                                  text = '', #Mortality ratios for the most affected countries\n",
    "                                  xref = 'paper',\n",
    "                                  yref = 'paper',\n",
    "                                  font=dict(\n",
    "                                      family = title_font,\n",
    "                                      size = title_size,\n",
    "                                      color = title_col,),\n",
    "                                 ),\n",
    "                             dict(x = 0.02,\n",
    "                                  y = 1.1,\n",
    "                                  showarrow = False,\n",
    "                                  text = '',\n",
    "                                  xref = 'paper',\n",
    "                                  yref = 'paper',\n",
    "                                  font=dict(\n",
    "                                      family = subtitle_font,\n",
    "                                      size = subtitle_size,\n",
    "                                      color = subtitle_col,),\n",
    "                                 ),\n",
    "                             dict(x = 1.40,\n",
    "                                  y = 0.95,\n",
    "                                  showarrow = False,\n",
    "                                  text = '',\n",
    "                                  xref = 'paper',\n",
    "                                  yref = 'paper',\n",
    "                                  font=dict(\n",
    "                                      family = label_font,\n",
    "                                      size = label_size,\n",
    "                                      color = label_col,),\n",
    "                             \n",
    "                             )\n",
    "                            ],\n",
    "                updatemenus=[dict(\n",
    "                                    type = \"buttons\",\n",
    "                                    direction = \"left\",\n",
    "                                    buttons=list([\n",
    "                                        dict(args = [{'visible': [True, False]},\n",
    "                                                     {'xaxis' : dict(title='Mortality: Observed case-fatality ratio',\n",
    "                                                         nticks = 10,\n",
    "                                                         rangemode = 'nonnegative',\n",
    "                                                         zeroline = False,\n",
    "                                                         showgrid = True,\n",
    "                                                         gridcolor = 'lightgray',\n",
    "                                                         ticksuffix=\"%\",\n",
    "                                                        )}],\n",
    "                                                     label = 'Observed case-fatality ratio',\n",
    "                                                     #method = 'restyle'\n",
    "                                                     method = 'update'\n",
    "                                                    ),\n",
    "                                        dict(args = [{'visible': [False, True]},\n",
    "                                                     {'xaxis' : dict(title='Mortality: Deaths per 100,000 population',\n",
    "                                                         nticks = 10,\n",
    "                                                         rangemode = 'nonnegative',\n",
    "                                                         zeroline = False,\n",
    "                                                         showgrid = True,\n",
    "                                                         gridcolor = 'lightgray',\n",
    "                                                         ticksuffix=\"\",\n",
    "                                                        )}],\n",
    "                                                     label = 'Deaths per 100,000 population',\n",
    "                                                     #method = 'restyle'\n",
    "                                                     method = 'update'\n",
    "                                                    )\n",
    "                                               ]),\n",
    "                                  pad = {\"r\": 10, \"t\": 10},\n",
    "                                  showactive = True,\n",
    "                                  x=0,\n",
    "                                  xanchor=\"left\",\n",
    "                                  y=1.2,\n",
    "                                  yanchor=\"top\"\n",
    "                                 ),\n",
    "                            ]\n",
    "               )\n",
    "\n",
    "\n",
    "fig = dict(data=data, layout=lay)\n",
    "plotly.offline.iplot(fig)\n",
    "\n",
    "# Save JS\n",
    "plot = plotly.offline.plot({'data':data,\n",
    "                            'layout':lay},\n",
    "                           include_plotlyjs = False,\n",
    "                           output_type = 'div',\n",
    "                           config = dict(showLink = False,\n",
    "                                         modeBarButtonsToRemove = ['sendDataToCloud'],\n",
    "                                         displaylogo = False,\n",
    "                                         responsive = True)\n",
    "                          )\n",
    "    \n",
    "path = '../visuals/mortality/'\n",
    "out_file = open(path+'mortality_top10.html', 'w')\n",
    "out_file.write('<!DOCTYPE html><html><head><script src=\"https://cdn.plot.ly/plotly-latest.min.js\"></script></head><body>')\n",
    "out_file.write(plot)\n",
    "out_file.write('</body><html>')\n",
    "out_file.close()"
   ]
  },
  {
   "cell_type": "code",
   "execution_count": 85,
   "metadata": {},
   "outputs": [
    {
     "name": "stderr",
     "output_type": "stream",
     "text": [
      "/usr/local/anaconda3/lib/python3.7/site-packages/ipykernel_launcher.py:7: UserWarning:\n",
      "\n",
      "Boolean Series key will be reindexed to match DataFrame index.\n",
      "\n"
     ]
    },
    {
     "data": {
      "application/vnd.plotly.v1+json": {
       "config": {
        "linkText": "Export to plot.ly",
        "plotlyServerURL": "https://plot.ly",
        "showLink": false
       },
       "data": [
        {
         "hoverinfo": "text",
         "hoverlabel": {
          "bgcolor": "white",
          "bordercolor": "gray",
          "font": {
           "color": "gray"
          }
         },
         "hovertext": [
          "Afghanistan:<br>2.2%",
          "Albania:<br>5.8%",
          "Algeria:<br>8.7%",
          "Andorra:<br>3.5%",
          "Argentina:<br>3.2%",
          "Armenia:<br>1.1%",
          "Australia:<br>0.5%",
          "Austria:<br>1.4%",
          "Azerbaijan:<br>1.2%",
          "Bahrain:<br>0.6%",
          "Bangladesh:<br>10.7%",
          "Belarus:<br>1.3%",
          "Belgium:<br>6.6%",
          "Bolivia:<br>6.5%",
          "Bosnia and Herzegovina:<br>3.0%",
          "Brazil:<br>4.0%",
          "Bulgaria:<br>2.2%",
          "Burkina Faso:<br>5.6%",
          "Cameroon:<br>2.3%",
          "Canada:<br>1.2%",
          "Chile:<br>0.5%",
          "China:<br>4.0%",
          "Colombia:<br>1.6%",
          "Congo (Kinshasa):<br>9.7%",
          "Croatia:<br>0.7%",
          "Cuba:<br>2.6%",
          "Cyprus:<br>2.8%",
          "Czechia:<br>1.1%",
          "Denmark:<br>3.4%",
          "Diamond Princess:<br>1.5%",
          "Dominican Republic:<br>4.3%",
          "Ecuador:<br>3.8%",
          "Egypt:<br>6.7%",
          "Estonia:<br>1.3%",
          "Finland:<br>1.3%",
          "France:<br>9.0%",
          "Germany:<br>1.3%",
          "Ghana:<br>2.5%",
          "Greece:<br>3.4%",
          "Guyana:<br>21.1%",
          "Honduras:<br>6.4%",
          "Hungary:<br>3.6%",
          "Iceland:<br>0.3%",
          "India:<br>2.8%",
          "Indonesia:<br>9.5%",
          "Iran:<br>6.3%",
          "Iraq:<br>7.0%",
          "Ireland:<br>2.5%",
          "Israel:<br>0.5%",
          "Italy:<br>12.1%",
          "Jamaica:<br>6.4%",
          "Japan:<br>2.5%",
          "Jordan:<br>1.7%",
          "Kazakhstan:<br>0.7%",
          "Kenya:<br>2.7%",
          "Korea, South:<br>1.7%",
          "Lebanon:<br>3.2%",
          "Lithuania:<br>1.4%",
          "Luxembourg:<br>1.2%",
          "Malaysia:<br>1.6%",
          "Mali:<br>8.3%",
          "Mauritius:<br>4.1%",
          "Mexico:<br>2.7%",
          "Moldova:<br>1.2%",
          "Morocco:<br>6.2%",
          "Netherlands:<br>9.1%",
          "Niger:<br>5.1%",
          "North Macedonia:<br>2.9%",
          "Norway:<br>1.0%",
          "Pakistan:<br>1.4%",
          "Panama:<br>2.4%",
          "Paraguay:<br>3.9%",
          "Peru:<br>3.9%",
          "Philippines:<br>4.1%",
          "Poland:<br>1.9%",
          "Portugal:<br>2.3%",
          "Qatar:<br>0.3%",
          "Romania:<br>4.2%",
          "Russia:<br>0.8%",
          "San Marino:<br>12.2%",
          "Saudi Arabia:<br>1.1%",
          "Serbia:<br>2.6%",
          "Singapore:<br>0.4%",
          "Slovenia:<br>1.9%",
          "South Africa:<br>0.3%",
          "Spain:<br>9.2%",
          "Sri Lanka:<br>2.6%",
          "Sweden:<br>5.5%",
          "Switzerland:<br>2.8%",
          "Taiwan*:<br>1.5%",
          "Thailand:<br>0.8%",
          "Trinidad and Tobago:<br>5.3%",
          "Tunisia:<br>3.1%",
          "Turkey:<br>2.0%",
          "US:<br>2.4%",
          "Ukraine:<br>2.5%",
          "United Arab Emirates:<br>0.8%",
          "United Kingdom:<br>8.6%",
          "Uruguay:<br>1.1%",
          "Venezuela:<br>3.4%"
         ],
         "marker": {
          "color": "orange",
          "size": 6
         },
         "mode": "markers",
         "text": [
          "Afghanistan",
          "Albania",
          "Algeria",
          "Andorra",
          "Argentina",
          "Armenia",
          "Australia",
          "Austria",
          "Azerbaijan",
          "Bahrain",
          "Bangladesh",
          "Belarus",
          "Belgium",
          "Bolivia",
          "Bosnia and Herzegovina",
          "Brazil",
          "Bulgaria",
          "Burkina Faso",
          "Cameroon",
          "Canada",
          "Chile",
          "China",
          "Colombia",
          "Congo (Kinshasa)",
          "Croatia",
          "Cuba",
          "Cyprus",
          "Czechia",
          "Denmark",
          "Diamond Princess",
          "Dominican Republic",
          "Ecuador",
          "Egypt",
          "Estonia",
          "Finland",
          "France",
          "Germany",
          "Ghana",
          "Greece",
          "Guyana",
          "Honduras",
          "Hungary",
          "Iceland",
          "India",
          "Indonesia",
          "Iran",
          "Iraq",
          "Ireland",
          "Israel",
          "Italy",
          "Jamaica",
          "Japan",
          "Jordan",
          "Kazakhstan",
          "Kenya",
          "Korea, South",
          "Lebanon",
          "Lithuania",
          "Luxembourg",
          "Malaysia",
          "Mali",
          "Mauritius",
          "Mexico",
          "Moldova",
          "Morocco",
          "Netherlands",
          "Niger",
          "North Macedonia",
          "Norway",
          "Pakistan",
          "Panama",
          "Paraguay",
          "Peru",
          "Philippines",
          "Poland",
          "Portugal",
          "Qatar",
          "Romania",
          "Russia",
          "San Marino",
          "Saudi Arabia",
          "Serbia",
          "Singapore",
          "Slovenia",
          "South Africa",
          "Spain",
          "Sri Lanka",
          "Sweden",
          "Switzerland",
          "Taiwan*",
          "Thailand",
          "Trinidad and Tobago",
          "Tunisia",
          "Turkey",
          "US",
          "Ukraine",
          "United Arab Emirates",
          "United Kingdom",
          "Uruguay",
          "Venezuela"
         ],
         "textposition": "top center",
         "type": "scatter",
         "x": [
          273,
          277,
          986,
          428,
          1133,
          663,
          5116,
          11129,
          400,
          643,
          56,
          304,
          15348,
          123,
          533,
          8044,
          457,
          288,
          306,
          11284,
          3404,
          82432,
          1161,
          134,
          1011,
          233,
          356,
          3858,
          3573,
          712,
          1380,
          3163,
          865,
          858,
          1518,
          59929,
          84794,
          204,
          1544,
          19,
          219,
          585,
          1319,
          2543,
          1790,
          50468,
          772,
          3849,
          6857,
          115242,
          47,
          2495,
          299,
          435,
          110,
          9976,
          494,
          649,
          2487,
          3116,
          36,
          169,
          1378,
          505,
          708,
          14788,
          98,
          384,
          5147,
          2421,
          1317,
          77,
          1414,
          2633,
          2946,
          9034,
          949,
          2738,
          3548,
          245,
          1885,
          1171,
          1049,
          897,
          1462,
          112065,
          151,
          5568,
          18827,
          339,
          1875,
          94,
          455,
          18135,
          243453,
          897,
          1024,
          34173,
          350,
          146
         ],
         "y": [
          6,
          16,
          86,
          15,
          36,
          7,
          24,
          158,
          5,
          4,
          6,
          4,
          1011,
          8,
          16,
          324,
          10,
          16,
          7,
          139,
          18,
          3322,
          19,
          13,
          7,
          6,
          10,
          44,
          123,
          11,
          60,
          120,
          58,
          11,
          19,
          5398,
          1107,
          5,
          53,
          4,
          14,
          21,
          4,
          72,
          170,
          3160,
          54,
          98,
          36,
          13915,
          3,
          62,
          5,
          3,
          3,
          169,
          16,
          9,
          30,
          50,
          3,
          7,
          37,
          6,
          44,
          1341,
          5,
          11,
          50,
          34,
          32,
          3,
          55,
          107,
          57,
          209,
          3,
          115,
          30,
          30,
          21,
          31,
          4,
          17,
          5,
          10348,
          4,
          308,
          536,
          5,
          15,
          5,
          14,
          356,
          5926,
          22,
          8,
          2926,
          4,
          5
         ]
        },
        {
         "hoverinfo": "text",
         "hoverlabel": {
          "bgcolor": "white",
          "bordercolor": "gray",
          "font": {
           "color": "gray"
          }
         },
         "hovertext": [
          "Belgium:<br>6.6%",
          "China:<br>4.0%",
          "France:<br>9.0%",
          "Germany:<br>1.3%",
          "Iran:<br>6.3%",
          "Italy:<br>12.1%",
          "Netherlands:<br>9.1%",
          "Spain:<br>9.2%",
          "US:<br>2.4%",
          "United Kingdom:<br>8.6%"
         ],
         "marker": {
          "color": "orange",
          "line": {
           "color": "black",
           "width": 1
          },
          "opacity": 1,
          "size": 6
         },
         "mode": "markers",
         "type": "scatter",
         "x": [
          15348,
          82432,
          59929,
          84794,
          50468,
          115242,
          14788,
          112065,
          243453,
          34173
         ],
         "y": [
          1011,
          3322,
          5398,
          1107,
          3160,
          13915,
          1341,
          10348,
          5926,
          2926
         ]
        },
        {
         "line": {
          "width": 0.3
         },
         "marker": {
          "color": "gray"
         },
         "mode": "lines",
         "type": "scatter",
         "x": [
          0,
          243453
         ],
         "y": [
          0,
          24345.300000000003
         ]
        },
        {
         "line": {
          "width": 0.3
         },
         "marker": {
          "color": "gray"
         },
         "mode": "lines",
         "type": "scatter",
         "x": [
          0,
          243453
         ],
         "y": [
          0,
          12172.650000000001
         ]
        },
        {
         "line": {
          "width": 0.3
         },
         "marker": {
          "color": "gray"
         },
         "mode": "lines",
         "type": "scatter",
         "x": [
          0,
          243453
         ],
         "y": [
          0,
          4869.06
         ]
        },
        {
         "line": {
          "width": 0.3
         },
         "marker": {
          "color": "gray"
         },
         "mode": "lines",
         "type": "scatter",
         "x": [
          0,
          243453
         ],
         "y": [
          0,
          2434.53
         ]
        },
        {
         "line": {
          "width": 0.3
         },
         "marker": {
          "color": "gray"
         },
         "mode": "lines",
         "type": "scatter",
         "x": [
          0,
          243453
         ],
         "y": [
          0,
          1217.265
         ]
        },
        {
         "hoverinfo": "text",
         "hoverlabel": {
          "bgcolor": "white",
          "bordercolor": "gray",
          "font": {
           "color": "gray"
          }
         },
         "hovertext": [
          "Afghanistan:<br>0.0",
          "Albania:<br>0.6",
          "Algeria:<br>0.2",
          "Andorra:<br>19.5",
          "Argentina:<br>0.1",
          "Armenia:<br>0.2",
          "Australia:<br>0.1",
          "Austria:<br>1.8",
          "Azerbaijan:<br>0.1",
          "Bahrain:<br>0.3",
          "Bangladesh:<br>0.0",
          "Belarus:<br>0.0",
          "Belgium:<br>8.9",
          "Bolivia:<br>0.1",
          "Bosnia and Herzegovina:<br>0.5",
          "Brazil:<br>0.2",
          "Bulgaria:<br>0.1",
          "Burkina Faso:<br>0.1",
          "Cameroon:<br>0.0",
          "Canada:<br>0.4",
          "Chile:<br>0.1",
          "China:<br>0.2",
          "Colombia:<br>0.0",
          "Congo (Kinshasa):<br>0.0",
          "Croatia:<br>0.2",
          "Cuba:<br>0.1",
          "Cyprus:<br>0.8",
          "Czechia:<br>0.4",
          "Denmark:<br>2.1",
          "Diamond Princess:<br>nan",
          "Dominican Republic:<br>0.6",
          "Ecuador:<br>0.7",
          "Egypt:<br>0.1",
          "Estonia:<br>0.8",
          "Finland:<br>0.3",
          "France:<br>8.1",
          "Germany:<br>1.3",
          "Ghana:<br>0.0",
          "Greece:<br>0.5",
          "Guyana:<br>0.5",
          "Honduras:<br>0.1",
          "Hungary:<br>0.2",
          "Iceland:<br>1.1",
          "India:<br>0.0",
          "Indonesia:<br>0.1",
          "Iran:<br>3.9",
          "Iraq:<br>0.1",
          "Ireland:<br>2.0",
          "Israel:<br>0.4",
          "Italy:<br>23.0",
          "Jamaica:<br>0.1",
          "Japan:<br>0.0",
          "Jordan:<br>0.1",
          "Kazakhstan:<br>0.0",
          "Kenya:<br>0.0",
          "Korea, South:<br>0.3",
          "Lebanon:<br>0.2",
          "Lithuania:<br>0.3",
          "Luxembourg:<br>4.9",
          "Malaysia:<br>0.2",
          "Mali:<br>0.0",
          "Mauritius:<br>0.6",
          "Mexico:<br>0.0",
          "Moldova:<br>0.2",
          "Morocco:<br>0.1",
          "Netherlands:<br>7.8",
          "Niger:<br>0.0",
          "North Macedonia:<br>0.5",
          "Norway:<br>0.9",
          "Pakistan:<br>0.0",
          "Panama:<br>0.8",
          "Paraguay:<br>0.0",
          "Peru:<br>0.2",
          "Philippines:<br>0.1",
          "Poland:<br>0.2",
          "Portugal:<br>2.0",
          "Qatar:<br>0.1",
          "Romania:<br>0.6",
          "Russia:<br>0.0",
          "San Marino:<br>88.8",
          "Saudi Arabia:<br>0.1",
          "Serbia:<br>0.4",
          "Singapore:<br>0.1",
          "Slovenia:<br>0.8",
          "South Africa:<br>0.0",
          "Spain:<br>22.1",
          "Sri Lanka:<br>0.0",
          "Sweden:<br>3.0",
          "Switzerland:<br>6.3",
          "Taiwan*:<br>0.0",
          "Thailand:<br>0.0",
          "Trinidad and Tobago:<br>0.4",
          "Tunisia:<br>0.1",
          "Turkey:<br>0.4",
          "US:<br>1.8",
          "Ukraine:<br>0.0",
          "United Arab Emirates:<br>0.1",
          "United Kingdom:<br>4.4",
          "Uruguay:<br>0.1",
          "Venezuela:<br>0.0"
         ],
         "marker": {
          "color": "orange",
          "size": 6
         },
         "mode": "markers",
         "type": "scatter",
         "visible": false,
         "x": [
          37172386,
          2866376,
          42228429,
          77006,
          44494502,
          2951776,
          24992369,
          8847037,
          9942334,
          1569439,
          161356039,
          9485386,
          11422068,
          11353142,
          3323929,
          209469333,
          7024216,
          19751535,
          25216237,
          37058856,
          18729160,
          1392730000,
          49648685,
          84068091,
          4089400,
          11338138,
          1189265,
          10625695,
          5797446,
          null,
          10627165,
          17084357,
          98423595,
          1320884,
          5518050,
          66987244,
          82927922,
          29767108,
          10727668,
          779004,
          9587522,
          9768785,
          353574,
          1352617328,
          267663435,
          81800269,
          38433600,
          4853506,
          8883800,
          60431283,
          2934855,
          126529100,
          9956011,
          18276499,
          51393010,
          51635256,
          6848925,
          2789533,
          607728,
          31528585,
          19077690,
          1265303,
          126190788,
          3545883,
          36029138,
          17231017,
          22442948,
          2082958,
          5314336,
          212215030,
          4176873,
          6956071,
          31989256,
          106651922,
          37978548,
          10281762,
          2781677,
          19473936,
          144478050,
          33785,
          33699947,
          6982084,
          5638676,
          2067372,
          57779622,
          46723749,
          21670000,
          10183175,
          8516543,
          23780452,
          69428524,
          1389858,
          11565204,
          82319724,
          327167434,
          44622516,
          9630959,
          66488991,
          3449299,
          28870195
         ],
         "y": [
          6,
          16,
          86,
          15,
          36,
          7,
          24,
          158,
          5,
          4,
          6,
          4,
          1011,
          8,
          16,
          324,
          10,
          16,
          7,
          139,
          18,
          3322,
          19,
          13,
          7,
          6,
          10,
          44,
          123,
          11,
          60,
          120,
          58,
          11,
          19,
          5398,
          1107,
          5,
          53,
          4,
          14,
          21,
          4,
          72,
          170,
          3160,
          54,
          98,
          36,
          13915,
          3,
          62,
          5,
          3,
          3,
          169,
          16,
          9,
          30,
          50,
          3,
          7,
          37,
          6,
          44,
          1341,
          5,
          11,
          50,
          34,
          32,
          3,
          55,
          107,
          57,
          209,
          3,
          115,
          30,
          30,
          21,
          31,
          4,
          17,
          5,
          10348,
          4,
          308,
          536,
          5,
          15,
          5,
          14,
          356,
          5926,
          22,
          8,
          2926,
          4,
          5
         ]
        },
        {
         "hoverinfo": "text",
         "hoverlabel": {
          "bgcolor": "white",
          "bordercolor": "gray",
          "font": {
           "color": "gray"
          }
         },
         "hovertext": [
          "Belgium:<br>8.9",
          "China:<br>0.2",
          "France:<br>8.1",
          "Germany:<br>1.3",
          "Iran:<br>3.9",
          "Italy:<br>23.0",
          "Netherlands:<br>7.8",
          "Spain:<br>22.1",
          "US:<br>1.8",
          "United Kingdom:<br>4.4"
         ],
         "marker": {
          "color": "orange",
          "line": {
           "color": "black",
           "width": 1
          },
          "opacity": 1,
          "size": 6
         },
         "mode": "markers",
         "type": "scatter",
         "visible": false,
         "x": [
          11422068,
          1392730000,
          66987244,
          82927922,
          81800269,
          60431283,
          17231017,
          46723749,
          327167434,
          66488991
         ],
         "y": [
          1011,
          3322,
          5398,
          1107,
          3160,
          13915,
          1341,
          10348,
          5926,
          2926
         ]
        },
        {
         "line": {
          "width": 0.3
         },
         "marker": {
          "color": "gray"
         },
         "mode": "lines",
         "type": "scatter",
         "visible": false,
         "x": [
          0,
          1392730000
         ],
         "y": [
          0,
          1392730
         ]
        },
        {
         "line": {
          "width": 0.3
         },
         "marker": {
          "color": "gray"
         },
         "mode": "lines",
         "type": "scatter",
         "visible": false,
         "x": [
          0,
          1392730000
         ],
         "y": [
          0,
          139273
         ]
        },
        {
         "line": {
          "width": 0.3
         },
         "marker": {
          "color": "gray"
         },
         "mode": "lines",
         "type": "scatter",
         "visible": false,
         "x": [
          0,
          1392730000
         ],
         "y": [
          0,
          13927.3
         ]
        },
        {
         "line": {
          "width": 0.3
         },
         "marker": {
          "color": "gray"
         },
         "mode": "lines",
         "type": "scatter",
         "visible": false,
         "x": [
          0,
          1392730000
         ],
         "y": [
          0,
          1392.73
         ]
        },
        {
         "line": {
          "width": 0.3
         },
         "marker": {
          "color": "gray"
         },
         "mode": "lines",
         "type": "scatter",
         "visible": false,
         "x": [
          0,
          1392730000
         ],
         "y": [
          0,
          139.273
         ]
        }
       ],
       "layout": {
        "annotations": [
         {
          "font": {
           "color": "#002D72",
           "family": "Gentona, Tahoma, sans-serif",
           "size": 24
          },
          "showarrow": false,
          "text": "",
          "x": 0.02,
          "xref": "paper",
          "y": 1.2,
          "yref": "paper"
         },
         {
          "font": {
           "color": "grey",
           "family": "Gentona, Tahoma, sans-serif",
           "size": 18
          },
          "showarrow": false,
          "text": "",
          "x": 0.02,
          "xref": "paper",
          "y": 1.1,
          "yref": "paper"
         },
         {
          "font": {
           "color": "dimgray",
           "family": "Gentona, Tahoma, sans-serif",
           "size": 12
          },
          "showarrow": false,
          "text": "",
          "x": 1.32,
          "xref": "paper",
          "y": 0.95,
          "yref": "paper"
         },
         {
          "font": {
           "color": "dimgray",
           "family": "Gentona, Tahoma, sans-serif",
           "size": 12
          },
          "height": 30,
          "showarrow": false,
          "text": "10%",
          "textangle": -30,
          "valign": "top",
          "x": 5.386415130598562,
          "xref": "x",
          "y": 4.386415130598562,
          "yref": "y"
         },
         {
          "font": {
           "color": "dimgray",
           "family": "Gentona, Tahoma, sans-serif",
           "size": 12
          },
          "height": 30,
          "showarrow": false,
          "text": "5%",
          "textangle": -30,
          "valign": "top",
          "x": 5.386415130598562,
          "xref": "x",
          "y": 4.08538513493458,
          "yref": "y"
         },
         {
          "font": {
           "color": "dimgray",
           "family": "Gentona, Tahoma, sans-serif",
           "size": 12
          },
          "height": 30,
          "showarrow": false,
          "text": "2%",
          "textangle": -30,
          "valign": "top",
          "x": 5.386415130598562,
          "xref": "x",
          "y": 3.687445126262543,
          "yref": "y"
         },
         {
          "font": {
           "color": "dimgray",
           "family": "Gentona, Tahoma, sans-serif",
           "size": 12
          },
          "height": 30,
          "showarrow": false,
          "text": "1%",
          "textangle": -30,
          "valign": "top",
          "x": 5.386415130598562,
          "xref": "x",
          "y": 3.386415130598562,
          "yref": "y"
         },
         {
          "font": {
           "color": "dimgray",
           "family": "Gentona, Tahoma, sans-serif",
           "size": 12
          },
          "height": 30,
          "showarrow": false,
          "text": "0.5%",
          "textangle": -30,
          "valign": "top",
          "x": 5.386415130598562,
          "xref": "x",
          "y": 3.085385134934581,
          "yref": "y"
         }
        ],
        "font": {
         "color": "dimgray",
         "family": "Gentona, Tahoma, sans-serif",
         "size": 12
        },
        "height": 500,
        "hovermode": "closest",
        "legend": {
         "x": 1.03,
         "y": 0.7
        },
        "margin": {
         "b": 100,
         "l": 120,
         "pad": 4,
         "r": 50,
         "t": 100
        },
        "plot_bgcolor": "white",
        "showlegend": false,
        "template": {
         "data": {
          "bar": [
           {
            "error_x": {
             "color": "#2a3f5f"
            },
            "error_y": {
             "color": "#2a3f5f"
            },
            "marker": {
             "line": {
              "color": "#E5ECF6",
              "width": 0.5
             }
            },
            "type": "bar"
           }
          ],
          "barpolar": [
           {
            "marker": {
             "line": {
              "color": "#E5ECF6",
              "width": 0.5
             }
            },
            "type": "barpolar"
           }
          ],
          "carpet": [
           {
            "aaxis": {
             "endlinecolor": "#2a3f5f",
             "gridcolor": "white",
             "linecolor": "white",
             "minorgridcolor": "white",
             "startlinecolor": "#2a3f5f"
            },
            "baxis": {
             "endlinecolor": "#2a3f5f",
             "gridcolor": "white",
             "linecolor": "white",
             "minorgridcolor": "white",
             "startlinecolor": "#2a3f5f"
            },
            "type": "carpet"
           }
          ],
          "choropleth": [
           {
            "colorbar": {
             "outlinewidth": 0,
             "ticks": ""
            },
            "type": "choropleth"
           }
          ],
          "contour": [
           {
            "colorbar": {
             "outlinewidth": 0,
             "ticks": ""
            },
            "colorscale": [
             [
              0,
              "#0d0887"
             ],
             [
              0.1111111111111111,
              "#46039f"
             ],
             [
              0.2222222222222222,
              "#7201a8"
             ],
             [
              0.3333333333333333,
              "#9c179e"
             ],
             [
              0.4444444444444444,
              "#bd3786"
             ],
             [
              0.5555555555555556,
              "#d8576b"
             ],
             [
              0.6666666666666666,
              "#ed7953"
             ],
             [
              0.7777777777777778,
              "#fb9f3a"
             ],
             [
              0.8888888888888888,
              "#fdca26"
             ],
             [
              1,
              "#f0f921"
             ]
            ],
            "type": "contour"
           }
          ],
          "contourcarpet": [
           {
            "colorbar": {
             "outlinewidth": 0,
             "ticks": ""
            },
            "type": "contourcarpet"
           }
          ],
          "heatmap": [
           {
            "colorbar": {
             "outlinewidth": 0,
             "ticks": ""
            },
            "colorscale": [
             [
              0,
              "#0d0887"
             ],
             [
              0.1111111111111111,
              "#46039f"
             ],
             [
              0.2222222222222222,
              "#7201a8"
             ],
             [
              0.3333333333333333,
              "#9c179e"
             ],
             [
              0.4444444444444444,
              "#bd3786"
             ],
             [
              0.5555555555555556,
              "#d8576b"
             ],
             [
              0.6666666666666666,
              "#ed7953"
             ],
             [
              0.7777777777777778,
              "#fb9f3a"
             ],
             [
              0.8888888888888888,
              "#fdca26"
             ],
             [
              1,
              "#f0f921"
             ]
            ],
            "type": "heatmap"
           }
          ],
          "heatmapgl": [
           {
            "colorbar": {
             "outlinewidth": 0,
             "ticks": ""
            },
            "colorscale": [
             [
              0,
              "#0d0887"
             ],
             [
              0.1111111111111111,
              "#46039f"
             ],
             [
              0.2222222222222222,
              "#7201a8"
             ],
             [
              0.3333333333333333,
              "#9c179e"
             ],
             [
              0.4444444444444444,
              "#bd3786"
             ],
             [
              0.5555555555555556,
              "#d8576b"
             ],
             [
              0.6666666666666666,
              "#ed7953"
             ],
             [
              0.7777777777777778,
              "#fb9f3a"
             ],
             [
              0.8888888888888888,
              "#fdca26"
             ],
             [
              1,
              "#f0f921"
             ]
            ],
            "type": "heatmapgl"
           }
          ],
          "histogram": [
           {
            "marker": {
             "colorbar": {
              "outlinewidth": 0,
              "ticks": ""
             }
            },
            "type": "histogram"
           }
          ],
          "histogram2d": [
           {
            "colorbar": {
             "outlinewidth": 0,
             "ticks": ""
            },
            "colorscale": [
             [
              0,
              "#0d0887"
             ],
             [
              0.1111111111111111,
              "#46039f"
             ],
             [
              0.2222222222222222,
              "#7201a8"
             ],
             [
              0.3333333333333333,
              "#9c179e"
             ],
             [
              0.4444444444444444,
              "#bd3786"
             ],
             [
              0.5555555555555556,
              "#d8576b"
             ],
             [
              0.6666666666666666,
              "#ed7953"
             ],
             [
              0.7777777777777778,
              "#fb9f3a"
             ],
             [
              0.8888888888888888,
              "#fdca26"
             ],
             [
              1,
              "#f0f921"
             ]
            ],
            "type": "histogram2d"
           }
          ],
          "histogram2dcontour": [
           {
            "colorbar": {
             "outlinewidth": 0,
             "ticks": ""
            },
            "colorscale": [
             [
              0,
              "#0d0887"
             ],
             [
              0.1111111111111111,
              "#46039f"
             ],
             [
              0.2222222222222222,
              "#7201a8"
             ],
             [
              0.3333333333333333,
              "#9c179e"
             ],
             [
              0.4444444444444444,
              "#bd3786"
             ],
             [
              0.5555555555555556,
              "#d8576b"
             ],
             [
              0.6666666666666666,
              "#ed7953"
             ],
             [
              0.7777777777777778,
              "#fb9f3a"
             ],
             [
              0.8888888888888888,
              "#fdca26"
             ],
             [
              1,
              "#f0f921"
             ]
            ],
            "type": "histogram2dcontour"
           }
          ],
          "mesh3d": [
           {
            "colorbar": {
             "outlinewidth": 0,
             "ticks": ""
            },
            "type": "mesh3d"
           }
          ],
          "parcoords": [
           {
            "line": {
             "colorbar": {
              "outlinewidth": 0,
              "ticks": ""
             }
            },
            "type": "parcoords"
           }
          ],
          "pie": [
           {
            "automargin": true,
            "type": "pie"
           }
          ],
          "scatter": [
           {
            "marker": {
             "colorbar": {
              "outlinewidth": 0,
              "ticks": ""
             }
            },
            "type": "scatter"
           }
          ],
          "scatter3d": [
           {
            "line": {
             "colorbar": {
              "outlinewidth": 0,
              "ticks": ""
             }
            },
            "marker": {
             "colorbar": {
              "outlinewidth": 0,
              "ticks": ""
             }
            },
            "type": "scatter3d"
           }
          ],
          "scattercarpet": [
           {
            "marker": {
             "colorbar": {
              "outlinewidth": 0,
              "ticks": ""
             }
            },
            "type": "scattercarpet"
           }
          ],
          "scattergeo": [
           {
            "marker": {
             "colorbar": {
              "outlinewidth": 0,
              "ticks": ""
             }
            },
            "type": "scattergeo"
           }
          ],
          "scattergl": [
           {
            "marker": {
             "colorbar": {
              "outlinewidth": 0,
              "ticks": ""
             }
            },
            "type": "scattergl"
           }
          ],
          "scattermapbox": [
           {
            "marker": {
             "colorbar": {
              "outlinewidth": 0,
              "ticks": ""
             }
            },
            "type": "scattermapbox"
           }
          ],
          "scatterpolar": [
           {
            "marker": {
             "colorbar": {
              "outlinewidth": 0,
              "ticks": ""
             }
            },
            "type": "scatterpolar"
           }
          ],
          "scatterpolargl": [
           {
            "marker": {
             "colorbar": {
              "outlinewidth": 0,
              "ticks": ""
             }
            },
            "type": "scatterpolargl"
           }
          ],
          "scatterternary": [
           {
            "marker": {
             "colorbar": {
              "outlinewidth": 0,
              "ticks": ""
             }
            },
            "type": "scatterternary"
           }
          ],
          "surface": [
           {
            "colorbar": {
             "outlinewidth": 0,
             "ticks": ""
            },
            "colorscale": [
             [
              0,
              "#0d0887"
             ],
             [
              0.1111111111111111,
              "#46039f"
             ],
             [
              0.2222222222222222,
              "#7201a8"
             ],
             [
              0.3333333333333333,
              "#9c179e"
             ],
             [
              0.4444444444444444,
              "#bd3786"
             ],
             [
              0.5555555555555556,
              "#d8576b"
             ],
             [
              0.6666666666666666,
              "#ed7953"
             ],
             [
              0.7777777777777778,
              "#fb9f3a"
             ],
             [
              0.8888888888888888,
              "#fdca26"
             ],
             [
              1,
              "#f0f921"
             ]
            ],
            "type": "surface"
           }
          ],
          "table": [
           {
            "cells": {
             "fill": {
              "color": "#EBF0F8"
             },
             "line": {
              "color": "white"
             }
            },
            "header": {
             "fill": {
              "color": "#C8D4E3"
             },
             "line": {
              "color": "white"
             }
            },
            "type": "table"
           }
          ]
         },
         "layout": {
          "annotationdefaults": {
           "arrowcolor": "#2a3f5f",
           "arrowhead": 0,
           "arrowwidth": 1
          },
          "coloraxis": {
           "colorbar": {
            "outlinewidth": 0,
            "ticks": ""
           }
          },
          "colorscale": {
           "diverging": [
            [
             0,
             "#8e0152"
            ],
            [
             0.1,
             "#c51b7d"
            ],
            [
             0.2,
             "#de77ae"
            ],
            [
             0.3,
             "#f1b6da"
            ],
            [
             0.4,
             "#fde0ef"
            ],
            [
             0.5,
             "#f7f7f7"
            ],
            [
             0.6,
             "#e6f5d0"
            ],
            [
             0.7,
             "#b8e186"
            ],
            [
             0.8,
             "#7fbc41"
            ],
            [
             0.9,
             "#4d9221"
            ],
            [
             1,
             "#276419"
            ]
           ],
           "sequential": [
            [
             0,
             "#0d0887"
            ],
            [
             0.1111111111111111,
             "#46039f"
            ],
            [
             0.2222222222222222,
             "#7201a8"
            ],
            [
             0.3333333333333333,
             "#9c179e"
            ],
            [
             0.4444444444444444,
             "#bd3786"
            ],
            [
             0.5555555555555556,
             "#d8576b"
            ],
            [
             0.6666666666666666,
             "#ed7953"
            ],
            [
             0.7777777777777778,
             "#fb9f3a"
            ],
            [
             0.8888888888888888,
             "#fdca26"
            ],
            [
             1,
             "#f0f921"
            ]
           ],
           "sequentialminus": [
            [
             0,
             "#0d0887"
            ],
            [
             0.1111111111111111,
             "#46039f"
            ],
            [
             0.2222222222222222,
             "#7201a8"
            ],
            [
             0.3333333333333333,
             "#9c179e"
            ],
            [
             0.4444444444444444,
             "#bd3786"
            ],
            [
             0.5555555555555556,
             "#d8576b"
            ],
            [
             0.6666666666666666,
             "#ed7953"
            ],
            [
             0.7777777777777778,
             "#fb9f3a"
            ],
            [
             0.8888888888888888,
             "#fdca26"
            ],
            [
             1,
             "#f0f921"
            ]
           ]
          },
          "colorway": [
           "#636efa",
           "#EF553B",
           "#00cc96",
           "#ab63fa",
           "#FFA15A",
           "#19d3f3",
           "#FF6692",
           "#B6E880",
           "#FF97FF",
           "#FECB52"
          ],
          "font": {
           "color": "#2a3f5f"
          },
          "geo": {
           "bgcolor": "white",
           "lakecolor": "white",
           "landcolor": "#E5ECF6",
           "showlakes": true,
           "showland": true,
           "subunitcolor": "white"
          },
          "hoverlabel": {
           "align": "left"
          },
          "hovermode": "closest",
          "mapbox": {
           "style": "light"
          },
          "paper_bgcolor": "white",
          "plot_bgcolor": "#E5ECF6",
          "polar": {
           "angularaxis": {
            "gridcolor": "white",
            "linecolor": "white",
            "ticks": ""
           },
           "bgcolor": "#E5ECF6",
           "radialaxis": {
            "gridcolor": "white",
            "linecolor": "white",
            "ticks": ""
           }
          },
          "scene": {
           "xaxis": {
            "backgroundcolor": "#E5ECF6",
            "gridcolor": "white",
            "gridwidth": 2,
            "linecolor": "white",
            "showbackground": true,
            "ticks": "",
            "zerolinecolor": "white"
           },
           "yaxis": {
            "backgroundcolor": "#E5ECF6",
            "gridcolor": "white",
            "gridwidth": 2,
            "linecolor": "white",
            "showbackground": true,
            "ticks": "",
            "zerolinecolor": "white"
           },
           "zaxis": {
            "backgroundcolor": "#E5ECF6",
            "gridcolor": "white",
            "gridwidth": 2,
            "linecolor": "white",
            "showbackground": true,
            "ticks": "",
            "zerolinecolor": "white"
           }
          },
          "shapedefaults": {
           "line": {
            "color": "#2a3f5f"
           }
          },
          "ternary": {
           "aaxis": {
            "gridcolor": "white",
            "linecolor": "white",
            "ticks": ""
           },
           "baxis": {
            "gridcolor": "white",
            "linecolor": "white",
            "ticks": ""
           },
           "bgcolor": "#E5ECF6",
           "caxis": {
            "gridcolor": "white",
            "linecolor": "white",
            "ticks": ""
           }
          },
          "title": {
           "x": 0.05
          },
          "xaxis": {
           "automargin": true,
           "gridcolor": "white",
           "linecolor": "white",
           "ticks": "",
           "title": {
            "standoff": 15
           },
           "zerolinecolor": "white",
           "zerolinewidth": 2
          },
          "yaxis": {
           "automargin": true,
           "gridcolor": "white",
           "linecolor": "white",
           "ticks": "",
           "title": {
            "standoff": 15
           },
           "zerolinecolor": "white",
           "zerolinewidth": 2
          }
         }
        },
        "updatemenus": [
         {
          "buttons": [
           {
            "args": [
             {
              "visible": [
               true,
               true,
               true,
               true,
               true,
               true,
               true,
               false,
               false,
               false,
               false,
               false,
               false,
               false
              ]
             },
             {
              "annotations": [
               {
                "font": {
                 "color": "#002D72",
                 "family": "Gentona, Tahoma, sans-serif",
                 "size": 24
                },
                "showarrow": false,
                "text": "",
                "x": 0.02,
                "xref": "paper",
                "y": 1.2,
                "yref": "paper"
               },
               {
                "font": {
                 "color": "grey",
                 "family": "Gentona, Tahoma, sans-serif",
                 "size": 18
                },
                "showarrow": false,
                "text": "",
                "x": 0.02,
                "xref": "paper",
                "y": 1.1,
                "yref": "paper"
               },
               {
                "font": {
                 "color": "dimgray",
                 "family": "Gentona, Tahoma, sans-serif",
                 "size": 12
                },
                "showarrow": false,
                "text": "",
                "x": 1.32,
                "xref": "paper",
                "y": 0.95,
                "yref": "paper"
               },
               {
                "font": {
                 "color": "dimgray",
                 "family": "Gentona, Tahoma, sans-serif",
                 "size": 12
                },
                "height": 30,
                "showarrow": false,
                "text": "10%",
                "textangle": -30,
                "valign": "top",
                "x": 5.386415130598562,
                "xref": "x",
                "y": 4.386415130598562,
                "yref": "y"
               },
               {
                "font": {
                 "color": "dimgray",
                 "family": "Gentona, Tahoma, sans-serif",
                 "size": 12
                },
                "height": 30,
                "showarrow": false,
                "text": "5%",
                "textangle": -30,
                "valign": "top",
                "x": 5.386415130598562,
                "xref": "x",
                "y": 4.08538513493458,
                "yref": "y"
               },
               {
                "font": {
                 "color": "dimgray",
                 "family": "Gentona, Tahoma, sans-serif",
                 "size": 12
                },
                "height": 30,
                "showarrow": false,
                "text": "2%",
                "textangle": -30,
                "valign": "top",
                "x": 5.386415130598562,
                "xref": "x",
                "y": 3.687445126262543,
                "yref": "y"
               },
               {
                "font": {
                 "color": "dimgray",
                 "family": "Gentona, Tahoma, sans-serif",
                 "size": 12
                },
                "height": 30,
                "showarrow": false,
                "text": "1%",
                "textangle": -30,
                "valign": "top",
                "x": 5.386415130598562,
                "xref": "x",
                "y": 3.386415130598562,
                "yref": "y"
               },
               {
                "font": {
                 "color": "dimgray",
                 "family": "Gentona, Tahoma, sans-serif",
                 "size": 12
                },
                "height": 30,
                "showarrow": false,
                "text": "0.5%",
                "textangle": -30,
                "valign": "top",
                "x": 5.386415130598562,
                "xref": "x",
                "y": 3.085385134934581,
                "yref": "y"
               }
              ],
              "xaxis.title": "Confirmed cases"
             }
            ],
            "label": "Observed case-fatality ratio",
            "method": "update"
           },
           {
            "args": [
             {
              "visible": [
               false,
               false,
               false,
               false,
               false,
               false,
               false,
               true,
               true,
               true,
               true,
               true,
               true,
               true
              ]
             },
             {
              "annotations": [
               {
                "font": {
                 "color": "#002D72",
                 "family": "Gentona, Tahoma, sans-serif",
                 "size": 24
                },
                "showarrow": false,
                "text": "",
                "x": 0.02,
                "xref": "paper",
                "y": 1.2,
                "yref": "paper"
               },
               {
                "font": {
                 "color": "grey",
                 "family": "Gentona, Tahoma, sans-serif",
                 "size": 18
                },
                "showarrow": false,
                "text": "",
                "x": 0.02,
                "xref": "paper",
                "y": 1.1,
                "yref": "paper"
               },
               {
                "font": {
                 "color": "dimgray",
                 "family": "Gentona, Tahoma, sans-serif",
                 "size": 12
                },
                "showarrow": false,
                "text": "",
                "x": 1.32,
                "xref": "paper",
                "y": 0.95,
                "yref": "paper"
               },
               {
                "font": {
                 "color": "dimgray",
                 "family": "Gentona, Tahoma, sans-serif",
                 "size": 12
                },
                "halign": "right",
                "height": 30,
                "showarrow": false,
                "text": "10<br>per 100k population",
                "textangle": -20,
                "valign": "top",
                "x": 9.143866930583641,
                "xref": "x",
                "y": 6.14386693058364,
                "yref": "y"
               },
               {
                "font": {
                 "color": "dimgray",
                 "family": "Gentona, Tahoma, sans-serif",
                 "size": 12
                },
                "height": 30,
                "showarrow": false,
                "text": "5",
                "textangle": -20,
                "valign": "top",
                "x": 9.143866930583641,
                "xref": "x",
                "y": 5.14386693058364,
                "yref": "y"
               },
               {
                "font": {
                 "color": "dimgray",
                 "family": "Gentona, Tahoma, sans-serif",
                 "size": 12
                },
                "height": 30,
                "showarrow": false,
                "text": "1",
                "textangle": -20,
                "valign": "top",
                "x": 9.143866930583641,
                "xref": "x",
                "y": 4.14386693058364,
                "yref": "y"
               },
               {
                "font": {
                 "color": "dimgray",
                 "family": "Gentona, Tahoma, sans-serif",
                 "size": 12
                },
                "height": 20,
                "showarrow": false,
                "text": "0.1",
                "textangle": -15,
                "valign": "top",
                "x": 9.143866930583641,
                "xref": "x",
                "y": 3.143866930583641,
                "yref": "y"
               },
               {
                "font": {
                 "color": "dimgray",
                 "family": "Gentona, Tahoma, sans-serif",
                 "size": 12
                },
                "height": 30,
                "showarrow": false,
                "text": "0.01",
                "textangle": -20,
                "valign": "top",
                "x": 9.143866930583641,
                "xref": "x",
                "y": 2.143866930583641,
                "yref": "y"
               }
              ],
              "xaxis.title": "Country Population"
             }
            ],
            "label": "Deaths per 100,000 population",
            "method": "update"
           }
          ],
          "direction": "left",
          "pad": {
           "r": 10,
           "t": 10
          },
          "showactive": true,
          "type": "buttons",
          "x": 0,
          "xanchor": "left",
          "y": 1.2,
          "yanchor": "top"
         }
        ],
        "width": 800,
        "xaxis": {
         "nticks": 5,
         "rangemode": "nonnegative",
         "showgrid": false,
         "title": {
          "text": "Confirmed cases"
         },
         "type": "log",
         "zeroline": false
        },
        "yaxis": {
         "gridcolor": "lightgray",
         "nticks": 5,
         "showgrid": false,
         "title": {
          "text": "Deaths"
         },
         "type": "log"
        }
       }
      },
      "text/html": [
       "<div>\n",
       "        \n",
       "        \n",
       "            <div id=\"44944e82-2aee-4726-899d-8531b8fd9859\" class=\"plotly-graph-div\" style=\"height:500px; width:800px;\"></div>\n",
       "            <script type=\"text/javascript\">\n",
       "                require([\"plotly\"], function(Plotly) {\n",
       "                    window.PLOTLYENV=window.PLOTLYENV || {};\n",
       "                    \n",
       "                if (document.getElementById(\"44944e82-2aee-4726-899d-8531b8fd9859\")) {\n",
       "                    Plotly.newPlot(\n",
       "                        '44944e82-2aee-4726-899d-8531b8fd9859',\n",
       "                        [{\"hoverinfo\": \"text\", \"hoverlabel\": {\"bgcolor\": \"white\", \"bordercolor\": \"gray\", \"font\": {\"color\": \"gray\"}}, \"hovertext\": [\"Afghanistan:<br>2.2%\", \"Albania:<br>5.8%\", \"Algeria:<br>8.7%\", \"Andorra:<br>3.5%\", \"Argentina:<br>3.2%\", \"Armenia:<br>1.1%\", \"Australia:<br>0.5%\", \"Austria:<br>1.4%\", \"Azerbaijan:<br>1.2%\", \"Bahrain:<br>0.6%\", \"Bangladesh:<br>10.7%\", \"Belarus:<br>1.3%\", \"Belgium:<br>6.6%\", \"Bolivia:<br>6.5%\", \"Bosnia and Herzegovina:<br>3.0%\", \"Brazil:<br>4.0%\", \"Bulgaria:<br>2.2%\", \"Burkina Faso:<br>5.6%\", \"Cameroon:<br>2.3%\", \"Canada:<br>1.2%\", \"Chile:<br>0.5%\", \"China:<br>4.0%\", \"Colombia:<br>1.6%\", \"Congo (Kinshasa):<br>9.7%\", \"Croatia:<br>0.7%\", \"Cuba:<br>2.6%\", \"Cyprus:<br>2.8%\", \"Czechia:<br>1.1%\", \"Denmark:<br>3.4%\", \"Diamond Princess:<br>1.5%\", \"Dominican Republic:<br>4.3%\", \"Ecuador:<br>3.8%\", \"Egypt:<br>6.7%\", \"Estonia:<br>1.3%\", \"Finland:<br>1.3%\", \"France:<br>9.0%\", \"Germany:<br>1.3%\", \"Ghana:<br>2.5%\", \"Greece:<br>3.4%\", \"Guyana:<br>21.1%\", \"Honduras:<br>6.4%\", \"Hungary:<br>3.6%\", \"Iceland:<br>0.3%\", \"India:<br>2.8%\", \"Indonesia:<br>9.5%\", \"Iran:<br>6.3%\", \"Iraq:<br>7.0%\", \"Ireland:<br>2.5%\", \"Israel:<br>0.5%\", \"Italy:<br>12.1%\", \"Jamaica:<br>6.4%\", \"Japan:<br>2.5%\", \"Jordan:<br>1.7%\", \"Kazakhstan:<br>0.7%\", \"Kenya:<br>2.7%\", \"Korea, South:<br>1.7%\", \"Lebanon:<br>3.2%\", \"Lithuania:<br>1.4%\", \"Luxembourg:<br>1.2%\", \"Malaysia:<br>1.6%\", \"Mali:<br>8.3%\", \"Mauritius:<br>4.1%\", \"Mexico:<br>2.7%\", \"Moldova:<br>1.2%\", \"Morocco:<br>6.2%\", \"Netherlands:<br>9.1%\", \"Niger:<br>5.1%\", \"North Macedonia:<br>2.9%\", \"Norway:<br>1.0%\", \"Pakistan:<br>1.4%\", \"Panama:<br>2.4%\", \"Paraguay:<br>3.9%\", \"Peru:<br>3.9%\", \"Philippines:<br>4.1%\", \"Poland:<br>1.9%\", \"Portugal:<br>2.3%\", \"Qatar:<br>0.3%\", \"Romania:<br>4.2%\", \"Russia:<br>0.8%\", \"San Marino:<br>12.2%\", \"Saudi Arabia:<br>1.1%\", \"Serbia:<br>2.6%\", \"Singapore:<br>0.4%\", \"Slovenia:<br>1.9%\", \"South Africa:<br>0.3%\", \"Spain:<br>9.2%\", \"Sri Lanka:<br>2.6%\", \"Sweden:<br>5.5%\", \"Switzerland:<br>2.8%\", \"Taiwan*:<br>1.5%\", \"Thailand:<br>0.8%\", \"Trinidad and Tobago:<br>5.3%\", \"Tunisia:<br>3.1%\", \"Turkey:<br>2.0%\", \"US:<br>2.4%\", \"Ukraine:<br>2.5%\", \"United Arab Emirates:<br>0.8%\", \"United Kingdom:<br>8.6%\", \"Uruguay:<br>1.1%\", \"Venezuela:<br>3.4%\"], \"marker\": {\"color\": \"orange\", \"size\": 6}, \"mode\": \"markers\", \"text\": [\"Afghanistan\", \"Albania\", \"Algeria\", \"Andorra\", \"Argentina\", \"Armenia\", \"Australia\", \"Austria\", \"Azerbaijan\", \"Bahrain\", \"Bangladesh\", \"Belarus\", \"Belgium\", \"Bolivia\", \"Bosnia and Herzegovina\", \"Brazil\", \"Bulgaria\", \"Burkina Faso\", \"Cameroon\", \"Canada\", \"Chile\", \"China\", \"Colombia\", \"Congo (Kinshasa)\", \"Croatia\", \"Cuba\", \"Cyprus\", \"Czechia\", \"Denmark\", \"Diamond Princess\", \"Dominican Republic\", \"Ecuador\", \"Egypt\", \"Estonia\", \"Finland\", \"France\", \"Germany\", \"Ghana\", \"Greece\", \"Guyana\", \"Honduras\", \"Hungary\", \"Iceland\", \"India\", \"Indonesia\", \"Iran\", \"Iraq\", \"Ireland\", \"Israel\", \"Italy\", \"Jamaica\", \"Japan\", \"Jordan\", \"Kazakhstan\", \"Kenya\", \"Korea, South\", \"Lebanon\", \"Lithuania\", \"Luxembourg\", \"Malaysia\", \"Mali\", \"Mauritius\", \"Mexico\", \"Moldova\", \"Morocco\", \"Netherlands\", \"Niger\", \"North Macedonia\", \"Norway\", \"Pakistan\", \"Panama\", \"Paraguay\", \"Peru\", \"Philippines\", \"Poland\", \"Portugal\", \"Qatar\", \"Romania\", \"Russia\", \"San Marino\", \"Saudi Arabia\", \"Serbia\", \"Singapore\", \"Slovenia\", \"South Africa\", \"Spain\", \"Sri Lanka\", \"Sweden\", \"Switzerland\", \"Taiwan*\", \"Thailand\", \"Trinidad and Tobago\", \"Tunisia\", \"Turkey\", \"US\", \"Ukraine\", \"United Arab Emirates\", \"United Kingdom\", \"Uruguay\", \"Venezuela\"], \"textposition\": \"top center\", \"type\": \"scatter\", \"x\": [273, 277, 986, 428, 1133, 663, 5116, 11129, 400, 643, 56, 304, 15348, 123, 533, 8044, 457, 288, 306, 11284, 3404, 82432, 1161, 134, 1011, 233, 356, 3858, 3573, 712, 1380, 3163, 865, 858, 1518, 59929, 84794, 204, 1544, 19, 219, 585, 1319, 2543, 1790, 50468, 772, 3849, 6857, 115242, 47, 2495, 299, 435, 110, 9976, 494, 649, 2487, 3116, 36, 169, 1378, 505, 708, 14788, 98, 384, 5147, 2421, 1317, 77, 1414, 2633, 2946, 9034, 949, 2738, 3548, 245, 1885, 1171, 1049, 897, 1462, 112065, 151, 5568, 18827, 339, 1875, 94, 455, 18135, 243453, 897, 1024, 34173, 350, 146], \"y\": [6, 16, 86, 15, 36, 7, 24, 158, 5, 4, 6, 4, 1011, 8, 16, 324, 10, 16, 7, 139, 18, 3322, 19, 13, 7, 6, 10, 44, 123, 11, 60, 120, 58, 11, 19, 5398, 1107, 5, 53, 4, 14, 21, 4, 72, 170, 3160, 54, 98, 36, 13915, 3, 62, 5, 3, 3, 169, 16, 9, 30, 50, 3, 7, 37, 6, 44, 1341, 5, 11, 50, 34, 32, 3, 55, 107, 57, 209, 3, 115, 30, 30, 21, 31, 4, 17, 5, 10348, 4, 308, 536, 5, 15, 5, 14, 356, 5926, 22, 8, 2926, 4, 5]}, {\"hoverinfo\": \"text\", \"hoverlabel\": {\"bgcolor\": \"white\", \"bordercolor\": \"gray\", \"font\": {\"color\": \"gray\"}}, \"hovertext\": [\"Belgium:<br>6.6%\", \"China:<br>4.0%\", \"France:<br>9.0%\", \"Germany:<br>1.3%\", \"Iran:<br>6.3%\", \"Italy:<br>12.1%\", \"Netherlands:<br>9.1%\", \"Spain:<br>9.2%\", \"US:<br>2.4%\", \"United Kingdom:<br>8.6%\"], \"marker\": {\"color\": \"orange\", \"line\": {\"color\": \"black\", \"width\": 1}, \"opacity\": 1, \"size\": 6}, \"mode\": \"markers\", \"type\": \"scatter\", \"x\": [15348, 82432, 59929, 84794, 50468, 115242, 14788, 112065, 243453, 34173], \"y\": [1011, 3322, 5398, 1107, 3160, 13915, 1341, 10348, 5926, 2926]}, {\"line\": {\"width\": 0.3}, \"marker\": {\"color\": \"gray\"}, \"mode\": \"lines\", \"type\": \"scatter\", \"x\": [0, 243453], \"y\": [0, 24345.300000000003]}, {\"line\": {\"width\": 0.3}, \"marker\": {\"color\": \"gray\"}, \"mode\": \"lines\", \"type\": \"scatter\", \"x\": [0, 243453], \"y\": [0, 12172.650000000001]}, {\"line\": {\"width\": 0.3}, \"marker\": {\"color\": \"gray\"}, \"mode\": \"lines\", \"type\": \"scatter\", \"x\": [0, 243453], \"y\": [0, 4869.06]}, {\"line\": {\"width\": 0.3}, \"marker\": {\"color\": \"gray\"}, \"mode\": \"lines\", \"type\": \"scatter\", \"x\": [0, 243453], \"y\": [0, 2434.53]}, {\"line\": {\"width\": 0.3}, \"marker\": {\"color\": \"gray\"}, \"mode\": \"lines\", \"type\": \"scatter\", \"x\": [0, 243453], \"y\": [0, 1217.265]}, {\"hoverinfo\": \"text\", \"hoverlabel\": {\"bgcolor\": \"white\", \"bordercolor\": \"gray\", \"font\": {\"color\": \"gray\"}}, \"hovertext\": [\"Afghanistan:<br>0.0\", \"Albania:<br>0.6\", \"Algeria:<br>0.2\", \"Andorra:<br>19.5\", \"Argentina:<br>0.1\", \"Armenia:<br>0.2\", \"Australia:<br>0.1\", \"Austria:<br>1.8\", \"Azerbaijan:<br>0.1\", \"Bahrain:<br>0.3\", \"Bangladesh:<br>0.0\", \"Belarus:<br>0.0\", \"Belgium:<br>8.9\", \"Bolivia:<br>0.1\", \"Bosnia and Herzegovina:<br>0.5\", \"Brazil:<br>0.2\", \"Bulgaria:<br>0.1\", \"Burkina Faso:<br>0.1\", \"Cameroon:<br>0.0\", \"Canada:<br>0.4\", \"Chile:<br>0.1\", \"China:<br>0.2\", \"Colombia:<br>0.0\", \"Congo (Kinshasa):<br>0.0\", \"Croatia:<br>0.2\", \"Cuba:<br>0.1\", \"Cyprus:<br>0.8\", \"Czechia:<br>0.4\", \"Denmark:<br>2.1\", \"Diamond Princess:<br>nan\", \"Dominican Republic:<br>0.6\", \"Ecuador:<br>0.7\", \"Egypt:<br>0.1\", \"Estonia:<br>0.8\", \"Finland:<br>0.3\", \"France:<br>8.1\", \"Germany:<br>1.3\", \"Ghana:<br>0.0\", \"Greece:<br>0.5\", \"Guyana:<br>0.5\", \"Honduras:<br>0.1\", \"Hungary:<br>0.2\", \"Iceland:<br>1.1\", \"India:<br>0.0\", \"Indonesia:<br>0.1\", \"Iran:<br>3.9\", \"Iraq:<br>0.1\", \"Ireland:<br>2.0\", \"Israel:<br>0.4\", \"Italy:<br>23.0\", \"Jamaica:<br>0.1\", \"Japan:<br>0.0\", \"Jordan:<br>0.1\", \"Kazakhstan:<br>0.0\", \"Kenya:<br>0.0\", \"Korea, South:<br>0.3\", \"Lebanon:<br>0.2\", \"Lithuania:<br>0.3\", \"Luxembourg:<br>4.9\", \"Malaysia:<br>0.2\", \"Mali:<br>0.0\", \"Mauritius:<br>0.6\", \"Mexico:<br>0.0\", \"Moldova:<br>0.2\", \"Morocco:<br>0.1\", \"Netherlands:<br>7.8\", \"Niger:<br>0.0\", \"North Macedonia:<br>0.5\", \"Norway:<br>0.9\", \"Pakistan:<br>0.0\", \"Panama:<br>0.8\", \"Paraguay:<br>0.0\", \"Peru:<br>0.2\", \"Philippines:<br>0.1\", \"Poland:<br>0.2\", \"Portugal:<br>2.0\", \"Qatar:<br>0.1\", \"Romania:<br>0.6\", \"Russia:<br>0.0\", \"San Marino:<br>88.8\", \"Saudi Arabia:<br>0.1\", \"Serbia:<br>0.4\", \"Singapore:<br>0.1\", \"Slovenia:<br>0.8\", \"South Africa:<br>0.0\", \"Spain:<br>22.1\", \"Sri Lanka:<br>0.0\", \"Sweden:<br>3.0\", \"Switzerland:<br>6.3\", \"Taiwan*:<br>0.0\", \"Thailand:<br>0.0\", \"Trinidad and Tobago:<br>0.4\", \"Tunisia:<br>0.1\", \"Turkey:<br>0.4\", \"US:<br>1.8\", \"Ukraine:<br>0.0\", \"United Arab Emirates:<br>0.1\", \"United Kingdom:<br>4.4\", \"Uruguay:<br>0.1\", \"Venezuela:<br>0.0\"], \"marker\": {\"color\": \"orange\", \"size\": 6}, \"mode\": \"markers\", \"type\": \"scatter\", \"visible\": false, \"x\": [37172386.0, 2866376.0, 42228429.0, 77006.0, 44494502.0, 2951776.0, 24992369.0, 8847037.0, 9942334.0, 1569439.0, 161356039.0, 9485386.0, 11422068.0, 11353142.0, 3323929.0, 209469333.0, 7024216.0, 19751535.0, 25216237.0, 37058856.0, 18729160.0, 1392730000.0, 49648685.0, 84068091.0, 4089400.0, 11338138.0, 1189265.0, 10625695.0, 5797446.0, null, 10627165.0, 17084357.0, 98423595.0, 1320884.0, 5518050.0, 66987244.0, 82927922.0, 29767108.0, 10727668.0, 779004.0, 9587522.0, 9768785.0, 353574.0, 1352617328.0, 267663435.0, 81800269.0, 38433600.0, 4853506.0, 8883800.0, 60431283.0, 2934855.0, 126529100.0, 9956011.0, 18276499.0, 51393010.0, 51635256.0, 6848925.0, 2789533.0, 607728.0, 31528585.0, 19077690.0, 1265303.0, 126190788.0, 3545883.0, 36029138.0, 17231017.0, 22442948.0, 2082958.0, 5314336.0, 212215030.0, 4176873.0, 6956071.0, 31989256.0, 106651922.0, 37978548.0, 10281762.0, 2781677.0, 19473936.0, 144478050.0, 33785.0, 33699947.0, 6982084.0, 5638676.0, 2067372.0, 57779622.0, 46723749.0, 21670000.0, 10183175.0, 8516543.0, 23780452.0, 69428524.0, 1389858.0, 11565204.0, 82319724.0, 327167434.0, 44622516.0, 9630959.0, 66488991.0, 3449299.0, 28870195.0], \"y\": [6, 16, 86, 15, 36, 7, 24, 158, 5, 4, 6, 4, 1011, 8, 16, 324, 10, 16, 7, 139, 18, 3322, 19, 13, 7, 6, 10, 44, 123, 11, 60, 120, 58, 11, 19, 5398, 1107, 5, 53, 4, 14, 21, 4, 72, 170, 3160, 54, 98, 36, 13915, 3, 62, 5, 3, 3, 169, 16, 9, 30, 50, 3, 7, 37, 6, 44, 1341, 5, 11, 50, 34, 32, 3, 55, 107, 57, 209, 3, 115, 30, 30, 21, 31, 4, 17, 5, 10348, 4, 308, 536, 5, 15, 5, 14, 356, 5926, 22, 8, 2926, 4, 5]}, {\"hoverinfo\": \"text\", \"hoverlabel\": {\"bgcolor\": \"white\", \"bordercolor\": \"gray\", \"font\": {\"color\": \"gray\"}}, \"hovertext\": [\"Belgium:<br>8.9\", \"China:<br>0.2\", \"France:<br>8.1\", \"Germany:<br>1.3\", \"Iran:<br>3.9\", \"Italy:<br>23.0\", \"Netherlands:<br>7.8\", \"Spain:<br>22.1\", \"US:<br>1.8\", \"United Kingdom:<br>4.4\"], \"marker\": {\"color\": \"orange\", \"line\": {\"color\": \"black\", \"width\": 1}, \"opacity\": 1, \"size\": 6}, \"mode\": \"markers\", \"type\": \"scatter\", \"visible\": false, \"x\": [11422068.0, 1392730000.0, 66987244.0, 82927922.0, 81800269.0, 60431283.0, 17231017.0, 46723749.0, 327167434.0, 66488991.0], \"y\": [1011, 3322, 5398, 1107, 3160, 13915, 1341, 10348, 5926, 2926]}, {\"line\": {\"width\": 0.3}, \"marker\": {\"color\": \"gray\"}, \"mode\": \"lines\", \"type\": \"scatter\", \"visible\": false, \"x\": [0, 1392730000.0], \"y\": [0, 1392730.0]}, {\"line\": {\"width\": 0.3}, \"marker\": {\"color\": \"gray\"}, \"mode\": \"lines\", \"type\": \"scatter\", \"visible\": false, \"x\": [0, 1392730000.0], \"y\": [0, 139273.0]}, {\"line\": {\"width\": 0.3}, \"marker\": {\"color\": \"gray\"}, \"mode\": \"lines\", \"type\": \"scatter\", \"visible\": false, \"x\": [0, 1392730000.0], \"y\": [0, 13927.3]}, {\"line\": {\"width\": 0.3}, \"marker\": {\"color\": \"gray\"}, \"mode\": \"lines\", \"type\": \"scatter\", \"visible\": false, \"x\": [0, 1392730000.0], \"y\": [0, 1392.73]}, {\"line\": {\"width\": 0.3}, \"marker\": {\"color\": \"gray\"}, \"mode\": \"lines\", \"type\": \"scatter\", \"visible\": false, \"x\": [0, 1392730000.0], \"y\": [0, 139.273]}],\n",
       "                        {\"annotations\": [{\"font\": {\"color\": \"#002D72\", \"family\": \"Gentona, Tahoma, sans-serif\", \"size\": 24}, \"showarrow\": false, \"text\": \"\", \"x\": 0.02, \"xref\": \"paper\", \"y\": 1.2, \"yref\": \"paper\"}, {\"font\": {\"color\": \"grey\", \"family\": \"Gentona, Tahoma, sans-serif\", \"size\": 18}, \"showarrow\": false, \"text\": \"\", \"x\": 0.02, \"xref\": \"paper\", \"y\": 1.1, \"yref\": \"paper\"}, {\"font\": {\"color\": \"dimgray\", \"family\": \"Gentona, Tahoma, sans-serif\", \"size\": 12}, \"showarrow\": false, \"text\": \"\", \"x\": 1.32, \"xref\": \"paper\", \"y\": 0.95, \"yref\": \"paper\"}, {\"font\": {\"color\": \"dimgray\", \"family\": \"Gentona, Tahoma, sans-serif\", \"size\": 12}, \"height\": 30, \"showarrow\": false, \"text\": \"10%\", \"textangle\": -30, \"valign\": \"top\", \"x\": 5.386415130598562, \"xref\": \"x\", \"y\": 4.386415130598562, \"yref\": \"y\"}, {\"font\": {\"color\": \"dimgray\", \"family\": \"Gentona, Tahoma, sans-serif\", \"size\": 12}, \"height\": 30, \"showarrow\": false, \"text\": \"5%\", \"textangle\": -30, \"valign\": \"top\", \"x\": 5.386415130598562, \"xref\": \"x\", \"y\": 4.08538513493458, \"yref\": \"y\"}, {\"font\": {\"color\": \"dimgray\", \"family\": \"Gentona, Tahoma, sans-serif\", \"size\": 12}, \"height\": 30, \"showarrow\": false, \"text\": \"2%\", \"textangle\": -30, \"valign\": \"top\", \"x\": 5.386415130598562, \"xref\": \"x\", \"y\": 3.687445126262543, \"yref\": \"y\"}, {\"font\": {\"color\": \"dimgray\", \"family\": \"Gentona, Tahoma, sans-serif\", \"size\": 12}, \"height\": 30, \"showarrow\": false, \"text\": \"1%\", \"textangle\": -30, \"valign\": \"top\", \"x\": 5.386415130598562, \"xref\": \"x\", \"y\": 3.386415130598562, \"yref\": \"y\"}, {\"font\": {\"color\": \"dimgray\", \"family\": \"Gentona, Tahoma, sans-serif\", \"size\": 12}, \"height\": 30, \"showarrow\": false, \"text\": \"0.5%\", \"textangle\": -30, \"valign\": \"top\", \"x\": 5.386415130598562, \"xref\": \"x\", \"y\": 3.085385134934581, \"yref\": \"y\"}], \"font\": {\"color\": \"dimgray\", \"family\": \"Gentona, Tahoma, sans-serif\", \"size\": 12}, \"height\": 500, \"hovermode\": \"closest\", \"legend\": {\"x\": 1.03, \"y\": 0.7}, \"margin\": {\"b\": 100, \"l\": 120, \"pad\": 4, \"r\": 50, \"t\": 100}, \"plot_bgcolor\": \"white\", \"showlegend\": false, \"template\": {\"data\": {\"bar\": [{\"error_x\": {\"color\": \"#2a3f5f\"}, \"error_y\": {\"color\": \"#2a3f5f\"}, \"marker\": {\"line\": {\"color\": \"#E5ECF6\", \"width\": 0.5}}, \"type\": \"bar\"}], \"barpolar\": [{\"marker\": {\"line\": {\"color\": \"#E5ECF6\", \"width\": 0.5}}, \"type\": \"barpolar\"}], \"carpet\": [{\"aaxis\": {\"endlinecolor\": \"#2a3f5f\", \"gridcolor\": \"white\", \"linecolor\": \"white\", \"minorgridcolor\": \"white\", \"startlinecolor\": \"#2a3f5f\"}, \"baxis\": {\"endlinecolor\": \"#2a3f5f\", \"gridcolor\": \"white\", \"linecolor\": \"white\", \"minorgridcolor\": \"white\", \"startlinecolor\": \"#2a3f5f\"}, \"type\": \"carpet\"}], \"choropleth\": [{\"colorbar\": {\"outlinewidth\": 0, \"ticks\": \"\"}, \"type\": \"choropleth\"}], \"contour\": [{\"colorbar\": {\"outlinewidth\": 0, \"ticks\": \"\"}, \"colorscale\": [[0.0, \"#0d0887\"], [0.1111111111111111, \"#46039f\"], [0.2222222222222222, \"#7201a8\"], [0.3333333333333333, \"#9c179e\"], [0.4444444444444444, \"#bd3786\"], [0.5555555555555556, \"#d8576b\"], [0.6666666666666666, \"#ed7953\"], [0.7777777777777778, \"#fb9f3a\"], [0.8888888888888888, \"#fdca26\"], [1.0, \"#f0f921\"]], \"type\": \"contour\"}], \"contourcarpet\": [{\"colorbar\": {\"outlinewidth\": 0, \"ticks\": \"\"}, \"type\": \"contourcarpet\"}], \"heatmap\": [{\"colorbar\": {\"outlinewidth\": 0, \"ticks\": \"\"}, \"colorscale\": [[0.0, \"#0d0887\"], [0.1111111111111111, \"#46039f\"], [0.2222222222222222, \"#7201a8\"], [0.3333333333333333, \"#9c179e\"], [0.4444444444444444, \"#bd3786\"], [0.5555555555555556, \"#d8576b\"], [0.6666666666666666, \"#ed7953\"], [0.7777777777777778, \"#fb9f3a\"], [0.8888888888888888, \"#fdca26\"], [1.0, \"#f0f921\"]], \"type\": \"heatmap\"}], \"heatmapgl\": [{\"colorbar\": {\"outlinewidth\": 0, \"ticks\": \"\"}, \"colorscale\": [[0.0, \"#0d0887\"], [0.1111111111111111, \"#46039f\"], [0.2222222222222222, \"#7201a8\"], [0.3333333333333333, \"#9c179e\"], [0.4444444444444444, \"#bd3786\"], [0.5555555555555556, \"#d8576b\"], [0.6666666666666666, \"#ed7953\"], [0.7777777777777778, \"#fb9f3a\"], [0.8888888888888888, \"#fdca26\"], [1.0, \"#f0f921\"]], \"type\": \"heatmapgl\"}], \"histogram\": [{\"marker\": {\"colorbar\": {\"outlinewidth\": 0, \"ticks\": \"\"}}, \"type\": \"histogram\"}], \"histogram2d\": [{\"colorbar\": {\"outlinewidth\": 0, \"ticks\": \"\"}, \"colorscale\": [[0.0, \"#0d0887\"], [0.1111111111111111, \"#46039f\"], [0.2222222222222222, \"#7201a8\"], [0.3333333333333333, \"#9c179e\"], [0.4444444444444444, \"#bd3786\"], [0.5555555555555556, \"#d8576b\"], [0.6666666666666666, \"#ed7953\"], [0.7777777777777778, \"#fb9f3a\"], [0.8888888888888888, \"#fdca26\"], [1.0, \"#f0f921\"]], \"type\": \"histogram2d\"}], \"histogram2dcontour\": [{\"colorbar\": {\"outlinewidth\": 0, \"ticks\": \"\"}, \"colorscale\": [[0.0, \"#0d0887\"], [0.1111111111111111, \"#46039f\"], [0.2222222222222222, \"#7201a8\"], [0.3333333333333333, \"#9c179e\"], [0.4444444444444444, \"#bd3786\"], [0.5555555555555556, \"#d8576b\"], [0.6666666666666666, \"#ed7953\"], [0.7777777777777778, \"#fb9f3a\"], [0.8888888888888888, \"#fdca26\"], [1.0, \"#f0f921\"]], \"type\": \"histogram2dcontour\"}], \"mesh3d\": [{\"colorbar\": {\"outlinewidth\": 0, \"ticks\": \"\"}, \"type\": \"mesh3d\"}], \"parcoords\": [{\"line\": {\"colorbar\": {\"outlinewidth\": 0, \"ticks\": \"\"}}, \"type\": \"parcoords\"}], \"pie\": [{\"automargin\": true, \"type\": \"pie\"}], \"scatter\": [{\"marker\": {\"colorbar\": {\"outlinewidth\": 0, \"ticks\": \"\"}}, \"type\": \"scatter\"}], \"scatter3d\": [{\"line\": {\"colorbar\": {\"outlinewidth\": 0, \"ticks\": \"\"}}, \"marker\": {\"colorbar\": {\"outlinewidth\": 0, \"ticks\": \"\"}}, \"type\": \"scatter3d\"}], \"scattercarpet\": [{\"marker\": {\"colorbar\": {\"outlinewidth\": 0, \"ticks\": \"\"}}, \"type\": \"scattercarpet\"}], \"scattergeo\": [{\"marker\": {\"colorbar\": {\"outlinewidth\": 0, \"ticks\": \"\"}}, \"type\": \"scattergeo\"}], \"scattergl\": [{\"marker\": {\"colorbar\": {\"outlinewidth\": 0, \"ticks\": \"\"}}, \"type\": \"scattergl\"}], \"scattermapbox\": [{\"marker\": {\"colorbar\": {\"outlinewidth\": 0, \"ticks\": \"\"}}, \"type\": \"scattermapbox\"}], \"scatterpolar\": [{\"marker\": {\"colorbar\": {\"outlinewidth\": 0, \"ticks\": \"\"}}, \"type\": \"scatterpolar\"}], \"scatterpolargl\": [{\"marker\": {\"colorbar\": {\"outlinewidth\": 0, \"ticks\": \"\"}}, \"type\": \"scatterpolargl\"}], \"scatterternary\": [{\"marker\": {\"colorbar\": {\"outlinewidth\": 0, \"ticks\": \"\"}}, \"type\": \"scatterternary\"}], \"surface\": [{\"colorbar\": {\"outlinewidth\": 0, \"ticks\": \"\"}, \"colorscale\": [[0.0, \"#0d0887\"], [0.1111111111111111, \"#46039f\"], [0.2222222222222222, \"#7201a8\"], [0.3333333333333333, \"#9c179e\"], [0.4444444444444444, \"#bd3786\"], [0.5555555555555556, \"#d8576b\"], [0.6666666666666666, \"#ed7953\"], [0.7777777777777778, \"#fb9f3a\"], [0.8888888888888888, \"#fdca26\"], [1.0, \"#f0f921\"]], \"type\": \"surface\"}], \"table\": [{\"cells\": {\"fill\": {\"color\": \"#EBF0F8\"}, \"line\": {\"color\": \"white\"}}, \"header\": {\"fill\": {\"color\": \"#C8D4E3\"}, \"line\": {\"color\": \"white\"}}, \"type\": \"table\"}]}, \"layout\": {\"annotationdefaults\": {\"arrowcolor\": \"#2a3f5f\", \"arrowhead\": 0, \"arrowwidth\": 1}, \"coloraxis\": {\"colorbar\": {\"outlinewidth\": 0, \"ticks\": \"\"}}, \"colorscale\": {\"diverging\": [[0, \"#8e0152\"], [0.1, \"#c51b7d\"], [0.2, \"#de77ae\"], [0.3, \"#f1b6da\"], [0.4, \"#fde0ef\"], [0.5, \"#f7f7f7\"], [0.6, \"#e6f5d0\"], [0.7, \"#b8e186\"], [0.8, \"#7fbc41\"], [0.9, \"#4d9221\"], [1, \"#276419\"]], \"sequential\": [[0.0, \"#0d0887\"], [0.1111111111111111, \"#46039f\"], [0.2222222222222222, \"#7201a8\"], [0.3333333333333333, \"#9c179e\"], [0.4444444444444444, \"#bd3786\"], [0.5555555555555556, \"#d8576b\"], [0.6666666666666666, \"#ed7953\"], [0.7777777777777778, \"#fb9f3a\"], [0.8888888888888888, \"#fdca26\"], [1.0, \"#f0f921\"]], \"sequentialminus\": [[0.0, \"#0d0887\"], [0.1111111111111111, \"#46039f\"], [0.2222222222222222, \"#7201a8\"], [0.3333333333333333, \"#9c179e\"], [0.4444444444444444, \"#bd3786\"], [0.5555555555555556, \"#d8576b\"], [0.6666666666666666, \"#ed7953\"], [0.7777777777777778, \"#fb9f3a\"], [0.8888888888888888, \"#fdca26\"], [1.0, \"#f0f921\"]]}, \"colorway\": [\"#636efa\", \"#EF553B\", \"#00cc96\", \"#ab63fa\", \"#FFA15A\", \"#19d3f3\", \"#FF6692\", \"#B6E880\", \"#FF97FF\", \"#FECB52\"], \"font\": {\"color\": \"#2a3f5f\"}, \"geo\": {\"bgcolor\": \"white\", \"lakecolor\": \"white\", \"landcolor\": \"#E5ECF6\", \"showlakes\": true, \"showland\": true, \"subunitcolor\": \"white\"}, \"hoverlabel\": {\"align\": \"left\"}, \"hovermode\": \"closest\", \"mapbox\": {\"style\": \"light\"}, \"paper_bgcolor\": \"white\", \"plot_bgcolor\": \"#E5ECF6\", \"polar\": {\"angularaxis\": {\"gridcolor\": \"white\", \"linecolor\": \"white\", \"ticks\": \"\"}, \"bgcolor\": \"#E5ECF6\", \"radialaxis\": {\"gridcolor\": \"white\", \"linecolor\": \"white\", \"ticks\": \"\"}}, \"scene\": {\"xaxis\": {\"backgroundcolor\": \"#E5ECF6\", \"gridcolor\": \"white\", \"gridwidth\": 2, \"linecolor\": \"white\", \"showbackground\": true, \"ticks\": \"\", \"zerolinecolor\": \"white\"}, \"yaxis\": {\"backgroundcolor\": \"#E5ECF6\", \"gridcolor\": \"white\", \"gridwidth\": 2, \"linecolor\": \"white\", \"showbackground\": true, \"ticks\": \"\", \"zerolinecolor\": \"white\"}, \"zaxis\": {\"backgroundcolor\": \"#E5ECF6\", \"gridcolor\": \"white\", \"gridwidth\": 2, \"linecolor\": \"white\", \"showbackground\": true, \"ticks\": \"\", \"zerolinecolor\": \"white\"}}, \"shapedefaults\": {\"line\": {\"color\": \"#2a3f5f\"}}, \"ternary\": {\"aaxis\": {\"gridcolor\": \"white\", \"linecolor\": \"white\", \"ticks\": \"\"}, \"baxis\": {\"gridcolor\": \"white\", \"linecolor\": \"white\", \"ticks\": \"\"}, \"bgcolor\": \"#E5ECF6\", \"caxis\": {\"gridcolor\": \"white\", \"linecolor\": \"white\", \"ticks\": \"\"}}, \"title\": {\"x\": 0.05}, \"xaxis\": {\"automargin\": true, \"gridcolor\": \"white\", \"linecolor\": \"white\", \"ticks\": \"\", \"title\": {\"standoff\": 15}, \"zerolinecolor\": \"white\", \"zerolinewidth\": 2}, \"yaxis\": {\"automargin\": true, \"gridcolor\": \"white\", \"linecolor\": \"white\", \"ticks\": \"\", \"title\": {\"standoff\": 15}, \"zerolinecolor\": \"white\", \"zerolinewidth\": 2}}}, \"updatemenus\": [{\"buttons\": [{\"args\": [{\"visible\": [true, true, true, true, true, true, true, false, false, false, false, false, false, false]}, {\"annotations\": [{\"font\": {\"color\": \"#002D72\", \"family\": \"Gentona, Tahoma, sans-serif\", \"size\": 24}, \"showarrow\": false, \"text\": \"\", \"x\": 0.02, \"xref\": \"paper\", \"y\": 1.2, \"yref\": \"paper\"}, {\"font\": {\"color\": \"grey\", \"family\": \"Gentona, Tahoma, sans-serif\", \"size\": 18}, \"showarrow\": false, \"text\": \"\", \"x\": 0.02, \"xref\": \"paper\", \"y\": 1.1, \"yref\": \"paper\"}, {\"font\": {\"color\": \"dimgray\", \"family\": \"Gentona, Tahoma, sans-serif\", \"size\": 12}, \"showarrow\": false, \"text\": \"\", \"x\": 1.32, \"xref\": \"paper\", \"y\": 0.95, \"yref\": \"paper\"}, {\"font\": {\"color\": \"dimgray\", \"family\": \"Gentona, Tahoma, sans-serif\", \"size\": 12}, \"height\": 30, \"showarrow\": false, \"text\": \"10%\", \"textangle\": -30, \"valign\": \"top\", \"x\": 5.386415130598562, \"xref\": \"x\", \"y\": 4.386415130598562, \"yref\": \"y\"}, {\"font\": {\"color\": \"dimgray\", \"family\": \"Gentona, Tahoma, sans-serif\", \"size\": 12}, \"height\": 30, \"showarrow\": false, \"text\": \"5%\", \"textangle\": -30, \"valign\": \"top\", \"x\": 5.386415130598562, \"xref\": \"x\", \"y\": 4.08538513493458, \"yref\": \"y\"}, {\"font\": {\"color\": \"dimgray\", \"family\": \"Gentona, Tahoma, sans-serif\", \"size\": 12}, \"height\": 30, \"showarrow\": false, \"text\": \"2%\", \"textangle\": -30, \"valign\": \"top\", \"x\": 5.386415130598562, \"xref\": \"x\", \"y\": 3.687445126262543, \"yref\": \"y\"}, {\"font\": {\"color\": \"dimgray\", \"family\": \"Gentona, Tahoma, sans-serif\", \"size\": 12}, \"height\": 30, \"showarrow\": false, \"text\": \"1%\", \"textangle\": -30, \"valign\": \"top\", \"x\": 5.386415130598562, \"xref\": \"x\", \"y\": 3.386415130598562, \"yref\": \"y\"}, {\"font\": {\"color\": \"dimgray\", \"family\": \"Gentona, Tahoma, sans-serif\", \"size\": 12}, \"height\": 30, \"showarrow\": false, \"text\": \"0.5%\", \"textangle\": -30, \"valign\": \"top\", \"x\": 5.386415130598562, \"xref\": \"x\", \"y\": 3.085385134934581, \"yref\": \"y\"}], \"xaxis.title\": \"Confirmed cases\"}], \"label\": \"Observed case-fatality ratio\", \"method\": \"update\"}, {\"args\": [{\"visible\": [false, false, false, false, false, false, false, true, true, true, true, true, true, true]}, {\"annotations\": [{\"font\": {\"color\": \"#002D72\", \"family\": \"Gentona, Tahoma, sans-serif\", \"size\": 24}, \"showarrow\": false, \"text\": \"\", \"x\": 0.02, \"xref\": \"paper\", \"y\": 1.2, \"yref\": \"paper\"}, {\"font\": {\"color\": \"grey\", \"family\": \"Gentona, Tahoma, sans-serif\", \"size\": 18}, \"showarrow\": false, \"text\": \"\", \"x\": 0.02, \"xref\": \"paper\", \"y\": 1.1, \"yref\": \"paper\"}, {\"font\": {\"color\": \"dimgray\", \"family\": \"Gentona, Tahoma, sans-serif\", \"size\": 12}, \"showarrow\": false, \"text\": \"\", \"x\": 1.32, \"xref\": \"paper\", \"y\": 0.95, \"yref\": \"paper\"}, {\"font\": {\"color\": \"dimgray\", \"family\": \"Gentona, Tahoma, sans-serif\", \"size\": 12}, \"halign\": \"right\", \"height\": 30, \"showarrow\": false, \"text\": \"10<br>per 100k population\", \"textangle\": -20, \"valign\": \"top\", \"x\": 9.143866930583641, \"xref\": \"x\", \"y\": 6.14386693058364, \"yref\": \"y\"}, {\"font\": {\"color\": \"dimgray\", \"family\": \"Gentona, Tahoma, sans-serif\", \"size\": 12}, \"height\": 30, \"showarrow\": false, \"text\": \"5\", \"textangle\": -20, \"valign\": \"top\", \"x\": 9.143866930583641, \"xref\": \"x\", \"y\": 5.14386693058364, \"yref\": \"y\"}, {\"font\": {\"color\": \"dimgray\", \"family\": \"Gentona, Tahoma, sans-serif\", \"size\": 12}, \"height\": 30, \"showarrow\": false, \"text\": \"1\", \"textangle\": -20, \"valign\": \"top\", \"x\": 9.143866930583641, \"xref\": \"x\", \"y\": 4.14386693058364, \"yref\": \"y\"}, {\"font\": {\"color\": \"dimgray\", \"family\": \"Gentona, Tahoma, sans-serif\", \"size\": 12}, \"height\": 20, \"showarrow\": false, \"text\": \"0.1\", \"textangle\": -15, \"valign\": \"top\", \"x\": 9.143866930583641, \"xref\": \"x\", \"y\": 3.143866930583641, \"yref\": \"y\"}, {\"font\": {\"color\": \"dimgray\", \"family\": \"Gentona, Tahoma, sans-serif\", \"size\": 12}, \"height\": 30, \"showarrow\": false, \"text\": \"0.01\", \"textangle\": -20, \"valign\": \"top\", \"x\": 9.143866930583641, \"xref\": \"x\", \"y\": 2.143866930583641, \"yref\": \"y\"}], \"xaxis.title\": \"Country Population\"}], \"label\": \"Deaths per 100,000 population\", \"method\": \"update\"}], \"direction\": \"left\", \"pad\": {\"r\": 10, \"t\": 10}, \"showactive\": true, \"type\": \"buttons\", \"x\": 0, \"xanchor\": \"left\", \"y\": 1.2, \"yanchor\": \"top\"}], \"width\": 800, \"xaxis\": {\"nticks\": 5, \"rangemode\": \"nonnegative\", \"showgrid\": false, \"title\": {\"text\": \"Confirmed cases\"}, \"type\": \"log\", \"zeroline\": false}, \"yaxis\": {\"gridcolor\": \"lightgray\", \"nticks\": 5, \"showgrid\": false, \"title\": {\"text\": \"Deaths\"}, \"type\": \"log\"}},\n",
       "                        {\"responsive\": true}\n",
       "                    ).then(function(){\n",
       "                            \n",
       "var gd = document.getElementById('44944e82-2aee-4726-899d-8531b8fd9859');\n",
       "var x = new MutationObserver(function (mutations, observer) {{\n",
       "        var display = window.getComputedStyle(gd).display;\n",
       "        if (!display || display === 'none') {{\n",
       "            console.log([gd, 'removed!']);\n",
       "            Plotly.purge(gd);\n",
       "            observer.disconnect();\n",
       "        }}\n",
       "}});\n",
       "\n",
       "// Listen for the removal of the full notebook cells\n",
       "var notebookContainer = gd.closest('#notebook-container');\n",
       "if (notebookContainer) {{\n",
       "    x.observe(notebookContainer, {childList: true});\n",
       "}}\n",
       "\n",
       "// Listen for the clearing of the current output cell\n",
       "var outputEl = gd.closest('.output');\n",
       "if (outputEl) {{\n",
       "    x.observe(outputEl, {childList: true});\n",
       "}}\n",
       "\n",
       "                        })\n",
       "                };\n",
       "                });\n",
       "            </script>\n",
       "        </div>"
      ]
     },
     "metadata": {},
     "output_type": "display_data"
    },
    {
     "name": "stdout",
     "output_type": "stream",
     "text": [
      "       Country/Region      Lat      Long         dt  confirmed  deaths  \\\n",
      "1206          Belgium  50.8333    4.0000 2020-04-02      15348    1011   \n",
      "2626            China  35.8617  104.1954 2020-04-02      82432    3322   \n",
      "4401           France  46.2276    2.2137 2020-04-02      59929    5398   \n",
      "4685          Germany  51.0000    9.0000 2020-04-02      84794    1107   \n",
      "5750             Iran  32.0000   53.0000 2020-04-02      50468    3160   \n",
      "6034            Italy  43.0000   12.0000 2020-04-02     115242   13915   \n",
      "8590      Netherlands  52.1326    5.2913 2020-04-02      14788    1341   \n",
      "11004           Spain  40.0000   -4.0000 2020-04-02     112065   10348   \n",
      "12069              US  37.0902  -95.7129 2020-04-02     243453    5926   \n",
      "12353  United Kingdom  56.2639    9.5018 2020-04-02      34173    2926   \n",
      "\n",
      "      first_confirmed first_50confirmed first_10deaths  days_since_1st_conf  \\\n",
      "1206       2020-02-04        2020-03-05     2020-03-17                   58   \n",
      "2626       2019-12-31        2020-01-23     2020-01-23                   93   \n",
      "4401       2020-01-24        2020-02-28     2020-03-07                   69   \n",
      "4685       2020-01-27        2020-02-29     2020-03-15                   66   \n",
      "5750       2020-02-19        2020-02-24     2020-02-24                   43   \n",
      "6034       2020-01-31        2020-02-22     2020-02-25                   62   \n",
      "8590       2020-02-27        2020-03-05     2020-03-13                   35   \n",
      "11004      2020-02-01        2020-03-01     2020-03-07                   61   \n",
      "12069      2020-01-23        2020-02-24     2020-03-04                   70   \n",
      "12353      2020-01-31        2020-03-03     2020-03-14                   62   \n",
      "\n",
      "       days_since_50th_conf  days_since_10th_deaths  confirmed_newcases  \\\n",
      "1206                     28                      16              1384.0   \n",
      "2626                     70                      70                71.0   \n",
      "4401                     34                      26              2180.0   \n",
      "4685                     33                      18              6922.0   \n",
      "5750                     38                      38              2875.0   \n",
      "6034                     40                      37              4668.0   \n",
      "8590                     28                      20              1092.0   \n",
      "11004                    32                      26              7947.0   \n",
      "12069                    38                      29             30081.0   \n",
      "12353                    30                      19              4308.0   \n",
      "\n",
      "       deaths_newcases  confirmed_newcases_movavg  deaths_newcases_movavg  \\\n",
      "1206             183.0                        NaN                     NaN   \n",
      "2626               6.0                        NaN                     NaN   \n",
      "4401            1355.0                        NaN                     NaN   \n",
      "4685             187.0                        NaN                     NaN   \n",
      "5750             124.0                        NaN                     NaN   \n",
      "6034             760.0                        NaN                     NaN   \n",
      "8590             166.0                        NaN                     NaN   \n",
      "11004            961.0                        NaN                     NaN   \n",
      "12069           1169.0                        NaN                     NaN   \n",
      "12353            569.0                        NaN                     NaN   \n",
      "\n",
      "       confirmed_newcases_growth  deaths_newcases_growth  \\\n",
      "1206                    1.164003                1.487805   \n",
      "2626                    0.865854                0.857143   \n",
      "4401                    0.442909                2.651663   \n",
      "4685                    1.141491                1.289655   \n",
      "5750                    0.962182                0.898551   \n",
      "6034                    0.976161                1.045392   \n",
      "8590                    1.061224                1.229630   \n",
      "11004                   0.969738                1.041170   \n",
      "12069                   1.193690                1.322398   \n",
      "12353                   0.982664                1.008865   \n",
      "\n",
      "       confirmed_newcases_growth_movavg  population_2018  \\\n",
      "1206                                NaN     1.142207e+07   \n",
      "2626                                NaN     1.392730e+09   \n",
      "4401                                NaN     6.698724e+07   \n",
      "4685                                NaN     8.292792e+07   \n",
      "5750                                NaN     8.180027e+07   \n",
      "6034                                NaN     6.043128e+07   \n",
      "8590                                NaN     1.723102e+07   \n",
      "11004                               NaN     4.672375e+07   \n",
      "12069                               NaN     3.271674e+08   \n",
      "12353                               NaN     6.648899e+07   \n",
      "\n",
      "       confirmed_by100000pop  deaths_by100000pop  MortalityRate  \\\n",
      "1206              134.371464            8.851287       0.065872   \n",
      "2626                5.918735            0.238524       0.040300   \n",
      "4401               89.463301            8.058251       0.090073   \n",
      "4685              102.250241            1.334894       0.013055   \n",
      "5750               61.696619            3.863068       0.062614   \n",
      "6034              190.699244           23.026154       0.120746   \n",
      "8590               85.821980            7.782477       0.090682   \n",
      "11004             239.845908           22.147195       0.092339   \n",
      "12069              74.412357            1.811305       0.024341   \n",
      "12353              51.396479            4.400729       0.085623   \n",
      "\n",
      "       confirmed_newcases_by100000pop  confirmed_newcases_by100000pop_movavg  \n",
      "1206                        12.116895                                    NaN  \n",
      "2626                         0.005098                                    NaN  \n",
      "4401                         3.254351                                    NaN  \n",
      "4685                         8.347008                                    NaN  \n",
      "5750                         3.514658                                    NaN  \n",
      "6034                         7.724476                                    NaN  \n",
      "8590                         6.337409                                    NaN  \n",
      "11004                       17.008481                                    NaN  \n",
      "12069                        9.194375                                    NaN  \n",
      "12353                        6.479268                                    NaN  \n"
     ]
    }
   ],
   "source": [
    "# Plot mortality rates\n",
    "\n",
    "most_recent_day = df_merged.sort_values('dt').dt.unique()[-1]\n",
    "\n",
    "filt = ((df_merged['dt'] == most_recent_day) & (df_merged['deaths'] > 2))\n",
    "pattern = '|'.join(top10_country)\n",
    "top10_df_merged = df_merged[df_merged['Country/Region'].str.contains(pattern)][filt]\n",
    "\n",
    "# Plot\n",
    "data = [go.Scatter(x = df_merged[filt]['confirmed'],\n",
    "                   y = df_merged[filt]['deaths'],\n",
    "                   marker = dict(color = 'orange', size = 6),\n",
    "                   mode = 'markers',\n",
    "                   hoverinfo = 'text',\n",
    "                   hovertext = [y+':<br>'+'{:.1f}%'.format(x*100) for x,y in zip(df_merged[filt]['MortalityRate'], \n",
    "                                                                          df_merged[filt]['Country/Region'])],\n",
    "                   hoverlabel = dict(bordercolor = 'gray',\n",
    "                                     bgcolor = 'white',\n",
    "                                     font = dict(color = 'gray')),\n",
    "                   text = df_merged[filt]['Country/Region'],\n",
    "                   textposition = \"top center\"\n",
    "              ),\n",
    "        go.Scatter(x = top10_df_merged['confirmed'],\n",
    "                   y = top10_df_merged['deaths'],\n",
    "                   marker = dict(color = 'orange', \n",
    "                                 size = 6,\n",
    "                                 opacity = 1,\n",
    "                                line=dict(\n",
    "                                    color = 'black',\n",
    "                                    width = 1,\n",
    "                                )),\n",
    "                   mode = 'markers',\n",
    "                   hoverinfo = 'text',\n",
    "                   hovertext = [y+':<br>'+'{:.1f}%'.format(x*100) for x,y in zip(top10_df_merged['MortalityRate'], \n",
    "                                                                          top10_df_merged['Country/Region'])],\n",
    "                   hoverlabel = dict(bordercolor = 'gray',\n",
    "                                     bgcolor = 'white',\n",
    "                                     font = dict(color = 'gray')),\n",
    "              ),\n",
    "        go.Scatter(x = [0, df_merged[df_merged['dt'] == most_recent_day]['confirmed'].max()],\n",
    "                   y = [0, 0.1*df_merged[df_merged['dt'] == most_recent_day]['confirmed'].max()],\n",
    "                   marker = dict(color = 'gray'),\n",
    "                   line = dict(width = 0.3),\n",
    "                   mode = 'lines',\n",
    "              ),\n",
    "        go.Scatter(x = [0, df_merged[df_merged['dt'] == most_recent_day]['confirmed'].max()],\n",
    "                   y = [0, 0.05*df_merged[df_merged['dt'] == most_recent_day]['confirmed'].max()],\n",
    "                   marker = dict(color = 'gray'),\n",
    "                   line = dict(width = 0.3),\n",
    "                   mode = 'lines',\n",
    "              ),\n",
    "        go.Scatter(x = [0, df_merged[df_merged['dt'] == most_recent_day]['confirmed'].max()],\n",
    "                   y = [0, 0.02*df_merged[df_merged['dt'] == most_recent_day]['confirmed'].max()],\n",
    "                   marker = dict(color = 'gray'),\n",
    "                   line = dict(width = 0.3),\n",
    "                   mode = 'lines',\n",
    "              ),\n",
    "        go.Scatter(x = [0, df_merged[df_merged['dt'] == most_recent_day]['confirmed'].max()],\n",
    "                   y = [0, 0.01*df_merged[df_merged['dt'] == most_recent_day]['confirmed'].max()],\n",
    "                   marker = dict(color = 'gray'),\n",
    "                   line = dict(width = 0.3),\n",
    "                   mode = 'lines',\n",
    "              ),\n",
    "        go.Scatter(x = [0, df_merged[df_merged['dt'] == most_recent_day]['confirmed'].max()],\n",
    "                   y = [0, 0.005*df_merged[df_merged['dt'] == most_recent_day]['confirmed'].max()],\n",
    "                   marker = dict(color = 'gray'),\n",
    "                   line = dict(width = 0.3),\n",
    "                   mode = 'lines',\n",
    "              ),\n",
    "        go.Scatter(x = df_merged[filt]['population_2018'],\n",
    "                   y = df_merged[filt]['deaths'],\n",
    "                   marker = dict(color = 'orange', size = 6),\n",
    "                   mode = 'markers',\n",
    "                   hoverinfo = 'text',\n",
    "                   hovertext = [y+':<br>'+'{:.1f}'.format(x) for x,y in zip(df_merged[filt]['deaths_by100000pop'], \n",
    "                                                                          df_merged[filt]['Country/Region'])],\n",
    "                   hoverlabel = dict(bordercolor = 'gray',\n",
    "                                     bgcolor = 'white',\n",
    "                                     font = dict(color = 'gray')),\n",
    "                   visible = False,\n",
    "                  ),\n",
    "        go.Scatter(x = top10_df_merged['population_2018'],\n",
    "                   y = top10_df_merged['deaths'],\n",
    "                   marker = dict(color = 'orange', \n",
    "                                 size = 6,\n",
    "                                 opacity = 1,\n",
    "                                line=dict(\n",
    "                                    color = 'black',\n",
    "                                    width = 1,\n",
    "                                )),\n",
    "                   mode = 'markers',\n",
    "                   hoverinfo = 'text',\n",
    "                   hovertext = [y+':<br>'+'{:.1f}'.format(x) for x,y in zip(top10_df_merged['deaths_by100000pop'], \n",
    "                                                                          top10_df_merged['Country/Region'])],\n",
    "                   hoverlabel = dict(bordercolor = 'gray',\n",
    "                                     bgcolor = 'white',\n",
    "                                     font = dict(color = 'gray')),\n",
    "                   visible = False,\n",
    "                  ),\n",
    "        go.Scatter(x = [0, df_merged[df_merged['dt'] == most_recent_day]['population_2018'].max()],\n",
    "                   y = [0, 100*df_merged[df_merged['dt'] == most_recent_day]['population_2018'].max()/100000],\n",
    "                   marker = dict(color = 'gray'),\n",
    "                   line = dict(width = 0.3),\n",
    "                   mode = 'lines',\n",
    "                   visible = False,\n",
    "              ),\n",
    "        \n",
    "        go.Scatter(x = [0, df_merged[df_merged['dt'] == most_recent_day]['population_2018'].max()],\n",
    "                   y = [0, 10*df_merged[df_merged['dt'] == most_recent_day]['population_2018'].max()/100000],\n",
    "                   marker = dict(color = 'gray'),\n",
    "                   line = dict(width = 0.3),\n",
    "                   mode = 'lines',\n",
    "                   visible = False,\n",
    "              ),\n",
    "        go.Scatter(x = [0, df_merged[df_merged['dt'] == most_recent_day]['population_2018'].max()],\n",
    "                   y = [0, 1*df_merged[df_merged['dt'] == most_recent_day]['population_2018'].max()/100000],\n",
    "                   marker = dict(color = 'gray'),\n",
    "                   line = dict(width = 0.3),\n",
    "                   mode = 'lines',\n",
    "                   visible = False,\n",
    "              ),\n",
    "        go.Scatter(x = [0, df_merged[df_merged['dt'] == most_recent_day]['population_2018'].max()],\n",
    "                   y = [0, 0.1*df_merged[df_merged['dt'] == most_recent_day]['population_2018'].max()/100000],\n",
    "                   marker = dict(color = 'gray'),\n",
    "                   line = dict(width = 0.3),\n",
    "                   mode = 'lines',\n",
    "                   visible = False,\n",
    "              ),\n",
    "        go.Scatter(x = [0, df_merged[df_merged['dt'] == most_recent_day]['population_2018'].max()],\n",
    "                   y = [0, 0.01*df_merged[df_merged['dt'] == most_recent_day]['population_2018'].max()/100000],\n",
    "                   marker = dict(color = 'gray'),\n",
    "                   line = dict(width = 0.3),\n",
    "                   mode = 'lines',\n",
    "                   visible = False,\n",
    "              ),\n",
    "       ]\n",
    "\n",
    "annotations_titles = [dict(x = 0.02,\n",
    "                           y = 1.2,\n",
    "                           showarrow = False,\n",
    "                           text = '', #Mortality ratios worldwide\n",
    "                           xref = 'paper',\n",
    "                           yref = 'paper',\n",
    "                           font=dict(family = title_font,\n",
    "                                     size = title_size,\n",
    "                                     color = title_col,),\n",
    "                          ),\n",
    "                      dict(x = 0.02,\n",
    "                           y = 1.1,\n",
    "                           showarrow = False,\n",
    "                           text = '',\n",
    "                           xref = 'paper',\n",
    "                           yref = 'paper',\n",
    "                           font=dict(family = subtitle_font,\n",
    "                                     size = subtitle_size,\n",
    "                                     color = subtitle_col,),\n",
    "                          ),\n",
    "                      dict(x = 1.32,\n",
    "                           y = 0.95,\n",
    "                           showarrow = False,\n",
    "                           text = '',\n",
    "                           xref = 'paper',\n",
    "                           yref = 'paper',\n",
    "                           font=dict(family = label_font,\n",
    "                                     size = label_size,\n",
    "                                     color = label_col,),\n",
    "                          )\n",
    "                     ]\n",
    "\n",
    "annotations_a = annotations_titles + [\n",
    "    dict(x = np.log10(df_merged[df_merged['dt'] == most_recent_day]['confirmed'].max()),\n",
    "         y = np.log10(0.1*df_merged[df_merged['dt'] == most_recent_day]['confirmed'].max()),\n",
    "         showarrow = False,\n",
    "         valign = 'top',\n",
    "         height = 30,\n",
    "         textangle = -30,\n",
    "         text = '10%',\n",
    "         xref = 'x',\n",
    "         yref = 'y',\n",
    "         font=dict(family = label_font,\n",
    "                   size = label_size,\n",
    "                   color = label_col,),\n",
    "        ),\n",
    "    dict(x = np.log10(df_merged[df_merged['dt'] == most_recent_day]['confirmed'].max()),\n",
    "         y = np.log10(0.05*df_merged[df_merged['dt'] == most_recent_day]['confirmed'].max()),\n",
    "         showarrow = False,\n",
    "         valign = 'top',\n",
    "         height = 30,\n",
    "         textangle = -30,\n",
    "         text = '5%',\n",
    "         xref = 'x',\n",
    "         yref = 'y',\n",
    "         font=dict(family = label_font,\n",
    "                   size = label_size,\n",
    "                   color = label_col,),\n",
    "        ),\n",
    "    dict(x = np.log10(df_merged[df_merged['dt'] == most_recent_day]['confirmed'].max()),\n",
    "         y = np.log10(0.02*df_merged[df_merged['dt'] == most_recent_day]['confirmed'].max()),\n",
    "         showarrow = False,\n",
    "         valign = 'top',\n",
    "         height = 30,\n",
    "         textangle = -30,\n",
    "         text = '2%',\n",
    "         xref = 'x',\n",
    "         yref = 'y',\n",
    "         font=dict(family = label_font,\n",
    "                   size = label_size,\n",
    "                   color = label_col,),\n",
    "        ),\n",
    "    dict(x = np.log10(df_merged[df_merged['dt'] == most_recent_day]['confirmed'].max()),\n",
    "         y = np.log10(0.01*df_merged[df_merged['dt'] == most_recent_day]['confirmed'].max()),\n",
    "         showarrow = False,\n",
    "         valign = 'top',\n",
    "         height = 30,\n",
    "         textangle = -30,\n",
    "         text = '1%',\n",
    "         xref = 'x',\n",
    "         yref = 'y',\n",
    "         font=dict(family = label_font,\n",
    "                   size = label_size,\n",
    "                   color = label_col,),\n",
    "        ),\n",
    "    dict(x = np.log10(df_merged[df_merged['dt'] == most_recent_day]['confirmed'].max()),\n",
    "         y = np.log10(0.005*df_merged[df_merged['dt'] == most_recent_day]['confirmed'].max()),\n",
    "         showarrow = False,\n",
    "         valign = 'top',\n",
    "         height = 30,\n",
    "         textangle = -30,\n",
    "         text = '0.5%',\n",
    "         xref = 'x',\n",
    "         yref = 'y',\n",
    "         font=dict(family = label_font,\n",
    "                   size = label_size,\n",
    "                   color = label_col,),\n",
    "        )]\n",
    "\n",
    "annotations_b = annotations_titles + [\n",
    "    dict(x = np.log10(df_merged[df_merged['dt'] == most_recent_day]['population_2018'].max()),\n",
    "         y = np.log10(100*df_merged[df_merged['dt'] == most_recent_day]['population_2018'].max()/100000),\n",
    "         showarrow = False,\n",
    "         valign = 'top',\n",
    "         halign='right',\n",
    "         height = 30,\n",
    "         textangle = -20,\n",
    "         text = ('10'+'<br>'+'per 100k population'),\n",
    "         xref = 'x',\n",
    "         yref = 'y',\n",
    "         font=dict(family = label_font,\n",
    "                   size = label_size,\n",
    "                   color = label_col,),\n",
    "        ),\n",
    "    dict(x = np.log10(df_merged[df_merged['dt'] == most_recent_day]['population_2018'].max()),\n",
    "         y = np.log10(10*df_merged[df_merged['dt'] == most_recent_day]['population_2018'].max()/100000),\n",
    "         showarrow = False,\n",
    "         valign = 'top',\n",
    "         height = 30,\n",
    "         textangle = -20,\n",
    "         text = '5',\n",
    "         xref = 'x',\n",
    "         yref = 'y',\n",
    "         font=dict(family = label_font,\n",
    "                   size = label_size,\n",
    "                   color = label_col,),\n",
    "        ),\n",
    "    dict(x = np.log10(df_merged[df_merged['dt'] == most_recent_day]['population_2018'].max()),\n",
    "         y = np.log10(1*df_merged[df_merged['dt'] == most_recent_day]['population_2018'].max()/100000),\n",
    "         showarrow = False,\n",
    "         valign = 'top',\n",
    "         height = 30,\n",
    "         textangle = -20,\n",
    "         text = '1',\n",
    "         xref = 'x',\n",
    "         yref = 'y',\n",
    "         font=dict(family = label_font,\n",
    "                   size = label_size,\n",
    "                   color = label_col,),\n",
    "        ),\n",
    "    dict(x = np.log10(df_merged[df_merged['dt'] == most_recent_day]['population_2018'].max()),\n",
    "         y = np.log10(0.1*df_merged[df_merged['dt'] == most_recent_day]['population_2018'].max()/100000),\n",
    "         showarrow = False,\n",
    "         valign = 'top',\n",
    "         height = 20,\n",
    "         textangle = -15,\n",
    "         text = '0.1',\n",
    "         xref = 'x',\n",
    "         yref = 'y',\n",
    "         font=dict(family = label_font,\n",
    "                   size = label_size,\n",
    "                   color = label_col,),\n",
    "        ),\n",
    "    dict(x = np.log10(df_merged[df_merged['dt'] == most_recent_day]['population_2018'].max()),\n",
    "         y = np.log10(0.01*df_merged[df_merged['dt'] == most_recent_day]['population_2018'].max()/100000),\n",
    "         showarrow = False,\n",
    "         valign = 'top',\n",
    "         height = 30,\n",
    "         textangle = -20,\n",
    "         text = '0.01',\n",
    "         xref = 'x',\n",
    "         yref = 'y',\n",
    "         font=dict(family = label_font,\n",
    "                   size = label_size,\n",
    "                   color = label_col,),\n",
    "        )\n",
    "]\n",
    "\n",
    "visibility_a = [True, True, True, True, True, True, True, False, False, False, False, False, False, False]\n",
    "visibility_b = [False, False, False, False, False, False, False, True, True, True, True, True, True, True]\n",
    "\n",
    "lay = go.Layout(width = 800, \n",
    "                height = 500,\n",
    "                margin=dict(l=120, r=50, b=100, t=100, pad=4),\n",
    "                #bargap = 0.2,\n",
    "                plot_bgcolor='white',\n",
    "                xaxis = dict(title='Confirmed cases',\n",
    "                             nticks = 5,\n",
    "                             rangemode = 'nonnegative',\n",
    "                             zeroline = False,\n",
    "                             showgrid = False,\n",
    "                             type = 'log',\n",
    "                            ),\n",
    "                yaxis = dict(title='Deaths',\n",
    "                             type = 'log',\n",
    "                             nticks = 5,\n",
    "                             showgrid = False,\n",
    "                             gridcolor = 'lightgray',\n",
    "                            ),\n",
    "                hovermode = 'closest',\n",
    "                font = dict(size = label_size,\n",
    "                            family = label_font,\n",
    "                            color = label_col,\n",
    "                           ),\n",
    "                legend = dict(x = 1.03, \n",
    "                              y = 0.7),\n",
    "                showlegend = False,\n",
    "                annotations= annotations_a,\n",
    "                updatemenus=[dict( \n",
    "                                    type = \"buttons\",\n",
    "                                    direction = \"left\",\n",
    "                                    buttons=list([dict(args = [{'visible': visibility_a},\n",
    "                                                             {'xaxis.title': 'Confirmed cases',\n",
    "                                                              'annotations': annotations_a,\n",
    "                                                             }],\n",
    "                                                     label = 'Observed case-fatality ratio',\n",
    "                                                     method = 'update'\n",
    "                                                    ),\n",
    "                                                dict(args = [{'visible': visibility_b},\n",
    "                                                             {'xaxis.title': 'Country Population',\n",
    "                                                              'annotations': annotations_b,\n",
    "                                                             }\n",
    "                                                            ],\n",
    "                                                     label = 'Deaths per 100,000 population',\n",
    "                                                     method = 'update'\n",
    "                                                    ),\n",
    "                                               ]),\n",
    "                                  pad = {\"r\": 10, \"t\": 10},\n",
    "                                  showactive = True,\n",
    "                                  x=0,\n",
    "                                  xanchor=\"left\",\n",
    "                                  y=1.2,\n",
    "                                  yanchor=\"top\"\n",
    "                                 ),\n",
    "                            ]\n",
    "               )\n",
    "\n",
    "\n",
    "fig = dict(data=data, layout=lay)\n",
    "plotly.offline.iplot(fig)\n",
    "\n",
    "# Save JS\n",
    "plot = plotly.offline.plot({'data':data,\n",
    "                            'layout':lay},\n",
    "                           include_plotlyjs = False,\n",
    "                           output_type = 'div',\n",
    "                           config = dict(showLink = False,\n",
    "                                         modeBarButtonsToRemove = ['sendDataToCloud'],\n",
    "                                         displaylogo = False,\n",
    "                                         responsive = True)\n",
    "                          )\n",
    "    \n",
    "path = '../visuals/mortality/'\n",
    "out_file = open(path+'mortality_all.html', 'w')\n",
    "out_file.write('<!DOCTYPE html><html><head><script src=\"https://cdn.plot.ly/plotly-latest.min.js\"></script></head><body>')\n",
    "out_file.write(plot)\n",
    "out_file.write('</body><html>')\n",
    "out_file.close()\n",
    "\n",
    "#df_merged[filt]['Lat'][69]\n",
    "#coordinates = (df_merged[filt]['Lat'][69], df_merged[filt]['Long'][69]), (df_merged[filt]['Lat'][69], df_merged[filt]['Long'][69])\n",
    "#reverse_geocode.search(coordinates)"
   ]
  },
  {
   "cell_type": "code",
   "execution_count": 31,
   "metadata": {},
   "outputs": [
    {
     "data": {
      "text/html": [
       "<div>\n",
       "<style scoped>\n",
       "    .dataframe tbody tr th:only-of-type {\n",
       "        vertical-align: middle;\n",
       "    }\n",
       "\n",
       "    .dataframe tbody tr th {\n",
       "        vertical-align: top;\n",
       "    }\n",
       "\n",
       "    .dataframe thead th {\n",
       "        text-align: right;\n",
       "    }\n",
       "</style>\n",
       "<table border=\"1\" class=\"dataframe\">\n",
       "  <thead>\n",
       "    <tr style=\"text-align: right;\">\n",
       "      <th></th>\n",
       "      <th>Country/Region</th>\n",
       "      <th>Lat</th>\n",
       "      <th>Long</th>\n",
       "      <th>dt</th>\n",
       "      <th>confirmed</th>\n",
       "      <th>deaths</th>\n",
       "      <th>first_confirmed</th>\n",
       "      <th>first_50confirmed</th>\n",
       "      <th>first_10deaths</th>\n",
       "      <th>days_since_1st_conf</th>\n",
       "      <th>days_since_50th_conf</th>\n",
       "      <th>days_since_10th_deaths</th>\n",
       "      <th>confirmed_newcases</th>\n",
       "      <th>deaths_newcases</th>\n",
       "      <th>confirmed_newcases_movavg</th>\n",
       "      <th>deaths_newcases_movavg</th>\n",
       "      <th>confirmed_newcases_growth</th>\n",
       "      <th>deaths_newcases_growth</th>\n",
       "      <th>confirmed_newcases_growth_movavg</th>\n",
       "      <th>population_2018</th>\n",
       "      <th>confirmed_by100000pop</th>\n",
       "      <th>deaths_by100000pop</th>\n",
       "      <th>MortalityRate</th>\n",
       "      <th>confirmed_newcases_by100000pop</th>\n",
       "      <th>confirmed_newcases_by100000pop_movavg</th>\n",
       "    </tr>\n",
       "  </thead>\n",
       "  <tbody>\n",
       "    <tr>\n",
       "      <th>0</th>\n",
       "      <td>Afghanistan</td>\n",
       "      <td>33.0</td>\n",
       "      <td>65.0</td>\n",
       "      <td>2020-01-23</td>\n",
       "      <td>0</td>\n",
       "      <td>0</td>\n",
       "      <td>2020-02-24</td>\n",
       "      <td>2020-03-24</td>\n",
       "      <td>2020-01-23</td>\n",
       "      <td>-32</td>\n",
       "      <td>-61</td>\n",
       "      <td>0</td>\n",
       "      <td>NaN</td>\n",
       "      <td>NaN</td>\n",
       "      <td>NaN</td>\n",
       "      <td>NaN</td>\n",
       "      <td>NaN</td>\n",
       "      <td>NaN</td>\n",
       "      <td>NaN</td>\n",
       "      <td>37172386.0</td>\n",
       "      <td>0.0</td>\n",
       "      <td>0.0</td>\n",
       "      <td>NaN</td>\n",
       "      <td>NaN</td>\n",
       "      <td>NaN</td>\n",
       "    </tr>\n",
       "    <tr>\n",
       "      <th>1</th>\n",
       "      <td>Afghanistan</td>\n",
       "      <td>33.0</td>\n",
       "      <td>65.0</td>\n",
       "      <td>2020-01-24</td>\n",
       "      <td>0</td>\n",
       "      <td>0</td>\n",
       "      <td>2020-02-24</td>\n",
       "      <td>2020-03-24</td>\n",
       "      <td>2020-01-23</td>\n",
       "      <td>-31</td>\n",
       "      <td>-60</td>\n",
       "      <td>1</td>\n",
       "      <td>0.0</td>\n",
       "      <td>0.0</td>\n",
       "      <td>NaN</td>\n",
       "      <td>NaN</td>\n",
       "      <td>NaN</td>\n",
       "      <td>NaN</td>\n",
       "      <td>NaN</td>\n",
       "      <td>37172386.0</td>\n",
       "      <td>0.0</td>\n",
       "      <td>0.0</td>\n",
       "      <td>NaN</td>\n",
       "      <td>0.0</td>\n",
       "      <td>NaN</td>\n",
       "    </tr>\n",
       "    <tr>\n",
       "      <th>2</th>\n",
       "      <td>Afghanistan</td>\n",
       "      <td>33.0</td>\n",
       "      <td>65.0</td>\n",
       "      <td>2020-01-25</td>\n",
       "      <td>0</td>\n",
       "      <td>0</td>\n",
       "      <td>2020-02-24</td>\n",
       "      <td>2020-03-24</td>\n",
       "      <td>2020-01-23</td>\n",
       "      <td>-30</td>\n",
       "      <td>-59</td>\n",
       "      <td>2</td>\n",
       "      <td>0.0</td>\n",
       "      <td>0.0</td>\n",
       "      <td>0.0</td>\n",
       "      <td>0.0</td>\n",
       "      <td>NaN</td>\n",
       "      <td>NaN</td>\n",
       "      <td>NaN</td>\n",
       "      <td>37172386.0</td>\n",
       "      <td>0.0</td>\n",
       "      <td>0.0</td>\n",
       "      <td>NaN</td>\n",
       "      <td>0.0</td>\n",
       "      <td>0.0</td>\n",
       "    </tr>\n",
       "    <tr>\n",
       "      <th>3</th>\n",
       "      <td>Afghanistan</td>\n",
       "      <td>33.0</td>\n",
       "      <td>65.0</td>\n",
       "      <td>2020-01-26</td>\n",
       "      <td>0</td>\n",
       "      <td>0</td>\n",
       "      <td>2020-02-24</td>\n",
       "      <td>2020-03-24</td>\n",
       "      <td>2020-01-23</td>\n",
       "      <td>-29</td>\n",
       "      <td>-58</td>\n",
       "      <td>3</td>\n",
       "      <td>0.0</td>\n",
       "      <td>0.0</td>\n",
       "      <td>0.0</td>\n",
       "      <td>0.0</td>\n",
       "      <td>NaN</td>\n",
       "      <td>NaN</td>\n",
       "      <td>NaN</td>\n",
       "      <td>37172386.0</td>\n",
       "      <td>0.0</td>\n",
       "      <td>0.0</td>\n",
       "      <td>NaN</td>\n",
       "      <td>0.0</td>\n",
       "      <td>0.0</td>\n",
       "    </tr>\n",
       "    <tr>\n",
       "      <th>4</th>\n",
       "      <td>Afghanistan</td>\n",
       "      <td>33.0</td>\n",
       "      <td>65.0</td>\n",
       "      <td>2020-01-27</td>\n",
       "      <td>0</td>\n",
       "      <td>0</td>\n",
       "      <td>2020-02-24</td>\n",
       "      <td>2020-03-24</td>\n",
       "      <td>2020-01-23</td>\n",
       "      <td>-28</td>\n",
       "      <td>-57</td>\n",
       "      <td>4</td>\n",
       "      <td>0.0</td>\n",
       "      <td>0.0</td>\n",
       "      <td>0.0</td>\n",
       "      <td>0.0</td>\n",
       "      <td>NaN</td>\n",
       "      <td>NaN</td>\n",
       "      <td>NaN</td>\n",
       "      <td>37172386.0</td>\n",
       "      <td>0.0</td>\n",
       "      <td>0.0</td>\n",
       "      <td>NaN</td>\n",
       "      <td>0.0</td>\n",
       "      <td>0.0</td>\n",
       "    </tr>\n",
       "  </tbody>\n",
       "</table>\n",
       "</div>"
      ],
      "text/plain": [
       "  Country/Region   Lat  Long         dt  confirmed  deaths first_confirmed  \\\n",
       "0    Afghanistan  33.0  65.0 2020-01-23          0       0      2020-02-24   \n",
       "1    Afghanistan  33.0  65.0 2020-01-24          0       0      2020-02-24   \n",
       "2    Afghanistan  33.0  65.0 2020-01-25          0       0      2020-02-24   \n",
       "3    Afghanistan  33.0  65.0 2020-01-26          0       0      2020-02-24   \n",
       "4    Afghanistan  33.0  65.0 2020-01-27          0       0      2020-02-24   \n",
       "\n",
       "  first_50confirmed first_10deaths  days_since_1st_conf  days_since_50th_conf  \\\n",
       "0        2020-03-24     2020-01-23                  -32                   -61   \n",
       "1        2020-03-24     2020-01-23                  -31                   -60   \n",
       "2        2020-03-24     2020-01-23                  -30                   -59   \n",
       "3        2020-03-24     2020-01-23                  -29                   -58   \n",
       "4        2020-03-24     2020-01-23                  -28                   -57   \n",
       "\n",
       "   days_since_10th_deaths  confirmed_newcases  deaths_newcases  \\\n",
       "0                       0                 NaN              NaN   \n",
       "1                       1                 0.0              0.0   \n",
       "2                       2                 0.0              0.0   \n",
       "3                       3                 0.0              0.0   \n",
       "4                       4                 0.0              0.0   \n",
       "\n",
       "   confirmed_newcases_movavg  deaths_newcases_movavg  \\\n",
       "0                        NaN                     NaN   \n",
       "1                        NaN                     NaN   \n",
       "2                        0.0                     0.0   \n",
       "3                        0.0                     0.0   \n",
       "4                        0.0                     0.0   \n",
       "\n",
       "   confirmed_newcases_growth  deaths_newcases_growth  \\\n",
       "0                        NaN                     NaN   \n",
       "1                        NaN                     NaN   \n",
       "2                        NaN                     NaN   \n",
       "3                        NaN                     NaN   \n",
       "4                        NaN                     NaN   \n",
       "\n",
       "   confirmed_newcases_growth_movavg  population_2018  confirmed_by100000pop  \\\n",
       "0                               NaN       37172386.0                    0.0   \n",
       "1                               NaN       37172386.0                    0.0   \n",
       "2                               NaN       37172386.0                    0.0   \n",
       "3                               NaN       37172386.0                    0.0   \n",
       "4                               NaN       37172386.0                    0.0   \n",
       "\n",
       "   deaths_by100000pop  MortalityRate  confirmed_newcases_by100000pop  \\\n",
       "0                 0.0            NaN                             NaN   \n",
       "1                 0.0            NaN                             0.0   \n",
       "2                 0.0            NaN                             0.0   \n",
       "3                 0.0            NaN                             0.0   \n",
       "4                 0.0            NaN                             0.0   \n",
       "\n",
       "   confirmed_newcases_by100000pop_movavg  \n",
       "0                                    NaN  \n",
       "1                                    NaN  \n",
       "2                                    0.0  \n",
       "3                                    0.0  \n",
       "4                                    0.0  "
      ]
     },
     "execution_count": 31,
     "metadata": {},
     "output_type": "execute_result"
    }
   ],
   "source": [
    "df_merged.head()"
   ]
  },
  {
   "cell_type": "markdown",
   "metadata": {},
   "source": [
    "## <span style=\"color:orange\">Timelines</span>\n",
    "<hr style=\"border: 1px solid #D3D3D3\" >\n",
    "\n"
   ]
  },
  {
   "cell_type": "code",
   "execution_count": 32,
   "metadata": {},
   "outputs": [
    {
     "data": {
      "application/vnd.plotly.v1+json": {
       "config": {
        "linkText": "Export to plot.ly",
        "plotlyServerURL": "https://plot.ly",
        "showLink": false
       },
       "data": [
        {
         "hoverinfo": "text+y",
         "hoverlabel": {
          "bgcolor": "white",
          "bordercolor": "#719949",
          "font": {
           "color": "#719949"
          }
         },
         "hovertext": "Italy",
         "marker": {
          "color": "#719949"
         },
         "name": "Italy",
         "type": "scatter",
         "x": [
          "2020-01-23T00:00:00",
          "2020-01-24T00:00:00",
          "2020-01-25T00:00:00",
          "2020-01-26T00:00:00",
          "2020-01-27T00:00:00",
          "2020-01-28T00:00:00",
          "2020-01-29T00:00:00",
          "2020-01-30T00:00:00",
          "2020-01-31T00:00:00",
          "2020-02-01T00:00:00",
          "2020-02-02T00:00:00",
          "2020-02-03T00:00:00",
          "2020-02-04T00:00:00",
          "2020-02-05T00:00:00",
          "2020-02-06T00:00:00",
          "2020-02-07T00:00:00",
          "2020-02-08T00:00:00",
          "2020-02-09T00:00:00",
          "2020-02-10T00:00:00",
          "2020-02-11T00:00:00",
          "2020-02-12T00:00:00",
          "2020-02-13T00:00:00",
          "2020-02-14T00:00:00",
          "2020-02-15T00:00:00",
          "2020-02-16T00:00:00",
          "2020-02-17T00:00:00",
          "2020-02-18T00:00:00",
          "2020-02-19T00:00:00",
          "2020-02-20T00:00:00",
          "2020-02-21T00:00:00",
          "2020-02-22T00:00:00",
          "2020-02-23T00:00:00",
          "2020-02-24T00:00:00",
          "2020-02-25T00:00:00",
          "2020-02-26T00:00:00",
          "2020-02-27T00:00:00",
          "2020-02-28T00:00:00",
          "2020-02-29T00:00:00",
          "2020-03-01T00:00:00",
          "2020-03-02T00:00:00",
          "2020-03-03T00:00:00",
          "2020-03-04T00:00:00",
          "2020-03-05T00:00:00",
          "2020-03-06T00:00:00",
          "2020-03-07T00:00:00",
          "2020-03-08T00:00:00",
          "2020-03-09T00:00:00",
          "2020-03-10T00:00:00",
          "2020-03-11T00:00:00",
          "2020-03-12T00:00:00",
          "2020-03-13T00:00:00",
          "2020-03-14T00:00:00",
          "2020-03-15T00:00:00",
          "2020-03-16T00:00:00",
          "2020-03-17T00:00:00",
          "2020-03-18T00:00:00",
          "2020-03-19T00:00:00",
          "2020-03-20T00:00:00",
          "2020-03-21T00:00:00",
          "2020-03-22T00:00:00",
          "2020-03-23T00:00:00",
          "2020-03-24T00:00:00",
          "2020-03-25T00:00:00",
          "2020-03-26T00:00:00",
          "2020-03-27T00:00:00",
          "2020-03-28T00:00:00",
          "2020-03-29T00:00:00",
          "2020-03-30T00:00:00",
          "2020-03-31T00:00:00",
          "2020-04-01T00:00:00",
          "2020-04-02T00:00:00"
         ],
         "y": [
          0,
          0,
          0,
          0,
          0,
          0,
          0,
          0,
          2,
          2,
          2,
          2,
          2,
          2,
          2,
          3,
          3,
          3,
          3,
          3,
          3,
          3,
          3,
          3,
          3,
          3,
          3,
          3,
          3,
          20,
          62,
          155,
          229,
          322,
          453,
          655,
          888,
          1128,
          1694,
          2036,
          2502,
          3089,
          3858,
          4636,
          5883,
          7375,
          9172,
          10149,
          12462,
          12462,
          17660,
          21157,
          24747,
          27980,
          31506,
          35713,
          41035,
          47021,
          53578,
          59138,
          63927,
          69176,
          74386,
          80589,
          86498,
          92472,
          97689,
          101739,
          105792,
          110574,
          115242
         ]
        },
        {
         "hoverinfo": "text+y",
         "hoverlabel": {
          "bgcolor": "white",
          "bordercolor": "#719949",
          "font": {
           "color": "#719949"
          }
         },
         "hovertext": "Italy",
         "marker": {
          "color": "#719949"
         },
         "name": "Italy",
         "showlegend": false,
         "type": "scatter",
         "visible": false,
         "x": [
          "2020-01-23T00:00:00",
          "2020-01-24T00:00:00",
          "2020-01-25T00:00:00",
          "2020-01-26T00:00:00",
          "2020-01-27T00:00:00",
          "2020-01-28T00:00:00",
          "2020-01-29T00:00:00",
          "2020-01-30T00:00:00",
          "2020-01-31T00:00:00",
          "2020-02-01T00:00:00",
          "2020-02-02T00:00:00",
          "2020-02-03T00:00:00",
          "2020-02-04T00:00:00",
          "2020-02-05T00:00:00",
          "2020-02-06T00:00:00",
          "2020-02-07T00:00:00",
          "2020-02-08T00:00:00",
          "2020-02-09T00:00:00",
          "2020-02-10T00:00:00",
          "2020-02-11T00:00:00",
          "2020-02-12T00:00:00",
          "2020-02-13T00:00:00",
          "2020-02-14T00:00:00",
          "2020-02-15T00:00:00",
          "2020-02-16T00:00:00",
          "2020-02-17T00:00:00",
          "2020-02-18T00:00:00",
          "2020-02-19T00:00:00",
          "2020-02-20T00:00:00",
          "2020-02-21T00:00:00",
          "2020-02-22T00:00:00",
          "2020-02-23T00:00:00",
          "2020-02-24T00:00:00",
          "2020-02-25T00:00:00",
          "2020-02-26T00:00:00",
          "2020-02-27T00:00:00",
          "2020-02-28T00:00:00",
          "2020-02-29T00:00:00",
          "2020-03-01T00:00:00",
          "2020-03-02T00:00:00",
          "2020-03-03T00:00:00",
          "2020-03-04T00:00:00",
          "2020-03-05T00:00:00",
          "2020-03-06T00:00:00",
          "2020-03-07T00:00:00",
          "2020-03-08T00:00:00",
          "2020-03-09T00:00:00",
          "2020-03-10T00:00:00",
          "2020-03-11T00:00:00",
          "2020-03-12T00:00:00",
          "2020-03-13T00:00:00",
          "2020-03-14T00:00:00",
          "2020-03-15T00:00:00",
          "2020-03-16T00:00:00",
          "2020-03-17T00:00:00",
          "2020-03-18T00:00:00",
          "2020-03-19T00:00:00",
          "2020-03-20T00:00:00",
          "2020-03-21T00:00:00",
          "2020-03-22T00:00:00",
          "2020-03-23T00:00:00",
          "2020-03-24T00:00:00",
          "2020-03-25T00:00:00",
          "2020-03-26T00:00:00",
          "2020-03-27T00:00:00",
          "2020-03-28T00:00:00",
          "2020-03-29T00:00:00",
          "2020-03-30T00:00:00",
          "2020-03-31T00:00:00",
          "2020-04-01T00:00:00",
          "2020-04-02T00:00:00"
         ],
         "y": [
          0,
          0,
          0,
          0,
          0,
          0,
          0,
          0,
          0,
          0,
          0,
          0,
          0,
          0,
          0,
          0,
          0,
          0,
          0,
          0,
          0,
          0,
          0,
          0,
          0,
          0,
          0,
          0,
          0,
          1,
          2,
          3,
          7,
          10,
          12,
          17,
          21,
          29,
          34,
          52,
          79,
          107,
          148,
          197,
          233,
          366,
          463,
          631,
          827,
          827,
          1266,
          1441,
          1809,
          2158,
          2503,
          2978,
          3405,
          4032,
          4825,
          5476,
          6077,
          6820,
          7503,
          8215,
          9134,
          10023,
          10779,
          11591,
          12428,
          13155,
          13915
         ]
        },
        {
         "hoverinfo": "text+y",
         "hoverlabel": {
          "bgcolor": "white",
          "bordercolor": "#FF6900",
          "font": {
           "color": "#FF6900"
          }
         },
         "hovertext": "Spain",
         "marker": {
          "color": "#FF6900"
         },
         "name": "Spain",
         "type": "scatter",
         "x": [
          "2020-01-23T00:00:00",
          "2020-01-24T00:00:00",
          "2020-01-25T00:00:00",
          "2020-01-26T00:00:00",
          "2020-01-27T00:00:00",
          "2020-01-28T00:00:00",
          "2020-01-29T00:00:00",
          "2020-01-30T00:00:00",
          "2020-01-31T00:00:00",
          "2020-02-01T00:00:00",
          "2020-02-02T00:00:00",
          "2020-02-03T00:00:00",
          "2020-02-04T00:00:00",
          "2020-02-05T00:00:00",
          "2020-02-06T00:00:00",
          "2020-02-07T00:00:00",
          "2020-02-08T00:00:00",
          "2020-02-09T00:00:00",
          "2020-02-10T00:00:00",
          "2020-02-11T00:00:00",
          "2020-02-12T00:00:00",
          "2020-02-13T00:00:00",
          "2020-02-14T00:00:00",
          "2020-02-15T00:00:00",
          "2020-02-16T00:00:00",
          "2020-02-17T00:00:00",
          "2020-02-18T00:00:00",
          "2020-02-19T00:00:00",
          "2020-02-20T00:00:00",
          "2020-02-21T00:00:00",
          "2020-02-22T00:00:00",
          "2020-02-23T00:00:00",
          "2020-02-24T00:00:00",
          "2020-02-25T00:00:00",
          "2020-02-26T00:00:00",
          "2020-02-27T00:00:00",
          "2020-02-28T00:00:00",
          "2020-02-29T00:00:00",
          "2020-03-01T00:00:00",
          "2020-03-02T00:00:00",
          "2020-03-03T00:00:00",
          "2020-03-04T00:00:00",
          "2020-03-05T00:00:00",
          "2020-03-06T00:00:00",
          "2020-03-07T00:00:00",
          "2020-03-08T00:00:00",
          "2020-03-09T00:00:00",
          "2020-03-10T00:00:00",
          "2020-03-11T00:00:00",
          "2020-03-12T00:00:00",
          "2020-03-13T00:00:00",
          "2020-03-14T00:00:00",
          "2020-03-15T00:00:00",
          "2020-03-16T00:00:00",
          "2020-03-17T00:00:00",
          "2020-03-18T00:00:00",
          "2020-03-19T00:00:00",
          "2020-03-20T00:00:00",
          "2020-03-21T00:00:00",
          "2020-03-22T00:00:00",
          "2020-03-23T00:00:00",
          "2020-03-24T00:00:00",
          "2020-03-25T00:00:00",
          "2020-03-26T00:00:00",
          "2020-03-27T00:00:00",
          "2020-03-28T00:00:00",
          "2020-03-29T00:00:00",
          "2020-03-30T00:00:00",
          "2020-03-31T00:00:00",
          "2020-04-01T00:00:00",
          "2020-04-02T00:00:00"
         ],
         "y": [
          0,
          0,
          0,
          0,
          0,
          0,
          0,
          0,
          0,
          1,
          1,
          1,
          1,
          1,
          1,
          1,
          1,
          2,
          2,
          2,
          2,
          2,
          2,
          2,
          2,
          2,
          2,
          2,
          2,
          2,
          2,
          2,
          2,
          6,
          13,
          15,
          32,
          45,
          84,
          120,
          165,
          222,
          259,
          400,
          500,
          673,
          1073,
          1695,
          2277,
          2277,
          5232,
          6391,
          7798,
          9942,
          11748,
          13910,
          17963,
          20410,
          25374,
          28768,
          35136,
          39885,
          49515,
          57786,
          65719,
          73235,
          80110,
          87956,
          95923,
          104118,
          112065
         ]
        },
        {
         "hoverinfo": "text+y",
         "hoverlabel": {
          "bgcolor": "white",
          "bordercolor": "#FF6900",
          "font": {
           "color": "#FF6900"
          }
         },
         "hovertext": "Spain",
         "marker": {
          "color": "#FF6900"
         },
         "name": "Spain",
         "showlegend": false,
         "type": "scatter",
         "visible": false,
         "x": [
          "2020-01-23T00:00:00",
          "2020-01-24T00:00:00",
          "2020-01-25T00:00:00",
          "2020-01-26T00:00:00",
          "2020-01-27T00:00:00",
          "2020-01-28T00:00:00",
          "2020-01-29T00:00:00",
          "2020-01-30T00:00:00",
          "2020-01-31T00:00:00",
          "2020-02-01T00:00:00",
          "2020-02-02T00:00:00",
          "2020-02-03T00:00:00",
          "2020-02-04T00:00:00",
          "2020-02-05T00:00:00",
          "2020-02-06T00:00:00",
          "2020-02-07T00:00:00",
          "2020-02-08T00:00:00",
          "2020-02-09T00:00:00",
          "2020-02-10T00:00:00",
          "2020-02-11T00:00:00",
          "2020-02-12T00:00:00",
          "2020-02-13T00:00:00",
          "2020-02-14T00:00:00",
          "2020-02-15T00:00:00",
          "2020-02-16T00:00:00",
          "2020-02-17T00:00:00",
          "2020-02-18T00:00:00",
          "2020-02-19T00:00:00",
          "2020-02-20T00:00:00",
          "2020-02-21T00:00:00",
          "2020-02-22T00:00:00",
          "2020-02-23T00:00:00",
          "2020-02-24T00:00:00",
          "2020-02-25T00:00:00",
          "2020-02-26T00:00:00",
          "2020-02-27T00:00:00",
          "2020-02-28T00:00:00",
          "2020-02-29T00:00:00",
          "2020-03-01T00:00:00",
          "2020-03-02T00:00:00",
          "2020-03-03T00:00:00",
          "2020-03-04T00:00:00",
          "2020-03-05T00:00:00",
          "2020-03-06T00:00:00",
          "2020-03-07T00:00:00",
          "2020-03-08T00:00:00",
          "2020-03-09T00:00:00",
          "2020-03-10T00:00:00",
          "2020-03-11T00:00:00",
          "2020-03-12T00:00:00",
          "2020-03-13T00:00:00",
          "2020-03-14T00:00:00",
          "2020-03-15T00:00:00",
          "2020-03-16T00:00:00",
          "2020-03-17T00:00:00",
          "2020-03-18T00:00:00",
          "2020-03-19T00:00:00",
          "2020-03-20T00:00:00",
          "2020-03-21T00:00:00",
          "2020-03-22T00:00:00",
          "2020-03-23T00:00:00",
          "2020-03-24T00:00:00",
          "2020-03-25T00:00:00",
          "2020-03-26T00:00:00",
          "2020-03-27T00:00:00",
          "2020-03-28T00:00:00",
          "2020-03-29T00:00:00",
          "2020-03-30T00:00:00",
          "2020-03-31T00:00:00",
          "2020-04-01T00:00:00",
          "2020-04-02T00:00:00"
         ],
         "y": [
          0,
          0,
          0,
          0,
          0,
          0,
          0,
          0,
          0,
          0,
          0,
          0,
          0,
          0,
          0,
          0,
          0,
          0,
          0,
          0,
          0,
          0,
          0,
          0,
          0,
          0,
          0,
          0,
          0,
          0,
          0,
          0,
          0,
          0,
          0,
          0,
          0,
          0,
          0,
          0,
          1,
          2,
          3,
          5,
          10,
          17,
          28,
          35,
          54,
          55,
          133,
          195,
          289,
          342,
          533,
          623,
          830,
          1043,
          1375,
          1772,
          2311,
          2808,
          3647,
          4365,
          5138,
          5982,
          6803,
          7716,
          8464,
          9387,
          10348
         ]
        },
        {
         "hoverinfo": "text+y",
         "hoverlabel": {
          "bgcolor": "white",
          "bordercolor": "#E8927C",
          "font": {
           "color": "#E8927C"
          }
         },
         "hovertext": "US",
         "marker": {
          "color": "#E8927C"
         },
         "name": "US",
         "type": "scatter",
         "x": [
          "2020-01-23T00:00:00",
          "2020-01-24T00:00:00",
          "2020-01-25T00:00:00",
          "2020-01-26T00:00:00",
          "2020-01-27T00:00:00",
          "2020-01-28T00:00:00",
          "2020-01-29T00:00:00",
          "2020-01-30T00:00:00",
          "2020-01-31T00:00:00",
          "2020-02-01T00:00:00",
          "2020-02-02T00:00:00",
          "2020-02-03T00:00:00",
          "2020-02-04T00:00:00",
          "2020-02-05T00:00:00",
          "2020-02-06T00:00:00",
          "2020-02-07T00:00:00",
          "2020-02-08T00:00:00",
          "2020-02-09T00:00:00",
          "2020-02-10T00:00:00",
          "2020-02-11T00:00:00",
          "2020-02-12T00:00:00",
          "2020-02-13T00:00:00",
          "2020-02-14T00:00:00",
          "2020-02-15T00:00:00",
          "2020-02-16T00:00:00",
          "2020-02-17T00:00:00",
          "2020-02-18T00:00:00",
          "2020-02-19T00:00:00",
          "2020-02-20T00:00:00",
          "2020-02-21T00:00:00",
          "2020-02-22T00:00:00",
          "2020-02-23T00:00:00",
          "2020-02-24T00:00:00",
          "2020-02-25T00:00:00",
          "2020-02-26T00:00:00",
          "2020-02-27T00:00:00",
          "2020-02-28T00:00:00",
          "2020-02-29T00:00:00",
          "2020-03-01T00:00:00",
          "2020-03-02T00:00:00",
          "2020-03-03T00:00:00",
          "2020-03-04T00:00:00",
          "2020-03-05T00:00:00",
          "2020-03-06T00:00:00",
          "2020-03-07T00:00:00",
          "2020-03-08T00:00:00",
          "2020-03-09T00:00:00",
          "2020-03-10T00:00:00",
          "2020-03-11T00:00:00",
          "2020-03-12T00:00:00",
          "2020-03-13T00:00:00",
          "2020-03-14T00:00:00",
          "2020-03-15T00:00:00",
          "2020-03-16T00:00:00",
          "2020-03-17T00:00:00",
          "2020-03-18T00:00:00",
          "2020-03-19T00:00:00",
          "2020-03-20T00:00:00",
          "2020-03-21T00:00:00",
          "2020-03-22T00:00:00",
          "2020-03-23T00:00:00",
          "2020-03-24T00:00:00",
          "2020-03-25T00:00:00",
          "2020-03-26T00:00:00",
          "2020-03-27T00:00:00",
          "2020-03-28T00:00:00",
          "2020-03-29T00:00:00",
          "2020-03-30T00:00:00",
          "2020-03-31T00:00:00",
          "2020-04-01T00:00:00",
          "2020-04-02T00:00:00"
         ],
         "y": [
          1,
          2,
          2,
          5,
          5,
          5,
          5,
          5,
          7,
          8,
          8,
          11,
          11,
          11,
          11,
          11,
          11,
          11,
          11,
          12,
          12,
          13,
          13,
          13,
          13,
          13,
          13,
          13,
          13,
          15,
          15,
          15,
          51,
          51,
          57,
          58,
          60,
          68,
          74,
          98,
          118,
          149,
          217,
          262,
          402,
          518,
          583,
          959,
          1281,
          1663,
          2179,
          2727,
          3499,
          4632,
          6421,
          7783,
          13677,
          19100,
          25489,
          33276,
          43847,
          53740,
          65778,
          83836,
          101657,
          121478,
          140886,
          161807,
          188172,
          213372,
          243453
         ]
        },
        {
         "hoverinfo": "text+y",
         "hoverlabel": {
          "bgcolor": "white",
          "bordercolor": "#E8927C",
          "font": {
           "color": "#E8927C"
          }
         },
         "hovertext": "US",
         "marker": {
          "color": "#E8927C"
         },
         "name": "US",
         "showlegend": false,
         "type": "scatter",
         "visible": false,
         "x": [
          "2020-01-23T00:00:00",
          "2020-01-24T00:00:00",
          "2020-01-25T00:00:00",
          "2020-01-26T00:00:00",
          "2020-01-27T00:00:00",
          "2020-01-28T00:00:00",
          "2020-01-29T00:00:00",
          "2020-01-30T00:00:00",
          "2020-01-31T00:00:00",
          "2020-02-01T00:00:00",
          "2020-02-02T00:00:00",
          "2020-02-03T00:00:00",
          "2020-02-04T00:00:00",
          "2020-02-05T00:00:00",
          "2020-02-06T00:00:00",
          "2020-02-07T00:00:00",
          "2020-02-08T00:00:00",
          "2020-02-09T00:00:00",
          "2020-02-10T00:00:00",
          "2020-02-11T00:00:00",
          "2020-02-12T00:00:00",
          "2020-02-13T00:00:00",
          "2020-02-14T00:00:00",
          "2020-02-15T00:00:00",
          "2020-02-16T00:00:00",
          "2020-02-17T00:00:00",
          "2020-02-18T00:00:00",
          "2020-02-19T00:00:00",
          "2020-02-20T00:00:00",
          "2020-02-21T00:00:00",
          "2020-02-22T00:00:00",
          "2020-02-23T00:00:00",
          "2020-02-24T00:00:00",
          "2020-02-25T00:00:00",
          "2020-02-26T00:00:00",
          "2020-02-27T00:00:00",
          "2020-02-28T00:00:00",
          "2020-02-29T00:00:00",
          "2020-03-01T00:00:00",
          "2020-03-02T00:00:00",
          "2020-03-03T00:00:00",
          "2020-03-04T00:00:00",
          "2020-03-05T00:00:00",
          "2020-03-06T00:00:00",
          "2020-03-07T00:00:00",
          "2020-03-08T00:00:00",
          "2020-03-09T00:00:00",
          "2020-03-10T00:00:00",
          "2020-03-11T00:00:00",
          "2020-03-12T00:00:00",
          "2020-03-13T00:00:00",
          "2020-03-14T00:00:00",
          "2020-03-15T00:00:00",
          "2020-03-16T00:00:00",
          "2020-03-17T00:00:00",
          "2020-03-18T00:00:00",
          "2020-03-19T00:00:00",
          "2020-03-20T00:00:00",
          "2020-03-21T00:00:00",
          "2020-03-22T00:00:00",
          "2020-03-23T00:00:00",
          "2020-03-24T00:00:00",
          "2020-03-25T00:00:00",
          "2020-03-26T00:00:00",
          "2020-03-27T00:00:00",
          "2020-03-28T00:00:00",
          "2020-03-29T00:00:00",
          "2020-03-30T00:00:00",
          "2020-03-31T00:00:00",
          "2020-04-01T00:00:00",
          "2020-04-02T00:00:00"
         ],
         "y": [
          0,
          0,
          0,
          0,
          0,
          0,
          0,
          0,
          0,
          0,
          0,
          0,
          0,
          0,
          0,
          0,
          0,
          0,
          0,
          0,
          0,
          0,
          0,
          0,
          0,
          0,
          0,
          0,
          0,
          0,
          0,
          0,
          0,
          0,
          0,
          0,
          0,
          1,
          1,
          6,
          7,
          11,
          12,
          14,
          17,
          21,
          22,
          28,
          36,
          40,
          47,
          54,
          63,
          85,
          108,
          118,
          200,
          244,
          307,
          417,
          557,
          706,
          942,
          1209,
          1581,
          2026,
          2467,
          2978,
          3873,
          4757,
          5926
         ]
        },
        {
         "hoverinfo": "text+y",
         "hoverlabel": {
          "bgcolor": "white",
          "bordercolor": "#A6192E",
          "font": {
           "color": "#A6192E"
          }
         },
         "hovertext": "France",
         "marker": {
          "color": "#A6192E"
         },
         "name": "France",
         "type": "scatter",
         "x": [
          "2020-01-23T00:00:00",
          "2020-01-24T00:00:00",
          "2020-01-25T00:00:00",
          "2020-01-26T00:00:00",
          "2020-01-27T00:00:00",
          "2020-01-28T00:00:00",
          "2020-01-29T00:00:00",
          "2020-01-30T00:00:00",
          "2020-01-31T00:00:00",
          "2020-02-01T00:00:00",
          "2020-02-02T00:00:00",
          "2020-02-03T00:00:00",
          "2020-02-04T00:00:00",
          "2020-02-05T00:00:00",
          "2020-02-06T00:00:00",
          "2020-02-07T00:00:00",
          "2020-02-08T00:00:00",
          "2020-02-09T00:00:00",
          "2020-02-10T00:00:00",
          "2020-02-11T00:00:00",
          "2020-02-12T00:00:00",
          "2020-02-13T00:00:00",
          "2020-02-14T00:00:00",
          "2020-02-15T00:00:00",
          "2020-02-16T00:00:00",
          "2020-02-17T00:00:00",
          "2020-02-18T00:00:00",
          "2020-02-19T00:00:00",
          "2020-02-20T00:00:00",
          "2020-02-21T00:00:00",
          "2020-02-22T00:00:00",
          "2020-02-23T00:00:00",
          "2020-02-24T00:00:00",
          "2020-02-25T00:00:00",
          "2020-02-26T00:00:00",
          "2020-02-27T00:00:00",
          "2020-02-28T00:00:00",
          "2020-02-29T00:00:00",
          "2020-03-01T00:00:00",
          "2020-03-02T00:00:00",
          "2020-03-03T00:00:00",
          "2020-03-04T00:00:00",
          "2020-03-05T00:00:00",
          "2020-03-06T00:00:00",
          "2020-03-07T00:00:00",
          "2020-03-08T00:00:00",
          "2020-03-09T00:00:00",
          "2020-03-10T00:00:00",
          "2020-03-11T00:00:00",
          "2020-03-12T00:00:00",
          "2020-03-13T00:00:00",
          "2020-03-14T00:00:00",
          "2020-03-15T00:00:00",
          "2020-03-16T00:00:00",
          "2020-03-17T00:00:00",
          "2020-03-18T00:00:00",
          "2020-03-19T00:00:00",
          "2020-03-20T00:00:00",
          "2020-03-21T00:00:00",
          "2020-03-22T00:00:00",
          "2020-03-23T00:00:00",
          "2020-03-24T00:00:00",
          "2020-03-25T00:00:00",
          "2020-03-26T00:00:00",
          "2020-03-27T00:00:00",
          "2020-03-28T00:00:00",
          "2020-03-29T00:00:00",
          "2020-03-30T00:00:00",
          "2020-03-31T00:00:00",
          "2020-04-01T00:00:00",
          "2020-04-02T00:00:00"
         ],
         "y": [
          0,
          2,
          3,
          3,
          3,
          4,
          5,
          5,
          5,
          6,
          6,
          6,
          6,
          6,
          6,
          6,
          11,
          11,
          11,
          11,
          11,
          11,
          11,
          12,
          12,
          12,
          12,
          12,
          12,
          12,
          12,
          12,
          12,
          14,
          18,
          38,
          57,
          100,
          130,
          191,
          204,
          288,
          380,
          656,
          959,
          1136,
          1219,
          1794,
          2293,
          2293,
          3681,
          4496,
          4532,
          6683,
          7715,
          9124,
          10970,
          12758,
          14463,
          16243,
          20123,
          22622,
          25600,
          29551,
          33402,
          38105,
          40708,
          45170,
          52827,
          57749,
          59929
         ]
        },
        {
         "hoverinfo": "text+y",
         "hoverlabel": {
          "bgcolor": "white",
          "bordercolor": "#A6192E",
          "font": {
           "color": "#A6192E"
          }
         },
         "hovertext": "France",
         "marker": {
          "color": "#A6192E"
         },
         "name": "France",
         "showlegend": false,
         "type": "scatter",
         "visible": false,
         "x": [
          "2020-01-23T00:00:00",
          "2020-01-24T00:00:00",
          "2020-01-25T00:00:00",
          "2020-01-26T00:00:00",
          "2020-01-27T00:00:00",
          "2020-01-28T00:00:00",
          "2020-01-29T00:00:00",
          "2020-01-30T00:00:00",
          "2020-01-31T00:00:00",
          "2020-02-01T00:00:00",
          "2020-02-02T00:00:00",
          "2020-02-03T00:00:00",
          "2020-02-04T00:00:00",
          "2020-02-05T00:00:00",
          "2020-02-06T00:00:00",
          "2020-02-07T00:00:00",
          "2020-02-08T00:00:00",
          "2020-02-09T00:00:00",
          "2020-02-10T00:00:00",
          "2020-02-11T00:00:00",
          "2020-02-12T00:00:00",
          "2020-02-13T00:00:00",
          "2020-02-14T00:00:00",
          "2020-02-15T00:00:00",
          "2020-02-16T00:00:00",
          "2020-02-17T00:00:00",
          "2020-02-18T00:00:00",
          "2020-02-19T00:00:00",
          "2020-02-20T00:00:00",
          "2020-02-21T00:00:00",
          "2020-02-22T00:00:00",
          "2020-02-23T00:00:00",
          "2020-02-24T00:00:00",
          "2020-02-25T00:00:00",
          "2020-02-26T00:00:00",
          "2020-02-27T00:00:00",
          "2020-02-28T00:00:00",
          "2020-02-29T00:00:00",
          "2020-03-01T00:00:00",
          "2020-03-02T00:00:00",
          "2020-03-03T00:00:00",
          "2020-03-04T00:00:00",
          "2020-03-05T00:00:00",
          "2020-03-06T00:00:00",
          "2020-03-07T00:00:00",
          "2020-03-08T00:00:00",
          "2020-03-09T00:00:00",
          "2020-03-10T00:00:00",
          "2020-03-11T00:00:00",
          "2020-03-12T00:00:00",
          "2020-03-13T00:00:00",
          "2020-03-14T00:00:00",
          "2020-03-15T00:00:00",
          "2020-03-16T00:00:00",
          "2020-03-17T00:00:00",
          "2020-03-18T00:00:00",
          "2020-03-19T00:00:00",
          "2020-03-20T00:00:00",
          "2020-03-21T00:00:00",
          "2020-03-22T00:00:00",
          "2020-03-23T00:00:00",
          "2020-03-24T00:00:00",
          "2020-03-25T00:00:00",
          "2020-03-26T00:00:00",
          "2020-03-27T00:00:00",
          "2020-03-28T00:00:00",
          "2020-03-29T00:00:00",
          "2020-03-30T00:00:00",
          "2020-03-31T00:00:00",
          "2020-04-01T00:00:00",
          "2020-04-02T00:00:00"
         ],
         "y": [
          0,
          0,
          0,
          0,
          0,
          0,
          0,
          0,
          0,
          0,
          0,
          0,
          0,
          0,
          0,
          0,
          0,
          0,
          0,
          0,
          0,
          0,
          0,
          1,
          1,
          1,
          1,
          1,
          1,
          1,
          1,
          1,
          1,
          1,
          2,
          2,
          2,
          2,
          2,
          3,
          4,
          4,
          6,
          9,
          11,
          19,
          19,
          33,
          48,
          48,
          79,
          91,
          91,
          149,
          149,
          149,
          244,
          451,
          563,
          676,
          862,
          1102,
          1333,
          1698,
          1997,
          2317,
          2611,
          3030,
          3532,
          4043,
          5398
         ]
        },
        {
         "hoverinfo": "text+y",
         "hoverlabel": {
          "bgcolor": "white",
          "bordercolor": "#51284F",
          "font": {
           "color": "#51284F"
          }
         },
         "hovertext": "China",
         "marker": {
          "color": "#51284F"
         },
         "name": "China",
         "type": "scatter",
         "x": [
          "2020-01-23T00:00:00",
          "2020-01-24T00:00:00",
          "2020-01-25T00:00:00",
          "2020-01-26T00:00:00",
          "2020-01-27T00:00:00",
          "2020-01-28T00:00:00",
          "2020-01-29T00:00:00",
          "2020-01-30T00:00:00",
          "2020-01-31T00:00:00",
          "2020-02-01T00:00:00",
          "2020-02-02T00:00:00",
          "2020-02-03T00:00:00",
          "2020-02-04T00:00:00",
          "2020-02-05T00:00:00",
          "2020-02-06T00:00:00",
          "2020-02-07T00:00:00",
          "2020-02-08T00:00:00",
          "2020-02-09T00:00:00",
          "2020-02-10T00:00:00",
          "2020-02-11T00:00:00",
          "2020-02-12T00:00:00",
          "2020-02-13T00:00:00",
          "2020-02-14T00:00:00",
          "2020-02-15T00:00:00",
          "2020-02-16T00:00:00",
          "2020-02-17T00:00:00",
          "2020-02-18T00:00:00",
          "2020-02-19T00:00:00",
          "2020-02-20T00:00:00",
          "2020-02-21T00:00:00",
          "2020-02-22T00:00:00",
          "2020-02-23T00:00:00",
          "2020-02-24T00:00:00",
          "2020-02-25T00:00:00",
          "2020-02-26T00:00:00",
          "2020-02-27T00:00:00",
          "2020-02-28T00:00:00",
          "2020-02-29T00:00:00",
          "2020-03-01T00:00:00",
          "2020-03-02T00:00:00",
          "2020-03-03T00:00:00",
          "2020-03-04T00:00:00",
          "2020-03-05T00:00:00",
          "2020-03-06T00:00:00",
          "2020-03-07T00:00:00",
          "2020-03-08T00:00:00",
          "2020-03-09T00:00:00",
          "2020-03-10T00:00:00",
          "2020-03-11T00:00:00",
          "2020-03-12T00:00:00",
          "2020-03-13T00:00:00",
          "2020-03-14T00:00:00",
          "2020-03-15T00:00:00",
          "2020-03-16T00:00:00",
          "2020-03-17T00:00:00",
          "2020-03-18T00:00:00",
          "2020-03-19T00:00:00",
          "2020-03-20T00:00:00",
          "2020-03-21T00:00:00",
          "2020-03-22T00:00:00",
          "2020-03-23T00:00:00",
          "2020-03-24T00:00:00",
          "2020-03-25T00:00:00",
          "2020-03-26T00:00:00",
          "2020-03-27T00:00:00",
          "2020-03-28T00:00:00",
          "2020-03-29T00:00:00",
          "2020-03-30T00:00:00",
          "2020-03-31T00:00:00",
          "2020-04-01T00:00:00",
          "2020-04-02T00:00:00"
         ],
         "y": [
          643,
          920,
          1406,
          2075,
          2877,
          5509,
          6087,
          8141,
          9802,
          11891,
          16630,
          19716,
          23707,
          27440,
          30587,
          34110,
          36814,
          39829,
          42354,
          44386,
          44759,
          59895,
          66358,
          68413,
          70513,
          72434,
          74211,
          74619,
          75077,
          75550,
          77001,
          77022,
          77241,
          77754,
          78166,
          78600,
          78928,
          79356,
          79932,
          80136,
          80261,
          80386,
          80537,
          80690,
          80770,
          80823,
          80860,
          80887,
          80921,
          80932,
          80945,
          80977,
          81003,
          81033,
          81058,
          81102,
          81156,
          81250,
          81305,
          81435,
          81498,
          81591,
          81661,
          81782,
          81897,
          81999,
          82122,
          82198,
          82279,
          82361,
          82432
         ]
        },
        {
         "hoverinfo": "text+y",
         "hoverlabel": {
          "bgcolor": "white",
          "bordercolor": "#51284F",
          "font": {
           "color": "#51284F"
          }
         },
         "hovertext": "China",
         "marker": {
          "color": "#51284F"
         },
         "name": "China",
         "showlegend": false,
         "type": "scatter",
         "visible": false,
         "x": [
          "2020-01-23T00:00:00",
          "2020-01-24T00:00:00",
          "2020-01-25T00:00:00",
          "2020-01-26T00:00:00",
          "2020-01-27T00:00:00",
          "2020-01-28T00:00:00",
          "2020-01-29T00:00:00",
          "2020-01-30T00:00:00",
          "2020-01-31T00:00:00",
          "2020-02-01T00:00:00",
          "2020-02-02T00:00:00",
          "2020-02-03T00:00:00",
          "2020-02-04T00:00:00",
          "2020-02-05T00:00:00",
          "2020-02-06T00:00:00",
          "2020-02-07T00:00:00",
          "2020-02-08T00:00:00",
          "2020-02-09T00:00:00",
          "2020-02-10T00:00:00",
          "2020-02-11T00:00:00",
          "2020-02-12T00:00:00",
          "2020-02-13T00:00:00",
          "2020-02-14T00:00:00",
          "2020-02-15T00:00:00",
          "2020-02-16T00:00:00",
          "2020-02-17T00:00:00",
          "2020-02-18T00:00:00",
          "2020-02-19T00:00:00",
          "2020-02-20T00:00:00",
          "2020-02-21T00:00:00",
          "2020-02-22T00:00:00",
          "2020-02-23T00:00:00",
          "2020-02-24T00:00:00",
          "2020-02-25T00:00:00",
          "2020-02-26T00:00:00",
          "2020-02-27T00:00:00",
          "2020-02-28T00:00:00",
          "2020-02-29T00:00:00",
          "2020-03-01T00:00:00",
          "2020-03-02T00:00:00",
          "2020-03-03T00:00:00",
          "2020-03-04T00:00:00",
          "2020-03-05T00:00:00",
          "2020-03-06T00:00:00",
          "2020-03-07T00:00:00",
          "2020-03-08T00:00:00",
          "2020-03-09T00:00:00",
          "2020-03-10T00:00:00",
          "2020-03-11T00:00:00",
          "2020-03-12T00:00:00",
          "2020-03-13T00:00:00",
          "2020-03-14T00:00:00",
          "2020-03-15T00:00:00",
          "2020-03-16T00:00:00",
          "2020-03-17T00:00:00",
          "2020-03-18T00:00:00",
          "2020-03-19T00:00:00",
          "2020-03-20T00:00:00",
          "2020-03-21T00:00:00",
          "2020-03-22T00:00:00",
          "2020-03-23T00:00:00",
          "2020-03-24T00:00:00",
          "2020-03-25T00:00:00",
          "2020-03-26T00:00:00",
          "2020-03-27T00:00:00",
          "2020-03-28T00:00:00",
          "2020-03-29T00:00:00",
          "2020-03-30T00:00:00",
          "2020-03-31T00:00:00",
          "2020-04-01T00:00:00",
          "2020-04-02T00:00:00"
         ],
         "y": [
          18,
          26,
          42,
          56,
          82,
          131,
          133,
          171,
          213,
          259,
          361,
          425,
          491,
          563,
          633,
          718,
          805,
          905,
          1012,
          1112,
          1117,
          1369,
          1521,
          1663,
          1766,
          1864,
          2003,
          2116,
          2238,
          2238,
          2443,
          2445,
          2595,
          2665,
          2717,
          2746,
          2790,
          2837,
          2872,
          2914,
          2947,
          2983,
          3015,
          3044,
          3072,
          3100,
          3123,
          3139,
          3161,
          3172,
          3180,
          3193,
          3203,
          3217,
          3230,
          3241,
          3249,
          3253,
          3259,
          3274,
          3274,
          3281,
          3285,
          3291,
          3296,
          3299,
          3304,
          3308,
          3309,
          3316,
          3322
         ]
        },
        {
         "hoverinfo": "text+y",
         "hoverlabel": {
          "bgcolor": "white",
          "bordercolor": "#A192B2",
          "font": {
           "color": "#A192B2"
          }
         },
         "hovertext": "Iran",
         "marker": {
          "color": "#A192B2"
         },
         "name": "Iran",
         "type": "scatter",
         "x": [
          "2020-01-23T00:00:00",
          "2020-01-24T00:00:00",
          "2020-01-25T00:00:00",
          "2020-01-26T00:00:00",
          "2020-01-27T00:00:00",
          "2020-01-28T00:00:00",
          "2020-01-29T00:00:00",
          "2020-01-30T00:00:00",
          "2020-01-31T00:00:00",
          "2020-02-01T00:00:00",
          "2020-02-02T00:00:00",
          "2020-02-03T00:00:00",
          "2020-02-04T00:00:00",
          "2020-02-05T00:00:00",
          "2020-02-06T00:00:00",
          "2020-02-07T00:00:00",
          "2020-02-08T00:00:00",
          "2020-02-09T00:00:00",
          "2020-02-10T00:00:00",
          "2020-02-11T00:00:00",
          "2020-02-12T00:00:00",
          "2020-02-13T00:00:00",
          "2020-02-14T00:00:00",
          "2020-02-15T00:00:00",
          "2020-02-16T00:00:00",
          "2020-02-17T00:00:00",
          "2020-02-18T00:00:00",
          "2020-02-19T00:00:00",
          "2020-02-20T00:00:00",
          "2020-02-21T00:00:00",
          "2020-02-22T00:00:00",
          "2020-02-23T00:00:00",
          "2020-02-24T00:00:00",
          "2020-02-25T00:00:00",
          "2020-02-26T00:00:00",
          "2020-02-27T00:00:00",
          "2020-02-28T00:00:00",
          "2020-02-29T00:00:00",
          "2020-03-01T00:00:00",
          "2020-03-02T00:00:00",
          "2020-03-03T00:00:00",
          "2020-03-04T00:00:00",
          "2020-03-05T00:00:00",
          "2020-03-06T00:00:00",
          "2020-03-07T00:00:00",
          "2020-03-08T00:00:00",
          "2020-03-09T00:00:00",
          "2020-03-10T00:00:00",
          "2020-03-11T00:00:00",
          "2020-03-12T00:00:00",
          "2020-03-13T00:00:00",
          "2020-03-14T00:00:00",
          "2020-03-15T00:00:00",
          "2020-03-16T00:00:00",
          "2020-03-17T00:00:00",
          "2020-03-18T00:00:00",
          "2020-03-19T00:00:00",
          "2020-03-20T00:00:00",
          "2020-03-21T00:00:00",
          "2020-03-22T00:00:00",
          "2020-03-23T00:00:00",
          "2020-03-24T00:00:00",
          "2020-03-25T00:00:00",
          "2020-03-26T00:00:00",
          "2020-03-27T00:00:00",
          "2020-03-28T00:00:00",
          "2020-03-29T00:00:00",
          "2020-03-30T00:00:00",
          "2020-03-31T00:00:00",
          "2020-04-01T00:00:00",
          "2020-04-02T00:00:00"
         ],
         "y": [
          0,
          0,
          0,
          0,
          0,
          0,
          0,
          0,
          0,
          0,
          0,
          0,
          0,
          0,
          0,
          0,
          0,
          0,
          0,
          0,
          0,
          0,
          0,
          0,
          0,
          0,
          0,
          2,
          5,
          18,
          28,
          43,
          61,
          95,
          139,
          245,
          388,
          593,
          978,
          1501,
          2336,
          2922,
          3513,
          4747,
          5823,
          6566,
          7161,
          8042,
          9000,
          10075,
          11364,
          12729,
          13938,
          14991,
          16169,
          17361,
          18407,
          19644,
          20610,
          21638,
          23049,
          24811,
          27017,
          29406,
          32332,
          35408,
          38309,
          41495,
          44605,
          47593,
          50468
         ]
        },
        {
         "hoverinfo": "text+y",
         "hoverlabel": {
          "bgcolor": "white",
          "bordercolor": "#A192B2",
          "font": {
           "color": "#A192B2"
          }
         },
         "hovertext": "Iran",
         "marker": {
          "color": "#A192B2"
         },
         "name": "Iran",
         "showlegend": false,
         "type": "scatter",
         "visible": false,
         "x": [
          "2020-01-23T00:00:00",
          "2020-01-24T00:00:00",
          "2020-01-25T00:00:00",
          "2020-01-26T00:00:00",
          "2020-01-27T00:00:00",
          "2020-01-28T00:00:00",
          "2020-01-29T00:00:00",
          "2020-01-30T00:00:00",
          "2020-01-31T00:00:00",
          "2020-02-01T00:00:00",
          "2020-02-02T00:00:00",
          "2020-02-03T00:00:00",
          "2020-02-04T00:00:00",
          "2020-02-05T00:00:00",
          "2020-02-06T00:00:00",
          "2020-02-07T00:00:00",
          "2020-02-08T00:00:00",
          "2020-02-09T00:00:00",
          "2020-02-10T00:00:00",
          "2020-02-11T00:00:00",
          "2020-02-12T00:00:00",
          "2020-02-13T00:00:00",
          "2020-02-14T00:00:00",
          "2020-02-15T00:00:00",
          "2020-02-16T00:00:00",
          "2020-02-17T00:00:00",
          "2020-02-18T00:00:00",
          "2020-02-19T00:00:00",
          "2020-02-20T00:00:00",
          "2020-02-21T00:00:00",
          "2020-02-22T00:00:00",
          "2020-02-23T00:00:00",
          "2020-02-24T00:00:00",
          "2020-02-25T00:00:00",
          "2020-02-26T00:00:00",
          "2020-02-27T00:00:00",
          "2020-02-28T00:00:00",
          "2020-02-29T00:00:00",
          "2020-03-01T00:00:00",
          "2020-03-02T00:00:00",
          "2020-03-03T00:00:00",
          "2020-03-04T00:00:00",
          "2020-03-05T00:00:00",
          "2020-03-06T00:00:00",
          "2020-03-07T00:00:00",
          "2020-03-08T00:00:00",
          "2020-03-09T00:00:00",
          "2020-03-10T00:00:00",
          "2020-03-11T00:00:00",
          "2020-03-12T00:00:00",
          "2020-03-13T00:00:00",
          "2020-03-14T00:00:00",
          "2020-03-15T00:00:00",
          "2020-03-16T00:00:00",
          "2020-03-17T00:00:00",
          "2020-03-18T00:00:00",
          "2020-03-19T00:00:00",
          "2020-03-20T00:00:00",
          "2020-03-21T00:00:00",
          "2020-03-22T00:00:00",
          "2020-03-23T00:00:00",
          "2020-03-24T00:00:00",
          "2020-03-25T00:00:00",
          "2020-03-26T00:00:00",
          "2020-03-27T00:00:00",
          "2020-03-28T00:00:00",
          "2020-03-29T00:00:00",
          "2020-03-30T00:00:00",
          "2020-03-31T00:00:00",
          "2020-04-01T00:00:00",
          "2020-04-02T00:00:00"
         ],
         "y": [
          0,
          0,
          0,
          0,
          0,
          0,
          0,
          0,
          0,
          0,
          0,
          0,
          0,
          0,
          0,
          0,
          0,
          0,
          0,
          0,
          0,
          0,
          0,
          0,
          0,
          0,
          0,
          2,
          2,
          4,
          5,
          8,
          12,
          16,
          19,
          26,
          34,
          43,
          54,
          66,
          77,
          92,
          107,
          124,
          145,
          194,
          237,
          291,
          354,
          429,
          514,
          611,
          724,
          853,
          988,
          1135,
          1284,
          1433,
          1556,
          1685,
          1812,
          1934,
          2077,
          2234,
          2378,
          2517,
          2640,
          2757,
          2898,
          3036,
          3160
         ]
        },
        {
         "hoverinfo": "text+y",
         "hoverlabel": {
          "bgcolor": "white",
          "bordercolor": "#418FDE",
          "font": {
           "color": "#418FDE"
          }
         },
         "hovertext": "United Kingdom",
         "marker": {
          "color": "#418FDE"
         },
         "name": "United Kingdom",
         "type": "scatter",
         "x": [
          "2020-01-23T00:00:00",
          "2020-01-24T00:00:00",
          "2020-01-25T00:00:00",
          "2020-01-26T00:00:00",
          "2020-01-27T00:00:00",
          "2020-01-28T00:00:00",
          "2020-01-29T00:00:00",
          "2020-01-30T00:00:00",
          "2020-01-31T00:00:00",
          "2020-02-01T00:00:00",
          "2020-02-02T00:00:00",
          "2020-02-03T00:00:00",
          "2020-02-04T00:00:00",
          "2020-02-05T00:00:00",
          "2020-02-06T00:00:00",
          "2020-02-07T00:00:00",
          "2020-02-08T00:00:00",
          "2020-02-09T00:00:00",
          "2020-02-10T00:00:00",
          "2020-02-11T00:00:00",
          "2020-02-12T00:00:00",
          "2020-02-13T00:00:00",
          "2020-02-14T00:00:00",
          "2020-02-15T00:00:00",
          "2020-02-16T00:00:00",
          "2020-02-17T00:00:00",
          "2020-02-18T00:00:00",
          "2020-02-19T00:00:00",
          "2020-02-20T00:00:00",
          "2020-02-21T00:00:00",
          "2020-02-22T00:00:00",
          "2020-02-23T00:00:00",
          "2020-02-24T00:00:00",
          "2020-02-25T00:00:00",
          "2020-02-26T00:00:00",
          "2020-02-27T00:00:00",
          "2020-02-28T00:00:00",
          "2020-02-29T00:00:00",
          "2020-03-01T00:00:00",
          "2020-03-02T00:00:00",
          "2020-03-03T00:00:00",
          "2020-03-04T00:00:00",
          "2020-03-05T00:00:00",
          "2020-03-06T00:00:00",
          "2020-03-07T00:00:00",
          "2020-03-08T00:00:00",
          "2020-03-09T00:00:00",
          "2020-03-10T00:00:00",
          "2020-03-11T00:00:00",
          "2020-03-12T00:00:00",
          "2020-03-13T00:00:00",
          "2020-03-14T00:00:00",
          "2020-03-15T00:00:00",
          "2020-03-16T00:00:00",
          "2020-03-17T00:00:00",
          "2020-03-18T00:00:00",
          "2020-03-19T00:00:00",
          "2020-03-20T00:00:00",
          "2020-03-21T00:00:00",
          "2020-03-22T00:00:00",
          "2020-03-23T00:00:00",
          "2020-03-24T00:00:00",
          "2020-03-25T00:00:00",
          "2020-03-26T00:00:00",
          "2020-03-27T00:00:00",
          "2020-03-28T00:00:00",
          "2020-03-29T00:00:00",
          "2020-03-30T00:00:00",
          "2020-03-31T00:00:00",
          "2020-04-01T00:00:00",
          "2020-04-02T00:00:00"
         ],
         "y": [
          0,
          0,
          0,
          0,
          0,
          0,
          0,
          0,
          2,
          2,
          2,
          2,
          2,
          2,
          2,
          3,
          3,
          3,
          8,
          8,
          9,
          9,
          9,
          9,
          9,
          9,
          9,
          9,
          9,
          9,
          9,
          9,
          13,
          13,
          13,
          15,
          20,
          23,
          36,
          40,
          51,
          86,
          116,
          164,
          207,
          274,
          322,
          384,
          459,
          459,
          802,
          1144,
          1145,
          1551,
          1960,
          2642,
          2716,
          4014,
          5067,
          5745,
          6726,
          8164,
          9640,
          11812,
          14745,
          17312,
          19780,
          22453,
          25481,
          29865,
          34173
         ]
        },
        {
         "hoverinfo": "text+y",
         "hoverlabel": {
          "bgcolor": "white",
          "bordercolor": "#418FDE",
          "font": {
           "color": "#418FDE"
          }
         },
         "hovertext": "United Kingdom",
         "marker": {
          "color": "#418FDE"
         },
         "name": "United Kingdom",
         "showlegend": false,
         "type": "scatter",
         "visible": false,
         "x": [
          "2020-01-23T00:00:00",
          "2020-01-24T00:00:00",
          "2020-01-25T00:00:00",
          "2020-01-26T00:00:00",
          "2020-01-27T00:00:00",
          "2020-01-28T00:00:00",
          "2020-01-29T00:00:00",
          "2020-01-30T00:00:00",
          "2020-01-31T00:00:00",
          "2020-02-01T00:00:00",
          "2020-02-02T00:00:00",
          "2020-02-03T00:00:00",
          "2020-02-04T00:00:00",
          "2020-02-05T00:00:00",
          "2020-02-06T00:00:00",
          "2020-02-07T00:00:00",
          "2020-02-08T00:00:00",
          "2020-02-09T00:00:00",
          "2020-02-10T00:00:00",
          "2020-02-11T00:00:00",
          "2020-02-12T00:00:00",
          "2020-02-13T00:00:00",
          "2020-02-14T00:00:00",
          "2020-02-15T00:00:00",
          "2020-02-16T00:00:00",
          "2020-02-17T00:00:00",
          "2020-02-18T00:00:00",
          "2020-02-19T00:00:00",
          "2020-02-20T00:00:00",
          "2020-02-21T00:00:00",
          "2020-02-22T00:00:00",
          "2020-02-23T00:00:00",
          "2020-02-24T00:00:00",
          "2020-02-25T00:00:00",
          "2020-02-26T00:00:00",
          "2020-02-27T00:00:00",
          "2020-02-28T00:00:00",
          "2020-02-29T00:00:00",
          "2020-03-01T00:00:00",
          "2020-03-02T00:00:00",
          "2020-03-03T00:00:00",
          "2020-03-04T00:00:00",
          "2020-03-05T00:00:00",
          "2020-03-06T00:00:00",
          "2020-03-07T00:00:00",
          "2020-03-08T00:00:00",
          "2020-03-09T00:00:00",
          "2020-03-10T00:00:00",
          "2020-03-11T00:00:00",
          "2020-03-12T00:00:00",
          "2020-03-13T00:00:00",
          "2020-03-14T00:00:00",
          "2020-03-15T00:00:00",
          "2020-03-16T00:00:00",
          "2020-03-17T00:00:00",
          "2020-03-18T00:00:00",
          "2020-03-19T00:00:00",
          "2020-03-20T00:00:00",
          "2020-03-21T00:00:00",
          "2020-03-22T00:00:00",
          "2020-03-23T00:00:00",
          "2020-03-24T00:00:00",
          "2020-03-25T00:00:00",
          "2020-03-26T00:00:00",
          "2020-03-27T00:00:00",
          "2020-03-28T00:00:00",
          "2020-03-29T00:00:00",
          "2020-03-30T00:00:00",
          "2020-03-31T00:00:00",
          "2020-04-01T00:00:00",
          "2020-04-02T00:00:00"
         ],
         "y": [
          0,
          0,
          0,
          0,
          0,
          0,
          0,
          0,
          0,
          0,
          0,
          0,
          0,
          0,
          0,
          0,
          0,
          0,
          0,
          0,
          0,
          0,
          0,
          0,
          0,
          0,
          0,
          0,
          0,
          0,
          0,
          0,
          0,
          0,
          0,
          0,
          0,
          0,
          0,
          0,
          0,
          0,
          1,
          2,
          2,
          3,
          4,
          6,
          8,
          8,
          8,
          21,
          21,
          56,
          56,
          72,
          138,
          178,
          234,
          282,
          336,
          423,
          466,
          580,
          761,
          1021,
          1231,
          1411,
          1793,
          2357,
          2926
         ]
        },
        {
         "hoverinfo": "text+y",
         "hoverlabel": {
          "bgcolor": "white",
          "bordercolor": "#86C8BC",
          "font": {
           "color": "#86C8BC"
          }
         },
         "hovertext": "Netherlands",
         "marker": {
          "color": "#86C8BC"
         },
         "name": "Netherlands",
         "type": "scatter",
         "x": [
          "2020-01-23T00:00:00",
          "2020-01-24T00:00:00",
          "2020-01-25T00:00:00",
          "2020-01-26T00:00:00",
          "2020-01-27T00:00:00",
          "2020-01-28T00:00:00",
          "2020-01-29T00:00:00",
          "2020-01-30T00:00:00",
          "2020-01-31T00:00:00",
          "2020-02-01T00:00:00",
          "2020-02-02T00:00:00",
          "2020-02-03T00:00:00",
          "2020-02-04T00:00:00",
          "2020-02-05T00:00:00",
          "2020-02-06T00:00:00",
          "2020-02-07T00:00:00",
          "2020-02-08T00:00:00",
          "2020-02-09T00:00:00",
          "2020-02-10T00:00:00",
          "2020-02-11T00:00:00",
          "2020-02-12T00:00:00",
          "2020-02-13T00:00:00",
          "2020-02-14T00:00:00",
          "2020-02-15T00:00:00",
          "2020-02-16T00:00:00",
          "2020-02-17T00:00:00",
          "2020-02-18T00:00:00",
          "2020-02-19T00:00:00",
          "2020-02-20T00:00:00",
          "2020-02-21T00:00:00",
          "2020-02-22T00:00:00",
          "2020-02-23T00:00:00",
          "2020-02-24T00:00:00",
          "2020-02-25T00:00:00",
          "2020-02-26T00:00:00",
          "2020-02-27T00:00:00",
          "2020-02-28T00:00:00",
          "2020-02-29T00:00:00",
          "2020-03-01T00:00:00",
          "2020-03-02T00:00:00",
          "2020-03-03T00:00:00",
          "2020-03-04T00:00:00",
          "2020-03-05T00:00:00",
          "2020-03-06T00:00:00",
          "2020-03-07T00:00:00",
          "2020-03-08T00:00:00",
          "2020-03-09T00:00:00",
          "2020-03-10T00:00:00",
          "2020-03-11T00:00:00",
          "2020-03-12T00:00:00",
          "2020-03-13T00:00:00",
          "2020-03-14T00:00:00",
          "2020-03-15T00:00:00",
          "2020-03-16T00:00:00",
          "2020-03-17T00:00:00",
          "2020-03-18T00:00:00",
          "2020-03-19T00:00:00",
          "2020-03-20T00:00:00",
          "2020-03-21T00:00:00",
          "2020-03-22T00:00:00",
          "2020-03-23T00:00:00",
          "2020-03-24T00:00:00",
          "2020-03-25T00:00:00",
          "2020-03-26T00:00:00",
          "2020-03-27T00:00:00",
          "2020-03-28T00:00:00",
          "2020-03-29T00:00:00",
          "2020-03-30T00:00:00",
          "2020-03-31T00:00:00",
          "2020-04-01T00:00:00",
          "2020-04-02T00:00:00"
         ],
         "y": [
          0,
          0,
          0,
          0,
          0,
          0,
          0,
          0,
          0,
          0,
          0,
          0,
          0,
          0,
          0,
          0,
          0,
          0,
          0,
          0,
          0,
          0,
          0,
          0,
          0,
          0,
          0,
          0,
          0,
          0,
          0,
          0,
          0,
          0,
          0,
          1,
          1,
          6,
          10,
          18,
          24,
          38,
          82,
          128,
          188,
          265,
          321,
          382,
          503,
          503,
          806,
          962,
          1138,
          1416,
          1711,
          2058,
          2467,
          3003,
          3640,
          4217,
          4764,
          5580,
          6438,
          7468,
          8647,
          9819,
          10930,
          11817,
          12667,
          13696,
          14788
         ]
        },
        {
         "hoverinfo": "text+y",
         "hoverlabel": {
          "bgcolor": "white",
          "bordercolor": "#86C8BC",
          "font": {
           "color": "#86C8BC"
          }
         },
         "hovertext": "Netherlands",
         "marker": {
          "color": "#86C8BC"
         },
         "name": "Netherlands",
         "showlegend": false,
         "type": "scatter",
         "visible": false,
         "x": [
          "2020-01-23T00:00:00",
          "2020-01-24T00:00:00",
          "2020-01-25T00:00:00",
          "2020-01-26T00:00:00",
          "2020-01-27T00:00:00",
          "2020-01-28T00:00:00",
          "2020-01-29T00:00:00",
          "2020-01-30T00:00:00",
          "2020-01-31T00:00:00",
          "2020-02-01T00:00:00",
          "2020-02-02T00:00:00",
          "2020-02-03T00:00:00",
          "2020-02-04T00:00:00",
          "2020-02-05T00:00:00",
          "2020-02-06T00:00:00",
          "2020-02-07T00:00:00",
          "2020-02-08T00:00:00",
          "2020-02-09T00:00:00",
          "2020-02-10T00:00:00",
          "2020-02-11T00:00:00",
          "2020-02-12T00:00:00",
          "2020-02-13T00:00:00",
          "2020-02-14T00:00:00",
          "2020-02-15T00:00:00",
          "2020-02-16T00:00:00",
          "2020-02-17T00:00:00",
          "2020-02-18T00:00:00",
          "2020-02-19T00:00:00",
          "2020-02-20T00:00:00",
          "2020-02-21T00:00:00",
          "2020-02-22T00:00:00",
          "2020-02-23T00:00:00",
          "2020-02-24T00:00:00",
          "2020-02-25T00:00:00",
          "2020-02-26T00:00:00",
          "2020-02-27T00:00:00",
          "2020-02-28T00:00:00",
          "2020-02-29T00:00:00",
          "2020-03-01T00:00:00",
          "2020-03-02T00:00:00",
          "2020-03-03T00:00:00",
          "2020-03-04T00:00:00",
          "2020-03-05T00:00:00",
          "2020-03-06T00:00:00",
          "2020-03-07T00:00:00",
          "2020-03-08T00:00:00",
          "2020-03-09T00:00:00",
          "2020-03-10T00:00:00",
          "2020-03-11T00:00:00",
          "2020-03-12T00:00:00",
          "2020-03-13T00:00:00",
          "2020-03-14T00:00:00",
          "2020-03-15T00:00:00",
          "2020-03-16T00:00:00",
          "2020-03-17T00:00:00",
          "2020-03-18T00:00:00",
          "2020-03-19T00:00:00",
          "2020-03-20T00:00:00",
          "2020-03-21T00:00:00",
          "2020-03-22T00:00:00",
          "2020-03-23T00:00:00",
          "2020-03-24T00:00:00",
          "2020-03-25T00:00:00",
          "2020-03-26T00:00:00",
          "2020-03-27T00:00:00",
          "2020-03-28T00:00:00",
          "2020-03-29T00:00:00",
          "2020-03-30T00:00:00",
          "2020-03-31T00:00:00",
          "2020-04-01T00:00:00",
          "2020-04-02T00:00:00"
         ],
         "y": [
          0,
          0,
          0,
          0,
          0,
          0,
          0,
          0,
          0,
          0,
          0,
          0,
          0,
          0,
          0,
          0,
          0,
          0,
          0,
          0,
          0,
          0,
          0,
          0,
          0,
          0,
          0,
          0,
          0,
          0,
          0,
          0,
          0,
          0,
          0,
          0,
          0,
          0,
          0,
          0,
          0,
          0,
          0,
          1,
          1,
          3,
          3,
          4,
          5,
          5,
          10,
          12,
          20,
          24,
          43,
          58,
          77,
          107,
          137,
          180,
          214,
          277,
          357,
          435,
          547,
          640,
          772,
          865,
          1040,
          1175,
          1341
         ]
        },
        {
         "hoverinfo": "text+y",
         "hoverlabel": {
          "bgcolor": "white",
          "bordercolor": "#286140",
          "font": {
           "color": "#286140"
          }
         },
         "hovertext": "Germany",
         "marker": {
          "color": "#286140"
         },
         "name": "Germany",
         "type": "scatter",
         "x": [
          "2020-01-23T00:00:00",
          "2020-01-24T00:00:00",
          "2020-01-25T00:00:00",
          "2020-01-26T00:00:00",
          "2020-01-27T00:00:00",
          "2020-01-28T00:00:00",
          "2020-01-29T00:00:00",
          "2020-01-30T00:00:00",
          "2020-01-31T00:00:00",
          "2020-02-01T00:00:00",
          "2020-02-02T00:00:00",
          "2020-02-03T00:00:00",
          "2020-02-04T00:00:00",
          "2020-02-05T00:00:00",
          "2020-02-06T00:00:00",
          "2020-02-07T00:00:00",
          "2020-02-08T00:00:00",
          "2020-02-09T00:00:00",
          "2020-02-10T00:00:00",
          "2020-02-11T00:00:00",
          "2020-02-12T00:00:00",
          "2020-02-13T00:00:00",
          "2020-02-14T00:00:00",
          "2020-02-15T00:00:00",
          "2020-02-16T00:00:00",
          "2020-02-17T00:00:00",
          "2020-02-18T00:00:00",
          "2020-02-19T00:00:00",
          "2020-02-20T00:00:00",
          "2020-02-21T00:00:00",
          "2020-02-22T00:00:00",
          "2020-02-23T00:00:00",
          "2020-02-24T00:00:00",
          "2020-02-25T00:00:00",
          "2020-02-26T00:00:00",
          "2020-02-27T00:00:00",
          "2020-02-28T00:00:00",
          "2020-02-29T00:00:00",
          "2020-03-01T00:00:00",
          "2020-03-02T00:00:00",
          "2020-03-03T00:00:00",
          "2020-03-04T00:00:00",
          "2020-03-05T00:00:00",
          "2020-03-06T00:00:00",
          "2020-03-07T00:00:00",
          "2020-03-08T00:00:00",
          "2020-03-09T00:00:00",
          "2020-03-10T00:00:00",
          "2020-03-11T00:00:00",
          "2020-03-12T00:00:00",
          "2020-03-13T00:00:00",
          "2020-03-14T00:00:00",
          "2020-03-15T00:00:00",
          "2020-03-16T00:00:00",
          "2020-03-17T00:00:00",
          "2020-03-18T00:00:00",
          "2020-03-19T00:00:00",
          "2020-03-20T00:00:00",
          "2020-03-21T00:00:00",
          "2020-03-22T00:00:00",
          "2020-03-23T00:00:00",
          "2020-03-24T00:00:00",
          "2020-03-25T00:00:00",
          "2020-03-26T00:00:00",
          "2020-03-27T00:00:00",
          "2020-03-28T00:00:00",
          "2020-03-29T00:00:00",
          "2020-03-30T00:00:00",
          "2020-03-31T00:00:00",
          "2020-04-01T00:00:00",
          "2020-04-02T00:00:00"
         ],
         "y": [
          0,
          0,
          0,
          0,
          1,
          4,
          4,
          4,
          5,
          8,
          10,
          12,
          12,
          12,
          12,
          13,
          13,
          14,
          14,
          16,
          16,
          16,
          16,
          16,
          16,
          16,
          16,
          16,
          16,
          16,
          16,
          16,
          16,
          17,
          27,
          46,
          48,
          79,
          130,
          159,
          196,
          262,
          482,
          670,
          799,
          1040,
          1176,
          1457,
          1908,
          2078,
          3675,
          4585,
          5795,
          7272,
          9257,
          12327,
          15320,
          19848,
          22213,
          24873,
          29056,
          32986,
          37323,
          43938,
          50871,
          57695,
          62095,
          66885,
          71808,
          77872,
          84794
         ]
        },
        {
         "hoverinfo": "text+y",
         "hoverlabel": {
          "bgcolor": "white",
          "bordercolor": "#286140",
          "font": {
           "color": "#286140"
          }
         },
         "hovertext": "Germany",
         "marker": {
          "color": "#286140"
         },
         "name": "Germany",
         "showlegend": false,
         "type": "scatter",
         "visible": false,
         "x": [
          "2020-01-23T00:00:00",
          "2020-01-24T00:00:00",
          "2020-01-25T00:00:00",
          "2020-01-26T00:00:00",
          "2020-01-27T00:00:00",
          "2020-01-28T00:00:00",
          "2020-01-29T00:00:00",
          "2020-01-30T00:00:00",
          "2020-01-31T00:00:00",
          "2020-02-01T00:00:00",
          "2020-02-02T00:00:00",
          "2020-02-03T00:00:00",
          "2020-02-04T00:00:00",
          "2020-02-05T00:00:00",
          "2020-02-06T00:00:00",
          "2020-02-07T00:00:00",
          "2020-02-08T00:00:00",
          "2020-02-09T00:00:00",
          "2020-02-10T00:00:00",
          "2020-02-11T00:00:00",
          "2020-02-12T00:00:00",
          "2020-02-13T00:00:00",
          "2020-02-14T00:00:00",
          "2020-02-15T00:00:00",
          "2020-02-16T00:00:00",
          "2020-02-17T00:00:00",
          "2020-02-18T00:00:00",
          "2020-02-19T00:00:00",
          "2020-02-20T00:00:00",
          "2020-02-21T00:00:00",
          "2020-02-22T00:00:00",
          "2020-02-23T00:00:00",
          "2020-02-24T00:00:00",
          "2020-02-25T00:00:00",
          "2020-02-26T00:00:00",
          "2020-02-27T00:00:00",
          "2020-02-28T00:00:00",
          "2020-02-29T00:00:00",
          "2020-03-01T00:00:00",
          "2020-03-02T00:00:00",
          "2020-03-03T00:00:00",
          "2020-03-04T00:00:00",
          "2020-03-05T00:00:00",
          "2020-03-06T00:00:00",
          "2020-03-07T00:00:00",
          "2020-03-08T00:00:00",
          "2020-03-09T00:00:00",
          "2020-03-10T00:00:00",
          "2020-03-11T00:00:00",
          "2020-03-12T00:00:00",
          "2020-03-13T00:00:00",
          "2020-03-14T00:00:00",
          "2020-03-15T00:00:00",
          "2020-03-16T00:00:00",
          "2020-03-17T00:00:00",
          "2020-03-18T00:00:00",
          "2020-03-19T00:00:00",
          "2020-03-20T00:00:00",
          "2020-03-21T00:00:00",
          "2020-03-22T00:00:00",
          "2020-03-23T00:00:00",
          "2020-03-24T00:00:00",
          "2020-03-25T00:00:00",
          "2020-03-26T00:00:00",
          "2020-03-27T00:00:00",
          "2020-03-28T00:00:00",
          "2020-03-29T00:00:00",
          "2020-03-30T00:00:00",
          "2020-03-31T00:00:00",
          "2020-04-01T00:00:00",
          "2020-04-02T00:00:00"
         ],
         "y": [
          0,
          0,
          0,
          0,
          0,
          0,
          0,
          0,
          0,
          0,
          0,
          0,
          0,
          0,
          0,
          0,
          0,
          0,
          0,
          0,
          0,
          0,
          0,
          0,
          0,
          0,
          0,
          0,
          0,
          0,
          0,
          0,
          0,
          0,
          0,
          0,
          0,
          0,
          0,
          0,
          0,
          0,
          0,
          0,
          0,
          0,
          2,
          2,
          3,
          3,
          7,
          9,
          11,
          17,
          24,
          28,
          44,
          67,
          84,
          94,
          123,
          157,
          206,
          267,
          342,
          433,
          533,
          645,
          775,
          920,
          1107
         ]
        },
        {
         "hoverinfo": "text+y",
         "hoverlabel": {
          "bgcolor": "white",
          "bordercolor": "#F1C400",
          "font": {
           "color": "#F1C400"
          }
         },
         "hovertext": "Belgium",
         "marker": {
          "color": "#F1C400"
         },
         "name": "Belgium",
         "type": "scatter",
         "x": [
          "2020-01-23T00:00:00",
          "2020-01-24T00:00:00",
          "2020-01-25T00:00:00",
          "2020-01-26T00:00:00",
          "2020-01-27T00:00:00",
          "2020-01-28T00:00:00",
          "2020-01-29T00:00:00",
          "2020-01-30T00:00:00",
          "2020-01-31T00:00:00",
          "2020-02-01T00:00:00",
          "2020-02-02T00:00:00",
          "2020-02-03T00:00:00",
          "2020-02-04T00:00:00",
          "2020-02-05T00:00:00",
          "2020-02-06T00:00:00",
          "2020-02-07T00:00:00",
          "2020-02-08T00:00:00",
          "2020-02-09T00:00:00",
          "2020-02-10T00:00:00",
          "2020-02-11T00:00:00",
          "2020-02-12T00:00:00",
          "2020-02-13T00:00:00",
          "2020-02-14T00:00:00",
          "2020-02-15T00:00:00",
          "2020-02-16T00:00:00",
          "2020-02-17T00:00:00",
          "2020-02-18T00:00:00",
          "2020-02-19T00:00:00",
          "2020-02-20T00:00:00",
          "2020-02-21T00:00:00",
          "2020-02-22T00:00:00",
          "2020-02-23T00:00:00",
          "2020-02-24T00:00:00",
          "2020-02-25T00:00:00",
          "2020-02-26T00:00:00",
          "2020-02-27T00:00:00",
          "2020-02-28T00:00:00",
          "2020-02-29T00:00:00",
          "2020-03-01T00:00:00",
          "2020-03-02T00:00:00",
          "2020-03-03T00:00:00",
          "2020-03-04T00:00:00",
          "2020-03-05T00:00:00",
          "2020-03-06T00:00:00",
          "2020-03-07T00:00:00",
          "2020-03-08T00:00:00",
          "2020-03-09T00:00:00",
          "2020-03-10T00:00:00",
          "2020-03-11T00:00:00",
          "2020-03-12T00:00:00",
          "2020-03-13T00:00:00",
          "2020-03-14T00:00:00",
          "2020-03-15T00:00:00",
          "2020-03-16T00:00:00",
          "2020-03-17T00:00:00",
          "2020-03-18T00:00:00",
          "2020-03-19T00:00:00",
          "2020-03-20T00:00:00",
          "2020-03-21T00:00:00",
          "2020-03-22T00:00:00",
          "2020-03-23T00:00:00",
          "2020-03-24T00:00:00",
          "2020-03-25T00:00:00",
          "2020-03-26T00:00:00",
          "2020-03-27T00:00:00",
          "2020-03-28T00:00:00",
          "2020-03-29T00:00:00",
          "2020-03-30T00:00:00",
          "2020-03-31T00:00:00",
          "2020-04-01T00:00:00",
          "2020-04-02T00:00:00"
         ],
         "y": [
          0,
          0,
          0,
          0,
          0,
          0,
          0,
          0,
          0,
          0,
          0,
          0,
          1,
          1,
          1,
          1,
          1,
          1,
          1,
          1,
          1,
          1,
          1,
          1,
          1,
          1,
          1,
          1,
          1,
          1,
          1,
          1,
          1,
          1,
          1,
          1,
          1,
          1,
          2,
          8,
          13,
          23,
          50,
          109,
          169,
          200,
          239,
          267,
          314,
          314,
          559,
          689,
          886,
          1058,
          1243,
          1486,
          1795,
          2257,
          2815,
          3401,
          3743,
          4269,
          4937,
          6235,
          7284,
          9134,
          10836,
          11899,
          12775,
          13964,
          15348
         ]
        },
        {
         "hoverinfo": "text+y",
         "hoverlabel": {
          "bgcolor": "white",
          "bordercolor": "#F1C400",
          "font": {
           "color": "#F1C400"
          }
         },
         "hovertext": "Belgium",
         "marker": {
          "color": "#F1C400"
         },
         "name": "Belgium",
         "showlegend": false,
         "type": "scatter",
         "visible": false,
         "x": [
          "2020-01-23T00:00:00",
          "2020-01-24T00:00:00",
          "2020-01-25T00:00:00",
          "2020-01-26T00:00:00",
          "2020-01-27T00:00:00",
          "2020-01-28T00:00:00",
          "2020-01-29T00:00:00",
          "2020-01-30T00:00:00",
          "2020-01-31T00:00:00",
          "2020-02-01T00:00:00",
          "2020-02-02T00:00:00",
          "2020-02-03T00:00:00",
          "2020-02-04T00:00:00",
          "2020-02-05T00:00:00",
          "2020-02-06T00:00:00",
          "2020-02-07T00:00:00",
          "2020-02-08T00:00:00",
          "2020-02-09T00:00:00",
          "2020-02-10T00:00:00",
          "2020-02-11T00:00:00",
          "2020-02-12T00:00:00",
          "2020-02-13T00:00:00",
          "2020-02-14T00:00:00",
          "2020-02-15T00:00:00",
          "2020-02-16T00:00:00",
          "2020-02-17T00:00:00",
          "2020-02-18T00:00:00",
          "2020-02-19T00:00:00",
          "2020-02-20T00:00:00",
          "2020-02-21T00:00:00",
          "2020-02-22T00:00:00",
          "2020-02-23T00:00:00",
          "2020-02-24T00:00:00",
          "2020-02-25T00:00:00",
          "2020-02-26T00:00:00",
          "2020-02-27T00:00:00",
          "2020-02-28T00:00:00",
          "2020-02-29T00:00:00",
          "2020-03-01T00:00:00",
          "2020-03-02T00:00:00",
          "2020-03-03T00:00:00",
          "2020-03-04T00:00:00",
          "2020-03-05T00:00:00",
          "2020-03-06T00:00:00",
          "2020-03-07T00:00:00",
          "2020-03-08T00:00:00",
          "2020-03-09T00:00:00",
          "2020-03-10T00:00:00",
          "2020-03-11T00:00:00",
          "2020-03-12T00:00:00",
          "2020-03-13T00:00:00",
          "2020-03-14T00:00:00",
          "2020-03-15T00:00:00",
          "2020-03-16T00:00:00",
          "2020-03-17T00:00:00",
          "2020-03-18T00:00:00",
          "2020-03-19T00:00:00",
          "2020-03-20T00:00:00",
          "2020-03-21T00:00:00",
          "2020-03-22T00:00:00",
          "2020-03-23T00:00:00",
          "2020-03-24T00:00:00",
          "2020-03-25T00:00:00",
          "2020-03-26T00:00:00",
          "2020-03-27T00:00:00",
          "2020-03-28T00:00:00",
          "2020-03-29T00:00:00",
          "2020-03-30T00:00:00",
          "2020-03-31T00:00:00",
          "2020-04-01T00:00:00",
          "2020-04-02T00:00:00"
         ],
         "y": [
          0,
          0,
          0,
          0,
          0,
          0,
          0,
          0,
          0,
          0,
          0,
          0,
          0,
          0,
          0,
          0,
          0,
          0,
          0,
          0,
          0,
          0,
          0,
          0,
          0,
          0,
          0,
          0,
          0,
          0,
          0,
          0,
          0,
          0,
          0,
          0,
          0,
          0,
          0,
          0,
          0,
          0,
          0,
          0,
          0,
          0,
          0,
          0,
          3,
          3,
          3,
          4,
          4,
          5,
          10,
          14,
          21,
          37,
          67,
          75,
          88,
          122,
          178,
          220,
          289,
          353,
          431,
          513,
          705,
          828,
          1011
         ]
        }
       ],
       "layout": {
        "annotations": [
         {
          "font": {
           "color": "#002D72",
           "family": "Gentona, Tahoma, sans-serif",
           "size": 24
          },
          "showarrow": false,
          "text": "Cases for the current 10 most affected countries",
          "x": 0.02,
          "xref": "paper",
          "y": 1.2,
          "yref": "paper"
         },
         {
          "font": {
           "color": "grey",
           "family": "Gentona, Tahoma, sans-serif",
           "size": 18
          },
          "showarrow": false,
          "text": "Time series by date",
          "x": 0.02,
          "xref": "paper",
          "y": 1.1,
          "yref": "paper"
         }
        ],
        "font": {
         "color": "dimgray",
         "family": "Gentona, Tahoma, sans-serif",
         "size": 12
        },
        "height": 500,
        "hovermode": "closest",
        "legend": {
         "x": 1.03,
         "y": 0.7
        },
        "template": {
         "data": {
          "bar": [
           {
            "error_x": {
             "color": "#2a3f5f"
            },
            "error_y": {
             "color": "#2a3f5f"
            },
            "marker": {
             "line": {
              "color": "#E5ECF6",
              "width": 0.5
             }
            },
            "type": "bar"
           }
          ],
          "barpolar": [
           {
            "marker": {
             "line": {
              "color": "#E5ECF6",
              "width": 0.5
             }
            },
            "type": "barpolar"
           }
          ],
          "carpet": [
           {
            "aaxis": {
             "endlinecolor": "#2a3f5f",
             "gridcolor": "white",
             "linecolor": "white",
             "minorgridcolor": "white",
             "startlinecolor": "#2a3f5f"
            },
            "baxis": {
             "endlinecolor": "#2a3f5f",
             "gridcolor": "white",
             "linecolor": "white",
             "minorgridcolor": "white",
             "startlinecolor": "#2a3f5f"
            },
            "type": "carpet"
           }
          ],
          "choropleth": [
           {
            "colorbar": {
             "outlinewidth": 0,
             "ticks": ""
            },
            "type": "choropleth"
           }
          ],
          "contour": [
           {
            "colorbar": {
             "outlinewidth": 0,
             "ticks": ""
            },
            "colorscale": [
             [
              0,
              "#0d0887"
             ],
             [
              0.1111111111111111,
              "#46039f"
             ],
             [
              0.2222222222222222,
              "#7201a8"
             ],
             [
              0.3333333333333333,
              "#9c179e"
             ],
             [
              0.4444444444444444,
              "#bd3786"
             ],
             [
              0.5555555555555556,
              "#d8576b"
             ],
             [
              0.6666666666666666,
              "#ed7953"
             ],
             [
              0.7777777777777778,
              "#fb9f3a"
             ],
             [
              0.8888888888888888,
              "#fdca26"
             ],
             [
              1,
              "#f0f921"
             ]
            ],
            "type": "contour"
           }
          ],
          "contourcarpet": [
           {
            "colorbar": {
             "outlinewidth": 0,
             "ticks": ""
            },
            "type": "contourcarpet"
           }
          ],
          "heatmap": [
           {
            "colorbar": {
             "outlinewidth": 0,
             "ticks": ""
            },
            "colorscale": [
             [
              0,
              "#0d0887"
             ],
             [
              0.1111111111111111,
              "#46039f"
             ],
             [
              0.2222222222222222,
              "#7201a8"
             ],
             [
              0.3333333333333333,
              "#9c179e"
             ],
             [
              0.4444444444444444,
              "#bd3786"
             ],
             [
              0.5555555555555556,
              "#d8576b"
             ],
             [
              0.6666666666666666,
              "#ed7953"
             ],
             [
              0.7777777777777778,
              "#fb9f3a"
             ],
             [
              0.8888888888888888,
              "#fdca26"
             ],
             [
              1,
              "#f0f921"
             ]
            ],
            "type": "heatmap"
           }
          ],
          "heatmapgl": [
           {
            "colorbar": {
             "outlinewidth": 0,
             "ticks": ""
            },
            "colorscale": [
             [
              0,
              "#0d0887"
             ],
             [
              0.1111111111111111,
              "#46039f"
             ],
             [
              0.2222222222222222,
              "#7201a8"
             ],
             [
              0.3333333333333333,
              "#9c179e"
             ],
             [
              0.4444444444444444,
              "#bd3786"
             ],
             [
              0.5555555555555556,
              "#d8576b"
             ],
             [
              0.6666666666666666,
              "#ed7953"
             ],
             [
              0.7777777777777778,
              "#fb9f3a"
             ],
             [
              0.8888888888888888,
              "#fdca26"
             ],
             [
              1,
              "#f0f921"
             ]
            ],
            "type": "heatmapgl"
           }
          ],
          "histogram": [
           {
            "marker": {
             "colorbar": {
              "outlinewidth": 0,
              "ticks": ""
             }
            },
            "type": "histogram"
           }
          ],
          "histogram2d": [
           {
            "colorbar": {
             "outlinewidth": 0,
             "ticks": ""
            },
            "colorscale": [
             [
              0,
              "#0d0887"
             ],
             [
              0.1111111111111111,
              "#46039f"
             ],
             [
              0.2222222222222222,
              "#7201a8"
             ],
             [
              0.3333333333333333,
              "#9c179e"
             ],
             [
              0.4444444444444444,
              "#bd3786"
             ],
             [
              0.5555555555555556,
              "#d8576b"
             ],
             [
              0.6666666666666666,
              "#ed7953"
             ],
             [
              0.7777777777777778,
              "#fb9f3a"
             ],
             [
              0.8888888888888888,
              "#fdca26"
             ],
             [
              1,
              "#f0f921"
             ]
            ],
            "type": "histogram2d"
           }
          ],
          "histogram2dcontour": [
           {
            "colorbar": {
             "outlinewidth": 0,
             "ticks": ""
            },
            "colorscale": [
             [
              0,
              "#0d0887"
             ],
             [
              0.1111111111111111,
              "#46039f"
             ],
             [
              0.2222222222222222,
              "#7201a8"
             ],
             [
              0.3333333333333333,
              "#9c179e"
             ],
             [
              0.4444444444444444,
              "#bd3786"
             ],
             [
              0.5555555555555556,
              "#d8576b"
             ],
             [
              0.6666666666666666,
              "#ed7953"
             ],
             [
              0.7777777777777778,
              "#fb9f3a"
             ],
             [
              0.8888888888888888,
              "#fdca26"
             ],
             [
              1,
              "#f0f921"
             ]
            ],
            "type": "histogram2dcontour"
           }
          ],
          "mesh3d": [
           {
            "colorbar": {
             "outlinewidth": 0,
             "ticks": ""
            },
            "type": "mesh3d"
           }
          ],
          "parcoords": [
           {
            "line": {
             "colorbar": {
              "outlinewidth": 0,
              "ticks": ""
             }
            },
            "type": "parcoords"
           }
          ],
          "pie": [
           {
            "automargin": true,
            "type": "pie"
           }
          ],
          "scatter": [
           {
            "marker": {
             "colorbar": {
              "outlinewidth": 0,
              "ticks": ""
             }
            },
            "type": "scatter"
           }
          ],
          "scatter3d": [
           {
            "line": {
             "colorbar": {
              "outlinewidth": 0,
              "ticks": ""
             }
            },
            "marker": {
             "colorbar": {
              "outlinewidth": 0,
              "ticks": ""
             }
            },
            "type": "scatter3d"
           }
          ],
          "scattercarpet": [
           {
            "marker": {
             "colorbar": {
              "outlinewidth": 0,
              "ticks": ""
             }
            },
            "type": "scattercarpet"
           }
          ],
          "scattergeo": [
           {
            "marker": {
             "colorbar": {
              "outlinewidth": 0,
              "ticks": ""
             }
            },
            "type": "scattergeo"
           }
          ],
          "scattergl": [
           {
            "marker": {
             "colorbar": {
              "outlinewidth": 0,
              "ticks": ""
             }
            },
            "type": "scattergl"
           }
          ],
          "scattermapbox": [
           {
            "marker": {
             "colorbar": {
              "outlinewidth": 0,
              "ticks": ""
             }
            },
            "type": "scattermapbox"
           }
          ],
          "scatterpolar": [
           {
            "marker": {
             "colorbar": {
              "outlinewidth": 0,
              "ticks": ""
             }
            },
            "type": "scatterpolar"
           }
          ],
          "scatterpolargl": [
           {
            "marker": {
             "colorbar": {
              "outlinewidth": 0,
              "ticks": ""
             }
            },
            "type": "scatterpolargl"
           }
          ],
          "scatterternary": [
           {
            "marker": {
             "colorbar": {
              "outlinewidth": 0,
              "ticks": ""
             }
            },
            "type": "scatterternary"
           }
          ],
          "surface": [
           {
            "colorbar": {
             "outlinewidth": 0,
             "ticks": ""
            },
            "colorscale": [
             [
              0,
              "#0d0887"
             ],
             [
              0.1111111111111111,
              "#46039f"
             ],
             [
              0.2222222222222222,
              "#7201a8"
             ],
             [
              0.3333333333333333,
              "#9c179e"
             ],
             [
              0.4444444444444444,
              "#bd3786"
             ],
             [
              0.5555555555555556,
              "#d8576b"
             ],
             [
              0.6666666666666666,
              "#ed7953"
             ],
             [
              0.7777777777777778,
              "#fb9f3a"
             ],
             [
              0.8888888888888888,
              "#fdca26"
             ],
             [
              1,
              "#f0f921"
             ]
            ],
            "type": "surface"
           }
          ],
          "table": [
           {
            "cells": {
             "fill": {
              "color": "#EBF0F8"
             },
             "line": {
              "color": "white"
             }
            },
            "header": {
             "fill": {
              "color": "#C8D4E3"
             },
             "line": {
              "color": "white"
             }
            },
            "type": "table"
           }
          ]
         },
         "layout": {
          "annotationdefaults": {
           "arrowcolor": "#2a3f5f",
           "arrowhead": 0,
           "arrowwidth": 1
          },
          "coloraxis": {
           "colorbar": {
            "outlinewidth": 0,
            "ticks": ""
           }
          },
          "colorscale": {
           "diverging": [
            [
             0,
             "#8e0152"
            ],
            [
             0.1,
             "#c51b7d"
            ],
            [
             0.2,
             "#de77ae"
            ],
            [
             0.3,
             "#f1b6da"
            ],
            [
             0.4,
             "#fde0ef"
            ],
            [
             0.5,
             "#f7f7f7"
            ],
            [
             0.6,
             "#e6f5d0"
            ],
            [
             0.7,
             "#b8e186"
            ],
            [
             0.8,
             "#7fbc41"
            ],
            [
             0.9,
             "#4d9221"
            ],
            [
             1,
             "#276419"
            ]
           ],
           "sequential": [
            [
             0,
             "#0d0887"
            ],
            [
             0.1111111111111111,
             "#46039f"
            ],
            [
             0.2222222222222222,
             "#7201a8"
            ],
            [
             0.3333333333333333,
             "#9c179e"
            ],
            [
             0.4444444444444444,
             "#bd3786"
            ],
            [
             0.5555555555555556,
             "#d8576b"
            ],
            [
             0.6666666666666666,
             "#ed7953"
            ],
            [
             0.7777777777777778,
             "#fb9f3a"
            ],
            [
             0.8888888888888888,
             "#fdca26"
            ],
            [
             1,
             "#f0f921"
            ]
           ],
           "sequentialminus": [
            [
             0,
             "#0d0887"
            ],
            [
             0.1111111111111111,
             "#46039f"
            ],
            [
             0.2222222222222222,
             "#7201a8"
            ],
            [
             0.3333333333333333,
             "#9c179e"
            ],
            [
             0.4444444444444444,
             "#bd3786"
            ],
            [
             0.5555555555555556,
             "#d8576b"
            ],
            [
             0.6666666666666666,
             "#ed7953"
            ],
            [
             0.7777777777777778,
             "#fb9f3a"
            ],
            [
             0.8888888888888888,
             "#fdca26"
            ],
            [
             1,
             "#f0f921"
            ]
           ]
          },
          "colorway": [
           "#636efa",
           "#EF553B",
           "#00cc96",
           "#ab63fa",
           "#FFA15A",
           "#19d3f3",
           "#FF6692",
           "#B6E880",
           "#FF97FF",
           "#FECB52"
          ],
          "font": {
           "color": "#2a3f5f"
          },
          "geo": {
           "bgcolor": "white",
           "lakecolor": "white",
           "landcolor": "#E5ECF6",
           "showlakes": true,
           "showland": true,
           "subunitcolor": "white"
          },
          "hoverlabel": {
           "align": "left"
          },
          "hovermode": "closest",
          "mapbox": {
           "style": "light"
          },
          "paper_bgcolor": "white",
          "plot_bgcolor": "#E5ECF6",
          "polar": {
           "angularaxis": {
            "gridcolor": "white",
            "linecolor": "white",
            "ticks": ""
           },
           "bgcolor": "#E5ECF6",
           "radialaxis": {
            "gridcolor": "white",
            "linecolor": "white",
            "ticks": ""
           }
          },
          "scene": {
           "xaxis": {
            "backgroundcolor": "#E5ECF6",
            "gridcolor": "white",
            "gridwidth": 2,
            "linecolor": "white",
            "showbackground": true,
            "ticks": "",
            "zerolinecolor": "white"
           },
           "yaxis": {
            "backgroundcolor": "#E5ECF6",
            "gridcolor": "white",
            "gridwidth": 2,
            "linecolor": "white",
            "showbackground": true,
            "ticks": "",
            "zerolinecolor": "white"
           },
           "zaxis": {
            "backgroundcolor": "#E5ECF6",
            "gridcolor": "white",
            "gridwidth": 2,
            "linecolor": "white",
            "showbackground": true,
            "ticks": "",
            "zerolinecolor": "white"
           }
          },
          "shapedefaults": {
           "line": {
            "color": "#2a3f5f"
           }
          },
          "ternary": {
           "aaxis": {
            "gridcolor": "white",
            "linecolor": "white",
            "ticks": ""
           },
           "baxis": {
            "gridcolor": "white",
            "linecolor": "white",
            "ticks": ""
           },
           "bgcolor": "#E5ECF6",
           "caxis": {
            "gridcolor": "white",
            "linecolor": "white",
            "ticks": ""
           }
          },
          "title": {
           "x": 0.05
          },
          "xaxis": {
           "automargin": true,
           "gridcolor": "white",
           "linecolor": "white",
           "ticks": "",
           "title": {
            "standoff": 15
           },
           "zerolinecolor": "white",
           "zerolinewidth": 2
          },
          "yaxis": {
           "automargin": true,
           "gridcolor": "white",
           "linecolor": "white",
           "ticks": "",
           "title": {
            "standoff": 15
           },
           "zerolinecolor": "white",
           "zerolinewidth": 2
          }
         }
        },
        "updatemenus": [
         {
          "buttons": [
           {
            "args": [
             "yaxis.type",
             "linear"
            ],
            "label": "Linear",
            "method": "relayout"
           },
           {
            "args": [
             "yaxis.type",
             "log"
            ],
            "label": "Logarithmic",
            "method": "relayout"
           }
          ],
          "direction": "down",
          "pad": {
           "r": 10,
           "t": 10
          },
          "showactive": true,
          "x": 1.025,
          "xanchor": "left",
          "y": 1,
          "yanchor": "top"
         },
         {
          "buttons": [
           {
            "args": [
             {
              "showlegend": true,
              "visible": [
               true,
               false,
               true,
               false,
               true,
               false,
               true,
               false,
               true,
               false,
               true,
               false,
               true,
               false,
               true,
               false,
               true,
               false,
               true,
               false
              ]
             }
            ],
            "label": "Confirmed   ",
            "method": "restyle"
           },
           {
            "args": [
             {
              "showlegend": true,
              "visible": [
               false,
               true,
               false,
               true,
               false,
               true,
               false,
               true,
               false,
               true,
               false,
               true,
               false,
               true,
               false,
               true,
               false,
               true,
               false,
               true
              ]
             }
            ],
            "label": "Deaths",
            "method": "restyle"
           }
          ],
          "direction": "down",
          "pad": {
           "r": 10,
           "t": 10
          },
          "showactive": true,
          "x": 1.025,
          "xanchor": "left",
          "y": 0.88,
          "yanchor": "top"
         }
        ],
        "width": 800,
        "xaxis": {
         "nticks": 10,
         "rangemode": "nonnegative",
         "showgrid": false,
         "title": {
          "text": "Date"
         },
         "zeroline": false
        },
        "yaxis": {
         "title": {
          "text": "Number of Cases"
         },
         "type": "linear"
        }
       }
      },
      "text/html": [
       "<div>\n",
       "        \n",
       "        \n",
       "            <div id=\"8f1b383f-3040-4a55-9cf4-61bf041c5df5\" class=\"plotly-graph-div\" style=\"height:500px; width:800px;\"></div>\n",
       "            <script type=\"text/javascript\">\n",
       "                require([\"plotly\"], function(Plotly) {\n",
       "                    window.PLOTLYENV=window.PLOTLYENV || {};\n",
       "                    \n",
       "                if (document.getElementById(\"8f1b383f-3040-4a55-9cf4-61bf041c5df5\")) {\n",
       "                    Plotly.newPlot(\n",
       "                        '8f1b383f-3040-4a55-9cf4-61bf041c5df5',\n",
       "                        [{\"hoverinfo\": \"text+y\", \"hoverlabel\": {\"bgcolor\": \"white\", \"bordercolor\": \"#719949\", \"font\": {\"color\": \"#719949\"}}, \"hovertext\": \"Italy\", \"marker\": {\"color\": \"#719949\"}, \"name\": \"Italy\", \"type\": \"scatter\", \"x\": [\"2020-01-23T00:00:00\", \"2020-01-24T00:00:00\", \"2020-01-25T00:00:00\", \"2020-01-26T00:00:00\", \"2020-01-27T00:00:00\", \"2020-01-28T00:00:00\", \"2020-01-29T00:00:00\", \"2020-01-30T00:00:00\", \"2020-01-31T00:00:00\", \"2020-02-01T00:00:00\", \"2020-02-02T00:00:00\", \"2020-02-03T00:00:00\", \"2020-02-04T00:00:00\", \"2020-02-05T00:00:00\", \"2020-02-06T00:00:00\", \"2020-02-07T00:00:00\", \"2020-02-08T00:00:00\", \"2020-02-09T00:00:00\", \"2020-02-10T00:00:00\", \"2020-02-11T00:00:00\", \"2020-02-12T00:00:00\", \"2020-02-13T00:00:00\", \"2020-02-14T00:00:00\", \"2020-02-15T00:00:00\", \"2020-02-16T00:00:00\", \"2020-02-17T00:00:00\", \"2020-02-18T00:00:00\", \"2020-02-19T00:00:00\", \"2020-02-20T00:00:00\", \"2020-02-21T00:00:00\", \"2020-02-22T00:00:00\", \"2020-02-23T00:00:00\", \"2020-02-24T00:00:00\", \"2020-02-25T00:00:00\", \"2020-02-26T00:00:00\", \"2020-02-27T00:00:00\", \"2020-02-28T00:00:00\", \"2020-02-29T00:00:00\", \"2020-03-01T00:00:00\", \"2020-03-02T00:00:00\", \"2020-03-03T00:00:00\", \"2020-03-04T00:00:00\", \"2020-03-05T00:00:00\", \"2020-03-06T00:00:00\", \"2020-03-07T00:00:00\", \"2020-03-08T00:00:00\", \"2020-03-09T00:00:00\", \"2020-03-10T00:00:00\", \"2020-03-11T00:00:00\", \"2020-03-12T00:00:00\", \"2020-03-13T00:00:00\", \"2020-03-14T00:00:00\", \"2020-03-15T00:00:00\", \"2020-03-16T00:00:00\", \"2020-03-17T00:00:00\", \"2020-03-18T00:00:00\", \"2020-03-19T00:00:00\", \"2020-03-20T00:00:00\", \"2020-03-21T00:00:00\", \"2020-03-22T00:00:00\", \"2020-03-23T00:00:00\", \"2020-03-24T00:00:00\", \"2020-03-25T00:00:00\", \"2020-03-26T00:00:00\", \"2020-03-27T00:00:00\", \"2020-03-28T00:00:00\", \"2020-03-29T00:00:00\", \"2020-03-30T00:00:00\", \"2020-03-31T00:00:00\", \"2020-04-01T00:00:00\", \"2020-04-02T00:00:00\"], \"y\": [0, 0, 0, 0, 0, 0, 0, 0, 2, 2, 2, 2, 2, 2, 2, 3, 3, 3, 3, 3, 3, 3, 3, 3, 3, 3, 3, 3, 3, 20, 62, 155, 229, 322, 453, 655, 888, 1128, 1694, 2036, 2502, 3089, 3858, 4636, 5883, 7375, 9172, 10149, 12462, 12462, 17660, 21157, 24747, 27980, 31506, 35713, 41035, 47021, 53578, 59138, 63927, 69176, 74386, 80589, 86498, 92472, 97689, 101739, 105792, 110574, 115242]}, {\"hoverinfo\": \"text+y\", \"hoverlabel\": {\"bgcolor\": \"white\", \"bordercolor\": \"#719949\", \"font\": {\"color\": \"#719949\"}}, \"hovertext\": \"Italy\", \"marker\": {\"color\": \"#719949\"}, \"name\": \"Italy\", \"showlegend\": false, \"type\": \"scatter\", \"visible\": false, \"x\": [\"2020-01-23T00:00:00\", \"2020-01-24T00:00:00\", \"2020-01-25T00:00:00\", \"2020-01-26T00:00:00\", \"2020-01-27T00:00:00\", \"2020-01-28T00:00:00\", \"2020-01-29T00:00:00\", \"2020-01-30T00:00:00\", \"2020-01-31T00:00:00\", \"2020-02-01T00:00:00\", \"2020-02-02T00:00:00\", \"2020-02-03T00:00:00\", \"2020-02-04T00:00:00\", \"2020-02-05T00:00:00\", \"2020-02-06T00:00:00\", \"2020-02-07T00:00:00\", \"2020-02-08T00:00:00\", \"2020-02-09T00:00:00\", \"2020-02-10T00:00:00\", \"2020-02-11T00:00:00\", \"2020-02-12T00:00:00\", \"2020-02-13T00:00:00\", \"2020-02-14T00:00:00\", \"2020-02-15T00:00:00\", \"2020-02-16T00:00:00\", \"2020-02-17T00:00:00\", \"2020-02-18T00:00:00\", \"2020-02-19T00:00:00\", \"2020-02-20T00:00:00\", \"2020-02-21T00:00:00\", \"2020-02-22T00:00:00\", \"2020-02-23T00:00:00\", \"2020-02-24T00:00:00\", \"2020-02-25T00:00:00\", \"2020-02-26T00:00:00\", \"2020-02-27T00:00:00\", \"2020-02-28T00:00:00\", \"2020-02-29T00:00:00\", \"2020-03-01T00:00:00\", \"2020-03-02T00:00:00\", \"2020-03-03T00:00:00\", \"2020-03-04T00:00:00\", \"2020-03-05T00:00:00\", \"2020-03-06T00:00:00\", \"2020-03-07T00:00:00\", \"2020-03-08T00:00:00\", \"2020-03-09T00:00:00\", \"2020-03-10T00:00:00\", \"2020-03-11T00:00:00\", \"2020-03-12T00:00:00\", \"2020-03-13T00:00:00\", \"2020-03-14T00:00:00\", \"2020-03-15T00:00:00\", \"2020-03-16T00:00:00\", \"2020-03-17T00:00:00\", \"2020-03-18T00:00:00\", \"2020-03-19T00:00:00\", \"2020-03-20T00:00:00\", \"2020-03-21T00:00:00\", \"2020-03-22T00:00:00\", \"2020-03-23T00:00:00\", \"2020-03-24T00:00:00\", \"2020-03-25T00:00:00\", \"2020-03-26T00:00:00\", \"2020-03-27T00:00:00\", \"2020-03-28T00:00:00\", \"2020-03-29T00:00:00\", \"2020-03-30T00:00:00\", \"2020-03-31T00:00:00\", \"2020-04-01T00:00:00\", \"2020-04-02T00:00:00\"], \"y\": [0, 0, 0, 0, 0, 0, 0, 0, 0, 0, 0, 0, 0, 0, 0, 0, 0, 0, 0, 0, 0, 0, 0, 0, 0, 0, 0, 0, 0, 1, 2, 3, 7, 10, 12, 17, 21, 29, 34, 52, 79, 107, 148, 197, 233, 366, 463, 631, 827, 827, 1266, 1441, 1809, 2158, 2503, 2978, 3405, 4032, 4825, 5476, 6077, 6820, 7503, 8215, 9134, 10023, 10779, 11591, 12428, 13155, 13915]}, {\"hoverinfo\": \"text+y\", \"hoverlabel\": {\"bgcolor\": \"white\", \"bordercolor\": \"#FF6900\", \"font\": {\"color\": \"#FF6900\"}}, \"hovertext\": \"Spain\", \"marker\": {\"color\": \"#FF6900\"}, \"name\": \"Spain\", \"type\": \"scatter\", \"x\": [\"2020-01-23T00:00:00\", \"2020-01-24T00:00:00\", \"2020-01-25T00:00:00\", \"2020-01-26T00:00:00\", \"2020-01-27T00:00:00\", \"2020-01-28T00:00:00\", \"2020-01-29T00:00:00\", \"2020-01-30T00:00:00\", \"2020-01-31T00:00:00\", \"2020-02-01T00:00:00\", \"2020-02-02T00:00:00\", \"2020-02-03T00:00:00\", \"2020-02-04T00:00:00\", \"2020-02-05T00:00:00\", \"2020-02-06T00:00:00\", \"2020-02-07T00:00:00\", \"2020-02-08T00:00:00\", \"2020-02-09T00:00:00\", \"2020-02-10T00:00:00\", \"2020-02-11T00:00:00\", \"2020-02-12T00:00:00\", \"2020-02-13T00:00:00\", \"2020-02-14T00:00:00\", \"2020-02-15T00:00:00\", \"2020-02-16T00:00:00\", \"2020-02-17T00:00:00\", \"2020-02-18T00:00:00\", \"2020-02-19T00:00:00\", \"2020-02-20T00:00:00\", \"2020-02-21T00:00:00\", \"2020-02-22T00:00:00\", \"2020-02-23T00:00:00\", \"2020-02-24T00:00:00\", \"2020-02-25T00:00:00\", \"2020-02-26T00:00:00\", \"2020-02-27T00:00:00\", \"2020-02-28T00:00:00\", \"2020-02-29T00:00:00\", \"2020-03-01T00:00:00\", \"2020-03-02T00:00:00\", \"2020-03-03T00:00:00\", \"2020-03-04T00:00:00\", \"2020-03-05T00:00:00\", \"2020-03-06T00:00:00\", \"2020-03-07T00:00:00\", \"2020-03-08T00:00:00\", \"2020-03-09T00:00:00\", \"2020-03-10T00:00:00\", \"2020-03-11T00:00:00\", \"2020-03-12T00:00:00\", \"2020-03-13T00:00:00\", \"2020-03-14T00:00:00\", \"2020-03-15T00:00:00\", \"2020-03-16T00:00:00\", \"2020-03-17T00:00:00\", \"2020-03-18T00:00:00\", \"2020-03-19T00:00:00\", \"2020-03-20T00:00:00\", \"2020-03-21T00:00:00\", \"2020-03-22T00:00:00\", \"2020-03-23T00:00:00\", \"2020-03-24T00:00:00\", \"2020-03-25T00:00:00\", \"2020-03-26T00:00:00\", \"2020-03-27T00:00:00\", \"2020-03-28T00:00:00\", \"2020-03-29T00:00:00\", \"2020-03-30T00:00:00\", \"2020-03-31T00:00:00\", \"2020-04-01T00:00:00\", \"2020-04-02T00:00:00\"], \"y\": [0, 0, 0, 0, 0, 0, 0, 0, 0, 1, 1, 1, 1, 1, 1, 1, 1, 2, 2, 2, 2, 2, 2, 2, 2, 2, 2, 2, 2, 2, 2, 2, 2, 6, 13, 15, 32, 45, 84, 120, 165, 222, 259, 400, 500, 673, 1073, 1695, 2277, 2277, 5232, 6391, 7798, 9942, 11748, 13910, 17963, 20410, 25374, 28768, 35136, 39885, 49515, 57786, 65719, 73235, 80110, 87956, 95923, 104118, 112065]}, {\"hoverinfo\": \"text+y\", \"hoverlabel\": {\"bgcolor\": \"white\", \"bordercolor\": \"#FF6900\", \"font\": {\"color\": \"#FF6900\"}}, \"hovertext\": \"Spain\", \"marker\": {\"color\": \"#FF6900\"}, \"name\": \"Spain\", \"showlegend\": false, \"type\": \"scatter\", \"visible\": false, \"x\": [\"2020-01-23T00:00:00\", \"2020-01-24T00:00:00\", \"2020-01-25T00:00:00\", \"2020-01-26T00:00:00\", \"2020-01-27T00:00:00\", \"2020-01-28T00:00:00\", \"2020-01-29T00:00:00\", \"2020-01-30T00:00:00\", \"2020-01-31T00:00:00\", \"2020-02-01T00:00:00\", \"2020-02-02T00:00:00\", \"2020-02-03T00:00:00\", \"2020-02-04T00:00:00\", \"2020-02-05T00:00:00\", \"2020-02-06T00:00:00\", \"2020-02-07T00:00:00\", \"2020-02-08T00:00:00\", \"2020-02-09T00:00:00\", \"2020-02-10T00:00:00\", \"2020-02-11T00:00:00\", \"2020-02-12T00:00:00\", \"2020-02-13T00:00:00\", \"2020-02-14T00:00:00\", \"2020-02-15T00:00:00\", \"2020-02-16T00:00:00\", \"2020-02-17T00:00:00\", \"2020-02-18T00:00:00\", \"2020-02-19T00:00:00\", \"2020-02-20T00:00:00\", \"2020-02-21T00:00:00\", \"2020-02-22T00:00:00\", \"2020-02-23T00:00:00\", \"2020-02-24T00:00:00\", \"2020-02-25T00:00:00\", \"2020-02-26T00:00:00\", \"2020-02-27T00:00:00\", \"2020-02-28T00:00:00\", \"2020-02-29T00:00:00\", \"2020-03-01T00:00:00\", \"2020-03-02T00:00:00\", \"2020-03-03T00:00:00\", \"2020-03-04T00:00:00\", \"2020-03-05T00:00:00\", \"2020-03-06T00:00:00\", \"2020-03-07T00:00:00\", \"2020-03-08T00:00:00\", \"2020-03-09T00:00:00\", \"2020-03-10T00:00:00\", \"2020-03-11T00:00:00\", \"2020-03-12T00:00:00\", \"2020-03-13T00:00:00\", \"2020-03-14T00:00:00\", \"2020-03-15T00:00:00\", \"2020-03-16T00:00:00\", \"2020-03-17T00:00:00\", \"2020-03-18T00:00:00\", \"2020-03-19T00:00:00\", \"2020-03-20T00:00:00\", \"2020-03-21T00:00:00\", \"2020-03-22T00:00:00\", \"2020-03-23T00:00:00\", \"2020-03-24T00:00:00\", \"2020-03-25T00:00:00\", \"2020-03-26T00:00:00\", \"2020-03-27T00:00:00\", \"2020-03-28T00:00:00\", \"2020-03-29T00:00:00\", \"2020-03-30T00:00:00\", \"2020-03-31T00:00:00\", \"2020-04-01T00:00:00\", \"2020-04-02T00:00:00\"], \"y\": [0, 0, 0, 0, 0, 0, 0, 0, 0, 0, 0, 0, 0, 0, 0, 0, 0, 0, 0, 0, 0, 0, 0, 0, 0, 0, 0, 0, 0, 0, 0, 0, 0, 0, 0, 0, 0, 0, 0, 0, 1, 2, 3, 5, 10, 17, 28, 35, 54, 55, 133, 195, 289, 342, 533, 623, 830, 1043, 1375, 1772, 2311, 2808, 3647, 4365, 5138, 5982, 6803, 7716, 8464, 9387, 10348]}, {\"hoverinfo\": \"text+y\", \"hoverlabel\": {\"bgcolor\": \"white\", \"bordercolor\": \"#E8927C\", \"font\": {\"color\": \"#E8927C\"}}, \"hovertext\": \"US\", \"marker\": {\"color\": \"#E8927C\"}, \"name\": \"US\", \"type\": \"scatter\", \"x\": [\"2020-01-23T00:00:00\", \"2020-01-24T00:00:00\", \"2020-01-25T00:00:00\", \"2020-01-26T00:00:00\", \"2020-01-27T00:00:00\", \"2020-01-28T00:00:00\", \"2020-01-29T00:00:00\", \"2020-01-30T00:00:00\", \"2020-01-31T00:00:00\", \"2020-02-01T00:00:00\", \"2020-02-02T00:00:00\", \"2020-02-03T00:00:00\", \"2020-02-04T00:00:00\", \"2020-02-05T00:00:00\", \"2020-02-06T00:00:00\", \"2020-02-07T00:00:00\", \"2020-02-08T00:00:00\", \"2020-02-09T00:00:00\", \"2020-02-10T00:00:00\", \"2020-02-11T00:00:00\", \"2020-02-12T00:00:00\", \"2020-02-13T00:00:00\", \"2020-02-14T00:00:00\", \"2020-02-15T00:00:00\", \"2020-02-16T00:00:00\", \"2020-02-17T00:00:00\", \"2020-02-18T00:00:00\", \"2020-02-19T00:00:00\", \"2020-02-20T00:00:00\", \"2020-02-21T00:00:00\", \"2020-02-22T00:00:00\", \"2020-02-23T00:00:00\", \"2020-02-24T00:00:00\", \"2020-02-25T00:00:00\", \"2020-02-26T00:00:00\", \"2020-02-27T00:00:00\", \"2020-02-28T00:00:00\", \"2020-02-29T00:00:00\", \"2020-03-01T00:00:00\", \"2020-03-02T00:00:00\", \"2020-03-03T00:00:00\", \"2020-03-04T00:00:00\", \"2020-03-05T00:00:00\", \"2020-03-06T00:00:00\", \"2020-03-07T00:00:00\", \"2020-03-08T00:00:00\", \"2020-03-09T00:00:00\", \"2020-03-10T00:00:00\", \"2020-03-11T00:00:00\", \"2020-03-12T00:00:00\", \"2020-03-13T00:00:00\", \"2020-03-14T00:00:00\", \"2020-03-15T00:00:00\", \"2020-03-16T00:00:00\", \"2020-03-17T00:00:00\", \"2020-03-18T00:00:00\", \"2020-03-19T00:00:00\", \"2020-03-20T00:00:00\", \"2020-03-21T00:00:00\", \"2020-03-22T00:00:00\", \"2020-03-23T00:00:00\", \"2020-03-24T00:00:00\", \"2020-03-25T00:00:00\", \"2020-03-26T00:00:00\", \"2020-03-27T00:00:00\", \"2020-03-28T00:00:00\", \"2020-03-29T00:00:00\", \"2020-03-30T00:00:00\", \"2020-03-31T00:00:00\", \"2020-04-01T00:00:00\", \"2020-04-02T00:00:00\"], \"y\": [1, 2, 2, 5, 5, 5, 5, 5, 7, 8, 8, 11, 11, 11, 11, 11, 11, 11, 11, 12, 12, 13, 13, 13, 13, 13, 13, 13, 13, 15, 15, 15, 51, 51, 57, 58, 60, 68, 74, 98, 118, 149, 217, 262, 402, 518, 583, 959, 1281, 1663, 2179, 2727, 3499, 4632, 6421, 7783, 13677, 19100, 25489, 33276, 43847, 53740, 65778, 83836, 101657, 121478, 140886, 161807, 188172, 213372, 243453]}, {\"hoverinfo\": \"text+y\", \"hoverlabel\": {\"bgcolor\": \"white\", \"bordercolor\": \"#E8927C\", \"font\": {\"color\": \"#E8927C\"}}, \"hovertext\": \"US\", \"marker\": {\"color\": \"#E8927C\"}, \"name\": \"US\", \"showlegend\": false, \"type\": \"scatter\", \"visible\": false, \"x\": [\"2020-01-23T00:00:00\", \"2020-01-24T00:00:00\", \"2020-01-25T00:00:00\", \"2020-01-26T00:00:00\", \"2020-01-27T00:00:00\", \"2020-01-28T00:00:00\", \"2020-01-29T00:00:00\", \"2020-01-30T00:00:00\", \"2020-01-31T00:00:00\", \"2020-02-01T00:00:00\", \"2020-02-02T00:00:00\", \"2020-02-03T00:00:00\", \"2020-02-04T00:00:00\", \"2020-02-05T00:00:00\", \"2020-02-06T00:00:00\", \"2020-02-07T00:00:00\", \"2020-02-08T00:00:00\", \"2020-02-09T00:00:00\", \"2020-02-10T00:00:00\", \"2020-02-11T00:00:00\", \"2020-02-12T00:00:00\", \"2020-02-13T00:00:00\", \"2020-02-14T00:00:00\", \"2020-02-15T00:00:00\", \"2020-02-16T00:00:00\", \"2020-02-17T00:00:00\", \"2020-02-18T00:00:00\", \"2020-02-19T00:00:00\", \"2020-02-20T00:00:00\", \"2020-02-21T00:00:00\", \"2020-02-22T00:00:00\", \"2020-02-23T00:00:00\", \"2020-02-24T00:00:00\", \"2020-02-25T00:00:00\", \"2020-02-26T00:00:00\", \"2020-02-27T00:00:00\", \"2020-02-28T00:00:00\", \"2020-02-29T00:00:00\", \"2020-03-01T00:00:00\", \"2020-03-02T00:00:00\", \"2020-03-03T00:00:00\", \"2020-03-04T00:00:00\", \"2020-03-05T00:00:00\", \"2020-03-06T00:00:00\", \"2020-03-07T00:00:00\", \"2020-03-08T00:00:00\", \"2020-03-09T00:00:00\", \"2020-03-10T00:00:00\", \"2020-03-11T00:00:00\", \"2020-03-12T00:00:00\", \"2020-03-13T00:00:00\", \"2020-03-14T00:00:00\", \"2020-03-15T00:00:00\", \"2020-03-16T00:00:00\", \"2020-03-17T00:00:00\", \"2020-03-18T00:00:00\", \"2020-03-19T00:00:00\", \"2020-03-20T00:00:00\", \"2020-03-21T00:00:00\", \"2020-03-22T00:00:00\", \"2020-03-23T00:00:00\", \"2020-03-24T00:00:00\", \"2020-03-25T00:00:00\", \"2020-03-26T00:00:00\", \"2020-03-27T00:00:00\", \"2020-03-28T00:00:00\", \"2020-03-29T00:00:00\", \"2020-03-30T00:00:00\", \"2020-03-31T00:00:00\", \"2020-04-01T00:00:00\", \"2020-04-02T00:00:00\"], \"y\": [0, 0, 0, 0, 0, 0, 0, 0, 0, 0, 0, 0, 0, 0, 0, 0, 0, 0, 0, 0, 0, 0, 0, 0, 0, 0, 0, 0, 0, 0, 0, 0, 0, 0, 0, 0, 0, 1, 1, 6, 7, 11, 12, 14, 17, 21, 22, 28, 36, 40, 47, 54, 63, 85, 108, 118, 200, 244, 307, 417, 557, 706, 942, 1209, 1581, 2026, 2467, 2978, 3873, 4757, 5926]}, {\"hoverinfo\": \"text+y\", \"hoverlabel\": {\"bgcolor\": \"white\", \"bordercolor\": \"#A6192E\", \"font\": {\"color\": \"#A6192E\"}}, \"hovertext\": \"France\", \"marker\": {\"color\": \"#A6192E\"}, \"name\": \"France\", \"type\": \"scatter\", \"x\": [\"2020-01-23T00:00:00\", \"2020-01-24T00:00:00\", \"2020-01-25T00:00:00\", \"2020-01-26T00:00:00\", \"2020-01-27T00:00:00\", \"2020-01-28T00:00:00\", \"2020-01-29T00:00:00\", \"2020-01-30T00:00:00\", \"2020-01-31T00:00:00\", \"2020-02-01T00:00:00\", \"2020-02-02T00:00:00\", \"2020-02-03T00:00:00\", \"2020-02-04T00:00:00\", \"2020-02-05T00:00:00\", \"2020-02-06T00:00:00\", \"2020-02-07T00:00:00\", \"2020-02-08T00:00:00\", \"2020-02-09T00:00:00\", \"2020-02-10T00:00:00\", \"2020-02-11T00:00:00\", \"2020-02-12T00:00:00\", \"2020-02-13T00:00:00\", \"2020-02-14T00:00:00\", \"2020-02-15T00:00:00\", \"2020-02-16T00:00:00\", \"2020-02-17T00:00:00\", \"2020-02-18T00:00:00\", \"2020-02-19T00:00:00\", \"2020-02-20T00:00:00\", \"2020-02-21T00:00:00\", \"2020-02-22T00:00:00\", \"2020-02-23T00:00:00\", \"2020-02-24T00:00:00\", \"2020-02-25T00:00:00\", \"2020-02-26T00:00:00\", \"2020-02-27T00:00:00\", \"2020-02-28T00:00:00\", \"2020-02-29T00:00:00\", \"2020-03-01T00:00:00\", \"2020-03-02T00:00:00\", \"2020-03-03T00:00:00\", \"2020-03-04T00:00:00\", \"2020-03-05T00:00:00\", \"2020-03-06T00:00:00\", \"2020-03-07T00:00:00\", \"2020-03-08T00:00:00\", \"2020-03-09T00:00:00\", \"2020-03-10T00:00:00\", \"2020-03-11T00:00:00\", \"2020-03-12T00:00:00\", \"2020-03-13T00:00:00\", \"2020-03-14T00:00:00\", \"2020-03-15T00:00:00\", \"2020-03-16T00:00:00\", \"2020-03-17T00:00:00\", \"2020-03-18T00:00:00\", \"2020-03-19T00:00:00\", \"2020-03-20T00:00:00\", \"2020-03-21T00:00:00\", \"2020-03-22T00:00:00\", \"2020-03-23T00:00:00\", \"2020-03-24T00:00:00\", \"2020-03-25T00:00:00\", \"2020-03-26T00:00:00\", \"2020-03-27T00:00:00\", \"2020-03-28T00:00:00\", \"2020-03-29T00:00:00\", \"2020-03-30T00:00:00\", \"2020-03-31T00:00:00\", \"2020-04-01T00:00:00\", \"2020-04-02T00:00:00\"], \"y\": [0, 2, 3, 3, 3, 4, 5, 5, 5, 6, 6, 6, 6, 6, 6, 6, 11, 11, 11, 11, 11, 11, 11, 12, 12, 12, 12, 12, 12, 12, 12, 12, 12, 14, 18, 38, 57, 100, 130, 191, 204, 288, 380, 656, 959, 1136, 1219, 1794, 2293, 2293, 3681, 4496, 4532, 6683, 7715, 9124, 10970, 12758, 14463, 16243, 20123, 22622, 25600, 29551, 33402, 38105, 40708, 45170, 52827, 57749, 59929]}, {\"hoverinfo\": \"text+y\", \"hoverlabel\": {\"bgcolor\": \"white\", \"bordercolor\": \"#A6192E\", \"font\": {\"color\": \"#A6192E\"}}, \"hovertext\": \"France\", \"marker\": {\"color\": \"#A6192E\"}, \"name\": \"France\", \"showlegend\": false, \"type\": \"scatter\", \"visible\": false, \"x\": [\"2020-01-23T00:00:00\", \"2020-01-24T00:00:00\", \"2020-01-25T00:00:00\", \"2020-01-26T00:00:00\", \"2020-01-27T00:00:00\", \"2020-01-28T00:00:00\", \"2020-01-29T00:00:00\", \"2020-01-30T00:00:00\", \"2020-01-31T00:00:00\", \"2020-02-01T00:00:00\", \"2020-02-02T00:00:00\", \"2020-02-03T00:00:00\", \"2020-02-04T00:00:00\", \"2020-02-05T00:00:00\", \"2020-02-06T00:00:00\", \"2020-02-07T00:00:00\", \"2020-02-08T00:00:00\", \"2020-02-09T00:00:00\", \"2020-02-10T00:00:00\", \"2020-02-11T00:00:00\", \"2020-02-12T00:00:00\", \"2020-02-13T00:00:00\", \"2020-02-14T00:00:00\", \"2020-02-15T00:00:00\", \"2020-02-16T00:00:00\", \"2020-02-17T00:00:00\", \"2020-02-18T00:00:00\", \"2020-02-19T00:00:00\", \"2020-02-20T00:00:00\", \"2020-02-21T00:00:00\", \"2020-02-22T00:00:00\", \"2020-02-23T00:00:00\", \"2020-02-24T00:00:00\", \"2020-02-25T00:00:00\", \"2020-02-26T00:00:00\", \"2020-02-27T00:00:00\", \"2020-02-28T00:00:00\", \"2020-02-29T00:00:00\", \"2020-03-01T00:00:00\", \"2020-03-02T00:00:00\", \"2020-03-03T00:00:00\", \"2020-03-04T00:00:00\", \"2020-03-05T00:00:00\", \"2020-03-06T00:00:00\", \"2020-03-07T00:00:00\", \"2020-03-08T00:00:00\", \"2020-03-09T00:00:00\", \"2020-03-10T00:00:00\", \"2020-03-11T00:00:00\", \"2020-03-12T00:00:00\", \"2020-03-13T00:00:00\", \"2020-03-14T00:00:00\", \"2020-03-15T00:00:00\", \"2020-03-16T00:00:00\", \"2020-03-17T00:00:00\", \"2020-03-18T00:00:00\", \"2020-03-19T00:00:00\", \"2020-03-20T00:00:00\", \"2020-03-21T00:00:00\", \"2020-03-22T00:00:00\", \"2020-03-23T00:00:00\", \"2020-03-24T00:00:00\", \"2020-03-25T00:00:00\", \"2020-03-26T00:00:00\", \"2020-03-27T00:00:00\", \"2020-03-28T00:00:00\", \"2020-03-29T00:00:00\", \"2020-03-30T00:00:00\", \"2020-03-31T00:00:00\", \"2020-04-01T00:00:00\", \"2020-04-02T00:00:00\"], \"y\": [0, 0, 0, 0, 0, 0, 0, 0, 0, 0, 0, 0, 0, 0, 0, 0, 0, 0, 0, 0, 0, 0, 0, 1, 1, 1, 1, 1, 1, 1, 1, 1, 1, 1, 2, 2, 2, 2, 2, 3, 4, 4, 6, 9, 11, 19, 19, 33, 48, 48, 79, 91, 91, 149, 149, 149, 244, 451, 563, 676, 862, 1102, 1333, 1698, 1997, 2317, 2611, 3030, 3532, 4043, 5398]}, {\"hoverinfo\": \"text+y\", \"hoverlabel\": {\"bgcolor\": \"white\", \"bordercolor\": \"#51284F\", \"font\": {\"color\": \"#51284F\"}}, \"hovertext\": \"China\", \"marker\": {\"color\": \"#51284F\"}, \"name\": \"China\", \"type\": \"scatter\", \"x\": [\"2020-01-23T00:00:00\", \"2020-01-24T00:00:00\", \"2020-01-25T00:00:00\", \"2020-01-26T00:00:00\", \"2020-01-27T00:00:00\", \"2020-01-28T00:00:00\", \"2020-01-29T00:00:00\", \"2020-01-30T00:00:00\", \"2020-01-31T00:00:00\", \"2020-02-01T00:00:00\", \"2020-02-02T00:00:00\", \"2020-02-03T00:00:00\", \"2020-02-04T00:00:00\", \"2020-02-05T00:00:00\", \"2020-02-06T00:00:00\", \"2020-02-07T00:00:00\", \"2020-02-08T00:00:00\", \"2020-02-09T00:00:00\", \"2020-02-10T00:00:00\", \"2020-02-11T00:00:00\", \"2020-02-12T00:00:00\", \"2020-02-13T00:00:00\", \"2020-02-14T00:00:00\", \"2020-02-15T00:00:00\", \"2020-02-16T00:00:00\", \"2020-02-17T00:00:00\", \"2020-02-18T00:00:00\", \"2020-02-19T00:00:00\", \"2020-02-20T00:00:00\", \"2020-02-21T00:00:00\", \"2020-02-22T00:00:00\", \"2020-02-23T00:00:00\", \"2020-02-24T00:00:00\", \"2020-02-25T00:00:00\", \"2020-02-26T00:00:00\", \"2020-02-27T00:00:00\", \"2020-02-28T00:00:00\", \"2020-02-29T00:00:00\", \"2020-03-01T00:00:00\", \"2020-03-02T00:00:00\", \"2020-03-03T00:00:00\", \"2020-03-04T00:00:00\", \"2020-03-05T00:00:00\", \"2020-03-06T00:00:00\", \"2020-03-07T00:00:00\", \"2020-03-08T00:00:00\", \"2020-03-09T00:00:00\", \"2020-03-10T00:00:00\", \"2020-03-11T00:00:00\", \"2020-03-12T00:00:00\", \"2020-03-13T00:00:00\", \"2020-03-14T00:00:00\", \"2020-03-15T00:00:00\", \"2020-03-16T00:00:00\", \"2020-03-17T00:00:00\", \"2020-03-18T00:00:00\", \"2020-03-19T00:00:00\", \"2020-03-20T00:00:00\", \"2020-03-21T00:00:00\", \"2020-03-22T00:00:00\", \"2020-03-23T00:00:00\", \"2020-03-24T00:00:00\", \"2020-03-25T00:00:00\", \"2020-03-26T00:00:00\", \"2020-03-27T00:00:00\", \"2020-03-28T00:00:00\", \"2020-03-29T00:00:00\", \"2020-03-30T00:00:00\", \"2020-03-31T00:00:00\", \"2020-04-01T00:00:00\", \"2020-04-02T00:00:00\"], \"y\": [643, 920, 1406, 2075, 2877, 5509, 6087, 8141, 9802, 11891, 16630, 19716, 23707, 27440, 30587, 34110, 36814, 39829, 42354, 44386, 44759, 59895, 66358, 68413, 70513, 72434, 74211, 74619, 75077, 75550, 77001, 77022, 77241, 77754, 78166, 78600, 78928, 79356, 79932, 80136, 80261, 80386, 80537, 80690, 80770, 80823, 80860, 80887, 80921, 80932, 80945, 80977, 81003, 81033, 81058, 81102, 81156, 81250, 81305, 81435, 81498, 81591, 81661, 81782, 81897, 81999, 82122, 82198, 82279, 82361, 82432]}, {\"hoverinfo\": \"text+y\", \"hoverlabel\": {\"bgcolor\": \"white\", \"bordercolor\": \"#51284F\", \"font\": {\"color\": \"#51284F\"}}, \"hovertext\": \"China\", \"marker\": {\"color\": \"#51284F\"}, \"name\": \"China\", \"showlegend\": false, \"type\": \"scatter\", \"visible\": false, \"x\": [\"2020-01-23T00:00:00\", \"2020-01-24T00:00:00\", \"2020-01-25T00:00:00\", \"2020-01-26T00:00:00\", \"2020-01-27T00:00:00\", \"2020-01-28T00:00:00\", \"2020-01-29T00:00:00\", \"2020-01-30T00:00:00\", \"2020-01-31T00:00:00\", \"2020-02-01T00:00:00\", \"2020-02-02T00:00:00\", \"2020-02-03T00:00:00\", \"2020-02-04T00:00:00\", \"2020-02-05T00:00:00\", \"2020-02-06T00:00:00\", \"2020-02-07T00:00:00\", \"2020-02-08T00:00:00\", \"2020-02-09T00:00:00\", \"2020-02-10T00:00:00\", \"2020-02-11T00:00:00\", \"2020-02-12T00:00:00\", \"2020-02-13T00:00:00\", \"2020-02-14T00:00:00\", \"2020-02-15T00:00:00\", \"2020-02-16T00:00:00\", \"2020-02-17T00:00:00\", \"2020-02-18T00:00:00\", \"2020-02-19T00:00:00\", \"2020-02-20T00:00:00\", \"2020-02-21T00:00:00\", \"2020-02-22T00:00:00\", \"2020-02-23T00:00:00\", \"2020-02-24T00:00:00\", \"2020-02-25T00:00:00\", \"2020-02-26T00:00:00\", \"2020-02-27T00:00:00\", \"2020-02-28T00:00:00\", \"2020-02-29T00:00:00\", \"2020-03-01T00:00:00\", \"2020-03-02T00:00:00\", \"2020-03-03T00:00:00\", \"2020-03-04T00:00:00\", \"2020-03-05T00:00:00\", \"2020-03-06T00:00:00\", \"2020-03-07T00:00:00\", \"2020-03-08T00:00:00\", \"2020-03-09T00:00:00\", \"2020-03-10T00:00:00\", \"2020-03-11T00:00:00\", \"2020-03-12T00:00:00\", \"2020-03-13T00:00:00\", \"2020-03-14T00:00:00\", \"2020-03-15T00:00:00\", \"2020-03-16T00:00:00\", \"2020-03-17T00:00:00\", \"2020-03-18T00:00:00\", \"2020-03-19T00:00:00\", \"2020-03-20T00:00:00\", \"2020-03-21T00:00:00\", \"2020-03-22T00:00:00\", \"2020-03-23T00:00:00\", \"2020-03-24T00:00:00\", \"2020-03-25T00:00:00\", \"2020-03-26T00:00:00\", \"2020-03-27T00:00:00\", \"2020-03-28T00:00:00\", \"2020-03-29T00:00:00\", \"2020-03-30T00:00:00\", \"2020-03-31T00:00:00\", \"2020-04-01T00:00:00\", \"2020-04-02T00:00:00\"], \"y\": [18, 26, 42, 56, 82, 131, 133, 171, 213, 259, 361, 425, 491, 563, 633, 718, 805, 905, 1012, 1112, 1117, 1369, 1521, 1663, 1766, 1864, 2003, 2116, 2238, 2238, 2443, 2445, 2595, 2665, 2717, 2746, 2790, 2837, 2872, 2914, 2947, 2983, 3015, 3044, 3072, 3100, 3123, 3139, 3161, 3172, 3180, 3193, 3203, 3217, 3230, 3241, 3249, 3253, 3259, 3274, 3274, 3281, 3285, 3291, 3296, 3299, 3304, 3308, 3309, 3316, 3322]}, {\"hoverinfo\": \"text+y\", \"hoverlabel\": {\"bgcolor\": \"white\", \"bordercolor\": \"#A192B2\", \"font\": {\"color\": \"#A192B2\"}}, \"hovertext\": \"Iran\", \"marker\": {\"color\": \"#A192B2\"}, \"name\": \"Iran\", \"type\": \"scatter\", \"x\": [\"2020-01-23T00:00:00\", \"2020-01-24T00:00:00\", \"2020-01-25T00:00:00\", \"2020-01-26T00:00:00\", \"2020-01-27T00:00:00\", \"2020-01-28T00:00:00\", \"2020-01-29T00:00:00\", \"2020-01-30T00:00:00\", \"2020-01-31T00:00:00\", \"2020-02-01T00:00:00\", \"2020-02-02T00:00:00\", \"2020-02-03T00:00:00\", \"2020-02-04T00:00:00\", \"2020-02-05T00:00:00\", \"2020-02-06T00:00:00\", \"2020-02-07T00:00:00\", \"2020-02-08T00:00:00\", \"2020-02-09T00:00:00\", \"2020-02-10T00:00:00\", \"2020-02-11T00:00:00\", \"2020-02-12T00:00:00\", \"2020-02-13T00:00:00\", \"2020-02-14T00:00:00\", \"2020-02-15T00:00:00\", \"2020-02-16T00:00:00\", \"2020-02-17T00:00:00\", \"2020-02-18T00:00:00\", \"2020-02-19T00:00:00\", \"2020-02-20T00:00:00\", \"2020-02-21T00:00:00\", \"2020-02-22T00:00:00\", \"2020-02-23T00:00:00\", \"2020-02-24T00:00:00\", \"2020-02-25T00:00:00\", \"2020-02-26T00:00:00\", \"2020-02-27T00:00:00\", \"2020-02-28T00:00:00\", \"2020-02-29T00:00:00\", \"2020-03-01T00:00:00\", \"2020-03-02T00:00:00\", \"2020-03-03T00:00:00\", \"2020-03-04T00:00:00\", \"2020-03-05T00:00:00\", \"2020-03-06T00:00:00\", \"2020-03-07T00:00:00\", \"2020-03-08T00:00:00\", \"2020-03-09T00:00:00\", \"2020-03-10T00:00:00\", \"2020-03-11T00:00:00\", \"2020-03-12T00:00:00\", \"2020-03-13T00:00:00\", \"2020-03-14T00:00:00\", \"2020-03-15T00:00:00\", \"2020-03-16T00:00:00\", \"2020-03-17T00:00:00\", \"2020-03-18T00:00:00\", \"2020-03-19T00:00:00\", \"2020-03-20T00:00:00\", \"2020-03-21T00:00:00\", \"2020-03-22T00:00:00\", \"2020-03-23T00:00:00\", \"2020-03-24T00:00:00\", \"2020-03-25T00:00:00\", \"2020-03-26T00:00:00\", \"2020-03-27T00:00:00\", \"2020-03-28T00:00:00\", \"2020-03-29T00:00:00\", \"2020-03-30T00:00:00\", \"2020-03-31T00:00:00\", \"2020-04-01T00:00:00\", \"2020-04-02T00:00:00\"], \"y\": [0, 0, 0, 0, 0, 0, 0, 0, 0, 0, 0, 0, 0, 0, 0, 0, 0, 0, 0, 0, 0, 0, 0, 0, 0, 0, 0, 2, 5, 18, 28, 43, 61, 95, 139, 245, 388, 593, 978, 1501, 2336, 2922, 3513, 4747, 5823, 6566, 7161, 8042, 9000, 10075, 11364, 12729, 13938, 14991, 16169, 17361, 18407, 19644, 20610, 21638, 23049, 24811, 27017, 29406, 32332, 35408, 38309, 41495, 44605, 47593, 50468]}, {\"hoverinfo\": \"text+y\", \"hoverlabel\": {\"bgcolor\": \"white\", \"bordercolor\": \"#A192B2\", \"font\": {\"color\": \"#A192B2\"}}, \"hovertext\": \"Iran\", \"marker\": {\"color\": \"#A192B2\"}, \"name\": \"Iran\", \"showlegend\": false, \"type\": \"scatter\", \"visible\": false, \"x\": [\"2020-01-23T00:00:00\", \"2020-01-24T00:00:00\", \"2020-01-25T00:00:00\", \"2020-01-26T00:00:00\", \"2020-01-27T00:00:00\", \"2020-01-28T00:00:00\", \"2020-01-29T00:00:00\", \"2020-01-30T00:00:00\", \"2020-01-31T00:00:00\", \"2020-02-01T00:00:00\", \"2020-02-02T00:00:00\", \"2020-02-03T00:00:00\", \"2020-02-04T00:00:00\", \"2020-02-05T00:00:00\", \"2020-02-06T00:00:00\", \"2020-02-07T00:00:00\", \"2020-02-08T00:00:00\", \"2020-02-09T00:00:00\", \"2020-02-10T00:00:00\", \"2020-02-11T00:00:00\", \"2020-02-12T00:00:00\", \"2020-02-13T00:00:00\", \"2020-02-14T00:00:00\", \"2020-02-15T00:00:00\", \"2020-02-16T00:00:00\", \"2020-02-17T00:00:00\", \"2020-02-18T00:00:00\", \"2020-02-19T00:00:00\", \"2020-02-20T00:00:00\", \"2020-02-21T00:00:00\", \"2020-02-22T00:00:00\", \"2020-02-23T00:00:00\", \"2020-02-24T00:00:00\", \"2020-02-25T00:00:00\", \"2020-02-26T00:00:00\", \"2020-02-27T00:00:00\", \"2020-02-28T00:00:00\", \"2020-02-29T00:00:00\", \"2020-03-01T00:00:00\", \"2020-03-02T00:00:00\", \"2020-03-03T00:00:00\", \"2020-03-04T00:00:00\", \"2020-03-05T00:00:00\", \"2020-03-06T00:00:00\", \"2020-03-07T00:00:00\", \"2020-03-08T00:00:00\", \"2020-03-09T00:00:00\", \"2020-03-10T00:00:00\", \"2020-03-11T00:00:00\", \"2020-03-12T00:00:00\", \"2020-03-13T00:00:00\", \"2020-03-14T00:00:00\", \"2020-03-15T00:00:00\", \"2020-03-16T00:00:00\", \"2020-03-17T00:00:00\", \"2020-03-18T00:00:00\", \"2020-03-19T00:00:00\", \"2020-03-20T00:00:00\", \"2020-03-21T00:00:00\", \"2020-03-22T00:00:00\", \"2020-03-23T00:00:00\", \"2020-03-24T00:00:00\", \"2020-03-25T00:00:00\", \"2020-03-26T00:00:00\", \"2020-03-27T00:00:00\", \"2020-03-28T00:00:00\", \"2020-03-29T00:00:00\", \"2020-03-30T00:00:00\", \"2020-03-31T00:00:00\", \"2020-04-01T00:00:00\", \"2020-04-02T00:00:00\"], \"y\": [0, 0, 0, 0, 0, 0, 0, 0, 0, 0, 0, 0, 0, 0, 0, 0, 0, 0, 0, 0, 0, 0, 0, 0, 0, 0, 0, 2, 2, 4, 5, 8, 12, 16, 19, 26, 34, 43, 54, 66, 77, 92, 107, 124, 145, 194, 237, 291, 354, 429, 514, 611, 724, 853, 988, 1135, 1284, 1433, 1556, 1685, 1812, 1934, 2077, 2234, 2378, 2517, 2640, 2757, 2898, 3036, 3160]}, {\"hoverinfo\": \"text+y\", \"hoverlabel\": {\"bgcolor\": \"white\", \"bordercolor\": \"#418FDE\", \"font\": {\"color\": \"#418FDE\"}}, \"hovertext\": \"United Kingdom\", \"marker\": {\"color\": \"#418FDE\"}, \"name\": \"United Kingdom\", \"type\": \"scatter\", \"x\": [\"2020-01-23T00:00:00\", \"2020-01-24T00:00:00\", \"2020-01-25T00:00:00\", \"2020-01-26T00:00:00\", \"2020-01-27T00:00:00\", \"2020-01-28T00:00:00\", \"2020-01-29T00:00:00\", \"2020-01-30T00:00:00\", \"2020-01-31T00:00:00\", \"2020-02-01T00:00:00\", \"2020-02-02T00:00:00\", \"2020-02-03T00:00:00\", \"2020-02-04T00:00:00\", \"2020-02-05T00:00:00\", \"2020-02-06T00:00:00\", \"2020-02-07T00:00:00\", \"2020-02-08T00:00:00\", \"2020-02-09T00:00:00\", \"2020-02-10T00:00:00\", \"2020-02-11T00:00:00\", \"2020-02-12T00:00:00\", \"2020-02-13T00:00:00\", \"2020-02-14T00:00:00\", \"2020-02-15T00:00:00\", \"2020-02-16T00:00:00\", \"2020-02-17T00:00:00\", \"2020-02-18T00:00:00\", \"2020-02-19T00:00:00\", \"2020-02-20T00:00:00\", \"2020-02-21T00:00:00\", \"2020-02-22T00:00:00\", \"2020-02-23T00:00:00\", \"2020-02-24T00:00:00\", \"2020-02-25T00:00:00\", \"2020-02-26T00:00:00\", \"2020-02-27T00:00:00\", \"2020-02-28T00:00:00\", \"2020-02-29T00:00:00\", \"2020-03-01T00:00:00\", \"2020-03-02T00:00:00\", \"2020-03-03T00:00:00\", \"2020-03-04T00:00:00\", \"2020-03-05T00:00:00\", \"2020-03-06T00:00:00\", \"2020-03-07T00:00:00\", \"2020-03-08T00:00:00\", \"2020-03-09T00:00:00\", \"2020-03-10T00:00:00\", \"2020-03-11T00:00:00\", \"2020-03-12T00:00:00\", \"2020-03-13T00:00:00\", \"2020-03-14T00:00:00\", \"2020-03-15T00:00:00\", \"2020-03-16T00:00:00\", \"2020-03-17T00:00:00\", \"2020-03-18T00:00:00\", \"2020-03-19T00:00:00\", \"2020-03-20T00:00:00\", \"2020-03-21T00:00:00\", \"2020-03-22T00:00:00\", \"2020-03-23T00:00:00\", \"2020-03-24T00:00:00\", \"2020-03-25T00:00:00\", \"2020-03-26T00:00:00\", \"2020-03-27T00:00:00\", \"2020-03-28T00:00:00\", \"2020-03-29T00:00:00\", \"2020-03-30T00:00:00\", \"2020-03-31T00:00:00\", \"2020-04-01T00:00:00\", \"2020-04-02T00:00:00\"], \"y\": [0, 0, 0, 0, 0, 0, 0, 0, 2, 2, 2, 2, 2, 2, 2, 3, 3, 3, 8, 8, 9, 9, 9, 9, 9, 9, 9, 9, 9, 9, 9, 9, 13, 13, 13, 15, 20, 23, 36, 40, 51, 86, 116, 164, 207, 274, 322, 384, 459, 459, 802, 1144, 1145, 1551, 1960, 2642, 2716, 4014, 5067, 5745, 6726, 8164, 9640, 11812, 14745, 17312, 19780, 22453, 25481, 29865, 34173]}, {\"hoverinfo\": \"text+y\", \"hoverlabel\": {\"bgcolor\": \"white\", \"bordercolor\": \"#418FDE\", \"font\": {\"color\": \"#418FDE\"}}, \"hovertext\": \"United Kingdom\", \"marker\": {\"color\": \"#418FDE\"}, \"name\": \"United Kingdom\", \"showlegend\": false, \"type\": \"scatter\", \"visible\": false, \"x\": [\"2020-01-23T00:00:00\", \"2020-01-24T00:00:00\", \"2020-01-25T00:00:00\", \"2020-01-26T00:00:00\", \"2020-01-27T00:00:00\", \"2020-01-28T00:00:00\", \"2020-01-29T00:00:00\", \"2020-01-30T00:00:00\", \"2020-01-31T00:00:00\", \"2020-02-01T00:00:00\", \"2020-02-02T00:00:00\", \"2020-02-03T00:00:00\", \"2020-02-04T00:00:00\", \"2020-02-05T00:00:00\", \"2020-02-06T00:00:00\", \"2020-02-07T00:00:00\", \"2020-02-08T00:00:00\", \"2020-02-09T00:00:00\", \"2020-02-10T00:00:00\", \"2020-02-11T00:00:00\", \"2020-02-12T00:00:00\", \"2020-02-13T00:00:00\", \"2020-02-14T00:00:00\", \"2020-02-15T00:00:00\", \"2020-02-16T00:00:00\", \"2020-02-17T00:00:00\", \"2020-02-18T00:00:00\", \"2020-02-19T00:00:00\", \"2020-02-20T00:00:00\", \"2020-02-21T00:00:00\", \"2020-02-22T00:00:00\", \"2020-02-23T00:00:00\", \"2020-02-24T00:00:00\", \"2020-02-25T00:00:00\", \"2020-02-26T00:00:00\", \"2020-02-27T00:00:00\", \"2020-02-28T00:00:00\", \"2020-02-29T00:00:00\", \"2020-03-01T00:00:00\", \"2020-03-02T00:00:00\", \"2020-03-03T00:00:00\", \"2020-03-04T00:00:00\", \"2020-03-05T00:00:00\", \"2020-03-06T00:00:00\", \"2020-03-07T00:00:00\", \"2020-03-08T00:00:00\", \"2020-03-09T00:00:00\", \"2020-03-10T00:00:00\", \"2020-03-11T00:00:00\", \"2020-03-12T00:00:00\", \"2020-03-13T00:00:00\", \"2020-03-14T00:00:00\", \"2020-03-15T00:00:00\", \"2020-03-16T00:00:00\", \"2020-03-17T00:00:00\", \"2020-03-18T00:00:00\", \"2020-03-19T00:00:00\", \"2020-03-20T00:00:00\", \"2020-03-21T00:00:00\", \"2020-03-22T00:00:00\", \"2020-03-23T00:00:00\", \"2020-03-24T00:00:00\", \"2020-03-25T00:00:00\", \"2020-03-26T00:00:00\", \"2020-03-27T00:00:00\", \"2020-03-28T00:00:00\", \"2020-03-29T00:00:00\", \"2020-03-30T00:00:00\", \"2020-03-31T00:00:00\", \"2020-04-01T00:00:00\", \"2020-04-02T00:00:00\"], \"y\": [0, 0, 0, 0, 0, 0, 0, 0, 0, 0, 0, 0, 0, 0, 0, 0, 0, 0, 0, 0, 0, 0, 0, 0, 0, 0, 0, 0, 0, 0, 0, 0, 0, 0, 0, 0, 0, 0, 0, 0, 0, 0, 1, 2, 2, 3, 4, 6, 8, 8, 8, 21, 21, 56, 56, 72, 138, 178, 234, 282, 336, 423, 466, 580, 761, 1021, 1231, 1411, 1793, 2357, 2926]}, {\"hoverinfo\": \"text+y\", \"hoverlabel\": {\"bgcolor\": \"white\", \"bordercolor\": \"#86C8BC\", \"font\": {\"color\": \"#86C8BC\"}}, \"hovertext\": \"Netherlands\", \"marker\": {\"color\": \"#86C8BC\"}, \"name\": \"Netherlands\", \"type\": \"scatter\", \"x\": [\"2020-01-23T00:00:00\", \"2020-01-24T00:00:00\", \"2020-01-25T00:00:00\", \"2020-01-26T00:00:00\", \"2020-01-27T00:00:00\", \"2020-01-28T00:00:00\", \"2020-01-29T00:00:00\", \"2020-01-30T00:00:00\", \"2020-01-31T00:00:00\", \"2020-02-01T00:00:00\", \"2020-02-02T00:00:00\", \"2020-02-03T00:00:00\", \"2020-02-04T00:00:00\", \"2020-02-05T00:00:00\", \"2020-02-06T00:00:00\", \"2020-02-07T00:00:00\", \"2020-02-08T00:00:00\", \"2020-02-09T00:00:00\", \"2020-02-10T00:00:00\", \"2020-02-11T00:00:00\", \"2020-02-12T00:00:00\", \"2020-02-13T00:00:00\", \"2020-02-14T00:00:00\", \"2020-02-15T00:00:00\", \"2020-02-16T00:00:00\", \"2020-02-17T00:00:00\", \"2020-02-18T00:00:00\", \"2020-02-19T00:00:00\", \"2020-02-20T00:00:00\", \"2020-02-21T00:00:00\", \"2020-02-22T00:00:00\", \"2020-02-23T00:00:00\", \"2020-02-24T00:00:00\", \"2020-02-25T00:00:00\", \"2020-02-26T00:00:00\", \"2020-02-27T00:00:00\", \"2020-02-28T00:00:00\", \"2020-02-29T00:00:00\", \"2020-03-01T00:00:00\", \"2020-03-02T00:00:00\", \"2020-03-03T00:00:00\", \"2020-03-04T00:00:00\", \"2020-03-05T00:00:00\", \"2020-03-06T00:00:00\", \"2020-03-07T00:00:00\", \"2020-03-08T00:00:00\", \"2020-03-09T00:00:00\", \"2020-03-10T00:00:00\", \"2020-03-11T00:00:00\", \"2020-03-12T00:00:00\", \"2020-03-13T00:00:00\", \"2020-03-14T00:00:00\", \"2020-03-15T00:00:00\", \"2020-03-16T00:00:00\", \"2020-03-17T00:00:00\", \"2020-03-18T00:00:00\", \"2020-03-19T00:00:00\", \"2020-03-20T00:00:00\", \"2020-03-21T00:00:00\", \"2020-03-22T00:00:00\", \"2020-03-23T00:00:00\", \"2020-03-24T00:00:00\", \"2020-03-25T00:00:00\", \"2020-03-26T00:00:00\", \"2020-03-27T00:00:00\", \"2020-03-28T00:00:00\", \"2020-03-29T00:00:00\", \"2020-03-30T00:00:00\", \"2020-03-31T00:00:00\", \"2020-04-01T00:00:00\", \"2020-04-02T00:00:00\"], \"y\": [0, 0, 0, 0, 0, 0, 0, 0, 0, 0, 0, 0, 0, 0, 0, 0, 0, 0, 0, 0, 0, 0, 0, 0, 0, 0, 0, 0, 0, 0, 0, 0, 0, 0, 0, 1, 1, 6, 10, 18, 24, 38, 82, 128, 188, 265, 321, 382, 503, 503, 806, 962, 1138, 1416, 1711, 2058, 2467, 3003, 3640, 4217, 4764, 5580, 6438, 7468, 8647, 9819, 10930, 11817, 12667, 13696, 14788]}, {\"hoverinfo\": \"text+y\", \"hoverlabel\": {\"bgcolor\": \"white\", \"bordercolor\": \"#86C8BC\", \"font\": {\"color\": \"#86C8BC\"}}, \"hovertext\": \"Netherlands\", \"marker\": {\"color\": \"#86C8BC\"}, \"name\": \"Netherlands\", \"showlegend\": false, \"type\": \"scatter\", \"visible\": false, \"x\": [\"2020-01-23T00:00:00\", \"2020-01-24T00:00:00\", \"2020-01-25T00:00:00\", \"2020-01-26T00:00:00\", \"2020-01-27T00:00:00\", \"2020-01-28T00:00:00\", \"2020-01-29T00:00:00\", \"2020-01-30T00:00:00\", \"2020-01-31T00:00:00\", \"2020-02-01T00:00:00\", \"2020-02-02T00:00:00\", \"2020-02-03T00:00:00\", \"2020-02-04T00:00:00\", \"2020-02-05T00:00:00\", \"2020-02-06T00:00:00\", \"2020-02-07T00:00:00\", \"2020-02-08T00:00:00\", \"2020-02-09T00:00:00\", \"2020-02-10T00:00:00\", \"2020-02-11T00:00:00\", \"2020-02-12T00:00:00\", \"2020-02-13T00:00:00\", \"2020-02-14T00:00:00\", \"2020-02-15T00:00:00\", \"2020-02-16T00:00:00\", \"2020-02-17T00:00:00\", \"2020-02-18T00:00:00\", \"2020-02-19T00:00:00\", \"2020-02-20T00:00:00\", \"2020-02-21T00:00:00\", \"2020-02-22T00:00:00\", \"2020-02-23T00:00:00\", \"2020-02-24T00:00:00\", \"2020-02-25T00:00:00\", \"2020-02-26T00:00:00\", \"2020-02-27T00:00:00\", \"2020-02-28T00:00:00\", \"2020-02-29T00:00:00\", \"2020-03-01T00:00:00\", \"2020-03-02T00:00:00\", \"2020-03-03T00:00:00\", \"2020-03-04T00:00:00\", \"2020-03-05T00:00:00\", \"2020-03-06T00:00:00\", \"2020-03-07T00:00:00\", \"2020-03-08T00:00:00\", \"2020-03-09T00:00:00\", \"2020-03-10T00:00:00\", \"2020-03-11T00:00:00\", \"2020-03-12T00:00:00\", \"2020-03-13T00:00:00\", \"2020-03-14T00:00:00\", \"2020-03-15T00:00:00\", \"2020-03-16T00:00:00\", \"2020-03-17T00:00:00\", \"2020-03-18T00:00:00\", \"2020-03-19T00:00:00\", \"2020-03-20T00:00:00\", \"2020-03-21T00:00:00\", \"2020-03-22T00:00:00\", \"2020-03-23T00:00:00\", \"2020-03-24T00:00:00\", \"2020-03-25T00:00:00\", \"2020-03-26T00:00:00\", \"2020-03-27T00:00:00\", \"2020-03-28T00:00:00\", \"2020-03-29T00:00:00\", \"2020-03-30T00:00:00\", \"2020-03-31T00:00:00\", \"2020-04-01T00:00:00\", \"2020-04-02T00:00:00\"], \"y\": [0, 0, 0, 0, 0, 0, 0, 0, 0, 0, 0, 0, 0, 0, 0, 0, 0, 0, 0, 0, 0, 0, 0, 0, 0, 0, 0, 0, 0, 0, 0, 0, 0, 0, 0, 0, 0, 0, 0, 0, 0, 0, 0, 1, 1, 3, 3, 4, 5, 5, 10, 12, 20, 24, 43, 58, 77, 107, 137, 180, 214, 277, 357, 435, 547, 640, 772, 865, 1040, 1175, 1341]}, {\"hoverinfo\": \"text+y\", \"hoverlabel\": {\"bgcolor\": \"white\", \"bordercolor\": \"#286140\", \"font\": {\"color\": \"#286140\"}}, \"hovertext\": \"Germany\", \"marker\": {\"color\": \"#286140\"}, \"name\": \"Germany\", \"type\": \"scatter\", \"x\": [\"2020-01-23T00:00:00\", \"2020-01-24T00:00:00\", \"2020-01-25T00:00:00\", \"2020-01-26T00:00:00\", \"2020-01-27T00:00:00\", \"2020-01-28T00:00:00\", \"2020-01-29T00:00:00\", \"2020-01-30T00:00:00\", \"2020-01-31T00:00:00\", \"2020-02-01T00:00:00\", \"2020-02-02T00:00:00\", \"2020-02-03T00:00:00\", \"2020-02-04T00:00:00\", \"2020-02-05T00:00:00\", \"2020-02-06T00:00:00\", \"2020-02-07T00:00:00\", \"2020-02-08T00:00:00\", \"2020-02-09T00:00:00\", \"2020-02-10T00:00:00\", \"2020-02-11T00:00:00\", \"2020-02-12T00:00:00\", \"2020-02-13T00:00:00\", \"2020-02-14T00:00:00\", \"2020-02-15T00:00:00\", \"2020-02-16T00:00:00\", \"2020-02-17T00:00:00\", \"2020-02-18T00:00:00\", \"2020-02-19T00:00:00\", \"2020-02-20T00:00:00\", \"2020-02-21T00:00:00\", \"2020-02-22T00:00:00\", \"2020-02-23T00:00:00\", \"2020-02-24T00:00:00\", \"2020-02-25T00:00:00\", \"2020-02-26T00:00:00\", \"2020-02-27T00:00:00\", \"2020-02-28T00:00:00\", \"2020-02-29T00:00:00\", \"2020-03-01T00:00:00\", \"2020-03-02T00:00:00\", \"2020-03-03T00:00:00\", \"2020-03-04T00:00:00\", \"2020-03-05T00:00:00\", \"2020-03-06T00:00:00\", \"2020-03-07T00:00:00\", \"2020-03-08T00:00:00\", \"2020-03-09T00:00:00\", \"2020-03-10T00:00:00\", \"2020-03-11T00:00:00\", \"2020-03-12T00:00:00\", \"2020-03-13T00:00:00\", \"2020-03-14T00:00:00\", \"2020-03-15T00:00:00\", \"2020-03-16T00:00:00\", \"2020-03-17T00:00:00\", \"2020-03-18T00:00:00\", \"2020-03-19T00:00:00\", \"2020-03-20T00:00:00\", \"2020-03-21T00:00:00\", \"2020-03-22T00:00:00\", \"2020-03-23T00:00:00\", \"2020-03-24T00:00:00\", \"2020-03-25T00:00:00\", \"2020-03-26T00:00:00\", \"2020-03-27T00:00:00\", \"2020-03-28T00:00:00\", \"2020-03-29T00:00:00\", \"2020-03-30T00:00:00\", \"2020-03-31T00:00:00\", \"2020-04-01T00:00:00\", \"2020-04-02T00:00:00\"], \"y\": [0, 0, 0, 0, 1, 4, 4, 4, 5, 8, 10, 12, 12, 12, 12, 13, 13, 14, 14, 16, 16, 16, 16, 16, 16, 16, 16, 16, 16, 16, 16, 16, 16, 17, 27, 46, 48, 79, 130, 159, 196, 262, 482, 670, 799, 1040, 1176, 1457, 1908, 2078, 3675, 4585, 5795, 7272, 9257, 12327, 15320, 19848, 22213, 24873, 29056, 32986, 37323, 43938, 50871, 57695, 62095, 66885, 71808, 77872, 84794]}, {\"hoverinfo\": \"text+y\", \"hoverlabel\": {\"bgcolor\": \"white\", \"bordercolor\": \"#286140\", \"font\": {\"color\": \"#286140\"}}, \"hovertext\": \"Germany\", \"marker\": {\"color\": \"#286140\"}, \"name\": \"Germany\", \"showlegend\": false, \"type\": \"scatter\", \"visible\": false, \"x\": [\"2020-01-23T00:00:00\", \"2020-01-24T00:00:00\", \"2020-01-25T00:00:00\", \"2020-01-26T00:00:00\", \"2020-01-27T00:00:00\", \"2020-01-28T00:00:00\", \"2020-01-29T00:00:00\", \"2020-01-30T00:00:00\", \"2020-01-31T00:00:00\", \"2020-02-01T00:00:00\", \"2020-02-02T00:00:00\", \"2020-02-03T00:00:00\", \"2020-02-04T00:00:00\", \"2020-02-05T00:00:00\", \"2020-02-06T00:00:00\", \"2020-02-07T00:00:00\", \"2020-02-08T00:00:00\", \"2020-02-09T00:00:00\", \"2020-02-10T00:00:00\", \"2020-02-11T00:00:00\", \"2020-02-12T00:00:00\", \"2020-02-13T00:00:00\", \"2020-02-14T00:00:00\", \"2020-02-15T00:00:00\", \"2020-02-16T00:00:00\", \"2020-02-17T00:00:00\", \"2020-02-18T00:00:00\", \"2020-02-19T00:00:00\", \"2020-02-20T00:00:00\", \"2020-02-21T00:00:00\", \"2020-02-22T00:00:00\", \"2020-02-23T00:00:00\", \"2020-02-24T00:00:00\", \"2020-02-25T00:00:00\", \"2020-02-26T00:00:00\", \"2020-02-27T00:00:00\", \"2020-02-28T00:00:00\", \"2020-02-29T00:00:00\", \"2020-03-01T00:00:00\", \"2020-03-02T00:00:00\", \"2020-03-03T00:00:00\", \"2020-03-04T00:00:00\", \"2020-03-05T00:00:00\", \"2020-03-06T00:00:00\", \"2020-03-07T00:00:00\", \"2020-03-08T00:00:00\", \"2020-03-09T00:00:00\", \"2020-03-10T00:00:00\", \"2020-03-11T00:00:00\", \"2020-03-12T00:00:00\", \"2020-03-13T00:00:00\", \"2020-03-14T00:00:00\", \"2020-03-15T00:00:00\", \"2020-03-16T00:00:00\", \"2020-03-17T00:00:00\", \"2020-03-18T00:00:00\", \"2020-03-19T00:00:00\", \"2020-03-20T00:00:00\", \"2020-03-21T00:00:00\", \"2020-03-22T00:00:00\", \"2020-03-23T00:00:00\", \"2020-03-24T00:00:00\", \"2020-03-25T00:00:00\", \"2020-03-26T00:00:00\", \"2020-03-27T00:00:00\", \"2020-03-28T00:00:00\", \"2020-03-29T00:00:00\", \"2020-03-30T00:00:00\", \"2020-03-31T00:00:00\", \"2020-04-01T00:00:00\", \"2020-04-02T00:00:00\"], \"y\": [0, 0, 0, 0, 0, 0, 0, 0, 0, 0, 0, 0, 0, 0, 0, 0, 0, 0, 0, 0, 0, 0, 0, 0, 0, 0, 0, 0, 0, 0, 0, 0, 0, 0, 0, 0, 0, 0, 0, 0, 0, 0, 0, 0, 0, 0, 2, 2, 3, 3, 7, 9, 11, 17, 24, 28, 44, 67, 84, 94, 123, 157, 206, 267, 342, 433, 533, 645, 775, 920, 1107]}, {\"hoverinfo\": \"text+y\", \"hoverlabel\": {\"bgcolor\": \"white\", \"bordercolor\": \"#F1C400\", \"font\": {\"color\": \"#F1C400\"}}, \"hovertext\": \"Belgium\", \"marker\": {\"color\": \"#F1C400\"}, \"name\": \"Belgium\", \"type\": \"scatter\", \"x\": [\"2020-01-23T00:00:00\", \"2020-01-24T00:00:00\", \"2020-01-25T00:00:00\", \"2020-01-26T00:00:00\", \"2020-01-27T00:00:00\", \"2020-01-28T00:00:00\", \"2020-01-29T00:00:00\", \"2020-01-30T00:00:00\", \"2020-01-31T00:00:00\", \"2020-02-01T00:00:00\", \"2020-02-02T00:00:00\", \"2020-02-03T00:00:00\", \"2020-02-04T00:00:00\", \"2020-02-05T00:00:00\", \"2020-02-06T00:00:00\", \"2020-02-07T00:00:00\", \"2020-02-08T00:00:00\", \"2020-02-09T00:00:00\", \"2020-02-10T00:00:00\", \"2020-02-11T00:00:00\", \"2020-02-12T00:00:00\", \"2020-02-13T00:00:00\", \"2020-02-14T00:00:00\", \"2020-02-15T00:00:00\", \"2020-02-16T00:00:00\", \"2020-02-17T00:00:00\", \"2020-02-18T00:00:00\", \"2020-02-19T00:00:00\", \"2020-02-20T00:00:00\", \"2020-02-21T00:00:00\", \"2020-02-22T00:00:00\", \"2020-02-23T00:00:00\", \"2020-02-24T00:00:00\", \"2020-02-25T00:00:00\", \"2020-02-26T00:00:00\", \"2020-02-27T00:00:00\", \"2020-02-28T00:00:00\", \"2020-02-29T00:00:00\", \"2020-03-01T00:00:00\", \"2020-03-02T00:00:00\", \"2020-03-03T00:00:00\", \"2020-03-04T00:00:00\", \"2020-03-05T00:00:00\", \"2020-03-06T00:00:00\", \"2020-03-07T00:00:00\", \"2020-03-08T00:00:00\", \"2020-03-09T00:00:00\", \"2020-03-10T00:00:00\", \"2020-03-11T00:00:00\", \"2020-03-12T00:00:00\", \"2020-03-13T00:00:00\", \"2020-03-14T00:00:00\", \"2020-03-15T00:00:00\", \"2020-03-16T00:00:00\", \"2020-03-17T00:00:00\", \"2020-03-18T00:00:00\", \"2020-03-19T00:00:00\", \"2020-03-20T00:00:00\", \"2020-03-21T00:00:00\", \"2020-03-22T00:00:00\", \"2020-03-23T00:00:00\", \"2020-03-24T00:00:00\", \"2020-03-25T00:00:00\", \"2020-03-26T00:00:00\", \"2020-03-27T00:00:00\", \"2020-03-28T00:00:00\", \"2020-03-29T00:00:00\", \"2020-03-30T00:00:00\", \"2020-03-31T00:00:00\", \"2020-04-01T00:00:00\", \"2020-04-02T00:00:00\"], \"y\": [0, 0, 0, 0, 0, 0, 0, 0, 0, 0, 0, 0, 1, 1, 1, 1, 1, 1, 1, 1, 1, 1, 1, 1, 1, 1, 1, 1, 1, 1, 1, 1, 1, 1, 1, 1, 1, 1, 2, 8, 13, 23, 50, 109, 169, 200, 239, 267, 314, 314, 559, 689, 886, 1058, 1243, 1486, 1795, 2257, 2815, 3401, 3743, 4269, 4937, 6235, 7284, 9134, 10836, 11899, 12775, 13964, 15348]}, {\"hoverinfo\": \"text+y\", \"hoverlabel\": {\"bgcolor\": \"white\", \"bordercolor\": \"#F1C400\", \"font\": {\"color\": \"#F1C400\"}}, \"hovertext\": \"Belgium\", \"marker\": {\"color\": \"#F1C400\"}, \"name\": \"Belgium\", \"showlegend\": false, \"type\": \"scatter\", \"visible\": false, \"x\": [\"2020-01-23T00:00:00\", \"2020-01-24T00:00:00\", \"2020-01-25T00:00:00\", \"2020-01-26T00:00:00\", \"2020-01-27T00:00:00\", \"2020-01-28T00:00:00\", \"2020-01-29T00:00:00\", \"2020-01-30T00:00:00\", \"2020-01-31T00:00:00\", \"2020-02-01T00:00:00\", \"2020-02-02T00:00:00\", \"2020-02-03T00:00:00\", \"2020-02-04T00:00:00\", \"2020-02-05T00:00:00\", \"2020-02-06T00:00:00\", \"2020-02-07T00:00:00\", \"2020-02-08T00:00:00\", \"2020-02-09T00:00:00\", \"2020-02-10T00:00:00\", \"2020-02-11T00:00:00\", \"2020-02-12T00:00:00\", \"2020-02-13T00:00:00\", \"2020-02-14T00:00:00\", \"2020-02-15T00:00:00\", \"2020-02-16T00:00:00\", \"2020-02-17T00:00:00\", \"2020-02-18T00:00:00\", \"2020-02-19T00:00:00\", \"2020-02-20T00:00:00\", \"2020-02-21T00:00:00\", \"2020-02-22T00:00:00\", \"2020-02-23T00:00:00\", \"2020-02-24T00:00:00\", \"2020-02-25T00:00:00\", \"2020-02-26T00:00:00\", \"2020-02-27T00:00:00\", \"2020-02-28T00:00:00\", \"2020-02-29T00:00:00\", \"2020-03-01T00:00:00\", \"2020-03-02T00:00:00\", \"2020-03-03T00:00:00\", \"2020-03-04T00:00:00\", \"2020-03-05T00:00:00\", \"2020-03-06T00:00:00\", \"2020-03-07T00:00:00\", \"2020-03-08T00:00:00\", \"2020-03-09T00:00:00\", \"2020-03-10T00:00:00\", \"2020-03-11T00:00:00\", \"2020-03-12T00:00:00\", \"2020-03-13T00:00:00\", \"2020-03-14T00:00:00\", \"2020-03-15T00:00:00\", \"2020-03-16T00:00:00\", \"2020-03-17T00:00:00\", \"2020-03-18T00:00:00\", \"2020-03-19T00:00:00\", \"2020-03-20T00:00:00\", \"2020-03-21T00:00:00\", \"2020-03-22T00:00:00\", \"2020-03-23T00:00:00\", \"2020-03-24T00:00:00\", \"2020-03-25T00:00:00\", \"2020-03-26T00:00:00\", \"2020-03-27T00:00:00\", \"2020-03-28T00:00:00\", \"2020-03-29T00:00:00\", \"2020-03-30T00:00:00\", \"2020-03-31T00:00:00\", \"2020-04-01T00:00:00\", \"2020-04-02T00:00:00\"], \"y\": [0, 0, 0, 0, 0, 0, 0, 0, 0, 0, 0, 0, 0, 0, 0, 0, 0, 0, 0, 0, 0, 0, 0, 0, 0, 0, 0, 0, 0, 0, 0, 0, 0, 0, 0, 0, 0, 0, 0, 0, 0, 0, 0, 0, 0, 0, 0, 0, 3, 3, 3, 4, 4, 5, 10, 14, 21, 37, 67, 75, 88, 122, 178, 220, 289, 353, 431, 513, 705, 828, 1011]}],\n",
       "                        {\"annotations\": [{\"font\": {\"color\": \"#002D72\", \"family\": \"Gentona, Tahoma, sans-serif\", \"size\": 24}, \"showarrow\": false, \"text\": \"Cases for the current 10 most affected countries\", \"x\": 0.02, \"xref\": \"paper\", \"y\": 1.2, \"yref\": \"paper\"}, {\"font\": {\"color\": \"grey\", \"family\": \"Gentona, Tahoma, sans-serif\", \"size\": 18}, \"showarrow\": false, \"text\": \"Time series by date\", \"x\": 0.02, \"xref\": \"paper\", \"y\": 1.1, \"yref\": \"paper\"}], \"font\": {\"color\": \"dimgray\", \"family\": \"Gentona, Tahoma, sans-serif\", \"size\": 12}, \"height\": 500, \"hovermode\": \"closest\", \"legend\": {\"x\": 1.03, \"y\": 0.7}, \"template\": {\"data\": {\"bar\": [{\"error_x\": {\"color\": \"#2a3f5f\"}, \"error_y\": {\"color\": \"#2a3f5f\"}, \"marker\": {\"line\": {\"color\": \"#E5ECF6\", \"width\": 0.5}}, \"type\": \"bar\"}], \"barpolar\": [{\"marker\": {\"line\": {\"color\": \"#E5ECF6\", \"width\": 0.5}}, \"type\": \"barpolar\"}], \"carpet\": [{\"aaxis\": {\"endlinecolor\": \"#2a3f5f\", \"gridcolor\": \"white\", \"linecolor\": \"white\", \"minorgridcolor\": \"white\", \"startlinecolor\": \"#2a3f5f\"}, \"baxis\": {\"endlinecolor\": \"#2a3f5f\", \"gridcolor\": \"white\", \"linecolor\": \"white\", \"minorgridcolor\": \"white\", \"startlinecolor\": \"#2a3f5f\"}, \"type\": \"carpet\"}], \"choropleth\": [{\"colorbar\": {\"outlinewidth\": 0, \"ticks\": \"\"}, \"type\": \"choropleth\"}], \"contour\": [{\"colorbar\": {\"outlinewidth\": 0, \"ticks\": \"\"}, \"colorscale\": [[0.0, \"#0d0887\"], [0.1111111111111111, \"#46039f\"], [0.2222222222222222, \"#7201a8\"], [0.3333333333333333, \"#9c179e\"], [0.4444444444444444, \"#bd3786\"], [0.5555555555555556, \"#d8576b\"], [0.6666666666666666, \"#ed7953\"], [0.7777777777777778, \"#fb9f3a\"], [0.8888888888888888, \"#fdca26\"], [1.0, \"#f0f921\"]], \"type\": \"contour\"}], \"contourcarpet\": [{\"colorbar\": {\"outlinewidth\": 0, \"ticks\": \"\"}, \"type\": \"contourcarpet\"}], \"heatmap\": [{\"colorbar\": {\"outlinewidth\": 0, \"ticks\": \"\"}, \"colorscale\": [[0.0, \"#0d0887\"], [0.1111111111111111, \"#46039f\"], [0.2222222222222222, \"#7201a8\"], [0.3333333333333333, \"#9c179e\"], [0.4444444444444444, \"#bd3786\"], [0.5555555555555556, \"#d8576b\"], [0.6666666666666666, \"#ed7953\"], [0.7777777777777778, \"#fb9f3a\"], [0.8888888888888888, \"#fdca26\"], [1.0, \"#f0f921\"]], \"type\": \"heatmap\"}], \"heatmapgl\": [{\"colorbar\": {\"outlinewidth\": 0, \"ticks\": \"\"}, \"colorscale\": [[0.0, \"#0d0887\"], [0.1111111111111111, \"#46039f\"], [0.2222222222222222, \"#7201a8\"], [0.3333333333333333, \"#9c179e\"], [0.4444444444444444, \"#bd3786\"], [0.5555555555555556, \"#d8576b\"], [0.6666666666666666, \"#ed7953\"], [0.7777777777777778, \"#fb9f3a\"], [0.8888888888888888, \"#fdca26\"], [1.0, \"#f0f921\"]], \"type\": \"heatmapgl\"}], \"histogram\": [{\"marker\": {\"colorbar\": {\"outlinewidth\": 0, \"ticks\": \"\"}}, \"type\": \"histogram\"}], \"histogram2d\": [{\"colorbar\": {\"outlinewidth\": 0, \"ticks\": \"\"}, \"colorscale\": [[0.0, \"#0d0887\"], [0.1111111111111111, \"#46039f\"], [0.2222222222222222, \"#7201a8\"], [0.3333333333333333, \"#9c179e\"], [0.4444444444444444, \"#bd3786\"], [0.5555555555555556, \"#d8576b\"], [0.6666666666666666, \"#ed7953\"], [0.7777777777777778, \"#fb9f3a\"], [0.8888888888888888, \"#fdca26\"], [1.0, \"#f0f921\"]], \"type\": \"histogram2d\"}], \"histogram2dcontour\": [{\"colorbar\": {\"outlinewidth\": 0, \"ticks\": \"\"}, \"colorscale\": [[0.0, \"#0d0887\"], [0.1111111111111111, \"#46039f\"], [0.2222222222222222, \"#7201a8\"], [0.3333333333333333, \"#9c179e\"], [0.4444444444444444, \"#bd3786\"], [0.5555555555555556, \"#d8576b\"], [0.6666666666666666, \"#ed7953\"], [0.7777777777777778, \"#fb9f3a\"], [0.8888888888888888, \"#fdca26\"], [1.0, \"#f0f921\"]], \"type\": \"histogram2dcontour\"}], \"mesh3d\": [{\"colorbar\": {\"outlinewidth\": 0, \"ticks\": \"\"}, \"type\": \"mesh3d\"}], \"parcoords\": [{\"line\": {\"colorbar\": {\"outlinewidth\": 0, \"ticks\": \"\"}}, \"type\": \"parcoords\"}], \"pie\": [{\"automargin\": true, \"type\": \"pie\"}], \"scatter\": [{\"marker\": {\"colorbar\": {\"outlinewidth\": 0, \"ticks\": \"\"}}, \"type\": \"scatter\"}], \"scatter3d\": [{\"line\": {\"colorbar\": {\"outlinewidth\": 0, \"ticks\": \"\"}}, \"marker\": {\"colorbar\": {\"outlinewidth\": 0, \"ticks\": \"\"}}, \"type\": \"scatter3d\"}], \"scattercarpet\": [{\"marker\": {\"colorbar\": {\"outlinewidth\": 0, \"ticks\": \"\"}}, \"type\": \"scattercarpet\"}], \"scattergeo\": [{\"marker\": {\"colorbar\": {\"outlinewidth\": 0, \"ticks\": \"\"}}, \"type\": \"scattergeo\"}], \"scattergl\": [{\"marker\": {\"colorbar\": {\"outlinewidth\": 0, \"ticks\": \"\"}}, \"type\": \"scattergl\"}], \"scattermapbox\": [{\"marker\": {\"colorbar\": {\"outlinewidth\": 0, \"ticks\": \"\"}}, \"type\": \"scattermapbox\"}], \"scatterpolar\": [{\"marker\": {\"colorbar\": {\"outlinewidth\": 0, \"ticks\": \"\"}}, \"type\": \"scatterpolar\"}], \"scatterpolargl\": [{\"marker\": {\"colorbar\": {\"outlinewidth\": 0, \"ticks\": \"\"}}, \"type\": \"scatterpolargl\"}], \"scatterternary\": [{\"marker\": {\"colorbar\": {\"outlinewidth\": 0, \"ticks\": \"\"}}, \"type\": \"scatterternary\"}], \"surface\": [{\"colorbar\": {\"outlinewidth\": 0, \"ticks\": \"\"}, \"colorscale\": [[0.0, \"#0d0887\"], [0.1111111111111111, \"#46039f\"], [0.2222222222222222, \"#7201a8\"], [0.3333333333333333, \"#9c179e\"], [0.4444444444444444, \"#bd3786\"], [0.5555555555555556, \"#d8576b\"], [0.6666666666666666, \"#ed7953\"], [0.7777777777777778, \"#fb9f3a\"], [0.8888888888888888, \"#fdca26\"], [1.0, \"#f0f921\"]], \"type\": \"surface\"}], \"table\": [{\"cells\": {\"fill\": {\"color\": \"#EBF0F8\"}, \"line\": {\"color\": \"white\"}}, \"header\": {\"fill\": {\"color\": \"#C8D4E3\"}, \"line\": {\"color\": \"white\"}}, \"type\": \"table\"}]}, \"layout\": {\"annotationdefaults\": {\"arrowcolor\": \"#2a3f5f\", \"arrowhead\": 0, \"arrowwidth\": 1}, \"coloraxis\": {\"colorbar\": {\"outlinewidth\": 0, \"ticks\": \"\"}}, \"colorscale\": {\"diverging\": [[0, \"#8e0152\"], [0.1, \"#c51b7d\"], [0.2, \"#de77ae\"], [0.3, \"#f1b6da\"], [0.4, \"#fde0ef\"], [0.5, \"#f7f7f7\"], [0.6, \"#e6f5d0\"], [0.7, \"#b8e186\"], [0.8, \"#7fbc41\"], [0.9, \"#4d9221\"], [1, \"#276419\"]], \"sequential\": [[0.0, \"#0d0887\"], [0.1111111111111111, \"#46039f\"], [0.2222222222222222, \"#7201a8\"], [0.3333333333333333, \"#9c179e\"], [0.4444444444444444, \"#bd3786\"], [0.5555555555555556, \"#d8576b\"], [0.6666666666666666, \"#ed7953\"], [0.7777777777777778, \"#fb9f3a\"], [0.8888888888888888, \"#fdca26\"], [1.0, \"#f0f921\"]], \"sequentialminus\": [[0.0, \"#0d0887\"], [0.1111111111111111, \"#46039f\"], [0.2222222222222222, \"#7201a8\"], [0.3333333333333333, \"#9c179e\"], [0.4444444444444444, \"#bd3786\"], [0.5555555555555556, \"#d8576b\"], [0.6666666666666666, \"#ed7953\"], [0.7777777777777778, \"#fb9f3a\"], [0.8888888888888888, \"#fdca26\"], [1.0, \"#f0f921\"]]}, \"colorway\": [\"#636efa\", \"#EF553B\", \"#00cc96\", \"#ab63fa\", \"#FFA15A\", \"#19d3f3\", \"#FF6692\", \"#B6E880\", \"#FF97FF\", \"#FECB52\"], \"font\": {\"color\": \"#2a3f5f\"}, \"geo\": {\"bgcolor\": \"white\", \"lakecolor\": \"white\", \"landcolor\": \"#E5ECF6\", \"showlakes\": true, \"showland\": true, \"subunitcolor\": \"white\"}, \"hoverlabel\": {\"align\": \"left\"}, \"hovermode\": \"closest\", \"mapbox\": {\"style\": \"light\"}, \"paper_bgcolor\": \"white\", \"plot_bgcolor\": \"#E5ECF6\", \"polar\": {\"angularaxis\": {\"gridcolor\": \"white\", \"linecolor\": \"white\", \"ticks\": \"\"}, \"bgcolor\": \"#E5ECF6\", \"radialaxis\": {\"gridcolor\": \"white\", \"linecolor\": \"white\", \"ticks\": \"\"}}, \"scene\": {\"xaxis\": {\"backgroundcolor\": \"#E5ECF6\", \"gridcolor\": \"white\", \"gridwidth\": 2, \"linecolor\": \"white\", \"showbackground\": true, \"ticks\": \"\", \"zerolinecolor\": \"white\"}, \"yaxis\": {\"backgroundcolor\": \"#E5ECF6\", \"gridcolor\": \"white\", \"gridwidth\": 2, \"linecolor\": \"white\", \"showbackground\": true, \"ticks\": \"\", \"zerolinecolor\": \"white\"}, \"zaxis\": {\"backgroundcolor\": \"#E5ECF6\", \"gridcolor\": \"white\", \"gridwidth\": 2, \"linecolor\": \"white\", \"showbackground\": true, \"ticks\": \"\", \"zerolinecolor\": \"white\"}}, \"shapedefaults\": {\"line\": {\"color\": \"#2a3f5f\"}}, \"ternary\": {\"aaxis\": {\"gridcolor\": \"white\", \"linecolor\": \"white\", \"ticks\": \"\"}, \"baxis\": {\"gridcolor\": \"white\", \"linecolor\": \"white\", \"ticks\": \"\"}, \"bgcolor\": \"#E5ECF6\", \"caxis\": {\"gridcolor\": \"white\", \"linecolor\": \"white\", \"ticks\": \"\"}}, \"title\": {\"x\": 0.05}, \"xaxis\": {\"automargin\": true, \"gridcolor\": \"white\", \"linecolor\": \"white\", \"ticks\": \"\", \"title\": {\"standoff\": 15}, \"zerolinecolor\": \"white\", \"zerolinewidth\": 2}, \"yaxis\": {\"automargin\": true, \"gridcolor\": \"white\", \"linecolor\": \"white\", \"ticks\": \"\", \"title\": {\"standoff\": 15}, \"zerolinecolor\": \"white\", \"zerolinewidth\": 2}}}, \"updatemenus\": [{\"buttons\": [{\"args\": [\"yaxis.type\", \"linear\"], \"label\": \"Linear\", \"method\": \"relayout\"}, {\"args\": [\"yaxis.type\", \"log\"], \"label\": \"Logarithmic\", \"method\": \"relayout\"}], \"direction\": \"down\", \"pad\": {\"r\": 10, \"t\": 10}, \"showactive\": true, \"x\": 1.025, \"xanchor\": \"left\", \"y\": 1.0, \"yanchor\": \"top\"}, {\"buttons\": [{\"args\": [{\"showlegend\": true, \"visible\": [true, false, true, false, true, false, true, false, true, false, true, false, true, false, true, false, true, false, true, false]}], \"label\": \"Confirmed   \", \"method\": \"restyle\"}, {\"args\": [{\"showlegend\": true, \"visible\": [false, true, false, true, false, true, false, true, false, true, false, true, false, true, false, true, false, true, false, true]}], \"label\": \"Deaths\", \"method\": \"restyle\"}], \"direction\": \"down\", \"pad\": {\"r\": 10, \"t\": 10}, \"showactive\": true, \"x\": 1.025, \"xanchor\": \"left\", \"y\": 0.88, \"yanchor\": \"top\"}], \"width\": 800, \"xaxis\": {\"nticks\": 10, \"rangemode\": \"nonnegative\", \"showgrid\": false, \"title\": {\"text\": \"Date\"}, \"zeroline\": false}, \"yaxis\": {\"title\": {\"text\": \"Number of Cases\"}, \"type\": \"linear\"}},\n",
       "                        {\"responsive\": true}\n",
       "                    ).then(function(){\n",
       "                            \n",
       "var gd = document.getElementById('8f1b383f-3040-4a55-9cf4-61bf041c5df5');\n",
       "var x = new MutationObserver(function (mutations, observer) {{\n",
       "        var display = window.getComputedStyle(gd).display;\n",
       "        if (!display || display === 'none') {{\n",
       "            console.log([gd, 'removed!']);\n",
       "            Plotly.purge(gd);\n",
       "            observer.disconnect();\n",
       "        }}\n",
       "}});\n",
       "\n",
       "// Listen for the removal of the full notebook cells\n",
       "var notebookContainer = gd.closest('#notebook-container');\n",
       "if (notebookContainer) {{\n",
       "    x.observe(notebookContainer, {childList: true});\n",
       "}}\n",
       "\n",
       "// Listen for the clearing of the current output cell\n",
       "var outputEl = gd.closest('.output');\n",
       "if (outputEl) {{\n",
       "    x.observe(outputEl, {childList: true});\n",
       "}}\n",
       "\n",
       "                        })\n",
       "                };\n",
       "                });\n",
       "            </script>\n",
       "        </div>"
      ]
     },
     "metadata": {},
     "output_type": "display_data"
    }
   ],
   "source": [
    "# Plot timeline confirmed top ten countries\n",
    "\n",
    "# Plot\n",
    "\n",
    "data = []\n",
    "for i, c in enumerate(top10_country):\n",
    "    data.append(go.Scatter(x = df_merged[df_merged['Country/Region'] == c].dt,\n",
    "                           y = df_merged[df_merged['Country/Region'] == c].confirmed,\n",
    "                           name = c,\n",
    "                           marker = dict(color = top10_col[i]),\n",
    "                           hoverinfo = 'text+y',\n",
    "                           hovertext = c,\n",
    "                           hoverlabel = dict(bordercolor = top10_col[i], \n",
    "                                 bgcolor = 'white', \n",
    "                                 font = dict(color = top10_col[i])),\n",
    "                          ))\n",
    "    data.append(go.Scatter(x = df_merged[df_merged['Country/Region'] == c].dt,\n",
    "                           y = df_merged[df_merged['Country/Region'] == c].deaths,\n",
    "                           name = c,\n",
    "                           marker = dict(color = top10_col[i]),\n",
    "                           hoverinfo = 'text+y',\n",
    "                           hovertext = c,\n",
    "                           hoverlabel = dict(bordercolor = top10_col[i], \n",
    "                                 bgcolor = 'white', \n",
    "                                 font = dict(color = top10_col[i])),\n",
    "                           showlegend = False,\n",
    "                           visible = False\n",
    "                          ))\n",
    "\n",
    "conf_visible = [True, False, True, False, True, False, True, False, True, False, \n",
    "                True, False, True, False, True, False, True, False, True, False] \n",
    "death_visible = [False, True, False, True, False, True, False, True, False, True, \n",
    "                 False, True, False, True, False, True, False, True, False, True]\n",
    "\n",
    "lay = go.Layout(width = 800, \n",
    "                height = 500, \n",
    "                #bargap = 0.2,\n",
    "                xaxis = dict(title='Date',\n",
    "                             nticks = 10,\n",
    "                             rangemode = 'nonnegative',\n",
    "                             zeroline = False,\n",
    "                             showgrid = False,\n",
    "                            ),\n",
    "                yaxis = dict(title='Number of Cases',\n",
    "                             type = 'linear',\n",
    "                            ),\n",
    "                hovermode = 'closest',\n",
    "                font = dict(size = label_size,\n",
    "                            family = label_font,\n",
    "                            color = label_col,\n",
    "                           ),\n",
    "                legend = dict(x = 1.03, \n",
    "                              y = 0.7),\n",
    "                annotations=[dict(x = 0.02,\n",
    "                                  y = 1.2,\n",
    "                                  showarrow = False,\n",
    "                                  text = 'Cases for the current 10 most affected countries',\n",
    "                                  xref = 'paper',\n",
    "                                  yref = 'paper',\n",
    "                                  font=dict(\n",
    "                                      family = title_font,\n",
    "                                      size = title_size,\n",
    "                                      color = title_col,),\n",
    "                                 ),\n",
    "                             dict(x = 0.02,\n",
    "                                  y = 1.1,\n",
    "                                  showarrow = False,\n",
    "                                  text = 'Time series by date',\n",
    "                                  xref = 'paper',\n",
    "                                  yref = 'paper',\n",
    "                                  font=dict(\n",
    "                                      family = subtitle_font,\n",
    "                                      size = subtitle_size,\n",
    "                                      color = subtitle_col,),\n",
    "                                 ),\n",
    "                            ],\n",
    "                updatemenus=[dict(buttons=list([dict(args = [\"yaxis.type\", 'linear'],\n",
    "                                                     label = 'Linear',\n",
    "                                                     method = 'relayout'\n",
    "                                                    ),\n",
    "                                                dict(\n",
    "                                                    args = [\"yaxis.type\", 'log'],\n",
    "                                                    label = 'Logarithmic',\n",
    "                                                    method = 'relayout'\n",
    "                                                )\n",
    "                                               ]),\n",
    "                                  direction = \"down\",\n",
    "                                  pad = {\"r\": 10, \"t\": 10},\n",
    "                                  showactive = True,\n",
    "                                  x = 1.025,\n",
    "                                  xanchor = 'left',\n",
    "                                  y = 1.00,\n",
    "                                  yanchor = 'top'\n",
    "                                 ),\n",
    "                             dict(buttons=list([dict(args = [{'visible': conf_visible, 'showlegend' : True }],\n",
    "                                                     label = 'Confirmed   ',\n",
    "                                                     method = 'restyle'\n",
    "                                                    ),\n",
    "                                                dict(args = [{'visible': death_visible, 'showlegend' : True }],\n",
    "                                                     label = 'Deaths',\n",
    "                                                     method = 'restyle'\n",
    "                                                    ),\n",
    "                                               ]),\n",
    "                                  direction = \"down\",\n",
    "                                  pad = {\"r\": 10, \"t\": 10},\n",
    "                                  showactive = True,\n",
    "                                  x = 1.025,\n",
    "                                  xanchor = 'left',\n",
    "                                  y = 0.88,\n",
    "                                  yanchor = 'top'\n",
    "                                 ),\n",
    "                            ]\n",
    "               )\n",
    "\n",
    "\n",
    "fig = dict(data=data, layout=lay)\n",
    "plotly.offline.iplot(fig)"
   ]
  },
  {
   "cell_type": "code",
   "execution_count": 33,
   "metadata": {},
   "outputs": [
    {
     "data": {
      "application/vnd.plotly.v1+json": {
       "config": {
        "linkText": "Export to plot.ly",
        "plotlyServerURL": "https://plot.ly",
        "showLink": false
       },
       "data": [
        {
         "hoverinfo": "text+y",
         "hoverlabel": {
          "bgcolor": "white",
          "bordercolor": "#719949",
          "font": {
           "color": "#719949"
          }
         },
         "hovertext": "Italy",
         "marker": {
          "color": "#719949"
         },
         "name": "Italy",
         "type": "scatter",
         "x": [
          -30,
          -29,
          -28,
          -27,
          -26,
          -25,
          -24,
          -23,
          -22,
          -21,
          -20,
          -19,
          -18,
          -17,
          -16,
          -15,
          -14,
          -13,
          -12,
          -11,
          -10,
          -9,
          -8,
          -7,
          -6,
          -5,
          -4,
          -3,
          -2,
          -1,
          0,
          1,
          2,
          3,
          4,
          5,
          6,
          7,
          8,
          9,
          10,
          11,
          12,
          13,
          14,
          15,
          16,
          17,
          18,
          19,
          20,
          21,
          22,
          23,
          24,
          25,
          26,
          27,
          28,
          29,
          30,
          31,
          32,
          33,
          34,
          35,
          36,
          37,
          38,
          39,
          40
         ],
         "y": [
          0,
          0,
          0,
          0,
          0,
          0,
          0,
          0,
          2,
          2,
          2,
          2,
          2,
          2,
          2,
          3,
          3,
          3,
          3,
          3,
          3,
          3,
          3,
          3,
          3,
          3,
          3,
          3,
          3,
          20,
          62,
          155,
          229,
          322,
          453,
          655,
          888,
          1128,
          1694,
          2036,
          2502,
          3089,
          3858,
          4636,
          5883,
          7375,
          9172,
          10149,
          12462,
          12462,
          17660,
          21157,
          24747,
          27980,
          31506,
          35713,
          41035,
          47021,
          53578,
          59138,
          63927,
          69176,
          74386,
          80589,
          86498,
          92472,
          97689,
          101739,
          105792,
          110574,
          115242
         ]
        },
        {
         "hoverinfo": "text+y",
         "hoverlabel": {
          "bgcolor": "white",
          "bordercolor": "#719949",
          "font": {
           "color": "#719949"
          }
         },
         "hovertext": "Italy",
         "marker": {
          "color": "#719949"
         },
         "name": "Italy",
         "showlegend": false,
         "type": "scatter",
         "visible": false,
         "x": [
          -30,
          -29,
          -28,
          -27,
          -26,
          -25,
          -24,
          -23,
          -22,
          -21,
          -20,
          -19,
          -18,
          -17,
          -16,
          -15,
          -14,
          -13,
          -12,
          -11,
          -10,
          -9,
          -8,
          -7,
          -6,
          -5,
          -4,
          -3,
          -2,
          -1,
          0,
          1,
          2,
          3,
          4,
          5,
          6,
          7,
          8,
          9,
          10,
          11,
          12,
          13,
          14,
          15,
          16,
          17,
          18,
          19,
          20,
          21,
          22,
          23,
          24,
          25,
          26,
          27,
          28,
          29,
          30,
          31,
          32,
          33,
          34,
          35,
          36,
          37,
          38,
          39,
          40
         ],
         "y": [
          0,
          0,
          0,
          0,
          0,
          0,
          0,
          0,
          0,
          0,
          0,
          0,
          0,
          0,
          0,
          0,
          0,
          0,
          0,
          0,
          0,
          0,
          0,
          0,
          0,
          0,
          0,
          0,
          0,
          1,
          2,
          3,
          7,
          10,
          12,
          17,
          21,
          29,
          34,
          52,
          79,
          107,
          148,
          197,
          233,
          366,
          463,
          631,
          827,
          827,
          1266,
          1441,
          1809,
          2158,
          2503,
          2978,
          3405,
          4032,
          4825,
          5476,
          6077,
          6820,
          7503,
          8215,
          9134,
          10023,
          10779,
          11591,
          12428,
          13155,
          13915
         ]
        },
        {
         "hoverinfo": "text+y",
         "hoverlabel": {
          "bgcolor": "white",
          "bordercolor": "#FF6900",
          "font": {
           "color": "#FF6900"
          }
         },
         "hovertext": "Spain",
         "marker": {
          "color": "#FF6900"
         },
         "name": "Spain",
         "type": "scatter",
         "x": [
          -38,
          -37,
          -36,
          -35,
          -34,
          -33,
          -32,
          -31,
          -30,
          -29,
          -28,
          -27,
          -26,
          -25,
          -24,
          -23,
          -22,
          -21,
          -20,
          -19,
          -18,
          -17,
          -16,
          -15,
          -14,
          -13,
          -12,
          -11,
          -10,
          -9,
          -8,
          -7,
          -6,
          -5,
          -4,
          -3,
          -2,
          -1,
          0,
          1,
          2,
          3,
          4,
          5,
          6,
          7,
          8,
          9,
          10,
          11,
          12,
          13,
          14,
          15,
          16,
          17,
          18,
          19,
          20,
          21,
          22,
          23,
          24,
          25,
          26,
          27,
          28,
          29,
          30,
          31,
          32
         ],
         "y": [
          0,
          0,
          0,
          0,
          0,
          0,
          0,
          0,
          0,
          1,
          1,
          1,
          1,
          1,
          1,
          1,
          1,
          2,
          2,
          2,
          2,
          2,
          2,
          2,
          2,
          2,
          2,
          2,
          2,
          2,
          2,
          2,
          2,
          6,
          13,
          15,
          32,
          45,
          84,
          120,
          165,
          222,
          259,
          400,
          500,
          673,
          1073,
          1695,
          2277,
          2277,
          5232,
          6391,
          7798,
          9942,
          11748,
          13910,
          17963,
          20410,
          25374,
          28768,
          35136,
          39885,
          49515,
          57786,
          65719,
          73235,
          80110,
          87956,
          95923,
          104118,
          112065
         ]
        },
        {
         "hoverinfo": "text+y",
         "hoverlabel": {
          "bgcolor": "white",
          "bordercolor": "#FF6900",
          "font": {
           "color": "#FF6900"
          }
         },
         "hovertext": "Spain",
         "marker": {
          "color": "#FF6900"
         },
         "name": "Spain",
         "showlegend": false,
         "type": "scatter",
         "visible": false,
         "x": [
          -38,
          -37,
          -36,
          -35,
          -34,
          -33,
          -32,
          -31,
          -30,
          -29,
          -28,
          -27,
          -26,
          -25,
          -24,
          -23,
          -22,
          -21,
          -20,
          -19,
          -18,
          -17,
          -16,
          -15,
          -14,
          -13,
          -12,
          -11,
          -10,
          -9,
          -8,
          -7,
          -6,
          -5,
          -4,
          -3,
          -2,
          -1,
          0,
          1,
          2,
          3,
          4,
          5,
          6,
          7,
          8,
          9,
          10,
          11,
          12,
          13,
          14,
          15,
          16,
          17,
          18,
          19,
          20,
          21,
          22,
          23,
          24,
          25,
          26,
          27,
          28,
          29,
          30,
          31,
          32
         ],
         "y": [
          0,
          0,
          0,
          0,
          0,
          0,
          0,
          0,
          0,
          0,
          0,
          0,
          0,
          0,
          0,
          0,
          0,
          0,
          0,
          0,
          0,
          0,
          0,
          0,
          0,
          0,
          0,
          0,
          0,
          0,
          0,
          0,
          0,
          0,
          0,
          0,
          0,
          0,
          0,
          0,
          1,
          2,
          3,
          5,
          10,
          17,
          28,
          35,
          54,
          55,
          133,
          195,
          289,
          342,
          533,
          623,
          830,
          1043,
          1375,
          1772,
          2311,
          2808,
          3647,
          4365,
          5138,
          5982,
          6803,
          7716,
          8464,
          9387,
          10348
         ]
        },
        {
         "hoverinfo": "text+y",
         "hoverlabel": {
          "bgcolor": "white",
          "bordercolor": "#E8927C",
          "font": {
           "color": "#E8927C"
          }
         },
         "hovertext": "US",
         "marker": {
          "color": "#E8927C"
         },
         "name": "US",
         "type": "scatter",
         "x": [
          -32,
          -31,
          -30,
          -29,
          -28,
          -27,
          -26,
          -25,
          -24,
          -23,
          -22,
          -21,
          -20,
          -19,
          -18,
          -17,
          -16,
          -15,
          -14,
          -13,
          -12,
          -11,
          -10,
          -9,
          -8,
          -7,
          -6,
          -5,
          -4,
          -3,
          -2,
          -1,
          0,
          1,
          2,
          3,
          4,
          5,
          6,
          7,
          8,
          9,
          10,
          11,
          12,
          13,
          14,
          15,
          16,
          17,
          18,
          19,
          20,
          21,
          22,
          23,
          24,
          25,
          26,
          27,
          28,
          29,
          30,
          31,
          32,
          33,
          34,
          35,
          36,
          37,
          38
         ],
         "y": [
          1,
          2,
          2,
          5,
          5,
          5,
          5,
          5,
          7,
          8,
          8,
          11,
          11,
          11,
          11,
          11,
          11,
          11,
          11,
          12,
          12,
          13,
          13,
          13,
          13,
          13,
          13,
          13,
          13,
          15,
          15,
          15,
          51,
          51,
          57,
          58,
          60,
          68,
          74,
          98,
          118,
          149,
          217,
          262,
          402,
          518,
          583,
          959,
          1281,
          1663,
          2179,
          2727,
          3499,
          4632,
          6421,
          7783,
          13677,
          19100,
          25489,
          33276,
          43847,
          53740,
          65778,
          83836,
          101657,
          121478,
          140886,
          161807,
          188172,
          213372,
          243453
         ]
        },
        {
         "hoverinfo": "text+y",
         "hoverlabel": {
          "bgcolor": "white",
          "bordercolor": "#E8927C",
          "font": {
           "color": "#E8927C"
          }
         },
         "hovertext": "US",
         "marker": {
          "color": "#E8927C"
         },
         "name": "US",
         "showlegend": false,
         "type": "scatter",
         "visible": false,
         "x": [
          -32,
          -31,
          -30,
          -29,
          -28,
          -27,
          -26,
          -25,
          -24,
          -23,
          -22,
          -21,
          -20,
          -19,
          -18,
          -17,
          -16,
          -15,
          -14,
          -13,
          -12,
          -11,
          -10,
          -9,
          -8,
          -7,
          -6,
          -5,
          -4,
          -3,
          -2,
          -1,
          0,
          1,
          2,
          3,
          4,
          5,
          6,
          7,
          8,
          9,
          10,
          11,
          12,
          13,
          14,
          15,
          16,
          17,
          18,
          19,
          20,
          21,
          22,
          23,
          24,
          25,
          26,
          27,
          28,
          29,
          30,
          31,
          32,
          33,
          34,
          35,
          36,
          37,
          38
         ],
         "y": [
          0,
          0,
          0,
          0,
          0,
          0,
          0,
          0,
          0,
          0,
          0,
          0,
          0,
          0,
          0,
          0,
          0,
          0,
          0,
          0,
          0,
          0,
          0,
          0,
          0,
          0,
          0,
          0,
          0,
          0,
          0,
          0,
          0,
          0,
          0,
          0,
          0,
          1,
          1,
          6,
          7,
          11,
          12,
          14,
          17,
          21,
          22,
          28,
          36,
          40,
          47,
          54,
          63,
          85,
          108,
          118,
          200,
          244,
          307,
          417,
          557,
          706,
          942,
          1209,
          1581,
          2026,
          2467,
          2978,
          3873,
          4757,
          5926
         ]
        },
        {
         "hoverinfo": "text+y",
         "hoverlabel": {
          "bgcolor": "white",
          "bordercolor": "#A6192E",
          "font": {
           "color": "#A6192E"
          }
         },
         "hovertext": "France",
         "marker": {
          "color": "#A6192E"
         },
         "name": "France",
         "type": "scatter",
         "x": [
          -36,
          -35,
          -34,
          -33,
          -32,
          -31,
          -30,
          -29,
          -28,
          -27,
          -26,
          -25,
          -24,
          -23,
          -22,
          -21,
          -20,
          -19,
          -18,
          -17,
          -16,
          -15,
          -14,
          -13,
          -12,
          -11,
          -10,
          -9,
          -8,
          -7,
          -6,
          -5,
          -4,
          -3,
          -2,
          -1,
          0,
          1,
          2,
          3,
          4,
          5,
          6,
          7,
          8,
          9,
          10,
          11,
          12,
          13,
          14,
          15,
          16,
          17,
          18,
          19,
          20,
          21,
          22,
          23,
          24,
          25,
          26,
          27,
          28,
          29,
          30,
          31,
          32,
          33,
          34
         ],
         "y": [
          0,
          2,
          3,
          3,
          3,
          4,
          5,
          5,
          5,
          6,
          6,
          6,
          6,
          6,
          6,
          6,
          11,
          11,
          11,
          11,
          11,
          11,
          11,
          12,
          12,
          12,
          12,
          12,
          12,
          12,
          12,
          12,
          12,
          14,
          18,
          38,
          57,
          100,
          130,
          191,
          204,
          288,
          380,
          656,
          959,
          1136,
          1219,
          1794,
          2293,
          2293,
          3681,
          4496,
          4532,
          6683,
          7715,
          9124,
          10970,
          12758,
          14463,
          16243,
          20123,
          22622,
          25600,
          29551,
          33402,
          38105,
          40708,
          45170,
          52827,
          57749,
          59929
         ]
        },
        {
         "hoverinfo": "text+y",
         "hoverlabel": {
          "bgcolor": "white",
          "bordercolor": "#A6192E",
          "font": {
           "color": "#A6192E"
          }
         },
         "hovertext": "France",
         "marker": {
          "color": "#A6192E"
         },
         "name": "France",
         "showlegend": false,
         "type": "scatter",
         "visible": false,
         "x": [
          -36,
          -35,
          -34,
          -33,
          -32,
          -31,
          -30,
          -29,
          -28,
          -27,
          -26,
          -25,
          -24,
          -23,
          -22,
          -21,
          -20,
          -19,
          -18,
          -17,
          -16,
          -15,
          -14,
          -13,
          -12,
          -11,
          -10,
          -9,
          -8,
          -7,
          -6,
          -5,
          -4,
          -3,
          -2,
          -1,
          0,
          1,
          2,
          3,
          4,
          5,
          6,
          7,
          8,
          9,
          10,
          11,
          12,
          13,
          14,
          15,
          16,
          17,
          18,
          19,
          20,
          21,
          22,
          23,
          24,
          25,
          26,
          27,
          28,
          29,
          30,
          31,
          32,
          33,
          34
         ],
         "y": [
          0,
          0,
          0,
          0,
          0,
          0,
          0,
          0,
          0,
          0,
          0,
          0,
          0,
          0,
          0,
          0,
          0,
          0,
          0,
          0,
          0,
          0,
          0,
          1,
          1,
          1,
          1,
          1,
          1,
          1,
          1,
          1,
          1,
          1,
          2,
          2,
          2,
          2,
          2,
          3,
          4,
          4,
          6,
          9,
          11,
          19,
          19,
          33,
          48,
          48,
          79,
          91,
          91,
          149,
          149,
          149,
          244,
          451,
          563,
          676,
          862,
          1102,
          1333,
          1698,
          1997,
          2317,
          2611,
          3030,
          3532,
          4043,
          5398
         ]
        },
        {
         "hoverinfo": "text+y",
         "hoverlabel": {
          "bgcolor": "white",
          "bordercolor": "#51284F",
          "font": {
           "color": "#51284F"
          }
         },
         "hovertext": "China",
         "marker": {
          "color": "#51284F"
         },
         "name": "China",
         "type": "scatter",
         "x": [
          0,
          1,
          2,
          3,
          4,
          5,
          6,
          7,
          8,
          9,
          10,
          11,
          12,
          13,
          14,
          15,
          16,
          17,
          18,
          19,
          20,
          21,
          22,
          23,
          24,
          25,
          26,
          27,
          28,
          29,
          30,
          31,
          32,
          33,
          34,
          35,
          36,
          37,
          38,
          39,
          40,
          41,
          42,
          43,
          44,
          45,
          46,
          47,
          48,
          49,
          50,
          51,
          52,
          53,
          54,
          55,
          56,
          57,
          58,
          59,
          60,
          61,
          62,
          63,
          64,
          65,
          66,
          67,
          68,
          69,
          70
         ],
         "y": [
          643,
          920,
          1406,
          2075,
          2877,
          5509,
          6087,
          8141,
          9802,
          11891,
          16630,
          19716,
          23707,
          27440,
          30587,
          34110,
          36814,
          39829,
          42354,
          44386,
          44759,
          59895,
          66358,
          68413,
          70513,
          72434,
          74211,
          74619,
          75077,
          75550,
          77001,
          77022,
          77241,
          77754,
          78166,
          78600,
          78928,
          79356,
          79932,
          80136,
          80261,
          80386,
          80537,
          80690,
          80770,
          80823,
          80860,
          80887,
          80921,
          80932,
          80945,
          80977,
          81003,
          81033,
          81058,
          81102,
          81156,
          81250,
          81305,
          81435,
          81498,
          81591,
          81661,
          81782,
          81897,
          81999,
          82122,
          82198,
          82279,
          82361,
          82432
         ]
        },
        {
         "hoverinfo": "text+y",
         "hoverlabel": {
          "bgcolor": "white",
          "bordercolor": "#51284F",
          "font": {
           "color": "#51284F"
          }
         },
         "hovertext": "China",
         "marker": {
          "color": "#51284F"
         },
         "name": "China",
         "showlegend": false,
         "type": "scatter",
         "visible": false,
         "x": [
          0,
          1,
          2,
          3,
          4,
          5,
          6,
          7,
          8,
          9,
          10,
          11,
          12,
          13,
          14,
          15,
          16,
          17,
          18,
          19,
          20,
          21,
          22,
          23,
          24,
          25,
          26,
          27,
          28,
          29,
          30,
          31,
          32,
          33,
          34,
          35,
          36,
          37,
          38,
          39,
          40,
          41,
          42,
          43,
          44,
          45,
          46,
          47,
          48,
          49,
          50,
          51,
          52,
          53,
          54,
          55,
          56,
          57,
          58,
          59,
          60,
          61,
          62,
          63,
          64,
          65,
          66,
          67,
          68,
          69,
          70
         ],
         "y": [
          18,
          26,
          42,
          56,
          82,
          131,
          133,
          171,
          213,
          259,
          361,
          425,
          491,
          563,
          633,
          718,
          805,
          905,
          1012,
          1112,
          1117,
          1369,
          1521,
          1663,
          1766,
          1864,
          2003,
          2116,
          2238,
          2238,
          2443,
          2445,
          2595,
          2665,
          2717,
          2746,
          2790,
          2837,
          2872,
          2914,
          2947,
          2983,
          3015,
          3044,
          3072,
          3100,
          3123,
          3139,
          3161,
          3172,
          3180,
          3193,
          3203,
          3217,
          3230,
          3241,
          3249,
          3253,
          3259,
          3274,
          3274,
          3281,
          3285,
          3291,
          3296,
          3299,
          3304,
          3308,
          3309,
          3316,
          3322
         ]
        },
        {
         "hoverinfo": "text+y",
         "hoverlabel": {
          "bgcolor": "white",
          "bordercolor": "#A192B2",
          "font": {
           "color": "#A192B2"
          }
         },
         "hovertext": "Iran",
         "marker": {
          "color": "#A192B2"
         },
         "name": "Iran",
         "type": "scatter",
         "x": [
          -32,
          -31,
          -30,
          -29,
          -28,
          -27,
          -26,
          -25,
          -24,
          -23,
          -22,
          -21,
          -20,
          -19,
          -18,
          -17,
          -16,
          -15,
          -14,
          -13,
          -12,
          -11,
          -10,
          -9,
          -8,
          -7,
          -6,
          -5,
          -4,
          -3,
          -2,
          -1,
          0,
          1,
          2,
          3,
          4,
          5,
          6,
          7,
          8,
          9,
          10,
          11,
          12,
          13,
          14,
          15,
          16,
          17,
          18,
          19,
          20,
          21,
          22,
          23,
          24,
          25,
          26,
          27,
          28,
          29,
          30,
          31,
          32,
          33,
          34,
          35,
          36,
          37,
          38
         ],
         "y": [
          0,
          0,
          0,
          0,
          0,
          0,
          0,
          0,
          0,
          0,
          0,
          0,
          0,
          0,
          0,
          0,
          0,
          0,
          0,
          0,
          0,
          0,
          0,
          0,
          0,
          0,
          0,
          2,
          5,
          18,
          28,
          43,
          61,
          95,
          139,
          245,
          388,
          593,
          978,
          1501,
          2336,
          2922,
          3513,
          4747,
          5823,
          6566,
          7161,
          8042,
          9000,
          10075,
          11364,
          12729,
          13938,
          14991,
          16169,
          17361,
          18407,
          19644,
          20610,
          21638,
          23049,
          24811,
          27017,
          29406,
          32332,
          35408,
          38309,
          41495,
          44605,
          47593,
          50468
         ]
        },
        {
         "hoverinfo": "text+y",
         "hoverlabel": {
          "bgcolor": "white",
          "bordercolor": "#A192B2",
          "font": {
           "color": "#A192B2"
          }
         },
         "hovertext": "Iran",
         "marker": {
          "color": "#A192B2"
         },
         "name": "Iran",
         "showlegend": false,
         "type": "scatter",
         "visible": false,
         "x": [
          -32,
          -31,
          -30,
          -29,
          -28,
          -27,
          -26,
          -25,
          -24,
          -23,
          -22,
          -21,
          -20,
          -19,
          -18,
          -17,
          -16,
          -15,
          -14,
          -13,
          -12,
          -11,
          -10,
          -9,
          -8,
          -7,
          -6,
          -5,
          -4,
          -3,
          -2,
          -1,
          0,
          1,
          2,
          3,
          4,
          5,
          6,
          7,
          8,
          9,
          10,
          11,
          12,
          13,
          14,
          15,
          16,
          17,
          18,
          19,
          20,
          21,
          22,
          23,
          24,
          25,
          26,
          27,
          28,
          29,
          30,
          31,
          32,
          33,
          34,
          35,
          36,
          37,
          38
         ],
         "y": [
          0,
          0,
          0,
          0,
          0,
          0,
          0,
          0,
          0,
          0,
          0,
          0,
          0,
          0,
          0,
          0,
          0,
          0,
          0,
          0,
          0,
          0,
          0,
          0,
          0,
          0,
          0,
          2,
          2,
          4,
          5,
          8,
          12,
          16,
          19,
          26,
          34,
          43,
          54,
          66,
          77,
          92,
          107,
          124,
          145,
          194,
          237,
          291,
          354,
          429,
          514,
          611,
          724,
          853,
          988,
          1135,
          1284,
          1433,
          1556,
          1685,
          1812,
          1934,
          2077,
          2234,
          2378,
          2517,
          2640,
          2757,
          2898,
          3036,
          3160
         ]
        },
        {
         "hoverinfo": "text+y",
         "hoverlabel": {
          "bgcolor": "white",
          "bordercolor": "#418FDE",
          "font": {
           "color": "#418FDE"
          }
         },
         "hovertext": "United Kingdom",
         "marker": {
          "color": "#418FDE"
         },
         "name": "United Kingdom",
         "type": "scatter",
         "x": [
          -40,
          -39,
          -38,
          -37,
          -36,
          -35,
          -34,
          -33,
          -32,
          -31,
          -30,
          -29,
          -28,
          -27,
          -26,
          -25,
          -24,
          -23,
          -22,
          -21,
          -20,
          -19,
          -18,
          -17,
          -16,
          -15,
          -14,
          -13,
          -12,
          -11,
          -10,
          -9,
          -8,
          -7,
          -6,
          -5,
          -4,
          -3,
          -2,
          -1,
          0,
          1,
          2,
          3,
          4,
          5,
          6,
          7,
          8,
          9,
          10,
          11,
          12,
          13,
          14,
          15,
          16,
          17,
          18,
          19,
          20,
          21,
          22,
          23,
          24,
          25,
          26,
          27,
          28,
          29,
          30
         ],
         "y": [
          0,
          0,
          0,
          0,
          0,
          0,
          0,
          0,
          2,
          2,
          2,
          2,
          2,
          2,
          2,
          3,
          3,
          3,
          8,
          8,
          9,
          9,
          9,
          9,
          9,
          9,
          9,
          9,
          9,
          9,
          9,
          9,
          13,
          13,
          13,
          15,
          20,
          23,
          36,
          40,
          51,
          86,
          116,
          164,
          207,
          274,
          322,
          384,
          459,
          459,
          802,
          1144,
          1145,
          1551,
          1960,
          2642,
          2716,
          4014,
          5067,
          5745,
          6726,
          8164,
          9640,
          11812,
          14745,
          17312,
          19780,
          22453,
          25481,
          29865,
          34173
         ]
        },
        {
         "hoverinfo": "text+y",
         "hoverlabel": {
          "bgcolor": "white",
          "bordercolor": "#418FDE",
          "font": {
           "color": "#418FDE"
          }
         },
         "hovertext": "United Kingdom",
         "marker": {
          "color": "#418FDE"
         },
         "name": "United Kingdom",
         "showlegend": false,
         "type": "scatter",
         "visible": false,
         "x": [
          -40,
          -39,
          -38,
          -37,
          -36,
          -35,
          -34,
          -33,
          -32,
          -31,
          -30,
          -29,
          -28,
          -27,
          -26,
          -25,
          -24,
          -23,
          -22,
          -21,
          -20,
          -19,
          -18,
          -17,
          -16,
          -15,
          -14,
          -13,
          -12,
          -11,
          -10,
          -9,
          -8,
          -7,
          -6,
          -5,
          -4,
          -3,
          -2,
          -1,
          0,
          1,
          2,
          3,
          4,
          5,
          6,
          7,
          8,
          9,
          10,
          11,
          12,
          13,
          14,
          15,
          16,
          17,
          18,
          19,
          20,
          21,
          22,
          23,
          24,
          25,
          26,
          27,
          28,
          29,
          30
         ],
         "y": [
          0,
          0,
          0,
          0,
          0,
          0,
          0,
          0,
          0,
          0,
          0,
          0,
          0,
          0,
          0,
          0,
          0,
          0,
          0,
          0,
          0,
          0,
          0,
          0,
          0,
          0,
          0,
          0,
          0,
          0,
          0,
          0,
          0,
          0,
          0,
          0,
          0,
          0,
          0,
          0,
          0,
          0,
          1,
          2,
          2,
          3,
          4,
          6,
          8,
          8,
          8,
          21,
          21,
          56,
          56,
          72,
          138,
          178,
          234,
          282,
          336,
          423,
          466,
          580,
          761,
          1021,
          1231,
          1411,
          1793,
          2357,
          2926
         ]
        },
        {
         "hoverinfo": "text+y",
         "hoverlabel": {
          "bgcolor": "white",
          "bordercolor": "#86C8BC",
          "font": {
           "color": "#86C8BC"
          }
         },
         "hovertext": "Netherlands",
         "marker": {
          "color": "#86C8BC"
         },
         "name": "Netherlands",
         "type": "scatter",
         "x": [
          -42,
          -41,
          -40,
          -39,
          -38,
          -37,
          -36,
          -35,
          -34,
          -33,
          -32,
          -31,
          -30,
          -29,
          -28,
          -27,
          -26,
          -25,
          -24,
          -23,
          -22,
          -21,
          -20,
          -19,
          -18,
          -17,
          -16,
          -15,
          -14,
          -13,
          -12,
          -11,
          -10,
          -9,
          -8,
          -7,
          -6,
          -5,
          -4,
          -3,
          -2,
          -1,
          0,
          1,
          2,
          3,
          4,
          5,
          6,
          7,
          8,
          9,
          10,
          11,
          12,
          13,
          14,
          15,
          16,
          17,
          18,
          19,
          20,
          21,
          22,
          23,
          24,
          25,
          26,
          27,
          28
         ],
         "y": [
          0,
          0,
          0,
          0,
          0,
          0,
          0,
          0,
          0,
          0,
          0,
          0,
          0,
          0,
          0,
          0,
          0,
          0,
          0,
          0,
          0,
          0,
          0,
          0,
          0,
          0,
          0,
          0,
          0,
          0,
          0,
          0,
          0,
          0,
          0,
          1,
          1,
          6,
          10,
          18,
          24,
          38,
          82,
          128,
          188,
          265,
          321,
          382,
          503,
          503,
          806,
          962,
          1138,
          1416,
          1711,
          2058,
          2467,
          3003,
          3640,
          4217,
          4764,
          5580,
          6438,
          7468,
          8647,
          9819,
          10930,
          11817,
          12667,
          13696,
          14788
         ]
        },
        {
         "hoverinfo": "text+y",
         "hoverlabel": {
          "bgcolor": "white",
          "bordercolor": "#86C8BC",
          "font": {
           "color": "#86C8BC"
          }
         },
         "hovertext": "Netherlands",
         "marker": {
          "color": "#86C8BC"
         },
         "name": "Netherlands",
         "showlegend": false,
         "type": "scatter",
         "visible": false,
         "x": [
          -42,
          -41,
          -40,
          -39,
          -38,
          -37,
          -36,
          -35,
          -34,
          -33,
          -32,
          -31,
          -30,
          -29,
          -28,
          -27,
          -26,
          -25,
          -24,
          -23,
          -22,
          -21,
          -20,
          -19,
          -18,
          -17,
          -16,
          -15,
          -14,
          -13,
          -12,
          -11,
          -10,
          -9,
          -8,
          -7,
          -6,
          -5,
          -4,
          -3,
          -2,
          -1,
          0,
          1,
          2,
          3,
          4,
          5,
          6,
          7,
          8,
          9,
          10,
          11,
          12,
          13,
          14,
          15,
          16,
          17,
          18,
          19,
          20,
          21,
          22,
          23,
          24,
          25,
          26,
          27,
          28
         ],
         "y": [
          0,
          0,
          0,
          0,
          0,
          0,
          0,
          0,
          0,
          0,
          0,
          0,
          0,
          0,
          0,
          0,
          0,
          0,
          0,
          0,
          0,
          0,
          0,
          0,
          0,
          0,
          0,
          0,
          0,
          0,
          0,
          0,
          0,
          0,
          0,
          0,
          0,
          0,
          0,
          0,
          0,
          0,
          0,
          1,
          1,
          3,
          3,
          4,
          5,
          5,
          10,
          12,
          20,
          24,
          43,
          58,
          77,
          107,
          137,
          180,
          214,
          277,
          357,
          435,
          547,
          640,
          772,
          865,
          1040,
          1175,
          1341
         ]
        },
        {
         "hoverinfo": "text+y",
         "hoverlabel": {
          "bgcolor": "white",
          "bordercolor": "#286140",
          "font": {
           "color": "#286140"
          }
         },
         "hovertext": "Germany",
         "marker": {
          "color": "#286140"
         },
         "name": "Germany",
         "type": "scatter",
         "x": [
          -37,
          -36,
          -35,
          -34,
          -33,
          -32,
          -31,
          -30,
          -29,
          -28,
          -27,
          -26,
          -25,
          -24,
          -23,
          -22,
          -21,
          -20,
          -19,
          -18,
          -17,
          -16,
          -15,
          -14,
          -13,
          -12,
          -11,
          -10,
          -9,
          -8,
          -7,
          -6,
          -5,
          -4,
          -3,
          -2,
          -1,
          0,
          1,
          2,
          3,
          4,
          5,
          6,
          7,
          8,
          9,
          10,
          11,
          12,
          13,
          14,
          15,
          16,
          17,
          18,
          19,
          20,
          21,
          22,
          23,
          24,
          25,
          26,
          27,
          28,
          29,
          30,
          31,
          32,
          33
         ],
         "y": [
          0,
          0,
          0,
          0,
          1,
          4,
          4,
          4,
          5,
          8,
          10,
          12,
          12,
          12,
          12,
          13,
          13,
          14,
          14,
          16,
          16,
          16,
          16,
          16,
          16,
          16,
          16,
          16,
          16,
          16,
          16,
          16,
          16,
          17,
          27,
          46,
          48,
          79,
          130,
          159,
          196,
          262,
          482,
          670,
          799,
          1040,
          1176,
          1457,
          1908,
          2078,
          3675,
          4585,
          5795,
          7272,
          9257,
          12327,
          15320,
          19848,
          22213,
          24873,
          29056,
          32986,
          37323,
          43938,
          50871,
          57695,
          62095,
          66885,
          71808,
          77872,
          84794
         ]
        },
        {
         "hoverinfo": "text+y",
         "hoverlabel": {
          "bgcolor": "white",
          "bordercolor": "#286140",
          "font": {
           "color": "#286140"
          }
         },
         "hovertext": "Germany",
         "marker": {
          "color": "#286140"
         },
         "name": "Germany",
         "showlegend": false,
         "type": "scatter",
         "visible": false,
         "x": [
          -37,
          -36,
          -35,
          -34,
          -33,
          -32,
          -31,
          -30,
          -29,
          -28,
          -27,
          -26,
          -25,
          -24,
          -23,
          -22,
          -21,
          -20,
          -19,
          -18,
          -17,
          -16,
          -15,
          -14,
          -13,
          -12,
          -11,
          -10,
          -9,
          -8,
          -7,
          -6,
          -5,
          -4,
          -3,
          -2,
          -1,
          0,
          1,
          2,
          3,
          4,
          5,
          6,
          7,
          8,
          9,
          10,
          11,
          12,
          13,
          14,
          15,
          16,
          17,
          18,
          19,
          20,
          21,
          22,
          23,
          24,
          25,
          26,
          27,
          28,
          29,
          30,
          31,
          32,
          33
         ],
         "y": [
          0,
          0,
          0,
          0,
          0,
          0,
          0,
          0,
          0,
          0,
          0,
          0,
          0,
          0,
          0,
          0,
          0,
          0,
          0,
          0,
          0,
          0,
          0,
          0,
          0,
          0,
          0,
          0,
          0,
          0,
          0,
          0,
          0,
          0,
          0,
          0,
          0,
          0,
          0,
          0,
          0,
          0,
          0,
          0,
          0,
          0,
          2,
          2,
          3,
          3,
          7,
          9,
          11,
          17,
          24,
          28,
          44,
          67,
          84,
          94,
          123,
          157,
          206,
          267,
          342,
          433,
          533,
          645,
          775,
          920,
          1107
         ]
        },
        {
         "hoverinfo": "text+y",
         "hoverlabel": {
          "bgcolor": "white",
          "bordercolor": "#F1C400",
          "font": {
           "color": "#F1C400"
          }
         },
         "hovertext": "Belgium",
         "marker": {
          "color": "#F1C400"
         },
         "name": "Belgium",
         "type": "scatter",
         "x": [
          -42,
          -41,
          -40,
          -39,
          -38,
          -37,
          -36,
          -35,
          -34,
          -33,
          -32,
          -31,
          -30,
          -29,
          -28,
          -27,
          -26,
          -25,
          -24,
          -23,
          -22,
          -21,
          -20,
          -19,
          -18,
          -17,
          -16,
          -15,
          -14,
          -13,
          -12,
          -11,
          -10,
          -9,
          -8,
          -7,
          -6,
          -5,
          -4,
          -3,
          -2,
          -1,
          0,
          1,
          2,
          3,
          4,
          5,
          6,
          7,
          8,
          9,
          10,
          11,
          12,
          13,
          14,
          15,
          16,
          17,
          18,
          19,
          20,
          21,
          22,
          23,
          24,
          25,
          26,
          27,
          28
         ],
         "y": [
          0,
          0,
          0,
          0,
          0,
          0,
          0,
          0,
          0,
          0,
          0,
          0,
          1,
          1,
          1,
          1,
          1,
          1,
          1,
          1,
          1,
          1,
          1,
          1,
          1,
          1,
          1,
          1,
          1,
          1,
          1,
          1,
          1,
          1,
          1,
          1,
          1,
          1,
          2,
          8,
          13,
          23,
          50,
          109,
          169,
          200,
          239,
          267,
          314,
          314,
          559,
          689,
          886,
          1058,
          1243,
          1486,
          1795,
          2257,
          2815,
          3401,
          3743,
          4269,
          4937,
          6235,
          7284,
          9134,
          10836,
          11899,
          12775,
          13964,
          15348
         ]
        },
        {
         "hoverinfo": "text+y",
         "hoverlabel": {
          "bgcolor": "white",
          "bordercolor": "#F1C400",
          "font": {
           "color": "#F1C400"
          }
         },
         "hovertext": "Belgium",
         "marker": {
          "color": "#F1C400"
         },
         "name": "Belgium",
         "showlegend": false,
         "type": "scatter",
         "visible": false,
         "x": [
          -42,
          -41,
          -40,
          -39,
          -38,
          -37,
          -36,
          -35,
          -34,
          -33,
          -32,
          -31,
          -30,
          -29,
          -28,
          -27,
          -26,
          -25,
          -24,
          -23,
          -22,
          -21,
          -20,
          -19,
          -18,
          -17,
          -16,
          -15,
          -14,
          -13,
          -12,
          -11,
          -10,
          -9,
          -8,
          -7,
          -6,
          -5,
          -4,
          -3,
          -2,
          -1,
          0,
          1,
          2,
          3,
          4,
          5,
          6,
          7,
          8,
          9,
          10,
          11,
          12,
          13,
          14,
          15,
          16,
          17,
          18,
          19,
          20,
          21,
          22,
          23,
          24,
          25,
          26,
          27,
          28
         ],
         "y": [
          0,
          0,
          0,
          0,
          0,
          0,
          0,
          0,
          0,
          0,
          0,
          0,
          0,
          0,
          0,
          0,
          0,
          0,
          0,
          0,
          0,
          0,
          0,
          0,
          0,
          0,
          0,
          0,
          0,
          0,
          0,
          0,
          0,
          0,
          0,
          0,
          0,
          0,
          0,
          0,
          0,
          0,
          0,
          0,
          0,
          0,
          0,
          0,
          3,
          3,
          3,
          4,
          4,
          5,
          10,
          14,
          21,
          37,
          67,
          75,
          88,
          122,
          178,
          220,
          289,
          353,
          431,
          513,
          705,
          828,
          1011
         ]
        }
       ],
       "layout": {
        "annotations": [
         {
          "font": {
           "color": "#002D72",
           "family": "Gentona, Tahoma, sans-serif",
           "size": 24
          },
          "showarrow": false,
          "text": "Cases for the current 10 most affected countries",
          "x": 0.02,
          "xref": "paper",
          "y": 1.2,
          "yref": "paper"
         },
         {
          "font": {
           "color": "grey",
           "family": "Gentona, Tahoma, sans-serif",
           "size": 18
          },
          "showarrow": false,
          "text": "Time series by days since outbreak started",
          "x": 0.02,
          "xref": "paper",
          "y": 1.1,
          "yref": "paper"
         }
        ],
        "font": {
         "color": "dimgray",
         "family": "Gentona, Tahoma, sans-serif",
         "size": 12
        },
        "height": 500,
        "hovermode": "closest",
        "legend": {
         "x": 1.03,
         "y": 0.7
        },
        "template": {
         "data": {
          "bar": [
           {
            "error_x": {
             "color": "#2a3f5f"
            },
            "error_y": {
             "color": "#2a3f5f"
            },
            "marker": {
             "line": {
              "color": "#E5ECF6",
              "width": 0.5
             }
            },
            "type": "bar"
           }
          ],
          "barpolar": [
           {
            "marker": {
             "line": {
              "color": "#E5ECF6",
              "width": 0.5
             }
            },
            "type": "barpolar"
           }
          ],
          "carpet": [
           {
            "aaxis": {
             "endlinecolor": "#2a3f5f",
             "gridcolor": "white",
             "linecolor": "white",
             "minorgridcolor": "white",
             "startlinecolor": "#2a3f5f"
            },
            "baxis": {
             "endlinecolor": "#2a3f5f",
             "gridcolor": "white",
             "linecolor": "white",
             "minorgridcolor": "white",
             "startlinecolor": "#2a3f5f"
            },
            "type": "carpet"
           }
          ],
          "choropleth": [
           {
            "colorbar": {
             "outlinewidth": 0,
             "ticks": ""
            },
            "type": "choropleth"
           }
          ],
          "contour": [
           {
            "colorbar": {
             "outlinewidth": 0,
             "ticks": ""
            },
            "colorscale": [
             [
              0,
              "#0d0887"
             ],
             [
              0.1111111111111111,
              "#46039f"
             ],
             [
              0.2222222222222222,
              "#7201a8"
             ],
             [
              0.3333333333333333,
              "#9c179e"
             ],
             [
              0.4444444444444444,
              "#bd3786"
             ],
             [
              0.5555555555555556,
              "#d8576b"
             ],
             [
              0.6666666666666666,
              "#ed7953"
             ],
             [
              0.7777777777777778,
              "#fb9f3a"
             ],
             [
              0.8888888888888888,
              "#fdca26"
             ],
             [
              1,
              "#f0f921"
             ]
            ],
            "type": "contour"
           }
          ],
          "contourcarpet": [
           {
            "colorbar": {
             "outlinewidth": 0,
             "ticks": ""
            },
            "type": "contourcarpet"
           }
          ],
          "heatmap": [
           {
            "colorbar": {
             "outlinewidth": 0,
             "ticks": ""
            },
            "colorscale": [
             [
              0,
              "#0d0887"
             ],
             [
              0.1111111111111111,
              "#46039f"
             ],
             [
              0.2222222222222222,
              "#7201a8"
             ],
             [
              0.3333333333333333,
              "#9c179e"
             ],
             [
              0.4444444444444444,
              "#bd3786"
             ],
             [
              0.5555555555555556,
              "#d8576b"
             ],
             [
              0.6666666666666666,
              "#ed7953"
             ],
             [
              0.7777777777777778,
              "#fb9f3a"
             ],
             [
              0.8888888888888888,
              "#fdca26"
             ],
             [
              1,
              "#f0f921"
             ]
            ],
            "type": "heatmap"
           }
          ],
          "heatmapgl": [
           {
            "colorbar": {
             "outlinewidth": 0,
             "ticks": ""
            },
            "colorscale": [
             [
              0,
              "#0d0887"
             ],
             [
              0.1111111111111111,
              "#46039f"
             ],
             [
              0.2222222222222222,
              "#7201a8"
             ],
             [
              0.3333333333333333,
              "#9c179e"
             ],
             [
              0.4444444444444444,
              "#bd3786"
             ],
             [
              0.5555555555555556,
              "#d8576b"
             ],
             [
              0.6666666666666666,
              "#ed7953"
             ],
             [
              0.7777777777777778,
              "#fb9f3a"
             ],
             [
              0.8888888888888888,
              "#fdca26"
             ],
             [
              1,
              "#f0f921"
             ]
            ],
            "type": "heatmapgl"
           }
          ],
          "histogram": [
           {
            "marker": {
             "colorbar": {
              "outlinewidth": 0,
              "ticks": ""
             }
            },
            "type": "histogram"
           }
          ],
          "histogram2d": [
           {
            "colorbar": {
             "outlinewidth": 0,
             "ticks": ""
            },
            "colorscale": [
             [
              0,
              "#0d0887"
             ],
             [
              0.1111111111111111,
              "#46039f"
             ],
             [
              0.2222222222222222,
              "#7201a8"
             ],
             [
              0.3333333333333333,
              "#9c179e"
             ],
             [
              0.4444444444444444,
              "#bd3786"
             ],
             [
              0.5555555555555556,
              "#d8576b"
             ],
             [
              0.6666666666666666,
              "#ed7953"
             ],
             [
              0.7777777777777778,
              "#fb9f3a"
             ],
             [
              0.8888888888888888,
              "#fdca26"
             ],
             [
              1,
              "#f0f921"
             ]
            ],
            "type": "histogram2d"
           }
          ],
          "histogram2dcontour": [
           {
            "colorbar": {
             "outlinewidth": 0,
             "ticks": ""
            },
            "colorscale": [
             [
              0,
              "#0d0887"
             ],
             [
              0.1111111111111111,
              "#46039f"
             ],
             [
              0.2222222222222222,
              "#7201a8"
             ],
             [
              0.3333333333333333,
              "#9c179e"
             ],
             [
              0.4444444444444444,
              "#bd3786"
             ],
             [
              0.5555555555555556,
              "#d8576b"
             ],
             [
              0.6666666666666666,
              "#ed7953"
             ],
             [
              0.7777777777777778,
              "#fb9f3a"
             ],
             [
              0.8888888888888888,
              "#fdca26"
             ],
             [
              1,
              "#f0f921"
             ]
            ],
            "type": "histogram2dcontour"
           }
          ],
          "mesh3d": [
           {
            "colorbar": {
             "outlinewidth": 0,
             "ticks": ""
            },
            "type": "mesh3d"
           }
          ],
          "parcoords": [
           {
            "line": {
             "colorbar": {
              "outlinewidth": 0,
              "ticks": ""
             }
            },
            "type": "parcoords"
           }
          ],
          "pie": [
           {
            "automargin": true,
            "type": "pie"
           }
          ],
          "scatter": [
           {
            "marker": {
             "colorbar": {
              "outlinewidth": 0,
              "ticks": ""
             }
            },
            "type": "scatter"
           }
          ],
          "scatter3d": [
           {
            "line": {
             "colorbar": {
              "outlinewidth": 0,
              "ticks": ""
             }
            },
            "marker": {
             "colorbar": {
              "outlinewidth": 0,
              "ticks": ""
             }
            },
            "type": "scatter3d"
           }
          ],
          "scattercarpet": [
           {
            "marker": {
             "colorbar": {
              "outlinewidth": 0,
              "ticks": ""
             }
            },
            "type": "scattercarpet"
           }
          ],
          "scattergeo": [
           {
            "marker": {
             "colorbar": {
              "outlinewidth": 0,
              "ticks": ""
             }
            },
            "type": "scattergeo"
           }
          ],
          "scattergl": [
           {
            "marker": {
             "colorbar": {
              "outlinewidth": 0,
              "ticks": ""
             }
            },
            "type": "scattergl"
           }
          ],
          "scattermapbox": [
           {
            "marker": {
             "colorbar": {
              "outlinewidth": 0,
              "ticks": ""
             }
            },
            "type": "scattermapbox"
           }
          ],
          "scatterpolar": [
           {
            "marker": {
             "colorbar": {
              "outlinewidth": 0,
              "ticks": ""
             }
            },
            "type": "scatterpolar"
           }
          ],
          "scatterpolargl": [
           {
            "marker": {
             "colorbar": {
              "outlinewidth": 0,
              "ticks": ""
             }
            },
            "type": "scatterpolargl"
           }
          ],
          "scatterternary": [
           {
            "marker": {
             "colorbar": {
              "outlinewidth": 0,
              "ticks": ""
             }
            },
            "type": "scatterternary"
           }
          ],
          "surface": [
           {
            "colorbar": {
             "outlinewidth": 0,
             "ticks": ""
            },
            "colorscale": [
             [
              0,
              "#0d0887"
             ],
             [
              0.1111111111111111,
              "#46039f"
             ],
             [
              0.2222222222222222,
              "#7201a8"
             ],
             [
              0.3333333333333333,
              "#9c179e"
             ],
             [
              0.4444444444444444,
              "#bd3786"
             ],
             [
              0.5555555555555556,
              "#d8576b"
             ],
             [
              0.6666666666666666,
              "#ed7953"
             ],
             [
              0.7777777777777778,
              "#fb9f3a"
             ],
             [
              0.8888888888888888,
              "#fdca26"
             ],
             [
              1,
              "#f0f921"
             ]
            ],
            "type": "surface"
           }
          ],
          "table": [
           {
            "cells": {
             "fill": {
              "color": "#EBF0F8"
             },
             "line": {
              "color": "white"
             }
            },
            "header": {
             "fill": {
              "color": "#C8D4E3"
             },
             "line": {
              "color": "white"
             }
            },
            "type": "table"
           }
          ]
         },
         "layout": {
          "annotationdefaults": {
           "arrowcolor": "#2a3f5f",
           "arrowhead": 0,
           "arrowwidth": 1
          },
          "coloraxis": {
           "colorbar": {
            "outlinewidth": 0,
            "ticks": ""
           }
          },
          "colorscale": {
           "diverging": [
            [
             0,
             "#8e0152"
            ],
            [
             0.1,
             "#c51b7d"
            ],
            [
             0.2,
             "#de77ae"
            ],
            [
             0.3,
             "#f1b6da"
            ],
            [
             0.4,
             "#fde0ef"
            ],
            [
             0.5,
             "#f7f7f7"
            ],
            [
             0.6,
             "#e6f5d0"
            ],
            [
             0.7,
             "#b8e186"
            ],
            [
             0.8,
             "#7fbc41"
            ],
            [
             0.9,
             "#4d9221"
            ],
            [
             1,
             "#276419"
            ]
           ],
           "sequential": [
            [
             0,
             "#0d0887"
            ],
            [
             0.1111111111111111,
             "#46039f"
            ],
            [
             0.2222222222222222,
             "#7201a8"
            ],
            [
             0.3333333333333333,
             "#9c179e"
            ],
            [
             0.4444444444444444,
             "#bd3786"
            ],
            [
             0.5555555555555556,
             "#d8576b"
            ],
            [
             0.6666666666666666,
             "#ed7953"
            ],
            [
             0.7777777777777778,
             "#fb9f3a"
            ],
            [
             0.8888888888888888,
             "#fdca26"
            ],
            [
             1,
             "#f0f921"
            ]
           ],
           "sequentialminus": [
            [
             0,
             "#0d0887"
            ],
            [
             0.1111111111111111,
             "#46039f"
            ],
            [
             0.2222222222222222,
             "#7201a8"
            ],
            [
             0.3333333333333333,
             "#9c179e"
            ],
            [
             0.4444444444444444,
             "#bd3786"
            ],
            [
             0.5555555555555556,
             "#d8576b"
            ],
            [
             0.6666666666666666,
             "#ed7953"
            ],
            [
             0.7777777777777778,
             "#fb9f3a"
            ],
            [
             0.8888888888888888,
             "#fdca26"
            ],
            [
             1,
             "#f0f921"
            ]
           ]
          },
          "colorway": [
           "#636efa",
           "#EF553B",
           "#00cc96",
           "#ab63fa",
           "#FFA15A",
           "#19d3f3",
           "#FF6692",
           "#B6E880",
           "#FF97FF",
           "#FECB52"
          ],
          "font": {
           "color": "#2a3f5f"
          },
          "geo": {
           "bgcolor": "white",
           "lakecolor": "white",
           "landcolor": "#E5ECF6",
           "showlakes": true,
           "showland": true,
           "subunitcolor": "white"
          },
          "hoverlabel": {
           "align": "left"
          },
          "hovermode": "closest",
          "mapbox": {
           "style": "light"
          },
          "paper_bgcolor": "white",
          "plot_bgcolor": "#E5ECF6",
          "polar": {
           "angularaxis": {
            "gridcolor": "white",
            "linecolor": "white",
            "ticks": ""
           },
           "bgcolor": "#E5ECF6",
           "radialaxis": {
            "gridcolor": "white",
            "linecolor": "white",
            "ticks": ""
           }
          },
          "scene": {
           "xaxis": {
            "backgroundcolor": "#E5ECF6",
            "gridcolor": "white",
            "gridwidth": 2,
            "linecolor": "white",
            "showbackground": true,
            "ticks": "",
            "zerolinecolor": "white"
           },
           "yaxis": {
            "backgroundcolor": "#E5ECF6",
            "gridcolor": "white",
            "gridwidth": 2,
            "linecolor": "white",
            "showbackground": true,
            "ticks": "",
            "zerolinecolor": "white"
           },
           "zaxis": {
            "backgroundcolor": "#E5ECF6",
            "gridcolor": "white",
            "gridwidth": 2,
            "linecolor": "white",
            "showbackground": true,
            "ticks": "",
            "zerolinecolor": "white"
           }
          },
          "shapedefaults": {
           "line": {
            "color": "#2a3f5f"
           }
          },
          "ternary": {
           "aaxis": {
            "gridcolor": "white",
            "linecolor": "white",
            "ticks": ""
           },
           "baxis": {
            "gridcolor": "white",
            "linecolor": "white",
            "ticks": ""
           },
           "bgcolor": "#E5ECF6",
           "caxis": {
            "gridcolor": "white",
            "linecolor": "white",
            "ticks": ""
           }
          },
          "title": {
           "x": 0.05
          },
          "xaxis": {
           "automargin": true,
           "gridcolor": "white",
           "linecolor": "white",
           "ticks": "",
           "title": {
            "standoff": 15
           },
           "zerolinecolor": "white",
           "zerolinewidth": 2
          },
          "yaxis": {
           "automargin": true,
           "gridcolor": "white",
           "linecolor": "white",
           "ticks": "",
           "title": {
            "standoff": 15
           },
           "zerolinecolor": "white",
           "zerolinewidth": 2
          }
         }
        },
        "updatemenus": [
         {
          "buttons": [
           {
            "args": [
             "yaxis.type",
             "linear"
            ],
            "label": "Linear",
            "method": "relayout"
           },
           {
            "args": [
             "yaxis.type",
             "log"
            ],
            "label": "Logarithmic",
            "method": "relayout"
           }
          ],
          "direction": "down",
          "pad": {
           "r": 10,
           "t": 10
          },
          "showactive": true,
          "x": 1.025,
          "xanchor": "left",
          "y": 1,
          "yanchor": "top"
         },
         {
          "buttons": [
           {
            "args": [
             {
              "showlegend": true,
              "visible": [
               true,
               false,
               true,
               false,
               true,
               false,
               true,
               false,
               true,
               false,
               true,
               false,
               true,
               false,
               true,
               false,
               true,
               false,
               true,
               false
              ]
             }
            ],
            "label": "Confirmed   ",
            "method": "restyle"
           },
           {
            "args": [
             {
              "showlegend": true,
              "visible": [
               false,
               true,
               false,
               true,
               false,
               true,
               false,
               true,
               false,
               true,
               false,
               true,
               false,
               true,
               false,
               true,
               false,
               true,
               false,
               true
              ]
             }
            ],
            "label": "Deaths",
            "method": "restyle"
           }
          ],
          "direction": "down",
          "pad": {
           "r": 10,
           "t": 10
          },
          "showactive": true,
          "x": 1.025,
          "xanchor": "left",
          "y": 0.88,
          "yanchor": "top"
         }
        ],
        "width": 800,
        "xaxis": {
         "nticks": 10,
         "rangemode": "nonnegative",
         "showgrid": false,
         "title": {
          "text": "Days since 50th case confirmed"
         },
         "zeroline": false
        },
        "yaxis": {
         "title": {
          "text": "Number of Cases"
         },
         "type": "linear"
        }
       }
      },
      "text/html": [
       "<div>\n",
       "        \n",
       "        \n",
       "            <div id=\"95e39334-7203-4322-9d44-fc58acc1ddf9\" class=\"plotly-graph-div\" style=\"height:500px; width:800px;\"></div>\n",
       "            <script type=\"text/javascript\">\n",
       "                require([\"plotly\"], function(Plotly) {\n",
       "                    window.PLOTLYENV=window.PLOTLYENV || {};\n",
       "                    \n",
       "                if (document.getElementById(\"95e39334-7203-4322-9d44-fc58acc1ddf9\")) {\n",
       "                    Plotly.newPlot(\n",
       "                        '95e39334-7203-4322-9d44-fc58acc1ddf9',\n",
       "                        [{\"hoverinfo\": \"text+y\", \"hoverlabel\": {\"bgcolor\": \"white\", \"bordercolor\": \"#719949\", \"font\": {\"color\": \"#719949\"}}, \"hovertext\": \"Italy\", \"marker\": {\"color\": \"#719949\"}, \"name\": \"Italy\", \"type\": \"scatter\", \"x\": [-30, -29, -28, -27, -26, -25, -24, -23, -22, -21, -20, -19, -18, -17, -16, -15, -14, -13, -12, -11, -10, -9, -8, -7, -6, -5, -4, -3, -2, -1, 0, 1, 2, 3, 4, 5, 6, 7, 8, 9, 10, 11, 12, 13, 14, 15, 16, 17, 18, 19, 20, 21, 22, 23, 24, 25, 26, 27, 28, 29, 30, 31, 32, 33, 34, 35, 36, 37, 38, 39, 40], \"y\": [0, 0, 0, 0, 0, 0, 0, 0, 2, 2, 2, 2, 2, 2, 2, 3, 3, 3, 3, 3, 3, 3, 3, 3, 3, 3, 3, 3, 3, 20, 62, 155, 229, 322, 453, 655, 888, 1128, 1694, 2036, 2502, 3089, 3858, 4636, 5883, 7375, 9172, 10149, 12462, 12462, 17660, 21157, 24747, 27980, 31506, 35713, 41035, 47021, 53578, 59138, 63927, 69176, 74386, 80589, 86498, 92472, 97689, 101739, 105792, 110574, 115242]}, {\"hoverinfo\": \"text+y\", \"hoverlabel\": {\"bgcolor\": \"white\", \"bordercolor\": \"#719949\", \"font\": {\"color\": \"#719949\"}}, \"hovertext\": \"Italy\", \"marker\": {\"color\": \"#719949\"}, \"name\": \"Italy\", \"showlegend\": false, \"type\": \"scatter\", \"visible\": false, \"x\": [-30, -29, -28, -27, -26, -25, -24, -23, -22, -21, -20, -19, -18, -17, -16, -15, -14, -13, -12, -11, -10, -9, -8, -7, -6, -5, -4, -3, -2, -1, 0, 1, 2, 3, 4, 5, 6, 7, 8, 9, 10, 11, 12, 13, 14, 15, 16, 17, 18, 19, 20, 21, 22, 23, 24, 25, 26, 27, 28, 29, 30, 31, 32, 33, 34, 35, 36, 37, 38, 39, 40], \"y\": [0, 0, 0, 0, 0, 0, 0, 0, 0, 0, 0, 0, 0, 0, 0, 0, 0, 0, 0, 0, 0, 0, 0, 0, 0, 0, 0, 0, 0, 1, 2, 3, 7, 10, 12, 17, 21, 29, 34, 52, 79, 107, 148, 197, 233, 366, 463, 631, 827, 827, 1266, 1441, 1809, 2158, 2503, 2978, 3405, 4032, 4825, 5476, 6077, 6820, 7503, 8215, 9134, 10023, 10779, 11591, 12428, 13155, 13915]}, {\"hoverinfo\": \"text+y\", \"hoverlabel\": {\"bgcolor\": \"white\", \"bordercolor\": \"#FF6900\", \"font\": {\"color\": \"#FF6900\"}}, \"hovertext\": \"Spain\", \"marker\": {\"color\": \"#FF6900\"}, \"name\": \"Spain\", \"type\": \"scatter\", \"x\": [-38, -37, -36, -35, -34, -33, -32, -31, -30, -29, -28, -27, -26, -25, -24, -23, -22, -21, -20, -19, -18, -17, -16, -15, -14, -13, -12, -11, -10, -9, -8, -7, -6, -5, -4, -3, -2, -1, 0, 1, 2, 3, 4, 5, 6, 7, 8, 9, 10, 11, 12, 13, 14, 15, 16, 17, 18, 19, 20, 21, 22, 23, 24, 25, 26, 27, 28, 29, 30, 31, 32], \"y\": [0, 0, 0, 0, 0, 0, 0, 0, 0, 1, 1, 1, 1, 1, 1, 1, 1, 2, 2, 2, 2, 2, 2, 2, 2, 2, 2, 2, 2, 2, 2, 2, 2, 6, 13, 15, 32, 45, 84, 120, 165, 222, 259, 400, 500, 673, 1073, 1695, 2277, 2277, 5232, 6391, 7798, 9942, 11748, 13910, 17963, 20410, 25374, 28768, 35136, 39885, 49515, 57786, 65719, 73235, 80110, 87956, 95923, 104118, 112065]}, {\"hoverinfo\": \"text+y\", \"hoverlabel\": {\"bgcolor\": \"white\", \"bordercolor\": \"#FF6900\", \"font\": {\"color\": \"#FF6900\"}}, \"hovertext\": \"Spain\", \"marker\": {\"color\": \"#FF6900\"}, \"name\": \"Spain\", \"showlegend\": false, \"type\": \"scatter\", \"visible\": false, \"x\": [-38, -37, -36, -35, -34, -33, -32, -31, -30, -29, -28, -27, -26, -25, -24, -23, -22, -21, -20, -19, -18, -17, -16, -15, -14, -13, -12, -11, -10, -9, -8, -7, -6, -5, -4, -3, -2, -1, 0, 1, 2, 3, 4, 5, 6, 7, 8, 9, 10, 11, 12, 13, 14, 15, 16, 17, 18, 19, 20, 21, 22, 23, 24, 25, 26, 27, 28, 29, 30, 31, 32], \"y\": [0, 0, 0, 0, 0, 0, 0, 0, 0, 0, 0, 0, 0, 0, 0, 0, 0, 0, 0, 0, 0, 0, 0, 0, 0, 0, 0, 0, 0, 0, 0, 0, 0, 0, 0, 0, 0, 0, 0, 0, 1, 2, 3, 5, 10, 17, 28, 35, 54, 55, 133, 195, 289, 342, 533, 623, 830, 1043, 1375, 1772, 2311, 2808, 3647, 4365, 5138, 5982, 6803, 7716, 8464, 9387, 10348]}, {\"hoverinfo\": \"text+y\", \"hoverlabel\": {\"bgcolor\": \"white\", \"bordercolor\": \"#E8927C\", \"font\": {\"color\": \"#E8927C\"}}, \"hovertext\": \"US\", \"marker\": {\"color\": \"#E8927C\"}, \"name\": \"US\", \"type\": \"scatter\", \"x\": [-32, -31, -30, -29, -28, -27, -26, -25, -24, -23, -22, -21, -20, -19, -18, -17, -16, -15, -14, -13, -12, -11, -10, -9, -8, -7, -6, -5, -4, -3, -2, -1, 0, 1, 2, 3, 4, 5, 6, 7, 8, 9, 10, 11, 12, 13, 14, 15, 16, 17, 18, 19, 20, 21, 22, 23, 24, 25, 26, 27, 28, 29, 30, 31, 32, 33, 34, 35, 36, 37, 38], \"y\": [1, 2, 2, 5, 5, 5, 5, 5, 7, 8, 8, 11, 11, 11, 11, 11, 11, 11, 11, 12, 12, 13, 13, 13, 13, 13, 13, 13, 13, 15, 15, 15, 51, 51, 57, 58, 60, 68, 74, 98, 118, 149, 217, 262, 402, 518, 583, 959, 1281, 1663, 2179, 2727, 3499, 4632, 6421, 7783, 13677, 19100, 25489, 33276, 43847, 53740, 65778, 83836, 101657, 121478, 140886, 161807, 188172, 213372, 243453]}, {\"hoverinfo\": \"text+y\", \"hoverlabel\": {\"bgcolor\": \"white\", \"bordercolor\": \"#E8927C\", \"font\": {\"color\": \"#E8927C\"}}, \"hovertext\": \"US\", \"marker\": {\"color\": \"#E8927C\"}, \"name\": \"US\", \"showlegend\": false, \"type\": \"scatter\", \"visible\": false, \"x\": [-32, -31, -30, -29, -28, -27, -26, -25, -24, -23, -22, -21, -20, -19, -18, -17, -16, -15, -14, -13, -12, -11, -10, -9, -8, -7, -6, -5, -4, -3, -2, -1, 0, 1, 2, 3, 4, 5, 6, 7, 8, 9, 10, 11, 12, 13, 14, 15, 16, 17, 18, 19, 20, 21, 22, 23, 24, 25, 26, 27, 28, 29, 30, 31, 32, 33, 34, 35, 36, 37, 38], \"y\": [0, 0, 0, 0, 0, 0, 0, 0, 0, 0, 0, 0, 0, 0, 0, 0, 0, 0, 0, 0, 0, 0, 0, 0, 0, 0, 0, 0, 0, 0, 0, 0, 0, 0, 0, 0, 0, 1, 1, 6, 7, 11, 12, 14, 17, 21, 22, 28, 36, 40, 47, 54, 63, 85, 108, 118, 200, 244, 307, 417, 557, 706, 942, 1209, 1581, 2026, 2467, 2978, 3873, 4757, 5926]}, {\"hoverinfo\": \"text+y\", \"hoverlabel\": {\"bgcolor\": \"white\", \"bordercolor\": \"#A6192E\", \"font\": {\"color\": \"#A6192E\"}}, \"hovertext\": \"France\", \"marker\": {\"color\": \"#A6192E\"}, \"name\": \"France\", \"type\": \"scatter\", \"x\": [-36, -35, -34, -33, -32, -31, -30, -29, -28, -27, -26, -25, -24, -23, -22, -21, -20, -19, -18, -17, -16, -15, -14, -13, -12, -11, -10, -9, -8, -7, -6, -5, -4, -3, -2, -1, 0, 1, 2, 3, 4, 5, 6, 7, 8, 9, 10, 11, 12, 13, 14, 15, 16, 17, 18, 19, 20, 21, 22, 23, 24, 25, 26, 27, 28, 29, 30, 31, 32, 33, 34], \"y\": [0, 2, 3, 3, 3, 4, 5, 5, 5, 6, 6, 6, 6, 6, 6, 6, 11, 11, 11, 11, 11, 11, 11, 12, 12, 12, 12, 12, 12, 12, 12, 12, 12, 14, 18, 38, 57, 100, 130, 191, 204, 288, 380, 656, 959, 1136, 1219, 1794, 2293, 2293, 3681, 4496, 4532, 6683, 7715, 9124, 10970, 12758, 14463, 16243, 20123, 22622, 25600, 29551, 33402, 38105, 40708, 45170, 52827, 57749, 59929]}, {\"hoverinfo\": \"text+y\", \"hoverlabel\": {\"bgcolor\": \"white\", \"bordercolor\": \"#A6192E\", \"font\": {\"color\": \"#A6192E\"}}, \"hovertext\": \"France\", \"marker\": {\"color\": \"#A6192E\"}, \"name\": \"France\", \"showlegend\": false, \"type\": \"scatter\", \"visible\": false, \"x\": [-36, -35, -34, -33, -32, -31, -30, -29, -28, -27, -26, -25, -24, -23, -22, -21, -20, -19, -18, -17, -16, -15, -14, -13, -12, -11, -10, -9, -8, -7, -6, -5, -4, -3, -2, -1, 0, 1, 2, 3, 4, 5, 6, 7, 8, 9, 10, 11, 12, 13, 14, 15, 16, 17, 18, 19, 20, 21, 22, 23, 24, 25, 26, 27, 28, 29, 30, 31, 32, 33, 34], \"y\": [0, 0, 0, 0, 0, 0, 0, 0, 0, 0, 0, 0, 0, 0, 0, 0, 0, 0, 0, 0, 0, 0, 0, 1, 1, 1, 1, 1, 1, 1, 1, 1, 1, 1, 2, 2, 2, 2, 2, 3, 4, 4, 6, 9, 11, 19, 19, 33, 48, 48, 79, 91, 91, 149, 149, 149, 244, 451, 563, 676, 862, 1102, 1333, 1698, 1997, 2317, 2611, 3030, 3532, 4043, 5398]}, {\"hoverinfo\": \"text+y\", \"hoverlabel\": {\"bgcolor\": \"white\", \"bordercolor\": \"#51284F\", \"font\": {\"color\": \"#51284F\"}}, \"hovertext\": \"China\", \"marker\": {\"color\": \"#51284F\"}, \"name\": \"China\", \"type\": \"scatter\", \"x\": [0, 1, 2, 3, 4, 5, 6, 7, 8, 9, 10, 11, 12, 13, 14, 15, 16, 17, 18, 19, 20, 21, 22, 23, 24, 25, 26, 27, 28, 29, 30, 31, 32, 33, 34, 35, 36, 37, 38, 39, 40, 41, 42, 43, 44, 45, 46, 47, 48, 49, 50, 51, 52, 53, 54, 55, 56, 57, 58, 59, 60, 61, 62, 63, 64, 65, 66, 67, 68, 69, 70], \"y\": [643, 920, 1406, 2075, 2877, 5509, 6087, 8141, 9802, 11891, 16630, 19716, 23707, 27440, 30587, 34110, 36814, 39829, 42354, 44386, 44759, 59895, 66358, 68413, 70513, 72434, 74211, 74619, 75077, 75550, 77001, 77022, 77241, 77754, 78166, 78600, 78928, 79356, 79932, 80136, 80261, 80386, 80537, 80690, 80770, 80823, 80860, 80887, 80921, 80932, 80945, 80977, 81003, 81033, 81058, 81102, 81156, 81250, 81305, 81435, 81498, 81591, 81661, 81782, 81897, 81999, 82122, 82198, 82279, 82361, 82432]}, {\"hoverinfo\": \"text+y\", \"hoverlabel\": {\"bgcolor\": \"white\", \"bordercolor\": \"#51284F\", \"font\": {\"color\": \"#51284F\"}}, \"hovertext\": \"China\", \"marker\": {\"color\": \"#51284F\"}, \"name\": \"China\", \"showlegend\": false, \"type\": \"scatter\", \"visible\": false, \"x\": [0, 1, 2, 3, 4, 5, 6, 7, 8, 9, 10, 11, 12, 13, 14, 15, 16, 17, 18, 19, 20, 21, 22, 23, 24, 25, 26, 27, 28, 29, 30, 31, 32, 33, 34, 35, 36, 37, 38, 39, 40, 41, 42, 43, 44, 45, 46, 47, 48, 49, 50, 51, 52, 53, 54, 55, 56, 57, 58, 59, 60, 61, 62, 63, 64, 65, 66, 67, 68, 69, 70], \"y\": [18, 26, 42, 56, 82, 131, 133, 171, 213, 259, 361, 425, 491, 563, 633, 718, 805, 905, 1012, 1112, 1117, 1369, 1521, 1663, 1766, 1864, 2003, 2116, 2238, 2238, 2443, 2445, 2595, 2665, 2717, 2746, 2790, 2837, 2872, 2914, 2947, 2983, 3015, 3044, 3072, 3100, 3123, 3139, 3161, 3172, 3180, 3193, 3203, 3217, 3230, 3241, 3249, 3253, 3259, 3274, 3274, 3281, 3285, 3291, 3296, 3299, 3304, 3308, 3309, 3316, 3322]}, {\"hoverinfo\": \"text+y\", \"hoverlabel\": {\"bgcolor\": \"white\", \"bordercolor\": \"#A192B2\", \"font\": {\"color\": \"#A192B2\"}}, \"hovertext\": \"Iran\", \"marker\": {\"color\": \"#A192B2\"}, \"name\": \"Iran\", \"type\": \"scatter\", \"x\": [-32, -31, -30, -29, -28, -27, -26, -25, -24, -23, -22, -21, -20, -19, -18, -17, -16, -15, -14, -13, -12, -11, -10, -9, -8, -7, -6, -5, -4, -3, -2, -1, 0, 1, 2, 3, 4, 5, 6, 7, 8, 9, 10, 11, 12, 13, 14, 15, 16, 17, 18, 19, 20, 21, 22, 23, 24, 25, 26, 27, 28, 29, 30, 31, 32, 33, 34, 35, 36, 37, 38], \"y\": [0, 0, 0, 0, 0, 0, 0, 0, 0, 0, 0, 0, 0, 0, 0, 0, 0, 0, 0, 0, 0, 0, 0, 0, 0, 0, 0, 2, 5, 18, 28, 43, 61, 95, 139, 245, 388, 593, 978, 1501, 2336, 2922, 3513, 4747, 5823, 6566, 7161, 8042, 9000, 10075, 11364, 12729, 13938, 14991, 16169, 17361, 18407, 19644, 20610, 21638, 23049, 24811, 27017, 29406, 32332, 35408, 38309, 41495, 44605, 47593, 50468]}, {\"hoverinfo\": \"text+y\", \"hoverlabel\": {\"bgcolor\": \"white\", \"bordercolor\": \"#A192B2\", \"font\": {\"color\": \"#A192B2\"}}, \"hovertext\": \"Iran\", \"marker\": {\"color\": \"#A192B2\"}, \"name\": \"Iran\", \"showlegend\": false, \"type\": \"scatter\", \"visible\": false, \"x\": [-32, -31, -30, -29, -28, -27, -26, -25, -24, -23, -22, -21, -20, -19, -18, -17, -16, -15, -14, -13, -12, -11, -10, -9, -8, -7, -6, -5, -4, -3, -2, -1, 0, 1, 2, 3, 4, 5, 6, 7, 8, 9, 10, 11, 12, 13, 14, 15, 16, 17, 18, 19, 20, 21, 22, 23, 24, 25, 26, 27, 28, 29, 30, 31, 32, 33, 34, 35, 36, 37, 38], \"y\": [0, 0, 0, 0, 0, 0, 0, 0, 0, 0, 0, 0, 0, 0, 0, 0, 0, 0, 0, 0, 0, 0, 0, 0, 0, 0, 0, 2, 2, 4, 5, 8, 12, 16, 19, 26, 34, 43, 54, 66, 77, 92, 107, 124, 145, 194, 237, 291, 354, 429, 514, 611, 724, 853, 988, 1135, 1284, 1433, 1556, 1685, 1812, 1934, 2077, 2234, 2378, 2517, 2640, 2757, 2898, 3036, 3160]}, {\"hoverinfo\": \"text+y\", \"hoverlabel\": {\"bgcolor\": \"white\", \"bordercolor\": \"#418FDE\", \"font\": {\"color\": \"#418FDE\"}}, \"hovertext\": \"United Kingdom\", \"marker\": {\"color\": \"#418FDE\"}, \"name\": \"United Kingdom\", \"type\": \"scatter\", \"x\": [-40, -39, -38, -37, -36, -35, -34, -33, -32, -31, -30, -29, -28, -27, -26, -25, -24, -23, -22, -21, -20, -19, -18, -17, -16, -15, -14, -13, -12, -11, -10, -9, -8, -7, -6, -5, -4, -3, -2, -1, 0, 1, 2, 3, 4, 5, 6, 7, 8, 9, 10, 11, 12, 13, 14, 15, 16, 17, 18, 19, 20, 21, 22, 23, 24, 25, 26, 27, 28, 29, 30], \"y\": [0, 0, 0, 0, 0, 0, 0, 0, 2, 2, 2, 2, 2, 2, 2, 3, 3, 3, 8, 8, 9, 9, 9, 9, 9, 9, 9, 9, 9, 9, 9, 9, 13, 13, 13, 15, 20, 23, 36, 40, 51, 86, 116, 164, 207, 274, 322, 384, 459, 459, 802, 1144, 1145, 1551, 1960, 2642, 2716, 4014, 5067, 5745, 6726, 8164, 9640, 11812, 14745, 17312, 19780, 22453, 25481, 29865, 34173]}, {\"hoverinfo\": \"text+y\", \"hoverlabel\": {\"bgcolor\": \"white\", \"bordercolor\": \"#418FDE\", \"font\": {\"color\": \"#418FDE\"}}, \"hovertext\": \"United Kingdom\", \"marker\": {\"color\": \"#418FDE\"}, \"name\": \"United Kingdom\", \"showlegend\": false, \"type\": \"scatter\", \"visible\": false, \"x\": [-40, -39, -38, -37, -36, -35, -34, -33, -32, -31, -30, -29, -28, -27, -26, -25, -24, -23, -22, -21, -20, -19, -18, -17, -16, -15, -14, -13, -12, -11, -10, -9, -8, -7, -6, -5, -4, -3, -2, -1, 0, 1, 2, 3, 4, 5, 6, 7, 8, 9, 10, 11, 12, 13, 14, 15, 16, 17, 18, 19, 20, 21, 22, 23, 24, 25, 26, 27, 28, 29, 30], \"y\": [0, 0, 0, 0, 0, 0, 0, 0, 0, 0, 0, 0, 0, 0, 0, 0, 0, 0, 0, 0, 0, 0, 0, 0, 0, 0, 0, 0, 0, 0, 0, 0, 0, 0, 0, 0, 0, 0, 0, 0, 0, 0, 1, 2, 2, 3, 4, 6, 8, 8, 8, 21, 21, 56, 56, 72, 138, 178, 234, 282, 336, 423, 466, 580, 761, 1021, 1231, 1411, 1793, 2357, 2926]}, {\"hoverinfo\": \"text+y\", \"hoverlabel\": {\"bgcolor\": \"white\", \"bordercolor\": \"#86C8BC\", \"font\": {\"color\": \"#86C8BC\"}}, \"hovertext\": \"Netherlands\", \"marker\": {\"color\": \"#86C8BC\"}, \"name\": \"Netherlands\", \"type\": \"scatter\", \"x\": [-42, -41, -40, -39, -38, -37, -36, -35, -34, -33, -32, -31, -30, -29, -28, -27, -26, -25, -24, -23, -22, -21, -20, -19, -18, -17, -16, -15, -14, -13, -12, -11, -10, -9, -8, -7, -6, -5, -4, -3, -2, -1, 0, 1, 2, 3, 4, 5, 6, 7, 8, 9, 10, 11, 12, 13, 14, 15, 16, 17, 18, 19, 20, 21, 22, 23, 24, 25, 26, 27, 28], \"y\": [0, 0, 0, 0, 0, 0, 0, 0, 0, 0, 0, 0, 0, 0, 0, 0, 0, 0, 0, 0, 0, 0, 0, 0, 0, 0, 0, 0, 0, 0, 0, 0, 0, 0, 0, 1, 1, 6, 10, 18, 24, 38, 82, 128, 188, 265, 321, 382, 503, 503, 806, 962, 1138, 1416, 1711, 2058, 2467, 3003, 3640, 4217, 4764, 5580, 6438, 7468, 8647, 9819, 10930, 11817, 12667, 13696, 14788]}, {\"hoverinfo\": \"text+y\", \"hoverlabel\": {\"bgcolor\": \"white\", \"bordercolor\": \"#86C8BC\", \"font\": {\"color\": \"#86C8BC\"}}, \"hovertext\": \"Netherlands\", \"marker\": {\"color\": \"#86C8BC\"}, \"name\": \"Netherlands\", \"showlegend\": false, \"type\": \"scatter\", \"visible\": false, \"x\": [-42, -41, -40, -39, -38, -37, -36, -35, -34, -33, -32, -31, -30, -29, -28, -27, -26, -25, -24, -23, -22, -21, -20, -19, -18, -17, -16, -15, -14, -13, -12, -11, -10, -9, -8, -7, -6, -5, -4, -3, -2, -1, 0, 1, 2, 3, 4, 5, 6, 7, 8, 9, 10, 11, 12, 13, 14, 15, 16, 17, 18, 19, 20, 21, 22, 23, 24, 25, 26, 27, 28], \"y\": [0, 0, 0, 0, 0, 0, 0, 0, 0, 0, 0, 0, 0, 0, 0, 0, 0, 0, 0, 0, 0, 0, 0, 0, 0, 0, 0, 0, 0, 0, 0, 0, 0, 0, 0, 0, 0, 0, 0, 0, 0, 0, 0, 1, 1, 3, 3, 4, 5, 5, 10, 12, 20, 24, 43, 58, 77, 107, 137, 180, 214, 277, 357, 435, 547, 640, 772, 865, 1040, 1175, 1341]}, {\"hoverinfo\": \"text+y\", \"hoverlabel\": {\"bgcolor\": \"white\", \"bordercolor\": \"#286140\", \"font\": {\"color\": \"#286140\"}}, \"hovertext\": \"Germany\", \"marker\": {\"color\": \"#286140\"}, \"name\": \"Germany\", \"type\": \"scatter\", \"x\": [-37, -36, -35, -34, -33, -32, -31, -30, -29, -28, -27, -26, -25, -24, -23, -22, -21, -20, -19, -18, -17, -16, -15, -14, -13, -12, -11, -10, -9, -8, -7, -6, -5, -4, -3, -2, -1, 0, 1, 2, 3, 4, 5, 6, 7, 8, 9, 10, 11, 12, 13, 14, 15, 16, 17, 18, 19, 20, 21, 22, 23, 24, 25, 26, 27, 28, 29, 30, 31, 32, 33], \"y\": [0, 0, 0, 0, 1, 4, 4, 4, 5, 8, 10, 12, 12, 12, 12, 13, 13, 14, 14, 16, 16, 16, 16, 16, 16, 16, 16, 16, 16, 16, 16, 16, 16, 17, 27, 46, 48, 79, 130, 159, 196, 262, 482, 670, 799, 1040, 1176, 1457, 1908, 2078, 3675, 4585, 5795, 7272, 9257, 12327, 15320, 19848, 22213, 24873, 29056, 32986, 37323, 43938, 50871, 57695, 62095, 66885, 71808, 77872, 84794]}, {\"hoverinfo\": \"text+y\", \"hoverlabel\": {\"bgcolor\": \"white\", \"bordercolor\": \"#286140\", \"font\": {\"color\": \"#286140\"}}, \"hovertext\": \"Germany\", \"marker\": {\"color\": \"#286140\"}, \"name\": \"Germany\", \"showlegend\": false, \"type\": \"scatter\", \"visible\": false, \"x\": [-37, -36, -35, -34, -33, -32, -31, -30, -29, -28, -27, -26, -25, -24, -23, -22, -21, -20, -19, -18, -17, -16, -15, -14, -13, -12, -11, -10, -9, -8, -7, -6, -5, -4, -3, -2, -1, 0, 1, 2, 3, 4, 5, 6, 7, 8, 9, 10, 11, 12, 13, 14, 15, 16, 17, 18, 19, 20, 21, 22, 23, 24, 25, 26, 27, 28, 29, 30, 31, 32, 33], \"y\": [0, 0, 0, 0, 0, 0, 0, 0, 0, 0, 0, 0, 0, 0, 0, 0, 0, 0, 0, 0, 0, 0, 0, 0, 0, 0, 0, 0, 0, 0, 0, 0, 0, 0, 0, 0, 0, 0, 0, 0, 0, 0, 0, 0, 0, 0, 2, 2, 3, 3, 7, 9, 11, 17, 24, 28, 44, 67, 84, 94, 123, 157, 206, 267, 342, 433, 533, 645, 775, 920, 1107]}, {\"hoverinfo\": \"text+y\", \"hoverlabel\": {\"bgcolor\": \"white\", \"bordercolor\": \"#F1C400\", \"font\": {\"color\": \"#F1C400\"}}, \"hovertext\": \"Belgium\", \"marker\": {\"color\": \"#F1C400\"}, \"name\": \"Belgium\", \"type\": \"scatter\", \"x\": [-42, -41, -40, -39, -38, -37, -36, -35, -34, -33, -32, -31, -30, -29, -28, -27, -26, -25, -24, -23, -22, -21, -20, -19, -18, -17, -16, -15, -14, -13, -12, -11, -10, -9, -8, -7, -6, -5, -4, -3, -2, -1, 0, 1, 2, 3, 4, 5, 6, 7, 8, 9, 10, 11, 12, 13, 14, 15, 16, 17, 18, 19, 20, 21, 22, 23, 24, 25, 26, 27, 28], \"y\": [0, 0, 0, 0, 0, 0, 0, 0, 0, 0, 0, 0, 1, 1, 1, 1, 1, 1, 1, 1, 1, 1, 1, 1, 1, 1, 1, 1, 1, 1, 1, 1, 1, 1, 1, 1, 1, 1, 2, 8, 13, 23, 50, 109, 169, 200, 239, 267, 314, 314, 559, 689, 886, 1058, 1243, 1486, 1795, 2257, 2815, 3401, 3743, 4269, 4937, 6235, 7284, 9134, 10836, 11899, 12775, 13964, 15348]}, {\"hoverinfo\": \"text+y\", \"hoverlabel\": {\"bgcolor\": \"white\", \"bordercolor\": \"#F1C400\", \"font\": {\"color\": \"#F1C400\"}}, \"hovertext\": \"Belgium\", \"marker\": {\"color\": \"#F1C400\"}, \"name\": \"Belgium\", \"showlegend\": false, \"type\": \"scatter\", \"visible\": false, \"x\": [-42, -41, -40, -39, -38, -37, -36, -35, -34, -33, -32, -31, -30, -29, -28, -27, -26, -25, -24, -23, -22, -21, -20, -19, -18, -17, -16, -15, -14, -13, -12, -11, -10, -9, -8, -7, -6, -5, -4, -3, -2, -1, 0, 1, 2, 3, 4, 5, 6, 7, 8, 9, 10, 11, 12, 13, 14, 15, 16, 17, 18, 19, 20, 21, 22, 23, 24, 25, 26, 27, 28], \"y\": [0, 0, 0, 0, 0, 0, 0, 0, 0, 0, 0, 0, 0, 0, 0, 0, 0, 0, 0, 0, 0, 0, 0, 0, 0, 0, 0, 0, 0, 0, 0, 0, 0, 0, 0, 0, 0, 0, 0, 0, 0, 0, 0, 0, 0, 0, 0, 0, 3, 3, 3, 4, 4, 5, 10, 14, 21, 37, 67, 75, 88, 122, 178, 220, 289, 353, 431, 513, 705, 828, 1011]}],\n",
       "                        {\"annotations\": [{\"font\": {\"color\": \"#002D72\", \"family\": \"Gentona, Tahoma, sans-serif\", \"size\": 24}, \"showarrow\": false, \"text\": \"Cases for the current 10 most affected countries\", \"x\": 0.02, \"xref\": \"paper\", \"y\": 1.2, \"yref\": \"paper\"}, {\"font\": {\"color\": \"grey\", \"family\": \"Gentona, Tahoma, sans-serif\", \"size\": 18}, \"showarrow\": false, \"text\": \"Time series by days since outbreak started\", \"x\": 0.02, \"xref\": \"paper\", \"y\": 1.1, \"yref\": \"paper\"}], \"font\": {\"color\": \"dimgray\", \"family\": \"Gentona, Tahoma, sans-serif\", \"size\": 12}, \"height\": 500, \"hovermode\": \"closest\", \"legend\": {\"x\": 1.03, \"y\": 0.7}, \"template\": {\"data\": {\"bar\": [{\"error_x\": {\"color\": \"#2a3f5f\"}, \"error_y\": {\"color\": \"#2a3f5f\"}, \"marker\": {\"line\": {\"color\": \"#E5ECF6\", \"width\": 0.5}}, \"type\": \"bar\"}], \"barpolar\": [{\"marker\": {\"line\": {\"color\": \"#E5ECF6\", \"width\": 0.5}}, \"type\": \"barpolar\"}], \"carpet\": [{\"aaxis\": {\"endlinecolor\": \"#2a3f5f\", \"gridcolor\": \"white\", \"linecolor\": \"white\", \"minorgridcolor\": \"white\", \"startlinecolor\": \"#2a3f5f\"}, \"baxis\": {\"endlinecolor\": \"#2a3f5f\", \"gridcolor\": \"white\", \"linecolor\": \"white\", \"minorgridcolor\": \"white\", \"startlinecolor\": \"#2a3f5f\"}, \"type\": \"carpet\"}], \"choropleth\": [{\"colorbar\": {\"outlinewidth\": 0, \"ticks\": \"\"}, \"type\": \"choropleth\"}], \"contour\": [{\"colorbar\": {\"outlinewidth\": 0, \"ticks\": \"\"}, \"colorscale\": [[0.0, \"#0d0887\"], [0.1111111111111111, \"#46039f\"], [0.2222222222222222, \"#7201a8\"], [0.3333333333333333, \"#9c179e\"], [0.4444444444444444, \"#bd3786\"], [0.5555555555555556, \"#d8576b\"], [0.6666666666666666, \"#ed7953\"], [0.7777777777777778, \"#fb9f3a\"], [0.8888888888888888, \"#fdca26\"], [1.0, \"#f0f921\"]], \"type\": \"contour\"}], \"contourcarpet\": [{\"colorbar\": {\"outlinewidth\": 0, \"ticks\": \"\"}, \"type\": \"contourcarpet\"}], \"heatmap\": [{\"colorbar\": {\"outlinewidth\": 0, \"ticks\": \"\"}, \"colorscale\": [[0.0, \"#0d0887\"], [0.1111111111111111, \"#46039f\"], [0.2222222222222222, \"#7201a8\"], [0.3333333333333333, \"#9c179e\"], [0.4444444444444444, \"#bd3786\"], [0.5555555555555556, \"#d8576b\"], [0.6666666666666666, \"#ed7953\"], [0.7777777777777778, \"#fb9f3a\"], [0.8888888888888888, \"#fdca26\"], [1.0, \"#f0f921\"]], \"type\": \"heatmap\"}], \"heatmapgl\": [{\"colorbar\": {\"outlinewidth\": 0, \"ticks\": \"\"}, \"colorscale\": [[0.0, \"#0d0887\"], [0.1111111111111111, \"#46039f\"], [0.2222222222222222, \"#7201a8\"], [0.3333333333333333, \"#9c179e\"], [0.4444444444444444, \"#bd3786\"], [0.5555555555555556, \"#d8576b\"], [0.6666666666666666, \"#ed7953\"], [0.7777777777777778, \"#fb9f3a\"], [0.8888888888888888, \"#fdca26\"], [1.0, \"#f0f921\"]], \"type\": \"heatmapgl\"}], \"histogram\": [{\"marker\": {\"colorbar\": {\"outlinewidth\": 0, \"ticks\": \"\"}}, \"type\": \"histogram\"}], \"histogram2d\": [{\"colorbar\": {\"outlinewidth\": 0, \"ticks\": \"\"}, \"colorscale\": [[0.0, \"#0d0887\"], [0.1111111111111111, \"#46039f\"], [0.2222222222222222, \"#7201a8\"], [0.3333333333333333, \"#9c179e\"], [0.4444444444444444, \"#bd3786\"], [0.5555555555555556, \"#d8576b\"], [0.6666666666666666, \"#ed7953\"], [0.7777777777777778, \"#fb9f3a\"], [0.8888888888888888, \"#fdca26\"], [1.0, \"#f0f921\"]], \"type\": \"histogram2d\"}], \"histogram2dcontour\": [{\"colorbar\": {\"outlinewidth\": 0, \"ticks\": \"\"}, \"colorscale\": [[0.0, \"#0d0887\"], [0.1111111111111111, \"#46039f\"], [0.2222222222222222, \"#7201a8\"], [0.3333333333333333, \"#9c179e\"], [0.4444444444444444, \"#bd3786\"], [0.5555555555555556, \"#d8576b\"], [0.6666666666666666, \"#ed7953\"], [0.7777777777777778, \"#fb9f3a\"], [0.8888888888888888, \"#fdca26\"], [1.0, \"#f0f921\"]], \"type\": \"histogram2dcontour\"}], \"mesh3d\": [{\"colorbar\": {\"outlinewidth\": 0, \"ticks\": \"\"}, \"type\": \"mesh3d\"}], \"parcoords\": [{\"line\": {\"colorbar\": {\"outlinewidth\": 0, \"ticks\": \"\"}}, \"type\": \"parcoords\"}], \"pie\": [{\"automargin\": true, \"type\": \"pie\"}], \"scatter\": [{\"marker\": {\"colorbar\": {\"outlinewidth\": 0, \"ticks\": \"\"}}, \"type\": \"scatter\"}], \"scatter3d\": [{\"line\": {\"colorbar\": {\"outlinewidth\": 0, \"ticks\": \"\"}}, \"marker\": {\"colorbar\": {\"outlinewidth\": 0, \"ticks\": \"\"}}, \"type\": \"scatter3d\"}], \"scattercarpet\": [{\"marker\": {\"colorbar\": {\"outlinewidth\": 0, \"ticks\": \"\"}}, \"type\": \"scattercarpet\"}], \"scattergeo\": [{\"marker\": {\"colorbar\": {\"outlinewidth\": 0, \"ticks\": \"\"}}, \"type\": \"scattergeo\"}], \"scattergl\": [{\"marker\": {\"colorbar\": {\"outlinewidth\": 0, \"ticks\": \"\"}}, \"type\": \"scattergl\"}], \"scattermapbox\": [{\"marker\": {\"colorbar\": {\"outlinewidth\": 0, \"ticks\": \"\"}}, \"type\": \"scattermapbox\"}], \"scatterpolar\": [{\"marker\": {\"colorbar\": {\"outlinewidth\": 0, \"ticks\": \"\"}}, \"type\": \"scatterpolar\"}], \"scatterpolargl\": [{\"marker\": {\"colorbar\": {\"outlinewidth\": 0, \"ticks\": \"\"}}, \"type\": \"scatterpolargl\"}], \"scatterternary\": [{\"marker\": {\"colorbar\": {\"outlinewidth\": 0, \"ticks\": \"\"}}, \"type\": \"scatterternary\"}], \"surface\": [{\"colorbar\": {\"outlinewidth\": 0, \"ticks\": \"\"}, \"colorscale\": [[0.0, \"#0d0887\"], [0.1111111111111111, \"#46039f\"], [0.2222222222222222, \"#7201a8\"], [0.3333333333333333, \"#9c179e\"], [0.4444444444444444, \"#bd3786\"], [0.5555555555555556, \"#d8576b\"], [0.6666666666666666, \"#ed7953\"], [0.7777777777777778, \"#fb9f3a\"], [0.8888888888888888, \"#fdca26\"], [1.0, \"#f0f921\"]], \"type\": \"surface\"}], \"table\": [{\"cells\": {\"fill\": {\"color\": \"#EBF0F8\"}, \"line\": {\"color\": \"white\"}}, \"header\": {\"fill\": {\"color\": \"#C8D4E3\"}, \"line\": {\"color\": \"white\"}}, \"type\": \"table\"}]}, \"layout\": {\"annotationdefaults\": {\"arrowcolor\": \"#2a3f5f\", \"arrowhead\": 0, \"arrowwidth\": 1}, \"coloraxis\": {\"colorbar\": {\"outlinewidth\": 0, \"ticks\": \"\"}}, \"colorscale\": {\"diverging\": [[0, \"#8e0152\"], [0.1, \"#c51b7d\"], [0.2, \"#de77ae\"], [0.3, \"#f1b6da\"], [0.4, \"#fde0ef\"], [0.5, \"#f7f7f7\"], [0.6, \"#e6f5d0\"], [0.7, \"#b8e186\"], [0.8, \"#7fbc41\"], [0.9, \"#4d9221\"], [1, \"#276419\"]], \"sequential\": [[0.0, \"#0d0887\"], [0.1111111111111111, \"#46039f\"], [0.2222222222222222, \"#7201a8\"], [0.3333333333333333, \"#9c179e\"], [0.4444444444444444, \"#bd3786\"], [0.5555555555555556, \"#d8576b\"], [0.6666666666666666, \"#ed7953\"], [0.7777777777777778, \"#fb9f3a\"], [0.8888888888888888, \"#fdca26\"], [1.0, \"#f0f921\"]], \"sequentialminus\": [[0.0, \"#0d0887\"], [0.1111111111111111, \"#46039f\"], [0.2222222222222222, \"#7201a8\"], [0.3333333333333333, \"#9c179e\"], [0.4444444444444444, \"#bd3786\"], [0.5555555555555556, \"#d8576b\"], [0.6666666666666666, \"#ed7953\"], [0.7777777777777778, \"#fb9f3a\"], [0.8888888888888888, \"#fdca26\"], [1.0, \"#f0f921\"]]}, \"colorway\": [\"#636efa\", \"#EF553B\", \"#00cc96\", \"#ab63fa\", \"#FFA15A\", \"#19d3f3\", \"#FF6692\", \"#B6E880\", \"#FF97FF\", \"#FECB52\"], \"font\": {\"color\": \"#2a3f5f\"}, \"geo\": {\"bgcolor\": \"white\", \"lakecolor\": \"white\", \"landcolor\": \"#E5ECF6\", \"showlakes\": true, \"showland\": true, \"subunitcolor\": \"white\"}, \"hoverlabel\": {\"align\": \"left\"}, \"hovermode\": \"closest\", \"mapbox\": {\"style\": \"light\"}, \"paper_bgcolor\": \"white\", \"plot_bgcolor\": \"#E5ECF6\", \"polar\": {\"angularaxis\": {\"gridcolor\": \"white\", \"linecolor\": \"white\", \"ticks\": \"\"}, \"bgcolor\": \"#E5ECF6\", \"radialaxis\": {\"gridcolor\": \"white\", \"linecolor\": \"white\", \"ticks\": \"\"}}, \"scene\": {\"xaxis\": {\"backgroundcolor\": \"#E5ECF6\", \"gridcolor\": \"white\", \"gridwidth\": 2, \"linecolor\": \"white\", \"showbackground\": true, \"ticks\": \"\", \"zerolinecolor\": \"white\"}, \"yaxis\": {\"backgroundcolor\": \"#E5ECF6\", \"gridcolor\": \"white\", \"gridwidth\": 2, \"linecolor\": \"white\", \"showbackground\": true, \"ticks\": \"\", \"zerolinecolor\": \"white\"}, \"zaxis\": {\"backgroundcolor\": \"#E5ECF6\", \"gridcolor\": \"white\", \"gridwidth\": 2, \"linecolor\": \"white\", \"showbackground\": true, \"ticks\": \"\", \"zerolinecolor\": \"white\"}}, \"shapedefaults\": {\"line\": {\"color\": \"#2a3f5f\"}}, \"ternary\": {\"aaxis\": {\"gridcolor\": \"white\", \"linecolor\": \"white\", \"ticks\": \"\"}, \"baxis\": {\"gridcolor\": \"white\", \"linecolor\": \"white\", \"ticks\": \"\"}, \"bgcolor\": \"#E5ECF6\", \"caxis\": {\"gridcolor\": \"white\", \"linecolor\": \"white\", \"ticks\": \"\"}}, \"title\": {\"x\": 0.05}, \"xaxis\": {\"automargin\": true, \"gridcolor\": \"white\", \"linecolor\": \"white\", \"ticks\": \"\", \"title\": {\"standoff\": 15}, \"zerolinecolor\": \"white\", \"zerolinewidth\": 2}, \"yaxis\": {\"automargin\": true, \"gridcolor\": \"white\", \"linecolor\": \"white\", \"ticks\": \"\", \"title\": {\"standoff\": 15}, \"zerolinecolor\": \"white\", \"zerolinewidth\": 2}}}, \"updatemenus\": [{\"buttons\": [{\"args\": [\"yaxis.type\", \"linear\"], \"label\": \"Linear\", \"method\": \"relayout\"}, {\"args\": [\"yaxis.type\", \"log\"], \"label\": \"Logarithmic\", \"method\": \"relayout\"}], \"direction\": \"down\", \"pad\": {\"r\": 10, \"t\": 10}, \"showactive\": true, \"x\": 1.025, \"xanchor\": \"left\", \"y\": 1.0, \"yanchor\": \"top\"}, {\"buttons\": [{\"args\": [{\"showlegend\": true, \"visible\": [true, false, true, false, true, false, true, false, true, false, true, false, true, false, true, false, true, false, true, false]}], \"label\": \"Confirmed   \", \"method\": \"restyle\"}, {\"args\": [{\"showlegend\": true, \"visible\": [false, true, false, true, false, true, false, true, false, true, false, true, false, true, false, true, false, true, false, true]}], \"label\": \"Deaths\", \"method\": \"restyle\"}], \"direction\": \"down\", \"pad\": {\"r\": 10, \"t\": 10}, \"showactive\": true, \"x\": 1.025, \"xanchor\": \"left\", \"y\": 0.88, \"yanchor\": \"top\"}], \"width\": 800, \"xaxis\": {\"nticks\": 10, \"rangemode\": \"nonnegative\", \"showgrid\": false, \"title\": {\"text\": \"Days since 50th case confirmed\"}, \"zeroline\": false}, \"yaxis\": {\"title\": {\"text\": \"Number of Cases\"}, \"type\": \"linear\"}},\n",
       "                        {\"responsive\": true}\n",
       "                    ).then(function(){\n",
       "                            \n",
       "var gd = document.getElementById('95e39334-7203-4322-9d44-fc58acc1ddf9');\n",
       "var x = new MutationObserver(function (mutations, observer) {{\n",
       "        var display = window.getComputedStyle(gd).display;\n",
       "        if (!display || display === 'none') {{\n",
       "            console.log([gd, 'removed!']);\n",
       "            Plotly.purge(gd);\n",
       "            observer.disconnect();\n",
       "        }}\n",
       "}});\n",
       "\n",
       "// Listen for the removal of the full notebook cells\n",
       "var notebookContainer = gd.closest('#notebook-container');\n",
       "if (notebookContainer) {{\n",
       "    x.observe(notebookContainer, {childList: true});\n",
       "}}\n",
       "\n",
       "// Listen for the clearing of the current output cell\n",
       "var outputEl = gd.closest('.output');\n",
       "if (outputEl) {{\n",
       "    x.observe(outputEl, {childList: true});\n",
       "}}\n",
       "\n",
       "                        })\n",
       "                };\n",
       "                });\n",
       "            </script>\n",
       "        </div>"
      ]
     },
     "metadata": {},
     "output_type": "display_data"
    }
   ],
   "source": [
    "# Plot timeline confirmed top ten countries\n",
    "\n",
    "# Plot\n",
    "\n",
    "data = []\n",
    "for i, c in enumerate(top10_country):\n",
    "    data.append(go.Scatter(x = df_merged[df_merged['Country/Region'] == c].days_since_50th_conf,\n",
    "                           y = df_merged[df_merged['Country/Region'] == c].confirmed,\n",
    "                           name = c,\n",
    "                           marker = dict(color = top10_col[i]),\n",
    "                           hoverinfo = 'text+y',\n",
    "                           hovertext = c,\n",
    "                           hoverlabel = dict(bordercolor = top10_col[i], \n",
    "                                 bgcolor = 'white', \n",
    "                                 font = dict(color = top10_col[i])),\n",
    "                          ))\n",
    "    data.append(go.Scatter(x = df_merged[df_merged['Country/Region'] == c].days_since_50th_conf,\n",
    "                           y = df_merged[df_merged['Country/Region'] == c].deaths,\n",
    "                           name = c,\n",
    "                           marker = dict(color = top10_col[i]),\n",
    "                           hoverinfo = 'text+y',\n",
    "                           hovertext = c,\n",
    "                           hoverlabel = dict(bordercolor = top10_col[i], \n",
    "                                 bgcolor = 'white', \n",
    "                                 font = dict(color = top10_col[i])),\n",
    "                           showlegend = False,\n",
    "                           visible = False\n",
    "                          ))\n",
    "\n",
    "conf_visible = [True, False, True, False, True, False, True, False, True, False, \n",
    "                True, False, True, False, True, False, True, False, True, False] \n",
    "death_visible = [False, True, False, True, False, True, False, True, False, True, \n",
    "                 False, True, False, True, False, True, False, True, False, True]\n",
    "\n",
    "lay = go.Layout(width = 800, \n",
    "                height = 500, \n",
    "                #bargap = 0.2,\n",
    "                xaxis = dict(title='Days since 50th case confirmed',\n",
    "                             nticks = 10,\n",
    "                             rangemode = 'nonnegative',\n",
    "                             zeroline = False,\n",
    "                             showgrid = False,\n",
    "                            ),\n",
    "                yaxis = dict(title='Number of Cases',\n",
    "                             type = 'linear',\n",
    "                            ),\n",
    "                hovermode = 'closest',\n",
    "                font = dict(size = label_size,\n",
    "                            family = label_font,\n",
    "                            color = label_col,\n",
    "                           ),\n",
    "                legend = dict(x = 1.03, \n",
    "                              y = 0.7),\n",
    "                annotations=[dict(x = 0.02,\n",
    "                                  y = 1.2,\n",
    "                                  showarrow = False,\n",
    "                                  text = 'Cases for the current 10 most affected countries',\n",
    "                                  xref = 'paper',\n",
    "                                  yref = 'paper',\n",
    "                                  font=dict(\n",
    "                                      family = title_font,\n",
    "                                      size = title_size,\n",
    "                                      color = title_col,),\n",
    "                                 ),\n",
    "                             dict(x = 0.02,\n",
    "                                  y = 1.1,\n",
    "                                  showarrow = False,\n",
    "                                  text = 'Time series by days since outbreak started',\n",
    "                                  xref = 'paper',\n",
    "                                  yref = 'paper',\n",
    "                                  font=dict(\n",
    "                                      family = subtitle_font,\n",
    "                                      size = subtitle_size,\n",
    "                                      color = subtitle_col,),\n",
    "                                 ),\n",
    "                            ],\n",
    "                updatemenus=[dict(buttons=list([dict(args = [\"yaxis.type\", 'linear'],\n",
    "                                                     label = 'Linear',\n",
    "                                                     method = 'relayout'\n",
    "                                                    ),\n",
    "                                                dict(\n",
    "                                                    args = [\"yaxis.type\", 'log'],\n",
    "                                                    label = 'Logarithmic',\n",
    "                                                    method = 'relayout'\n",
    "                                                )\n",
    "                                               ]),\n",
    "                                  direction = \"down\",\n",
    "                                  pad = {\"r\": 10, \"t\": 10},\n",
    "                                  showactive = True,\n",
    "                                  x = 1.025,\n",
    "                                  xanchor = 'left',\n",
    "                                  y = 1.00,\n",
    "                                  yanchor = 'top'\n",
    "                                 ),\n",
    "                             dict(buttons=list([dict(args = [{'visible': conf_visible, 'showlegend' : True }],\n",
    "                                                     label = 'Confirmed   ',\n",
    "                                                     method = 'restyle'\n",
    "                                                    ),\n",
    "                                                dict(args = [{'visible': death_visible, 'showlegend' : True }],\n",
    "                                                     label = 'Deaths',\n",
    "                                                     method = 'restyle'\n",
    "                                                    ),\n",
    "                                               ]),\n",
    "                                  direction = \"down\",\n",
    "                                  pad = {\"r\": 10, \"t\": 10},\n",
    "                                  showactive = True,\n",
    "                                  x = 1.025,\n",
    "                                  xanchor = 'left',\n",
    "                                  y = 0.88,\n",
    "                                  yanchor = 'top'\n",
    "                                 ),\n",
    "                            ]\n",
    "               )\n",
    "\n",
    "\n",
    "fig = dict(data=data, layout=lay)\n",
    "plotly.offline.iplot(fig)"
   ]
  },
  {
   "cell_type": "code",
   "execution_count": null,
   "metadata": {},
   "outputs": [],
   "source": []
  }
 ],
 "metadata": {
  "kernelspec": {
   "display_name": "Python 3",
   "language": "python",
   "name": "python3"
  },
  "language_info": {
   "codemirror_mode": {
    "name": "ipython",
    "version": 3
   },
   "file_extension": ".py",
   "mimetype": "text/x-python",
   "name": "python",
   "nbconvert_exporter": "python",
   "pygments_lexer": "ipython3",
   "version": "3.7.3"
  }
 },
 "nbformat": 4,
 "nbformat_minor": 4
}
